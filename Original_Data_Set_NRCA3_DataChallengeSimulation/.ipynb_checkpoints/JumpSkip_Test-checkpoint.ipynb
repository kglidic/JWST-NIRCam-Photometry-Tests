{
 "cells": [
  {
   "cell_type": "markdown",
   "id": "cefd0974",
   "metadata": {},
   "source": [
    "# $\\textbf{Import Library}$ "
   ]
  },
  {
   "cell_type": "code",
   "execution_count": 27,
   "id": "8df007c5",
   "metadata": {},
   "outputs": [
    {
     "name": "stdout",
     "output_type": "stream",
     "text": [
      "1.3.1\n",
      "[matplotlib.pyplot:DEBUG] Loaded backend module://matplotlib_inline.backend_inline version unknown.\n"
     ]
    }
   ],
   "source": [
    "import os\n",
    "#os.environ['CRDS_PATH'] = '/fenrirdata1/kg_data/crds_cache/' #These pathways should be defined in your ~./bash profile. If not, you can set them within the notebook.\n",
    "#os.environ['CRDS_SERVER_URL']= 'https://jwst-crds.stsci.edu'\n",
    "os.environ['CRDS_CONTEXT']='jwst_0756.pmap' #Occasionally, the JWST CRDS pmap will be updated. Updates may break existing code. Use this command to revert to an older working verison until the issue is fixed. \n",
    "\n",
    "\n",
    "import jwst\n",
    "print(jwst.__version__) #Print what version of the pipeline you are using.\n",
    "\n",
    "from jwst.pipeline.calwebb_detector1 import Detector1Pipeline #Stage 1\n",
    "from jwst.pipeline.calwebb_image2 import Image2Pipeline #Stage 2\n",
    "from jwst.pipeline.calwebb_tso3 import Tso3Pipeline #Stage 3\n",
    "from jwst.associations.asn_from_list import asn_from_list #Association file imports\n",
    "from jwst.associations.lib.rules_level2_base import DMSLevel2bBase\n",
    "\n",
    "#General\n",
    "from astropy.io import fits, ascii\n",
    "import matplotlib.pyplot as plt\n",
    "import csv\n",
    "import numpy as np\n",
    "import ref_pixels\n",
    "import asdf\n",
    "import astropy.units as u\n",
    "import glob\n",
    "import time\n",
    "import yaml\n",
    "%matplotlib inline\n",
    "\n",
    "from tshirt.pipeline import phot_pipeline #tshirt specific imports\n",
    "from splintegrate import splintegrate\n",
    "\n",
    "#Style Choice\n",
    "class style:\n",
    "   BOLD = '\\033[1m'\n",
    "   END = '\\033[0m'"
   ]
  },
  {
   "cell_type": "markdown",
   "id": "b34bfadd",
   "metadata": {},
   "source": [
    "# $\\textbf{Stage 1}$\n",
    "### $\\textbf{Detector-level corrections and ramp fitting for individual exposures.}$\n",
    "Stage 1 consists of detector-level corrections that are performed on a group-by-group basis, followed by ramp fitting.\n",
    "The output of stage 1 processing is a countrate image per exposure, or per integration for some modes.\n",
    "\n",
    "#### $\\textbf{Detector1Pipeline:}$\n",
    "Apply all calibration steps to raw JWST ramps to produce a 2-D slope product. This stage takes care of basic data reduction steps, such as reference pixel correction, superbias subtraction, removal of non-linearity, and flagging of cosmic rays. In the final step in this stage of the pipeline, line-fitting is performed on each integration. A slope image is created for each integration. The steps in this stage are identical for all data.\n",
    "\n",
    "There are two general configurations for this pipeline, depending on whether the data are to be treated as a Time Series Observation (TSO). The configuration is provided by CRDS reference file mappings and are usually set by default to always give access to the most recent reference file deliveries and selection rules. For TSO exposures, <mark>some steps are set to be skipped by default</mark>:\n",
    "\n",
    "- The <mark>$\\textbf{ipc}$</mark> step corrects a JWST exposure for interpixel capacitance by convolving with an IPC reference image.\n",
    "- The <mark>$\\textbf{persistence}$</mark> step. Based on a model, this step computes the number of traps that are expected to have captured or released a charge during an exposure. The released charge is proportional to the persistence signal, and this will be subtracted (group by group) from the science data. \n",
    "\n",
    "$\\textbf{INPUT FILES:}$\n",
    "Exposure raw data products are designated by a file name suffix of “uncal.” These files usually contain only the raw detector pixel values from an exposure, with the addition of some table extensions containing various types of meta data associated with the exposure. Additional extensions can be included for certain instruments and readout types. Below are header modifications to the \"uncal\" fits files. "
   ]
  },
  {
   "cell_type": "code",
   "execution_count": 13,
   "id": "e7638dba",
   "metadata": {},
   "outputs": [
    {
     "name": "stderr",
     "output_type": "stream",
     "text": [
      "[py.warnings:WARNING] /tmp/ipykernel_335294/1732377619.py:5: ResourceWarning: unclosed file <_io.FileIO name='/home/kglidic/Software/Data_Challenge_Simulation_Pipeline_test/Original_Data_Set_NRCA3_DataChallengeSimulation/Raw_Data/jw00042001001_01101_00001-seg003_nrca3_uncal.fits' mode='rb' closefd=True>\n",
      "  HDUList = fits.open(fitsName)\n",
      "\n"
     ]
    }
   ],
   "source": [
    "#Adding header modifications\n",
    "all_uncal_files = [] # All Uncalibrated File Names. Also use to check that all files have been modified by the loop. \n",
    "BaseDirectory = '/home/kglidic/Software/Data_Challenge_Simulation_Pipeline_test/Original_Data_Set_NRCA3_DataChallengeSimulation/Raw_Data/'\n",
    "for fitsName in glob.glob(BaseDirectory + '*seg013_nrca3_uncal.fits'): #Grabbing only nrca3 files from the directory\n",
    "    HDUList = fits.open(fitsName)\n",
    "    HDUList[0].header['NOUTPUTS'] = (4, 'Number of output amplifiers') #This was not input at the time of the simulation. Therefore, we manually must input this information. \n",
    "    HDUList[1].header['XREF_SCI'] = (1055.0, 'Aperture X reference point in SCI frame') #Fix x-position centering\n",
    "    HDUList[1].header['YREF_SCI'] = (23.0, 'Aperture Y reference point in SCI frame') #Fix the y-position centering\n",
    "    HDUList.close()\n",
    "    all_uncal_files.append(fitsName)\n",
    "    \n",
    "all_uncal_files = sorted(all_uncal_files) #sort files alphabetically. "
   ]
  },
  {
   "cell_type": "code",
   "execution_count": 15,
   "id": "d77fab3a",
   "metadata": {},
   "outputs": [
    {
     "name": "stderr",
     "output_type": "stream",
     "text": [
      "2021-09-29 12:45:13,395 - stpipe.Detector1Pipeline - INFO - Detector1Pipeline instance created.\n"
     ]
    },
    {
     "name": "stdout",
     "output_type": "stream",
     "text": [
      "[stpipe.Detector1Pipeline:INFO] Detector1Pipeline instance created.\n"
     ]
    },
    {
     "name": "stderr",
     "output_type": "stream",
     "text": [
      "2021-09-29 12:45:13,421 - stpipe.Detector1Pipeline.group_scale - INFO - GroupScaleStep instance created.\n"
     ]
    },
    {
     "name": "stdout",
     "output_type": "stream",
     "text": [
      "[stpipe.Detector1Pipeline.group_scale:INFO] GroupScaleStep instance created.\n"
     ]
    },
    {
     "name": "stderr",
     "output_type": "stream",
     "text": [
      "2021-09-29 12:45:13,434 - stpipe.Detector1Pipeline.dq_init - INFO - DQInitStep instance created.\n"
     ]
    },
    {
     "name": "stdout",
     "output_type": "stream",
     "text": [
      "[stpipe.Detector1Pipeline.dq_init:INFO] DQInitStep instance created.\n"
     ]
    },
    {
     "name": "stderr",
     "output_type": "stream",
     "text": [
      "2021-09-29 12:45:13,443 - stpipe.Detector1Pipeline.saturation - INFO - SaturationStep instance created.\n"
     ]
    },
    {
     "name": "stdout",
     "output_type": "stream",
     "text": [
      "[stpipe.Detector1Pipeline.saturation:INFO] SaturationStep instance created.\n"
     ]
    },
    {
     "name": "stderr",
     "output_type": "stream",
     "text": [
      "2021-09-29 12:45:13,450 - stpipe.Detector1Pipeline.ipc - INFO - IPCStep instance created.\n"
     ]
    },
    {
     "name": "stdout",
     "output_type": "stream",
     "text": [
      "[stpipe.Detector1Pipeline.ipc:INFO] IPCStep instance created.\n"
     ]
    },
    {
     "name": "stderr",
     "output_type": "stream",
     "text": [
      "2021-09-29 12:45:13,454 - stpipe.Detector1Pipeline.superbias - INFO - SuperBiasStep instance created.\n"
     ]
    },
    {
     "name": "stdout",
     "output_type": "stream",
     "text": [
      "[stpipe.Detector1Pipeline.superbias:INFO] SuperBiasStep instance created.\n"
     ]
    },
    {
     "name": "stderr",
     "output_type": "stream",
     "text": [
      "2021-09-29 12:45:13,458 - stpipe.Detector1Pipeline.refpix - INFO - RefPixStep instance created.\n"
     ]
    },
    {
     "name": "stdout",
     "output_type": "stream",
     "text": [
      "[stpipe.Detector1Pipeline.refpix:INFO] RefPixStep instance created.\n"
     ]
    },
    {
     "name": "stderr",
     "output_type": "stream",
     "text": [
      "2021-09-29 12:45:13,473 - stpipe.Detector1Pipeline.rscd - INFO - RscdStep instance created.\n"
     ]
    },
    {
     "name": "stdout",
     "output_type": "stream",
     "text": [
      "[stpipe.Detector1Pipeline.rscd:INFO] RscdStep instance created.\n"
     ]
    },
    {
     "name": "stderr",
     "output_type": "stream",
     "text": [
      "2021-09-29 12:45:13,478 - stpipe.Detector1Pipeline.firstframe - INFO - FirstFrameStep instance created.\n"
     ]
    },
    {
     "name": "stdout",
     "output_type": "stream",
     "text": [
      "[stpipe.Detector1Pipeline.firstframe:INFO] FirstFrameStep instance created.\n"
     ]
    },
    {
     "name": "stderr",
     "output_type": "stream",
     "text": [
      "2021-09-29 12:45:13,488 - stpipe.Detector1Pipeline.lastframe - INFO - LastFrameStep instance created.\n"
     ]
    },
    {
     "name": "stdout",
     "output_type": "stream",
     "text": [
      "[stpipe.Detector1Pipeline.lastframe:INFO] LastFrameStep instance created.\n"
     ]
    },
    {
     "name": "stderr",
     "output_type": "stream",
     "text": [
      "2021-09-29 12:45:13,493 - stpipe.Detector1Pipeline.linearity - INFO - LinearityStep instance created.\n"
     ]
    },
    {
     "name": "stdout",
     "output_type": "stream",
     "text": [
      "[stpipe.Detector1Pipeline.linearity:INFO] LinearityStep instance created.\n"
     ]
    },
    {
     "name": "stderr",
     "output_type": "stream",
     "text": [
      "2021-09-29 12:45:13,501 - stpipe.Detector1Pipeline.dark_current - INFO - DarkCurrentStep instance created.\n"
     ]
    },
    {
     "name": "stdout",
     "output_type": "stream",
     "text": [
      "[stpipe.Detector1Pipeline.dark_current:INFO] DarkCurrentStep instance created.\n"
     ]
    },
    {
     "name": "stderr",
     "output_type": "stream",
     "text": [
      "2021-09-29 12:45:13,505 - stpipe.Detector1Pipeline.reset - INFO - ResetStep instance created.\n"
     ]
    },
    {
     "name": "stdout",
     "output_type": "stream",
     "text": [
      "[stpipe.Detector1Pipeline.reset:INFO] ResetStep instance created.\n"
     ]
    },
    {
     "name": "stderr",
     "output_type": "stream",
     "text": [
      "2021-09-29 12:45:13,516 - stpipe.Detector1Pipeline.persistence - INFO - PersistenceStep instance created.\n"
     ]
    },
    {
     "name": "stdout",
     "output_type": "stream",
     "text": [
      "[stpipe.Detector1Pipeline.persistence:INFO] PersistenceStep instance created.\n"
     ]
    },
    {
     "name": "stderr",
     "output_type": "stream",
     "text": [
      "2021-09-29 12:45:13,531 - stpipe.Detector1Pipeline.jump - INFO - JumpStep instance created.\n"
     ]
    },
    {
     "name": "stdout",
     "output_type": "stream",
     "text": [
      "[stpipe.Detector1Pipeline.jump:INFO] JumpStep instance created.\n"
     ]
    },
    {
     "name": "stderr",
     "output_type": "stream",
     "text": [
      "2021-09-29 12:45:13,537 - stpipe.Detector1Pipeline.ramp_fit - INFO - RampFitStep instance created.\n"
     ]
    },
    {
     "name": "stdout",
     "output_type": "stream",
     "text": [
      "[stpipe.Detector1Pipeline.ramp_fit:INFO] RampFitStep instance created.\n"
     ]
    },
    {
     "name": "stderr",
     "output_type": "stream",
     "text": [
      "2021-09-29 12:45:13,542 - stpipe.Detector1Pipeline.gain_scale - INFO - GainScaleStep instance created.\n"
     ]
    },
    {
     "name": "stdout",
     "output_type": "stream",
     "text": [
      "[stpipe.Detector1Pipeline.gain_scale:INFO] GainScaleStep instance created.\n"
     ]
    },
    {
     "name": "stderr",
     "output_type": "stream",
     "text": [
      "2021-09-29 12:45:16,128 - stpipe.Detector1Pipeline - INFO - Step Detector1Pipeline running with args ('/home/kglidic/Software/Data_Challenge_Simulation_Pipeline_test/Original_Data_Set_NRCA3_DataChallengeSimulation/Raw_Data/jw00042001001_01101_00001-seg013_nrca3_uncal.fits',).\n"
     ]
    },
    {
     "name": "stdout",
     "output_type": "stream",
     "text": [
      "[stpipe.Detector1Pipeline:INFO] Step Detector1Pipeline running with args ('/home/kglidic/Software/Data_Challenge_Simulation_Pipeline_test/Original_Data_Set_NRCA3_DataChallengeSimulation/Raw_Data/jw00042001001_01101_00001-seg013_nrca3_uncal.fits',).\n"
     ]
    },
    {
     "name": "stderr",
     "output_type": "stream",
     "text": [
      "2021-09-29 12:45:16,159 - stpipe.Detector1Pipeline - INFO - Step Detector1Pipeline parameters are: {'pre_hooks': [], 'post_hooks': [], 'output_file': None, 'output_dir': '/fenrirdata1/kg_data/pipeline_output/DataChallengeSimulation/JumpSkip_Test/', 'output_ext': '.fits', 'output_use_model': False, 'output_use_index': True, 'save_results': True, 'skip': False, 'suffix': None, 'search_output_file': True, 'input_dir': '', 'save_calibrated_ramp': False, 'steps': {'group_scale': {'pre_hooks': [], 'post_hooks': [], 'output_file': None, 'output_dir': None, 'output_ext': '.fits', 'output_use_model': False, 'output_use_index': True, 'save_results': False, 'skip': False, 'suffix': None, 'search_output_file': True, 'input_dir': ''}, 'dq_init': {'pre_hooks': [], 'post_hooks': [], 'output_file': None, 'output_dir': None, 'output_ext': '.fits', 'output_use_model': False, 'output_use_index': True, 'save_results': False, 'skip': False, 'suffix': None, 'search_output_file': True, 'input_dir': ''}, 'saturation': {'pre_hooks': [], 'post_hooks': [], 'output_file': None, 'output_dir': None, 'output_ext': '.fits', 'output_use_model': False, 'output_use_index': True, 'save_results': False, 'skip': False, 'suffix': None, 'search_output_file': True, 'input_dir': ''}, 'ipc': {'pre_hooks': [], 'post_hooks': [], 'output_file': None, 'output_dir': None, 'output_ext': '.fits', 'output_use_model': False, 'output_use_index': True, 'save_results': False, 'skip': True, 'suffix': None, 'search_output_file': True, 'input_dir': ''}, 'superbias': {'pre_hooks': [], 'post_hooks': [], 'output_file': None, 'output_dir': None, 'output_ext': '.fits', 'output_use_model': False, 'output_use_index': True, 'save_results': False, 'skip': False, 'suffix': None, 'search_output_file': True, 'input_dir': ''}, 'refpix': {'pre_hooks': [], 'post_hooks': [], 'output_file': None, 'output_dir': None, 'output_ext': '.fits', 'output_use_model': False, 'output_use_index': True, 'save_results': False, 'skip': False, 'suffix': None, 'search_output_file': True, 'input_dir': '', 'odd_even_columns': True, 'use_side_ref_pixels': True, 'side_smoothing_length': 11, 'side_gain': 1.0, 'odd_even_rows': True}, 'rscd': {'pre_hooks': [], 'post_hooks': [], 'output_file': None, 'output_dir': None, 'output_ext': '.fits', 'output_use_model': False, 'output_use_index': True, 'save_results': False, 'skip': False, 'suffix': None, 'search_output_file': True, 'input_dir': '', 'type': 'baseline'}, 'firstframe': {'pre_hooks': [], 'post_hooks': [], 'output_file': None, 'output_dir': None, 'output_ext': '.fits', 'output_use_model': False, 'output_use_index': True, 'save_results': False, 'skip': False, 'suffix': None, 'search_output_file': True, 'input_dir': ''}, 'lastframe': {'pre_hooks': [], 'post_hooks': [], 'output_file': None, 'output_dir': None, 'output_ext': '.fits', 'output_use_model': False, 'output_use_index': True, 'save_results': False, 'skip': False, 'suffix': None, 'search_output_file': True, 'input_dir': ''}, 'linearity': {'pre_hooks': [], 'post_hooks': [], 'output_file': None, 'output_dir': None, 'output_ext': '.fits', 'output_use_model': False, 'output_use_index': True, 'save_results': False, 'skip': False, 'suffix': None, 'search_output_file': True, 'input_dir': ''}, 'dark_current': {'pre_hooks': [], 'post_hooks': [], 'output_file': None, 'output_dir': None, 'output_ext': '.fits', 'output_use_model': False, 'output_use_index': True, 'save_results': False, 'skip': False, 'suffix': None, 'search_output_file': True, 'input_dir': '', 'dark_output': None}, 'reset': {'pre_hooks': [], 'post_hooks': [], 'output_file': None, 'output_dir': None, 'output_ext': '.fits', 'output_use_model': False, 'output_use_index': True, 'save_results': False, 'skip': False, 'suffix': None, 'search_output_file': True, 'input_dir': ''}, 'persistence': {'pre_hooks': [], 'post_hooks': [], 'output_file': None, 'output_dir': None, 'output_ext': '.fits', 'output_use_model': False, 'output_use_index': True, 'save_results': False, 'skip': True, 'suffix': None, 'search_output_file': True, 'input_dir': '', 'input_trapsfilled': '', 'flag_pers_cutoff': 40.0, 'save_persistence': False, 'save_trapsfilled': True}, 'jump': {'pre_hooks': [], 'post_hooks': [], 'output_file': None, 'output_dir': None, 'output_ext': '.fits', 'output_use_model': False, 'output_use_index': True, 'save_results': False, 'skip': True, 'suffix': None, 'search_output_file': True, 'input_dir': '', 'rejection_threshold': 4.0, 'three_group_rejection_threshold': 6.0, 'four_group_rejection_threshold': 5.0, 'maximum_cores': 'none', 'flag_4_neighbors': True, 'max_jump_to_flag_neighbors': 1000.0, 'min_jump_to_flag_neighbors': 10.0}, 'ramp_fit': {'pre_hooks': [], 'post_hooks': [], 'output_file': None, 'output_dir': None, 'output_ext': '.fits', 'output_use_model': False, 'output_use_index': True, 'save_results': False, 'skip': False, 'suffix': None, 'search_output_file': True, 'input_dir': '', 'int_name': '', 'save_opt': False, 'opt_name': '', 'maximum_cores': 'none'}, 'gain_scale': {'pre_hooks': [], 'post_hooks': [], 'output_file': None, 'output_dir': None, 'output_ext': '.fits', 'output_use_model': False, 'output_use_index': True, 'save_results': False, 'skip': False, 'suffix': None, 'search_output_file': True, 'input_dir': ''}}}\n"
     ]
    },
    {
     "name": "stdout",
     "output_type": "stream",
     "text": [
      "[stpipe.Detector1Pipeline:INFO] Step Detector1Pipeline parameters are: {'pre_hooks': [], 'post_hooks': [], 'output_file': None, 'output_dir': '/fenrirdata1/kg_data/pipeline_output/DataChallengeSimulation/JumpSkip_Test/', 'output_ext': '.fits', 'output_use_model': False, 'output_use_index': True, 'save_results': True, 'skip': False, 'suffix': None, 'search_output_file': True, 'input_dir': '', 'save_calibrated_ramp': False, 'steps': {'group_scale': {'pre_hooks': [], 'post_hooks': [], 'output_file': None, 'output_dir': None, 'output_ext': '.fits', 'output_use_model': False, 'output_use_index': True, 'save_results': False, 'skip': False, 'suffix': None, 'search_output_file': True, 'input_dir': ''}, 'dq_init': {'pre_hooks': [], 'post_hooks': [], 'output_file': None, 'output_dir': None, 'output_ext': '.fits', 'output_use_model': False, 'output_use_index': True, 'save_results': False, 'skip': False, 'suffix': None, 'search_output_file': True, 'input_dir': ''}, 'saturation': {'pre_hooks': [], 'post_hooks': [], 'output_file': None, 'output_dir': None, 'output_ext': '.fits', 'output_use_model': False, 'output_use_index': True, 'save_results': False, 'skip': False, 'suffix': None, 'search_output_file': True, 'input_dir': ''}, 'ipc': {'pre_hooks': [], 'post_hooks': [], 'output_file': None, 'output_dir': None, 'output_ext': '.fits', 'output_use_model': False, 'output_use_index': True, 'save_results': False, 'skip': True, 'suffix': None, 'search_output_file': True, 'input_dir': ''}, 'superbias': {'pre_hooks': [], 'post_hooks': [], 'output_file': None, 'output_dir': None, 'output_ext': '.fits', 'output_use_model': False, 'output_use_index': True, 'save_results': False, 'skip': False, 'suffix': None, 'search_output_file': True, 'input_dir': ''}, 'refpix': {'pre_hooks': [], 'post_hooks': [], 'output_file': None, 'output_dir': None, 'output_ext': '.fits', 'output_use_model': False, 'output_use_index': True, 'save_results': False, 'skip': False, 'suffix': None, 'search_output_file': True, 'input_dir': '', 'odd_even_columns': True, 'use_side_ref_pixels': True, 'side_smoothing_length': 11, 'side_gain': 1.0, 'odd_even_rows': True}, 'rscd': {'pre_hooks': [], 'post_hooks': [], 'output_file': None, 'output_dir': None, 'output_ext': '.fits', 'output_use_model': False, 'output_use_index': True, 'save_results': False, 'skip': False, 'suffix': None, 'search_output_file': True, 'input_dir': '', 'type': 'baseline'}, 'firstframe': {'pre_hooks': [], 'post_hooks': [], 'output_file': None, 'output_dir': None, 'output_ext': '.fits', 'output_use_model': False, 'output_use_index': True, 'save_results': False, 'skip': False, 'suffix': None, 'search_output_file': True, 'input_dir': ''}, 'lastframe': {'pre_hooks': [], 'post_hooks': [], 'output_file': None, 'output_dir': None, 'output_ext': '.fits', 'output_use_model': False, 'output_use_index': True, 'save_results': False, 'skip': False, 'suffix': None, 'search_output_file': True, 'input_dir': ''}, 'linearity': {'pre_hooks': [], 'post_hooks': [], 'output_file': None, 'output_dir': None, 'output_ext': '.fits', 'output_use_model': False, 'output_use_index': True, 'save_results': False, 'skip': False, 'suffix': None, 'search_output_file': True, 'input_dir': ''}, 'dark_current': {'pre_hooks': [], 'post_hooks': [], 'output_file': None, 'output_dir': None, 'output_ext': '.fits', 'output_use_model': False, 'output_use_index': True, 'save_results': False, 'skip': False, 'suffix': None, 'search_output_file': True, 'input_dir': '', 'dark_output': None}, 'reset': {'pre_hooks': [], 'post_hooks': [], 'output_file': None, 'output_dir': None, 'output_ext': '.fits', 'output_use_model': False, 'output_use_index': True, 'save_results': False, 'skip': False, 'suffix': None, 'search_output_file': True, 'input_dir': ''}, 'persistence': {'pre_hooks': [], 'post_hooks': [], 'output_file': None, 'output_dir': None, 'output_ext': '.fits', 'output_use_model': False, 'output_use_index': True, 'save_results': False, 'skip': True, 'suffix': None, 'search_output_file': True, 'input_dir': '', 'input_trapsfilled': '', 'flag_pers_cutoff': 40.0, 'save_persistence': False, 'save_trapsfilled': True}, 'jump': {'pre_hooks': [], 'post_hooks': [], 'output_file': None, 'output_dir': None, 'output_ext': '.fits', 'output_use_model': False, 'output_use_index': True, 'save_results': False, 'skip': True, 'suffix': None, 'search_output_file': True, 'input_dir': '', 'rejection_threshold': 4.0, 'three_group_rejection_threshold': 6.0, 'four_group_rejection_threshold': 5.0, 'maximum_cores': 'none', 'flag_4_neighbors': True, 'max_jump_to_flag_neighbors': 1000.0, 'min_jump_to_flag_neighbors': 10.0}, 'ramp_fit': {'pre_hooks': [], 'post_hooks': [], 'output_file': None, 'output_dir': None, 'output_ext': '.fits', 'output_use_model': False, 'output_use_index': True, 'save_results': False, 'skip': False, 'suffix': None, 'search_output_file': True, 'input_dir': '', 'int_name': '', 'save_opt': False, 'opt_name': '', 'maximum_cores': 'none'}, 'gain_scale': {'pre_hooks': [], 'post_hooks': [], 'output_file': None, 'output_dir': None, 'output_ext': '.fits', 'output_use_model': False, 'output_use_index': True, 'save_results': False, 'skip': False, 'suffix': None, 'search_output_file': True, 'input_dir': ''}}}\n",
      "[jwst.datamodels.util:DEBUG] Opening /home/kglidic/Software/Data_Challenge_Simulation_Pipeline_test/Original_Data_Set_NRCA3_DataChallengeSimulation/Raw_Data/jw00042001001_01101_00001-seg013_nrca3_uncal.fits as <class 'jwst.datamodels.ramp.RampModel'>\n",
      "[stdatamodels.util:DEBUG] Environmental \"STRICT_VALIDATION\" cannot be found. Using default value of \"False\".\n",
      "[stdatamodels.util:DEBUG] Environmental \"VALIDATE_ON_ASSIGNMENT\" cannot be found. Using default value of \"True\".\n",
      "[stdatamodels.util:DEBUG] Environmental \"SKIP_FITS_UPDATE\" cannot be found. Using default value of \"None\".\n"
     ]
    },
    {
     "name": "stderr",
     "output_type": "stream",
     "text": [
      "2021-09-29 12:45:20,231 - stpipe.Detector1Pipeline - INFO - Prefetching reference files for dataset: 'jw00042001001_01101_00001-seg013_nrca3_uncal.fits' reftypes = ['dark', 'gain', 'linearity', 'mask', 'readnoise', 'refpix', 'reset', 'rscd', 'saturation', 'superbias']\n"
     ]
    },
    {
     "name": "stdout",
     "output_type": "stream",
     "text": [
      "[stpipe.Detector1Pipeline:INFO] Prefetching reference files for dataset: 'jw00042001001_01101_00001-seg013_nrca3_uncal.fits' reftypes = ['dark', 'gain', 'linearity', 'mask', 'readnoise', 'refpix', 'reset', 'rscd', 'saturation', 'superbias']\n"
     ]
    },
    {
     "name": "stderr",
     "output_type": "stream",
     "text": [
      "2021-09-29 12:45:20,280 - stpipe.Detector1Pipeline - INFO - Prefetch for DARK reference file is '/fenrirdata1/kg_data/crds_cache/references/jwst/nircam/jwst_nircam_dark_0198.fits'.\n"
     ]
    },
    {
     "name": "stdout",
     "output_type": "stream",
     "text": [
      "[stpipe.Detector1Pipeline:INFO] Prefetch for DARK reference file is '/fenrirdata1/kg_data/crds_cache/references/jwst/nircam/jwst_nircam_dark_0198.fits'.\n"
     ]
    },
    {
     "name": "stderr",
     "output_type": "stream",
     "text": [
      "2021-09-29 12:45:20,284 - stpipe.Detector1Pipeline - INFO - Prefetch for GAIN reference file is '/fenrirdata1/kg_data/crds_cache/references/jwst/nircam/jwst_nircam_gain_0048.fits'.\n"
     ]
    },
    {
     "name": "stdout",
     "output_type": "stream",
     "text": [
      "[stpipe.Detector1Pipeline:INFO] Prefetch for GAIN reference file is '/fenrirdata1/kg_data/crds_cache/references/jwst/nircam/jwst_nircam_gain_0048.fits'.\n"
     ]
    },
    {
     "name": "stderr",
     "output_type": "stream",
     "text": [
      "2021-09-29 12:45:20,288 - stpipe.Detector1Pipeline - INFO - Prefetch for LINEARITY reference file is '/fenrirdata1/kg_data/crds_cache/references/jwst/nircam/jwst_nircam_linearity_0053.fits'.\n"
     ]
    },
    {
     "name": "stdout",
     "output_type": "stream",
     "text": [
      "[stpipe.Detector1Pipeline:INFO] Prefetch for LINEARITY reference file is '/fenrirdata1/kg_data/crds_cache/references/jwst/nircam/jwst_nircam_linearity_0053.fits'.\n"
     ]
    },
    {
     "name": "stderr",
     "output_type": "stream",
     "text": [
      "2021-09-29 12:45:20,293 - stpipe.Detector1Pipeline - INFO - Prefetch for MASK reference file is '/fenrirdata1/kg_data/crds_cache/references/jwst/nircam/jwst_nircam_mask_0041.fits'.\n"
     ]
    },
    {
     "name": "stdout",
     "output_type": "stream",
     "text": [
      "[stpipe.Detector1Pipeline:INFO] Prefetch for MASK reference file is '/fenrirdata1/kg_data/crds_cache/references/jwst/nircam/jwst_nircam_mask_0041.fits'.\n"
     ]
    },
    {
     "name": "stderr",
     "output_type": "stream",
     "text": [
      "2021-09-29 12:45:20,297 - stpipe.Detector1Pipeline - INFO - Prefetch for READNOISE reference file is '/fenrirdata1/kg_data/crds_cache/references/jwst/nircam/jwst_nircam_readnoise_0030.fits'.\n"
     ]
    },
    {
     "name": "stdout",
     "output_type": "stream",
     "text": [
      "[stpipe.Detector1Pipeline:INFO] Prefetch for READNOISE reference file is '/fenrirdata1/kg_data/crds_cache/references/jwst/nircam/jwst_nircam_readnoise_0030.fits'.\n"
     ]
    },
    {
     "name": "stderr",
     "output_type": "stream",
     "text": [
      "2021-09-29 12:45:20,302 - stpipe.Detector1Pipeline - INFO - Prefetch for REFPIX reference file is 'N/A'.\n"
     ]
    },
    {
     "name": "stdout",
     "output_type": "stream",
     "text": [
      "[stpipe.Detector1Pipeline:INFO] Prefetch for REFPIX reference file is 'N/A'.\n"
     ]
    },
    {
     "name": "stderr",
     "output_type": "stream",
     "text": [
      "2021-09-29 12:45:20,334 - stpipe.Detector1Pipeline - INFO - Prefetch for RESET reference file is 'N/A'.\n"
     ]
    },
    {
     "name": "stdout",
     "output_type": "stream",
     "text": [
      "[stpipe.Detector1Pipeline:INFO] Prefetch for RESET reference file is 'N/A'.\n"
     ]
    },
    {
     "name": "stderr",
     "output_type": "stream",
     "text": [
      "2021-09-29 12:45:20,337 - stpipe.Detector1Pipeline - INFO - Prefetch for RSCD reference file is 'N/A'.\n"
     ]
    },
    {
     "name": "stdout",
     "output_type": "stream",
     "text": [
      "[stpipe.Detector1Pipeline:INFO] Prefetch for RSCD reference file is 'N/A'.\n"
     ]
    },
    {
     "name": "stderr",
     "output_type": "stream",
     "text": [
      "2021-09-29 12:45:20,339 - stpipe.Detector1Pipeline - INFO - Prefetch for SATURATION reference file is '/fenrirdata1/kg_data/crds_cache/references/jwst/nircam/jwst_nircam_saturation_0067.fits'.\n"
     ]
    },
    {
     "name": "stdout",
     "output_type": "stream",
     "text": [
      "[stpipe.Detector1Pipeline:INFO] Prefetch for SATURATION reference file is '/fenrirdata1/kg_data/crds_cache/references/jwst/nircam/jwst_nircam_saturation_0067.fits'.\n"
     ]
    },
    {
     "name": "stderr",
     "output_type": "stream",
     "text": [
      "2021-09-29 12:45:20,345 - stpipe.Detector1Pipeline - INFO - Prefetch for SUPERBIAS reference file is '/fenrirdata1/kg_data/crds_cache/references/jwst/nircam/jwst_nircam_superbias_0027.fits'.\n"
     ]
    },
    {
     "name": "stdout",
     "output_type": "stream",
     "text": [
      "[stpipe.Detector1Pipeline:INFO] Prefetch for SUPERBIAS reference file is '/fenrirdata1/kg_data/crds_cache/references/jwst/nircam/jwst_nircam_superbias_0027.fits'.\n",
      "[      root:INFO] Starting calwebb_detector1 ...\n",
      "[stdatamodels.util:DEBUG] Environmental \"STRICT_VALIDATION\" cannot be found. Using default value of \"False\".\n",
      "[stdatamodels.util:DEBUG] Environmental \"VALIDATE_ON_ASSIGNMENT\" cannot be found. Using default value of \"True\".\n",
      "[stdatamodels.util:DEBUG] Environmental \"SKIP_FITS_UPDATE\" cannot be found. Using default value of \"None\".\n",
      "[      root:DEBUG] Processing a Near-IR exposure\n"
     ]
    },
    {
     "name": "stderr",
     "output_type": "stream",
     "text": [
      "2021-09-29 12:45:25,830 - stpipe.Detector1Pipeline.group_scale - INFO - Step group_scale running with args (<RampModel(152, 8, 64, 2048) from jw00042001001_01101_00001-seg013_nrca3_uncal.fits>,).\n"
     ]
    },
    {
     "name": "stdout",
     "output_type": "stream",
     "text": [
      "[stpipe.Detector1Pipeline.group_scale:INFO] Step group_scale running with args (<RampModel(152, 8, 64, 2048) from jw00042001001_01101_00001-seg013_nrca3_uncal.fits>,).\n"
     ]
    },
    {
     "name": "stderr",
     "output_type": "stream",
     "text": [
      "2021-09-29 12:45:25,833 - stpipe.Detector1Pipeline.group_scale - INFO - Step group_scale parameters are: {'pre_hooks': [], 'post_hooks': [], 'output_file': None, 'output_dir': None, 'output_ext': '.fits', 'output_use_model': False, 'output_use_index': True, 'save_results': False, 'skip': False, 'suffix': None, 'search_output_file': True, 'input_dir': '/home/kglidic/Software/Data_Challenge_Simulation_Pipeline_test/Original_Data_Set_NRCA3_DataChallengeSimulation/Raw_Data'}\n"
     ]
    },
    {
     "name": "stdout",
     "output_type": "stream",
     "text": [
      "[stpipe.Detector1Pipeline.group_scale:INFO] Step group_scale parameters are: {'pre_hooks': [], 'post_hooks': [], 'output_file': None, 'output_dir': None, 'output_ext': '.fits', 'output_use_model': False, 'output_use_index': True, 'save_results': False, 'skip': False, 'suffix': None, 'search_output_file': True, 'input_dir': '/home/kglidic/Software/Data_Challenge_Simulation_Pipeline_test/Original_Data_Set_NRCA3_DataChallengeSimulation/Raw_Data'}\n",
      "[stdatamodels.util:DEBUG] Environmental \"STRICT_VALIDATION\" cannot be found. Using default value of \"False\".\n",
      "[stdatamodels.util:DEBUG] Environmental \"VALIDATE_ON_ASSIGNMENT\" cannot be found. Using default value of \"True\".\n",
      "[stdatamodels.util:DEBUG] Environmental \"VALIDATE_ON_ASSIGNMENT\" cannot be found. Using default value of \"True\".\n"
     ]
    },
    {
     "name": "stderr",
     "output_type": "stream",
     "text": [
      "2021-09-29 12:45:26,799 - stpipe.Detector1Pipeline.group_scale - INFO - NFRAMES=1 is a power of 2; correction not needed\n"
     ]
    },
    {
     "name": "stdout",
     "output_type": "stream",
     "text": [
      "[stpipe.Detector1Pipeline.group_scale:INFO] NFRAMES=1 is a power of 2; correction not needed\n"
     ]
    },
    {
     "name": "stderr",
     "output_type": "stream",
     "text": [
      "2021-09-29 12:45:26,802 - stpipe.Detector1Pipeline.group_scale - INFO - Step will be skipped\n"
     ]
    },
    {
     "name": "stdout",
     "output_type": "stream",
     "text": [
      "[stpipe.Detector1Pipeline.group_scale:INFO] Step will be skipped\n"
     ]
    },
    {
     "name": "stderr",
     "output_type": "stream",
     "text": [
      "2021-09-29 12:45:26,805 - stpipe.Detector1Pipeline.group_scale - INFO - Step group_scale done\n"
     ]
    },
    {
     "name": "stdout",
     "output_type": "stream",
     "text": [
      "[stpipe.Detector1Pipeline.group_scale:INFO] Step group_scale done\n"
     ]
    },
    {
     "name": "stderr",
     "output_type": "stream",
     "text": [
      "2021-09-29 12:45:27,086 - stpipe.Detector1Pipeline.dq_init - INFO - Step dq_init running with args (<RampModel(152, 8, 64, 2048) from jw00042001001_01101_00001-seg013_nrca3_uncal.fits>,).\n"
     ]
    },
    {
     "name": "stdout",
     "output_type": "stream",
     "text": [
      "[stpipe.Detector1Pipeline.dq_init:INFO] Step dq_init running with args (<RampModel(152, 8, 64, 2048) from jw00042001001_01101_00001-seg013_nrca3_uncal.fits>,).\n"
     ]
    },
    {
     "name": "stderr",
     "output_type": "stream",
     "text": [
      "2021-09-29 12:45:27,091 - stpipe.Detector1Pipeline.dq_init - INFO - Step dq_init parameters are: {'pre_hooks': [], 'post_hooks': [], 'output_file': None, 'output_dir': None, 'output_ext': '.fits', 'output_use_model': False, 'output_use_index': True, 'save_results': False, 'skip': False, 'suffix': None, 'search_output_file': True, 'input_dir': '/home/kglidic/Software/Data_Challenge_Simulation_Pipeline_test/Original_Data_Set_NRCA3_DataChallengeSimulation/Raw_Data'}\n"
     ]
    },
    {
     "name": "stdout",
     "output_type": "stream",
     "text": [
      "[stpipe.Detector1Pipeline.dq_init:INFO] Step dq_init parameters are: {'pre_hooks': [], 'post_hooks': [], 'output_file': None, 'output_dir': None, 'output_ext': '.fits', 'output_use_model': False, 'output_use_index': True, 'save_results': False, 'skip': False, 'suffix': None, 'search_output_file': True, 'input_dir': '/home/kglidic/Software/Data_Challenge_Simulation_Pipeline_test/Original_Data_Set_NRCA3_DataChallengeSimulation/Raw_Data'}\n",
      "[stdatamodels.util:DEBUG] Environmental \"STRICT_VALIDATION\" cannot be found. Using default value of \"False\".\n",
      "[stdatamodels.util:DEBUG] Environmental \"VALIDATE_ON_ASSIGNMENT\" cannot be found. Using default value of \"True\".\n",
      "[stdatamodels.util:DEBUG] Environmental \"STRICT_VALIDATION\" cannot be found. Using default value of \"False\".\n",
      "[stdatamodels.util:DEBUG] Environmental \"VALIDATE_ON_ASSIGNMENT\" cannot be found. Using default value of \"True\".\n"
     ]
    },
    {
     "name": "stderr",
     "output_type": "stream",
     "text": [
      "2021-09-29 12:45:27,170 - stpipe.Detector1Pipeline.dq_init - INFO - Using MASK reference file /fenrirdata1/kg_data/crds_cache/references/jwst/nircam/jwst_nircam_mask_0041.fits\n"
     ]
    },
    {
     "name": "stdout",
     "output_type": "stream",
     "text": [
      "[stpipe.Detector1Pipeline.dq_init:INFO] Using MASK reference file /fenrirdata1/kg_data/crds_cache/references/jwst/nircam/jwst_nircam_mask_0041.fits\n",
      "[stdatamodels.util:DEBUG] Environmental \"STRICT_VALIDATION\" cannot be found. Using default value of \"False\".\n",
      "[stdatamodels.util:DEBUG] Environmental \"VALIDATE_ON_ASSIGNMENT\" cannot be found. Using default value of \"True\".\n",
      "[stdatamodels.util:DEBUG] Environmental \"SKIP_FITS_UPDATE\" cannot be found. Using default value of \"None\".\n",
      "[stdatamodels.fits_support:DEBUG] No ASDF information found. Cannot skip updating from FITS headers.\n",
      "[stdatamodels.util:DEBUG] Environmental \"VALIDATE_ON_ASSIGNMENT\" cannot be found. Using default value of \"True\".\n",
      "[jwst.lib.reffile_utils:DEBUG] ref substrt1=1, subsize1=2048, substrt2=1, subsize2=2048\n",
      "[jwst.lib.reffile_utils:DEBUG] sci substrt1=1, subsize1=2048, substrt2=144, subsize2=64\n",
      "[jwst.dq_init.dq_initialization:INFO] Extracting mask subarray to match science data\n",
      "[jwst.lib.reffile_utils:DEBUG] slice xstart=0, xstop=2048, ystart=143, ystop=207\n",
      "[stdatamodels.util:DEBUG] Environmental \"STRICT_VALIDATION\" cannot be found. Using default value of \"False\".\n",
      "[stdatamodels.util:DEBUG] Environmental \"VALIDATE_ON_ASSIGNMENT\" cannot be found. Using default value of \"True\".\n"
     ]
    },
    {
     "name": "stderr",
     "output_type": "stream",
     "text": [
      "2021-09-29 12:45:30,711 - stpipe.Detector1Pipeline.dq_init - INFO - Step dq_init done\n"
     ]
    },
    {
     "name": "stdout",
     "output_type": "stream",
     "text": [
      "[stpipe.Detector1Pipeline.dq_init:INFO] Step dq_init done\n"
     ]
    },
    {
     "name": "stderr",
     "output_type": "stream",
     "text": [
      "2021-09-29 12:45:30,968 - stpipe.Detector1Pipeline.saturation - INFO - Step saturation running with args (<RampModel(152, 8, 64, 2048) from jw00042001001_01101_00001-seg013_nrca3_uncal.fits>,).\n"
     ]
    },
    {
     "name": "stdout",
     "output_type": "stream",
     "text": [
      "[stpipe.Detector1Pipeline.saturation:INFO] Step saturation running with args (<RampModel(152, 8, 64, 2048) from jw00042001001_01101_00001-seg013_nrca3_uncal.fits>,).\n"
     ]
    },
    {
     "name": "stderr",
     "output_type": "stream",
     "text": [
      "2021-09-29 12:45:30,972 - stpipe.Detector1Pipeline.saturation - INFO - Step saturation parameters are: {'pre_hooks': [], 'post_hooks': [], 'output_file': None, 'output_dir': None, 'output_ext': '.fits', 'output_use_model': False, 'output_use_index': True, 'save_results': False, 'skip': False, 'suffix': None, 'search_output_file': True, 'input_dir': '/home/kglidic/Software/Data_Challenge_Simulation_Pipeline_test/Original_Data_Set_NRCA3_DataChallengeSimulation/Raw_Data'}\n"
     ]
    },
    {
     "name": "stdout",
     "output_type": "stream",
     "text": [
      "[stpipe.Detector1Pipeline.saturation:INFO] Step saturation parameters are: {'pre_hooks': [], 'post_hooks': [], 'output_file': None, 'output_dir': None, 'output_ext': '.fits', 'output_use_model': False, 'output_use_index': True, 'save_results': False, 'skip': False, 'suffix': None, 'search_output_file': True, 'input_dir': '/home/kglidic/Software/Data_Challenge_Simulation_Pipeline_test/Original_Data_Set_NRCA3_DataChallengeSimulation/Raw_Data'}\n",
      "[stdatamodels.util:DEBUG] Environmental \"STRICT_VALIDATION\" cannot be found. Using default value of \"False\".\n",
      "[stdatamodels.util:DEBUG] Environmental \"VALIDATE_ON_ASSIGNMENT\" cannot be found. Using default value of \"True\".\n",
      "[stdatamodels.util:DEBUG] Environmental \"STRICT_VALIDATION\" cannot be found. Using default value of \"False\".\n",
      "[stdatamodels.util:DEBUG] Environmental \"VALIDATE_ON_ASSIGNMENT\" cannot be found. Using default value of \"True\".\n"
     ]
    },
    {
     "name": "stderr",
     "output_type": "stream",
     "text": [
      "2021-09-29 12:45:31,046 - stpipe.Detector1Pipeline.saturation - INFO - Using SATURATION reference file /fenrirdata1/kg_data/crds_cache/references/jwst/nircam/jwst_nircam_saturation_0067.fits\n"
     ]
    },
    {
     "name": "stdout",
     "output_type": "stream",
     "text": [
      "[stpipe.Detector1Pipeline.saturation:INFO] Using SATURATION reference file /fenrirdata1/kg_data/crds_cache/references/jwst/nircam/jwst_nircam_saturation_0067.fits\n",
      "[stdatamodels.util:DEBUG] Environmental \"STRICT_VALIDATION\" cannot be found. Using default value of \"False\".\n",
      "[stdatamodels.util:DEBUG] Environmental \"VALIDATE_ON_ASSIGNMENT\" cannot be found. Using default value of \"True\".\n",
      "[stdatamodels.util:DEBUG] Environmental \"SKIP_FITS_UPDATE\" cannot be found. Using default value of \"None\".\n",
      "[stdatamodels.fits_support:DEBUG] No ASDF information found. Cannot skip updating from FITS headers.\n"
     ]
    },
    {
     "name": "stderr",
     "output_type": "stream",
     "text": [
      "[stcal.dynamicdq:WARNING] Keyword NO_SATURATION does not correspond to an existing DQ mnemonic, so will be ignored\n",
      "[stcal.dynamicdq:WARNING] Keyword FEW_SAMPLES does not correspond to an existing DQ mnemonic, so will be ignored\n",
      "[stcal.dynamicdq:WARNING] Keyword AD_SATURATION does not correspond to an existing DQ mnemonic, so will be ignored\n",
      "[stcal.dynamicdq:WARNING] Keyword WEIRD_PIXEL does not correspond to an existing DQ mnemonic, so will be ignored\n",
      "[stcal.dynamicdq:WARNING] Keyword DEAD_PIXEL does not correspond to an existing DQ mnemonic, so will be ignored\n"
     ]
    },
    {
     "name": "stdout",
     "output_type": "stream",
     "text": [
      "[stdatamodels.util:DEBUG] Environmental \"VALIDATE_ON_ASSIGNMENT\" cannot be found. Using default value of \"True\".\n",
      "[jwst.lib.reffile_utils:DEBUG] ref substrt1=1, subsize1=2048, substrt2=1, subsize2=2048\n",
      "[jwst.lib.reffile_utils:DEBUG] sci substrt1=1, subsize1=2048, substrt2=144, subsize2=64\n",
      "[jwst.saturation.saturation:INFO] Extracting reference file subarray to match science data\n",
      "[jwst.lib.reffile_utils:DEBUG] slice xstart=0, xstop=2048, ystart=143, ystop=207\n",
      "[stdatamodels.util:DEBUG] Environmental \"STRICT_VALIDATION\" cannot be found. Using default value of \"False\".\n",
      "[stdatamodels.util:DEBUG] Environmental \"VALIDATE_ON_ASSIGNMENT\" cannot be found. Using default value of \"True\".\n",
      "[jwst.saturation.saturation:INFO] Detected 519 saturated pixels\n",
      "[jwst.saturation.saturation:INFO] Detected 0 A/D floor pixels\n"
     ]
    },
    {
     "name": "stderr",
     "output_type": "stream",
     "text": [
      "2021-09-29 12:45:35,494 - stpipe.Detector1Pipeline.saturation - INFO - Step saturation done\n"
     ]
    },
    {
     "name": "stdout",
     "output_type": "stream",
     "text": [
      "[stpipe.Detector1Pipeline.saturation:INFO] Step saturation done\n"
     ]
    },
    {
     "name": "stderr",
     "output_type": "stream",
     "text": [
      "2021-09-29 12:45:35,865 - stpipe.Detector1Pipeline.ipc - INFO - Step ipc running with args (<RampModel(152, 8, 64, 2048) from jw00042001001_01101_00001-seg013_nrca3_uncal.fits>,).\n"
     ]
    },
    {
     "name": "stdout",
     "output_type": "stream",
     "text": [
      "[stpipe.Detector1Pipeline.ipc:INFO] Step ipc running with args (<RampModel(152, 8, 64, 2048) from jw00042001001_01101_00001-seg013_nrca3_uncal.fits>,).\n"
     ]
    },
    {
     "name": "stderr",
     "output_type": "stream",
     "text": [
      "2021-09-29 12:45:35,870 - stpipe.Detector1Pipeline.ipc - INFO - Step ipc parameters are: {'pre_hooks': [], 'post_hooks': [], 'output_file': None, 'output_dir': None, 'output_ext': '.fits', 'output_use_model': False, 'output_use_index': True, 'save_results': False, 'skip': True, 'suffix': None, 'search_output_file': True, 'input_dir': '/home/kglidic/Software/Data_Challenge_Simulation_Pipeline_test/Original_Data_Set_NRCA3_DataChallengeSimulation/Raw_Data'}\n"
     ]
    },
    {
     "name": "stdout",
     "output_type": "stream",
     "text": [
      "[stpipe.Detector1Pipeline.ipc:INFO] Step ipc parameters are: {'pre_hooks': [], 'post_hooks': [], 'output_file': None, 'output_dir': None, 'output_ext': '.fits', 'output_use_model': False, 'output_use_index': True, 'save_results': False, 'skip': True, 'suffix': None, 'search_output_file': True, 'input_dir': '/home/kglidic/Software/Data_Challenge_Simulation_Pipeline_test/Original_Data_Set_NRCA3_DataChallengeSimulation/Raw_Data'}\n"
     ]
    },
    {
     "name": "stderr",
     "output_type": "stream",
     "text": [
      "2021-09-29 12:45:35,872 - stpipe.Detector1Pipeline.ipc - INFO - Step skipped.\n"
     ]
    },
    {
     "name": "stdout",
     "output_type": "stream",
     "text": [
      "[stpipe.Detector1Pipeline.ipc:INFO] Step skipped.\n"
     ]
    },
    {
     "name": "stderr",
     "output_type": "stream",
     "text": [
      "2021-09-29 12:45:35,874 - stpipe.Detector1Pipeline.ipc - INFO - Step ipc done\n"
     ]
    },
    {
     "name": "stdout",
     "output_type": "stream",
     "text": [
      "[stpipe.Detector1Pipeline.ipc:INFO] Step ipc done\n"
     ]
    },
    {
     "name": "stderr",
     "output_type": "stream",
     "text": [
      "2021-09-29 12:45:36,085 - stpipe.Detector1Pipeline.superbias - INFO - Step superbias running with args (<RampModel(152, 8, 64, 2048) from jw00042001001_01101_00001-seg013_nrca3_uncal.fits>,).\n"
     ]
    },
    {
     "name": "stdout",
     "output_type": "stream",
     "text": [
      "[stpipe.Detector1Pipeline.superbias:INFO] Step superbias running with args (<RampModel(152, 8, 64, 2048) from jw00042001001_01101_00001-seg013_nrca3_uncal.fits>,).\n"
     ]
    },
    {
     "name": "stderr",
     "output_type": "stream",
     "text": [
      "2021-09-29 12:45:36,090 - stpipe.Detector1Pipeline.superbias - INFO - Step superbias parameters are: {'pre_hooks': [], 'post_hooks': [], 'output_file': None, 'output_dir': None, 'output_ext': '.fits', 'output_use_model': False, 'output_use_index': True, 'save_results': False, 'skip': False, 'suffix': None, 'search_output_file': True, 'input_dir': '/home/kglidic/Software/Data_Challenge_Simulation_Pipeline_test/Original_Data_Set_NRCA3_DataChallengeSimulation/Raw_Data'}\n"
     ]
    },
    {
     "name": "stdout",
     "output_type": "stream",
     "text": [
      "[stpipe.Detector1Pipeline.superbias:INFO] Step superbias parameters are: {'pre_hooks': [], 'post_hooks': [], 'output_file': None, 'output_dir': None, 'output_ext': '.fits', 'output_use_model': False, 'output_use_index': True, 'save_results': False, 'skip': False, 'suffix': None, 'search_output_file': True, 'input_dir': '/home/kglidic/Software/Data_Challenge_Simulation_Pipeline_test/Original_Data_Set_NRCA3_DataChallengeSimulation/Raw_Data'}\n",
      "[stdatamodels.util:DEBUG] Environmental \"STRICT_VALIDATION\" cannot be found. Using default value of \"False\".\n",
      "[stdatamodels.util:DEBUG] Environmental \"VALIDATE_ON_ASSIGNMENT\" cannot be found. Using default value of \"True\".\n",
      "[stdatamodels.util:DEBUG] Environmental \"STRICT_VALIDATION\" cannot be found. Using default value of \"False\".\n",
      "[stdatamodels.util:DEBUG] Environmental \"VALIDATE_ON_ASSIGNMENT\" cannot be found. Using default value of \"True\".\n"
     ]
    },
    {
     "name": "stderr",
     "output_type": "stream",
     "text": [
      "2021-09-29 12:45:36,165 - stpipe.Detector1Pipeline.superbias - INFO - Using SUPERBIAS reference file /fenrirdata1/kg_data/crds_cache/references/jwst/nircam/jwst_nircam_superbias_0027.fits\n"
     ]
    },
    {
     "name": "stdout",
     "output_type": "stream",
     "text": [
      "[stpipe.Detector1Pipeline.superbias:INFO] Using SUPERBIAS reference file /fenrirdata1/kg_data/crds_cache/references/jwst/nircam/jwst_nircam_superbias_0027.fits\n",
      "[stdatamodels.util:DEBUG] Environmental \"STRICT_VALIDATION\" cannot be found. Using default value of \"False\".\n",
      "[stdatamodels.util:DEBUG] Environmental \"VALIDATE_ON_ASSIGNMENT\" cannot be found. Using default value of \"True\".\n",
      "[stdatamodels.util:DEBUG] Environmental \"SKIP_FITS_UPDATE\" cannot be found. Using default value of \"None\".\n",
      "[stdatamodels.fits_support:DEBUG] No ASDF information found. Cannot skip updating from FITS headers.\n"
     ]
    },
    {
     "name": "stderr",
     "output_type": "stream",
     "text": [
      "[stcal.dynamicdq:WARNING] Keyword NOISY does not correspond to an existing DQ mnemonic, so will be ignored\n"
     ]
    },
    {
     "name": "stdout",
     "output_type": "stream",
     "text": [
      "[jwst.lib.reffile_utils:DEBUG] ref substrt1=1, subsize1=2048, substrt2=1, subsize2=2048\n",
      "[jwst.lib.reffile_utils:DEBUG] sci substrt1=1, subsize1=2048, substrt2=144, subsize2=64\n",
      "[jwst.lib.reffile_utils:DEBUG] slice xstart=0, xstop=2048, ystart=143, ystop=207\n",
      "[stdatamodels.util:DEBUG] Environmental \"STRICT_VALIDATION\" cannot be found. Using default value of \"False\".\n",
      "[stdatamodels.util:DEBUG] Environmental \"VALIDATE_ON_ASSIGNMENT\" cannot be found. Using default value of \"True\".\n",
      "[stdatamodels.util:DEBUG] Environmental \"VALIDATE_ON_ASSIGNMENT\" cannot be found. Using default value of \"True\".\n"
     ]
    },
    {
     "name": "stderr",
     "output_type": "stream",
     "text": [
      "2021-09-29 12:45:38,435 - stpipe.Detector1Pipeline.superbias - INFO - Step superbias done\n"
     ]
    },
    {
     "name": "stdout",
     "output_type": "stream",
     "text": [
      "[stpipe.Detector1Pipeline.superbias:INFO] Step superbias done\n"
     ]
    },
    {
     "name": "stderr",
     "output_type": "stream",
     "text": [
      "2021-09-29 12:45:38,669 - stpipe.Detector1Pipeline.refpix - INFO - Step refpix running with args (<RampModel(152, 8, 64, 2048) from jw00042001001_01101_00001-seg013_nrca3_uncal.fits>,).\n"
     ]
    },
    {
     "name": "stdout",
     "output_type": "stream",
     "text": [
      "[stpipe.Detector1Pipeline.refpix:INFO] Step refpix running with args (<RampModel(152, 8, 64, 2048) from jw00042001001_01101_00001-seg013_nrca3_uncal.fits>,).\n"
     ]
    },
    {
     "name": "stderr",
     "output_type": "stream",
     "text": [
      "2021-09-29 12:45:38,673 - stpipe.Detector1Pipeline.refpix - INFO - Step refpix parameters are: {'pre_hooks': [], 'post_hooks': [], 'output_file': None, 'output_dir': None, 'output_ext': '.fits', 'output_use_model': False, 'output_use_index': True, 'save_results': False, 'skip': False, 'suffix': None, 'search_output_file': True, 'input_dir': '/home/kglidic/Software/Data_Challenge_Simulation_Pipeline_test/Original_Data_Set_NRCA3_DataChallengeSimulation/Raw_Data', 'odd_even_columns': True, 'use_side_ref_pixels': True, 'side_smoothing_length': 11, 'side_gain': 1.0, 'odd_even_rows': True}\n"
     ]
    },
    {
     "name": "stdout",
     "output_type": "stream",
     "text": [
      "[stpipe.Detector1Pipeline.refpix:INFO] Step refpix parameters are: {'pre_hooks': [], 'post_hooks': [], 'output_file': None, 'output_dir': None, 'output_ext': '.fits', 'output_use_model': False, 'output_use_index': True, 'save_results': False, 'skip': False, 'suffix': None, 'search_output_file': True, 'input_dir': '/home/kglidic/Software/Data_Challenge_Simulation_Pipeline_test/Original_Data_Set_NRCA3_DataChallengeSimulation/Raw_Data', 'odd_even_columns': True, 'use_side_ref_pixels': True, 'side_smoothing_length': 11, 'side_gain': 1.0, 'odd_even_rows': True}\n",
      "[stdatamodels.util:DEBUG] Environmental \"STRICT_VALIDATION\" cannot be found. Using default value of \"False\".\n",
      "[stdatamodels.util:DEBUG] Environmental \"VALIDATE_ON_ASSIGNMENT\" cannot be found. Using default value of \"True\".\n"
     ]
    },
    {
     "name": "stderr",
     "output_type": "stream",
     "text": [
      "2021-09-29 12:45:38,757 - stpipe.Detector1Pipeline.refpix - INFO - use_side_ref_pixels = True\n"
     ]
    },
    {
     "name": "stdout",
     "output_type": "stream",
     "text": [
      "[stpipe.Detector1Pipeline.refpix:INFO] use_side_ref_pixels = True\n"
     ]
    },
    {
     "name": "stderr",
     "output_type": "stream",
     "text": [
      "2021-09-29 12:45:38,761 - stpipe.Detector1Pipeline.refpix - INFO - odd_even_columns = True\n"
     ]
    },
    {
     "name": "stdout",
     "output_type": "stream",
     "text": [
      "[stpipe.Detector1Pipeline.refpix:INFO] odd_even_columns = True\n"
     ]
    },
    {
     "name": "stderr",
     "output_type": "stream",
     "text": [
      "2021-09-29 12:45:38,763 - stpipe.Detector1Pipeline.refpix - INFO - side_smoothing_length = 11\n"
     ]
    },
    {
     "name": "stdout",
     "output_type": "stream",
     "text": [
      "[stpipe.Detector1Pipeline.refpix:INFO] side_smoothing_length = 11\n"
     ]
    },
    {
     "name": "stderr",
     "output_type": "stream",
     "text": [
      "2021-09-29 12:45:38,765 - stpipe.Detector1Pipeline.refpix - INFO - side_gain = 1.000000\n"
     ]
    },
    {
     "name": "stdout",
     "output_type": "stream",
     "text": [
      "[stpipe.Detector1Pipeline.refpix:INFO] side_gain = 1.000000\n"
     ]
    },
    {
     "name": "stderr",
     "output_type": "stream",
     "text": [
      "2021-09-29 12:45:38,768 - stpipe.Detector1Pipeline.refpix - INFO - odd_even_rows = True\n"
     ]
    },
    {
     "name": "stdout",
     "output_type": "stream",
     "text": [
      "[stpipe.Detector1Pipeline.refpix:INFO] odd_even_rows = True\n",
      "[stdatamodels.util:DEBUG] Environmental \"VALIDATE_ON_ASSIGNMENT\" cannot be found. Using default value of \"True\".\n",
      "[jwst.lib.reffile_utils:DEBUG] Input exposure is a subarray readout\n",
      "[jwst.lib.reffile_utils:DEBUG] Input exposure is a subarray readout\n"
     ]
    },
    {
     "name": "stderr",
     "output_type": "stream",
     "text": [
      "2021-09-29 12:51:31,355 - stpipe.Detector1Pipeline.refpix - INFO - Step refpix done\n"
     ]
    },
    {
     "name": "stdout",
     "output_type": "stream",
     "text": [
      "[stpipe.Detector1Pipeline.refpix:INFO] Step refpix done\n"
     ]
    },
    {
     "name": "stderr",
     "output_type": "stream",
     "text": [
      "2021-09-29 12:51:31,661 - stpipe.Detector1Pipeline.linearity - INFO - Step linearity running with args (<RampModel(152, 8, 64, 2048) from jw00042001001_01101_00001-seg013_nrca3_uncal.fits>,).\n"
     ]
    },
    {
     "name": "stdout",
     "output_type": "stream",
     "text": [
      "[stpipe.Detector1Pipeline.linearity:INFO] Step linearity running with args (<RampModel(152, 8, 64, 2048) from jw00042001001_01101_00001-seg013_nrca3_uncal.fits>,).\n"
     ]
    },
    {
     "name": "stderr",
     "output_type": "stream",
     "text": [
      "2021-09-29 12:51:31,665 - stpipe.Detector1Pipeline.linearity - INFO - Step linearity parameters are: {'pre_hooks': [], 'post_hooks': [], 'output_file': None, 'output_dir': None, 'output_ext': '.fits', 'output_use_model': False, 'output_use_index': True, 'save_results': False, 'skip': False, 'suffix': None, 'search_output_file': True, 'input_dir': '/home/kglidic/Software/Data_Challenge_Simulation_Pipeline_test/Original_Data_Set_NRCA3_DataChallengeSimulation/Raw_Data'}\n"
     ]
    },
    {
     "name": "stdout",
     "output_type": "stream",
     "text": [
      "[stpipe.Detector1Pipeline.linearity:INFO] Step linearity parameters are: {'pre_hooks': [], 'post_hooks': [], 'output_file': None, 'output_dir': None, 'output_ext': '.fits', 'output_use_model': False, 'output_use_index': True, 'save_results': False, 'skip': False, 'suffix': None, 'search_output_file': True, 'input_dir': '/home/kglidic/Software/Data_Challenge_Simulation_Pipeline_test/Original_Data_Set_NRCA3_DataChallengeSimulation/Raw_Data'}\n",
      "[stdatamodels.util:DEBUG] Environmental \"STRICT_VALIDATION\" cannot be found. Using default value of \"False\".\n",
      "[stdatamodels.util:DEBUG] Environmental \"VALIDATE_ON_ASSIGNMENT\" cannot be found. Using default value of \"True\".\n",
      "[stdatamodels.util:DEBUG] Environmental \"STRICT_VALIDATION\" cannot be found. Using default value of \"False\".\n",
      "[stdatamodels.util:DEBUG] Environmental \"VALIDATE_ON_ASSIGNMENT\" cannot be found. Using default value of \"True\".\n"
     ]
    },
    {
     "name": "stderr",
     "output_type": "stream",
     "text": [
      "2021-09-29 12:51:31,787 - stpipe.Detector1Pipeline.linearity - INFO - Using Linearity reference file /fenrirdata1/kg_data/crds_cache/references/jwst/nircam/jwst_nircam_linearity_0053.fits\n"
     ]
    },
    {
     "name": "stdout",
     "output_type": "stream",
     "text": [
      "[stpipe.Detector1Pipeline.linearity:INFO] Using Linearity reference file /fenrirdata1/kg_data/crds_cache/references/jwst/nircam/jwst_nircam_linearity_0053.fits\n",
      "[stdatamodels.util:DEBUG] Environmental \"STRICT_VALIDATION\" cannot be found. Using default value of \"False\".\n",
      "[stdatamodels.util:DEBUG] Environmental \"VALIDATE_ON_ASSIGNMENT\" cannot be found. Using default value of \"True\".\n",
      "[stdatamodels.util:DEBUG] Environmental \"SKIP_FITS_UPDATE\" cannot be found. Using default value of \"None\".\n",
      "[stdatamodels.fits_support:DEBUG] No ASDF information found. Cannot skip updating from FITS headers.\n"
     ]
    },
    {
     "name": "stderr",
     "output_type": "stream",
     "text": [
      "[stcal.dynamicdq:WARNING] Keyword UAZ_DO_NOT_USE does not correspond to an existing DQ mnemonic, so will be ignored\n",
      "[stcal.dynamicdq:WARNING] Keyword UAZ_NO_LIN_SAMP does not correspond to an existing DQ mnemonic, so will be ignored\n",
      "[stcal.dynamicdq:WARNING] Keyword UAZ_BAD_LIN_FIT does not correspond to an existing DQ mnemonic, so will be ignored\n",
      "[stcal.dynamicdq:WARNING] Keyword UAZ_NO_WELL_SAMP does not correspond to an existing DQ mnemonic, so will be ignored\n",
      "[stcal.dynamicdq:WARNING] Keyword UAZ_MODEL_FIT_FAIL does not correspond to an existing DQ mnemonic, so will be ignored\n",
      "[stcal.dynamicdq:WARNING] Keyword UAZ_WELL_NOT_DEFINED does not correspond to an existing DQ mnemonic, so will be ignored\n",
      "[stcal.dynamicdq:WARNING] Keyword UAZ_MASTER_MASK does not correspond to an existing DQ mnemonic, so will be ignored\n"
     ]
    },
    {
     "name": "stdout",
     "output_type": "stream",
     "text": [
      "[stdatamodels.util:DEBUG] Environmental \"VALIDATE_ON_ASSIGNMENT\" cannot be found. Using default value of \"True\".\n",
      "[jwst.lib.reffile_utils:DEBUG] ref substrt1=1, subsize1=2048, substrt2=1, subsize2=2048\n",
      "[jwst.lib.reffile_utils:DEBUG] sci substrt1=1, subsize1=2048, substrt2=144, subsize2=64\n",
      "[jwst.linearity.linearity:INFO] Extracting linearity subarray to match science data\n",
      "[jwst.lib.reffile_utils:DEBUG] slice xstart=0, xstop=2048, ystart=143, ystop=207\n",
      "[stdatamodels.util:DEBUG] Environmental \"STRICT_VALIDATION\" cannot be found. Using default value of \"False\".\n",
      "[stdatamodels.util:DEBUG] Environmental \"VALIDATE_ON_ASSIGNMENT\" cannot be found. Using default value of \"True\".\n",
      "[jwst.lib.reffile_utils:DEBUG] ref substrt1=1, subsize1=2048, substrt2=1, subsize2=2048\n",
      "[jwst.lib.reffile_utils:DEBUG] sci substrt1=1, subsize1=2048, substrt2=144, subsize2=64\n",
      "[jwst.lib.reffile_utils:DEBUG] slice xstart=0, xstop=2048, ystart=143, ystop=207\n",
      "[stdatamodels.util:DEBUG] Environmental \"STRICT_VALIDATION\" cannot be found. Using default value of \"False\".\n",
      "[stdatamodels.util:DEBUG] Environmental \"VALIDATE_ON_ASSIGNMENT\" cannot be found. Using default value of \"True\".\n",
      "[jwst.linearity.linearity:DEBUG] Unflagged pixels having coefficients set to NaN were detected in the ref file; for those affected pixels no linearity correction will be applied.\n"
     ]
    },
    {
     "name": "stderr",
     "output_type": "stream",
     "text": [
      "2021-09-29 12:51:39,533 - stpipe.Detector1Pipeline.linearity - INFO - Step linearity done\n"
     ]
    },
    {
     "name": "stdout",
     "output_type": "stream",
     "text": [
      "[stpipe.Detector1Pipeline.linearity:INFO] Step linearity done\n"
     ]
    },
    {
     "name": "stderr",
     "output_type": "stream",
     "text": [
      "2021-09-29 12:51:39,938 - stpipe.Detector1Pipeline.persistence - INFO - Step persistence running with args (<RampModel(152, 8, 64, 2048) from jw00042001001_01101_00001-seg013_nrca3_uncal.fits>,).\n"
     ]
    },
    {
     "name": "stdout",
     "output_type": "stream",
     "text": [
      "[stpipe.Detector1Pipeline.persistence:INFO] Step persistence running with args (<RampModel(152, 8, 64, 2048) from jw00042001001_01101_00001-seg013_nrca3_uncal.fits>,).\n"
     ]
    },
    {
     "name": "stderr",
     "output_type": "stream",
     "text": [
      "2021-09-29 12:51:39,942 - stpipe.Detector1Pipeline.persistence - INFO - Step persistence parameters are: {'pre_hooks': [], 'post_hooks': [], 'output_file': None, 'output_dir': None, 'output_ext': '.fits', 'output_use_model': False, 'output_use_index': True, 'save_results': False, 'skip': True, 'suffix': None, 'search_output_file': True, 'input_dir': '/home/kglidic/Software/Data_Challenge_Simulation_Pipeline_test/Original_Data_Set_NRCA3_DataChallengeSimulation/Raw_Data', 'input_trapsfilled': '', 'flag_pers_cutoff': 40.0, 'save_persistence': False, 'save_trapsfilled': True}\n"
     ]
    },
    {
     "name": "stdout",
     "output_type": "stream",
     "text": [
      "[stpipe.Detector1Pipeline.persistence:INFO] Step persistence parameters are: {'pre_hooks': [], 'post_hooks': [], 'output_file': None, 'output_dir': None, 'output_ext': '.fits', 'output_use_model': False, 'output_use_index': True, 'save_results': False, 'skip': True, 'suffix': None, 'search_output_file': True, 'input_dir': '/home/kglidic/Software/Data_Challenge_Simulation_Pipeline_test/Original_Data_Set_NRCA3_DataChallengeSimulation/Raw_Data', 'input_trapsfilled': '', 'flag_pers_cutoff': 40.0, 'save_persistence': False, 'save_trapsfilled': True}\n"
     ]
    },
    {
     "name": "stderr",
     "output_type": "stream",
     "text": [
      "2021-09-29 12:51:39,944 - stpipe.Detector1Pipeline.persistence - INFO - Step skipped.\n"
     ]
    },
    {
     "name": "stdout",
     "output_type": "stream",
     "text": [
      "[stpipe.Detector1Pipeline.persistence:INFO] Step skipped.\n"
     ]
    },
    {
     "name": "stderr",
     "output_type": "stream",
     "text": [
      "2021-09-29 12:51:39,946 - stpipe.Detector1Pipeline.persistence - INFO - Step persistence done\n"
     ]
    },
    {
     "name": "stdout",
     "output_type": "stream",
     "text": [
      "[stpipe.Detector1Pipeline.persistence:INFO] Step persistence done\n"
     ]
    },
    {
     "name": "stderr",
     "output_type": "stream",
     "text": [
      "2021-09-29 12:51:40,114 - stpipe.Detector1Pipeline.dark_current - INFO - Step dark_current running with args (<RampModel(152, 8, 64, 2048) from jw00042001001_01101_00001-seg013_nrca3_uncal.fits>,).\n"
     ]
    },
    {
     "name": "stdout",
     "output_type": "stream",
     "text": [
      "[stpipe.Detector1Pipeline.dark_current:INFO] Step dark_current running with args (<RampModel(152, 8, 64, 2048) from jw00042001001_01101_00001-seg013_nrca3_uncal.fits>,).\n"
     ]
    },
    {
     "name": "stderr",
     "output_type": "stream",
     "text": [
      "2021-09-29 12:51:40,118 - stpipe.Detector1Pipeline.dark_current - INFO - Step dark_current parameters are: {'pre_hooks': [], 'post_hooks': [], 'output_file': None, 'output_dir': '/fenrirdata1/kg_data/pipeline_output/DataChallengeSimulation/JumpSkip_Test/', 'output_ext': '.fits', 'output_use_model': False, 'output_use_index': True, 'save_results': False, 'skip': False, 'suffix': None, 'search_output_file': True, 'input_dir': '/home/kglidic/Software/Data_Challenge_Simulation_Pipeline_test/Original_Data_Set_NRCA3_DataChallengeSimulation/Raw_Data', 'dark_output': None}\n"
     ]
    },
    {
     "name": "stdout",
     "output_type": "stream",
     "text": [
      "[stpipe.Detector1Pipeline.dark_current:INFO] Step dark_current parameters are: {'pre_hooks': [], 'post_hooks': [], 'output_file': None, 'output_dir': '/fenrirdata1/kg_data/pipeline_output/DataChallengeSimulation/JumpSkip_Test/', 'output_ext': '.fits', 'output_use_model': False, 'output_use_index': True, 'save_results': False, 'skip': False, 'suffix': None, 'search_output_file': True, 'input_dir': '/home/kglidic/Software/Data_Challenge_Simulation_Pipeline_test/Original_Data_Set_NRCA3_DataChallengeSimulation/Raw_Data', 'dark_output': None}\n",
      "[stdatamodels.util:DEBUG] Environmental \"STRICT_VALIDATION\" cannot be found. Using default value of \"False\".\n",
      "[stdatamodels.util:DEBUG] Environmental \"VALIDATE_ON_ASSIGNMENT\" cannot be found. Using default value of \"True\".\n",
      "[stdatamodels.util:DEBUG] Environmental \"STRICT_VALIDATION\" cannot be found. Using default value of \"False\".\n",
      "[stdatamodels.util:DEBUG] Environmental \"VALIDATE_ON_ASSIGNMENT\" cannot be found. Using default value of \"True\".\n"
     ]
    },
    {
     "name": "stderr",
     "output_type": "stream",
     "text": [
      "2021-09-29 12:51:40,178 - stpipe.Detector1Pipeline.dark_current - INFO - Using DARK reference file /fenrirdata1/kg_data/crds_cache/references/jwst/nircam/jwst_nircam_dark_0198.fits\n"
     ]
    },
    {
     "name": "stdout",
     "output_type": "stream",
     "text": [
      "[stpipe.Detector1Pipeline.dark_current:INFO] Using DARK reference file /fenrirdata1/kg_data/crds_cache/references/jwst/nircam/jwst_nircam_dark_0198.fits\n",
      "[stdatamodels.util:DEBUG] Environmental \"STRICT_VALIDATION\" cannot be found. Using default value of \"False\".\n",
      "[stdatamodels.util:DEBUG] Environmental \"VALIDATE_ON_ASSIGNMENT\" cannot be found. Using default value of \"True\".\n",
      "[stdatamodels.util:DEBUG] Environmental \"SKIP_FITS_UPDATE\" cannot be found. Using default value of \"None\".\n",
      "[stdatamodels.fits_support:DEBUG] No ASDF information found. Cannot skip updating from FITS headers.\n"
     ]
    },
    {
     "name": "stderr",
     "output_type": "stream",
     "text": [
      "[stcal.dynamicdq:WARNING] Keyword HIGH_NOISE does not correspond to an existing DQ mnemonic, so will be ignored\n",
      "[stcal.dynamicdq:WARNING] Keyword UNSTABLE_NOISE does not correspond to an existing DQ mnemonic, so will be ignored\n"
     ]
    },
    {
     "name": "stdout",
     "output_type": "stream",
     "text": [
      "[jwst.dark_current.dark_sub:INFO] Science data nints=152, ngroups=8, nframes=1, groupgap=0\n",
      "[jwst.dark_current.dark_sub:INFO] Dark data nints=1, ngroups=20, nframes=1, groupgap=0\n",
      "[jwst.dark_current.dark_sub:DEBUG] subtract_dark: nints=152, ngroups=8, size=64,2048\n",
      "[stdatamodels.util:DEBUG] Environmental \"VALIDATE_ON_ASSIGNMENT\" cannot be found. Using default value of \"True\".\n"
     ]
    },
    {
     "name": "stderr",
     "output_type": "stream",
     "text": [
      "2021-09-29 12:51:41,922 - stpipe.Detector1Pipeline.dark_current - INFO - Step dark_current done\n"
     ]
    },
    {
     "name": "stdout",
     "output_type": "stream",
     "text": [
      "[stpipe.Detector1Pipeline.dark_current:INFO] Step dark_current done\n"
     ]
    },
    {
     "name": "stderr",
     "output_type": "stream",
     "text": [
      "2021-09-29 12:51:42,114 - stpipe.Detector1Pipeline.jump - INFO - Step jump running with args (<RampModel(152, 8, 64, 2048) from jw00042001001_01101_00001-seg013_nrca3_uncal.fits>,).\n"
     ]
    },
    {
     "name": "stdout",
     "output_type": "stream",
     "text": [
      "[stpipe.Detector1Pipeline.jump:INFO] Step jump running with args (<RampModel(152, 8, 64, 2048) from jw00042001001_01101_00001-seg013_nrca3_uncal.fits>,).\n"
     ]
    },
    {
     "name": "stderr",
     "output_type": "stream",
     "text": [
      "2021-09-29 12:51:42,118 - stpipe.Detector1Pipeline.jump - INFO - Step jump parameters are: {'pre_hooks': [], 'post_hooks': [], 'output_file': None, 'output_dir': None, 'output_ext': '.fits', 'output_use_model': False, 'output_use_index': True, 'save_results': False, 'skip': True, 'suffix': None, 'search_output_file': True, 'input_dir': '/home/kglidic/Software/Data_Challenge_Simulation_Pipeline_test/Original_Data_Set_NRCA3_DataChallengeSimulation/Raw_Data', 'rejection_threshold': 4.0, 'three_group_rejection_threshold': 6.0, 'four_group_rejection_threshold': 5.0, 'maximum_cores': 'none', 'flag_4_neighbors': True, 'max_jump_to_flag_neighbors': 1000.0, 'min_jump_to_flag_neighbors': 10.0}\n"
     ]
    },
    {
     "name": "stdout",
     "output_type": "stream",
     "text": [
      "[stpipe.Detector1Pipeline.jump:INFO] Step jump parameters are: {'pre_hooks': [], 'post_hooks': [], 'output_file': None, 'output_dir': None, 'output_ext': '.fits', 'output_use_model': False, 'output_use_index': True, 'save_results': False, 'skip': True, 'suffix': None, 'search_output_file': True, 'input_dir': '/home/kglidic/Software/Data_Challenge_Simulation_Pipeline_test/Original_Data_Set_NRCA3_DataChallengeSimulation/Raw_Data', 'rejection_threshold': 4.0, 'three_group_rejection_threshold': 6.0, 'four_group_rejection_threshold': 5.0, 'maximum_cores': 'none', 'flag_4_neighbors': True, 'max_jump_to_flag_neighbors': 1000.0, 'min_jump_to_flag_neighbors': 10.0}\n"
     ]
    },
    {
     "name": "stderr",
     "output_type": "stream",
     "text": [
      "2021-09-29 12:51:42,119 - stpipe.Detector1Pipeline.jump - INFO - Step skipped.\n"
     ]
    },
    {
     "name": "stdout",
     "output_type": "stream",
     "text": [
      "[stpipe.Detector1Pipeline.jump:INFO] Step skipped.\n"
     ]
    },
    {
     "name": "stderr",
     "output_type": "stream",
     "text": [
      "2021-09-29 12:51:42,122 - stpipe.Detector1Pipeline.jump - INFO - Step jump done\n"
     ]
    },
    {
     "name": "stdout",
     "output_type": "stream",
     "text": [
      "[stpipe.Detector1Pipeline.jump:INFO] Step jump done\n"
     ]
    },
    {
     "name": "stderr",
     "output_type": "stream",
     "text": [
      "2021-09-29 12:51:42,320 - stpipe.Detector1Pipeline.ramp_fit - INFO - Step ramp_fit running with args (<RampModel(152, 8, 64, 2048) from jw00042001001_01101_00001-seg013_nrca3_uncal.fits>,).\n"
     ]
    },
    {
     "name": "stdout",
     "output_type": "stream",
     "text": [
      "[stpipe.Detector1Pipeline.ramp_fit:INFO] Step ramp_fit running with args (<RampModel(152, 8, 64, 2048) from jw00042001001_01101_00001-seg013_nrca3_uncal.fits>,).\n"
     ]
    },
    {
     "name": "stderr",
     "output_type": "stream",
     "text": [
      "2021-09-29 12:51:42,326 - stpipe.Detector1Pipeline.ramp_fit - INFO - Step ramp_fit parameters are: {'pre_hooks': [], 'post_hooks': [], 'output_file': None, 'output_dir': '/fenrirdata1/kg_data/pipeline_output/DataChallengeSimulation/JumpSkip_Test/', 'output_ext': '.fits', 'output_use_model': False, 'output_use_index': True, 'save_results': False, 'skip': False, 'suffix': None, 'search_output_file': True, 'input_dir': '/home/kglidic/Software/Data_Challenge_Simulation_Pipeline_test/Original_Data_Set_NRCA3_DataChallengeSimulation/Raw_Data', 'int_name': '', 'save_opt': False, 'opt_name': '', 'maximum_cores': 'none'}\n"
     ]
    },
    {
     "name": "stdout",
     "output_type": "stream",
     "text": [
      "[stpipe.Detector1Pipeline.ramp_fit:INFO] Step ramp_fit parameters are: {'pre_hooks': [], 'post_hooks': [], 'output_file': None, 'output_dir': '/fenrirdata1/kg_data/pipeline_output/DataChallengeSimulation/JumpSkip_Test/', 'output_ext': '.fits', 'output_use_model': False, 'output_use_index': True, 'save_results': False, 'skip': False, 'suffix': None, 'search_output_file': True, 'input_dir': '/home/kglidic/Software/Data_Challenge_Simulation_Pipeline_test/Original_Data_Set_NRCA3_DataChallengeSimulation/Raw_Data', 'int_name': '', 'save_opt': False, 'opt_name': '', 'maximum_cores': 'none'}\n",
      "[stdatamodels.util:DEBUG] Environmental \"STRICT_VALIDATION\" cannot be found. Using default value of \"False\".\n",
      "[stdatamodels.util:DEBUG] Environmental \"VALIDATE_ON_ASSIGNMENT\" cannot be found. Using default value of \"True\".\n",
      "[stdatamodels.util:DEBUG] Environmental \"STRICT_VALIDATION\" cannot be found. Using default value of \"False\".\n",
      "[stdatamodels.util:DEBUG] Environmental \"VALIDATE_ON_ASSIGNMENT\" cannot be found. Using default value of \"True\".\n",
      "[stdatamodels.util:DEBUG] Environmental \"STRICT_VALIDATION\" cannot be found. Using default value of \"False\".\n",
      "[stdatamodels.util:DEBUG] Environmental \"VALIDATE_ON_ASSIGNMENT\" cannot be found. Using default value of \"True\".\n",
      "[jwst.ramp_fitting.ramp_fit_step:INFO] Using READNOISE reference file: /fenrirdata1/kg_data/crds_cache/references/jwst/nircam/jwst_nircam_readnoise_0030.fits\n",
      "[stdatamodels.util:DEBUG] Environmental \"STRICT_VALIDATION\" cannot be found. Using default value of \"False\".\n",
      "[stdatamodels.util:DEBUG] Environmental \"VALIDATE_ON_ASSIGNMENT\" cannot be found. Using default value of \"True\".\n",
      "[stdatamodels.util:DEBUG] Environmental \"SKIP_FITS_UPDATE\" cannot be found. Using default value of \"None\".\n",
      "[stdatamodels.fits_support:DEBUG] No ASDF information found. Cannot skip updating from FITS headers.\n",
      "[jwst.ramp_fitting.ramp_fit_step:INFO] Using GAIN reference file: /fenrirdata1/kg_data/crds_cache/references/jwst/nircam/jwst_nircam_gain_0048.fits\n",
      "[stdatamodels.util:DEBUG] Environmental \"STRICT_VALIDATION\" cannot be found. Using default value of \"False\".\n",
      "[stdatamodels.util:DEBUG] Environmental \"VALIDATE_ON_ASSIGNMENT\" cannot be found. Using default value of \"True\".\n",
      "[stdatamodels.util:DEBUG] Environmental \"SKIP_FITS_UPDATE\" cannot be found. Using default value of \"None\".\n",
      "[jwst.ramp_fitting.ramp_fit_step:INFO] Using algorithm = ols\n",
      "[jwst.ramp_fitting.ramp_fit_step:INFO] Using weighting = optimal\n",
      "[jwst.lib.reffile_utils:DEBUG] ref substrt1=1, subsize1=2048, substrt2=1, subsize2=2048\n",
      "[jwst.lib.reffile_utils:DEBUG] sci substrt1=1, subsize1=2048, substrt2=144, subsize2=64\n",
      "[jwst.ramp_fitting.utils:INFO] Extracting gain subarray to match science data\n",
      "[jwst.lib.reffile_utils:DEBUG] science xstart=1, xsize=2048, ystart=144, ysize=64\n",
      "[jwst.lib.reffile_utils:DEBUG] reference xstart=1, xsize=2048, ystart=1, ysize=2048\n",
      "[jwst.lib.reffile_utils:DEBUG] slice xstart=0, xstop=2048, ystart=143, ystop=207\n",
      "[jwst.lib.reffile_utils:DEBUG] ref substrt1=1, subsize1=2048, substrt2=1, subsize2=2048\n",
      "[jwst.lib.reffile_utils:DEBUG] sci substrt1=1, subsize1=2048, substrt2=144, subsize2=64\n",
      "[jwst.ramp_fitting.utils:INFO] Extracting readnoise subarray to match science data\n",
      "[jwst.lib.reffile_utils:DEBUG] science xstart=1, xsize=2048, ystart=144, ysize=64\n",
      "[jwst.lib.reffile_utils:DEBUG] reference xstart=1, xsize=2048, ystart=1, ysize=2048\n",
      "[jwst.lib.reffile_utils:DEBUG] slice xstart=0, xstop=2048, ystart=143, ystop=207\n",
      "[jwst.ramp_fitting.ols_fit:DEBUG] Max segments=1\n",
      "[jwst.ramp_fitting.ols_fit:DEBUG] Missing keyword DRPFRMS1, so setting to default value of 0\n",
      "[stdatamodels.util:DEBUG] Environmental \"STRICT_VALIDATION\" cannot be found. Using default value of \"False\".\n",
      "[stdatamodels.util:DEBUG] Environmental \"VALIDATE_ON_ASSIGNMENT\" cannot be found. Using default value of \"True\".\n",
      "[jwst.ramp_fitting.utils:DEBUG] The number of pixels having insufficient data\n",
      "[jwst.ramp_fitting.utils:DEBUG] due to excessive CRs or saturation 514:\n",
      "[jwst.ramp_fitting.utils:DEBUG] Count rates - min, mean, max, std: -336.968384, 34.334236, 6132.770996, 250.416580\n",
      "[jwst.ramp_fitting.ols_fit:DEBUG] Instrument: NIRCAM\n",
      "[jwst.ramp_fitting.ols_fit:DEBUG] Number of pixels in 2D array: 131072\n",
      "[jwst.ramp_fitting.ols_fit:DEBUG] Shape of 2D image: (64, 2048)\n",
      "[jwst.ramp_fitting.ols_fit:DEBUG] Shape of data cube: (8, 64, 2048)\n",
      "[jwst.ramp_fitting.ols_fit:DEBUG] Buffer size (bytes): 307200000\n",
      "[jwst.ramp_fitting.ols_fit:DEBUG] Number of rows per buffer: 64\n",
      "[jwst.ramp_fitting.ols_fit:INFO] Number of groups per integration: 8\n",
      "[jwst.ramp_fitting.ols_fit:INFO] Number of integrations: 152\n",
      "[jwst.ramp_fitting.ols_fit:DEBUG] The execution time in seconds: 193.232076\n",
      "[stdatamodels.util:DEBUG] Environmental \"STRICT_VALIDATION\" cannot be found. Using default value of \"False\".\n",
      "[stdatamodels.util:DEBUG] Environmental \"VALIDATE_ON_ASSIGNMENT\" cannot be found. Using default value of \"True\".\n",
      "[stdatamodels.util:DEBUG] Environmental \"STRICT_VALIDATION\" cannot be found. Using default value of \"False\".\n",
      "[stdatamodels.util:DEBUG] Environmental \"VALIDATE_ON_ASSIGNMENT\" cannot be found. Using default value of \"True\".\n",
      "[stdatamodels.util:DEBUG] Environmental \"STRICT_VALIDATION\" cannot be found. Using default value of \"False\".\n",
      "[stdatamodels.util:DEBUG] Environmental \"VALIDATE_ON_ASSIGNMENT\" cannot be found. Using default value of \"True\".\n"
     ]
    },
    {
     "name": "stderr",
     "output_type": "stream",
     "text": [
      "2021-09-29 12:54:58,173 - stpipe.Detector1Pipeline.ramp_fit - INFO - Step ramp_fit done\n"
     ]
    },
    {
     "name": "stdout",
     "output_type": "stream",
     "text": [
      "[stpipe.Detector1Pipeline.ramp_fit:INFO] Step ramp_fit done\n"
     ]
    },
    {
     "name": "stderr",
     "output_type": "stream",
     "text": [
      "2021-09-29 12:54:58,396 - stpipe.Detector1Pipeline.gain_scale - INFO - Step gain_scale running with args (<ImageModel(64, 2048) from jw00042001001_01101_00001-seg013_nrca3_uncal.fits>,).\n"
     ]
    },
    {
     "name": "stdout",
     "output_type": "stream",
     "text": [
      "[stpipe.Detector1Pipeline.gain_scale:INFO] Step gain_scale running with args (<ImageModel(64, 2048) from jw00042001001_01101_00001-seg013_nrca3_uncal.fits>,).\n"
     ]
    },
    {
     "name": "stderr",
     "output_type": "stream",
     "text": [
      "2021-09-29 12:54:58,400 - stpipe.Detector1Pipeline.gain_scale - INFO - Step gain_scale parameters are: {'pre_hooks': [], 'post_hooks': [], 'output_file': None, 'output_dir': None, 'output_ext': '.fits', 'output_use_model': False, 'output_use_index': True, 'save_results': False, 'skip': False, 'suffix': 'gain_scale', 'search_output_file': True, 'input_dir': '/home/kglidic/Software/Data_Challenge_Simulation_Pipeline_test/Original_Data_Set_NRCA3_DataChallengeSimulation/Raw_Data'}\n"
     ]
    },
    {
     "name": "stdout",
     "output_type": "stream",
     "text": [
      "[stpipe.Detector1Pipeline.gain_scale:INFO] Step gain_scale parameters are: {'pre_hooks': [], 'post_hooks': [], 'output_file': None, 'output_dir': None, 'output_ext': '.fits', 'output_use_model': False, 'output_use_index': True, 'save_results': False, 'skip': False, 'suffix': 'gain_scale', 'search_output_file': True, 'input_dir': '/home/kglidic/Software/Data_Challenge_Simulation_Pipeline_test/Original_Data_Set_NRCA3_DataChallengeSimulation/Raw_Data'}\n",
      "[stdatamodels.util:DEBUG] Environmental \"STRICT_VALIDATION\" cannot be found. Using default value of \"False\".\n",
      "[stdatamodels.util:DEBUG] Environmental \"VALIDATE_ON_ASSIGNMENT\" cannot be found. Using default value of \"True\".\n",
      "[stdatamodels.util:DEBUG] Environmental \"STRICT_VALIDATION\" cannot be found. Using default value of \"False\".\n",
      "[stdatamodels.util:DEBUG] Environmental \"VALIDATE_ON_ASSIGNMENT\" cannot be found. Using default value of \"True\".\n",
      "[stdatamodels.util:DEBUG] Environmental \"STRICT_VALIDATION\" cannot be found. Using default value of \"False\".\n",
      "[stdatamodels.util:DEBUG] Environmental \"VALIDATE_ON_ASSIGNMENT\" cannot be found. Using default value of \"True\".\n",
      "[stdatamodels.util:DEBUG] Environmental \"SKIP_FITS_UPDATE\" cannot be found. Using default value of \"None\".\n"
     ]
    },
    {
     "name": "stderr",
     "output_type": "stream",
     "text": [
      "2021-09-29 12:54:58,507 - stpipe.Detector1Pipeline.gain_scale - INFO - GAINFACT not found in gain reference file\n"
     ]
    },
    {
     "name": "stdout",
     "output_type": "stream",
     "text": [
      "[stpipe.Detector1Pipeline.gain_scale:INFO] GAINFACT not found in gain reference file\n"
     ]
    },
    {
     "name": "stderr",
     "output_type": "stream",
     "text": [
      "2021-09-29 12:54:58,509 - stpipe.Detector1Pipeline.gain_scale - INFO - Step will be skipped\n"
     ]
    },
    {
     "name": "stdout",
     "output_type": "stream",
     "text": [
      "[stpipe.Detector1Pipeline.gain_scale:INFO] Step will be skipped\n"
     ]
    },
    {
     "name": "stderr",
     "output_type": "stream",
     "text": [
      "2021-09-29 12:54:58,514 - stpipe.Detector1Pipeline.gain_scale - INFO - Step gain_scale done\n"
     ]
    },
    {
     "name": "stdout",
     "output_type": "stream",
     "text": [
      "[stpipe.Detector1Pipeline.gain_scale:INFO] Step gain_scale done\n"
     ]
    },
    {
     "name": "stderr",
     "output_type": "stream",
     "text": [
      "2021-09-29 12:54:58,722 - stpipe.Detector1Pipeline.gain_scale - INFO - Step gain_scale running with args (<CubeModel(152, 64, 2048) from jw00042001001_01101_00001-seg013_nrca3_uncal.fits>,).\n"
     ]
    },
    {
     "name": "stdout",
     "output_type": "stream",
     "text": [
      "[stpipe.Detector1Pipeline.gain_scale:INFO] Step gain_scale running with args (<CubeModel(152, 64, 2048) from jw00042001001_01101_00001-seg013_nrca3_uncal.fits>,).\n"
     ]
    },
    {
     "name": "stderr",
     "output_type": "stream",
     "text": [
      "2021-09-29 12:54:58,726 - stpipe.Detector1Pipeline.gain_scale - INFO - Step gain_scale parameters are: {'pre_hooks': [], 'post_hooks': [], 'output_file': None, 'output_dir': None, 'output_ext': '.fits', 'output_use_model': False, 'output_use_index': True, 'save_results': False, 'skip': False, 'suffix': 'gain_scaleints', 'search_output_file': True, 'input_dir': '/home/kglidic/Software/Data_Challenge_Simulation_Pipeline_test/Original_Data_Set_NRCA3_DataChallengeSimulation/Raw_Data'}\n"
     ]
    },
    {
     "name": "stdout",
     "output_type": "stream",
     "text": [
      "[stpipe.Detector1Pipeline.gain_scale:INFO] Step gain_scale parameters are: {'pre_hooks': [], 'post_hooks': [], 'output_file': None, 'output_dir': None, 'output_ext': '.fits', 'output_use_model': False, 'output_use_index': True, 'save_results': False, 'skip': False, 'suffix': 'gain_scaleints', 'search_output_file': True, 'input_dir': '/home/kglidic/Software/Data_Challenge_Simulation_Pipeline_test/Original_Data_Set_NRCA3_DataChallengeSimulation/Raw_Data'}\n",
      "[stdatamodels.util:DEBUG] Environmental \"STRICT_VALIDATION\" cannot be found. Using default value of \"False\".\n",
      "[stdatamodels.util:DEBUG] Environmental \"VALIDATE_ON_ASSIGNMENT\" cannot be found. Using default value of \"True\".\n",
      "[stdatamodels.util:DEBUG] Environmental \"STRICT_VALIDATION\" cannot be found. Using default value of \"False\".\n",
      "[stdatamodels.util:DEBUG] Environmental \"VALIDATE_ON_ASSIGNMENT\" cannot be found. Using default value of \"True\".\n",
      "[stdatamodels.util:DEBUG] Environmental \"STRICT_VALIDATION\" cannot be found. Using default value of \"False\".\n",
      "[stdatamodels.util:DEBUG] Environmental \"VALIDATE_ON_ASSIGNMENT\" cannot be found. Using default value of \"True\".\n",
      "[stdatamodels.util:DEBUG] Environmental \"SKIP_FITS_UPDATE\" cannot be found. Using default value of \"None\".\n"
     ]
    },
    {
     "name": "stderr",
     "output_type": "stream",
     "text": [
      "2021-09-29 12:54:58,838 - stpipe.Detector1Pipeline.gain_scale - INFO - GAINFACT not found in gain reference file\n"
     ]
    },
    {
     "name": "stdout",
     "output_type": "stream",
     "text": [
      "[stpipe.Detector1Pipeline.gain_scale:INFO] GAINFACT not found in gain reference file\n"
     ]
    },
    {
     "name": "stderr",
     "output_type": "stream",
     "text": [
      "2021-09-29 12:54:58,840 - stpipe.Detector1Pipeline.gain_scale - INFO - Step will be skipped\n"
     ]
    },
    {
     "name": "stdout",
     "output_type": "stream",
     "text": [
      "[stpipe.Detector1Pipeline.gain_scale:INFO] Step will be skipped\n"
     ]
    },
    {
     "name": "stderr",
     "output_type": "stream",
     "text": [
      "2021-09-29 12:54:58,846 - stpipe.Detector1Pipeline.gain_scale - INFO - Step gain_scale done\n"
     ]
    },
    {
     "name": "stdout",
     "output_type": "stream",
     "text": [
      "[stpipe.Detector1Pipeline.gain_scale:INFO] Step gain_scale done\n"
     ]
    },
    {
     "name": "stderr",
     "output_type": "stream",
     "text": [
      "2021-09-29 12:54:59,667 - stpipe.Detector1Pipeline - INFO - Saved model in /fenrirdata1/kg_data/pipeline_output/DataChallengeSimulation/JumpSkip_Test/jw00042001001_01101_00001-seg013_nrca3_rateints.fits\n"
     ]
    },
    {
     "name": "stdout",
     "output_type": "stream",
     "text": [
      "[stpipe.Detector1Pipeline:INFO] Saved model in /fenrirdata1/kg_data/pipeline_output/DataChallengeSimulation/JumpSkip_Test/jw00042001001_01101_00001-seg013_nrca3_rateints.fits\n",
      "[      root:INFO] ... ending calwebb_detector1\n"
     ]
    },
    {
     "name": "stderr",
     "output_type": "stream",
     "text": [
      "2021-09-29 12:54:59,822 - stpipe.Detector1Pipeline - INFO - Saved model in /fenrirdata1/kg_data/pipeline_output/DataChallengeSimulation/JumpSkip_Test/jw00042001001_01101_00001-seg013_nrca3_rate.fits\n"
     ]
    },
    {
     "name": "stdout",
     "output_type": "stream",
     "text": [
      "[stpipe.Detector1Pipeline:INFO] Saved model in /fenrirdata1/kg_data/pipeline_output/DataChallengeSimulation/JumpSkip_Test/jw00042001001_01101_00001-seg013_nrca3_rate.fits\n"
     ]
    },
    {
     "name": "stderr",
     "output_type": "stream",
     "text": [
      "2021-09-29 12:54:59,825 - stpipe.Detector1Pipeline - INFO - Step Detector1Pipeline done\n"
     ]
    },
    {
     "name": "stdout",
     "output_type": "stream",
     "text": [
      "[stpipe.Detector1Pipeline:INFO] Step Detector1Pipeline done\n",
      "Stage 1 Execution Time in Seconds: 587.3707756996155\n"
     ]
    }
   ],
   "source": [
    "startTime = time.time() #Time how long this step takes\n",
    "\n",
    "for filename_stage1 in all_uncal_files:\n",
    "    \n",
    "    # Instantiate the class. Do not provide a configuration file.\n",
    "    pipeline_stage1 = Detector1Pipeline()\n",
    "    \n",
    "    # Manually set any desired non-default parameter values\n",
    "    \n",
    "    # Default is to skip the persistence and IPC correction\n",
    "    # Make that explicit here\n",
    "    pipeline_stage1.persistence.skip = True\n",
    "    pipeline_stage1.ipc.skip = True\n",
    "    \n",
    "    pipeline_stage1.refpix.skip = False # Make sure to skip steps appropriate if using an alternate ref pix correction method. Otherwise, the default is 'False'.\n",
    "    pipeline_stage1.superbias.skip = False \n",
    "    \n",
    "    # The default value for CR flagging is 3 or 4 sigma\n",
    "    # which tends to be too aggressive and flags noise.\n",
    "    # Set it to something more reasonable\n",
    "    #pipeline_stage1.jump.rejection_threshold = 9\n",
    "    pipeline_stage1.jump.skip=True # Currently we are skipping this step as we are testing the pipeline with this simulation and lots of the data gets flagged. \n",
    "    \n",
    "    # Specify that you want results saved to a file\n",
    "    pipeline_stage1.save_results = True\n",
    "    pipeline_stage1.output_dir = '/fenrirdata1/kg_data/pipeline_output/DataChallengeSimulation/JumpSkip_Test/'\n",
    "    \n",
    "    # Execute the pipeline using the run method\n",
    "    result_stage1 = pipeline_stage1.run(filename_stage1)\n",
    "    \n",
    "executionTime = (time.time() - startTime)\n",
    "print('Stage 1 Execution Time in Seconds: ' + str(executionTime)) #Time how long this step takes"
   ]
  },
  {
   "cell_type": "markdown",
   "id": "7c725245",
   "metadata": {},
   "source": [
    "$\\textbf{OUTPUT FILES:}$ Output files are \\*rateints.fits. The pipeline creates a rate.fits and a rateint.fits files in cases where there is more than one integration in a file, but only a rate.fits file in the case where there is only one integration in a file."
   ]
  },
  {
   "cell_type": "markdown",
   "id": "3e122756",
   "metadata": {},
   "source": [
    "## $\\textbf{Association Files}$\n",
    "#### $\\textbf{Organizing the Detector1Pipeline Output Files}$\n",
    "Associations are basically just lists of things, mostly exposures, that are somehow related. An association file is a JSON-format file that contains a list of all the files with the same instrument set-up (filter, observation mode, etc) that might be combined into a single image. Relationships between multiple exposures are captured in an association, which is a means of identifying a set of exposures that belong together and may be dependent upon one another. The association concept permits exposures to be calibrated, archived, retrieved, and reprocessed as a set rather than as individual objects."
   ]
  },
  {
   "cell_type": "code",
   "execution_count": 19,
   "id": "a8737bdd",
   "metadata": {},
   "outputs": [],
   "source": [
    "asn_dir = '/fenrirdata1/kg_data/pipeline_output/DataChallengeSimulation/JumpSkip_Test/'\n",
    "level2_asn = (os.path.join(asn_dir, 'level2_asn.json'))\n",
    "asn_stage2 = asn_from_list(['/fenrirdata1/kg_data/pipeline_output/DataChallengeSimulation/JumpSkip_Test/jw00042001001_01101_00001-seg013_nrca3_rateints.fits'],rule=DMSLevel2bBase)\n",
    "with open(level2_asn, 'w') as fh:\n",
    "   fh.write(asn_stage2.dump()[1])"
   ]
  },
  {
   "cell_type": "markdown",
   "id": "e74db5aa",
   "metadata": {},
   "source": [
    "# $\\textbf{Stage 2}$\n",
    "### $\\textbf{Processes JWST imaging-mode slope data from Level-2a to Level-2b.}$\n",
    "Stage 2 processing consists of additional instrument-level and observing-mode corrections and calibrations to produce fully calibrated exposures. The details differ for imaging and spectroscopic exposures, and there are some corrections that are unique to certain instruments or modes. \n",
    "\n",
    "#### $\\textbf{Image2Pipeline:}$\n",
    "Imaging processing applies additional instrumental corrections and calibrations that result in a fully calibrated individual exposure. Imaging TSO data are run through this pipeline. The steps are very similar to those in Spec2Pipeline. WCS information is added, flat fielding and flux calibration are performed, and astrometric distortion is removed from the images. There are two parameter references used to control this pipeline, depending on whether the data are to be treated as Time Series Observation (TSO). The parameter reference is provided by CRDS. For TSO exposures, some steps are set to be skipped by default.\n",
    "\n",
    "$\\textbf{INPUT FILES:}$\n",
    "The input to Image2Pipeline is a countrate exposure, in the form of either “_rate” or “_rateints” data. A single input file can be processed or an ASN file listing multiple inputs can be used, in which case the processing steps will be applied to each input exposure, one at a time. If “_rateints” products are used as input, each step applies its algorithm to each integration in the exposure, where appropriate."
   ]
  },
  {
   "cell_type": "code",
   "execution_count": 20,
   "id": "6d7750d2",
   "metadata": {},
   "outputs": [
    {
     "name": "stderr",
     "output_type": "stream",
     "text": [
      "2021-09-29 13:09:06,851 - stpipe.Image2Pipeline - INFO - Image2Pipeline instance created.\n"
     ]
    },
    {
     "name": "stdout",
     "output_type": "stream",
     "text": [
      "[stpipe.Image2Pipeline:INFO] Image2Pipeline instance created.\n"
     ]
    },
    {
     "name": "stderr",
     "output_type": "stream",
     "text": [
      "2021-09-29 13:09:06,859 - stpipe.Image2Pipeline.bkg_subtract - INFO - BackgroundStep instance created.\n"
     ]
    },
    {
     "name": "stdout",
     "output_type": "stream",
     "text": [
      "[stpipe.Image2Pipeline.bkg_subtract:INFO] BackgroundStep instance created.\n"
     ]
    },
    {
     "name": "stderr",
     "output_type": "stream",
     "text": [
      "2021-09-29 13:09:06,896 - stpipe.Image2Pipeline.assign_wcs - INFO - AssignWcsStep instance created.\n"
     ]
    },
    {
     "name": "stdout",
     "output_type": "stream",
     "text": [
      "[stpipe.Image2Pipeline.assign_wcs:INFO] AssignWcsStep instance created.\n"
     ]
    },
    {
     "name": "stderr",
     "output_type": "stream",
     "text": [
      "2021-09-29 13:09:06,904 - stpipe.Image2Pipeline.flat_field - INFO - FlatFieldStep instance created.\n"
     ]
    },
    {
     "name": "stdout",
     "output_type": "stream",
     "text": [
      "[stpipe.Image2Pipeline.flat_field:INFO] FlatFieldStep instance created.\n"
     ]
    },
    {
     "name": "stderr",
     "output_type": "stream",
     "text": [
      "2021-09-29 13:09:06,910 - stpipe.Image2Pipeline.photom - INFO - PhotomStep instance created.\n"
     ]
    },
    {
     "name": "stdout",
     "output_type": "stream",
     "text": [
      "[stpipe.Image2Pipeline.photom:INFO] PhotomStep instance created.\n"
     ]
    },
    {
     "name": "stderr",
     "output_type": "stream",
     "text": [
      "2021-09-29 13:09:06,918 - stpipe.Image2Pipeline.resample - INFO - ResampleStep instance created.\n"
     ]
    },
    {
     "name": "stdout",
     "output_type": "stream",
     "text": [
      "[stpipe.Image2Pipeline.resample:INFO] ResampleStep instance created.\n"
     ]
    },
    {
     "name": "stderr",
     "output_type": "stream",
     "text": [
      "2021-09-29 13:09:07,799 - stpipe.Image2Pipeline - INFO - Step Image2Pipeline running with args ('/fenrirdata1/kg_data/pipeline_output/DataChallengeSimulation/JumpSkip_Test/level2_asn.json',).\n"
     ]
    },
    {
     "name": "stdout",
     "output_type": "stream",
     "text": [
      "[stpipe.Image2Pipeline:INFO] Step Image2Pipeline running with args ('/fenrirdata1/kg_data/pipeline_output/DataChallengeSimulation/JumpSkip_Test/level2_asn.json',).\n"
     ]
    },
    {
     "name": "stderr",
     "output_type": "stream",
     "text": [
      "2021-09-29 13:09:07,816 - stpipe.Image2Pipeline - INFO - Step Image2Pipeline parameters are: {'pre_hooks': [], 'post_hooks': [], 'output_file': None, 'output_dir': '/fenrirdata1/kg_data/pipeline_output/DataChallengeSimulation/JumpSkip_Test/', 'output_ext': '.fits', 'output_use_model': False, 'output_use_index': True, 'save_results': True, 'skip': False, 'suffix': None, 'search_output_file': True, 'input_dir': '', 'save_bsub': False, 'steps': {'bkg_subtract': {'pre_hooks': [], 'post_hooks': [], 'output_file': None, 'output_dir': None, 'output_ext': '.fits', 'output_use_model': False, 'output_use_index': True, 'save_results': False, 'skip': False, 'suffix': None, 'search_output_file': True, 'input_dir': '', 'save_combined_background': False, 'sigma': 3.0, 'maxiters': None}, 'assign_wcs': {'pre_hooks': [], 'post_hooks': [], 'output_file': None, 'output_dir': None, 'output_ext': '.fits', 'output_use_model': False, 'output_use_index': True, 'save_results': False, 'skip': False, 'suffix': None, 'search_output_file': True, 'input_dir': '', 'sip_approx': True, 'sip_max_pix_error': 0.25, 'sip_degree': None, 'sip_max_inv_pix_error': 0.25, 'sip_inv_degree': None, 'sip_npoints': 32, 'slit_y_low': -0.55, 'slit_y_high': 0.55}, 'flat_field': {'pre_hooks': [], 'post_hooks': [], 'output_file': None, 'output_dir': None, 'output_ext': '.fits', 'output_use_model': False, 'output_use_index': True, 'save_results': False, 'skip': False, 'suffix': None, 'search_output_file': True, 'input_dir': '', 'save_interpolated_flat': False, 'user_supplied_flat': None, 'inverse': False}, 'photom': {'pre_hooks': [], 'post_hooks': [], 'output_file': None, 'output_dir': None, 'output_ext': '.fits', 'output_use_model': False, 'output_use_index': True, 'save_results': False, 'skip': False, 'suffix': None, 'search_output_file': True, 'input_dir': '', 'inverse': False, 'source_type': None}, 'resample': {'pre_hooks': [], 'post_hooks': [], 'output_file': None, 'output_dir': None, 'output_ext': '.fits', 'output_use_model': False, 'output_use_index': True, 'save_results': False, 'skip': False, 'suffix': None, 'search_output_file': True, 'input_dir': '', 'pixfrac': 1.0, 'kernel': 'square', 'fillval': 'INDEF', 'weight_type': 'ivm', 'pixel_scale_ratio': 1.0, 'single': False, 'blendheaders': True, 'allowed_memory': None}}}\n"
     ]
    },
    {
     "name": "stdout",
     "output_type": "stream",
     "text": [
      "[stpipe.Image2Pipeline:INFO] Step Image2Pipeline parameters are: {'pre_hooks': [], 'post_hooks': [], 'output_file': None, 'output_dir': '/fenrirdata1/kg_data/pipeline_output/DataChallengeSimulation/JumpSkip_Test/', 'output_ext': '.fits', 'output_use_model': False, 'output_use_index': True, 'save_results': True, 'skip': False, 'suffix': None, 'search_output_file': True, 'input_dir': '', 'save_bsub': False, 'steps': {'bkg_subtract': {'pre_hooks': [], 'post_hooks': [], 'output_file': None, 'output_dir': None, 'output_ext': '.fits', 'output_use_model': False, 'output_use_index': True, 'save_results': False, 'skip': False, 'suffix': None, 'search_output_file': True, 'input_dir': '', 'save_combined_background': False, 'sigma': 3.0, 'maxiters': None}, 'assign_wcs': {'pre_hooks': [], 'post_hooks': [], 'output_file': None, 'output_dir': None, 'output_ext': '.fits', 'output_use_model': False, 'output_use_index': True, 'save_results': False, 'skip': False, 'suffix': None, 'search_output_file': True, 'input_dir': '', 'sip_approx': True, 'sip_max_pix_error': 0.25, 'sip_degree': None, 'sip_max_inv_pix_error': 0.25, 'sip_inv_degree': None, 'sip_npoints': 32, 'slit_y_low': -0.55, 'slit_y_high': 0.55}, 'flat_field': {'pre_hooks': [], 'post_hooks': [], 'output_file': None, 'output_dir': None, 'output_ext': '.fits', 'output_use_model': False, 'output_use_index': True, 'save_results': False, 'skip': False, 'suffix': None, 'search_output_file': True, 'input_dir': '', 'save_interpolated_flat': False, 'user_supplied_flat': None, 'inverse': False}, 'photom': {'pre_hooks': [], 'post_hooks': [], 'output_file': None, 'output_dir': None, 'output_ext': '.fits', 'output_use_model': False, 'output_use_index': True, 'save_results': False, 'skip': False, 'suffix': None, 'search_output_file': True, 'input_dir': '', 'inverse': False, 'source_type': None}, 'resample': {'pre_hooks': [], 'post_hooks': [], 'output_file': None, 'output_dir': None, 'output_ext': '.fits', 'output_use_model': False, 'output_use_index': True, 'save_results': False, 'skip': False, 'suffix': None, 'search_output_file': True, 'input_dir': '', 'pixfrac': 1.0, 'kernel': 'square', 'fillval': 'INDEF', 'weight_type': 'ivm', 'pixel_scale_ratio': 1.0, 'single': False, 'blendheaders': True, 'allowed_memory': None}}}\n",
      "[stdatamodels.util:DEBUG] Environmental \"STRICT_VALIDATION\" cannot be found. Using default value of \"False\".\n",
      "[stdatamodels.util:DEBUG] Environmental \"VALIDATE_ON_ASSIGNMENT\" cannot be found. Using default value of \"True\".\n",
      "[jwst.datamodels.container:DEBUG] Filtering datasets based on allowed exptypes ['science']:\n",
      "[jwst.datamodels.container:DEBUG] Files accepted for processing /fenrirdata1/kg_data/pipeline_output/DataChallengeSimulation/JumpSkip_Test/jw00042001001_01101_00001-seg013_nrca3_rateints.fits:\n",
      "[jwst.datamodels.util:DEBUG] Opening /fenrirdata1/kg_data/pipeline_output/DataChallengeSimulation/JumpSkip_Test/jw00042001001_01101_00001-seg013_nrca3_rateints.fits as <class 'jwst.datamodels.cube.CubeModel'>\n",
      "[stdatamodels.util:DEBUG] Environmental \"STRICT_VALIDATION\" cannot be found. Using default value of \"False\".\n",
      "[stdatamodels.util:DEBUG] Environmental \"VALIDATE_ON_ASSIGNMENT\" cannot be found. Using default value of \"True\".\n",
      "[stdatamodels.util:DEBUG] Environmental \"SKIP_FITS_UPDATE\" cannot be found. Using default value of \"None\".\n",
      "[stdatamodels.fits_support:DEBUG] FITS hash matches. Skipping FITS updating.\n",
      "[stdatamodels.fits_support:DEBUG] Skipping FITS keyword updating except for BinTableHDU and its associated header keywords.\n"
     ]
    },
    {
     "name": "stderr",
     "output_type": "stream",
     "text": [
      "2021-09-29 13:09:09,172 - stpipe.Image2Pipeline - INFO - Prefetching reference files for dataset: 'jw00042001001_01101_00001-seg013_nrca3_rateints.fits' reftypes = ['area', 'camera', 'collimator', 'dflat', 'disperser', 'distortion', 'drizpars', 'fflat', 'filteroffset', 'flat', 'fore', 'fpa', 'ifufore', 'ifupost', 'ifuslicer', 'msa', 'ote', 'photom', 'regions', 'sflat', 'specwcs', 'wavelengthrange', 'wfssbkg']\n"
     ]
    },
    {
     "name": "stdout",
     "output_type": "stream",
     "text": [
      "[stpipe.Image2Pipeline:INFO] Prefetching reference files for dataset: 'jw00042001001_01101_00001-seg013_nrca3_rateints.fits' reftypes = ['area', 'camera', 'collimator', 'dflat', 'disperser', 'distortion', 'drizpars', 'fflat', 'filteroffset', 'flat', 'fore', 'fpa', 'ifufore', 'ifupost', 'ifuslicer', 'msa', 'ote', 'photom', 'regions', 'sflat', 'specwcs', 'wavelengthrange', 'wfssbkg']\n"
     ]
    },
    {
     "name": "stderr",
     "output_type": "stream",
     "text": [
      "2021-09-29 13:09:09,184 - stpipe.Image2Pipeline - INFO - Prefetch for AREA reference file is '/fenrirdata1/kg_data/crds_cache/references/jwst/nircam/jwst_nircam_area_0031.fits'.\n"
     ]
    },
    {
     "name": "stdout",
     "output_type": "stream",
     "text": [
      "[stpipe.Image2Pipeline:INFO] Prefetch for AREA reference file is '/fenrirdata1/kg_data/crds_cache/references/jwst/nircam/jwst_nircam_area_0031.fits'.\n"
     ]
    },
    {
     "name": "stderr",
     "output_type": "stream",
     "text": [
      "2021-09-29 13:09:09,188 - stpipe.Image2Pipeline - INFO - Prefetch for CAMERA reference file is 'N/A'.\n"
     ]
    },
    {
     "name": "stdout",
     "output_type": "stream",
     "text": [
      "[stpipe.Image2Pipeline:INFO] Prefetch for CAMERA reference file is 'N/A'.\n"
     ]
    },
    {
     "name": "stderr",
     "output_type": "stream",
     "text": [
      "2021-09-29 13:09:09,190 - stpipe.Image2Pipeline - INFO - Prefetch for COLLIMATOR reference file is 'N/A'.\n"
     ]
    },
    {
     "name": "stdout",
     "output_type": "stream",
     "text": [
      "[stpipe.Image2Pipeline:INFO] Prefetch for COLLIMATOR reference file is 'N/A'.\n"
     ]
    },
    {
     "name": "stderr",
     "output_type": "stream",
     "text": [
      "2021-09-29 13:09:09,191 - stpipe.Image2Pipeline - INFO - Prefetch for DFLAT reference file is 'N/A'.\n"
     ]
    },
    {
     "name": "stdout",
     "output_type": "stream",
     "text": [
      "[stpipe.Image2Pipeline:INFO] Prefetch for DFLAT reference file is 'N/A'.\n"
     ]
    },
    {
     "name": "stderr",
     "output_type": "stream",
     "text": [
      "2021-09-29 13:09:09,193 - stpipe.Image2Pipeline - INFO - Prefetch for DISPERSER reference file is 'N/A'.\n"
     ]
    },
    {
     "name": "stdout",
     "output_type": "stream",
     "text": [
      "[stpipe.Image2Pipeline:INFO] Prefetch for DISPERSER reference file is 'N/A'.\n"
     ]
    },
    {
     "name": "stderr",
     "output_type": "stream",
     "text": [
      "2021-09-29 13:09:09,198 - stpipe.Image2Pipeline - INFO - Prefetch for DISTORTION reference file is '/fenrirdata1/kg_data/crds_cache/references/jwst/nircam/jwst_nircam_distortion_0089.asdf'.\n"
     ]
    },
    {
     "name": "stdout",
     "output_type": "stream",
     "text": [
      "[stpipe.Image2Pipeline:INFO] Prefetch for DISTORTION reference file is '/fenrirdata1/kg_data/crds_cache/references/jwst/nircam/jwst_nircam_distortion_0089.asdf'.\n"
     ]
    },
    {
     "name": "stderr",
     "output_type": "stream",
     "text": [
      "2021-09-29 13:09:09,203 - stpipe.Image2Pipeline - INFO - Prefetch for DRIZPARS reference file is '/fenrirdata1/kg_data/crds_cache/references/jwst/nircam/jwst_nircam_drizpars_0001.fits'.\n"
     ]
    },
    {
     "name": "stdout",
     "output_type": "stream",
     "text": [
      "[stpipe.Image2Pipeline:INFO] Prefetch for DRIZPARS reference file is '/fenrirdata1/kg_data/crds_cache/references/jwst/nircam/jwst_nircam_drizpars_0001.fits'.\n"
     ]
    },
    {
     "name": "stderr",
     "output_type": "stream",
     "text": [
      "2021-09-29 13:09:09,206 - stpipe.Image2Pipeline - INFO - Prefetch for FFLAT reference file is 'N/A'.\n"
     ]
    },
    {
     "name": "stdout",
     "output_type": "stream",
     "text": [
      "[stpipe.Image2Pipeline:INFO] Prefetch for FFLAT reference file is 'N/A'.\n"
     ]
    },
    {
     "name": "stderr",
     "output_type": "stream",
     "text": [
      "2021-09-29 13:09:09,208 - stpipe.Image2Pipeline - INFO - Prefetch for FILTEROFFSET reference file is '/fenrirdata1/kg_data/crds_cache/references/jwst/nircam/jwst_nircam_filteroffset_0004.asdf'.\n"
     ]
    },
    {
     "name": "stdout",
     "output_type": "stream",
     "text": [
      "[stpipe.Image2Pipeline:INFO] Prefetch for FILTEROFFSET reference file is '/fenrirdata1/kg_data/crds_cache/references/jwst/nircam/jwst_nircam_filteroffset_0004.asdf'.\n"
     ]
    },
    {
     "name": "stderr",
     "output_type": "stream",
     "text": [
      "2021-09-29 13:09:09,212 - stpipe.Image2Pipeline - INFO - Prefetch for FLAT reference file is '/fenrirdata1/kg_data/crds_cache/references/jwst/nircam/jwst_nircam_flat_0298.fits'.\n"
     ]
    },
    {
     "name": "stdout",
     "output_type": "stream",
     "text": [
      "[stpipe.Image2Pipeline:INFO] Prefetch for FLAT reference file is '/fenrirdata1/kg_data/crds_cache/references/jwst/nircam/jwst_nircam_flat_0298.fits'.\n"
     ]
    },
    {
     "name": "stderr",
     "output_type": "stream",
     "text": [
      "2021-09-29 13:09:09,215 - stpipe.Image2Pipeline - INFO - Prefetch for FORE reference file is 'N/A'.\n"
     ]
    },
    {
     "name": "stdout",
     "output_type": "stream",
     "text": [
      "[stpipe.Image2Pipeline:INFO] Prefetch for FORE reference file is 'N/A'.\n"
     ]
    },
    {
     "name": "stderr",
     "output_type": "stream",
     "text": [
      "2021-09-29 13:09:09,217 - stpipe.Image2Pipeline - INFO - Prefetch for FPA reference file is 'N/A'.\n"
     ]
    },
    {
     "name": "stdout",
     "output_type": "stream",
     "text": [
      "[stpipe.Image2Pipeline:INFO] Prefetch for FPA reference file is 'N/A'.\n"
     ]
    },
    {
     "name": "stderr",
     "output_type": "stream",
     "text": [
      "2021-09-29 13:09:09,219 - stpipe.Image2Pipeline - INFO - Prefetch for IFUFORE reference file is 'N/A'.\n"
     ]
    },
    {
     "name": "stdout",
     "output_type": "stream",
     "text": [
      "[stpipe.Image2Pipeline:INFO] Prefetch for IFUFORE reference file is 'N/A'.\n"
     ]
    },
    {
     "name": "stderr",
     "output_type": "stream",
     "text": [
      "2021-09-29 13:09:09,221 - stpipe.Image2Pipeline - INFO - Prefetch for IFUPOST reference file is 'N/A'.\n"
     ]
    },
    {
     "name": "stdout",
     "output_type": "stream",
     "text": [
      "[stpipe.Image2Pipeline:INFO] Prefetch for IFUPOST reference file is 'N/A'.\n"
     ]
    },
    {
     "name": "stderr",
     "output_type": "stream",
     "text": [
      "2021-09-29 13:09:09,223 - stpipe.Image2Pipeline - INFO - Prefetch for IFUSLICER reference file is 'N/A'.\n"
     ]
    },
    {
     "name": "stdout",
     "output_type": "stream",
     "text": [
      "[stpipe.Image2Pipeline:INFO] Prefetch for IFUSLICER reference file is 'N/A'.\n"
     ]
    },
    {
     "name": "stderr",
     "output_type": "stream",
     "text": [
      "2021-09-29 13:09:09,224 - stpipe.Image2Pipeline - INFO - Prefetch for MSA reference file is 'N/A'.\n"
     ]
    },
    {
     "name": "stdout",
     "output_type": "stream",
     "text": [
      "[stpipe.Image2Pipeline:INFO] Prefetch for MSA reference file is 'N/A'.\n"
     ]
    },
    {
     "name": "stderr",
     "output_type": "stream",
     "text": [
      "2021-09-29 13:09:09,227 - stpipe.Image2Pipeline - INFO - Prefetch for OTE reference file is 'N/A'.\n"
     ]
    },
    {
     "name": "stdout",
     "output_type": "stream",
     "text": [
      "[stpipe.Image2Pipeline:INFO] Prefetch for OTE reference file is 'N/A'.\n"
     ]
    },
    {
     "name": "stderr",
     "output_type": "stream",
     "text": [
      "2021-09-29 13:09:09,229 - stpipe.Image2Pipeline - INFO - Prefetch for PHOTOM reference file is '/fenrirdata1/kg_data/crds_cache/references/jwst/nircam/jwst_nircam_photom_0093.fits'.\n"
     ]
    },
    {
     "name": "stdout",
     "output_type": "stream",
     "text": [
      "[stpipe.Image2Pipeline:INFO] Prefetch for PHOTOM reference file is '/fenrirdata1/kg_data/crds_cache/references/jwst/nircam/jwst_nircam_photom_0093.fits'.\n"
     ]
    },
    {
     "name": "stderr",
     "output_type": "stream",
     "text": [
      "2021-09-29 13:09:09,237 - stpipe.Image2Pipeline - INFO - Prefetch for REGIONS reference file is 'N/A'.\n"
     ]
    },
    {
     "name": "stdout",
     "output_type": "stream",
     "text": [
      "[stpipe.Image2Pipeline:INFO] Prefetch for REGIONS reference file is 'N/A'.\n"
     ]
    },
    {
     "name": "stderr",
     "output_type": "stream",
     "text": [
      "2021-09-29 13:09:09,239 - stpipe.Image2Pipeline - INFO - Prefetch for SFLAT reference file is 'N/A'.\n"
     ]
    },
    {
     "name": "stdout",
     "output_type": "stream",
     "text": [
      "[stpipe.Image2Pipeline:INFO] Prefetch for SFLAT reference file is 'N/A'.\n"
     ]
    },
    {
     "name": "stderr",
     "output_type": "stream",
     "text": [
      "2021-09-29 13:09:09,241 - stpipe.Image2Pipeline - INFO - Prefetch for SPECWCS reference file is 'N/A'.\n"
     ]
    },
    {
     "name": "stdout",
     "output_type": "stream",
     "text": [
      "[stpipe.Image2Pipeline:INFO] Prefetch for SPECWCS reference file is 'N/A'.\n"
     ]
    },
    {
     "name": "stderr",
     "output_type": "stream",
     "text": [
      "2021-09-29 13:09:09,243 - stpipe.Image2Pipeline - INFO - Prefetch for WAVELENGTHRANGE reference file is 'N/A'.\n"
     ]
    },
    {
     "name": "stdout",
     "output_type": "stream",
     "text": [
      "[stpipe.Image2Pipeline:INFO] Prefetch for WAVELENGTHRANGE reference file is 'N/A'.\n"
     ]
    },
    {
     "name": "stderr",
     "output_type": "stream",
     "text": [
      "2021-09-29 13:09:09,245 - stpipe.Image2Pipeline - INFO - Prefetch for WFSSBKG reference file is 'N/A'.\n"
     ]
    },
    {
     "name": "stdout",
     "output_type": "stream",
     "text": [
      "[stpipe.Image2Pipeline:INFO] Prefetch for WFSSBKG reference file is 'N/A'.\n"
     ]
    },
    {
     "name": "stderr",
     "output_type": "stream",
     "text": [
      "2021-09-29 13:09:09,247 - stpipe.Image2Pipeline - INFO - Starting calwebb_image2 ...\n"
     ]
    },
    {
     "name": "stdout",
     "output_type": "stream",
     "text": [
      "[stpipe.Image2Pipeline:INFO] Starting calwebb_image2 ...\n"
     ]
    },
    {
     "name": "stderr",
     "output_type": "stream",
     "text": [
      "2021-09-29 13:09:09,272 - stpipe.Image2Pipeline - INFO - Processing product /fenrirdata1/kg_data/pipeline_output/DataChallengeSimulation/JumpSkip_Test/jw00042001001_01101_00001-seg013_nrca3\n"
     ]
    },
    {
     "name": "stdout",
     "output_type": "stream",
     "text": [
      "[stpipe.Image2Pipeline:INFO] Processing product /fenrirdata1/kg_data/pipeline_output/DataChallengeSimulation/JumpSkip_Test/jw00042001001_01101_00001-seg013_nrca3\n"
     ]
    },
    {
     "name": "stderr",
     "output_type": "stream",
     "text": [
      "2021-09-29 13:09:09,274 - stpipe.Image2Pipeline - INFO - Working on input /fenrirdata1/kg_data/pipeline_output/DataChallengeSimulation/JumpSkip_Test/jw00042001001_01101_00001-seg013_nrca3_rateints.fits ...\n"
     ]
    },
    {
     "name": "stdout",
     "output_type": "stream",
     "text": [
      "[stpipe.Image2Pipeline:INFO] Working on input /fenrirdata1/kg_data/pipeline_output/DataChallengeSimulation/JumpSkip_Test/jw00042001001_01101_00001-seg013_nrca3_rateints.fits ...\n",
      "[jwst.datamodels.util:DEBUG] Opening /fenrirdata1/kg_data/pipeline_output/DataChallengeSimulation/JumpSkip_Test/jw00042001001_01101_00001-seg013_nrca3_rateints.fits as <class 'jwst.datamodels.cube.CubeModel'>\n",
      "[stdatamodels.util:DEBUG] Environmental \"STRICT_VALIDATION\" cannot be found. Using default value of \"False\".\n",
      "[stdatamodels.util:DEBUG] Environmental \"VALIDATE_ON_ASSIGNMENT\" cannot be found. Using default value of \"True\".\n",
      "[stdatamodels.util:DEBUG] Environmental \"SKIP_FITS_UPDATE\" cannot be found. Using default value of \"None\".\n",
      "[stdatamodels.fits_support:DEBUG] FITS hash matches. Skipping FITS updating.\n",
      "[stdatamodels.fits_support:DEBUG] Skipping FITS keyword updating except for BinTableHDU and its associated header keywords.\n"
     ]
    },
    {
     "name": "stderr",
     "output_type": "stream",
     "text": [
      "2021-09-29 13:09:10,068 - stpipe.Image2Pipeline.assign_wcs - INFO - Step assign_wcs running with args (<CubeModel(152, 64, 2048) from jw00042001001_01101_00001-seg013_nrca3_rateints.fits>,).\n"
     ]
    },
    {
     "name": "stdout",
     "output_type": "stream",
     "text": [
      "[stpipe.Image2Pipeline.assign_wcs:INFO] Step assign_wcs running with args (<CubeModel(152, 64, 2048) from jw00042001001_01101_00001-seg013_nrca3_rateints.fits>,).\n"
     ]
    },
    {
     "name": "stderr",
     "output_type": "stream",
     "text": [
      "2021-09-29 13:09:10,073 - stpipe.Image2Pipeline.assign_wcs - INFO - Step assign_wcs parameters are: {'pre_hooks': [], 'post_hooks': [], 'output_file': None, 'output_dir': None, 'output_ext': '.fits', 'output_use_model': False, 'output_use_index': True, 'save_results': False, 'skip': False, 'suffix': None, 'search_output_file': True, 'input_dir': '/fenrirdata1/kg_data/pipeline_output/DataChallengeSimulation/JumpSkip_Test', 'sip_approx': True, 'sip_max_pix_error': 0.25, 'sip_degree': None, 'sip_max_inv_pix_error': 0.25, 'sip_inv_degree': None, 'sip_npoints': 32, 'slit_y_low': -0.55, 'slit_y_high': 0.55}\n"
     ]
    },
    {
     "name": "stdout",
     "output_type": "stream",
     "text": [
      "[stpipe.Image2Pipeline.assign_wcs:INFO] Step assign_wcs parameters are: {'pre_hooks': [], 'post_hooks': [], 'output_file': None, 'output_dir': None, 'output_ext': '.fits', 'output_use_model': False, 'output_use_index': True, 'save_results': False, 'skip': False, 'suffix': None, 'search_output_file': True, 'input_dir': '/fenrirdata1/kg_data/pipeline_output/DataChallengeSimulation/JumpSkip_Test', 'sip_approx': True, 'sip_max_pix_error': 0.25, 'sip_degree': None, 'sip_max_inv_pix_error': 0.25, 'sip_inv_degree': None, 'sip_npoints': 32, 'slit_y_low': -0.55, 'slit_y_high': 0.55}\n",
      "[stdatamodels.util:DEBUG] Environmental \"STRICT_VALIDATION\" cannot be found. Using default value of \"False\".\n",
      "[stdatamodels.util:DEBUG] Environmental \"VALIDATE_ON_ASSIGNMENT\" cannot be found. Using default value of \"True\".\n",
      "[stdatamodels.util:DEBUG] Environmental \"STRICT_VALIDATION\" cannot be found. Using default value of \"False\".\n",
      "[stdatamodels.util:DEBUG] Environmental \"VALIDATE_ON_ASSIGNMENT\" cannot be found. Using default value of \"True\".\n",
      "[stdatamodels.util:DEBUG] Environmental \"STRICT_VALIDATION\" cannot be found. Using default value of \"False\".\n",
      "[stdatamodels.util:DEBUG] Environmental \"VALIDATE_ON_ASSIGNMENT\" cannot be found. Using default value of \"True\".\n",
      "[stdatamodels.util:DEBUG] Environmental \"STRICT_VALIDATION\" cannot be found. Using default value of \"False\".\n",
      "[stdatamodels.util:DEBUG] Environmental \"VALIDATE_ON_ASSIGNMENT\" cannot be found. Using default value of \"True\".\n",
      "[stdatamodels.util:DEBUG] Environmental \"STRICT_VALIDATION\" cannot be found. Using default value of \"False\".\n",
      "[stdatamodels.util:DEBUG] Environmental \"VALIDATE_ON_ASSIGNMENT\" cannot be found. Using default value of \"True\".\n",
      "[stdatamodels.util:DEBUG] Environmental \"STRICT_VALIDATION\" cannot be found. Using default value of \"False\".\n",
      "[stdatamodels.util:DEBUG] Environmental \"VALIDATE_ON_ASSIGNMENT\" cannot be found. Using default value of \"True\".\n",
      "[stdatamodels.util:DEBUG] Environmental \"STRICT_VALIDATION\" cannot be found. Using default value of \"False\".\n",
      "[stdatamodels.util:DEBUG] Environmental \"VALIDATE_ON_ASSIGNMENT\" cannot be found. Using default value of \"True\".\n",
      "[stdatamodels.util:DEBUG] Environmental \"STRICT_VALIDATION\" cannot be found. Using default value of \"False\".\n",
      "[stdatamodels.util:DEBUG] Environmental \"VALIDATE_ON_ASSIGNMENT\" cannot be found. Using default value of \"True\".\n",
      "[stdatamodels.util:DEBUG] Environmental \"STRICT_VALIDATION\" cannot be found. Using default value of \"False\".\n",
      "[stdatamodels.util:DEBUG] Environmental \"VALIDATE_ON_ASSIGNMENT\" cannot be found. Using default value of \"True\".\n",
      "[stdatamodels.util:DEBUG] Environmental \"STRICT_VALIDATION\" cannot be found. Using default value of \"False\".\n",
      "[stdatamodels.util:DEBUG] Environmental \"VALIDATE_ON_ASSIGNMENT\" cannot be found. Using default value of \"True\".\n",
      "[stdatamodels.util:DEBUG] Environmental \"STRICT_VALIDATION\" cannot be found. Using default value of \"False\".\n",
      "[stdatamodels.util:DEBUG] Environmental \"VALIDATE_ON_ASSIGNMENT\" cannot be found. Using default value of \"True\".\n",
      "[stdatamodels.util:DEBUG] Environmental \"STRICT_VALIDATION\" cannot be found. Using default value of \"False\".\n",
      "[stdatamodels.util:DEBUG] Environmental \"VALIDATE_ON_ASSIGNMENT\" cannot be found. Using default value of \"True\".\n",
      "[stdatamodels.util:DEBUG] Environmental \"STRICT_VALIDATION\" cannot be found. Using default value of \"False\".\n",
      "[stdatamodels.util:DEBUG] Environmental \"VALIDATE_ON_ASSIGNMENT\" cannot be found. Using default value of \"True\".\n",
      "[stdatamodels.util:DEBUG] Environmental \"STRICT_VALIDATION\" cannot be found. Using default value of \"False\".\n",
      "[stdatamodels.util:DEBUG] Environmental \"VALIDATE_ON_ASSIGNMENT\" cannot be found. Using default value of \"True\".\n",
      "[stdatamodels.util:DEBUG] Environmental \"STRICT_VALIDATION\" cannot be found. Using default value of \"False\".\n",
      "[stdatamodels.util:DEBUG] Environmental \"VALIDATE_ON_ASSIGNMENT\" cannot be found. Using default value of \"True\".\n",
      "[stdatamodels.util:DEBUG] Environmental \"STRICT_VALIDATION\" cannot be found. Using default value of \"False\".\n",
      "[stdatamodels.util:DEBUG] Environmental \"VALIDATE_ON_ASSIGNMENT\" cannot be found. Using default value of \"True\".\n",
      "[jwst.assign_wcs.assign_wcs_step:DEBUG] reference files used in assign_wcs: {'distortion': '/fenrirdata1/kg_data/crds_cache/references/jwst/nircam/jwst_nircam_distortion_0089.asdf', 'filteroffset': '/fenrirdata1/kg_data/crds_cache/references/jwst/nircam/jwst_nircam_filteroffset_0004.asdf', 'specwcs': 'N/A', 'regions': 'N/A', 'wavelengthrange': 'N/A', 'camera': 'N/A', 'collimator': 'N/A', 'disperser': 'N/A', 'fore': 'N/A', 'fpa': 'N/A', 'msa': 'N/A', 'ote': 'N/A', 'ifupost': 'N/A', 'ifufore': 'N/A', 'ifuslicer': 'N/A'}\n",
      "[jwst.assign_wcs.nircam:DEBUG] reference files used in NIRCAM WCS pipeline: {'distortion': '/fenrirdata1/kg_data/crds_cache/references/jwst/nircam/jwst_nircam_distortion_0089.asdf', 'filteroffset': '/fenrirdata1/kg_data/crds_cache/references/jwst/nircam/jwst_nircam_filteroffset_0004.asdf', 'specwcs': None, 'regions': None, 'wavelengthrange': None, 'camera': None, 'collimator': None, 'disperser': None, 'fore': None, 'fpa': None, 'msa': None, 'ote': None, 'ifupost': None, 'ifufore': None, 'ifuslicer': None}\n",
      "[stdatamodels.util:DEBUG] Environmental \"STRICT_VALIDATION\" cannot be found. Using default value of \"False\".\n",
      "[stdatamodels.util:DEBUG] Environmental \"VALIDATE_ON_ASSIGNMENT\" cannot be found. Using default value of \"True\".\n",
      "[stdatamodels.util:DEBUG] Environmental \"VALIDATE_ON_ASSIGNMENT\" cannot be found. Using default value of \"True\".\n"
     ]
    },
    {
     "name": "stderr",
     "output_type": "stream",
     "text": [
      "[py.warnings:WARNING] /home/kglidic/miniconda3/envs/JWST-1.3.1/lib/python3.9/site-packages/gwcs/utils.py:72: DeprecationWarning: `np.int` is a deprecated alias for the builtin `int`. To silence this warning, use `int` by itself. Doing this will not modify any behavior and is safe. When replacing `np.int`, you may wish to use e.g. `np.int64` or `np.int32` to specify the precision. If you wish to review your current use, check the release note link for additional information.\n",
      "Deprecated in NumPy 1.20; for more details and guidance: https://numpy.org/devdocs/release/1.20.0-notes.html#deprecations\n",
      "  indx = np.asarray(np.floor(np.asarray(value) + 0.5), dtype=np.int)\n",
      "\n"
     ]
    },
    {
     "name": "stdout",
     "output_type": "stream",
     "text": [
      "[jwst.assign_wcs.util:INFO] Update S_REGION to POLYGON ICRS  175.560846873 26.702895140 175.560844974 26.703457812 175.540802246 26.703431012 175.540794772 26.702865173\n",
      "[jwst.assign_wcs.assign_wcs:INFO] assign_wcs updated S_REGION to POLYGON ICRS  175.560846873 26.702895140 175.560844974 26.703457812 175.540802246 26.703431012 175.540794772 26.702865173\n",
      "[jwst.assign_wcs.assign_wcs:INFO] COMPLETED assign_wcs\n"
     ]
    },
    {
     "name": "stderr",
     "output_type": "stream",
     "text": [
      "2021-09-29 13:09:11,738 - stpipe.Image2Pipeline.assign_wcs - INFO - Step assign_wcs done\n"
     ]
    },
    {
     "name": "stdout",
     "output_type": "stream",
     "text": [
      "[stpipe.Image2Pipeline.assign_wcs:INFO] Step assign_wcs done\n"
     ]
    },
    {
     "name": "stderr",
     "output_type": "stream",
     "text": [
      "2021-09-29 13:09:11,932 - stpipe.Image2Pipeline.flat_field - INFO - Step flat_field running with args (<CubeModel(152, 64, 2048) from jw00042001001_01101_00001-seg013_nrca3_rateints.fits>,).\n"
     ]
    },
    {
     "name": "stdout",
     "output_type": "stream",
     "text": [
      "[stpipe.Image2Pipeline.flat_field:INFO] Step flat_field running with args (<CubeModel(152, 64, 2048) from jw00042001001_01101_00001-seg013_nrca3_rateints.fits>,).\n"
     ]
    },
    {
     "name": "stderr",
     "output_type": "stream",
     "text": [
      "2021-09-29 13:09:11,935 - stpipe.Image2Pipeline.flat_field - INFO - Step flat_field parameters are: {'pre_hooks': [], 'post_hooks': [], 'output_file': None, 'output_dir': None, 'output_ext': '.fits', 'output_use_model': False, 'output_use_index': True, 'save_results': False, 'skip': False, 'suffix': None, 'search_output_file': True, 'input_dir': '/fenrirdata1/kg_data/pipeline_output/DataChallengeSimulation/JumpSkip_Test', 'save_interpolated_flat': False, 'user_supplied_flat': None, 'inverse': False}\n"
     ]
    },
    {
     "name": "stdout",
     "output_type": "stream",
     "text": [
      "[stpipe.Image2Pipeline.flat_field:INFO] Step flat_field parameters are: {'pre_hooks': [], 'post_hooks': [], 'output_file': None, 'output_dir': None, 'output_ext': '.fits', 'output_use_model': False, 'output_use_index': True, 'save_results': False, 'skip': False, 'suffix': None, 'search_output_file': True, 'input_dir': '/fenrirdata1/kg_data/pipeline_output/DataChallengeSimulation/JumpSkip_Test', 'save_interpolated_flat': False, 'user_supplied_flat': None, 'inverse': False}\n",
      "[stdatamodels.util:DEBUG] Environmental \"STRICT_VALIDATION\" cannot be found. Using default value of \"False\".\n",
      "[stdatamodels.util:DEBUG] Environmental \"VALIDATE_ON_ASSIGNMENT\" cannot be found. Using default value of \"True\".\n",
      "[stpipe.Image2Pipeline.flat_field:DEBUG] Input is CubeModel of exposure type NRC_TSIMAGE\n",
      "[stdatamodels.util:DEBUG] Environmental \"STRICT_VALIDATION\" cannot be found. Using default value of \"False\".\n",
      "[stdatamodels.util:DEBUG] Environmental \"VALIDATE_ON_ASSIGNMENT\" cannot be found. Using default value of \"True\".\n",
      "[stdatamodels.util:DEBUG] Environmental \"STRICT_VALIDATION\" cannot be found. Using default value of \"False\".\n",
      "[stdatamodels.util:DEBUG] Environmental \"VALIDATE_ON_ASSIGNMENT\" cannot be found. Using default value of \"True\".\n",
      "[stdatamodels.util:DEBUG] Environmental \"STRICT_VALIDATION\" cannot be found. Using default value of \"False\".\n",
      "[stdatamodels.util:DEBUG] Environmental \"VALIDATE_ON_ASSIGNMENT\" cannot be found. Using default value of \"True\".\n",
      "[stdatamodels.util:DEBUG] Environmental \"STRICT_VALIDATION\" cannot be found. Using default value of \"False\".\n",
      "[stdatamodels.util:DEBUG] Environmental \"VALIDATE_ON_ASSIGNMENT\" cannot be found. Using default value of \"True\".\n",
      "[stdatamodels.util:DEBUG] Environmental \"STRICT_VALIDATION\" cannot be found. Using default value of \"False\".\n",
      "[stdatamodels.util:DEBUG] Environmental \"VALIDATE_ON_ASSIGNMENT\" cannot be found. Using default value of \"True\".\n",
      "[stdatamodels.util:DEBUG] Environmental \"SKIP_FITS_UPDATE\" cannot be found. Using default value of \"None\".\n",
      "[stdatamodels.fits_support:DEBUG] No ASDF information found. Cannot skip updating from FITS headers.\n",
      "[stpipe.Image2Pipeline.flat_field:DEBUG] Using FLAT reference file: /fenrirdata1/kg_data/crds_cache/references/jwst/nircam/jwst_nircam_flat_0298.fits\n",
      "[stpipe.Image2Pipeline.flat_field:DEBUG] No reference found for type FFLAT\n",
      "[stpipe.Image2Pipeline.flat_field:DEBUG] No reference found for type SFLAT\n",
      "[stpipe.Image2Pipeline.flat_field:DEBUG] No reference found for type DFLAT\n",
      "[stdatamodels.util:DEBUG] Environmental \"VALIDATE_ON_ASSIGNMENT\" cannot be found. Using default value of \"True\".\n",
      "[jwst.flatfield.flat_field:DEBUG] Flat field correction for non-NIRSpec modes.\n",
      "[jwst.lib.reffile_utils:DEBUG] ref substrt1=1, subsize1=2048, substrt2=1, subsize2=2048\n",
      "[jwst.lib.reffile_utils:DEBUG] sci substrt1=1, subsize1=2048, substrt2=144, subsize2=64\n",
      "[jwst.flatfield.flat_field:INFO] Extracting matching subarray from flat\n",
      "[jwst.lib.reffile_utils:DEBUG] slice xstart=0, xstop=2048, ystart=143, ystop=207\n",
      "[stdatamodels.util:DEBUG] Environmental \"STRICT_VALIDATION\" cannot be found. Using default value of \"False\".\n",
      "[stdatamodels.util:DEBUG] Environmental \"VALIDATE_ON_ASSIGNMENT\" cannot be found. Using default value of \"True\".\n"
     ]
    },
    {
     "name": "stderr",
     "output_type": "stream",
     "text": [
      "2021-09-29 13:09:14,468 - stpipe.Image2Pipeline.flat_field - INFO - Step flat_field done\n"
     ]
    },
    {
     "name": "stdout",
     "output_type": "stream",
     "text": [
      "[stpipe.Image2Pipeline.flat_field:INFO] Step flat_field done\n"
     ]
    },
    {
     "name": "stderr",
     "output_type": "stream",
     "text": [
      "2021-09-29 13:09:14,659 - stpipe.Image2Pipeline.photom - INFO - Step photom running with args (<CubeModel(152, 64, 2048) from jw00042001001_01101_00001-seg013_nrca3_rateints.fits>,).\n"
     ]
    },
    {
     "name": "stdout",
     "output_type": "stream",
     "text": [
      "[stpipe.Image2Pipeline.photom:INFO] Step photom running with args (<CubeModel(152, 64, 2048) from jw00042001001_01101_00001-seg013_nrca3_rateints.fits>,).\n"
     ]
    },
    {
     "name": "stderr",
     "output_type": "stream",
     "text": [
      "2021-09-29 13:09:14,663 - stpipe.Image2Pipeline.photom - INFO - Step photom parameters are: {'pre_hooks': [], 'post_hooks': [], 'output_file': None, 'output_dir': None, 'output_ext': '.fits', 'output_use_model': False, 'output_use_index': True, 'save_results': False, 'skip': False, 'suffix': None, 'search_output_file': True, 'input_dir': '/fenrirdata1/kg_data/pipeline_output/DataChallengeSimulation/JumpSkip_Test', 'inverse': False, 'source_type': None}\n"
     ]
    },
    {
     "name": "stdout",
     "output_type": "stream",
     "text": [
      "[stpipe.Image2Pipeline.photom:INFO] Step photom parameters are: {'pre_hooks': [], 'post_hooks': [], 'output_file': None, 'output_dir': None, 'output_ext': '.fits', 'output_use_model': False, 'output_use_index': True, 'save_results': False, 'skip': False, 'suffix': None, 'search_output_file': True, 'input_dir': '/fenrirdata1/kg_data/pipeline_output/DataChallengeSimulation/JumpSkip_Test', 'inverse': False, 'source_type': None}\n",
      "[stdatamodels.util:DEBUG] Environmental \"STRICT_VALIDATION\" cannot be found. Using default value of \"False\".\n",
      "[stdatamodels.util:DEBUG] Environmental \"VALIDATE_ON_ASSIGNMENT\" cannot be found. Using default value of \"True\".\n",
      "[stpipe.Image2Pipeline.photom:DEBUG] Input is CubeModel\n",
      "[stdatamodels.util:DEBUG] Environmental \"STRICT_VALIDATION\" cannot be found. Using default value of \"False\".\n",
      "[stdatamodels.util:DEBUG] Environmental \"VALIDATE_ON_ASSIGNMENT\" cannot be found. Using default value of \"True\".\n",
      "[stdatamodels.util:DEBUG] Environmental \"STRICT_VALIDATION\" cannot be found. Using default value of \"False\".\n",
      "[stdatamodels.util:DEBUG] Environmental \"VALIDATE_ON_ASSIGNMENT\" cannot be found. Using default value of \"True\".\n"
     ]
    },
    {
     "name": "stderr",
     "output_type": "stream",
     "text": [
      "2021-09-29 13:09:14,753 - stpipe.Image2Pipeline.photom - INFO - Using photom reference file: /fenrirdata1/kg_data/crds_cache/references/jwst/nircam/jwst_nircam_photom_0093.fits\n"
     ]
    },
    {
     "name": "stdout",
     "output_type": "stream",
     "text": [
      "[stpipe.Image2Pipeline.photom:INFO] Using photom reference file: /fenrirdata1/kg_data/crds_cache/references/jwst/nircam/jwst_nircam_photom_0093.fits\n"
     ]
    },
    {
     "name": "stderr",
     "output_type": "stream",
     "text": [
      "2021-09-29 13:09:14,755 - stpipe.Image2Pipeline.photom - INFO - Using area reference file: /fenrirdata1/kg_data/crds_cache/references/jwst/nircam/jwst_nircam_area_0031.fits\n"
     ]
    },
    {
     "name": "stdout",
     "output_type": "stream",
     "text": [
      "[stpipe.Image2Pipeline.photom:INFO] Using area reference file: /fenrirdata1/kg_data/crds_cache/references/jwst/nircam/jwst_nircam_area_0031.fits\n",
      "[stdatamodels.util:DEBUG] Environmental \"VALIDATE_ON_ASSIGNMENT\" cannot be found. Using default value of \"True\".\n",
      "[jwst.photom.photom:INFO] Using instrument: NIRCAM\n",
      "[jwst.photom.photom:INFO]  detector: NRCA3\n",
      "[jwst.photom.photom:INFO]  exp_type: NRC_TSIMAGE\n",
      "[jwst.photom.photom:INFO]  filter: WLP4\n",
      "[jwst.photom.photom:INFO]  pupil: CLEAR\n",
      "[jwst.datamodels.util:DEBUG] Opening /fenrirdata1/kg_data/crds_cache/references/jwst/nircam/jwst_nircam_photom_0093.fits as <class 'jwst.datamodels.photom.NrcImgPhotomModel'>\n",
      "[stdatamodels.util:DEBUG] Environmental \"STRICT_VALIDATION\" cannot be found. Using default value of \"False\".\n",
      "[stdatamodels.util:DEBUG] Environmental \"VALIDATE_ON_ASSIGNMENT\" cannot be found. Using default value of \"True\".\n",
      "[stdatamodels.util:DEBUG] Environmental \"SKIP_FITS_UPDATE\" cannot be found. Using default value of \"None\".\n",
      "[stdatamodels.fits_support:DEBUG] No ASDF information found. Cannot skip updating from FITS headers.\n",
      "[jwst.datamodels.util:DEBUG] Opening /fenrirdata1/kg_data/crds_cache/references/jwst/nircam/jwst_nircam_area_0031.fits as <class 'jwst.datamodels.pixelarea.PixelAreaModel'>\n",
      "[stdatamodels.util:DEBUG] Environmental \"STRICT_VALIDATION\" cannot be found. Using default value of \"False\".\n",
      "[stdatamodels.util:DEBUG] Environmental \"VALIDATE_ON_ASSIGNMENT\" cannot be found. Using default value of \"True\".\n",
      "[stdatamodels.util:DEBUG] Environmental \"SKIP_FITS_UPDATE\" cannot be found. Using default value of \"None\".\n",
      "[jwst.photom.photom:INFO] Pixel area map copied to output.\n",
      "[jwst.photom.photom:DEBUG] PIXAR_SR = 2.31281811651448e-14, PIXAR_A2 = 0.000983992406311346\n",
      "[jwst.photom.photom:DEBUG] Starting cal_nircam\n",
      "[jwst.photom.photom:INFO] PHOTMJSR value: 18.6497\n"
     ]
    },
    {
     "name": "stderr",
     "output_type": "stream",
     "text": [
      "2021-09-29 13:09:16,507 - stpipe.Image2Pipeline.photom - INFO - Step photom done\n"
     ]
    },
    {
     "name": "stdout",
     "output_type": "stream",
     "text": [
      "[stpipe.Image2Pipeline.photom:INFO] Step photom done\n"
     ]
    },
    {
     "name": "stderr",
     "output_type": "stream",
     "text": [
      "2021-09-29 13:09:16,510 - stpipe.Image2Pipeline - INFO - Finished processing product /fenrirdata1/kg_data/pipeline_output/DataChallengeSimulation/JumpSkip_Test/jw00042001001_01101_00001-seg013_nrca3\n"
     ]
    },
    {
     "name": "stdout",
     "output_type": "stream",
     "text": [
      "[stpipe.Image2Pipeline:INFO] Finished processing product /fenrirdata1/kg_data/pipeline_output/DataChallengeSimulation/JumpSkip_Test/jw00042001001_01101_00001-seg013_nrca3\n"
     ]
    },
    {
     "name": "stderr",
     "output_type": "stream",
     "text": [
      "2021-09-29 13:09:16,513 - stpipe.Image2Pipeline - INFO - ... ending calwebb_image2\n"
     ]
    },
    {
     "name": "stdout",
     "output_type": "stream",
     "text": [
      "[stpipe.Image2Pipeline:INFO] ... ending calwebb_image2\n"
     ]
    },
    {
     "name": "stderr",
     "output_type": "stream",
     "text": [
      "2021-09-29 13:09:17,657 - stpipe.Image2Pipeline - INFO - Saved model in /fenrirdata1/kg_data/pipeline_output/DataChallengeSimulation/JumpSkip_Test/jw00042001001_01101_00001-seg013_nrca3_calints.fits\n"
     ]
    },
    {
     "name": "stdout",
     "output_type": "stream",
     "text": [
      "[stpipe.Image2Pipeline:INFO] Saved model in /fenrirdata1/kg_data/pipeline_output/DataChallengeSimulation/JumpSkip_Test/jw00042001001_01101_00001-seg013_nrca3_calints.fits\n"
     ]
    },
    {
     "name": "stderr",
     "output_type": "stream",
     "text": [
      "2021-09-29 13:09:17,659 - stpipe.Image2Pipeline - INFO - Step Image2Pipeline done\n"
     ]
    },
    {
     "name": "stdout",
     "output_type": "stream",
     "text": [
      "[stpipe.Image2Pipeline:INFO] Step Image2Pipeline done\n"
     ]
    }
   ],
   "source": [
    "#The file to use is the stage 2 association file defined above. \n",
    "\n",
    "# Instantiate the class. Do not provide a configuration file.\n",
    "pipeline_stage2 = Image2Pipeline()\n",
    "\n",
    "# Specify that you want results saved to a file\n",
    "pipeline_stage2.save_results = True\n",
    "pipeline_stage2.output_dir = '/fenrirdata1/kg_data/pipeline_output/DataChallengeSimulation/JumpSkip_Test/'\n",
    "\n",
    "# Execute the pipeline using the run method\n",
    "result_stage2 = pipeline_stage2.run(level2_asn)"
   ]
  },
  {
   "cell_type": "markdown",
   "id": "c5b2f285",
   "metadata": {},
   "source": [
    "$\\textbf{OUTPUT FILES:}$ The output is a fully calibrated, but unrectified, exposure, using the product type suffix “_cal” or “_calints”, depending on the type of input."
   ]
  },
  {
   "cell_type": "code",
   "execution_count": 21,
   "id": "0f070b1f",
   "metadata": {},
   "outputs": [],
   "source": [
    "#generate an association file required for stage 3\n",
    "asn_dir = '/fenrirdata1/kg_data/pipeline_output/DataChallengeSimulation/JumpSkip_Test/'\n",
    "level3_asn = (os.path.join(asn_dir, 'level3_asn.json'))\n",
    "asn_stage3 = asn_from_list(['/fenrirdata1/kg_data/pipeline_output/DataChallengeSimulation/JumpSkip_Test/jw00042001001_01101_00001-seg013_nrca3_calints.fits'], product_name ='DataChallengeSimulation_nrca3_level3_asn')\n",
    "with open(level3_asn, 'w') as fh:\n",
    "   fh.write(asn_stage3.dump()[1])"
   ]
  },
  {
   "cell_type": "markdown",
   "id": "f4e9158c",
   "metadata": {},
   "source": [
    "# $\\textbf{Stage 3}$\n",
    "### $\\textbf{Applies level 3 processing to TSO-mode data from}$\n",
    "Stage 3 processing consists of routines that work with multiple exposures and in most cases produce some kind of combined product. There are unique pipeline modules for stage 3 processing of imaging, spectroscopic, coronagraphic, AMI, and TSO observations. \n",
    "\n",
    "#### $\\textbf{Tso3Pipeline:}$\n",
    "The Stage 3 TSO pipeline is to be applied to associations of calibrated TSO exposures (e.g. NIRCam TS imaging, NIRCam TS grism, NIRISS SOSS, NIRSpec BrightObj, MIRI LRS Slitless) and is used to produce calibrated time-series photometry or spectra of the source object. This is a pipeline customized for TSO data. Grism TSO data undergo outlier detection (essentially a check for any cosmic rays/transient effects that were missed in Detector1Pipeline), background subtraction, spectral extraction, and photometry. Imaging TSO data are run through outlier detection, and photometry is performed.\n",
    "\n",
    "The logic that decides whether to apply the imaging or spectroscopy steps is based on the EXP_TYPE and TSOVISIT keyword values of the input data. Imaging steps are applied if either of the following is true:\n",
    "\n",
    "- <mark>EXP_TYPE = ‘NRC_TSIMAGE’</mark>\n",
    "\n",
    "- EXP_TYPE = ‘MIR_IMAGE’ and TSOVISIT = True\n",
    "\n",
    "$\\textbf{INPUT FILES:}$\n",
    "The spectroscopy steps will be applied in all other cases.\n",
    "The input to calwebb_tso3 is in the form of an ASN file that lists multiple exposures or exposure segments of a science target. The individual inputs should be in the form of 3D calibrated (“_calints”) products from either calwebb_image2 or calwebb_spec2 processing. "
   ]
  },
  {
   "cell_type": "code",
   "execution_count": 22,
   "id": "fd94d955",
   "metadata": {},
   "outputs": [
    {
     "name": "stderr",
     "output_type": "stream",
     "text": [
      "2021-09-29 13:10:17,909 - stpipe.Tso3Pipeline - INFO - Tso3Pipeline instance created.\n"
     ]
    },
    {
     "name": "stdout",
     "output_type": "stream",
     "text": [
      "[stpipe.Tso3Pipeline:INFO] Tso3Pipeline instance created.\n"
     ]
    },
    {
     "name": "stderr",
     "output_type": "stream",
     "text": [
      "2021-09-29 13:10:17,915 - stpipe.Tso3Pipeline.outlier_detection - INFO - OutlierDetectionStep instance created.\n"
     ]
    },
    {
     "name": "stdout",
     "output_type": "stream",
     "text": [
      "[stpipe.Tso3Pipeline.outlier_detection:INFO] OutlierDetectionStep instance created.\n"
     ]
    },
    {
     "name": "stderr",
     "output_type": "stream",
     "text": [
      "2021-09-29 13:10:17,918 - stpipe.Tso3Pipeline.tso_photometry - INFO - TSOPhotometryStep instance created.\n"
     ]
    },
    {
     "name": "stdout",
     "output_type": "stream",
     "text": [
      "[stpipe.Tso3Pipeline.tso_photometry:INFO] TSOPhotometryStep instance created.\n"
     ]
    },
    {
     "name": "stderr",
     "output_type": "stream",
     "text": [
      "2021-09-29 13:10:17,923 - stpipe.Tso3Pipeline.extract_1d - INFO - Extract1dStep instance created.\n"
     ]
    },
    {
     "name": "stdout",
     "output_type": "stream",
     "text": [
      "[stpipe.Tso3Pipeline.extract_1d:INFO] Extract1dStep instance created.\n"
     ]
    },
    {
     "name": "stderr",
     "output_type": "stream",
     "text": [
      "2021-09-29 13:10:17,926 - stpipe.Tso3Pipeline.white_light - INFO - WhiteLightStep instance created.\n"
     ]
    },
    {
     "name": "stdout",
     "output_type": "stream",
     "text": [
      "[stpipe.Tso3Pipeline.white_light:INFO] WhiteLightStep instance created.\n"
     ]
    },
    {
     "name": "stderr",
     "output_type": "stream",
     "text": [
      "2021-09-29 13:10:18,257 - stpipe.Tso3Pipeline - INFO - Step Tso3Pipeline running with args ('/fenrirdata1/kg_data/pipeline_output/DataChallengeSimulation/JumpSkip_Test/level3_asn.json',).\n"
     ]
    },
    {
     "name": "stdout",
     "output_type": "stream",
     "text": [
      "[stpipe.Tso3Pipeline:INFO] Step Tso3Pipeline running with args ('/fenrirdata1/kg_data/pipeline_output/DataChallengeSimulation/JumpSkip_Test/level3_asn.json',).\n"
     ]
    },
    {
     "name": "stderr",
     "output_type": "stream",
     "text": [
      "2021-09-29 13:10:18,270 - stpipe.Tso3Pipeline - INFO - Step Tso3Pipeline parameters are: {'pre_hooks': [], 'post_hooks': [], 'output_file': None, 'output_dir': '/fenrirdata1/kg_data/pipeline_output/DataChallengeSimulation/JumpSkip_Test', 'output_ext': '.fits', 'output_use_model': False, 'output_use_index': True, 'save_results': True, 'skip': False, 'suffix': None, 'search_output_file': True, 'input_dir': '', 'scale_detection': False, 'steps': {'outlier_detection': {'pre_hooks': [], 'post_hooks': [], 'output_file': None, 'output_dir': None, 'output_ext': '.fits', 'output_use_model': False, 'output_use_index': True, 'save_results': False, 'skip': True, 'suffix': None, 'search_output_file': False, 'input_dir': '', 'weight_type': 'ivm', 'pixfrac': 1.0, 'kernel': 'square', 'fillval': 'INDEF', 'nlow': 0, 'nhigh': 0, 'maskpt': 0.7, 'grow': 1, 'snr': '5.0 4.0', 'scale': '1.2 0.7', 'backg': 0.0, 'save_intermediate_results': False, 'resample_data': True, 'good_bits': '~DO_NOT_USE', 'scale_detection': False, 'allowed_memory': None}, 'tso_photometry': {'pre_hooks': [], 'post_hooks': [], 'output_file': None, 'output_dir': None, 'output_ext': '.fits', 'output_use_model': False, 'output_use_index': True, 'save_results': False, 'skip': False, 'suffix': None, 'search_output_file': True, 'input_dir': '', 'save_catalog': False}, 'extract_1d': {'pre_hooks': [], 'post_hooks': [], 'output_file': None, 'output_dir': None, 'output_ext': '.fits', 'output_use_model': False, 'output_use_index': True, 'save_results': False, 'skip': False, 'suffix': None, 'search_output_file': True, 'input_dir': '', 'smoothing_length': None, 'bkg_fit': 'poly', 'bkg_order': None, 'bkg_sigma_clip': 3.0, 'log_increment': 50, 'subtract_background': None, 'use_source_posn': None, 'apply_apcorr': True}, 'white_light': {'pre_hooks': [], 'post_hooks': [], 'output_file': None, 'output_dir': None, 'output_ext': '.ecsv', 'output_use_model': False, 'output_use_index': True, 'save_results': False, 'skip': False, 'suffix': 'whtlt', 'search_output_file': True, 'input_dir': '', 'min_wavelength': None, 'max_wavelength': None}}}\n"
     ]
    },
    {
     "name": "stdout",
     "output_type": "stream",
     "text": [
      "[stpipe.Tso3Pipeline:INFO] Step Tso3Pipeline parameters are: {'pre_hooks': [], 'post_hooks': [], 'output_file': None, 'output_dir': '/fenrirdata1/kg_data/pipeline_output/DataChallengeSimulation/JumpSkip_Test', 'output_ext': '.fits', 'output_use_model': False, 'output_use_index': True, 'save_results': True, 'skip': False, 'suffix': None, 'search_output_file': True, 'input_dir': '', 'scale_detection': False, 'steps': {'outlier_detection': {'pre_hooks': [], 'post_hooks': [], 'output_file': None, 'output_dir': None, 'output_ext': '.fits', 'output_use_model': False, 'output_use_index': True, 'save_results': False, 'skip': True, 'suffix': None, 'search_output_file': False, 'input_dir': '', 'weight_type': 'ivm', 'pixfrac': 1.0, 'kernel': 'square', 'fillval': 'INDEF', 'nlow': 0, 'nhigh': 0, 'maskpt': 0.7, 'grow': 1, 'snr': '5.0 4.0', 'scale': '1.2 0.7', 'backg': 0.0, 'save_intermediate_results': False, 'resample_data': True, 'good_bits': '~DO_NOT_USE', 'scale_detection': False, 'allowed_memory': None}, 'tso_photometry': {'pre_hooks': [], 'post_hooks': [], 'output_file': None, 'output_dir': None, 'output_ext': '.fits', 'output_use_model': False, 'output_use_index': True, 'save_results': False, 'skip': False, 'suffix': None, 'search_output_file': True, 'input_dir': '', 'save_catalog': False}, 'extract_1d': {'pre_hooks': [], 'post_hooks': [], 'output_file': None, 'output_dir': None, 'output_ext': '.fits', 'output_use_model': False, 'output_use_index': True, 'save_results': False, 'skip': False, 'suffix': None, 'search_output_file': True, 'input_dir': '', 'smoothing_length': None, 'bkg_fit': 'poly', 'bkg_order': None, 'bkg_sigma_clip': 3.0, 'log_increment': 50, 'subtract_background': None, 'use_source_posn': None, 'apply_apcorr': True}, 'white_light': {'pre_hooks': [], 'post_hooks': [], 'output_file': None, 'output_dir': None, 'output_ext': '.ecsv', 'output_use_model': False, 'output_use_index': True, 'save_results': False, 'skip': False, 'suffix': 'whtlt', 'search_output_file': True, 'input_dir': '', 'min_wavelength': None, 'max_wavelength': None}}}\n",
      "[stdatamodels.util:DEBUG] Environmental \"STRICT_VALIDATION\" cannot be found. Using default value of \"False\".\n",
      "[stdatamodels.util:DEBUG] Environmental \"VALIDATE_ON_ASSIGNMENT\" cannot be found. Using default value of \"True\".\n",
      "[jwst.datamodels.container:DEBUG] Filtering datasets based on allowed exptypes ['science']:\n",
      "[jwst.datamodels.container:DEBUG] Files accepted for processing /fenrirdata1/kg_data/pipeline_output/DataChallengeSimulation/JumpSkip_Test/jw00042001001_01101_00001-seg013_nrca3_calints.fits:\n",
      "[jwst.datamodels.util:DEBUG] Opening /fenrirdata1/kg_data/pipeline_output/DataChallengeSimulation/JumpSkip_Test/jw00042001001_01101_00001-seg013_nrca3_calints.fits as <class 'jwst.datamodels.cube.CubeModel'>\n",
      "[stdatamodels.util:DEBUG] Environmental \"STRICT_VALIDATION\" cannot be found. Using default value of \"False\".\n",
      "[stdatamodels.util:DEBUG] Environmental \"VALIDATE_ON_ASSIGNMENT\" cannot be found. Using default value of \"True\".\n",
      "[stdatamodels.util:DEBUG] Environmental \"SKIP_FITS_UPDATE\" cannot be found. Using default value of \"None\".\n",
      "[stdatamodels.fits_support:DEBUG] FITS hash matches. Skipping FITS updating.\n",
      "[stdatamodels.fits_support:DEBUG] Skipping FITS keyword updating except for BinTableHDU and its associated header keywords.\n"
     ]
    },
    {
     "name": "stderr",
     "output_type": "stream",
     "text": [
      "2021-09-29 13:10:18,935 - stpipe.Tso3Pipeline - INFO - Prefetching reference files for dataset: 'jw00042001001_01101_00001-seg013_nrca3_calints.fits' reftypes = ['gain', 'readnoise']\n"
     ]
    },
    {
     "name": "stdout",
     "output_type": "stream",
     "text": [
      "[stpipe.Tso3Pipeline:INFO] Prefetching reference files for dataset: 'jw00042001001_01101_00001-seg013_nrca3_calints.fits' reftypes = ['gain', 'readnoise']\n"
     ]
    },
    {
     "name": "stderr",
     "output_type": "stream",
     "text": [
      "2021-09-29 13:10:18,962 - stpipe.Tso3Pipeline - INFO - Prefetch for GAIN reference file is '/fenrirdata1/kg_data/crds_cache/references/jwst/nircam/jwst_nircam_gain_0048.fits'.\n"
     ]
    },
    {
     "name": "stdout",
     "output_type": "stream",
     "text": [
      "[stpipe.Tso3Pipeline:INFO] Prefetch for GAIN reference file is '/fenrirdata1/kg_data/crds_cache/references/jwst/nircam/jwst_nircam_gain_0048.fits'.\n"
     ]
    },
    {
     "name": "stderr",
     "output_type": "stream",
     "text": [
      "2021-09-29 13:10:18,966 - stpipe.Tso3Pipeline - INFO - Prefetch for READNOISE reference file is '/fenrirdata1/kg_data/crds_cache/references/jwst/nircam/jwst_nircam_readnoise_0030.fits'.\n"
     ]
    },
    {
     "name": "stdout",
     "output_type": "stream",
     "text": [
      "[stpipe.Tso3Pipeline:INFO] Prefetch for READNOISE reference file is '/fenrirdata1/kg_data/crds_cache/references/jwst/nircam/jwst_nircam_readnoise_0030.fits'.\n"
     ]
    },
    {
     "name": "stderr",
     "output_type": "stream",
     "text": [
      "2021-09-29 13:10:18,968 - stpipe.Tso3Pipeline - INFO - Starting calwebb_tso3...\n"
     ]
    },
    {
     "name": "stdout",
     "output_type": "stream",
     "text": [
      "[stpipe.Tso3Pipeline:INFO] Starting calwebb_tso3...\n",
      "[stdatamodels.util:DEBUG] Environmental \"STRICT_VALIDATION\" cannot be found. Using default value of \"False\".\n",
      "[stdatamodels.util:DEBUG] Environmental \"VALIDATE_ON_ASSIGNMENT\" cannot be found. Using default value of \"True\".\n",
      "[jwst.datamodels.container:DEBUG] Filtering datasets based on allowed exptypes ['science']:\n",
      "[jwst.datamodels.container:DEBUG] Files accepted for processing /fenrirdata1/kg_data/pipeline_output/DataChallengeSimulation/JumpSkip_Test/jw00042001001_01101_00001-seg013_nrca3_calints.fits:\n",
      "[jwst.datamodels.util:DEBUG] Opening /fenrirdata1/kg_data/pipeline_output/DataChallengeSimulation/JumpSkip_Test/jw00042001001_01101_00001-seg013_nrca3_calints.fits as <class 'jwst.datamodels.cube.CubeModel'>\n",
      "[stdatamodels.util:DEBUG] Environmental \"STRICT_VALIDATION\" cannot be found. Using default value of \"False\".\n",
      "[stdatamodels.util:DEBUG] Environmental \"VALIDATE_ON_ASSIGNMENT\" cannot be found. Using default value of \"True\".\n",
      "[stdatamodels.util:DEBUG] Environmental \"SKIP_FITS_UPDATE\" cannot be found. Using default value of \"None\".\n",
      "[stdatamodels.fits_support:DEBUG] FITS hash matches. Skipping FITS updating.\n",
      "[stdatamodels.fits_support:DEBUG] Skipping FITS keyword updating except for BinTableHDU and its associated header keywords.\n",
      "[stdatamodels.util:DEBUG] Environmental \"STRICT_VALIDATION\" cannot be found. Using default value of \"False\".\n",
      "[stdatamodels.util:DEBUG] Environmental \"VALIDATE_ON_ASSIGNMENT\" cannot be found. Using default value of \"True\".\n",
      "[stdatamodels.util:DEBUG] Environmental \"STRICT_VALIDATION\" cannot be found. Using default value of \"False\".\n",
      "[stdatamodels.util:DEBUG] Environmental \"VALIDATE_ON_ASSIGNMENT\" cannot be found. Using default value of \"True\".\n",
      "[stdatamodels.util:DEBUG] Environmental \"STRICT_VALIDATION\" cannot be found. Using default value of \"False\".\n",
      "[stdatamodels.util:DEBUG] Environmental \"VALIDATE_ON_ASSIGNMENT\" cannot be found. Using default value of \"True\".\n",
      "[stdatamodels.util:DEBUG] Environmental \"STRICT_VALIDATION\" cannot be found. Using default value of \"False\".\n",
      "[stdatamodels.util:DEBUG] Environmental \"VALIDATE_ON_ASSIGNMENT\" cannot be found. Using default value of \"True\".\n",
      "[stdatamodels.util:DEBUG] Environmental \"STRICT_VALIDATION\" cannot be found. Using default value of \"False\".\n",
      "[stdatamodels.util:DEBUG] Environmental \"VALIDATE_ON_ASSIGNMENT\" cannot be found. Using default value of \"True\".\n",
      "[stdatamodels.util:DEBUG] Environmental \"STRICT_VALIDATION\" cannot be found. Using default value of \"False\".\n",
      "[stdatamodels.util:DEBUG] Environmental \"VALIDATE_ON_ASSIGNMENT\" cannot be found. Using default value of \"True\".\n",
      "[stdatamodels.util:DEBUG] Environmental \"STRICT_VALIDATION\" cannot be found. Using default value of \"False\".\n",
      "[stdatamodels.util:DEBUG] Environmental \"VALIDATE_ON_ASSIGNMENT\" cannot be found. Using default value of \"True\".\n",
      "[stdatamodels.util:DEBUG] Environmental \"STRICT_VALIDATION\" cannot be found. Using default value of \"False\".\n",
      "[stdatamodels.util:DEBUG] Environmental \"VALIDATE_ON_ASSIGNMENT\" cannot be found. Using default value of \"True\".\n",
      "[stdatamodels.util:DEBUG] Environmental \"STRICT_VALIDATION\" cannot be found. Using default value of \"False\".\n",
      "[stdatamodels.util:DEBUG] Environmental \"VALIDATE_ON_ASSIGNMENT\" cannot be found. Using default value of \"True\".\n",
      "[stdatamodels.util:DEBUG] Environmental \"STRICT_VALIDATION\" cannot be found. Using default value of \"False\".\n",
      "[stdatamodels.util:DEBUG] Environmental \"VALIDATE_ON_ASSIGNMENT\" cannot be found. Using default value of \"True\".\n",
      "[stdatamodels.util:DEBUG] Environmental \"STRICT_VALIDATION\" cannot be found. Using default value of \"False\".\n",
      "[stdatamodels.util:DEBUG] Environmental \"VALIDATE_ON_ASSIGNMENT\" cannot be found. Using default value of \"True\".\n",
      "[stdatamodels.util:DEBUG] Environmental \"STRICT_VALIDATION\" cannot be found. Using default value of \"False\".\n",
      "[stdatamodels.util:DEBUG] Environmental \"VALIDATE_ON_ASSIGNMENT\" cannot be found. Using default value of \"True\".\n",
      "[stdatamodels.util:DEBUG] Environmental \"STRICT_VALIDATION\" cannot be found. Using default value of \"False\".\n",
      "[stdatamodels.util:DEBUG] Environmental \"VALIDATE_ON_ASSIGNMENT\" cannot be found. Using default value of \"True\".\n",
      "[stdatamodels.util:DEBUG] Environmental \"STRICT_VALIDATION\" cannot be found. Using default value of \"False\".\n",
      "[stdatamodels.util:DEBUG] Environmental \"VALIDATE_ON_ASSIGNMENT\" cannot be found. Using default value of \"True\".\n",
      "[stdatamodels.util:DEBUG] Environmental \"STRICT_VALIDATION\" cannot be found. Using default value of \"False\".\n",
      "[stdatamodels.util:DEBUG] Environmental \"VALIDATE_ON_ASSIGNMENT\" cannot be found. Using default value of \"True\".\n",
      "[stdatamodels.util:DEBUG] Environmental \"STRICT_VALIDATION\" cannot be found. Using default value of \"False\".\n",
      "[stdatamodels.util:DEBUG] Environmental \"VALIDATE_ON_ASSIGNMENT\" cannot be found. Using default value of \"True\".\n",
      "[stdatamodels.util:DEBUG] Environmental \"STRICT_VALIDATION\" cannot be found. Using default value of \"False\".\n",
      "[stdatamodels.util:DEBUG] Environmental \"VALIDATE_ON_ASSIGNMENT\" cannot be found. Using default value of \"True\".\n",
      "[stdatamodels.util:DEBUG] Environmental \"STRICT_VALIDATION\" cannot be found. Using default value of \"False\".\n",
      "[stdatamodels.util:DEBUG] Environmental \"VALIDATE_ON_ASSIGNMENT\" cannot be found. Using default value of \"True\".\n",
      "[stdatamodels.util:DEBUG] Environmental \"STRICT_VALIDATION\" cannot be found. Using default value of \"False\".\n",
      "[stdatamodels.util:DEBUG] Environmental \"VALIDATE_ON_ASSIGNMENT\" cannot be found. Using default value of \"True\".\n",
      "[stdatamodels.util:DEBUG] Environmental \"STRICT_VALIDATION\" cannot be found. Using default value of \"False\".\n",
      "[stdatamodels.util:DEBUG] Environmental \"VALIDATE_ON_ASSIGNMENT\" cannot be found. Using default value of \"True\".\n",
      "[stdatamodels.util:DEBUG] Environmental \"STRICT_VALIDATION\" cannot be found. Using default value of \"False\".\n",
      "[stdatamodels.util:DEBUG] Environmental \"VALIDATE_ON_ASSIGNMENT\" cannot be found. Using default value of \"True\".\n",
      "[stdatamodels.util:DEBUG] Environmental \"STRICT_VALIDATION\" cannot be found. Using default value of \"False\".\n",
      "[stdatamodels.util:DEBUG] Environmental \"VALIDATE_ON_ASSIGNMENT\" cannot be found. Using default value of \"True\".\n",
      "[stdatamodels.util:DEBUG] Environmental \"STRICT_VALIDATION\" cannot be found. Using default value of \"False\".\n",
      "[stdatamodels.util:DEBUG] Environmental \"VALIDATE_ON_ASSIGNMENT\" cannot be found. Using default value of \"True\".\n",
      "[stdatamodels.util:DEBUG] Environmental \"STRICT_VALIDATION\" cannot be found. Using default value of \"False\".\n",
      "[stdatamodels.util:DEBUG] Environmental \"VALIDATE_ON_ASSIGNMENT\" cannot be found. Using default value of \"True\".\n",
      "[stdatamodels.util:DEBUG] Environmental \"STRICT_VALIDATION\" cannot be found. Using default value of \"False\".\n",
      "[stdatamodels.util:DEBUG] Environmental \"VALIDATE_ON_ASSIGNMENT\" cannot be found. Using default value of \"True\".\n",
      "[stdatamodels.util:DEBUG] Environmental \"STRICT_VALIDATION\" cannot be found. Using default value of \"False\".\n",
      "[stdatamodels.util:DEBUG] Environmental \"VALIDATE_ON_ASSIGNMENT\" cannot be found. Using default value of \"True\".\n",
      "[stdatamodels.util:DEBUG] Environmental \"STRICT_VALIDATION\" cannot be found. Using default value of \"False\".\n",
      "[stdatamodels.util:DEBUG] Environmental \"VALIDATE_ON_ASSIGNMENT\" cannot be found. Using default value of \"True\".\n",
      "[stdatamodels.util:DEBUG] Environmental \"STRICT_VALIDATION\" cannot be found. Using default value of \"False\".\n",
      "[stdatamodels.util:DEBUG] Environmental \"VALIDATE_ON_ASSIGNMENT\" cannot be found. Using default value of \"True\".\n",
      "[stdatamodels.util:DEBUG] Environmental \"STRICT_VALIDATION\" cannot be found. Using default value of \"False\".\n",
      "[stdatamodels.util:DEBUG] Environmental \"VALIDATE_ON_ASSIGNMENT\" cannot be found. Using default value of \"True\".\n",
      "[stdatamodels.util:DEBUG] Environmental \"STRICT_VALIDATION\" cannot be found. Using default value of \"False\".\n",
      "[stdatamodels.util:DEBUG] Environmental \"VALIDATE_ON_ASSIGNMENT\" cannot be found. Using default value of \"True\".\n",
      "[stdatamodels.util:DEBUG] Environmental \"STRICT_VALIDATION\" cannot be found. Using default value of \"False\".\n",
      "[stdatamodels.util:DEBUG] Environmental \"VALIDATE_ON_ASSIGNMENT\" cannot be found. Using default value of \"True\".\n",
      "[stdatamodels.util:DEBUG] Environmental \"STRICT_VALIDATION\" cannot be found. Using default value of \"False\".\n"
     ]
    },
    {
     "name": "stdout",
     "output_type": "stream",
     "text": [
      "[stdatamodels.util:DEBUG] Environmental \"VALIDATE_ON_ASSIGNMENT\" cannot be found. Using default value of \"True\".\n",
      "[stdatamodels.util:DEBUG] Environmental \"STRICT_VALIDATION\" cannot be found. Using default value of \"False\".\n",
      "[stdatamodels.util:DEBUG] Environmental \"VALIDATE_ON_ASSIGNMENT\" cannot be found. Using default value of \"True\".\n",
      "[stdatamodels.util:DEBUG] Environmental \"STRICT_VALIDATION\" cannot be found. Using default value of \"False\".\n",
      "[stdatamodels.util:DEBUG] Environmental \"VALIDATE_ON_ASSIGNMENT\" cannot be found. Using default value of \"True\".\n",
      "[stdatamodels.util:DEBUG] Environmental \"STRICT_VALIDATION\" cannot be found. Using default value of \"False\".\n",
      "[stdatamodels.util:DEBUG] Environmental \"VALIDATE_ON_ASSIGNMENT\" cannot be found. Using default value of \"True\".\n",
      "[stdatamodels.util:DEBUG] Environmental \"STRICT_VALIDATION\" cannot be found. Using default value of \"False\".\n",
      "[stdatamodels.util:DEBUG] Environmental \"VALIDATE_ON_ASSIGNMENT\" cannot be found. Using default value of \"True\".\n",
      "[stdatamodels.util:DEBUG] Environmental \"STRICT_VALIDATION\" cannot be found. Using default value of \"False\".\n",
      "[stdatamodels.util:DEBUG] Environmental \"VALIDATE_ON_ASSIGNMENT\" cannot be found. Using default value of \"True\".\n",
      "[stdatamodels.util:DEBUG] Environmental \"STRICT_VALIDATION\" cannot be found. Using default value of \"False\".\n",
      "[stdatamodels.util:DEBUG] Environmental \"VALIDATE_ON_ASSIGNMENT\" cannot be found. Using default value of \"True\".\n",
      "[stdatamodels.util:DEBUG] Environmental \"STRICT_VALIDATION\" cannot be found. Using default value of \"False\".\n",
      "[stdatamodels.util:DEBUG] Environmental \"VALIDATE_ON_ASSIGNMENT\" cannot be found. Using default value of \"True\".\n",
      "[stdatamodels.util:DEBUG] Environmental \"STRICT_VALIDATION\" cannot be found. Using default value of \"False\".\n",
      "[stdatamodels.util:DEBUG] Environmental \"VALIDATE_ON_ASSIGNMENT\" cannot be found. Using default value of \"True\".\n",
      "[stdatamodels.util:DEBUG] Environmental \"STRICT_VALIDATION\" cannot be found. Using default value of \"False\".\n",
      "[stdatamodels.util:DEBUG] Environmental \"VALIDATE_ON_ASSIGNMENT\" cannot be found. Using default value of \"True\".\n",
      "[stdatamodels.util:DEBUG] Environmental \"STRICT_VALIDATION\" cannot be found. Using default value of \"False\".\n",
      "[stdatamodels.util:DEBUG] Environmental \"VALIDATE_ON_ASSIGNMENT\" cannot be found. Using default value of \"True\".\n",
      "[stdatamodels.util:DEBUG] Environmental \"STRICT_VALIDATION\" cannot be found. Using default value of \"False\".\n",
      "[stdatamodels.util:DEBUG] Environmental \"VALIDATE_ON_ASSIGNMENT\" cannot be found. Using default value of \"True\".\n",
      "[stdatamodels.util:DEBUG] Environmental \"STRICT_VALIDATION\" cannot be found. Using default value of \"False\".\n",
      "[stdatamodels.util:DEBUG] Environmental \"VALIDATE_ON_ASSIGNMENT\" cannot be found. Using default value of \"True\".\n",
      "[stdatamodels.util:DEBUG] Environmental \"STRICT_VALIDATION\" cannot be found. Using default value of \"False\".\n",
      "[stdatamodels.util:DEBUG] Environmental \"VALIDATE_ON_ASSIGNMENT\" cannot be found. Using default value of \"True\".\n",
      "[stdatamodels.util:DEBUG] Environmental \"STRICT_VALIDATION\" cannot be found. Using default value of \"False\".\n",
      "[stdatamodels.util:DEBUG] Environmental \"VALIDATE_ON_ASSIGNMENT\" cannot be found. Using default value of \"True\".\n",
      "[stdatamodels.util:DEBUG] Environmental \"STRICT_VALIDATION\" cannot be found. Using default value of \"False\".\n",
      "[stdatamodels.util:DEBUG] Environmental \"VALIDATE_ON_ASSIGNMENT\" cannot be found. Using default value of \"True\".\n",
      "[stdatamodels.util:DEBUG] Environmental \"STRICT_VALIDATION\" cannot be found. Using default value of \"False\".\n",
      "[stdatamodels.util:DEBUG] Environmental \"VALIDATE_ON_ASSIGNMENT\" cannot be found. Using default value of \"True\".\n",
      "[stdatamodels.util:DEBUG] Environmental \"STRICT_VALIDATION\" cannot be found. Using default value of \"False\".\n",
      "[stdatamodels.util:DEBUG] Environmental \"VALIDATE_ON_ASSIGNMENT\" cannot be found. Using default value of \"True\".\n",
      "[stdatamodels.util:DEBUG] Environmental \"STRICT_VALIDATION\" cannot be found. Using default value of \"False\".\n",
      "[stdatamodels.util:DEBUG] Environmental \"VALIDATE_ON_ASSIGNMENT\" cannot be found. Using default value of \"True\".\n",
      "[stdatamodels.util:DEBUG] Environmental \"STRICT_VALIDATION\" cannot be found. Using default value of \"False\".\n",
      "[stdatamodels.util:DEBUG] Environmental \"VALIDATE_ON_ASSIGNMENT\" cannot be found. Using default value of \"True\".\n",
      "[stdatamodels.util:DEBUG] Environmental \"STRICT_VALIDATION\" cannot be found. Using default value of \"False\".\n",
      "[stdatamodels.util:DEBUG] Environmental \"VALIDATE_ON_ASSIGNMENT\" cannot be found. Using default value of \"True\".\n",
      "[stdatamodels.util:DEBUG] Environmental \"STRICT_VALIDATION\" cannot be found. Using default value of \"False\".\n",
      "[stdatamodels.util:DEBUG] Environmental \"VALIDATE_ON_ASSIGNMENT\" cannot be found. Using default value of \"True\".\n",
      "[stdatamodels.util:DEBUG] Environmental \"STRICT_VALIDATION\" cannot be found. Using default value of \"False\".\n",
      "[stdatamodels.util:DEBUG] Environmental \"VALIDATE_ON_ASSIGNMENT\" cannot be found. Using default value of \"True\".\n",
      "[stdatamodels.util:DEBUG] Environmental \"STRICT_VALIDATION\" cannot be found. Using default value of \"False\".\n",
      "[stdatamodels.util:DEBUG] Environmental \"VALIDATE_ON_ASSIGNMENT\" cannot be found. Using default value of \"True\".\n",
      "[stdatamodels.util:DEBUG] Environmental \"STRICT_VALIDATION\" cannot be found. Using default value of \"False\".\n",
      "[stdatamodels.util:DEBUG] Environmental \"VALIDATE_ON_ASSIGNMENT\" cannot be found. Using default value of \"True\".\n",
      "[stdatamodels.util:DEBUG] Environmental \"STRICT_VALIDATION\" cannot be found. Using default value of \"False\".\n",
      "[stdatamodels.util:DEBUG] Environmental \"VALIDATE_ON_ASSIGNMENT\" cannot be found. Using default value of \"True\".\n",
      "[stdatamodels.util:DEBUG] Environmental \"STRICT_VALIDATION\" cannot be found. Using default value of \"False\".\n",
      "[stdatamodels.util:DEBUG] Environmental \"VALIDATE_ON_ASSIGNMENT\" cannot be found. Using default value of \"True\".\n",
      "[stdatamodels.util:DEBUG] Environmental \"STRICT_VALIDATION\" cannot be found. Using default value of \"False\".\n",
      "[stdatamodels.util:DEBUG] Environmental \"VALIDATE_ON_ASSIGNMENT\" cannot be found. Using default value of \"True\".\n",
      "[stdatamodels.util:DEBUG] Environmental \"STRICT_VALIDATION\" cannot be found. Using default value of \"False\".\n",
      "[stdatamodels.util:DEBUG] Environmental \"VALIDATE_ON_ASSIGNMENT\" cannot be found. Using default value of \"True\".\n",
      "[stdatamodels.util:DEBUG] Environmental \"STRICT_VALIDATION\" cannot be found. Using default value of \"False\".\n",
      "[stdatamodels.util:DEBUG] Environmental \"VALIDATE_ON_ASSIGNMENT\" cannot be found. Using default value of \"True\".\n",
      "[stdatamodels.util:DEBUG] Environmental \"STRICT_VALIDATION\" cannot be found. Using default value of \"False\".\n",
      "[stdatamodels.util:DEBUG] Environmental \"VALIDATE_ON_ASSIGNMENT\" cannot be found. Using default value of \"True\".\n",
      "[stdatamodels.util:DEBUG] Environmental \"STRICT_VALIDATION\" cannot be found. Using default value of \"False\".\n",
      "[stdatamodels.util:DEBUG] Environmental \"VALIDATE_ON_ASSIGNMENT\" cannot be found. Using default value of \"True\".\n",
      "[stdatamodels.util:DEBUG] Environmental \"STRICT_VALIDATION\" cannot be found. Using default value of \"False\".\n",
      "[stdatamodels.util:DEBUG] Environmental \"VALIDATE_ON_ASSIGNMENT\" cannot be found. Using default value of \"True\".\n",
      "[stdatamodels.util:DEBUG] Environmental \"STRICT_VALIDATION\" cannot be found. Using default value of \"False\".\n",
      "[stdatamodels.util:DEBUG] Environmental \"VALIDATE_ON_ASSIGNMENT\" cannot be found. Using default value of \"True\".\n",
      "[stdatamodels.util:DEBUG] Environmental \"STRICT_VALIDATION\" cannot be found. Using default value of \"False\".\n",
      "[stdatamodels.util:DEBUG] Environmental \"VALIDATE_ON_ASSIGNMENT\" cannot be found. Using default value of \"True\".\n",
      "[stdatamodels.util:DEBUG] Environmental \"STRICT_VALIDATION\" cannot be found. Using default value of \"False\".\n",
      "[stdatamodels.util:DEBUG] Environmental \"VALIDATE_ON_ASSIGNMENT\" cannot be found. Using default value of \"True\".\n",
      "[stdatamodels.util:DEBUG] Environmental \"STRICT_VALIDATION\" cannot be found. Using default value of \"False\".\n",
      "[stdatamodels.util:DEBUG] Environmental \"VALIDATE_ON_ASSIGNMENT\" cannot be found. Using default value of \"True\".\n",
      "[stdatamodels.util:DEBUG] Environmental \"STRICT_VALIDATION\" cannot be found. Using default value of \"False\".\n"
     ]
    },
    {
     "name": "stdout",
     "output_type": "stream",
     "text": [
      "[stdatamodels.util:DEBUG] Environmental \"VALIDATE_ON_ASSIGNMENT\" cannot be found. Using default value of \"True\".\n",
      "[stdatamodels.util:DEBUG] Environmental \"STRICT_VALIDATION\" cannot be found. Using default value of \"False\".\n",
      "[stdatamodels.util:DEBUG] Environmental \"VALIDATE_ON_ASSIGNMENT\" cannot be found. Using default value of \"True\".\n",
      "[stdatamodels.util:DEBUG] Environmental \"STRICT_VALIDATION\" cannot be found. Using default value of \"False\".\n",
      "[stdatamodels.util:DEBUG] Environmental \"VALIDATE_ON_ASSIGNMENT\" cannot be found. Using default value of \"True\".\n",
      "[stdatamodels.util:DEBUG] Environmental \"STRICT_VALIDATION\" cannot be found. Using default value of \"False\".\n",
      "[stdatamodels.util:DEBUG] Environmental \"VALIDATE_ON_ASSIGNMENT\" cannot be found. Using default value of \"True\".\n",
      "[stdatamodels.util:DEBUG] Environmental \"STRICT_VALIDATION\" cannot be found. Using default value of \"False\".\n",
      "[stdatamodels.util:DEBUG] Environmental \"VALIDATE_ON_ASSIGNMENT\" cannot be found. Using default value of \"True\".\n",
      "[stdatamodels.util:DEBUG] Environmental \"STRICT_VALIDATION\" cannot be found. Using default value of \"False\".\n",
      "[stdatamodels.util:DEBUG] Environmental \"VALIDATE_ON_ASSIGNMENT\" cannot be found. Using default value of \"True\".\n",
      "[stdatamodels.util:DEBUG] Environmental \"STRICT_VALIDATION\" cannot be found. Using default value of \"False\".\n",
      "[stdatamodels.util:DEBUG] Environmental \"VALIDATE_ON_ASSIGNMENT\" cannot be found. Using default value of \"True\".\n",
      "[stdatamodels.util:DEBUG] Environmental \"STRICT_VALIDATION\" cannot be found. Using default value of \"False\".\n",
      "[stdatamodels.util:DEBUG] Environmental \"VALIDATE_ON_ASSIGNMENT\" cannot be found. Using default value of \"True\".\n",
      "[stdatamodels.util:DEBUG] Environmental \"STRICT_VALIDATION\" cannot be found. Using default value of \"False\".\n",
      "[stdatamodels.util:DEBUG] Environmental \"VALIDATE_ON_ASSIGNMENT\" cannot be found. Using default value of \"True\".\n",
      "[stdatamodels.util:DEBUG] Environmental \"STRICT_VALIDATION\" cannot be found. Using default value of \"False\".\n",
      "[stdatamodels.util:DEBUG] Environmental \"VALIDATE_ON_ASSIGNMENT\" cannot be found. Using default value of \"True\".\n",
      "[stdatamodels.util:DEBUG] Environmental \"STRICT_VALIDATION\" cannot be found. Using default value of \"False\".\n",
      "[stdatamodels.util:DEBUG] Environmental \"VALIDATE_ON_ASSIGNMENT\" cannot be found. Using default value of \"True\".\n",
      "[stdatamodels.util:DEBUG] Environmental \"STRICT_VALIDATION\" cannot be found. Using default value of \"False\".\n",
      "[stdatamodels.util:DEBUG] Environmental \"VALIDATE_ON_ASSIGNMENT\" cannot be found. Using default value of \"True\".\n",
      "[stdatamodels.util:DEBUG] Environmental \"STRICT_VALIDATION\" cannot be found. Using default value of \"False\".\n",
      "[stdatamodels.util:DEBUG] Environmental \"VALIDATE_ON_ASSIGNMENT\" cannot be found. Using default value of \"True\".\n",
      "[stdatamodels.util:DEBUG] Environmental \"STRICT_VALIDATION\" cannot be found. Using default value of \"False\".\n",
      "[stdatamodels.util:DEBUG] Environmental \"VALIDATE_ON_ASSIGNMENT\" cannot be found. Using default value of \"True\".\n",
      "[stdatamodels.util:DEBUG] Environmental \"STRICT_VALIDATION\" cannot be found. Using default value of \"False\".\n",
      "[stdatamodels.util:DEBUG] Environmental \"VALIDATE_ON_ASSIGNMENT\" cannot be found. Using default value of \"True\".\n",
      "[stdatamodels.util:DEBUG] Environmental \"STRICT_VALIDATION\" cannot be found. Using default value of \"False\".\n",
      "[stdatamodels.util:DEBUG] Environmental \"VALIDATE_ON_ASSIGNMENT\" cannot be found. Using default value of \"True\".\n",
      "[stdatamodels.util:DEBUG] Environmental \"STRICT_VALIDATION\" cannot be found. Using default value of \"False\".\n",
      "[stdatamodels.util:DEBUG] Environmental \"VALIDATE_ON_ASSIGNMENT\" cannot be found. Using default value of \"True\".\n",
      "[stdatamodels.util:DEBUG] Environmental \"STRICT_VALIDATION\" cannot be found. Using default value of \"False\".\n",
      "[stdatamodels.util:DEBUG] Environmental \"VALIDATE_ON_ASSIGNMENT\" cannot be found. Using default value of \"True\".\n",
      "[stdatamodels.util:DEBUG] Environmental \"STRICT_VALIDATION\" cannot be found. Using default value of \"False\".\n",
      "[stdatamodels.util:DEBUG] Environmental \"VALIDATE_ON_ASSIGNMENT\" cannot be found. Using default value of \"True\".\n",
      "[stdatamodels.util:DEBUG] Environmental \"STRICT_VALIDATION\" cannot be found. Using default value of \"False\".\n",
      "[stdatamodels.util:DEBUG] Environmental \"VALIDATE_ON_ASSIGNMENT\" cannot be found. Using default value of \"True\".\n",
      "[stdatamodels.util:DEBUG] Environmental \"STRICT_VALIDATION\" cannot be found. Using default value of \"False\".\n",
      "[stdatamodels.util:DEBUG] Environmental \"VALIDATE_ON_ASSIGNMENT\" cannot be found. Using default value of \"True\".\n",
      "[stdatamodels.util:DEBUG] Environmental \"STRICT_VALIDATION\" cannot be found. Using default value of \"False\".\n",
      "[stdatamodels.util:DEBUG] Environmental \"VALIDATE_ON_ASSIGNMENT\" cannot be found. Using default value of \"True\".\n",
      "[stdatamodels.util:DEBUG] Environmental \"STRICT_VALIDATION\" cannot be found. Using default value of \"False\".\n",
      "[stdatamodels.util:DEBUG] Environmental \"VALIDATE_ON_ASSIGNMENT\" cannot be found. Using default value of \"True\".\n",
      "[stdatamodels.util:DEBUG] Environmental \"STRICT_VALIDATION\" cannot be found. Using default value of \"False\".\n",
      "[stdatamodels.util:DEBUG] Environmental \"VALIDATE_ON_ASSIGNMENT\" cannot be found. Using default value of \"True\".\n",
      "[stdatamodels.util:DEBUG] Environmental \"STRICT_VALIDATION\" cannot be found. Using default value of \"False\".\n",
      "[stdatamodels.util:DEBUG] Environmental \"VALIDATE_ON_ASSIGNMENT\" cannot be found. Using default value of \"True\".\n",
      "[stdatamodels.util:DEBUG] Environmental \"STRICT_VALIDATION\" cannot be found. Using default value of \"False\".\n",
      "[stdatamodels.util:DEBUG] Environmental \"VALIDATE_ON_ASSIGNMENT\" cannot be found. Using default value of \"True\".\n",
      "[stdatamodels.util:DEBUG] Environmental \"STRICT_VALIDATION\" cannot be found. Using default value of \"False\".\n",
      "[stdatamodels.util:DEBUG] Environmental \"VALIDATE_ON_ASSIGNMENT\" cannot be found. Using default value of \"True\".\n",
      "[stdatamodels.util:DEBUG] Environmental \"STRICT_VALIDATION\" cannot be found. Using default value of \"False\".\n",
      "[stdatamodels.util:DEBUG] Environmental \"VALIDATE_ON_ASSIGNMENT\" cannot be found. Using default value of \"True\".\n",
      "[stdatamodels.util:DEBUG] Environmental \"STRICT_VALIDATION\" cannot be found. Using default value of \"False\".\n",
      "[stdatamodels.util:DEBUG] Environmental \"VALIDATE_ON_ASSIGNMENT\" cannot be found. Using default value of \"True\".\n",
      "[stdatamodels.util:DEBUG] Environmental \"STRICT_VALIDATION\" cannot be found. Using default value of \"False\".\n",
      "[stdatamodels.util:DEBUG] Environmental \"VALIDATE_ON_ASSIGNMENT\" cannot be found. Using default value of \"True\".\n",
      "[stdatamodels.util:DEBUG] Environmental \"STRICT_VALIDATION\" cannot be found. Using default value of \"False\".\n",
      "[stdatamodels.util:DEBUG] Environmental \"VALIDATE_ON_ASSIGNMENT\" cannot be found. Using default value of \"True\".\n",
      "[stdatamodels.util:DEBUG] Environmental \"STRICT_VALIDATION\" cannot be found. Using default value of \"False\".\n",
      "[stdatamodels.util:DEBUG] Environmental \"VALIDATE_ON_ASSIGNMENT\" cannot be found. Using default value of \"True\".\n",
      "[stdatamodels.util:DEBUG] Environmental \"STRICT_VALIDATION\" cannot be found. Using default value of \"False\".\n",
      "[stdatamodels.util:DEBUG] Environmental \"VALIDATE_ON_ASSIGNMENT\" cannot be found. Using default value of \"True\".\n",
      "[stdatamodels.util:DEBUG] Environmental \"STRICT_VALIDATION\" cannot be found. Using default value of \"False\".\n",
      "[stdatamodels.util:DEBUG] Environmental \"VALIDATE_ON_ASSIGNMENT\" cannot be found. Using default value of \"True\".\n",
      "[stdatamodels.util:DEBUG] Environmental \"STRICT_VALIDATION\" cannot be found. Using default value of \"False\".\n",
      "[stdatamodels.util:DEBUG] Environmental \"VALIDATE_ON_ASSIGNMENT\" cannot be found. Using default value of \"True\".\n",
      "[stdatamodels.util:DEBUG] Environmental \"STRICT_VALIDATION\" cannot be found. Using default value of \"False\".\n",
      "[stdatamodels.util:DEBUG] Environmental \"VALIDATE_ON_ASSIGNMENT\" cannot be found. Using default value of \"True\".\n",
      "[stdatamodels.util:DEBUG] Environmental \"STRICT_VALIDATION\" cannot be found. Using default value of \"False\".\n",
      "[stdatamodels.util:DEBUG] Environmental \"VALIDATE_ON_ASSIGNMENT\" cannot be found. Using default value of \"True\".\n",
      "[stdatamodels.util:DEBUG] Environmental \"STRICT_VALIDATION\" cannot be found. Using default value of \"False\".\n"
     ]
    },
    {
     "name": "stdout",
     "output_type": "stream",
     "text": [
      "[stdatamodels.util:DEBUG] Environmental \"VALIDATE_ON_ASSIGNMENT\" cannot be found. Using default value of \"True\".\n",
      "[stdatamodels.util:DEBUG] Environmental \"STRICT_VALIDATION\" cannot be found. Using default value of \"False\".\n",
      "[stdatamodels.util:DEBUG] Environmental \"VALIDATE_ON_ASSIGNMENT\" cannot be found. Using default value of \"True\".\n",
      "[stdatamodels.util:DEBUG] Environmental \"STRICT_VALIDATION\" cannot be found. Using default value of \"False\".\n",
      "[stdatamodels.util:DEBUG] Environmental \"VALIDATE_ON_ASSIGNMENT\" cannot be found. Using default value of \"True\".\n",
      "[stdatamodels.util:DEBUG] Environmental \"STRICT_VALIDATION\" cannot be found. Using default value of \"False\".\n",
      "[stdatamodels.util:DEBUG] Environmental \"VALIDATE_ON_ASSIGNMENT\" cannot be found. Using default value of \"True\".\n",
      "[stdatamodels.util:DEBUG] Environmental \"STRICT_VALIDATION\" cannot be found. Using default value of \"False\".\n",
      "[stdatamodels.util:DEBUG] Environmental \"VALIDATE_ON_ASSIGNMENT\" cannot be found. Using default value of \"True\".\n",
      "[stdatamodels.util:DEBUG] Environmental \"STRICT_VALIDATION\" cannot be found. Using default value of \"False\".\n",
      "[stdatamodels.util:DEBUG] Environmental \"VALIDATE_ON_ASSIGNMENT\" cannot be found. Using default value of \"True\".\n",
      "[stdatamodels.util:DEBUG] Environmental \"STRICT_VALIDATION\" cannot be found. Using default value of \"False\".\n",
      "[stdatamodels.util:DEBUG] Environmental \"VALIDATE_ON_ASSIGNMENT\" cannot be found. Using default value of \"True\".\n",
      "[stdatamodels.util:DEBUG] Environmental \"STRICT_VALIDATION\" cannot be found. Using default value of \"False\".\n",
      "[stdatamodels.util:DEBUG] Environmental \"VALIDATE_ON_ASSIGNMENT\" cannot be found. Using default value of \"True\".\n",
      "[stdatamodels.util:DEBUG] Environmental \"STRICT_VALIDATION\" cannot be found. Using default value of \"False\".\n",
      "[stdatamodels.util:DEBUG] Environmental \"VALIDATE_ON_ASSIGNMENT\" cannot be found. Using default value of \"True\".\n",
      "[stdatamodels.util:DEBUG] Environmental \"STRICT_VALIDATION\" cannot be found. Using default value of \"False\".\n",
      "[stdatamodels.util:DEBUG] Environmental \"VALIDATE_ON_ASSIGNMENT\" cannot be found. Using default value of \"True\".\n",
      "[stdatamodels.util:DEBUG] Environmental \"STRICT_VALIDATION\" cannot be found. Using default value of \"False\".\n",
      "[stdatamodels.util:DEBUG] Environmental \"VALIDATE_ON_ASSIGNMENT\" cannot be found. Using default value of \"True\".\n",
      "[stdatamodels.util:DEBUG] Environmental \"STRICT_VALIDATION\" cannot be found. Using default value of \"False\".\n",
      "[stdatamodels.util:DEBUG] Environmental \"VALIDATE_ON_ASSIGNMENT\" cannot be found. Using default value of \"True\".\n",
      "[stdatamodels.util:DEBUG] Environmental \"STRICT_VALIDATION\" cannot be found. Using default value of \"False\".\n",
      "[stdatamodels.util:DEBUG] Environmental \"VALIDATE_ON_ASSIGNMENT\" cannot be found. Using default value of \"True\".\n",
      "[stdatamodels.util:DEBUG] Environmental \"STRICT_VALIDATION\" cannot be found. Using default value of \"False\".\n",
      "[stdatamodels.util:DEBUG] Environmental \"VALIDATE_ON_ASSIGNMENT\" cannot be found. Using default value of \"True\".\n",
      "[stdatamodels.util:DEBUG] Environmental \"STRICT_VALIDATION\" cannot be found. Using default value of \"False\".\n",
      "[stdatamodels.util:DEBUG] Environmental \"VALIDATE_ON_ASSIGNMENT\" cannot be found. Using default value of \"True\".\n",
      "[stdatamodels.util:DEBUG] Environmental \"STRICT_VALIDATION\" cannot be found. Using default value of \"False\".\n",
      "[stdatamodels.util:DEBUG] Environmental \"VALIDATE_ON_ASSIGNMENT\" cannot be found. Using default value of \"True\".\n",
      "[stdatamodels.util:DEBUG] Environmental \"STRICT_VALIDATION\" cannot be found. Using default value of \"False\".\n",
      "[stdatamodels.util:DEBUG] Environmental \"VALIDATE_ON_ASSIGNMENT\" cannot be found. Using default value of \"True\".\n",
      "[stdatamodels.util:DEBUG] Environmental \"STRICT_VALIDATION\" cannot be found. Using default value of \"False\".\n",
      "[stdatamodels.util:DEBUG] Environmental \"VALIDATE_ON_ASSIGNMENT\" cannot be found. Using default value of \"True\".\n",
      "[stdatamodels.util:DEBUG] Environmental \"STRICT_VALIDATION\" cannot be found. Using default value of \"False\".\n",
      "[stdatamodels.util:DEBUG] Environmental \"VALIDATE_ON_ASSIGNMENT\" cannot be found. Using default value of \"True\".\n",
      "[stdatamodels.util:DEBUG] Environmental \"STRICT_VALIDATION\" cannot be found. Using default value of \"False\".\n",
      "[stdatamodels.util:DEBUG] Environmental \"VALIDATE_ON_ASSIGNMENT\" cannot be found. Using default value of \"True\".\n",
      "[stdatamodels.util:DEBUG] Environmental \"STRICT_VALIDATION\" cannot be found. Using default value of \"False\".\n",
      "[stdatamodels.util:DEBUG] Environmental \"VALIDATE_ON_ASSIGNMENT\" cannot be found. Using default value of \"True\".\n",
      "[stdatamodels.util:DEBUG] Environmental \"STRICT_VALIDATION\" cannot be found. Using default value of \"False\".\n",
      "[stdatamodels.util:DEBUG] Environmental \"VALIDATE_ON_ASSIGNMENT\" cannot be found. Using default value of \"True\".\n",
      "[stdatamodels.util:DEBUG] Environmental \"STRICT_VALIDATION\" cannot be found. Using default value of \"False\".\n",
      "[stdatamodels.util:DEBUG] Environmental \"VALIDATE_ON_ASSIGNMENT\" cannot be found. Using default value of \"True\".\n",
      "[stdatamodels.util:DEBUG] Environmental \"STRICT_VALIDATION\" cannot be found. Using default value of \"False\".\n",
      "[stdatamodels.util:DEBUG] Environmental \"VALIDATE_ON_ASSIGNMENT\" cannot be found. Using default value of \"True\".\n",
      "[stdatamodels.util:DEBUG] Environmental \"STRICT_VALIDATION\" cannot be found. Using default value of \"False\".\n",
      "[stdatamodels.util:DEBUG] Environmental \"VALIDATE_ON_ASSIGNMENT\" cannot be found. Using default value of \"True\".\n",
      "[stdatamodels.util:DEBUG] Environmental \"STRICT_VALIDATION\" cannot be found. Using default value of \"False\".\n",
      "[stdatamodels.util:DEBUG] Environmental \"VALIDATE_ON_ASSIGNMENT\" cannot be found. Using default value of \"True\".\n",
      "[stdatamodels.util:DEBUG] Environmental \"STRICT_VALIDATION\" cannot be found. Using default value of \"False\".\n",
      "[stdatamodels.util:DEBUG] Environmental \"VALIDATE_ON_ASSIGNMENT\" cannot be found. Using default value of \"True\".\n",
      "[stdatamodels.util:DEBUG] Environmental \"STRICT_VALIDATION\" cannot be found. Using default value of \"False\".\n",
      "[stdatamodels.util:DEBUG] Environmental \"VALIDATE_ON_ASSIGNMENT\" cannot be found. Using default value of \"True\".\n",
      "[stdatamodels.util:DEBUG] Environmental \"STRICT_VALIDATION\" cannot be found. Using default value of \"False\".\n",
      "[stdatamodels.util:DEBUG] Environmental \"VALIDATE_ON_ASSIGNMENT\" cannot be found. Using default value of \"True\".\n",
      "[stdatamodels.util:DEBUG] Environmental \"STRICT_VALIDATION\" cannot be found. Using default value of \"False\".\n",
      "[stdatamodels.util:DEBUG] Environmental \"VALIDATE_ON_ASSIGNMENT\" cannot be found. Using default value of \"True\".\n",
      "[stdatamodels.util:DEBUG] Environmental \"STRICT_VALIDATION\" cannot be found. Using default value of \"False\".\n",
      "[stdatamodels.util:DEBUG] Environmental \"VALIDATE_ON_ASSIGNMENT\" cannot be found. Using default value of \"True\".\n",
      "[stdatamodels.util:DEBUG] Environmental \"STRICT_VALIDATION\" cannot be found. Using default value of \"False\".\n",
      "[stdatamodels.util:DEBUG] Environmental \"VALIDATE_ON_ASSIGNMENT\" cannot be found. Using default value of \"True\".\n",
      "[stdatamodels.util:DEBUG] Environmental \"STRICT_VALIDATION\" cannot be found. Using default value of \"False\".\n",
      "[stdatamodels.util:DEBUG] Environmental \"VALIDATE_ON_ASSIGNMENT\" cannot be found. Using default value of \"True\".\n",
      "[stdatamodels.util:DEBUG] Environmental \"STRICT_VALIDATION\" cannot be found. Using default value of \"False\".\n",
      "[stdatamodels.util:DEBUG] Environmental \"VALIDATE_ON_ASSIGNMENT\" cannot be found. Using default value of \"True\".\n",
      "[stdatamodels.util:DEBUG] Environmental \"STRICT_VALIDATION\" cannot be found. Using default value of \"False\".\n",
      "[stdatamodels.util:DEBUG] Environmental \"VALIDATE_ON_ASSIGNMENT\" cannot be found. Using default value of \"True\".\n",
      "[stdatamodels.util:DEBUG] Environmental \"STRICT_VALIDATION\" cannot be found. Using default value of \"False\".\n",
      "[stdatamodels.util:DEBUG] Environmental \"VALIDATE_ON_ASSIGNMENT\" cannot be found. Using default value of \"True\".\n",
      "[stdatamodels.util:DEBUG] Environmental \"STRICT_VALIDATION\" cannot be found. Using default value of \"False\".\n",
      "[stdatamodels.util:DEBUG] Environmental \"VALIDATE_ON_ASSIGNMENT\" cannot be found. Using default value of \"True\".\n",
      "[stdatamodels.util:DEBUG] Environmental \"STRICT_VALIDATION\" cannot be found. Using default value of \"False\".\n"
     ]
    },
    {
     "name": "stdout",
     "output_type": "stream",
     "text": [
      "[stdatamodels.util:DEBUG] Environmental \"VALIDATE_ON_ASSIGNMENT\" cannot be found. Using default value of \"True\".\n",
      "[stdatamodels.util:DEBUG] Environmental \"STRICT_VALIDATION\" cannot be found. Using default value of \"False\".\n",
      "[stdatamodels.util:DEBUG] Environmental \"VALIDATE_ON_ASSIGNMENT\" cannot be found. Using default value of \"True\".\n",
      "[stdatamodels.util:DEBUG] Environmental \"STRICT_VALIDATION\" cannot be found. Using default value of \"False\".\n",
      "[stdatamodels.util:DEBUG] Environmental \"VALIDATE_ON_ASSIGNMENT\" cannot be found. Using default value of \"True\".\n",
      "[stdatamodels.util:DEBUG] Environmental \"STRICT_VALIDATION\" cannot be found. Using default value of \"False\".\n",
      "[stdatamodels.util:DEBUG] Environmental \"VALIDATE_ON_ASSIGNMENT\" cannot be found. Using default value of \"True\".\n",
      "[stdatamodels.util:DEBUG] Environmental \"STRICT_VALIDATION\" cannot be found. Using default value of \"False\".\n",
      "[stdatamodels.util:DEBUG] Environmental \"VALIDATE_ON_ASSIGNMENT\" cannot be found. Using default value of \"True\".\n",
      "[stdatamodels.util:DEBUG] Environmental \"STRICT_VALIDATION\" cannot be found. Using default value of \"False\".\n",
      "[stdatamodels.util:DEBUG] Environmental \"VALIDATE_ON_ASSIGNMENT\" cannot be found. Using default value of \"True\".\n",
      "[stdatamodels.util:DEBUG] Environmental \"STRICT_VALIDATION\" cannot be found. Using default value of \"False\".\n",
      "[stdatamodels.util:DEBUG] Environmental \"VALIDATE_ON_ASSIGNMENT\" cannot be found. Using default value of \"True\".\n",
      "[stdatamodels.util:DEBUG] Environmental \"STRICT_VALIDATION\" cannot be found. Using default value of \"False\".\n",
      "[stdatamodels.util:DEBUG] Environmental \"VALIDATE_ON_ASSIGNMENT\" cannot be found. Using default value of \"True\".\n",
      "[stdatamodels.util:DEBUG] Environmental \"STRICT_VALIDATION\" cannot be found. Using default value of \"False\".\n",
      "[stdatamodels.util:DEBUG] Environmental \"VALIDATE_ON_ASSIGNMENT\" cannot be found. Using default value of \"True\".\n",
      "[stdatamodels.util:DEBUG] Environmental \"STRICT_VALIDATION\" cannot be found. Using default value of \"False\".\n",
      "[stdatamodels.util:DEBUG] Environmental \"VALIDATE_ON_ASSIGNMENT\" cannot be found. Using default value of \"True\".\n",
      "[stdatamodels.util:DEBUG] Environmental \"STRICT_VALIDATION\" cannot be found. Using default value of \"False\".\n",
      "[stdatamodels.util:DEBUG] Environmental \"VALIDATE_ON_ASSIGNMENT\" cannot be found. Using default value of \"True\".\n"
     ]
    },
    {
     "name": "stderr",
     "output_type": "stream",
     "text": [
      "2021-09-29 13:10:35,091 - stpipe.Tso3Pipeline - INFO - Performing outlier detection on input images ...\n"
     ]
    },
    {
     "name": "stdout",
     "output_type": "stream",
     "text": [
      "[stpipe.Tso3Pipeline:INFO] Performing outlier detection on input images ...\n"
     ]
    },
    {
     "name": "stderr",
     "output_type": "stream",
     "text": [
      "2021-09-29 13:10:35,356 - stpipe.Tso3Pipeline.outlier_detection - INFO - Step outlier_detection running with args (<ModelContainer>,).\n"
     ]
    },
    {
     "name": "stdout",
     "output_type": "stream",
     "text": [
      "[stpipe.Tso3Pipeline.outlier_detection:INFO] Step outlier_detection running with args (<ModelContainer>,).\n"
     ]
    },
    {
     "name": "stderr",
     "output_type": "stream",
     "text": [
      "2021-09-29 13:10:35,361 - stpipe.Tso3Pipeline.outlier_detection - INFO - Step outlier_detection parameters are: {'pre_hooks': [], 'post_hooks': [], 'output_file': None, 'output_dir': None, 'output_ext': '.fits', 'output_use_model': False, 'output_use_index': True, 'save_results': False, 'skip': True, 'suffix': None, 'search_output_file': False, 'input_dir': '/fenrirdata1/kg_data/pipeline_output/DataChallengeSimulation/JumpSkip_Test', 'weight_type': 'ivm', 'pixfrac': 1.0, 'kernel': 'square', 'fillval': 'INDEF', 'nlow': 0, 'nhigh': 0, 'maskpt': 0.7, 'grow': 1, 'snr': '5.0 4.0', 'scale': '1.2 0.7', 'backg': 0.0, 'save_intermediate_results': False, 'resample_data': True, 'good_bits': '~DO_NOT_USE', 'scale_detection': False, 'allowed_memory': None}\n"
     ]
    },
    {
     "name": "stdout",
     "output_type": "stream",
     "text": [
      "[stpipe.Tso3Pipeline.outlier_detection:INFO] Step outlier_detection parameters are: {'pre_hooks': [], 'post_hooks': [], 'output_file': None, 'output_dir': None, 'output_ext': '.fits', 'output_use_model': False, 'output_use_index': True, 'save_results': False, 'skip': True, 'suffix': None, 'search_output_file': False, 'input_dir': '/fenrirdata1/kg_data/pipeline_output/DataChallengeSimulation/JumpSkip_Test', 'weight_type': 'ivm', 'pixfrac': 1.0, 'kernel': 'square', 'fillval': 'INDEF', 'nlow': 0, 'nhigh': 0, 'maskpt': 0.7, 'grow': 1, 'snr': '5.0 4.0', 'scale': '1.2 0.7', 'backg': 0.0, 'save_intermediate_results': False, 'resample_data': True, 'good_bits': '~DO_NOT_USE', 'scale_detection': False, 'allowed_memory': None}\n"
     ]
    },
    {
     "name": "stderr",
     "output_type": "stream",
     "text": [
      "2021-09-29 13:10:35,362 - stpipe.Tso3Pipeline.outlier_detection - INFO - Step skipped.\n"
     ]
    },
    {
     "name": "stdout",
     "output_type": "stream",
     "text": [
      "[stpipe.Tso3Pipeline.outlier_detection:INFO] Step skipped.\n"
     ]
    },
    {
     "name": "stderr",
     "output_type": "stream",
     "text": [
      "2021-09-29 13:10:35,446 - stpipe.Tso3Pipeline.outlier_detection - INFO - Step outlier_detection done\n"
     ]
    },
    {
     "name": "stdout",
     "output_type": "stream",
     "text": [
      "[stpipe.Tso3Pipeline.outlier_detection:INFO] Step outlier_detection done\n"
     ]
    },
    {
     "name": "stderr",
     "output_type": "stream",
     "text": [
      "2021-09-29 13:10:35,818 - stpipe.Tso3Pipeline.tso_photometry - INFO - Step tso_photometry running with args (<CubeModel(152, 64, 2048) from jw00042001001_01101_00001-seg013_nrca3_calints.fits>,).\n"
     ]
    },
    {
     "name": "stdout",
     "output_type": "stream",
     "text": [
      "[stpipe.Tso3Pipeline.tso_photometry:INFO] Step tso_photometry running with args (<CubeModel(152, 64, 2048) from jw00042001001_01101_00001-seg013_nrca3_calints.fits>,).\n"
     ]
    },
    {
     "name": "stderr",
     "output_type": "stream",
     "text": [
      "2021-09-29 13:10:35,822 - stpipe.Tso3Pipeline.tso_photometry - INFO - Step tso_photometry parameters are: {'pre_hooks': [], 'post_hooks': [], 'output_file': None, 'output_dir': None, 'output_ext': '.fits', 'output_use_model': False, 'output_use_index': True, 'save_results': False, 'skip': False, 'suffix': None, 'search_output_file': True, 'input_dir': '/fenrirdata1/kg_data/pipeline_output/DataChallengeSimulation/JumpSkip_Test', 'save_catalog': False}\n"
     ]
    },
    {
     "name": "stdout",
     "output_type": "stream",
     "text": [
      "[stpipe.Tso3Pipeline.tso_photometry:INFO] Step tso_photometry parameters are: {'pre_hooks': [], 'post_hooks': [], 'output_file': None, 'output_dir': None, 'output_ext': '.fits', 'output_use_model': False, 'output_use_index': True, 'save_results': False, 'skip': False, 'suffix': None, 'search_output_file': True, 'input_dir': '/fenrirdata1/kg_data/pipeline_output/DataChallengeSimulation/JumpSkip_Test', 'save_catalog': False}\n",
      "[stdatamodels.util:DEBUG] Environmental \"STRICT_VALIDATION\" cannot be found. Using default value of \"False\".\n",
      "[stdatamodels.util:DEBUG] Environmental \"VALIDATE_ON_ASSIGNMENT\" cannot be found. Using default value of \"True\".\n",
      "[stdatamodels.util:DEBUG] Environmental \"STRICT_VALIDATION\" cannot be found. Using default value of \"False\".\n",
      "[stdatamodels.util:DEBUG] Environmental \"VALIDATE_ON_ASSIGNMENT\" cannot be found. Using default value of \"True\".\n",
      "[stpipe.Tso3Pipeline.tso_photometry:DEBUG] Reference file name = /fenrirdata1/kg_data/crds_cache/references/jwst/nircam/jwst_nircam_tsophot_0001.asdf\n",
      "[stdatamodels.util:DEBUG] Environmental \"STRICT_VALIDATION\" cannot be found. Using default value of \"False\".\n",
      "[stdatamodels.util:DEBUG] Environmental \"VALIDATE_ON_ASSIGNMENT\" cannot be found. Using default value of \"True\".\n",
      "[stpipe.Tso3Pipeline.tso_photometry:DEBUG] radius = 3.0\n",
      "[stpipe.Tso3Pipeline.tso_photometry:DEBUG] radius_inner = 4.0\n",
      "[stpipe.Tso3Pipeline.tso_photometry:DEBUG] radius_outer = 5.0\n",
      "[stpipe.Tso3Pipeline.tso_photometry:DEBUG] xcenter = 1054.0\n",
      "[stpipe.Tso3Pipeline.tso_photometry:DEBUG] ycenter = 22.0\n",
      "[jwst.tso_photometry.tso_photometry:DEBUG] Times are from the INT_TIMES table\n"
     ]
    },
    {
     "name": "stderr",
     "output_type": "stream",
     "text": [
      "2021-09-29 13:10:36,287 - stpipe.Tso3Pipeline.tso_photometry - INFO - Step tso_photometry done\n"
     ]
    },
    {
     "name": "stdout",
     "output_type": "stream",
     "text": [
      "[stpipe.Tso3Pipeline.tso_photometry:INFO] Step tso_photometry done\n"
     ]
    },
    {
     "name": "stderr",
     "output_type": "stream",
     "text": [
      "2021-09-29 13:10:36,291 - stpipe.Tso3Pipeline - INFO - Writing Level 3 photometry catalog /fenrirdata1/kg_data/pipeline_output/DataChallengeSimulation/JumpSkip_Test/DataChallengeSimulation_nrca3_level3_asn_phot.ecsv\n"
     ]
    },
    {
     "name": "stdout",
     "output_type": "stream",
     "text": [
      "[stpipe.Tso3Pipeline:INFO] Writing Level 3 photometry catalog /fenrirdata1/kg_data/pipeline_output/DataChallengeSimulation/JumpSkip_Test/DataChallengeSimulation_nrca3_level3_asn_phot.ecsv\n"
     ]
    },
    {
     "name": "stderr",
     "output_type": "stream",
     "text": [
      "2021-09-29 13:10:36,338 - stpipe.Tso3Pipeline - INFO - Step Tso3Pipeline done\n"
     ]
    },
    {
     "name": "stdout",
     "output_type": "stream",
     "text": [
      "[stpipe.Tso3Pipeline:INFO] Step Tso3Pipeline done\n"
     ]
    }
   ],
   "source": [
    "#The file to use is the stage 3 association file defined above. \n",
    "\n",
    "# Instantiate the class. Do not provide a configuration file.\n",
    "pipeline_stage3 = Tso3Pipeline()\n",
    "\n",
    "pipeline_stage3.outlier_detection.skip = True\n",
    "\n",
    "# Specify that you want results saved to a file\n",
    "pipeline_stage3.save_results = True\n",
    "pipeline_stage3.output_dir = '/fenrirdata1/kg_data/pipeline_output/DataChallengeSimulation/JumpSkip_Test'\n",
    "\n",
    "# Execute the pipeline using the run method\n",
    "result_stage3 = pipeline_stage3.run(level3_asn)"
   ]
  },
  {
   "cell_type": "code",
   "execution_count": 28,
   "id": "b78f87b3",
   "metadata": {},
   "outputs": [
    {
     "name": "stdout",
     "output_type": "stream",
     "text": [
      "\u001b[1mPipeline Calculated Net Aperture Sum std:\u001b[0m 4684.305600198125\n",
      "\u001b[1mRelative Errors Net Aperture Sum:\u001b[0m [242.26517779 241.57028519 242.19416655 ... 241.95206653 241.28644625\n",
      " 242.2753247 ]\n",
      "\u001b[1mPipeline Calculated Aperture Background std:\u001b[0m 324800.5197666668\n",
      "\u001b[1mRelative Errors Aperture Background:\u001b[0m [ 5836.12911093  5356.09990698  5868.75377401 ...  5903.08952077\n",
      "  5401.26624937 13040.10441338]\n",
      "\u001b[1mPipeline Calculated Annulus Mean std:\u001b[0m 324800.51976666687\n",
      "\u001b[1mRelative Errors Annulus Mean:\u001b[0m [ 5836.12911093  5356.09990698  5868.75377401 ...  5903.08952077\n",
      "  5401.26624937 13040.10441338]\n",
      "\u001b[1mPipeline Calculated Annulus Sum std:\u001b[0m 324800.5197666668\n",
      "\u001b[1mRelative Errors Annulus Sum:\u001b[0m [ 5836.12911093  5356.09990698  5868.75377401 ...  5903.08952077\n",
      "  5401.26624937 13040.10441338]\n"
     ]
    },
    {
     "data": {
      "text/plain": [
       "<matplotlib.legend.Legend at 0x7f1a8b3c43d0>"
      ]
     },
     "execution_count": 28,
     "metadata": {},
     "output_type": "execute_result"
    },
    {
     "data": {
      "image/png": "[encoded data removed]",
      "text/plain": [
       "<Figure size 1080x720 with 4 Axes>"
      ]
     },
     "metadata": {
      "needs_background": "light"
     },
     "output_type": "display_data"
    }
   ],
   "source": [
    "fig, axs = plt.subplots(2, 2,figsize=(15,10))\n",
    "\n",
    "#JWST pipeline: net aperture\n",
    "dat = ascii.read('/fenrirdata1/kg_data/pipeline_output/DataChallengeSimulation/DataChallengeSimulation_nrca3_level3_asn_phot.ecsv') #call the data \n",
    "normalized_net_aperture_sum_pipeline = dat['net_aperture_sum'].value/dat['net_aperture_sum'][0].value #normalized net aperture sum\n",
    "std_net_aperture_sum_pipeline = np.std(normalized_net_aperture_sum_pipeline[0:20]) #calculated standard deviation\n",
    "relative_error_net_aperture_sum_pipeline = (dat['net_aperture_sum_err'].value/dat['net_aperture_sum'].value)*10**6 #ppm\n",
    "\n",
    "print(style.BOLD+\"Pipeline Calculated Net Aperture Sum std:\"+style.END + \" \" +str(std_net_aperture_sum_pipeline*10**6))\n",
    "print(style.BOLD+\"Relative Errors Net Aperture Sum:\"+style.END + \" \" +str(relative_error_net_aperture_sum_pipeline))\n",
    "\n",
    "axs[0,0].errorbar(dat['MJD'],normalized_net_aperture_sum_pipeline,yerr=dat['aperture_sum_err'].value,color='navy',fmt='.',markersize=4,elinewidth=1,ecolor='silver',label='Pipeline')\n",
    "axs[0,0].set_title(\"Net Aperture Sum\")\n",
    "axs[0,0].set_xlabel(\"Time (MJD)\")\n",
    "axs[0,0].set_ylabel(\"Normalized Flux\")\n",
    "\n",
    "#JWST pipeline: aperature background\n",
    "normalized_aperture__bkg_pipeline = dat['aperture_bkg'].value/dat['aperture_bkg'][0].value #normalized aperture bkg\n",
    "std_aperture_bkg_pipeline = np.std(normalized_aperture__bkg_pipeline[0:20]) #calculated standard deviation\n",
    "relative_error_aperture_bkg_pipeline = (dat['aperture_bkg_err'].value/dat['aperture_bkg'].value)*10**6 #ppm\n",
    "\n",
    "print(style.BOLD+\"Pipeline Calculated Aperture Background std:\"+style.END + \" \" +str(std_aperture_bkg_pipeline*10**6))\n",
    "print(style.BOLD+\"Relative Errors Aperture Background:\"+style.END + \" \" +str(relative_error_aperture_bkg_pipeline))\n",
    "\n",
    "axs[0,1].errorbar(dat['MJD'],normalized_aperture__bkg_pipeline,yerr=std_aperture_bkg_pipeline,color='darkred',fmt='.',markersize=4,elinewidth=1,ecolor='silver',label='Pipeline')\n",
    "axs[0,1].set_title(\"Aperture Background\")\n",
    "axs[0,1].set_xlabel(\"Time (MJD)\")\n",
    "axs[0,1].set_ylabel(\"Normalized Flux\")\n",
    "axs[0,1].legend()\n",
    "\n",
    "\n",
    "#JWST pipeline: annulus mean\n",
    "normalized_annulus_mean_pipeline = dat['annulus_mean'].value/dat['annulus_mean'][0].value #normalized annulus mean\n",
    "std_annulus_mean_pipeline = np.std(normalized_annulus_mean_pipeline[0:20]) #calculated standard deviation\n",
    "relative_error_annulus_mean_pipeline = (dat['annulus_mean_err'].value/dat['annulus_mean'].value)*10**6 #ppm\n",
    "\n",
    "print(style.BOLD+\"Pipeline Calculated Annulus Mean std:\"+style.END + \" \" +str(std_annulus_mean_pipeline*10**6))\n",
    "print(style.BOLD+\"Relative Errors Annulus Mean:\"+style.END + \" \" +str(relative_error_annulus_mean_pipeline))\n",
    "\n",
    "axs[1,0].errorbar(dat['MJD'],normalized_annulus_mean_pipeline,yerr=std_annulus_mean_pipeline,color ='darkgreen',fmt='.',markersize=4,elinewidth=1,ecolor='silver',label='Pipeline')\n",
    "axs[1,0].set_title(\"Annulus Mean\")\n",
    "axs[1,0].set_xlabel(\"Time (MJD)\")\n",
    "axs[1,0].set_ylabel(\"Normalized Flux\")\n",
    "axs[1,0].legend()\n",
    "\n",
    "#JWST pipeline: annulus sum\n",
    "normalized_annulus_sum_pipeline = dat['annulus_sum'].value/dat['annulus_sum'][0].value #normalized annulus sum\n",
    "std_annulus_sum_pipeline = np.std(normalized_annulus_sum_pipeline[0:20]) #calculated standard deviation\n",
    "relative_error_annulus_sum_pipeline = (dat['annulus_sum_err'].value/dat['annulus_sum'].value)*10**6 #ppm\n",
    "\n",
    "print(style.BOLD+\"Pipeline Calculated Annulus Sum std:\"+style.END + \" \" +str(std_annulus_sum_pipeline*10**6))\n",
    "print(style.BOLD+\"Relative Errors Annulus Sum:\"+style.END + \" \" +str(relative_error_annulus_sum_pipeline))\n",
    "\n",
    "axs[1,1].errorbar(dat['MJD'],normalized_annulus_sum_pipeline,yerr=std_annulus_sum_pipeline,color = 'indigo',fmt='.',markersize=4,elinewidth=1,ecolor='silver',label='Pipeline')\n",
    "axs[1,1].set_title(\"Annulus Sum\")\n",
    "axs[1,1].set_xlabel(\"Time (MJD)\")\n",
    "axs[1,1].set_ylabel(\"Normalized Flux\")\n",
    "axs[1,1].legend()"
   ]
  },
  {
   "cell_type": "markdown",
   "id": "43028cfb",
   "metadata": {},
   "source": [
    "---------------------------------------------------------------------------------------------------------------------------------"
   ]
  },
  {
   "cell_type": "markdown",
   "id": "9ed46929",
   "metadata": {},
   "source": [
    "# $\\textbf{Stage 1}$"
   ]
  },
  {
   "cell_type": "code",
   "execution_count": null,
   "id": "961131a9",
   "metadata": {},
   "outputs": [
    {
     "name": "stderr",
     "output_type": "stream",
     "text": [
      "2021-09-29 13:13:29,805 - stpipe.Detector1Pipeline - INFO - Detector1Pipeline instance created.\n"
     ]
    },
    {
     "name": "stdout",
     "output_type": "stream",
     "text": [
      "[stpipe.Detector1Pipeline:INFO] Detector1Pipeline instance created.\n"
     ]
    },
    {
     "name": "stderr",
     "output_type": "stream",
     "text": [
      "2021-09-29 13:13:29,811 - stpipe.Detector1Pipeline.group_scale - INFO - GroupScaleStep instance created.\n"
     ]
    },
    {
     "name": "stdout",
     "output_type": "stream",
     "text": [
      "[stpipe.Detector1Pipeline.group_scale:INFO] GroupScaleStep instance created.\n"
     ]
    },
    {
     "name": "stderr",
     "output_type": "stream",
     "text": [
      "2021-09-29 13:13:29,816 - stpipe.Detector1Pipeline.dq_init - INFO - DQInitStep instance created.\n"
     ]
    },
    {
     "name": "stdout",
     "output_type": "stream",
     "text": [
      "[stpipe.Detector1Pipeline.dq_init:INFO] DQInitStep instance created.\n"
     ]
    },
    {
     "name": "stderr",
     "output_type": "stream",
     "text": [
      "2021-09-29 13:13:29,821 - stpipe.Detector1Pipeline.saturation - INFO - SaturationStep instance created.\n"
     ]
    },
    {
     "name": "stdout",
     "output_type": "stream",
     "text": [
      "[stpipe.Detector1Pipeline.saturation:INFO] SaturationStep instance created.\n"
     ]
    },
    {
     "name": "stderr",
     "output_type": "stream",
     "text": [
      "2021-09-29 13:13:29,826 - stpipe.Detector1Pipeline.ipc - INFO - IPCStep instance created.\n"
     ]
    },
    {
     "name": "stdout",
     "output_type": "stream",
     "text": [
      "[stpipe.Detector1Pipeline.ipc:INFO] IPCStep instance created.\n"
     ]
    },
    {
     "name": "stderr",
     "output_type": "stream",
     "text": [
      "2021-09-29 13:13:29,830 - stpipe.Detector1Pipeline.superbias - INFO - SuperBiasStep instance created.\n"
     ]
    },
    {
     "name": "stdout",
     "output_type": "stream",
     "text": [
      "[stpipe.Detector1Pipeline.superbias:INFO] SuperBiasStep instance created.\n"
     ]
    },
    {
     "name": "stderr",
     "output_type": "stream",
     "text": [
      "2021-09-29 13:13:29,836 - stpipe.Detector1Pipeline.refpix - INFO - RefPixStep instance created.\n"
     ]
    },
    {
     "name": "stdout",
     "output_type": "stream",
     "text": [
      "[stpipe.Detector1Pipeline.refpix:INFO] RefPixStep instance created.\n"
     ]
    },
    {
     "name": "stderr",
     "output_type": "stream",
     "text": [
      "2021-09-29 13:13:29,841 - stpipe.Detector1Pipeline.rscd - INFO - RscdStep instance created.\n"
     ]
    },
    {
     "name": "stdout",
     "output_type": "stream",
     "text": [
      "[stpipe.Detector1Pipeline.rscd:INFO] RscdStep instance created.\n"
     ]
    },
    {
     "name": "stderr",
     "output_type": "stream",
     "text": [
      "2021-09-29 13:13:29,846 - stpipe.Detector1Pipeline.firstframe - INFO - FirstFrameStep instance created.\n"
     ]
    },
    {
     "name": "stdout",
     "output_type": "stream",
     "text": [
      "[stpipe.Detector1Pipeline.firstframe:INFO] FirstFrameStep instance created.\n"
     ]
    },
    {
     "name": "stderr",
     "output_type": "stream",
     "text": [
      "2021-09-29 13:13:29,851 - stpipe.Detector1Pipeline.lastframe - INFO - LastFrameStep instance created.\n"
     ]
    },
    {
     "name": "stdout",
     "output_type": "stream",
     "text": [
      "[stpipe.Detector1Pipeline.lastframe:INFO] LastFrameStep instance created.\n"
     ]
    },
    {
     "name": "stderr",
     "output_type": "stream",
     "text": [
      "2021-09-29 13:13:29,857 - stpipe.Detector1Pipeline.linearity - INFO - LinearityStep instance created.\n"
     ]
    },
    {
     "name": "stdout",
     "output_type": "stream",
     "text": [
      "[stpipe.Detector1Pipeline.linearity:INFO] LinearityStep instance created.\n"
     ]
    },
    {
     "name": "stderr",
     "output_type": "stream",
     "text": [
      "2021-09-29 13:13:29,863 - stpipe.Detector1Pipeline.dark_current - INFO - DarkCurrentStep instance created.\n"
     ]
    },
    {
     "name": "stdout",
     "output_type": "stream",
     "text": [
      "[stpipe.Detector1Pipeline.dark_current:INFO] DarkCurrentStep instance created.\n"
     ]
    },
    {
     "name": "stderr",
     "output_type": "stream",
     "text": [
      "2021-09-29 13:13:29,869 - stpipe.Detector1Pipeline.reset - INFO - ResetStep instance created.\n"
     ]
    },
    {
     "name": "stdout",
     "output_type": "stream",
     "text": [
      "[stpipe.Detector1Pipeline.reset:INFO] ResetStep instance created.\n"
     ]
    },
    {
     "name": "stderr",
     "output_type": "stream",
     "text": [
      "2021-09-29 13:13:29,875 - stpipe.Detector1Pipeline.persistence - INFO - PersistenceStep instance created.\n"
     ]
    },
    {
     "name": "stdout",
     "output_type": "stream",
     "text": [
      "[stpipe.Detector1Pipeline.persistence:INFO] PersistenceStep instance created.\n"
     ]
    },
    {
     "name": "stderr",
     "output_type": "stream",
     "text": [
      "2021-09-29 13:13:29,882 - stpipe.Detector1Pipeline.jump - INFO - JumpStep instance created.\n"
     ]
    },
    {
     "name": "stdout",
     "output_type": "stream",
     "text": [
      "[stpipe.Detector1Pipeline.jump:INFO] JumpStep instance created.\n"
     ]
    },
    {
     "name": "stderr",
     "output_type": "stream",
     "text": [
      "2021-09-29 13:13:29,888 - stpipe.Detector1Pipeline.ramp_fit - INFO - RampFitStep instance created.\n"
     ]
    },
    {
     "name": "stdout",
     "output_type": "stream",
     "text": [
      "[stpipe.Detector1Pipeline.ramp_fit:INFO] RampFitStep instance created.\n"
     ]
    },
    {
     "name": "stderr",
     "output_type": "stream",
     "text": [
      "2021-09-29 13:13:29,894 - stpipe.Detector1Pipeline.gain_scale - INFO - GainScaleStep instance created.\n"
     ]
    },
    {
     "name": "stdout",
     "output_type": "stream",
     "text": [
      "[stpipe.Detector1Pipeline.gain_scale:INFO] GainScaleStep instance created.\n"
     ]
    },
    {
     "name": "stderr",
     "output_type": "stream",
     "text": [
      "2021-09-29 13:13:30,231 - stpipe.Detector1Pipeline - INFO - Step Detector1Pipeline running with args ('/home/kglidic/Software/Data_Challenge_Simulation_Pipeline_test/Original_Data_Set_NRCA3_DataChallengeSimulation/Raw_Data/jw00042001001_01101_00001-seg013_nrca3_uncal.fits',).\n"
     ]
    },
    {
     "name": "stdout",
     "output_type": "stream",
     "text": [
      "[stpipe.Detector1Pipeline:INFO] Step Detector1Pipeline running with args ('/home/kglidic/Software/Data_Challenge_Simulation_Pipeline_test/Original_Data_Set_NRCA3_DataChallengeSimulation/Raw_Data/jw00042001001_01101_00001-seg013_nrca3_uncal.fits',).\n"
     ]
    },
    {
     "name": "stderr",
     "output_type": "stream",
     "text": [
      "2021-09-29 13:13:30,269 - stpipe.Detector1Pipeline - INFO - Step Detector1Pipeline parameters are: {'pre_hooks': [], 'post_hooks': [], 'output_file': None, 'output_dir': '/fenrirdata1/kg_data/pipeline_output/DataChallengeSimulation/JumpSkip_Test/', 'output_ext': '.fits', 'output_use_model': False, 'output_use_index': True, 'save_results': True, 'skip': False, 'suffix': None, 'search_output_file': True, 'input_dir': '', 'save_calibrated_ramp': False, 'steps': {'group_scale': {'pre_hooks': [], 'post_hooks': [], 'output_file': None, 'output_dir': None, 'output_ext': '.fits', 'output_use_model': False, 'output_use_index': True, 'save_results': False, 'skip': False, 'suffix': None, 'search_output_file': True, 'input_dir': ''}, 'dq_init': {'pre_hooks': [], 'post_hooks': [], 'output_file': None, 'output_dir': None, 'output_ext': '.fits', 'output_use_model': False, 'output_use_index': True, 'save_results': False, 'skip': False, 'suffix': None, 'search_output_file': True, 'input_dir': ''}, 'saturation': {'pre_hooks': [], 'post_hooks': [], 'output_file': None, 'output_dir': None, 'output_ext': '.fits', 'output_use_model': False, 'output_use_index': True, 'save_results': False, 'skip': False, 'suffix': None, 'search_output_file': True, 'input_dir': ''}, 'ipc': {'pre_hooks': [], 'post_hooks': [], 'output_file': None, 'output_dir': None, 'output_ext': '.fits', 'output_use_model': False, 'output_use_index': True, 'save_results': False, 'skip': True, 'suffix': None, 'search_output_file': True, 'input_dir': ''}, 'superbias': {'pre_hooks': [], 'post_hooks': [], 'output_file': None, 'output_dir': None, 'output_ext': '.fits', 'output_use_model': False, 'output_use_index': True, 'save_results': False, 'skip': False, 'suffix': None, 'search_output_file': True, 'input_dir': ''}, 'refpix': {'pre_hooks': [], 'post_hooks': [], 'output_file': None, 'output_dir': None, 'output_ext': '.fits', 'output_use_model': False, 'output_use_index': True, 'save_results': False, 'skip': False, 'suffix': None, 'search_output_file': True, 'input_dir': '', 'odd_even_columns': True, 'use_side_ref_pixels': True, 'side_smoothing_length': 11, 'side_gain': 1.0, 'odd_even_rows': True}, 'rscd': {'pre_hooks': [], 'post_hooks': [], 'output_file': None, 'output_dir': None, 'output_ext': '.fits', 'output_use_model': False, 'output_use_index': True, 'save_results': False, 'skip': False, 'suffix': None, 'search_output_file': True, 'input_dir': '', 'type': 'baseline'}, 'firstframe': {'pre_hooks': [], 'post_hooks': [], 'output_file': None, 'output_dir': None, 'output_ext': '.fits', 'output_use_model': False, 'output_use_index': True, 'save_results': False, 'skip': False, 'suffix': None, 'search_output_file': True, 'input_dir': ''}, 'lastframe': {'pre_hooks': [], 'post_hooks': [], 'output_file': None, 'output_dir': None, 'output_ext': '.fits', 'output_use_model': False, 'output_use_index': True, 'save_results': False, 'skip': False, 'suffix': None, 'search_output_file': True, 'input_dir': ''}, 'linearity': {'pre_hooks': [], 'post_hooks': [], 'output_file': None, 'output_dir': None, 'output_ext': '.fits', 'output_use_model': False, 'output_use_index': True, 'save_results': False, 'skip': False, 'suffix': None, 'search_output_file': True, 'input_dir': ''}, 'dark_current': {'pre_hooks': [], 'post_hooks': [], 'output_file': None, 'output_dir': None, 'output_ext': '.fits', 'output_use_model': False, 'output_use_index': True, 'save_results': False, 'skip': False, 'suffix': None, 'search_output_file': True, 'input_dir': '', 'dark_output': None}, 'reset': {'pre_hooks': [], 'post_hooks': [], 'output_file': None, 'output_dir': None, 'output_ext': '.fits', 'output_use_model': False, 'output_use_index': True, 'save_results': False, 'skip': False, 'suffix': None, 'search_output_file': True, 'input_dir': ''}, 'persistence': {'pre_hooks': [], 'post_hooks': [], 'output_file': None, 'output_dir': None, 'output_ext': '.fits', 'output_use_model': False, 'output_use_index': True, 'save_results': False, 'skip': True, 'suffix': None, 'search_output_file': True, 'input_dir': '', 'input_trapsfilled': '', 'flag_pers_cutoff': 40.0, 'save_persistence': False, 'save_trapsfilled': True}, 'jump': {'pre_hooks': [], 'post_hooks': [], 'output_file': None, 'output_dir': None, 'output_ext': '.fits', 'output_use_model': False, 'output_use_index': True, 'save_results': False, 'skip': False, 'suffix': None, 'search_output_file': True, 'input_dir': '', 'rejection_threshold': 9, 'three_group_rejection_threshold': 6.0, 'four_group_rejection_threshold': 5.0, 'maximum_cores': 'none', 'flag_4_neighbors': True, 'max_jump_to_flag_neighbors': 1000.0, 'min_jump_to_flag_neighbors': 10.0}, 'ramp_fit': {'pre_hooks': [], 'post_hooks': [], 'output_file': None, 'output_dir': None, 'output_ext': '.fits', 'output_use_model': False, 'output_use_index': True, 'save_results': False, 'skip': False, 'suffix': None, 'search_output_file': True, 'input_dir': '', 'int_name': '', 'save_opt': False, 'opt_name': '', 'maximum_cores': 'none'}, 'gain_scale': {'pre_hooks': [], 'post_hooks': [], 'output_file': None, 'output_dir': None, 'output_ext': '.fits', 'output_use_model': False, 'output_use_index': True, 'save_results': False, 'skip': False, 'suffix': None, 'search_output_file': True, 'input_dir': ''}}}\n"
     ]
    },
    {
     "name": "stdout",
     "output_type": "stream",
     "text": [
      "[stpipe.Detector1Pipeline:INFO] Step Detector1Pipeline parameters are: {'pre_hooks': [], 'post_hooks': [], 'output_file': None, 'output_dir': '/fenrirdata1/kg_data/pipeline_output/DataChallengeSimulation/JumpSkip_Test/', 'output_ext': '.fits', 'output_use_model': False, 'output_use_index': True, 'save_results': True, 'skip': False, 'suffix': None, 'search_output_file': True, 'input_dir': '', 'save_calibrated_ramp': False, 'steps': {'group_scale': {'pre_hooks': [], 'post_hooks': [], 'output_file': None, 'output_dir': None, 'output_ext': '.fits', 'output_use_model': False, 'output_use_index': True, 'save_results': False, 'skip': False, 'suffix': None, 'search_output_file': True, 'input_dir': ''}, 'dq_init': {'pre_hooks': [], 'post_hooks': [], 'output_file': None, 'output_dir': None, 'output_ext': '.fits', 'output_use_model': False, 'output_use_index': True, 'save_results': False, 'skip': False, 'suffix': None, 'search_output_file': True, 'input_dir': ''}, 'saturation': {'pre_hooks': [], 'post_hooks': [], 'output_file': None, 'output_dir': None, 'output_ext': '.fits', 'output_use_model': False, 'output_use_index': True, 'save_results': False, 'skip': False, 'suffix': None, 'search_output_file': True, 'input_dir': ''}, 'ipc': {'pre_hooks': [], 'post_hooks': [], 'output_file': None, 'output_dir': None, 'output_ext': '.fits', 'output_use_model': False, 'output_use_index': True, 'save_results': False, 'skip': True, 'suffix': None, 'search_output_file': True, 'input_dir': ''}, 'superbias': {'pre_hooks': [], 'post_hooks': [], 'output_file': None, 'output_dir': None, 'output_ext': '.fits', 'output_use_model': False, 'output_use_index': True, 'save_results': False, 'skip': False, 'suffix': None, 'search_output_file': True, 'input_dir': ''}, 'refpix': {'pre_hooks': [], 'post_hooks': [], 'output_file': None, 'output_dir': None, 'output_ext': '.fits', 'output_use_model': False, 'output_use_index': True, 'save_results': False, 'skip': False, 'suffix': None, 'search_output_file': True, 'input_dir': '', 'odd_even_columns': True, 'use_side_ref_pixels': True, 'side_smoothing_length': 11, 'side_gain': 1.0, 'odd_even_rows': True}, 'rscd': {'pre_hooks': [], 'post_hooks': [], 'output_file': None, 'output_dir': None, 'output_ext': '.fits', 'output_use_model': False, 'output_use_index': True, 'save_results': False, 'skip': False, 'suffix': None, 'search_output_file': True, 'input_dir': '', 'type': 'baseline'}, 'firstframe': {'pre_hooks': [], 'post_hooks': [], 'output_file': None, 'output_dir': None, 'output_ext': '.fits', 'output_use_model': False, 'output_use_index': True, 'save_results': False, 'skip': False, 'suffix': None, 'search_output_file': True, 'input_dir': ''}, 'lastframe': {'pre_hooks': [], 'post_hooks': [], 'output_file': None, 'output_dir': None, 'output_ext': '.fits', 'output_use_model': False, 'output_use_index': True, 'save_results': False, 'skip': False, 'suffix': None, 'search_output_file': True, 'input_dir': ''}, 'linearity': {'pre_hooks': [], 'post_hooks': [], 'output_file': None, 'output_dir': None, 'output_ext': '.fits', 'output_use_model': False, 'output_use_index': True, 'save_results': False, 'skip': False, 'suffix': None, 'search_output_file': True, 'input_dir': ''}, 'dark_current': {'pre_hooks': [], 'post_hooks': [], 'output_file': None, 'output_dir': None, 'output_ext': '.fits', 'output_use_model': False, 'output_use_index': True, 'save_results': False, 'skip': False, 'suffix': None, 'search_output_file': True, 'input_dir': '', 'dark_output': None}, 'reset': {'pre_hooks': [], 'post_hooks': [], 'output_file': None, 'output_dir': None, 'output_ext': '.fits', 'output_use_model': False, 'output_use_index': True, 'save_results': False, 'skip': False, 'suffix': None, 'search_output_file': True, 'input_dir': ''}, 'persistence': {'pre_hooks': [], 'post_hooks': [], 'output_file': None, 'output_dir': None, 'output_ext': '.fits', 'output_use_model': False, 'output_use_index': True, 'save_results': False, 'skip': True, 'suffix': None, 'search_output_file': True, 'input_dir': '', 'input_trapsfilled': '', 'flag_pers_cutoff': 40.0, 'save_persistence': False, 'save_trapsfilled': True}, 'jump': {'pre_hooks': [], 'post_hooks': [], 'output_file': None, 'output_dir': None, 'output_ext': '.fits', 'output_use_model': False, 'output_use_index': True, 'save_results': False, 'skip': False, 'suffix': None, 'search_output_file': True, 'input_dir': '', 'rejection_threshold': 9, 'three_group_rejection_threshold': 6.0, 'four_group_rejection_threshold': 5.0, 'maximum_cores': 'none', 'flag_4_neighbors': True, 'max_jump_to_flag_neighbors': 1000.0, 'min_jump_to_flag_neighbors': 10.0}, 'ramp_fit': {'pre_hooks': [], 'post_hooks': [], 'output_file': None, 'output_dir': None, 'output_ext': '.fits', 'output_use_model': False, 'output_use_index': True, 'save_results': False, 'skip': False, 'suffix': None, 'search_output_file': True, 'input_dir': '', 'int_name': '', 'save_opt': False, 'opt_name': '', 'maximum_cores': 'none'}, 'gain_scale': {'pre_hooks': [], 'post_hooks': [], 'output_file': None, 'output_dir': None, 'output_ext': '.fits', 'output_use_model': False, 'output_use_index': True, 'save_results': False, 'skip': False, 'suffix': None, 'search_output_file': True, 'input_dir': ''}}}\n",
      "[jwst.datamodels.util:DEBUG] Opening /home/kglidic/Software/Data_Challenge_Simulation_Pipeline_test/Original_Data_Set_NRCA3_DataChallengeSimulation/Raw_Data/jw00042001001_01101_00001-seg013_nrca3_uncal.fits as <class 'jwst.datamodels.ramp.RampModel'>\n",
      "[stdatamodels.util:DEBUG] Environmental \"STRICT_VALIDATION\" cannot be found. Using default value of \"False\".\n",
      "[stdatamodels.util:DEBUG] Environmental \"VALIDATE_ON_ASSIGNMENT\" cannot be found. Using default value of \"True\".\n",
      "[stdatamodels.util:DEBUG] Environmental \"SKIP_FITS_UPDATE\" cannot be found. Using default value of \"None\".\n"
     ]
    },
    {
     "name": "stderr",
     "output_type": "stream",
     "text": [
      "2021-09-29 13:13:33,878 - stpipe.Detector1Pipeline - INFO - Prefetching reference files for dataset: 'jw00042001001_01101_00001-seg013_nrca3_uncal.fits' reftypes = ['dark', 'gain', 'linearity', 'mask', 'readnoise', 'refpix', 'reset', 'rscd', 'saturation', 'superbias']\n"
     ]
    },
    {
     "name": "stdout",
     "output_type": "stream",
     "text": [
      "[stpipe.Detector1Pipeline:INFO] Prefetching reference files for dataset: 'jw00042001001_01101_00001-seg013_nrca3_uncal.fits' reftypes = ['dark', 'gain', 'linearity', 'mask', 'readnoise', 'refpix', 'reset', 'rscd', 'saturation', 'superbias']\n"
     ]
    },
    {
     "name": "stderr",
     "output_type": "stream",
     "text": [
      "2021-09-29 13:13:33,895 - stpipe.Detector1Pipeline - INFO - Prefetch for DARK reference file is '/fenrirdata1/kg_data/crds_cache/references/jwst/nircam/jwst_nircam_dark_0198.fits'.\n"
     ]
    },
    {
     "name": "stdout",
     "output_type": "stream",
     "text": [
      "[stpipe.Detector1Pipeline:INFO] Prefetch for DARK reference file is '/fenrirdata1/kg_data/crds_cache/references/jwst/nircam/jwst_nircam_dark_0198.fits'.\n"
     ]
    },
    {
     "name": "stderr",
     "output_type": "stream",
     "text": [
      "2021-09-29 13:13:33,898 - stpipe.Detector1Pipeline - INFO - Prefetch for GAIN reference file is '/fenrirdata1/kg_data/crds_cache/references/jwst/nircam/jwst_nircam_gain_0048.fits'.\n"
     ]
    },
    {
     "name": "stdout",
     "output_type": "stream",
     "text": [
      "[stpipe.Detector1Pipeline:INFO] Prefetch for GAIN reference file is '/fenrirdata1/kg_data/crds_cache/references/jwst/nircam/jwst_nircam_gain_0048.fits'.\n"
     ]
    },
    {
     "name": "stderr",
     "output_type": "stream",
     "text": [
      "2021-09-29 13:13:33,899 - stpipe.Detector1Pipeline - INFO - Prefetch for LINEARITY reference file is '/fenrirdata1/kg_data/crds_cache/references/jwst/nircam/jwst_nircam_linearity_0053.fits'.\n"
     ]
    },
    {
     "name": "stdout",
     "output_type": "stream",
     "text": [
      "[stpipe.Detector1Pipeline:INFO] Prefetch for LINEARITY reference file is '/fenrirdata1/kg_data/crds_cache/references/jwst/nircam/jwst_nircam_linearity_0053.fits'.\n"
     ]
    },
    {
     "name": "stderr",
     "output_type": "stream",
     "text": [
      "2021-09-29 13:13:33,902 - stpipe.Detector1Pipeline - INFO - Prefetch for MASK reference file is '/fenrirdata1/kg_data/crds_cache/references/jwst/nircam/jwst_nircam_mask_0041.fits'.\n"
     ]
    },
    {
     "name": "stdout",
     "output_type": "stream",
     "text": [
      "[stpipe.Detector1Pipeline:INFO] Prefetch for MASK reference file is '/fenrirdata1/kg_data/crds_cache/references/jwst/nircam/jwst_nircam_mask_0041.fits'.\n"
     ]
    },
    {
     "name": "stderr",
     "output_type": "stream",
     "text": [
      "2021-09-29 13:13:33,904 - stpipe.Detector1Pipeline - INFO - Prefetch for READNOISE reference file is '/fenrirdata1/kg_data/crds_cache/references/jwst/nircam/jwst_nircam_readnoise_0030.fits'.\n"
     ]
    },
    {
     "name": "stdout",
     "output_type": "stream",
     "text": [
      "[stpipe.Detector1Pipeline:INFO] Prefetch for READNOISE reference file is '/fenrirdata1/kg_data/crds_cache/references/jwst/nircam/jwst_nircam_readnoise_0030.fits'.\n"
     ]
    },
    {
     "name": "stderr",
     "output_type": "stream",
     "text": [
      "2021-09-29 13:13:33,907 - stpipe.Detector1Pipeline - INFO - Prefetch for REFPIX reference file is 'N/A'.\n"
     ]
    },
    {
     "name": "stdout",
     "output_type": "stream",
     "text": [
      "[stpipe.Detector1Pipeline:INFO] Prefetch for REFPIX reference file is 'N/A'.\n"
     ]
    },
    {
     "name": "stderr",
     "output_type": "stream",
     "text": [
      "2021-09-29 13:13:33,908 - stpipe.Detector1Pipeline - INFO - Prefetch for RESET reference file is 'N/A'.\n"
     ]
    },
    {
     "name": "stdout",
     "output_type": "stream",
     "text": [
      "[stpipe.Detector1Pipeline:INFO] Prefetch for RESET reference file is 'N/A'.\n"
     ]
    },
    {
     "name": "stderr",
     "output_type": "stream",
     "text": [
      "2021-09-29 13:13:33,910 - stpipe.Detector1Pipeline - INFO - Prefetch for RSCD reference file is 'N/A'.\n"
     ]
    },
    {
     "name": "stdout",
     "output_type": "stream",
     "text": [
      "[stpipe.Detector1Pipeline:INFO] Prefetch for RSCD reference file is 'N/A'.\n"
     ]
    },
    {
     "name": "stderr",
     "output_type": "stream",
     "text": [
      "2021-09-29 13:13:33,912 - stpipe.Detector1Pipeline - INFO - Prefetch for SATURATION reference file is '/fenrirdata1/kg_data/crds_cache/references/jwst/nircam/jwst_nircam_saturation_0067.fits'.\n"
     ]
    },
    {
     "name": "stdout",
     "output_type": "stream",
     "text": [
      "[stpipe.Detector1Pipeline:INFO] Prefetch for SATURATION reference file is '/fenrirdata1/kg_data/crds_cache/references/jwst/nircam/jwst_nircam_saturation_0067.fits'.\n"
     ]
    },
    {
     "name": "stderr",
     "output_type": "stream",
     "text": [
      "2021-09-29 13:13:33,916 - stpipe.Detector1Pipeline - INFO - Prefetch for SUPERBIAS reference file is '/fenrirdata1/kg_data/crds_cache/references/jwst/nircam/jwst_nircam_superbias_0027.fits'.\n"
     ]
    },
    {
     "name": "stdout",
     "output_type": "stream",
     "text": [
      "[stpipe.Detector1Pipeline:INFO] Prefetch for SUPERBIAS reference file is '/fenrirdata1/kg_data/crds_cache/references/jwst/nircam/jwst_nircam_superbias_0027.fits'.\n",
      "[      root:INFO] Starting calwebb_detector1 ...\n",
      "[stdatamodels.util:DEBUG] Environmental \"STRICT_VALIDATION\" cannot be found. Using default value of \"False\".\n",
      "[stdatamodels.util:DEBUG] Environmental \"VALIDATE_ON_ASSIGNMENT\" cannot be found. Using default value of \"True\".\n",
      "[stdatamodels.util:DEBUG] Environmental \"SKIP_FITS_UPDATE\" cannot be found. Using default value of \"None\".\n",
      "[      root:DEBUG] Processing a Near-IR exposure\n"
     ]
    },
    {
     "name": "stderr",
     "output_type": "stream",
     "text": [
      "2021-09-29 13:13:39,756 - stpipe.Detector1Pipeline.group_scale - INFO - Step group_scale running with args (<RampModel(152, 8, 64, 2048) from jw00042001001_01101_00001-seg013_nrca3_uncal.fits>,).\n"
     ]
    },
    {
     "name": "stdout",
     "output_type": "stream",
     "text": [
      "[stpipe.Detector1Pipeline.group_scale:INFO] Step group_scale running with args (<RampModel(152, 8, 64, 2048) from jw00042001001_01101_00001-seg013_nrca3_uncal.fits>,).\n"
     ]
    },
    {
     "name": "stderr",
     "output_type": "stream",
     "text": [
      "2021-09-29 13:13:39,761 - stpipe.Detector1Pipeline.group_scale - INFO - Step group_scale parameters are: {'pre_hooks': [], 'post_hooks': [], 'output_file': None, 'output_dir': None, 'output_ext': '.fits', 'output_use_model': False, 'output_use_index': True, 'save_results': False, 'skip': False, 'suffix': None, 'search_output_file': True, 'input_dir': '/home/kglidic/Software/Data_Challenge_Simulation_Pipeline_test/Original_Data_Set_NRCA3_DataChallengeSimulation/Raw_Data'}\n"
     ]
    },
    {
     "name": "stdout",
     "output_type": "stream",
     "text": [
      "[stpipe.Detector1Pipeline.group_scale:INFO] Step group_scale parameters are: {'pre_hooks': [], 'post_hooks': [], 'output_file': None, 'output_dir': None, 'output_ext': '.fits', 'output_use_model': False, 'output_use_index': True, 'save_results': False, 'skip': False, 'suffix': None, 'search_output_file': True, 'input_dir': '/home/kglidic/Software/Data_Challenge_Simulation_Pipeline_test/Original_Data_Set_NRCA3_DataChallengeSimulation/Raw_Data'}\n",
      "[stdatamodels.util:DEBUG] Environmental \"STRICT_VALIDATION\" cannot be found. Using default value of \"False\".\n",
      "[stdatamodels.util:DEBUG] Environmental \"VALIDATE_ON_ASSIGNMENT\" cannot be found. Using default value of \"True\".\n",
      "[stdatamodels.util:DEBUG] Environmental \"VALIDATE_ON_ASSIGNMENT\" cannot be found. Using default value of \"True\".\n"
     ]
    },
    {
     "name": "stderr",
     "output_type": "stream",
     "text": [
      "2021-09-29 13:13:46,380 - stpipe.Detector1Pipeline.group_scale - INFO - NFRAMES=1 is a power of 2; correction not needed\n"
     ]
    },
    {
     "name": "stdout",
     "output_type": "stream",
     "text": [
      "[stpipe.Detector1Pipeline.group_scale:INFO] NFRAMES=1 is a power of 2; correction not needed\n"
     ]
    },
    {
     "name": "stderr",
     "output_type": "stream",
     "text": [
      "2021-09-29 13:13:46,384 - stpipe.Detector1Pipeline.group_scale - INFO - Step will be skipped\n"
     ]
    },
    {
     "name": "stdout",
     "output_type": "stream",
     "text": [
      "[stpipe.Detector1Pipeline.group_scale:INFO] Step will be skipped\n"
     ]
    },
    {
     "name": "stderr",
     "output_type": "stream",
     "text": [
      "2021-09-29 13:13:46,389 - stpipe.Detector1Pipeline.group_scale - INFO - Step group_scale done\n"
     ]
    },
    {
     "name": "stdout",
     "output_type": "stream",
     "text": [
      "[stpipe.Detector1Pipeline.group_scale:INFO] Step group_scale done\n"
     ]
    },
    {
     "name": "stderr",
     "output_type": "stream",
     "text": [
      "2021-09-29 13:13:46,698 - stpipe.Detector1Pipeline.dq_init - INFO - Step dq_init running with args (<RampModel(152, 8, 64, 2048) from jw00042001001_01101_00001-seg013_nrca3_uncal.fits>,).\n"
     ]
    },
    {
     "name": "stdout",
     "output_type": "stream",
     "text": [
      "[stpipe.Detector1Pipeline.dq_init:INFO] Step dq_init running with args (<RampModel(152, 8, 64, 2048) from jw00042001001_01101_00001-seg013_nrca3_uncal.fits>,).\n"
     ]
    },
    {
     "name": "stderr",
     "output_type": "stream",
     "text": [
      "2021-09-29 13:13:46,702 - stpipe.Detector1Pipeline.dq_init - INFO - Step dq_init parameters are: {'pre_hooks': [], 'post_hooks': [], 'output_file': None, 'output_dir': None, 'output_ext': '.fits', 'output_use_model': False, 'output_use_index': True, 'save_results': False, 'skip': False, 'suffix': None, 'search_output_file': True, 'input_dir': '/home/kglidic/Software/Data_Challenge_Simulation_Pipeline_test/Original_Data_Set_NRCA3_DataChallengeSimulation/Raw_Data'}\n"
     ]
    },
    {
     "name": "stdout",
     "output_type": "stream",
     "text": [
      "[stpipe.Detector1Pipeline.dq_init:INFO] Step dq_init parameters are: {'pre_hooks': [], 'post_hooks': [], 'output_file': None, 'output_dir': None, 'output_ext': '.fits', 'output_use_model': False, 'output_use_index': True, 'save_results': False, 'skip': False, 'suffix': None, 'search_output_file': True, 'input_dir': '/home/kglidic/Software/Data_Challenge_Simulation_Pipeline_test/Original_Data_Set_NRCA3_DataChallengeSimulation/Raw_Data'}\n",
      "[stdatamodels.util:DEBUG] Environmental \"STRICT_VALIDATION\" cannot be found. Using default value of \"False\".\n",
      "[stdatamodels.util:DEBUG] Environmental \"VALIDATE_ON_ASSIGNMENT\" cannot be found. Using default value of \"True\".\n",
      "[stdatamodels.util:DEBUG] Environmental \"STRICT_VALIDATION\" cannot be found. Using default value of \"False\".\n",
      "[stdatamodels.util:DEBUG] Environmental \"VALIDATE_ON_ASSIGNMENT\" cannot be found. Using default value of \"True\".\n"
     ]
    },
    {
     "name": "stderr",
     "output_type": "stream",
     "text": [
      "2021-09-29 13:13:46,760 - stpipe.Detector1Pipeline.dq_init - INFO - Using MASK reference file /fenrirdata1/kg_data/crds_cache/references/jwst/nircam/jwst_nircam_mask_0041.fits\n"
     ]
    },
    {
     "name": "stdout",
     "output_type": "stream",
     "text": [
      "[stpipe.Detector1Pipeline.dq_init:INFO] Using MASK reference file /fenrirdata1/kg_data/crds_cache/references/jwst/nircam/jwst_nircam_mask_0041.fits\n",
      "[stdatamodels.util:DEBUG] Environmental \"STRICT_VALIDATION\" cannot be found. Using default value of \"False\".\n",
      "[stdatamodels.util:DEBUG] Environmental \"VALIDATE_ON_ASSIGNMENT\" cannot be found. Using default value of \"True\".\n",
      "[stdatamodels.util:DEBUG] Environmental \"SKIP_FITS_UPDATE\" cannot be found. Using default value of \"None\".\n",
      "[stdatamodels.fits_support:DEBUG] No ASDF information found. Cannot skip updating from FITS headers.\n",
      "[stdatamodels.util:DEBUG] Environmental \"VALIDATE_ON_ASSIGNMENT\" cannot be found. Using default value of \"True\".\n",
      "[jwst.lib.reffile_utils:DEBUG] ref substrt1=1, subsize1=2048, substrt2=1, subsize2=2048\n",
      "[jwst.lib.reffile_utils:DEBUG] sci substrt1=1, subsize1=2048, substrt2=144, subsize2=64\n",
      "[jwst.dq_init.dq_initialization:INFO] Extracting mask subarray to match science data\n",
      "[jwst.lib.reffile_utils:DEBUG] slice xstart=0, xstop=2048, ystart=143, ystop=207\n",
      "[stdatamodels.util:DEBUG] Environmental \"STRICT_VALIDATION\" cannot be found. Using default value of \"False\".\n",
      "[stdatamodels.util:DEBUG] Environmental \"VALIDATE_ON_ASSIGNMENT\" cannot be found. Using default value of \"True\".\n"
     ]
    },
    {
     "name": "stderr",
     "output_type": "stream",
     "text": [
      "2021-09-29 13:13:53,386 - stpipe.Detector1Pipeline.dq_init - INFO - Step dq_init done\n"
     ]
    },
    {
     "name": "stdout",
     "output_type": "stream",
     "text": [
      "[stpipe.Detector1Pipeline.dq_init:INFO] Step dq_init done\n"
     ]
    },
    {
     "name": "stderr",
     "output_type": "stream",
     "text": [
      "2021-09-29 13:13:53,725 - stpipe.Detector1Pipeline.saturation - INFO - Step saturation running with args (<RampModel(152, 8, 64, 2048) from jw00042001001_01101_00001-seg013_nrca3_uncal.fits>,).\n"
     ]
    },
    {
     "name": "stdout",
     "output_type": "stream",
     "text": [
      "[stpipe.Detector1Pipeline.saturation:INFO] Step saturation running with args (<RampModel(152, 8, 64, 2048) from jw00042001001_01101_00001-seg013_nrca3_uncal.fits>,).\n"
     ]
    },
    {
     "name": "stderr",
     "output_type": "stream",
     "text": [
      "2021-09-29 13:13:53,730 - stpipe.Detector1Pipeline.saturation - INFO - Step saturation parameters are: {'pre_hooks': [], 'post_hooks': [], 'output_file': None, 'output_dir': None, 'output_ext': '.fits', 'output_use_model': False, 'output_use_index': True, 'save_results': False, 'skip': False, 'suffix': None, 'search_output_file': True, 'input_dir': '/home/kglidic/Software/Data_Challenge_Simulation_Pipeline_test/Original_Data_Set_NRCA3_DataChallengeSimulation/Raw_Data'}\n"
     ]
    },
    {
     "name": "stdout",
     "output_type": "stream",
     "text": [
      "[stpipe.Detector1Pipeline.saturation:INFO] Step saturation parameters are: {'pre_hooks': [], 'post_hooks': [], 'output_file': None, 'output_dir': None, 'output_ext': '.fits', 'output_use_model': False, 'output_use_index': True, 'save_results': False, 'skip': False, 'suffix': None, 'search_output_file': True, 'input_dir': '/home/kglidic/Software/Data_Challenge_Simulation_Pipeline_test/Original_Data_Set_NRCA3_DataChallengeSimulation/Raw_Data'}\n",
      "[stdatamodels.util:DEBUG] Environmental \"STRICT_VALIDATION\" cannot be found. Using default value of \"False\".\n",
      "[stdatamodels.util:DEBUG] Environmental \"VALIDATE_ON_ASSIGNMENT\" cannot be found. Using default value of \"True\".\n",
      "[stdatamodels.util:DEBUG] Environmental \"STRICT_VALIDATION\" cannot be found. Using default value of \"False\".\n",
      "[stdatamodels.util:DEBUG] Environmental \"VALIDATE_ON_ASSIGNMENT\" cannot be found. Using default value of \"True\".\n"
     ]
    },
    {
     "name": "stderr",
     "output_type": "stream",
     "text": [
      "2021-09-29 13:13:53,791 - stpipe.Detector1Pipeline.saturation - INFO - Using SATURATION reference file /fenrirdata1/kg_data/crds_cache/references/jwst/nircam/jwst_nircam_saturation_0067.fits\n"
     ]
    },
    {
     "name": "stdout",
     "output_type": "stream",
     "text": [
      "[stpipe.Detector1Pipeline.saturation:INFO] Using SATURATION reference file /fenrirdata1/kg_data/crds_cache/references/jwst/nircam/jwst_nircam_saturation_0067.fits\n",
      "[stdatamodels.util:DEBUG] Environmental \"STRICT_VALIDATION\" cannot be found. Using default value of \"False\".\n",
      "[stdatamodels.util:DEBUG] Environmental \"VALIDATE_ON_ASSIGNMENT\" cannot be found. Using default value of \"True\".\n",
      "[stdatamodels.util:DEBUG] Environmental \"SKIP_FITS_UPDATE\" cannot be found. Using default value of \"None\".\n",
      "[stdatamodels.fits_support:DEBUG] No ASDF information found. Cannot skip updating from FITS headers.\n"
     ]
    },
    {
     "name": "stderr",
     "output_type": "stream",
     "text": [
      "[stcal.dynamicdq:WARNING] Keyword NO_SATURATION does not correspond to an existing DQ mnemonic, so will be ignored\n",
      "[stcal.dynamicdq:WARNING] Keyword FEW_SAMPLES does not correspond to an existing DQ mnemonic, so will be ignored\n",
      "[stcal.dynamicdq:WARNING] Keyword AD_SATURATION does not correspond to an existing DQ mnemonic, so will be ignored\n",
      "[stcal.dynamicdq:WARNING] Keyword WEIRD_PIXEL does not correspond to an existing DQ mnemonic, so will be ignored\n",
      "[stcal.dynamicdq:WARNING] Keyword DEAD_PIXEL does not correspond to an existing DQ mnemonic, so will be ignored\n"
     ]
    },
    {
     "name": "stdout",
     "output_type": "stream",
     "text": [
      "[stdatamodels.util:DEBUG] Environmental \"VALIDATE_ON_ASSIGNMENT\" cannot be found. Using default value of \"True\".\n",
      "[jwst.lib.reffile_utils:DEBUG] ref substrt1=1, subsize1=2048, substrt2=1, subsize2=2048\n",
      "[jwst.lib.reffile_utils:DEBUG] sci substrt1=1, subsize1=2048, substrt2=144, subsize2=64\n",
      "[jwst.saturation.saturation:INFO] Extracting reference file subarray to match science data\n",
      "[jwst.lib.reffile_utils:DEBUG] slice xstart=0, xstop=2048, ystart=143, ystop=207\n",
      "[stdatamodels.util:DEBUG] Environmental \"STRICT_VALIDATION\" cannot be found. Using default value of \"False\".\n",
      "[stdatamodels.util:DEBUG] Environmental \"VALIDATE_ON_ASSIGNMENT\" cannot be found. Using default value of \"True\".\n",
      "[jwst.saturation.saturation:INFO] Detected 519 saturated pixels\n",
      "[jwst.saturation.saturation:INFO] Detected 0 A/D floor pixels\n"
     ]
    },
    {
     "name": "stderr",
     "output_type": "stream",
     "text": [
      "2021-09-29 13:13:58,363 - stpipe.Detector1Pipeline.saturation - INFO - Step saturation done\n"
     ]
    },
    {
     "name": "stdout",
     "output_type": "stream",
     "text": [
      "[stpipe.Detector1Pipeline.saturation:INFO] Step saturation done\n"
     ]
    },
    {
     "name": "stderr",
     "output_type": "stream",
     "text": [
      "2021-09-29 13:13:58,793 - stpipe.Detector1Pipeline.ipc - INFO - Step ipc running with args (<RampModel(152, 8, 64, 2048) from jw00042001001_01101_00001-seg013_nrca3_uncal.fits>,).\n"
     ]
    },
    {
     "name": "stdout",
     "output_type": "stream",
     "text": [
      "[stpipe.Detector1Pipeline.ipc:INFO] Step ipc running with args (<RampModel(152, 8, 64, 2048) from jw00042001001_01101_00001-seg013_nrca3_uncal.fits>,).\n"
     ]
    },
    {
     "name": "stderr",
     "output_type": "stream",
     "text": [
      "2021-09-29 13:13:58,797 - stpipe.Detector1Pipeline.ipc - INFO - Step ipc parameters are: {'pre_hooks': [], 'post_hooks': [], 'output_file': None, 'output_dir': None, 'output_ext': '.fits', 'output_use_model': False, 'output_use_index': True, 'save_results': False, 'skip': True, 'suffix': None, 'search_output_file': True, 'input_dir': '/home/kglidic/Software/Data_Challenge_Simulation_Pipeline_test/Original_Data_Set_NRCA3_DataChallengeSimulation/Raw_Data'}\n"
     ]
    },
    {
     "name": "stdout",
     "output_type": "stream",
     "text": [
      "[stpipe.Detector1Pipeline.ipc:INFO] Step ipc parameters are: {'pre_hooks': [], 'post_hooks': [], 'output_file': None, 'output_dir': None, 'output_ext': '.fits', 'output_use_model': False, 'output_use_index': True, 'save_results': False, 'skip': True, 'suffix': None, 'search_output_file': True, 'input_dir': '/home/kglidic/Software/Data_Challenge_Simulation_Pipeline_test/Original_Data_Set_NRCA3_DataChallengeSimulation/Raw_Data'}\n"
     ]
    },
    {
     "name": "stderr",
     "output_type": "stream",
     "text": [
      "2021-09-29 13:13:58,798 - stpipe.Detector1Pipeline.ipc - INFO - Step skipped.\n"
     ]
    },
    {
     "name": "stdout",
     "output_type": "stream",
     "text": [
      "[stpipe.Detector1Pipeline.ipc:INFO] Step skipped.\n"
     ]
    },
    {
     "name": "stderr",
     "output_type": "stream",
     "text": [
      "2021-09-29 13:13:58,800 - stpipe.Detector1Pipeline.ipc - INFO - Step ipc done\n"
     ]
    },
    {
     "name": "stdout",
     "output_type": "stream",
     "text": [
      "[stpipe.Detector1Pipeline.ipc:INFO] Step ipc done\n"
     ]
    },
    {
     "name": "stderr",
     "output_type": "stream",
     "text": [
      "2021-09-29 13:13:59,058 - stpipe.Detector1Pipeline.superbias - INFO - Step superbias running with args (<RampModel(152, 8, 64, 2048) from jw00042001001_01101_00001-seg013_nrca3_uncal.fits>,).\n"
     ]
    },
    {
     "name": "stdout",
     "output_type": "stream",
     "text": [
      "[stpipe.Detector1Pipeline.superbias:INFO] Step superbias running with args (<RampModel(152, 8, 64, 2048) from jw00042001001_01101_00001-seg013_nrca3_uncal.fits>,).\n"
     ]
    },
    {
     "name": "stderr",
     "output_type": "stream",
     "text": [
      "2021-09-29 13:13:59,061 - stpipe.Detector1Pipeline.superbias - INFO - Step superbias parameters are: {'pre_hooks': [], 'post_hooks': [], 'output_file': None, 'output_dir': None, 'output_ext': '.fits', 'output_use_model': False, 'output_use_index': True, 'save_results': False, 'skip': False, 'suffix': None, 'search_output_file': True, 'input_dir': '/home/kglidic/Software/Data_Challenge_Simulation_Pipeline_test/Original_Data_Set_NRCA3_DataChallengeSimulation/Raw_Data'}\n"
     ]
    },
    {
     "name": "stdout",
     "output_type": "stream",
     "text": [
      "[stpipe.Detector1Pipeline.superbias:INFO] Step superbias parameters are: {'pre_hooks': [], 'post_hooks': [], 'output_file': None, 'output_dir': None, 'output_ext': '.fits', 'output_use_model': False, 'output_use_index': True, 'save_results': False, 'skip': False, 'suffix': None, 'search_output_file': True, 'input_dir': '/home/kglidic/Software/Data_Challenge_Simulation_Pipeline_test/Original_Data_Set_NRCA3_DataChallengeSimulation/Raw_Data'}\n",
      "[stdatamodels.util:DEBUG] Environmental \"STRICT_VALIDATION\" cannot be found. Using default value of \"False\".\n",
      "[stdatamodels.util:DEBUG] Environmental \"VALIDATE_ON_ASSIGNMENT\" cannot be found. Using default value of \"True\".\n",
      "[stdatamodels.util:DEBUG] Environmental \"STRICT_VALIDATION\" cannot be found. Using default value of \"False\".\n",
      "[stdatamodels.util:DEBUG] Environmental \"VALIDATE_ON_ASSIGNMENT\" cannot be found. Using default value of \"True\".\n"
     ]
    },
    {
     "name": "stderr",
     "output_type": "stream",
     "text": [
      "2021-09-29 13:13:59,118 - stpipe.Detector1Pipeline.superbias - INFO - Using SUPERBIAS reference file /fenrirdata1/kg_data/crds_cache/references/jwst/nircam/jwst_nircam_superbias_0027.fits\n"
     ]
    },
    {
     "name": "stdout",
     "output_type": "stream",
     "text": [
      "[stpipe.Detector1Pipeline.superbias:INFO] Using SUPERBIAS reference file /fenrirdata1/kg_data/crds_cache/references/jwst/nircam/jwst_nircam_superbias_0027.fits\n",
      "[stdatamodels.util:DEBUG] Environmental \"STRICT_VALIDATION\" cannot be found. Using default value of \"False\".\n",
      "[stdatamodels.util:DEBUG] Environmental \"VALIDATE_ON_ASSIGNMENT\" cannot be found. Using default value of \"True\".\n",
      "[stdatamodels.util:DEBUG] Environmental \"SKIP_FITS_UPDATE\" cannot be found. Using default value of \"None\".\n",
      "[stdatamodels.fits_support:DEBUG] No ASDF information found. Cannot skip updating from FITS headers.\n"
     ]
    },
    {
     "name": "stderr",
     "output_type": "stream",
     "text": [
      "[stcal.dynamicdq:WARNING] Keyword NOISY does not correspond to an existing DQ mnemonic, so will be ignored\n"
     ]
    },
    {
     "name": "stdout",
     "output_type": "stream",
     "text": [
      "[jwst.lib.reffile_utils:DEBUG] ref substrt1=1, subsize1=2048, substrt2=1, subsize2=2048\n",
      "[jwst.lib.reffile_utils:DEBUG] sci substrt1=1, subsize1=2048, substrt2=144, subsize2=64\n",
      "[jwst.lib.reffile_utils:DEBUG] slice xstart=0, xstop=2048, ystart=143, ystop=207\n",
      "[stdatamodels.util:DEBUG] Environmental \"STRICT_VALIDATION\" cannot be found. Using default value of \"False\".\n",
      "[stdatamodels.util:DEBUG] Environmental \"VALIDATE_ON_ASSIGNMENT\" cannot be found. Using default value of \"True\".\n",
      "[stdatamodels.util:DEBUG] Environmental \"VALIDATE_ON_ASSIGNMENT\" cannot be found. Using default value of \"True\".\n"
     ]
    },
    {
     "name": "stderr",
     "output_type": "stream",
     "text": [
      "2021-09-29 13:14:04,445 - stpipe.Detector1Pipeline.superbias - INFO - Step superbias done\n"
     ]
    },
    {
     "name": "stdout",
     "output_type": "stream",
     "text": [
      "[stpipe.Detector1Pipeline.superbias:INFO] Step superbias done\n"
     ]
    },
    {
     "name": "stderr",
     "output_type": "stream",
     "text": [
      "2021-09-29 13:14:04,775 - stpipe.Detector1Pipeline.refpix - INFO - Step refpix running with args (<RampModel(152, 8, 64, 2048) from jw00042001001_01101_00001-seg013_nrca3_uncal.fits>,).\n"
     ]
    },
    {
     "name": "stdout",
     "output_type": "stream",
     "text": [
      "[stpipe.Detector1Pipeline.refpix:INFO] Step refpix running with args (<RampModel(152, 8, 64, 2048) from jw00042001001_01101_00001-seg013_nrca3_uncal.fits>,).\n"
     ]
    },
    {
     "name": "stderr",
     "output_type": "stream",
     "text": [
      "2021-09-29 13:14:04,780 - stpipe.Detector1Pipeline.refpix - INFO - Step refpix parameters are: {'pre_hooks': [], 'post_hooks': [], 'output_file': None, 'output_dir': None, 'output_ext': '.fits', 'output_use_model': False, 'output_use_index': True, 'save_results': False, 'skip': False, 'suffix': None, 'search_output_file': True, 'input_dir': '/home/kglidic/Software/Data_Challenge_Simulation_Pipeline_test/Original_Data_Set_NRCA3_DataChallengeSimulation/Raw_Data', 'odd_even_columns': True, 'use_side_ref_pixels': True, 'side_smoothing_length': 11, 'side_gain': 1.0, 'odd_even_rows': True}\n"
     ]
    },
    {
     "name": "stdout",
     "output_type": "stream",
     "text": [
      "[stpipe.Detector1Pipeline.refpix:INFO] Step refpix parameters are: {'pre_hooks': [], 'post_hooks': [], 'output_file': None, 'output_dir': None, 'output_ext': '.fits', 'output_use_model': False, 'output_use_index': True, 'save_results': False, 'skip': False, 'suffix': None, 'search_output_file': True, 'input_dir': '/home/kglidic/Software/Data_Challenge_Simulation_Pipeline_test/Original_Data_Set_NRCA3_DataChallengeSimulation/Raw_Data', 'odd_even_columns': True, 'use_side_ref_pixels': True, 'side_smoothing_length': 11, 'side_gain': 1.0, 'odd_even_rows': True}\n",
      "[stdatamodels.util:DEBUG] Environmental \"STRICT_VALIDATION\" cannot be found. Using default value of \"False\".\n",
      "[stdatamodels.util:DEBUG] Environmental \"VALIDATE_ON_ASSIGNMENT\" cannot be found. Using default value of \"True\".\n"
     ]
    },
    {
     "name": "stderr",
     "output_type": "stream",
     "text": [
      "2021-09-29 13:14:04,808 - stpipe.Detector1Pipeline.refpix - INFO - use_side_ref_pixels = True\n"
     ]
    },
    {
     "name": "stdout",
     "output_type": "stream",
     "text": [
      "[stpipe.Detector1Pipeline.refpix:INFO] use_side_ref_pixels = True\n"
     ]
    },
    {
     "name": "stderr",
     "output_type": "stream",
     "text": [
      "2021-09-29 13:14:04,810 - stpipe.Detector1Pipeline.refpix - INFO - odd_even_columns = True\n"
     ]
    },
    {
     "name": "stdout",
     "output_type": "stream",
     "text": [
      "[stpipe.Detector1Pipeline.refpix:INFO] odd_even_columns = True\n"
     ]
    },
    {
     "name": "stderr",
     "output_type": "stream",
     "text": [
      "2021-09-29 13:14:04,812 - stpipe.Detector1Pipeline.refpix - INFO - side_smoothing_length = 11\n"
     ]
    },
    {
     "name": "stdout",
     "output_type": "stream",
     "text": [
      "[stpipe.Detector1Pipeline.refpix:INFO] side_smoothing_length = 11\n"
     ]
    },
    {
     "name": "stderr",
     "output_type": "stream",
     "text": [
      "2021-09-29 13:14:04,816 - stpipe.Detector1Pipeline.refpix - INFO - side_gain = 1.000000\n"
     ]
    },
    {
     "name": "stdout",
     "output_type": "stream",
     "text": [
      "[stpipe.Detector1Pipeline.refpix:INFO] side_gain = 1.000000\n"
     ]
    },
    {
     "name": "stderr",
     "output_type": "stream",
     "text": [
      "2021-09-29 13:14:04,819 - stpipe.Detector1Pipeline.refpix - INFO - odd_even_rows = True\n"
     ]
    },
    {
     "name": "stdout",
     "output_type": "stream",
     "text": [
      "[stpipe.Detector1Pipeline.refpix:INFO] odd_even_rows = True\n",
      "[stdatamodels.util:DEBUG] Environmental \"VALIDATE_ON_ASSIGNMENT\" cannot be found. Using default value of \"True\".\n",
      "[jwst.lib.reffile_utils:DEBUG] Input exposure is a subarray readout\n",
      "[jwst.lib.reffile_utils:DEBUG] Input exposure is a subarray readout\n"
     ]
    }
   ],
   "source": [
    "startTime = time.time() #Time how long this step takes\n",
    "\n",
    "for filename_stage1 in all_uncal_files:\n",
    "    \n",
    "    # Instantiate the class. Do not provide a configuration file.\n",
    "    pipeline_stage1 = Detector1Pipeline()\n",
    "    \n",
    "    # Manually set any desired non-default parameter values\n",
    "    \n",
    "    # Default is to skip the persistence and IPC correction\n",
    "    # Make that explicit here\n",
    "    pipeline_stage1.persistence.skip = True\n",
    "    pipeline_stage1.ipc.skip = True\n",
    "    \n",
    "    pipeline_stage1.refpix.skip = False # Make sure to skip steps appropriate if using an alternate ref pix correction method. Otherwise, the default is 'False'.\n",
    "    pipeline_stage1.superbias.skip = False \n",
    "    \n",
    "    # The default value for CR flagging is 3 or 4 sigma\n",
    "    # which tends to be too aggressive and flags noise.\n",
    "    # Set it to something more reasonable\n",
    "    pipeline_stage1.jump.rejection_threshold = 9\n",
    "    pipeline_stage1.jump.skip=False # Currently we are skipping this step as we are testing the pipeline with this simulation and lots of the data gets flagged. \n",
    "    \n",
    "    # Specify that you want results saved to a file\n",
    "    pipeline_stage1.save_results = True\n",
    "    pipeline_stage1.output_dir = '/fenrirdata1/kg_data/pipeline_output/DataChallengeSimulation/JumpSkip_Test/'\n",
    "    \n",
    "    # Execute the pipeline using the run method\n",
    "    result_stage1 = pipeline_stage1.run(filename_stage1)\n",
    "    \n",
    "executionTime = (time.time() - startTime)\n",
    "print('Stage 1 Execution Time in Seconds: ' + str(executionTime)) #Time how long this step takes"
   ]
  },
  {
   "cell_type": "markdown",
   "id": "0f53758d",
   "metadata": {},
   "source": [
    "$\\textbf{OUTPUT FILES:}$ Output files are \\*rateints.fits. The pipeline creates a rate.fits and a rateint.fits files in cases where there is more than one integration in a file, but only a rate.fits file in the case where there is only one integration in a file."
   ]
  },
  {
   "cell_type": "code",
   "execution_count": null,
   "id": "12f75ade",
   "metadata": {},
   "outputs": [],
   "source": [
    "asn_dir = '/fenrirdata1/kg_data/pipeline_output/DataChallengeSimulation/JumpSkip_Test/'\n",
    "level2_asn = (os.path.join(asn_dir, 'level2_asn.json'))\n",
    "asn_stage2 = asn_from_list(['/fenrirdata1/kg_data/pipeline_output/DataChallengeSimulation/JumpSkip_Test/jw00042001001_01101_00001-seg013_nrca3_rateints.fits'],rule=DMSLevel2bBase)\n",
    "with open(level2_asn, 'w') as fh:\n",
    "   fh.write(asn_stage2.dump()[1])"
   ]
  },
  {
   "cell_type": "markdown",
   "id": "9f9515d9",
   "metadata": {},
   "source": [
    "# $\\textbf{Stage 2}$\n"
   ]
  },
  {
   "cell_type": "code",
   "execution_count": null,
   "id": "ed1e7079",
   "metadata": {},
   "outputs": [],
   "source": [
    "#The file to use is the stage 2 association file defined above. \n",
    "\n",
    "# Instantiate the class. Do not provide a configuration file.\n",
    "pipeline_stage2 = Image2Pipeline()\n",
    "\n",
    "# Specify that you want results saved to a file\n",
    "pipeline_stage2.save_results = True\n",
    "pipeline_stage2.output_dir = '/fenrirdata1/kg_data/pipeline_output/DataChallengeSimulation/JumpSkip_Test/'\n",
    "\n",
    "# Execute the pipeline using the run method\n",
    "result_stage2 = pipeline_stage2.run(level2_asn)"
   ]
  },
  {
   "cell_type": "code",
   "execution_count": null,
   "id": "397eaf8c",
   "metadata": {},
   "outputs": [],
   "source": [
    "#generate an association file required for stage 3\n",
    "asn_dir = '/fenrirdata1/kg_data/pipeline_output/DataChallengeSimulation/JumpSkip_Test/'\n",
    "level3_asn = (os.path.join(asn_dir, 'level3_asn.json'))\n",
    "asn_stage3 = asn_from_list(['/fenrirdata1/kg_data/pipeline_output/DataChallengeSimulation/JumpSkip_Test/jw00042001001_01101_00001-seg013_nrca3_calints.fits'], product_name ='DataChallengeSimulation_nrca3_level3_asn')\n",
    "with open(level3_asn, 'w') as fh:\n",
    "   fh.write(asn_stage3.dump()[1])"
   ]
  },
  {
   "cell_type": "markdown",
   "id": "82da79d9",
   "metadata": {},
   "source": [
    "# $\\textbf{Stage 3}$\n"
   ]
  },
  {
   "cell_type": "code",
   "execution_count": null,
   "id": "60553356",
   "metadata": {},
   "outputs": [],
   "source": [
    "#The file to use is the stage 3 association file defined above. \n",
    "\n",
    "# Instantiate the class. Do not provide a configuration file.\n",
    "pipeline_stage3 = Tso3Pipeline()\n",
    "\n",
    "pipeline_stage3.outlier_detection.skip = True\n",
    "\n",
    "# Specify that you want results saved to a file\n",
    "pipeline_stage3.save_results = True\n",
    "pipeline_stage3.output_dir = '/fenrirdata1/kg_data/pipeline_output/DataChallengeSimulation/JumpSkip_Test'\n",
    "\n",
    "# Execute the pipeline using the run method\n",
    "result_stage3 = pipeline_stage3.run(level3_asn)"
   ]
  },
  {
   "cell_type": "code",
   "execution_count": null,
   "id": "5009b386",
   "metadata": {},
   "outputs": [],
   "source": [
    "fig, axs = plt.subplots(2, 2,figsize=(15,10))\n",
    "\n",
    "#JWST pipeline: net aperture\n",
    "dat = ascii.read('/fenrirdata1/kg_data/pipeline_output/DataChallengeSimulation/JumpSkip_Test/DataChallengeSimulation_nrca3_level3_asn_phot.ecsv') #call the data \n",
    "normalized_net_aperture_sum_pipeline = dat['net_aperture_sum'].value/dat['net_aperture_sum'][0].value #normalized net aperture sum\n",
    "std_net_aperture_sum_pipeline = np.std(normalized_net_aperture_sum_pipeline[0:20]) #calculated standard deviation\n",
    "relative_error_net_aperture_sum_pipeline = (dat['net_aperture_sum_err'].value/dat['net_aperture_sum'].value)*10**6 #ppm\n",
    "\n",
    "print(style.BOLD+\"Pipeline Calculated Net Aperture Sum std:\"+style.END + \" \" +str(std_net_aperture_sum_pipeline*10**6))\n",
    "print(style.BOLD+\"Relative Errors Net Aperture Sum:\"+style.END + \" \" +str(relative_error_net_aperture_sum_pipeline))\n",
    "\n",
    "axs[0,0].errorbar(dat['MJD'],normalized_net_aperture_sum_pipeline,yerr=dat['aperture_sum_err'].value,color='navy',fmt='.',markersize=4,elinewidth=1,ecolor='silver',label='Pipeline')\n",
    "axs[0,0].set_title(\"Net Aperture Sum\")\n",
    "axs[0,0].set_xlabel(\"Time (MJD)\")\n",
    "axs[0,0].set_ylabel(\"Normalized Flux\")\n",
    "\n",
    "#JWST pipeline: aperature background\n",
    "normalized_aperture__bkg_pipeline = dat['aperture_bkg'].value/dat['aperture_bkg'][0].value #normalized aperture bkg\n",
    "std_aperture_bkg_pipeline = np.std(normalized_aperture__bkg_pipeline[0:20]) #calculated standard deviation\n",
    "relative_error_aperture_bkg_pipeline = (dat['aperture_bkg_err'].value/dat['aperture_bkg'].value)*10**6 #ppm\n",
    "\n",
    "print(style.BOLD+\"Pipeline Calculated Aperture Background std:\"+style.END + \" \" +str(std_aperture_bkg_pipeline*10**6))\n",
    "print(style.BOLD+\"Relative Errors Aperture Background:\"+style.END + \" \" +str(relative_error_aperture_bkg_pipeline))\n",
    "\n",
    "axs[0,1].errorbar(dat['MJD'],normalized_aperture__bkg_pipeline,yerr=std_aperture_bkg_pipeline,color='darkred',fmt='.',markersize=4,elinewidth=1,ecolor='silver',label='Pipeline')\n",
    "axs[0,1].set_title(\"Aperture Background\")\n",
    "axs[0,1].set_xlabel(\"Time (MJD)\")\n",
    "axs[0,1].set_ylabel(\"Normalized Flux\")\n",
    "axs[0,1].legend()\n",
    "\n",
    "\n",
    "#JWST pipeline: annulus mean\n",
    "normalized_annulus_mean_pipeline = dat['annulus_mean'].value/dat['annulus_mean'][0].value #normalized annulus mean\n",
    "std_annulus_mean_pipeline = np.std(normalized_annulus_mean_pipeline[0:20]) #calculated standard deviation\n",
    "relative_error_annulus_mean_pipeline = (dat['annulus_mean_err'].value/dat['annulus_mean'].value)*10**6 #ppm\n",
    "\n",
    "print(style.BOLD+\"Pipeline Calculated Annulus Mean std:\"+style.END + \" \" +str(std_annulus_mean_pipeline*10**6))\n",
    "print(style.BOLD+\"Relative Errors Annulus Mean:\"+style.END + \" \" +str(relative_error_annulus_mean_pipeline))\n",
    "\n",
    "axs[1,0].errorbar(dat['MJD'],normalized_annulus_mean_pipeline,yerr=std_annulus_mean_pipeline,color ='darkgreen',fmt='.',markersize=4,elinewidth=1,ecolor='silver',label='Pipeline')\n",
    "axs[1,0].set_title(\"Annulus Mean\")\n",
    "axs[1,0].set_xlabel(\"Time (MJD)\")\n",
    "axs[1,0].set_ylabel(\"Normalized Flux\")\n",
    "axs[1,0].legend()\n",
    "\n",
    "#JWST pipeline: annulus sum\n",
    "normalized_annulus_sum_pipeline = dat['annulus_sum'].value/dat['annulus_sum'][0].value #normalized annulus sum\n",
    "std_annulus_sum_pipeline = np.std(normalized_annulus_sum_pipeline[0:20]) #calculated standard deviation\n",
    "relative_error_annulus_sum_pipeline = (dat['annulus_sum_err'].value/dat['annulus_sum'].value)*10**6 #ppm\n",
    "\n",
    "print(style.BOLD+\"Pipeline Calculated Annulus Sum std:\"+style.END + \" \" +str(std_annulus_sum_pipeline*10**6))\n",
    "print(style.BOLD+\"Relative Errors Annulus Sum:\"+style.END + \" \" +str(relative_error_annulus_sum_pipeline))\n",
    "\n",
    "axs[1,1].errorbar(dat['MJD'],normalized_annulus_sum_pipeline,yerr=std_annulus_sum_pipeline,color = 'indigo',fmt='.',markersize=4,elinewidth=1,ecolor='silver',label='Pipeline')\n",
    "axs[1,1].set_title(\"Annulus Sum\")\n",
    "axs[1,1].set_xlabel(\"Time (MJD)\")\n",
    "axs[1,1].set_ylabel(\"Normalized Flux\")\n",
    "axs[1,1].legend()"
   ]
  },
  {
   "cell_type": "code",
   "execution_count": null,
   "id": "eccf3d40",
   "metadata": {},
   "outputs": [],
   "source": []
  }
 ],
 "metadata": {
  "kernelspec": {
   "display_name": "Python 3 (ipykernel)",
   "language": "python",
   "name": "python3"
  },
  "language_info": {
   "codemirror_mode": {
    "name": "ipython",
    "version": 3
   },
   "file_extension": ".py",
   "mimetype": "text/x-python",
   "name": "python",
   "nbconvert_exporter": "python",
   "pygments_lexer": "ipython3",
   "version": "3.9.1"
  }
 },
 "nbformat": 4,
 "nbformat_minor": 5
}
