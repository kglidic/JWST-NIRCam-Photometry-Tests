{
 "cells": [
  {
   "cell_type": "markdown",
   "id": "acknowledged-signal",
   "metadata": {},
   "source": [
    "# Import Library \n",
    "Each pipeline consists of a certain sequence of calibration steps and is defined as a python class within a python code module. From within python, the pipelines are called by their class names, but configuration files can still be supplied in order to set pipeline or step parameter values"
   ]
  },
  {
   "cell_type": "code",
   "execution_count": 1,
   "id": "aquatic-letter",
   "metadata": {},
   "outputs": [
    {
     "name": "stdout",
     "output_type": "stream",
     "text": [
      "1.3.1\n"
     ]
    }
   ],
   "source": [
    "import os\n",
    "os.environ['CRDS_PATH'] = '/fenrirdata1/kg_data/crds_cache/' #These are already defined in my ~./bash profile now\n",
    "os.environ['CRDS_SERVER_URL']= 'https://jwst-crds.stsci.edu'\n",
    "#os.environ['CRDS_CONTEXT']='jwst_0756.pmap'\n",
    "\n",
    "import jwst\n",
    "print(jwst.__version__)\n",
    "\n",
    "from jwst.pipeline.calwebb_detector1 import Detector1Pipeline\n",
    "from jwst.pipeline.calwebb_image2 import Image2Pipeline\n",
    "from jwst.pipeline.calwebb_tso3 import Tso3Pipeline\n",
    "from jwst.associations.asn_from_list import asn_from_list\n",
    "from jwst.associations.lib.rules_level2_base import DMSLevel2bBase\n",
    "\n",
    "from astropy.io import fits, ascii\n",
    "import matplotlib.pyplot as plt\n",
    "import csv\n",
    "import numpy as np\n",
    "import ref_pixels\n",
    "from splintegrate import splintegrate\n",
    "import asdf\n",
    "import astropy.units as u"
   ]
  },
  {
   "cell_type": "markdown",
   "id": "defensive-tackle",
   "metadata": {},
   "source": [
    "# Stage 1\n",
    "### Detector-level corrections and ramp fitting for individual exposures.\n",
    "Stage 1 consists of detector-level corrections that are performed on a group-by-group basis, followed by ramp fitting. The output of stage 1 processing is a countrate image per exposure, or per integration for some modes.\n",
    "\n",
    "#### Detector1Pipeline: \n",
    "Apply all calibration steps to raw JWST ramps to produce a 2-D slope product. This stage takes care of basic data reduction steps, such as reference pixel correction, superbias subtraction, removal of non-linearity, and flagging of cosmic rays. In the final step in this stage of the pipeline, line-fitting is performed on each integration. A slope image is created for each integration. The steps in this stage are identical for all data."
   ]
  },
  {
   "cell_type": "code",
   "execution_count": 2,
   "id": "technological-heather",
   "metadata": {},
   "outputs": [
    {
     "data": {
      "text/plain": [
       "SIMPLE  =                    T / conforms to FITS standard                      \n",
       "BITPIX  =                    8 / array data type                                \n",
       "NAXIS   =                    0 / number of array dimensions                     \n",
       "EXTEND  =                    T                                                  \n",
       "DATE    = '2021-02-18T16:54:38.062' / UTC date file created                     \n",
       "ORIGIN  = 'STScI   '           / Organization responsible for creating file     \n",
       "FILENAME= 'jw88888001001_01101_00001_nrca1_uncal.fits' / Name of the file       \n",
       "FILETYPE= 'raw     '           / Type of data in the file                       \n",
       "DATAMODL= 'RampModel'          / Type of data model                             \n",
       "TELESCOP= 'JWST    '           / Telescope used to acquire the data             \n",
       "                                                                                \n",
       "        Program information                                                     \n",
       "                                                                                \n",
       "TITLE   = 'Mirage Time Series Tests' / Proposal title                           \n",
       "PI_NAME = 'D.N. Adams'         / Principal investigator name                    \n",
       "CATEGORY= 'GO      '           / Program category                               \n",
       "SUBCAT  = 'UNKNOWN '           / Program sub-category                           \n",
       "SCICAT  = 'Planets and Planet Formation' / Science category assigned during TAC \n",
       "CONT_ID =                    0 / Continuation of previous program               \n",
       "                                                                                \n",
       "        Observation identifiers                                                 \n",
       "                                                                                \n",
       "DATE-OBS= '2021-10-25'         / [yyyy-mm-dd] UTC date at start of exposure     \n",
       "TIME-OBS= '00:10:55.610'       / [hh:mm:ss.sss] UTC time at start of exposure   \n",
       "OBS_ID  = 'V88888001001P0000000001101' / Programmatic observation identifier    \n",
       "VISIT_ID= '88888001001'        / Visit identifier                               \n",
       "PROGRAM = '88888   '           / Program number                                 \n",
       "OBSERVTN= '001     '           / Observation number                             \n",
       "VISIT   = '001     '           / Visit number                                   \n",
       "VISITGRP= '01      '           / Visit group identifier                         \n",
       "SEQ_ID  = '1       '           / Parallel sequence identifier                   \n",
       "ACT_ID  = '01      '           / Activity identifier                            \n",
       "EXPOSURE= '00001   '           / Exposure request number                        \n",
       "OBSLABEL= 'GrismTSO-F444W'     / Proposer label for the observation             \n",
       "                                                                                \n",
       "        Visit information                                                       \n",
       "                                                                                \n",
       "TSOVISIT=                    T / Time Series Observation visit indicator        \n",
       "                                                                                \n",
       "        Target information                                                      \n",
       "                                                                                \n",
       "TARGPROP= 'WASP-79 '           / Proposer's name for the target                 \n",
       "TARGNAME= 'UNKNOWN '           / Standard astronomical catalog name for target  \n",
       "TARG_RA =    66.37090000000001 / Target RA at mid time of exposure              \n",
       "TARG_DEC=            -30.60045 / Target Dec at mid time of exposure             \n",
       "                                                                                \n",
       "        Instrument configuration information                                    \n",
       "                                                                                \n",
       "INSTRUME= 'NIRCAM  '           / Instrument used to acquire the data            \n",
       "DETECTOR= 'NRCA1   '           / Name of detector used to acquire the data      \n",
       "MODULE  = 'A       '           / NIRCam module: A or B                          \n",
       "CHANNEL = 'SHORT   '           / Instrument channel                             \n",
       "FILTER  = 'F182M   '           / Name of the filter element used                \n",
       "PUPIL   = 'WLP8    '           / Name of the pupil element used                 \n",
       "                                                                                \n",
       "        Exposure parameters                                                     \n",
       "                                                                                \n",
       "EXP_TYPE= 'NRC_TSIMAGE'        / Type of data in the exposure                   \n",
       "EXPSTART=     59512.0075880787 / UTC exposure start time                        \n",
       "EXPMID  =    59512.01031574942 / UTC exposure mid time                          \n",
       "EXPEND  =    59512.01304342014 / UTC exposure end time                          \n",
       "READPATT= 'RAPID   '           / Readout pattern                                \n",
       "NINTS   =                   70 / Number of integrations in exposure             \n",
       "INTSTART=                    1 / Starting integration number in this segment    \n",
       "INTEND  =                   70 / Ending integration number in this segment      \n",
       "NGROUPS =                    5 / Number of groups in integration                \n",
       "NFRAMES =                    1 / Number of frames per group                     \n",
       "GROUPGAP=                    0 / Number of frames dropped between groups        \n",
       "TSAMPLE =                   10 / [us] Time between samples                      \n",
       "TFRAME  =              1.34669 / [s] Time between frames                        \n",
       "TGROUP  =              1.34669 / [s] Time between groups                        \n",
       "EFFINTTM=    6.733450000000001 / [s] Effective integration time                 \n",
       "EFFEXPTM=    471.3415000000001 / [s] Effective exposure time                    \n",
       "DURATION=    565.6098000000001 / [s] Total duration of exposure                 \n",
       "NRSTSTRT=                    1 / Number of resets at start of exposure          \n",
       "NRESETS =                    1 / Number of resets between integrations          \n",
       "                                                                                \n",
       "        Subarray parameters                                                     \n",
       "                                                                                \n",
       "SUBARRAY= 'SUBGRISM256'        / Subarray used                                  \n",
       "SUBSTRT1=                    1 / Starting pixel in axis 1 direction             \n",
       "SUBSTRT2=                    1 / Starting pixel in axis 2 direction             \n",
       "SUBSIZE1=                 2048 / Number of pixels in axis 1 direction           \n",
       "SUBSIZE2=                  256 / Number of pixels in axis 2 direction           \n",
       "FASTAXIS=                   -1 / Fast readout axis direction                    \n",
       "SLOWAXIS=                    2 / Slow readout axis direction                    \n",
       "                                                                                \n",
       "        Dither information                                                      \n",
       "                                                                                \n",
       "PATTTYPE= 'NONE    '           / Primary dither pattern type                    \n",
       "PATT_NUM=                    1 / Position number in primary pattern             \n",
       "NUMDTHPT=                    1 / Total number of points in pattern              \n",
       "NDITHPTS= '1       '           / Total number of points in primary dither patter\n",
       "PATTSIZE= 'DEFAULT '           / Primary dither pattern size                    \n",
       "SUBPXNUM=                    1 / Subpixel pattern number                        \n",
       "SUBPXPNS=                    1 / Total number of points in subpixel pattern     \n",
       "XOFFSET =                  0.0 / x offset from pattern starting position        \n",
       "YOFFSET =                1.444 / y offset from pattern starting position        \n",
       "                                                                                \n",
       "        Aperture information                                                    \n",
       "                                                                                \n",
       "APERNAME= 'NRCA1_GRISMTS256'   / PRD science aperture used                      \n",
       "MRGEVRSN= '1.3.4.dev396+ga0652fe' / Mirage version used                         \n",
       "YAMLFILE= '/fenrirdata1/es_tso/sim_data/mirage_tso_notebook/yaml_files/jw88888&'\n",
       "CONTINUE  '001001_01101_00001_nrca1.yaml&'                                      \n",
       "CONTINUE  '' / Mirage input yaml file                                           \n",
       "GAIN    =            2.4926066 / Gain value used by Mirage                      \n",
       "DISTORTN= '/fenrirdata1/es_tso/crds_cache/references/jwst/nircam/jwst_nircam_d&'\n",
       "CONTINUE  'istortion_0093.asdf&'                                                \n",
       "CONTINUE  '' / Distortion reffile used by Mirage                                \n",
       "IPC     = '/fenrirdata1/es_tso/crds_cache/references/jwst/nircam/jwst_nircam_i&'\n",
       "CONTINUE  'pc_0026.fits&'                                                       \n",
       "CONTINUE  '' / IPC kernel used by Mirage                                        \n",
       "PIXARMAP= '/fenrirdata1/es_tso/crds_cache/references/jwst/nircam/jwst_nircam_a&'\n",
       "CONTINUE  'rea_0017.fits&'                                                      \n",
       "CONTINUE  '' / Pixel area map used by Mirage                                    \n",
       "CROSSTLK= '/home/schlawin/miniconda3/envs/mirage/lib/python3.6/site-packages/m&'\n",
       "CONTINUE  'irage/config/xtalk20150303g0.errorcut.txt&'                          \n",
       "CONTINUE  '' / Crosstalk file used by Mirage                                    \n",
       "FLUX_CAL= '/home/schlawin/miniconda3/envs/mirage/lib/python3.6/site-packages/m&'\n",
       "CONTINUE  'irage/config/NIRCam_zeropoints.list&'                                \n",
       "CONTINUE  '' / Flux calibration file used by Mirage                             \n",
       "FTHRUPUT= '/home/schlawin/miniconda3/envs/mirage/lib/python3.6/site-packages/m&'\n",
       "CONTINUE  'irage/config/placeholder.txt&'                                       \n",
       "CONTINUE  '' / Filter throughput file used by Mirage                            \n",
       "PTSRCCAT= '/fenrirdata1/es_tso/sim_data/mirage_tso_notebook/ptsrcs.cat' / Point \n",
       "GALAXCAT= 'None    '           / Galaxy source catalog used by Mirage           \n",
       "EXTNDCAT= 'None    '           / Extended source catalog used by Mirage         \n",
       "MTPTSCAT= 'None    '           / Moving point source catalog used by Mirage     \n",
       "MTSERSIC= 'None    '           / Moving Sersic catalog used by Mirage           \n",
       "MTEXTEND= 'None    '           / Moving extended target catalog used by Mirage  \n",
       "NONSDRAL= 'None    '           / Non-Sidereal catalog used by Mirage            \n",
       "BKGDRATE= 'medium  '           / Background rate used by Mirage                 \n",
       "TRACKING= 'sidereal'           / Telescope tracking type for Mirage             \n",
       "POISSON =           2214161415 / Random num generator seed for Poisson noise in \n",
       "PSFWFE  = 'predicted'          / WebbPSF Wavefront error used by Mirage         \n",
       "PSFWFGRP=                    0 / WebbPSF wavefront error group used by Mirage   \n",
       "CRLIB   = 'SUNMAX  '           / Cosmic ray library used by Mirage              \n",
       "CRSCALE =                  1.0 / Cosmic ray rate scaling factor used by Mirage  \n",
       "CRSEED  =            475219507 / Random number generator seed for cosmic rays in\n",
       "NOUTPUTS=                    4 / number of output amplifiers                    "
      ]
     },
     "execution_count": 2,
     "metadata": {},
     "output_type": "execute_result"
    }
   ],
   "source": [
    "#adding a header input for the number of output amplifiers. \n",
    "HDUList = fits.open('/fenrirdata1/es_tso/sim_data/mirage_tso_notebook/sim_data_try_008_tso_sw_imaging/jw88888001001_01101_00001_nrca1_uncal.fits')\n",
    "HDUList[0].header['NOUTPUTS'] = (4, 'number of output amplifiers')\n",
    "\n",
    "HDUList.writeto('modified_jw88888001001_01101_00001_nrca1_uncal.fits', overwrite=True) #already exists for me. Run this line if you do not have this file. \n",
    "HDUList[0].header"
   ]
  },
  {
   "cell_type": "code",
   "execution_count": null,
   "id": "sorted-marking",
   "metadata": {
    "scrolled": true
   },
   "outputs": [
    {
     "name": "stderr",
     "output_type": "stream",
     "text": [
      "2021-09-13 01:47:00,393 - stpipe.Detector1Pipeline - INFO - Detector1Pipeline instance created.\n"
     ]
    },
    {
     "name": "stdout",
     "output_type": "stream",
     "text": [
      "[stpipe.Detector1Pipeline:INFO] Detector1Pipeline instance created.\n"
     ]
    },
    {
     "name": "stderr",
     "output_type": "stream",
     "text": [
      "2021-09-13 01:47:00,400 - stpipe.Detector1Pipeline.group_scale - INFO - GroupScaleStep instance created.\n"
     ]
    },
    {
     "name": "stdout",
     "output_type": "stream",
     "text": [
      "[stpipe.Detector1Pipeline.group_scale:INFO] GroupScaleStep instance created.\n"
     ]
    },
    {
     "name": "stderr",
     "output_type": "stream",
     "text": [
      "2021-09-13 01:47:00,407 - stpipe.Detector1Pipeline.dq_init - INFO - DQInitStep instance created.\n"
     ]
    },
    {
     "name": "stdout",
     "output_type": "stream",
     "text": [
      "[stpipe.Detector1Pipeline.dq_init:INFO] DQInitStep instance created.\n"
     ]
    },
    {
     "name": "stderr",
     "output_type": "stream",
     "text": [
      "2021-09-13 01:47:00,415 - stpipe.Detector1Pipeline.saturation - INFO - SaturationStep instance created.\n"
     ]
    },
    {
     "name": "stdout",
     "output_type": "stream",
     "text": [
      "[stpipe.Detector1Pipeline.saturation:INFO] SaturationStep instance created.\n"
     ]
    },
    {
     "name": "stderr",
     "output_type": "stream",
     "text": [
      "2021-09-13 01:47:00,422 - stpipe.Detector1Pipeline.ipc - INFO - IPCStep instance created.\n"
     ]
    },
    {
     "name": "stdout",
     "output_type": "stream",
     "text": [
      "[stpipe.Detector1Pipeline.ipc:INFO] IPCStep instance created.\n"
     ]
    },
    {
     "name": "stderr",
     "output_type": "stream",
     "text": [
      "2021-09-13 01:47:00,428 - stpipe.Detector1Pipeline.superbias - INFO - SuperBiasStep instance created.\n"
     ]
    },
    {
     "name": "stdout",
     "output_type": "stream",
     "text": [
      "[stpipe.Detector1Pipeline.superbias:INFO] SuperBiasStep instance created.\n"
     ]
    },
    {
     "name": "stderr",
     "output_type": "stream",
     "text": [
      "2021-09-13 01:47:00,434 - stpipe.Detector1Pipeline.refpix - INFO - RefPixStep instance created.\n"
     ]
    },
    {
     "name": "stdout",
     "output_type": "stream",
     "text": [
      "[stpipe.Detector1Pipeline.refpix:INFO] RefPixStep instance created.\n"
     ]
    },
    {
     "name": "stderr",
     "output_type": "stream",
     "text": [
      "2021-09-13 01:47:00,439 - stpipe.Detector1Pipeline.rscd - INFO - RscdStep instance created.\n"
     ]
    },
    {
     "name": "stdout",
     "output_type": "stream",
     "text": [
      "[stpipe.Detector1Pipeline.rscd:INFO] RscdStep instance created.\n"
     ]
    },
    {
     "name": "stderr",
     "output_type": "stream",
     "text": [
      "2021-09-13 01:47:00,444 - stpipe.Detector1Pipeline.firstframe - INFO - FirstFrameStep instance created.\n"
     ]
    },
    {
     "name": "stdout",
     "output_type": "stream",
     "text": [
      "[stpipe.Detector1Pipeline.firstframe:INFO] FirstFrameStep instance created.\n"
     ]
    },
    {
     "name": "stderr",
     "output_type": "stream",
     "text": [
      "2021-09-13 01:47:00,450 - stpipe.Detector1Pipeline.lastframe - INFO - LastFrameStep instance created.\n"
     ]
    },
    {
     "name": "stdout",
     "output_type": "stream",
     "text": [
      "[stpipe.Detector1Pipeline.lastframe:INFO] LastFrameStep instance created.\n"
     ]
    },
    {
     "name": "stderr",
     "output_type": "stream",
     "text": [
      "2021-09-13 01:47:00,455 - stpipe.Detector1Pipeline.linearity - INFO - LinearityStep instance created.\n"
     ]
    },
    {
     "name": "stdout",
     "output_type": "stream",
     "text": [
      "[stpipe.Detector1Pipeline.linearity:INFO] LinearityStep instance created.\n"
     ]
    },
    {
     "name": "stderr",
     "output_type": "stream",
     "text": [
      "2021-09-13 01:47:00,460 - stpipe.Detector1Pipeline.dark_current - INFO - DarkCurrentStep instance created.\n"
     ]
    },
    {
     "name": "stdout",
     "output_type": "stream",
     "text": [
      "[stpipe.Detector1Pipeline.dark_current:INFO] DarkCurrentStep instance created.\n"
     ]
    },
    {
     "name": "stderr",
     "output_type": "stream",
     "text": [
      "2021-09-13 01:47:00,465 - stpipe.Detector1Pipeline.reset - INFO - ResetStep instance created.\n"
     ]
    },
    {
     "name": "stdout",
     "output_type": "stream",
     "text": [
      "[stpipe.Detector1Pipeline.reset:INFO] ResetStep instance created.\n"
     ]
    },
    {
     "name": "stderr",
     "output_type": "stream",
     "text": [
      "2021-09-13 01:47:00,471 - stpipe.Detector1Pipeline.persistence - INFO - PersistenceStep instance created.\n"
     ]
    },
    {
     "name": "stdout",
     "output_type": "stream",
     "text": [
      "[stpipe.Detector1Pipeline.persistence:INFO] PersistenceStep instance created.\n"
     ]
    },
    {
     "name": "stderr",
     "output_type": "stream",
     "text": [
      "2021-09-13 01:47:00,478 - stpipe.Detector1Pipeline.jump - INFO - JumpStep instance created.\n"
     ]
    },
    {
     "name": "stdout",
     "output_type": "stream",
     "text": [
      "[stpipe.Detector1Pipeline.jump:INFO] JumpStep instance created.\n"
     ]
    },
    {
     "name": "stderr",
     "output_type": "stream",
     "text": [
      "2021-09-13 01:47:00,485 - stpipe.Detector1Pipeline.ramp_fit - INFO - RampFitStep instance created.\n"
     ]
    },
    {
     "name": "stdout",
     "output_type": "stream",
     "text": [
      "[stpipe.Detector1Pipeline.ramp_fit:INFO] RampFitStep instance created.\n"
     ]
    },
    {
     "name": "stderr",
     "output_type": "stream",
     "text": [
      "2021-09-13 01:47:00,490 - stpipe.Detector1Pipeline.gain_scale - INFO - GainScaleStep instance created.\n"
     ]
    },
    {
     "name": "stdout",
     "output_type": "stream",
     "text": [
      "[stpipe.Detector1Pipeline.gain_scale:INFO] GainScaleStep instance created.\n"
     ]
    },
    {
     "name": "stderr",
     "output_type": "stream",
     "text": [
      "2021-09-13 01:47:00,698 - stpipe.Detector1Pipeline - INFO - Step Detector1Pipeline running with args ('modified_jw88888001001_01101_00001_nrca1_uncal.fits',).\n"
     ]
    },
    {
     "name": "stdout",
     "output_type": "stream",
     "text": [
      "[stpipe.Detector1Pipeline:INFO] Step Detector1Pipeline running with args ('modified_jw88888001001_01101_00001_nrca1_uncal.fits',).\n"
     ]
    },
    {
     "name": "stderr",
     "output_type": "stream",
     "text": [
      "2021-09-13 01:47:00,723 - stpipe.Detector1Pipeline - INFO - Step Detector1Pipeline parameters are: {'pre_hooks': [], 'post_hooks': [], 'output_file': None, 'output_dir': '/fenrirdata1/kg_data/pipeline_output/first_test', 'output_ext': '.fits', 'output_use_model': False, 'output_use_index': True, 'save_results': True, 'skip': False, 'suffix': None, 'search_output_file': True, 'input_dir': '', 'save_calibrated_ramp': False, 'steps': {'group_scale': {'pre_hooks': [], 'post_hooks': [], 'output_file': None, 'output_dir': None, 'output_ext': '.fits', 'output_use_model': False, 'output_use_index': True, 'save_results': False, 'skip': False, 'suffix': None, 'search_output_file': True, 'input_dir': ''}, 'dq_init': {'pre_hooks': [], 'post_hooks': [], 'output_file': None, 'output_dir': None, 'output_ext': '.fits', 'output_use_model': False, 'output_use_index': True, 'save_results': False, 'skip': False, 'suffix': None, 'search_output_file': True, 'input_dir': ''}, 'saturation': {'pre_hooks': [], 'post_hooks': [], 'output_file': None, 'output_dir': None, 'output_ext': '.fits', 'output_use_model': False, 'output_use_index': True, 'save_results': False, 'skip': False, 'suffix': None, 'search_output_file': True, 'input_dir': ''}, 'ipc': {'pre_hooks': [], 'post_hooks': [], 'output_file': None, 'output_dir': None, 'output_ext': '.fits', 'output_use_model': False, 'output_use_index': True, 'save_results': False, 'skip': True, 'suffix': None, 'search_output_file': True, 'input_dir': ''}, 'superbias': {'pre_hooks': [], 'post_hooks': [], 'output_file': None, 'output_dir': None, 'output_ext': '.fits', 'output_use_model': False, 'output_use_index': True, 'save_results': False, 'skip': False, 'suffix': None, 'search_output_file': True, 'input_dir': ''}, 'refpix': {'pre_hooks': [], 'post_hooks': [], 'output_file': None, 'output_dir': None, 'output_ext': '.fits', 'output_use_model': False, 'output_use_index': True, 'save_results': False, 'skip': False, 'suffix': None, 'search_output_file': True, 'input_dir': '', 'odd_even_columns': True, 'use_side_ref_pixels': True, 'side_smoothing_length': 11, 'side_gain': 1.0, 'odd_even_rows': True}, 'rscd': {'pre_hooks': [], 'post_hooks': [], 'output_file': None, 'output_dir': None, 'output_ext': '.fits', 'output_use_model': False, 'output_use_index': True, 'save_results': False, 'skip': False, 'suffix': None, 'search_output_file': True, 'input_dir': '', 'type': 'baseline'}, 'firstframe': {'pre_hooks': [], 'post_hooks': [], 'output_file': None, 'output_dir': None, 'output_ext': '.fits', 'output_use_model': False, 'output_use_index': True, 'save_results': False, 'skip': False, 'suffix': None, 'search_output_file': True, 'input_dir': ''}, 'lastframe': {'pre_hooks': [], 'post_hooks': [], 'output_file': None, 'output_dir': None, 'output_ext': '.fits', 'output_use_model': False, 'output_use_index': True, 'save_results': False, 'skip': False, 'suffix': None, 'search_output_file': True, 'input_dir': ''}, 'linearity': {'pre_hooks': [], 'post_hooks': [], 'output_file': None, 'output_dir': None, 'output_ext': '.fits', 'output_use_model': False, 'output_use_index': True, 'save_results': False, 'skip': False, 'suffix': None, 'search_output_file': True, 'input_dir': ''}, 'dark_current': {'pre_hooks': [], 'post_hooks': [], 'output_file': None, 'output_dir': None, 'output_ext': '.fits', 'output_use_model': False, 'output_use_index': True, 'save_results': False, 'skip': False, 'suffix': None, 'search_output_file': True, 'input_dir': '', 'dark_output': None}, 'reset': {'pre_hooks': [], 'post_hooks': [], 'output_file': None, 'output_dir': None, 'output_ext': '.fits', 'output_use_model': False, 'output_use_index': True, 'save_results': False, 'skip': False, 'suffix': None, 'search_output_file': True, 'input_dir': ''}, 'persistence': {'pre_hooks': [], 'post_hooks': [], 'output_file': None, 'output_dir': None, 'output_ext': '.fits', 'output_use_model': False, 'output_use_index': True, 'save_results': False, 'skip': True, 'suffix': None, 'search_output_file': True, 'input_dir': '', 'input_trapsfilled': '', 'flag_pers_cutoff': 40.0, 'save_persistence': False, 'save_trapsfilled': True}, 'jump': {'pre_hooks': [], 'post_hooks': [], 'output_file': None, 'output_dir': None, 'output_ext': '.fits', 'output_use_model': False, 'output_use_index': True, 'save_results': False, 'skip': False, 'suffix': None, 'search_output_file': True, 'input_dir': '', 'rejection_threshold': 9, 'three_group_rejection_threshold': 6.0, 'four_group_rejection_threshold': 5.0, 'maximum_cores': 'none', 'flag_4_neighbors': True, 'max_jump_to_flag_neighbors': 1000.0, 'min_jump_to_flag_neighbors': 10.0}, 'ramp_fit': {'pre_hooks': [], 'post_hooks': [], 'output_file': None, 'output_dir': None, 'output_ext': '.fits', 'output_use_model': False, 'output_use_index': True, 'save_results': False, 'skip': False, 'suffix': None, 'search_output_file': True, 'input_dir': '', 'int_name': '', 'save_opt': False, 'opt_name': '', 'maximum_cores': 'none'}, 'gain_scale': {'pre_hooks': [], 'post_hooks': [], 'output_file': None, 'output_dir': None, 'output_ext': '.fits', 'output_use_model': False, 'output_use_index': True, 'save_results': False, 'skip': False, 'suffix': None, 'search_output_file': True, 'input_dir': ''}}}\n"
     ]
    },
    {
     "name": "stdout",
     "output_type": "stream",
     "text": [
      "[stpipe.Detector1Pipeline:INFO] Step Detector1Pipeline parameters are: {'pre_hooks': [], 'post_hooks': [], 'output_file': None, 'output_dir': '/fenrirdata1/kg_data/pipeline_output/first_test', 'output_ext': '.fits', 'output_use_model': False, 'output_use_index': True, 'save_results': True, 'skip': False, 'suffix': None, 'search_output_file': True, 'input_dir': '', 'save_calibrated_ramp': False, 'steps': {'group_scale': {'pre_hooks': [], 'post_hooks': [], 'output_file': None, 'output_dir': None, 'output_ext': '.fits', 'output_use_model': False, 'output_use_index': True, 'save_results': False, 'skip': False, 'suffix': None, 'search_output_file': True, 'input_dir': ''}, 'dq_init': {'pre_hooks': [], 'post_hooks': [], 'output_file': None, 'output_dir': None, 'output_ext': '.fits', 'output_use_model': False, 'output_use_index': True, 'save_results': False, 'skip': False, 'suffix': None, 'search_output_file': True, 'input_dir': ''}, 'saturation': {'pre_hooks': [], 'post_hooks': [], 'output_file': None, 'output_dir': None, 'output_ext': '.fits', 'output_use_model': False, 'output_use_index': True, 'save_results': False, 'skip': False, 'suffix': None, 'search_output_file': True, 'input_dir': ''}, 'ipc': {'pre_hooks': [], 'post_hooks': [], 'output_file': None, 'output_dir': None, 'output_ext': '.fits', 'output_use_model': False, 'output_use_index': True, 'save_results': False, 'skip': True, 'suffix': None, 'search_output_file': True, 'input_dir': ''}, 'superbias': {'pre_hooks': [], 'post_hooks': [], 'output_file': None, 'output_dir': None, 'output_ext': '.fits', 'output_use_model': False, 'output_use_index': True, 'save_results': False, 'skip': False, 'suffix': None, 'search_output_file': True, 'input_dir': ''}, 'refpix': {'pre_hooks': [], 'post_hooks': [], 'output_file': None, 'output_dir': None, 'output_ext': '.fits', 'output_use_model': False, 'output_use_index': True, 'save_results': False, 'skip': False, 'suffix': None, 'search_output_file': True, 'input_dir': '', 'odd_even_columns': True, 'use_side_ref_pixels': True, 'side_smoothing_length': 11, 'side_gain': 1.0, 'odd_even_rows': True}, 'rscd': {'pre_hooks': [], 'post_hooks': [], 'output_file': None, 'output_dir': None, 'output_ext': '.fits', 'output_use_model': False, 'output_use_index': True, 'save_results': False, 'skip': False, 'suffix': None, 'search_output_file': True, 'input_dir': '', 'type': 'baseline'}, 'firstframe': {'pre_hooks': [], 'post_hooks': [], 'output_file': None, 'output_dir': None, 'output_ext': '.fits', 'output_use_model': False, 'output_use_index': True, 'save_results': False, 'skip': False, 'suffix': None, 'search_output_file': True, 'input_dir': ''}, 'lastframe': {'pre_hooks': [], 'post_hooks': [], 'output_file': None, 'output_dir': None, 'output_ext': '.fits', 'output_use_model': False, 'output_use_index': True, 'save_results': False, 'skip': False, 'suffix': None, 'search_output_file': True, 'input_dir': ''}, 'linearity': {'pre_hooks': [], 'post_hooks': [], 'output_file': None, 'output_dir': None, 'output_ext': '.fits', 'output_use_model': False, 'output_use_index': True, 'save_results': False, 'skip': False, 'suffix': None, 'search_output_file': True, 'input_dir': ''}, 'dark_current': {'pre_hooks': [], 'post_hooks': [], 'output_file': None, 'output_dir': None, 'output_ext': '.fits', 'output_use_model': False, 'output_use_index': True, 'save_results': False, 'skip': False, 'suffix': None, 'search_output_file': True, 'input_dir': '', 'dark_output': None}, 'reset': {'pre_hooks': [], 'post_hooks': [], 'output_file': None, 'output_dir': None, 'output_ext': '.fits', 'output_use_model': False, 'output_use_index': True, 'save_results': False, 'skip': False, 'suffix': None, 'search_output_file': True, 'input_dir': ''}, 'persistence': {'pre_hooks': [], 'post_hooks': [], 'output_file': None, 'output_dir': None, 'output_ext': '.fits', 'output_use_model': False, 'output_use_index': True, 'save_results': False, 'skip': True, 'suffix': None, 'search_output_file': True, 'input_dir': '', 'input_trapsfilled': '', 'flag_pers_cutoff': 40.0, 'save_persistence': False, 'save_trapsfilled': True}, 'jump': {'pre_hooks': [], 'post_hooks': [], 'output_file': None, 'output_dir': None, 'output_ext': '.fits', 'output_use_model': False, 'output_use_index': True, 'save_results': False, 'skip': False, 'suffix': None, 'search_output_file': True, 'input_dir': '', 'rejection_threshold': 9, 'three_group_rejection_threshold': 6.0, 'four_group_rejection_threshold': 5.0, 'maximum_cores': 'none', 'flag_4_neighbors': True, 'max_jump_to_flag_neighbors': 1000.0, 'min_jump_to_flag_neighbors': 10.0}, 'ramp_fit': {'pre_hooks': [], 'post_hooks': [], 'output_file': None, 'output_dir': None, 'output_ext': '.fits', 'output_use_model': False, 'output_use_index': True, 'save_results': False, 'skip': False, 'suffix': None, 'search_output_file': True, 'input_dir': '', 'int_name': '', 'save_opt': False, 'opt_name': '', 'maximum_cores': 'none'}, 'gain_scale': {'pre_hooks': [], 'post_hooks': [], 'output_file': None, 'output_dir': None, 'output_ext': '.fits', 'output_use_model': False, 'output_use_index': True, 'save_results': False, 'skip': False, 'suffix': None, 'search_output_file': True, 'input_dir': ''}}}\n",
      "[jwst.datamodels.util:DEBUG] Opening modified_jw88888001001_01101_00001_nrca1_uncal.fits as <class 'jwst.datamodels.ramp.RampModel'>\n",
      "[stdatamodels.util:DEBUG] Environmental \"STRICT_VALIDATION\" cannot be found. Using default value of \"False\".\n",
      "[stdatamodels.util:DEBUG] Environmental \"VALIDATE_ON_ASSIGNMENT\" cannot be found. Using default value of \"True\".\n",
      "[stdatamodels.util:DEBUG] Environmental \"SKIP_FITS_UPDATE\" cannot be found. Using default value of \"None\".\n"
     ]
    },
    {
     "name": "stderr",
     "output_type": "stream",
     "text": [
      "2021-09-13 01:47:04,219 - stpipe.Detector1Pipeline - INFO - Prefetching reference files for dataset: 'modified_jw88888001001_01101_00001_nrca1_uncal.fits' reftypes = ['gain', 'linearity', 'mask', 'readnoise', 'refpix', 'reset', 'rscd', 'saturation', 'superbias']\n"
     ]
    },
    {
     "name": "stdout",
     "output_type": "stream",
     "text": [
      "[stpipe.Detector1Pipeline:INFO] Prefetching reference files for dataset: 'modified_jw88888001001_01101_00001_nrca1_uncal.fits' reftypes = ['gain', 'linearity', 'mask', 'readnoise', 'refpix', 'reset', 'rscd', 'saturation', 'superbias']\n"
     ]
    },
    {
     "name": "stderr",
     "output_type": "stream",
     "text": [
      "2021-09-13 01:47:04,233 - stpipe.Detector1Pipeline - INFO - Override for DARK reference file is '/fenrirdata1/kg_data/crds_cache/references/jwst/nircam/jwst_nircam_dark_0256.fits'.\n"
     ]
    },
    {
     "name": "stdout",
     "output_type": "stream",
     "text": [
      "[stpipe.Detector1Pipeline:INFO] Override for DARK reference file is '/fenrirdata1/kg_data/crds_cache/references/jwst/nircam/jwst_nircam_dark_0256.fits'.\n"
     ]
    },
    {
     "name": "stderr",
     "output_type": "stream",
     "text": [
      "2021-09-13 01:47:04,236 - stpipe.Detector1Pipeline - INFO - Prefetch for GAIN reference file is '/fenrirdata1/kg_data/crds_cache/references/jwst/nircam/jwst_nircam_gain_0050.fits'.\n"
     ]
    },
    {
     "name": "stdout",
     "output_type": "stream",
     "text": [
      "[stpipe.Detector1Pipeline:INFO] Prefetch for GAIN reference file is '/fenrirdata1/kg_data/crds_cache/references/jwst/nircam/jwst_nircam_gain_0050.fits'.\n"
     ]
    },
    {
     "name": "stderr",
     "output_type": "stream",
     "text": [
      "2021-09-13 01:47:04,239 - stpipe.Detector1Pipeline - INFO - Prefetch for LINEARITY reference file is '/fenrirdata1/kg_data/crds_cache/references/jwst/nircam/jwst_nircam_linearity_0056.fits'.\n"
     ]
    },
    {
     "name": "stdout",
     "output_type": "stream",
     "text": [
      "[stpipe.Detector1Pipeline:INFO] Prefetch for LINEARITY reference file is '/fenrirdata1/kg_data/crds_cache/references/jwst/nircam/jwst_nircam_linearity_0056.fits'.\n"
     ]
    },
    {
     "name": "stderr",
     "output_type": "stream",
     "text": [
      "2021-09-13 01:47:04,242 - stpipe.Detector1Pipeline - INFO - Prefetch for MASK reference file is '/fenrirdata1/kg_data/crds_cache/references/jwst/nircam/jwst_nircam_mask_0044.fits'.\n"
     ]
    },
    {
     "name": "stdout",
     "output_type": "stream",
     "text": [
      "[stpipe.Detector1Pipeline:INFO] Prefetch for MASK reference file is '/fenrirdata1/kg_data/crds_cache/references/jwst/nircam/jwst_nircam_mask_0044.fits'.\n"
     ]
    },
    {
     "name": "stderr",
     "output_type": "stream",
     "text": [
      "2021-09-13 01:47:04,245 - stpipe.Detector1Pipeline - INFO - Prefetch for READNOISE reference file is '/fenrirdata1/kg_data/crds_cache/references/jwst/nircam/jwst_nircam_readnoise_0025.fits'.\n"
     ]
    },
    {
     "name": "stdout",
     "output_type": "stream",
     "text": [
      "[stpipe.Detector1Pipeline:INFO] Prefetch for READNOISE reference file is '/fenrirdata1/kg_data/crds_cache/references/jwst/nircam/jwst_nircam_readnoise_0025.fits'.\n"
     ]
    },
    {
     "name": "stderr",
     "output_type": "stream",
     "text": [
      "2021-09-13 01:47:04,247 - stpipe.Detector1Pipeline - INFO - Prefetch for REFPIX reference file is 'N/A'.\n"
     ]
    },
    {
     "name": "stdout",
     "output_type": "stream",
     "text": [
      "[stpipe.Detector1Pipeline:INFO] Prefetch for REFPIX reference file is 'N/A'.\n"
     ]
    },
    {
     "name": "stderr",
     "output_type": "stream",
     "text": [
      "2021-09-13 01:47:04,249 - stpipe.Detector1Pipeline - INFO - Prefetch for RESET reference file is 'N/A'.\n"
     ]
    },
    {
     "name": "stdout",
     "output_type": "stream",
     "text": [
      "[stpipe.Detector1Pipeline:INFO] Prefetch for RESET reference file is 'N/A'.\n"
     ]
    },
    {
     "name": "stderr",
     "output_type": "stream",
     "text": [
      "2021-09-13 01:47:04,251 - stpipe.Detector1Pipeline - INFO - Prefetch for RSCD reference file is 'N/A'.\n"
     ]
    },
    {
     "name": "stdout",
     "output_type": "stream",
     "text": [
      "[stpipe.Detector1Pipeline:INFO] Prefetch for RSCD reference file is 'N/A'.\n"
     ]
    },
    {
     "name": "stderr",
     "output_type": "stream",
     "text": [
      "2021-09-13 01:47:04,253 - stpipe.Detector1Pipeline - INFO - Prefetch for SATURATION reference file is '/fenrirdata1/kg_data/crds_cache/references/jwst/nircam/jwst_nircam_saturation_0064.fits'.\n"
     ]
    },
    {
     "name": "stdout",
     "output_type": "stream",
     "text": [
      "[stpipe.Detector1Pipeline:INFO] Prefetch for SATURATION reference file is '/fenrirdata1/kg_data/crds_cache/references/jwst/nircam/jwst_nircam_saturation_0064.fits'.\n"
     ]
    },
    {
     "name": "stderr",
     "output_type": "stream",
     "text": [
      "2021-09-13 01:47:04,259 - stpipe.Detector1Pipeline - INFO - Prefetch for SUPERBIAS reference file is '/fenrirdata1/kg_data/crds_cache/references/jwst/nircam/jwst_nircam_superbias_0026.fits'.\n"
     ]
    },
    {
     "name": "stdout",
     "output_type": "stream",
     "text": [
      "[stpipe.Detector1Pipeline:INFO] Prefetch for SUPERBIAS reference file is '/fenrirdata1/kg_data/crds_cache/references/jwst/nircam/jwst_nircam_superbias_0026.fits'.\n",
      "[      root:INFO] Starting calwebb_detector1 ...\n",
      "[stdatamodels.util:DEBUG] Environmental \"STRICT_VALIDATION\" cannot be found. Using default value of \"False\".\n",
      "[stdatamodels.util:DEBUG] Environmental \"VALIDATE_ON_ASSIGNMENT\" cannot be found. Using default value of \"True\".\n",
      "[stdatamodels.util:DEBUG] Environmental \"SKIP_FITS_UPDATE\" cannot be found. Using default value of \"None\".\n",
      "[      root:DEBUG] Processing a Near-IR exposure\n"
     ]
    },
    {
     "name": "stderr",
     "output_type": "stream",
     "text": [
      "2021-09-13 01:47:06,407 - stpipe.Detector1Pipeline.group_scale - INFO - Step group_scale running with args (<RampModel(70, 5, 256, 2048) from modified_jw88888001001_01101_00001_nrca1_uncal.fits>,).\n"
     ]
    },
    {
     "name": "stdout",
     "output_type": "stream",
     "text": [
      "[stpipe.Detector1Pipeline.group_scale:INFO] Step group_scale running with args (<RampModel(70, 5, 256, 2048) from modified_jw88888001001_01101_00001_nrca1_uncal.fits>,).\n"
     ]
    },
    {
     "name": "stderr",
     "output_type": "stream",
     "text": [
      "2021-09-13 01:47:06,411 - stpipe.Detector1Pipeline.group_scale - INFO - Step group_scale parameters are: {'pre_hooks': [], 'post_hooks': [], 'output_file': None, 'output_dir': None, 'output_ext': '.fits', 'output_use_model': False, 'output_use_index': True, 'save_results': False, 'skip': False, 'suffix': None, 'search_output_file': True, 'input_dir': ''}\n"
     ]
    },
    {
     "name": "stdout",
     "output_type": "stream",
     "text": [
      "[stpipe.Detector1Pipeline.group_scale:INFO] Step group_scale parameters are: {'pre_hooks': [], 'post_hooks': [], 'output_file': None, 'output_dir': None, 'output_ext': '.fits', 'output_use_model': False, 'output_use_index': True, 'save_results': False, 'skip': False, 'suffix': None, 'search_output_file': True, 'input_dir': ''}\n",
      "[stdatamodels.util:DEBUG] Environmental \"STRICT_VALIDATION\" cannot be found. Using default value of \"False\".\n",
      "[stdatamodels.util:DEBUG] Environmental \"VALIDATE_ON_ASSIGNMENT\" cannot be found. Using default value of \"True\".\n",
      "[stdatamodels.util:DEBUG] Environmental \"VALIDATE_ON_ASSIGNMENT\" cannot be found. Using default value of \"True\".\n"
     ]
    },
    {
     "name": "stderr",
     "output_type": "stream",
     "text": [
      "2021-09-13 01:47:07,566 - stpipe.Detector1Pipeline.group_scale - INFO - NFRAMES=1 is a power of 2; correction not needed\n"
     ]
    },
    {
     "name": "stdout",
     "output_type": "stream",
     "text": [
      "[stpipe.Detector1Pipeline.group_scale:INFO] NFRAMES=1 is a power of 2; correction not needed\n"
     ]
    },
    {
     "name": "stderr",
     "output_type": "stream",
     "text": [
      "2021-09-13 01:47:07,569 - stpipe.Detector1Pipeline.group_scale - INFO - Step will be skipped\n"
     ]
    },
    {
     "name": "stdout",
     "output_type": "stream",
     "text": [
      "[stpipe.Detector1Pipeline.group_scale:INFO] Step will be skipped\n"
     ]
    },
    {
     "name": "stderr",
     "output_type": "stream",
     "text": [
      "2021-09-13 01:47:07,573 - stpipe.Detector1Pipeline.group_scale - INFO - Step group_scale done\n"
     ]
    },
    {
     "name": "stdout",
     "output_type": "stream",
     "text": [
      "[stpipe.Detector1Pipeline.group_scale:INFO] Step group_scale done\n"
     ]
    },
    {
     "name": "stderr",
     "output_type": "stream",
     "text": [
      "2021-09-13 01:47:07,787 - stpipe.Detector1Pipeline.dq_init - INFO - Step dq_init running with args (<RampModel(70, 5, 256, 2048) from modified_jw88888001001_01101_00001_nrca1_uncal.fits>,).\n"
     ]
    },
    {
     "name": "stdout",
     "output_type": "stream",
     "text": [
      "[stpipe.Detector1Pipeline.dq_init:INFO] Step dq_init running with args (<RampModel(70, 5, 256, 2048) from modified_jw88888001001_01101_00001_nrca1_uncal.fits>,).\n"
     ]
    },
    {
     "name": "stderr",
     "output_type": "stream",
     "text": [
      "2021-09-13 01:47:07,791 - stpipe.Detector1Pipeline.dq_init - INFO - Step dq_init parameters are: {'pre_hooks': [], 'post_hooks': [], 'output_file': None, 'output_dir': None, 'output_ext': '.fits', 'output_use_model': False, 'output_use_index': True, 'save_results': False, 'skip': False, 'suffix': None, 'search_output_file': True, 'input_dir': ''}\n"
     ]
    },
    {
     "name": "stdout",
     "output_type": "stream",
     "text": [
      "[stpipe.Detector1Pipeline.dq_init:INFO] Step dq_init parameters are: {'pre_hooks': [], 'post_hooks': [], 'output_file': None, 'output_dir': None, 'output_ext': '.fits', 'output_use_model': False, 'output_use_index': True, 'save_results': False, 'skip': False, 'suffix': None, 'search_output_file': True, 'input_dir': ''}\n",
      "[stdatamodels.util:DEBUG] Environmental \"STRICT_VALIDATION\" cannot be found. Using default value of \"False\".\n",
      "[stdatamodels.util:DEBUG] Environmental \"VALIDATE_ON_ASSIGNMENT\" cannot be found. Using default value of \"True\".\n",
      "[stdatamodels.util:DEBUG] Environmental \"STRICT_VALIDATION\" cannot be found. Using default value of \"False\".\n",
      "[stdatamodels.util:DEBUG] Environmental \"VALIDATE_ON_ASSIGNMENT\" cannot be found. Using default value of \"True\".\n"
     ]
    },
    {
     "name": "stderr",
     "output_type": "stream",
     "text": [
      "2021-09-13 01:47:07,844 - stpipe.Detector1Pipeline.dq_init - INFO - Using MASK reference file /fenrirdata1/kg_data/crds_cache/references/jwst/nircam/jwst_nircam_mask_0044.fits\n"
     ]
    },
    {
     "name": "stdout",
     "output_type": "stream",
     "text": [
      "[stpipe.Detector1Pipeline.dq_init:INFO] Using MASK reference file /fenrirdata1/kg_data/crds_cache/references/jwst/nircam/jwst_nircam_mask_0044.fits\n",
      "[stdatamodels.util:DEBUG] Environmental \"STRICT_VALIDATION\" cannot be found. Using default value of \"False\".\n",
      "[stdatamodels.util:DEBUG] Environmental \"VALIDATE_ON_ASSIGNMENT\" cannot be found. Using default value of \"True\".\n",
      "[stdatamodels.util:DEBUG] Environmental \"SKIP_FITS_UPDATE\" cannot be found. Using default value of \"None\".\n",
      "[stdatamodels.fits_support:DEBUG] No ASDF information found. Cannot skip updating from FITS headers.\n",
      "[stdatamodels.util:DEBUG] Environmental \"VALIDATE_ON_ASSIGNMENT\" cannot be found. Using default value of \"True\".\n",
      "[jwst.lib.reffile_utils:DEBUG] ref substrt1=1, subsize1=2048, substrt2=1, subsize2=2048\n",
      "[jwst.lib.reffile_utils:DEBUG] sci substrt1=1, subsize1=2048, substrt2=1, subsize2=256\n",
      "[jwst.dq_init.dq_initialization:INFO] Extracting mask subarray to match science data\n",
      "[jwst.lib.reffile_utils:DEBUG] slice xstart=0, xstop=2048, ystart=0, ystop=256\n",
      "[stdatamodels.util:DEBUG] Environmental \"STRICT_VALIDATION\" cannot be found. Using default value of \"False\".\n",
      "[stdatamodels.util:DEBUG] Environmental \"VALIDATE_ON_ASSIGNMENT\" cannot be found. Using default value of \"True\".\n"
     ]
    },
    {
     "name": "stderr",
     "output_type": "stream",
     "text": [
      "2021-09-13 01:47:10,508 - stpipe.Detector1Pipeline.dq_init - INFO - Step dq_init done\n"
     ]
    },
    {
     "name": "stdout",
     "output_type": "stream",
     "text": [
      "[stpipe.Detector1Pipeline.dq_init:INFO] Step dq_init done\n"
     ]
    },
    {
     "name": "stderr",
     "output_type": "stream",
     "text": [
      "2021-09-13 01:47:10,774 - stpipe.Detector1Pipeline.saturation - INFO - Step saturation running with args (<RampModel(70, 5, 256, 2048) from modified_jw88888001001_01101_00001_nrca1_uncal.fits>,).\n"
     ]
    },
    {
     "name": "stdout",
     "output_type": "stream",
     "text": [
      "[stpipe.Detector1Pipeline.saturation:INFO] Step saturation running with args (<RampModel(70, 5, 256, 2048) from modified_jw88888001001_01101_00001_nrca1_uncal.fits>,).\n"
     ]
    },
    {
     "name": "stderr",
     "output_type": "stream",
     "text": [
      "2021-09-13 01:47:10,778 - stpipe.Detector1Pipeline.saturation - INFO - Step saturation parameters are: {'pre_hooks': [], 'post_hooks': [], 'output_file': None, 'output_dir': None, 'output_ext': '.fits', 'output_use_model': False, 'output_use_index': True, 'save_results': False, 'skip': False, 'suffix': None, 'search_output_file': True, 'input_dir': ''}\n"
     ]
    },
    {
     "name": "stdout",
     "output_type": "stream",
     "text": [
      "[stpipe.Detector1Pipeline.saturation:INFO] Step saturation parameters are: {'pre_hooks': [], 'post_hooks': [], 'output_file': None, 'output_dir': None, 'output_ext': '.fits', 'output_use_model': False, 'output_use_index': True, 'save_results': False, 'skip': False, 'suffix': None, 'search_output_file': True, 'input_dir': ''}\n",
      "[stdatamodels.util:DEBUG] Environmental \"STRICT_VALIDATION\" cannot be found. Using default value of \"False\".\n",
      "[stdatamodels.util:DEBUG] Environmental \"VALIDATE_ON_ASSIGNMENT\" cannot be found. Using default value of \"True\".\n",
      "[stdatamodels.util:DEBUG] Environmental \"STRICT_VALIDATION\" cannot be found. Using default value of \"False\".\n",
      "[stdatamodels.util:DEBUG] Environmental \"VALIDATE_ON_ASSIGNMENT\" cannot be found. Using default value of \"True\".\n"
     ]
    },
    {
     "name": "stderr",
     "output_type": "stream",
     "text": [
      "2021-09-13 01:47:10,831 - stpipe.Detector1Pipeline.saturation - INFO - Using SATURATION reference file /fenrirdata1/kg_data/crds_cache/references/jwst/nircam/jwst_nircam_saturation_0064.fits\n"
     ]
    },
    {
     "name": "stdout",
     "output_type": "stream",
     "text": [
      "[stpipe.Detector1Pipeline.saturation:INFO] Using SATURATION reference file /fenrirdata1/kg_data/crds_cache/references/jwst/nircam/jwst_nircam_saturation_0064.fits\n",
      "[stdatamodels.util:DEBUG] Environmental \"STRICT_VALIDATION\" cannot be found. Using default value of \"False\".\n",
      "[stdatamodels.util:DEBUG] Environmental \"VALIDATE_ON_ASSIGNMENT\" cannot be found. Using default value of \"True\".\n",
      "[stdatamodels.util:DEBUG] Environmental \"SKIP_FITS_UPDATE\" cannot be found. Using default value of \"None\".\n",
      "[stdatamodels.fits_support:DEBUG] No ASDF information found. Cannot skip updating from FITS headers.\n"
     ]
    },
    {
     "name": "stderr",
     "output_type": "stream",
     "text": [
      "[stcal.dynamicdq:WARNING] Keyword NO_SATURATION does not correspond to an existing DQ mnemonic, so will be ignored\n",
      "[stcal.dynamicdq:WARNING] Keyword FEW_SAMPLES does not correspond to an existing DQ mnemonic, so will be ignored\n",
      "[stcal.dynamicdq:WARNING] Keyword AD_SATURATION does not correspond to an existing DQ mnemonic, so will be ignored\n",
      "[stcal.dynamicdq:WARNING] Keyword WEIRD_PIXEL does not correspond to an existing DQ mnemonic, so will be ignored\n",
      "[stcal.dynamicdq:WARNING] Keyword DEAD_PIXEL does not correspond to an existing DQ mnemonic, so will be ignored\n"
     ]
    },
    {
     "name": "stdout",
     "output_type": "stream",
     "text": [
      "[stdatamodels.util:DEBUG] Environmental \"VALIDATE_ON_ASSIGNMENT\" cannot be found. Using default value of \"True\".\n",
      "[jwst.lib.reffile_utils:DEBUG] ref substrt1=1, subsize1=2048, substrt2=1, subsize2=2048\n",
      "[jwst.lib.reffile_utils:DEBUG] sci substrt1=1, subsize1=2048, substrt2=1, subsize2=256\n",
      "[jwst.saturation.saturation:INFO] Extracting reference file subarray to match science data\n",
      "[jwst.lib.reffile_utils:DEBUG] slice xstart=0, xstop=2048, ystart=0, ystop=256\n",
      "[stdatamodels.util:DEBUG] Environmental \"STRICT_VALIDATION\" cannot be found. Using default value of \"False\".\n",
      "[stdatamodels.util:DEBUG] Environmental \"VALIDATE_ON_ASSIGNMENT\" cannot be found. Using default value of \"True\".\n",
      "[jwst.saturation.saturation:INFO] Detected 10300 saturated pixels\n",
      "[jwst.saturation.saturation:INFO] Detected 3 A/D floor pixels\n"
     ]
    },
    {
     "name": "stderr",
     "output_type": "stream",
     "text": [
      "2021-09-13 01:47:14,366 - stpipe.Detector1Pipeline.saturation - INFO - Step saturation done\n"
     ]
    },
    {
     "name": "stdout",
     "output_type": "stream",
     "text": [
      "[stpipe.Detector1Pipeline.saturation:INFO] Step saturation done\n"
     ]
    },
    {
     "name": "stderr",
     "output_type": "stream",
     "text": [
      "2021-09-13 01:47:14,512 - stpipe.Detector1Pipeline.ipc - INFO - Step ipc running with args (<RampModel(70, 5, 256, 2048) from modified_jw88888001001_01101_00001_nrca1_uncal.fits>,).\n"
     ]
    },
    {
     "name": "stdout",
     "output_type": "stream",
     "text": [
      "[stpipe.Detector1Pipeline.ipc:INFO] Step ipc running with args (<RampModel(70, 5, 256, 2048) from modified_jw88888001001_01101_00001_nrca1_uncal.fits>,).\n"
     ]
    },
    {
     "name": "stderr",
     "output_type": "stream",
     "text": [
      "2021-09-13 01:47:14,516 - stpipe.Detector1Pipeline.ipc - INFO - Step ipc parameters are: {'pre_hooks': [], 'post_hooks': [], 'output_file': None, 'output_dir': None, 'output_ext': '.fits', 'output_use_model': False, 'output_use_index': True, 'save_results': False, 'skip': True, 'suffix': None, 'search_output_file': True, 'input_dir': ''}\n"
     ]
    },
    {
     "name": "stdout",
     "output_type": "stream",
     "text": [
      "[stpipe.Detector1Pipeline.ipc:INFO] Step ipc parameters are: {'pre_hooks': [], 'post_hooks': [], 'output_file': None, 'output_dir': None, 'output_ext': '.fits', 'output_use_model': False, 'output_use_index': True, 'save_results': False, 'skip': True, 'suffix': None, 'search_output_file': True, 'input_dir': ''}\n"
     ]
    },
    {
     "name": "stderr",
     "output_type": "stream",
     "text": [
      "2021-09-13 01:47:14,518 - stpipe.Detector1Pipeline.ipc - INFO - Step skipped.\n"
     ]
    },
    {
     "name": "stdout",
     "output_type": "stream",
     "text": [
      "[stpipe.Detector1Pipeline.ipc:INFO] Step skipped.\n"
     ]
    },
    {
     "name": "stderr",
     "output_type": "stream",
     "text": [
      "2021-09-13 01:47:14,521 - stpipe.Detector1Pipeline.ipc - INFO - Step ipc done\n"
     ]
    },
    {
     "name": "stdout",
     "output_type": "stream",
     "text": [
      "[stpipe.Detector1Pipeline.ipc:INFO] Step ipc done\n"
     ]
    },
    {
     "name": "stderr",
     "output_type": "stream",
     "text": [
      "2021-09-13 01:47:14,654 - stpipe.Detector1Pipeline.superbias - INFO - Step superbias running with args (<RampModel(70, 5, 256, 2048) from modified_jw88888001001_01101_00001_nrca1_uncal.fits>,).\n"
     ]
    },
    {
     "name": "stdout",
     "output_type": "stream",
     "text": [
      "[stpipe.Detector1Pipeline.superbias:INFO] Step superbias running with args (<RampModel(70, 5, 256, 2048) from modified_jw88888001001_01101_00001_nrca1_uncal.fits>,).\n"
     ]
    },
    {
     "name": "stderr",
     "output_type": "stream",
     "text": [
      "2021-09-13 01:47:14,658 - stpipe.Detector1Pipeline.superbias - INFO - Step superbias parameters are: {'pre_hooks': [], 'post_hooks': [], 'output_file': None, 'output_dir': None, 'output_ext': '.fits', 'output_use_model': False, 'output_use_index': True, 'save_results': False, 'skip': False, 'suffix': None, 'search_output_file': True, 'input_dir': ''}\n"
     ]
    },
    {
     "name": "stdout",
     "output_type": "stream",
     "text": [
      "[stpipe.Detector1Pipeline.superbias:INFO] Step superbias parameters are: {'pre_hooks': [], 'post_hooks': [], 'output_file': None, 'output_dir': None, 'output_ext': '.fits', 'output_use_model': False, 'output_use_index': True, 'save_results': False, 'skip': False, 'suffix': None, 'search_output_file': True, 'input_dir': ''}\n",
      "[stdatamodels.util:DEBUG] Environmental \"STRICT_VALIDATION\" cannot be found. Using default value of \"False\".\n",
      "[stdatamodels.util:DEBUG] Environmental \"VALIDATE_ON_ASSIGNMENT\" cannot be found. Using default value of \"True\".\n",
      "[stdatamodels.util:DEBUG] Environmental \"STRICT_VALIDATION\" cannot be found. Using default value of \"False\".\n",
      "[stdatamodels.util:DEBUG] Environmental \"VALIDATE_ON_ASSIGNMENT\" cannot be found. Using default value of \"True\".\n"
     ]
    },
    {
     "name": "stderr",
     "output_type": "stream",
     "text": [
      "2021-09-13 01:47:14,709 - stpipe.Detector1Pipeline.superbias - INFO - Using SUPERBIAS reference file /fenrirdata1/kg_data/crds_cache/references/jwst/nircam/jwst_nircam_superbias_0026.fits\n"
     ]
    },
    {
     "name": "stdout",
     "output_type": "stream",
     "text": [
      "[stpipe.Detector1Pipeline.superbias:INFO] Using SUPERBIAS reference file /fenrirdata1/kg_data/crds_cache/references/jwst/nircam/jwst_nircam_superbias_0026.fits\n",
      "[stdatamodels.util:DEBUG] Environmental \"STRICT_VALIDATION\" cannot be found. Using default value of \"False\".\n",
      "[stdatamodels.util:DEBUG] Environmental \"VALIDATE_ON_ASSIGNMENT\" cannot be found. Using default value of \"True\".\n",
      "[stdatamodels.util:DEBUG] Environmental \"SKIP_FITS_UPDATE\" cannot be found. Using default value of \"None\".\n",
      "[stdatamodels.fits_support:DEBUG] No ASDF information found. Cannot skip updating from FITS headers.\n"
     ]
    },
    {
     "name": "stderr",
     "output_type": "stream",
     "text": [
      "[stcal.dynamicdq:WARNING] Keyword NOISY does not correspond to an existing DQ mnemonic, so will be ignored\n"
     ]
    },
    {
     "name": "stdout",
     "output_type": "stream",
     "text": [
      "[jwst.lib.reffile_utils:DEBUG] ref substrt1=1, subsize1=2048, substrt2=1, subsize2=2048\n",
      "[jwst.lib.reffile_utils:DEBUG] sci substrt1=1, subsize1=2048, substrt2=1, subsize2=256\n",
      "[jwst.lib.reffile_utils:DEBUG] slice xstart=0, xstop=2048, ystart=0, ystop=256\n",
      "[stdatamodels.util:DEBUG] Environmental \"STRICT_VALIDATION\" cannot be found. Using default value of \"False\".\n",
      "[stdatamodels.util:DEBUG] Environmental \"VALIDATE_ON_ASSIGNMENT\" cannot be found. Using default value of \"True\".\n",
      "[stdatamodels.util:DEBUG] Environmental \"VALIDATE_ON_ASSIGNMENT\" cannot be found. Using default value of \"True\".\n"
     ]
    },
    {
     "name": "stderr",
     "output_type": "stream",
     "text": [
      "2021-09-13 01:47:17,016 - stpipe.Detector1Pipeline.superbias - INFO - Step superbias done\n"
     ]
    },
    {
     "name": "stdout",
     "output_type": "stream",
     "text": [
      "[stpipe.Detector1Pipeline.superbias:INFO] Step superbias done\n"
     ]
    },
    {
     "name": "stderr",
     "output_type": "stream",
     "text": [
      "2021-09-13 01:47:17,162 - stpipe.Detector1Pipeline.refpix - INFO - Step refpix running with args (<RampModel(70, 5, 256, 2048) from modified_jw88888001001_01101_00001_nrca1_uncal.fits>,).\n"
     ]
    },
    {
     "name": "stdout",
     "output_type": "stream",
     "text": [
      "[stpipe.Detector1Pipeline.refpix:INFO] Step refpix running with args (<RampModel(70, 5, 256, 2048) from modified_jw88888001001_01101_00001_nrca1_uncal.fits>,).\n"
     ]
    },
    {
     "name": "stderr",
     "output_type": "stream",
     "text": [
      "2021-09-13 01:47:17,166 - stpipe.Detector1Pipeline.refpix - INFO - Step refpix parameters are: {'pre_hooks': [], 'post_hooks': [], 'output_file': None, 'output_dir': None, 'output_ext': '.fits', 'output_use_model': False, 'output_use_index': True, 'save_results': False, 'skip': False, 'suffix': None, 'search_output_file': True, 'input_dir': '', 'odd_even_columns': True, 'use_side_ref_pixels': True, 'side_smoothing_length': 11, 'side_gain': 1.0, 'odd_even_rows': True}\n"
     ]
    },
    {
     "name": "stdout",
     "output_type": "stream",
     "text": [
      "[stpipe.Detector1Pipeline.refpix:INFO] Step refpix parameters are: {'pre_hooks': [], 'post_hooks': [], 'output_file': None, 'output_dir': None, 'output_ext': '.fits', 'output_use_model': False, 'output_use_index': True, 'save_results': False, 'skip': False, 'suffix': None, 'search_output_file': True, 'input_dir': '', 'odd_even_columns': True, 'use_side_ref_pixels': True, 'side_smoothing_length': 11, 'side_gain': 1.0, 'odd_even_rows': True}\n",
      "[stdatamodels.util:DEBUG] Environmental \"STRICT_VALIDATION\" cannot be found. Using default value of \"False\".\n",
      "[stdatamodels.util:DEBUG] Environmental \"VALIDATE_ON_ASSIGNMENT\" cannot be found. Using default value of \"True\".\n"
     ]
    },
    {
     "name": "stderr",
     "output_type": "stream",
     "text": [
      "2021-09-13 01:47:17,191 - stpipe.Detector1Pipeline.refpix - INFO - use_side_ref_pixels = True\n"
     ]
    },
    {
     "name": "stdout",
     "output_type": "stream",
     "text": [
      "[stpipe.Detector1Pipeline.refpix:INFO] use_side_ref_pixels = True\n"
     ]
    },
    {
     "name": "stderr",
     "output_type": "stream",
     "text": [
      "2021-09-13 01:47:17,193 - stpipe.Detector1Pipeline.refpix - INFO - odd_even_columns = True\n"
     ]
    },
    {
     "name": "stdout",
     "output_type": "stream",
     "text": [
      "[stpipe.Detector1Pipeline.refpix:INFO] odd_even_columns = True\n"
     ]
    },
    {
     "name": "stderr",
     "output_type": "stream",
     "text": [
      "2021-09-13 01:47:17,195 - stpipe.Detector1Pipeline.refpix - INFO - side_smoothing_length = 11\n"
     ]
    },
    {
     "name": "stdout",
     "output_type": "stream",
     "text": [
      "[stpipe.Detector1Pipeline.refpix:INFO] side_smoothing_length = 11\n"
     ]
    },
    {
     "name": "stderr",
     "output_type": "stream",
     "text": [
      "2021-09-13 01:47:17,197 - stpipe.Detector1Pipeline.refpix - INFO - side_gain = 1.000000\n"
     ]
    },
    {
     "name": "stdout",
     "output_type": "stream",
     "text": [
      "[stpipe.Detector1Pipeline.refpix:INFO] side_gain = 1.000000\n"
     ]
    },
    {
     "name": "stderr",
     "output_type": "stream",
     "text": [
      "2021-09-13 01:47:17,200 - stpipe.Detector1Pipeline.refpix - INFO - odd_even_rows = True\n"
     ]
    },
    {
     "name": "stdout",
     "output_type": "stream",
     "text": [
      "[stpipe.Detector1Pipeline.refpix:INFO] odd_even_rows = True\n",
      "[stdatamodels.util:DEBUG] Environmental \"VALIDATE_ON_ASSIGNMENT\" cannot be found. Using default value of \"True\".\n",
      "[jwst.lib.reffile_utils:DEBUG] Input exposure is a subarray readout\n",
      "[jwst.lib.reffile_utils:DEBUG] Input exposure is a subarray readout\n"
     ]
    }
   ],
   "source": [
    "#filename_stage1 = '/fenrirdata1/es_tso/sim_data/mirage_tso_notebook/sim_data_try_008_tso_sw_imaging/jw88888001001_01101_00001_nrca1_uncal.fits'\n",
    "filename_stage1='modified_jw88888001001_01101_00001_nrca1_uncal.fits' #Use the modified uncalibrated file created above\n",
    "\n",
    "# Instantiate the class. Do not provide a configuration file.\n",
    "pipeline_stage1 = Detector1Pipeline()\n",
    "\n",
    "# Manually set any desired non-default parameter values\n",
    "\n",
    "# Default is to skip the persistence and IPC correction\n",
    "# Make that explicit here\n",
    "pipeline_stage1.persistence.skip = True\n",
    "pipeline_stage1.ipc.skip = True\n",
    "#pipeline_stage1.dark_current.override_dark_current = '/fenrirdata1/kg_data/crds_cache/references/jwst/nircam/jwst_nircam_dark_0256.fits'\n",
    "pipeline_stage1.dark_current.override_dark= '/fenrirdata1/kg_data/crds_cache/references/jwst/nircam/jwst_nircam_dark_0256.fits'\n",
    "\n",
    "pipeline_stage1.refpix.skip = False #Make sure to skip steps appropriate if using an alternate ref pix correction method\n",
    "pipeline_stage1.superbias.skip = False \n",
    "\n",
    "# The default value for CR flagging is 3 or 4 sigma\n",
    "# which tends to be too aggressive and flags noise.\n",
    "# Set it to something more reasonable\n",
    "pipeline_stage1.jump.rejection_threshold = 9\n",
    "\n",
    "# Specify that you want results saved to a file\n",
    "pipeline_stage1.save_results = True\n",
    "pipeline_stage1.output_dir = '/fenrirdata1/kg_data/pipeline_output/first_test'\n",
    "\n",
    "# Execute the pipeline using the run method\n",
    "result_stage1 = pipeline_stage1.run(filename_stage1)"
   ]
  },
  {
   "cell_type": "code",
   "execution_count": null,
   "id": "hollywood-upper",
   "metadata": {
    "scrolled": true
   },
   "outputs": [],
   "source": [
    "#Check that the results exist needed for next stage\n",
    "HDUList_stage1= fits.open('/fenrirdata1/kg_data/pipeline_output/first_test/modified_jw88888001001_01101_00001_nrca1_rateints.fits')\n",
    "HDUList_stage1.info()"
   ]
  },
  {
   "cell_type": "markdown",
   "id": "revised-airplane",
   "metadata": {},
   "source": [
    "## Association Files\n",
    "Associations are basically just lists of things, mostly exposures, that are somehow related. The pipeline consists of three stages: Stage 1, Stage 2, and Stage 3 processing. Stage 2 processing is the calibration necessary to remove instrumental effects from the data. The resulting files contain flux and spatially calibrated data, called Stage 2b data. The information is still in individual exposures. To be truly useful, the exposures need to be combined and, in the case of multi-object spectrometry, separated, into data that is source-oriented. This type of calibration is called Stage 3 processing."
   ]
  },
  {
   "cell_type": "code",
   "execution_count": null,
   "id": "confirmed-semester",
   "metadata": {},
   "outputs": [],
   "source": [
    "asn_dir = '/fenrirdata1/kg_data/pipeline_output/first_test'\n",
    "level2_asn = (os.path.join(asn_dir, 'level2_asn.json'))\n",
    "asn_stage2 = asn_from_list(['/fenrirdata1/kg_data/pipeline_output/first_test/modified_jw88888001001_01101_00001_nrca1_rateints.fits'],rule=DMSLevel2bBase)\n",
    "with open(level2_asn, 'w') as fh:\n",
    "   fh.write(asn_stage2.dump()[1])"
   ]
  },
  {
   "cell_type": "markdown",
   "id": "adjusted-brush",
   "metadata": {},
   "source": [
    "# Stage 2\n",
    "### Processes JWST imaging-mode slope data from Level-2a to Level-2b.\n",
    "Stage 2 processing consists of additional instrument-level and observing-mode corrections and calibrations to produce fully calibrated exposures. The details differ for imaging and spectroscopic exposures, and there are some corrections that are unique to certain instruments or modes. \n",
    "\n",
    "#### Image2Pipeline:\n",
    "Imaging processing applies additional instrumental corrections and calibrations that result in a fully calibrated individual exposure. Imaging TSO data are run through this pipeline. The steps are very similar to those in Spec2Pipeline. WCS information is added, flat fielding and flux calibration are performed, and astrometric distortion is removed from the images."
   ]
  },
  {
   "cell_type": "code",
   "execution_count": null,
   "id": "metric-twins",
   "metadata": {
    "scrolled": true
   },
   "outputs": [],
   "source": [
    "filename_stage2 = '/fenrirdata1/kg_data/pipeline_output/first_test/modified_jw88888001001_01101_00001_nrca1_rateints.fits'\n",
    "\n",
    "# Instantiate the class. Do not provide a configuration file.\n",
    "pipeline_stage2 = Image2Pipeline()\n",
    "\n",
    "# Specify that you want results saved to a file\n",
    "pipeline_stage2.save_results = True\n",
    "pipeline_stage2.output_dir = '/fenrirdata1/kg_data/pipeline_output/first_test'\n",
    "\n",
    "# Execute the pipeline using the run method\n",
    "result_stage2 = pipeline_stage2.run(level2_asn)"
   ]
  },
  {
   "cell_type": "code",
   "execution_count": null,
   "id": "palestinian-slope",
   "metadata": {
    "scrolled": true
   },
   "outputs": [],
   "source": [
    "#print the results from stage 2 (ensure that they exist)\n",
    "HDUList_stage2= fits.open('/fenrirdata1/kg_data/pipeline_output/first_test/modified_jw88888001001_01101_00001_nrca1_calints.fits')\n",
    "HDUList_stage2.info()"
   ]
  },
  {
   "cell_type": "code",
   "execution_count": null,
   "id": "tutorial-resistance",
   "metadata": {},
   "outputs": [],
   "source": [
    "#generate an association file required for stage 3\n",
    "asn_dir = '/fenrirdata1/kg_data/pipeline_output/first_test'\n",
    "level3_asn = (os.path.join(asn_dir, 'level3_asn.json'))\n",
    "asn_stage3 = asn_from_list(['/fenrirdata1/kg_data/pipeline_output/first_test/modified_jw88888001001_01101_00001_nrca1_calints.fits'], product_name ='modified_test_level3')\n",
    "with open(level3_asn, 'w') as fh:\n",
    "   fh.write(asn_stage3.dump()[1])"
   ]
  },
  {
   "cell_type": "markdown",
   "id": "intimate-leeds",
   "metadata": {},
   "source": [
    "# Stage 3\n",
    "### Applies level 3 processing to TSO-mode data from\n",
    "Stage 3 processing consists of routines that work with multiple exposures and in most cases produce some kind of combined product. There are unique pipeline modules for stage 3 processing of imaging, spectroscopic, coronagraphic, AMI, and TSO observations. \n",
    "\n",
    "#### Tso3Pipeline:\n",
    "The stage 3 TSO pipeline is to be applied to associations of calibrated TSO exposures (e.g. NIRCam TS imaging, NIRCam TS grism, NIRISS SOSS, NIRSpec BrightObj, MIRI LRS Slitless) and is used to produce calibrated time-series photometry or spectra of the source object. This is a pipeline customized for TSO data. Grism TSO data undergo outlier detection (essentially a check for any cosmic rays/transient effects that were missed in Detector1Pipeline), background subtraction, spectral extraction, and photometry. Imaging TSO data are run through outlier detection, and photometry is performed."
   ]
  },
  {
   "cell_type": "markdown",
   "id": "official-advocacy",
   "metadata": {},
   "source": [
    "## TSO Photometry Reference File: Radii Parameters"
   ]
  },
  {
   "cell_type": "code",
   "execution_count": null,
   "id": "extended-behalf",
   "metadata": {},
   "outputs": [],
   "source": [
    "original_tsophot=asdf.open(\"/fenrirdata1/kg_data/crds_cache/references/jwst/nircam/jwst_nircam_tsophot_0001.asdf\") #the original tsophot reference file\n",
    "original_tsophot.tree #print the original tsophot reference file\n",
    "\n",
    "#adjust the radii parameters\n",
    "original_tsophot.tree['radii'] = [{'pupil': 'WLP8',\n",
    "   'radius': 50.0,\n",
    "   'radius_inner': 50.0,\n",
    "   'radius_outer': 62.0}, #For this particular data set, the outer radius limit is 62 due to edge effects on detector\n",
    "  {'pupil': 'ANY', 'radius': 3.0, 'radius_inner': 4.0, 'radius_outer': 5.0}]\n",
    "original_tsophot.write_to('adjusted_jwst_nircam_tsophot_0001.asdf')\n",
    "adjusted_tsophot=asdf.open('adjusted_jwst_nircam_tsophot_0001.asdf') #the adjusted tsophot reference file\n",
    "adjusted_tsophot.tree #print the adjusted tsophot reference file"
   ]
  },
  {
   "cell_type": "code",
   "execution_count": null,
   "id": "superior-suffering",
   "metadata": {
    "scrolled": true
   },
   "outputs": [],
   "source": [
    "filename_stage3 = '/fenrirdata1/kg_data/pipeline_output/first_test/modified_jw88888001001_01101_00001_nrca1_calints.fits'\n",
    "\n",
    "# Instantiate the class. Do not provide a configuration file.\n",
    "pipeline_stage3 = Tso3Pipeline()\n",
    "\n",
    "pipeline_stage3.outlier_detection.skip = True\n",
    "pipeline_stage3.tso_photometry.override_tsophot = 'adjusted_jwst_nircam_tsophot_0001.asdf' #use the modified tso_phot ref file\n",
    "\n",
    "# Specify that you want results saved to a file\n",
    "pipeline_stage3.save_results = True\n",
    "pipeline_stage3.output_dir = '/fenrirdata1/kg_data/pipeline_output/first_test'\n",
    "\n",
    "# Execute the pipeline using the run method\n",
    "result_stage3 = pipeline_stage3.run(level3_asn)"
   ]
  },
  {
   "cell_type": "markdown",
   "id": "supposed-purple",
   "metadata": {},
   "source": [
    "# Plotting Results"
   ]
  },
  {
   "cell_type": "code",
   "execution_count": null,
   "id": "indoor-steps",
   "metadata": {},
   "outputs": [],
   "source": [
    "#Import the stage 3 result file\n",
    "with open('/fenrirdata1/kg_data/pipeline_output/first_test/modified_test_level3_phot.ecsv', 'r') as file:\n",
    "    reader = csv.reader(file)\n",
    "    for row in reader:\n",
    "        print(row)"
   ]
  },
  {
   "cell_type": "code",
   "execution_count": null,
   "id": "seven-station",
   "metadata": {},
   "outputs": [],
   "source": [
    "dat = ascii.read('/fenrirdata1/kg_data/pipeline_output/first_test/test_level3_phot.ecsv') #call the data \n",
    "\n",
    "#normalized_net_aperture_sum = dat['net_aperture_sum'].si.value/dat['net_aperture_sum'][0].si.value #normalize the flux values\n",
    "#std_net_aperture_sum = np.std_net_aperture_sum(normalized_net_aperture_sum[0:20]) #manually calculate the std. (This was helpful prior to finding the outer radii limit which return nan errors.)\n",
    "#plt.errorbar(dat['MJD'],normalized_flux, yerr=std,fmt='.')\n",
    "\n",
    "plt.errorbar(dat['MJD'],dat['net_aperture_sum'].value, yerr=dat['net_aperture_sum_err'].value,fmt='.')\n",
    "plt.title(\"Net Aperture Sum\")\n",
    "plt.xlabel(\"Time (MJD)\")\n",
    "plt.ylabel(\"Flux\")"
   ]
  },
  {
   "cell_type": "code",
   "execution_count": null,
   "id": "breeding-wilson",
   "metadata": {},
   "outputs": [],
   "source": [
    "plt.errorbar(dat['MJD'],dat['aperture_sum'].to(u.Jy).value, yerr=dat['aperture_sum_err'].to(u.Jy).value, fmt='.')\n",
    "\n",
    "plt.title(\"Aperture Sum\")\n",
    "plt.xlabel(\"Time (MJD)\")\n",
    "plt.ylabel(\"Flux\")"
   ]
  },
  {
   "cell_type": "code",
   "execution_count": null,
   "id": "interracial-joyce",
   "metadata": {},
   "outputs": [],
   "source": [
    "plt.plot(dat['MJD'],dat['aperture_bkg'].to(u.Jy).value,'.')\n",
    "\n",
    "plt.title(\"Aperture Background\")\n",
    "plt.xlabel(\"Time (MJD)\")\n",
    "plt.ylabel(\"Flux\")"
   ]
  },
  {
   "cell_type": "code",
   "execution_count": null,
   "id": "generous-techno",
   "metadata": {},
   "outputs": [],
   "source": [
    "plt.plot(dat['MJD'],dat['annulus_mean'].to(u.Jy).value,'.')\n",
    "\n",
    "plt.title(\"Annulus Mean\")\n",
    "plt.xlabel(\"Time (MJD)\")\n",
    "plt.ylabel(\"Flux\")"
   ]
  },
  {
   "cell_type": "code",
   "execution_count": null,
   "id": "amended-repository",
   "metadata": {},
   "outputs": [],
   "source": [
    "plt.plot(dat['MJD'],dat['annulus_sum'].to(u.Jy).value,'.')\n",
    "\n",
    "plt.title(\"Annulus Sum\")\n",
    "plt.xlabel(\"Time (MJD)\")\n",
    "plt.ylabel(\"Flux\")"
   ]
  },
  {
   "cell_type": "code",
   "execution_count": null,
   "id": "27a52cd6",
   "metadata": {},
   "outputs": [],
   "source": []
  },
  {
   "cell_type": "code",
   "execution_count": null,
   "id": "8713d394",
   "metadata": {},
   "outputs": [],
   "source": []
  }
 ],
 "metadata": {
  "kernelspec": {
   "display_name": "Python 3 (ipykernel)",
   "language": "python",
   "name": "python3"
  },
  "language_info": {
   "codemirror_mode": {
    "name": "ipython",
    "version": 3
   },
   "file_extension": ".py",
   "mimetype": "text/x-python",
   "name": "python",
   "nbconvert_exporter": "python",
   "pygments_lexer": "ipython3",
   "version": "3.9.1"
  }
 },
 "nbformat": 4,
 "nbformat_minor": 5
}
