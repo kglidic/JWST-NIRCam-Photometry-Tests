{
 "cells": [
  {
   "cell_type": "markdown",
   "id": "acknowledged-signal",
   "metadata": {},
   "source": [
    "# Import Library \n",
    "Each pipeline consists of a certain sequence of calibration steps and is defined as a python class within a python code module. From within python, the pipelines are called by their class names, but configuration files can still be supplied in order to set pipeline or step parameter values"
   ]
  },
  {
   "cell_type": "code",
   "execution_count": 1,
   "id": "aquatic-letter",
   "metadata": {},
   "outputs": [
    {
     "name": "stdout",
     "output_type": "stream",
     "text": [
      "1.3.1\n"
     ]
    }
   ],
   "source": [
    "import os\n",
    "#os.environ['CRDS_PATH'] = '/fenrirdata1/kg_data/crds_cache/' #These are already defined in my ~./bash profile now\n",
    "#os.environ['CRDS_SERVER_URL']= 'https://jwst-crds.stsci.edu'\n",
    "os.environ['CRDS_CONTEXT']='jwst_0756.pmap'\n",
    "\n",
    "import jwst\n",
    "print(jwst.__version__)\n",
    "\n",
    "from jwst.pipeline.calwebb_detector1 import Detector1Pipeline\n",
    "from jwst.pipeline.calwebb_image2 import Image2Pipeline\n",
    "from jwst.pipeline.calwebb_tso3 import Tso3Pipeline\n",
    "from jwst.associations.asn_from_list import asn_from_list\n",
    "from jwst.associations.lib.rules_level2_base import DMSLevel2bBase\n",
    "\n",
    "from astropy.io import fits, ascii\n",
    "import matplotlib.pyplot as plt\n",
    "import csv\n",
    "import numpy as np\n",
    "import ref_pixels\n",
    "from splintegrate import splintegrate\n",
    "import asdf\n",
    "import astropy.units as u"
   ]
  },
  {
   "cell_type": "markdown",
   "id": "defensive-tackle",
   "metadata": {},
   "source": [
    "# Stage 1\n",
    "### Detector-level corrections and ramp fitting for individual exposures.\n",
    "Stage 1 consists of detector-level corrections that are performed on a group-by-group basis, followed by ramp fitting. The output of stage 1 processing is a countrate image per exposure, or per integration for some modes.\n",
    "\n",
    "#### Detector1Pipeline: \n",
    "Apply all calibration steps to raw JWST ramps to produce a 2-D slope product. This stage takes care of basic data reduction steps, such as reference pixel correction, superbias subtraction, removal of non-linearity, and flagging of cosmic rays. In the final step in this stage of the pipeline, line-fitting is performed on each integration. A slope image is created for each integration. The steps in this stage are identical for all data."
   ]
  },
  {
   "cell_type": "code",
   "execution_count": 20,
   "id": "technological-heather",
   "metadata": {},
   "outputs": [
    {
     "name": "stderr",
     "output_type": "stream",
     "text": [
      "[py.warnings:WARNING] /tmp/ipykernel_4159815/792314660.py:2: ResourceWarning: unclosed file <_io.FileIO name='/fenrirdata1/es_tso/sim_data/mirage_027_super_short_grism256/sim_data/jw88888001001_01101_00001_nrca1_uncal.fits' mode='rb' closefd=True>\n",
      "  HDUList = fits.open('/fenrirdata1/es_tso/sim_data/mirage_027_super_short_grism256/sim_data/jw88888001001_01101_00001_nrca1_uncal.fits')\n",
      "\n"
     ]
    },
    {
     "data": {
      "text/plain": [
       "SIMPLE  =                    T / conforms to FITS standard                      \n",
       "BITPIX  =                    8 / array data type                                \n",
       "NAXIS   =                    0 / number of array dimensions                     \n",
       "EXTEND  =                    T                                                  \n",
       "DATE    = '2021-09-10T18:31:49.177' / UTC date file created                     \n",
       "ORIGIN  = 'STScI   '           / Organization responsible for creating file     \n",
       "FILENAME= 'jw88888001001_01101_00001_nrca1_uncal.fits' / Name of the file       \n",
       "FILETYPE= 'raw     '           / Type of data in the file                       \n",
       "DATAMODL= 'RampModel'          / Type of data model                             \n",
       "TELESCOP= 'JWST    '           / Telescope used to acquire the data             \n",
       "                                                                                \n",
       "        Program information                                                     \n",
       "                                                                                \n",
       "TITLE   = 'Mirage Time Series Tests' / Proposal title                           \n",
       "PI_NAME = 'D.N. Adams'         / Principal investigator name                    \n",
       "CATEGORY= 'GO      '           / Program category                               \n",
       "SUBCAT  = 'UNKNOWN '           / Program sub-category                           \n",
       "SCICAT  = 'Exoplanets and Exoplanet Formation' / Science category assigned durin\n",
       "CONT_ID =                    0 / Continuation of previous program               \n",
       "                                                                                \n",
       "        Observation identifiers                                                 \n",
       "                                                                                \n",
       "DATE-OBS= '2022-11-01'         / [yyyy-mm-dd] UTC date at start of exposure     \n",
       "TIME-OBS= '02:50:06.000'       / [hh:mm:ss.sss] UTC time at start of exposure   \n",
       "OBS_ID  = 'V88888001001P0000000001101' / Programmatic observation identifier    \n",
       "VISIT_ID= '88888001001'        / Visit identifier                               \n",
       "PROGRAM = '88888   '           / Program number                                 \n",
       "OBSERVTN= '001     '           / Observation number                             \n",
       "VISIT   = '001     '           / Visit number                                   \n",
       "VISITGRP= '01      '           / Visit group identifier                         \n",
       "SEQ_ID  = '1       '           / Parallel sequence identifier                   \n",
       "ACT_ID  = '01      '           / Activity identifier                            \n",
       "EXPOSURE= '00001   '           / Exposure request number                        \n",
       "OBSLABEL= 'GrismTSO-F444W'     / Proposer label for the observation             \n",
       "                                                                                \n",
       "        Visit information                                                       \n",
       "                                                                                \n",
       "TSOVISIT=                    T / Time Series Observation visit indicator        \n",
       "                                                                                \n",
       "        Target information                                                      \n",
       "                                                                                \n",
       "TARGPROP= 'WASP-79 '           / Proposer's name for the target                 \n",
       "TARGNAME= 'UNKNOWN '           / Standard astronomical catalog name for target  \n",
       "TARG_RA =    66.37090000000001 / Target RA at mid time of exposure              \n",
       "TARG_DEC=            -30.60045 / Target Dec at mid time of exposure             \n",
       "                                                                                \n",
       "        Instrument configuration information                                    \n",
       "                                                                                \n",
       "INSTRUME= 'NIRCAM  '           / Instrument used to acquire the data            \n",
       "DETECTOR= 'NRCA1   '           / Name of detector used to acquire the data      \n",
       "MODULE  = 'A       '           / NIRCam module: A, B, or MULTIPLE               \n",
       "CHANNEL = 'SHORT   '           / Instrument channel                             \n",
       "FILTER  = 'F182M   '           / Name of the filter element used                \n",
       "PUPIL   = 'WLP8    '           / Name of the pupil element used                 \n",
       "                                                                                \n",
       "        Exposure parameters                                                     \n",
       "                                                                                \n",
       "EXP_TYPE= 'NRC_TSIMAGE'        / Type of data in the exposure                   \n",
       "EXPSTART=         59884.118125 / UTC exposure start time                        \n",
       "EXPMID  =    59884.11815617338 / UTC exposure mid time                          \n",
       "EXPEND  =    59884.11818734676 / UTC exposure end time                          \n",
       "READPATT= 'RAPID   '           / Readout pattern                                \n",
       "NINTS   =                    2 / Number of integrations in exposure             \n",
       "INTSTART=                    1 / Starting integration number in this segment    \n",
       "INTEND  =                    2 / Ending integration number in this segment      \n",
       "NGROUPS =                    2 / Number of groups in integration                \n",
       "NFRAMES =                    1 / Number of frames per group                     \n",
       "GROUPGAP=                    0 / Number of frames dropped between groups        \n",
       "TSAMPLE =                   10 / [us] Time between samples                      \n",
       "TFRAME  =              1.34669 / [s] Time between frames                        \n",
       "TGROUP  =              1.34669 / [s] Time between groups                        \n",
       "EFFINTTM=              2.69338 / [s] Effective integration time                 \n",
       "EFFEXPTM=    5.386760000000001 / [s] Effective exposure time                    \n",
       "DURATION=              8.08014 / [s] Total duration of exposure                 \n",
       "NRSTSTRT=                    1 / Number of resets at start of exposure          \n",
       "NRESETS =                    1 / Number of resets between integrations          \n",
       "                                                                                \n",
       "        Subarray parameters                                                     \n",
       "                                                                                \n",
       "SUBARRAY= 'SUBGRISM256'        / Subarray used                                  \n",
       "SUBSTRT1=                    1 / Starting pixel in axis 1 direction             \n",
       "SUBSTRT2=                    1 / Starting pixel in axis 2 direction             \n",
       "SUBSIZE1=                 2048 / Number of pixels in axis 1 direction           \n",
       "SUBSIZE2=                  256 / Number of pixels in axis 2 direction           \n",
       "FASTAXIS=                   -1 / Fast readout axis direction                    \n",
       "SLOWAXIS=                    2 / Slow readout axis direction                    \n",
       "                                                                                \n",
       "        Dither information                                                      \n",
       "                                                                                \n",
       "PATTTYPE= 'NONE    '           / Primary dither pattern type                    \n",
       "PATT_NUM=                    1 / Position number in primary pattern             \n",
       "NUMDTHPT=                    1 / Total number of points in pattern              \n",
       "PATTSIZE= 'DEFAULT '           / Primary dither pattern size                    \n",
       "SUBPXPTS=                    1 / Number of points in subpixel dither pattern    \n",
       "XOFFSET =                  0.0 / x offset from pattern starting position        \n",
       "YOFFSET =                1.444 / y offset from pattern starting position        \n",
       "                                                                                \n",
       "        Aperture information                                                    \n",
       "                                                                                \n",
       "APERNAME= 'NRCA1_GRISMTS256'   / PRD science aperture used                      \n",
       "MRGEVRSN= '1.3.4.dev630+g03dcb4d' / Mirage version used                         \n",
       "YAMLFILE= '/fenrirdata1/es_tso/sim_data/mirage_run_scripts/mirage_input_001/ya&'\n",
       "CONTINUE  'ml_files/jw88888001001_01101_00001_nrca1.yaml&'                      \n",
       "CONTINUE  '' / Mirage input yaml file                                           \n",
       "GAIN    =                 2.05 / Gain value used by Mirage                      \n",
       "DISTORTN= '/fenrirdata1/es_tso/crds_cache/references/jwst/nircam/jwst_nircam_d&'\n",
       "CONTINUE  'istortion_0093.asdf&'                                                \n",
       "CONTINUE  '' / Distortion reffile used by Mirage                                \n",
       "IPC     = '/fenrirdata1/es_tso/crds_cache/references/jwst/nircam/Kernel_to_add&'\n",
       "CONTINUE  '_IPC_effects_from_jwst_nircam_ipc_0026.fits&'                        \n",
       "CONTINUE  '' / IPC kernel used by Mirage                                        \n",
       "PIXARMAP= '/fenrirdata1/es_tso/crds_cache/references/jwst/nircam/jwst_nircam_a&'\n",
       "CONTINUE  'rea_0017.fits&'                                                      \n",
       "CONTINUE  '' / Pixel area map used by Mirage                                    \n",
       "CROSSTLK= '/home/schlawin/miniconda3/envs/mirageRunsSpecificCommits/lib/python&'\n",
       "CONTINUE  '3.7/site-packages/mirage/config/xtalk20150303g0.errorcut.txt&'       \n",
       "CONTINUE  '' / Crosstalk file used by Mirage                                    \n",
       "FLUX_CAL= '/home/schlawin/miniconda3/envs/mirageRunsSpecificCommits/lib/python&'\n",
       "CONTINUE  '3.7/site-packages/mirage/config/NIRCam_zeropoints.list&'             \n",
       "CONTINUE  '' / Flux calibration file used by Mirage                             \n",
       "FTHRUPUT= '/home/schlawin/miniconda3/envs/mirageRunsSpecificCommits/lib/python&'\n",
       "CONTINUE  '3.7/site-packages/mirage/config/placeholder.txt&'                    \n",
       "CONTINUE  '' / Filter throughput file used by Mirage                            \n",
       "PTSRCCAT= '/fenrirdata1/es_tso/sim_data/mirage_run_scripts/mirage_output_001/p&'\n",
       "CONTINUE  'tsrcs.cat&'                                                          \n",
       "CONTINUE  '' / Point source catalog used by Mirage                              \n",
       "GALAXCAT= 'None    '           / Galaxy source catalog used by Mirage           \n",
       "EXTNDCAT= 'None    '           / Extended source catalog used by Mirage         \n",
       "MTPTSCAT= 'None    '           / Moving point source catalog used by Mirage     \n",
       "MTSERSIC= 'None    '           / Moving Sersic catalog used by Mirage           \n",
       "MTEXTEND= 'None    '           / Moving extended target catalog used by Mirage  \n",
       "NONSDRAL= 'None    '           / Non-Sidereal catalog used by Mirage            \n",
       "BKGDRATE= 'medium  '           / Background rate used by Mirage                 \n",
       "TRACKING= 'sidereal'           / Telescope tracking type for Mirage             \n",
       "POISSON =           3335983497 / Random num generator seed for Poisson noise in \n",
       "PSFWFE  = 'predicted'          / WebbPSF Wavefront error used by Mirage         \n",
       "PSFWFGRP=                    0 / WebbPSF wavefront error group used by Mirage   \n",
       "CRLIB   = 'SUNMAX  '           / Cosmic ray library used by Mirage              \n",
       "CRSCALE =                  1.0 / Cosmic ray rate scaling factor used by Mirage  \n",
       "CRSEED  =           1709435948 / Random number generator seed for cosmic rays in\n",
       "NOUTPUTS=                    4 / number of output amplifiers                    "
      ]
     },
     "execution_count": 20,
     "metadata": {},
     "output_type": "execute_result"
    }
   ],
   "source": [
    "#adding a header input for the number of output amplifiers. \n",
    "HDUList = fits.open('/fenrirdata1/es_tso/sim_data/mirage_027_super_short_grism256/sim_data/jw88888001001_01101_00001_nrca1_uncal.fits')\n",
    "HDUList[0].header['NOUTPUTS'] = (4, 'number of output amplifiers')\n",
    "\n",
    "HDUList.writeto('modified_jw88888001001_01101_00001_nrca1_uncal.fits', overwrite=True) #already exists for me. Run this line if you do not have this file. \n",
    "HDUList[0].header"
   ]
  },
  {
   "cell_type": "code",
   "execution_count": 3,
   "id": "sorted-marking",
   "metadata": {
    "scrolled": true
   },
   "outputs": [
    {
     "name": "stderr",
     "output_type": "stream",
     "text": [
      "2021-09-13 02:27:33,475 - stpipe.Detector1Pipeline - INFO - Detector1Pipeline instance created.\n"
     ]
    },
    {
     "name": "stdout",
     "output_type": "stream",
     "text": [
      "[stpipe.Detector1Pipeline:INFO] Detector1Pipeline instance created.\n"
     ]
    },
    {
     "name": "stderr",
     "output_type": "stream",
     "text": [
      "2021-09-13 02:27:33,479 - stpipe.Detector1Pipeline.group_scale - INFO - GroupScaleStep instance created.\n"
     ]
    },
    {
     "name": "stdout",
     "output_type": "stream",
     "text": [
      "[stpipe.Detector1Pipeline.group_scale:INFO] GroupScaleStep instance created.\n"
     ]
    },
    {
     "name": "stderr",
     "output_type": "stream",
     "text": [
      "2021-09-13 02:27:33,485 - stpipe.Detector1Pipeline.dq_init - INFO - DQInitStep instance created.\n"
     ]
    },
    {
     "name": "stdout",
     "output_type": "stream",
     "text": [
      "[stpipe.Detector1Pipeline.dq_init:INFO] DQInitStep instance created.\n"
     ]
    },
    {
     "name": "stderr",
     "output_type": "stream",
     "text": [
      "2021-09-13 02:27:33,490 - stpipe.Detector1Pipeline.saturation - INFO - SaturationStep instance created.\n"
     ]
    },
    {
     "name": "stdout",
     "output_type": "stream",
     "text": [
      "[stpipe.Detector1Pipeline.saturation:INFO] SaturationStep instance created.\n"
     ]
    },
    {
     "name": "stderr",
     "output_type": "stream",
     "text": [
      "2021-09-13 02:27:33,493 - stpipe.Detector1Pipeline.ipc - INFO - IPCStep instance created.\n"
     ]
    },
    {
     "name": "stdout",
     "output_type": "stream",
     "text": [
      "[stpipe.Detector1Pipeline.ipc:INFO] IPCStep instance created.\n"
     ]
    },
    {
     "name": "stderr",
     "output_type": "stream",
     "text": [
      "2021-09-13 02:27:33,497 - stpipe.Detector1Pipeline.superbias - INFO - SuperBiasStep instance created.\n"
     ]
    },
    {
     "name": "stdout",
     "output_type": "stream",
     "text": [
      "[stpipe.Detector1Pipeline.superbias:INFO] SuperBiasStep instance created.\n"
     ]
    },
    {
     "name": "stderr",
     "output_type": "stream",
     "text": [
      "2021-09-13 02:27:33,502 - stpipe.Detector1Pipeline.refpix - INFO - RefPixStep instance created.\n"
     ]
    },
    {
     "name": "stdout",
     "output_type": "stream",
     "text": [
      "[stpipe.Detector1Pipeline.refpix:INFO] RefPixStep instance created.\n"
     ]
    },
    {
     "name": "stderr",
     "output_type": "stream",
     "text": [
      "2021-09-13 02:27:33,511 - stpipe.Detector1Pipeline.rscd - INFO - RscdStep instance created.\n"
     ]
    },
    {
     "name": "stdout",
     "output_type": "stream",
     "text": [
      "[stpipe.Detector1Pipeline.rscd:INFO] RscdStep instance created.\n"
     ]
    },
    {
     "name": "stderr",
     "output_type": "stream",
     "text": [
      "2021-09-13 02:27:33,517 - stpipe.Detector1Pipeline.firstframe - INFO - FirstFrameStep instance created.\n"
     ]
    },
    {
     "name": "stdout",
     "output_type": "stream",
     "text": [
      "[stpipe.Detector1Pipeline.firstframe:INFO] FirstFrameStep instance created.\n"
     ]
    },
    {
     "name": "stderr",
     "output_type": "stream",
     "text": [
      "2021-09-13 02:27:33,522 - stpipe.Detector1Pipeline.lastframe - INFO - LastFrameStep instance created.\n"
     ]
    },
    {
     "name": "stdout",
     "output_type": "stream",
     "text": [
      "[stpipe.Detector1Pipeline.lastframe:INFO] LastFrameStep instance created.\n"
     ]
    },
    {
     "name": "stderr",
     "output_type": "stream",
     "text": [
      "2021-09-13 02:27:33,528 - stpipe.Detector1Pipeline.linearity - INFO - LinearityStep instance created.\n"
     ]
    },
    {
     "name": "stdout",
     "output_type": "stream",
     "text": [
      "[stpipe.Detector1Pipeline.linearity:INFO] LinearityStep instance created.\n"
     ]
    },
    {
     "name": "stderr",
     "output_type": "stream",
     "text": [
      "2021-09-13 02:27:33,533 - stpipe.Detector1Pipeline.dark_current - INFO - DarkCurrentStep instance created.\n"
     ]
    },
    {
     "name": "stdout",
     "output_type": "stream",
     "text": [
      "[stpipe.Detector1Pipeline.dark_current:INFO] DarkCurrentStep instance created.\n"
     ]
    },
    {
     "name": "stderr",
     "output_type": "stream",
     "text": [
      "2021-09-13 02:27:33,539 - stpipe.Detector1Pipeline.reset - INFO - ResetStep instance created.\n"
     ]
    },
    {
     "name": "stdout",
     "output_type": "stream",
     "text": [
      "[stpipe.Detector1Pipeline.reset:INFO] ResetStep instance created.\n"
     ]
    },
    {
     "name": "stderr",
     "output_type": "stream",
     "text": [
      "2021-09-13 02:27:33,545 - stpipe.Detector1Pipeline.persistence - INFO - PersistenceStep instance created.\n"
     ]
    },
    {
     "name": "stdout",
     "output_type": "stream",
     "text": [
      "[stpipe.Detector1Pipeline.persistence:INFO] PersistenceStep instance created.\n"
     ]
    },
    {
     "name": "stderr",
     "output_type": "stream",
     "text": [
      "2021-09-13 02:27:33,552 - stpipe.Detector1Pipeline.jump - INFO - JumpStep instance created.\n"
     ]
    },
    {
     "name": "stdout",
     "output_type": "stream",
     "text": [
      "[stpipe.Detector1Pipeline.jump:INFO] JumpStep instance created.\n"
     ]
    },
    {
     "name": "stderr",
     "output_type": "stream",
     "text": [
      "2021-09-13 02:27:33,558 - stpipe.Detector1Pipeline.ramp_fit - INFO - RampFitStep instance created.\n"
     ]
    },
    {
     "name": "stdout",
     "output_type": "stream",
     "text": [
      "[stpipe.Detector1Pipeline.ramp_fit:INFO] RampFitStep instance created.\n"
     ]
    },
    {
     "name": "stderr",
     "output_type": "stream",
     "text": [
      "2021-09-13 02:27:33,564 - stpipe.Detector1Pipeline.gain_scale - INFO - GainScaleStep instance created.\n"
     ]
    },
    {
     "name": "stdout",
     "output_type": "stream",
     "text": [
      "[stpipe.Detector1Pipeline.gain_scale:INFO] GainScaleStep instance created.\n"
     ]
    },
    {
     "name": "stderr",
     "output_type": "stream",
     "text": [
      "2021-09-13 02:27:33,674 - stpipe.Detector1Pipeline - INFO - Step Detector1Pipeline running with args ('modified_jw88888001001_01101_00001_nrca1_uncal.fits',).\n"
     ]
    },
    {
     "name": "stdout",
     "output_type": "stream",
     "text": [
      "[stpipe.Detector1Pipeline:INFO] Step Detector1Pipeline running with args ('modified_jw88888001001_01101_00001_nrca1_uncal.fits',).\n"
     ]
    },
    {
     "name": "stderr",
     "output_type": "stream",
     "text": [
      "2021-09-13 02:27:33,699 - stpipe.Detector1Pipeline - INFO - Step Detector1Pipeline parameters are: {'pre_hooks': [], 'post_hooks': [], 'output_file': None, 'output_dir': '/fenrirdata1/kg_data/pipeline_output/Short_Exposure_Test_NRCA1/', 'output_ext': '.fits', 'output_use_model': False, 'output_use_index': True, 'save_results': True, 'skip': False, 'suffix': None, 'search_output_file': True, 'input_dir': '', 'save_calibrated_ramp': False, 'steps': {'group_scale': {'pre_hooks': [], 'post_hooks': [], 'output_file': None, 'output_dir': None, 'output_ext': '.fits', 'output_use_model': False, 'output_use_index': True, 'save_results': False, 'skip': False, 'suffix': None, 'search_output_file': True, 'input_dir': ''}, 'dq_init': {'pre_hooks': [], 'post_hooks': [], 'output_file': None, 'output_dir': None, 'output_ext': '.fits', 'output_use_model': False, 'output_use_index': True, 'save_results': False, 'skip': False, 'suffix': None, 'search_output_file': True, 'input_dir': ''}, 'saturation': {'pre_hooks': [], 'post_hooks': [], 'output_file': None, 'output_dir': None, 'output_ext': '.fits', 'output_use_model': False, 'output_use_index': True, 'save_results': False, 'skip': False, 'suffix': None, 'search_output_file': True, 'input_dir': ''}, 'ipc': {'pre_hooks': [], 'post_hooks': [], 'output_file': None, 'output_dir': None, 'output_ext': '.fits', 'output_use_model': False, 'output_use_index': True, 'save_results': False, 'skip': True, 'suffix': None, 'search_output_file': True, 'input_dir': ''}, 'superbias': {'pre_hooks': [], 'post_hooks': [], 'output_file': None, 'output_dir': None, 'output_ext': '.fits', 'output_use_model': False, 'output_use_index': True, 'save_results': False, 'skip': False, 'suffix': None, 'search_output_file': True, 'input_dir': ''}, 'refpix': {'pre_hooks': [], 'post_hooks': [], 'output_file': None, 'output_dir': None, 'output_ext': '.fits', 'output_use_model': False, 'output_use_index': True, 'save_results': False, 'skip': False, 'suffix': None, 'search_output_file': True, 'input_dir': '', 'odd_even_columns': True, 'use_side_ref_pixels': True, 'side_smoothing_length': 11, 'side_gain': 1.0, 'odd_even_rows': True}, 'rscd': {'pre_hooks': [], 'post_hooks': [], 'output_file': None, 'output_dir': None, 'output_ext': '.fits', 'output_use_model': False, 'output_use_index': True, 'save_results': False, 'skip': False, 'suffix': None, 'search_output_file': True, 'input_dir': '', 'type': 'baseline'}, 'firstframe': {'pre_hooks': [], 'post_hooks': [], 'output_file': None, 'output_dir': None, 'output_ext': '.fits', 'output_use_model': False, 'output_use_index': True, 'save_results': False, 'skip': False, 'suffix': None, 'search_output_file': True, 'input_dir': ''}, 'lastframe': {'pre_hooks': [], 'post_hooks': [], 'output_file': None, 'output_dir': None, 'output_ext': '.fits', 'output_use_model': False, 'output_use_index': True, 'save_results': False, 'skip': False, 'suffix': None, 'search_output_file': True, 'input_dir': ''}, 'linearity': {'pre_hooks': [], 'post_hooks': [], 'output_file': None, 'output_dir': None, 'output_ext': '.fits', 'output_use_model': False, 'output_use_index': True, 'save_results': False, 'skip': False, 'suffix': None, 'search_output_file': True, 'input_dir': ''}, 'dark_current': {'pre_hooks': [], 'post_hooks': [], 'output_file': None, 'output_dir': None, 'output_ext': '.fits', 'output_use_model': False, 'output_use_index': True, 'save_results': False, 'skip': False, 'suffix': None, 'search_output_file': True, 'input_dir': '', 'dark_output': None}, 'reset': {'pre_hooks': [], 'post_hooks': [], 'output_file': None, 'output_dir': None, 'output_ext': '.fits', 'output_use_model': False, 'output_use_index': True, 'save_results': False, 'skip': False, 'suffix': None, 'search_output_file': True, 'input_dir': ''}, 'persistence': {'pre_hooks': [], 'post_hooks': [], 'output_file': None, 'output_dir': None, 'output_ext': '.fits', 'output_use_model': False, 'output_use_index': True, 'save_results': False, 'skip': True, 'suffix': None, 'search_output_file': True, 'input_dir': '', 'input_trapsfilled': '', 'flag_pers_cutoff': 40.0, 'save_persistence': False, 'save_trapsfilled': True}, 'jump': {'pre_hooks': [], 'post_hooks': [], 'output_file': None, 'output_dir': None, 'output_ext': '.fits', 'output_use_model': False, 'output_use_index': True, 'save_results': False, 'skip': False, 'suffix': None, 'search_output_file': True, 'input_dir': '', 'rejection_threshold': 9, 'three_group_rejection_threshold': 6.0, 'four_group_rejection_threshold': 5.0, 'maximum_cores': 'none', 'flag_4_neighbors': True, 'max_jump_to_flag_neighbors': 1000.0, 'min_jump_to_flag_neighbors': 10.0}, 'ramp_fit': {'pre_hooks': [], 'post_hooks': [], 'output_file': None, 'output_dir': None, 'output_ext': '.fits', 'output_use_model': False, 'output_use_index': True, 'save_results': False, 'skip': False, 'suffix': None, 'search_output_file': True, 'input_dir': '', 'int_name': '', 'save_opt': False, 'opt_name': '', 'maximum_cores': 'none'}, 'gain_scale': {'pre_hooks': [], 'post_hooks': [], 'output_file': None, 'output_dir': None, 'output_ext': '.fits', 'output_use_model': False, 'output_use_index': True, 'save_results': False, 'skip': False, 'suffix': None, 'search_output_file': True, 'input_dir': ''}}}\n"
     ]
    },
    {
     "name": "stdout",
     "output_type": "stream",
     "text": [
      "[stpipe.Detector1Pipeline:INFO] Step Detector1Pipeline parameters are: {'pre_hooks': [], 'post_hooks': [], 'output_file': None, 'output_dir': '/fenrirdata1/kg_data/pipeline_output/Short_Exposure_Test_NRCA1/', 'output_ext': '.fits', 'output_use_model': False, 'output_use_index': True, 'save_results': True, 'skip': False, 'suffix': None, 'search_output_file': True, 'input_dir': '', 'save_calibrated_ramp': False, 'steps': {'group_scale': {'pre_hooks': [], 'post_hooks': [], 'output_file': None, 'output_dir': None, 'output_ext': '.fits', 'output_use_model': False, 'output_use_index': True, 'save_results': False, 'skip': False, 'suffix': None, 'search_output_file': True, 'input_dir': ''}, 'dq_init': {'pre_hooks': [], 'post_hooks': [], 'output_file': None, 'output_dir': None, 'output_ext': '.fits', 'output_use_model': False, 'output_use_index': True, 'save_results': False, 'skip': False, 'suffix': None, 'search_output_file': True, 'input_dir': ''}, 'saturation': {'pre_hooks': [], 'post_hooks': [], 'output_file': None, 'output_dir': None, 'output_ext': '.fits', 'output_use_model': False, 'output_use_index': True, 'save_results': False, 'skip': False, 'suffix': None, 'search_output_file': True, 'input_dir': ''}, 'ipc': {'pre_hooks': [], 'post_hooks': [], 'output_file': None, 'output_dir': None, 'output_ext': '.fits', 'output_use_model': False, 'output_use_index': True, 'save_results': False, 'skip': True, 'suffix': None, 'search_output_file': True, 'input_dir': ''}, 'superbias': {'pre_hooks': [], 'post_hooks': [], 'output_file': None, 'output_dir': None, 'output_ext': '.fits', 'output_use_model': False, 'output_use_index': True, 'save_results': False, 'skip': False, 'suffix': None, 'search_output_file': True, 'input_dir': ''}, 'refpix': {'pre_hooks': [], 'post_hooks': [], 'output_file': None, 'output_dir': None, 'output_ext': '.fits', 'output_use_model': False, 'output_use_index': True, 'save_results': False, 'skip': False, 'suffix': None, 'search_output_file': True, 'input_dir': '', 'odd_even_columns': True, 'use_side_ref_pixels': True, 'side_smoothing_length': 11, 'side_gain': 1.0, 'odd_even_rows': True}, 'rscd': {'pre_hooks': [], 'post_hooks': [], 'output_file': None, 'output_dir': None, 'output_ext': '.fits', 'output_use_model': False, 'output_use_index': True, 'save_results': False, 'skip': False, 'suffix': None, 'search_output_file': True, 'input_dir': '', 'type': 'baseline'}, 'firstframe': {'pre_hooks': [], 'post_hooks': [], 'output_file': None, 'output_dir': None, 'output_ext': '.fits', 'output_use_model': False, 'output_use_index': True, 'save_results': False, 'skip': False, 'suffix': None, 'search_output_file': True, 'input_dir': ''}, 'lastframe': {'pre_hooks': [], 'post_hooks': [], 'output_file': None, 'output_dir': None, 'output_ext': '.fits', 'output_use_model': False, 'output_use_index': True, 'save_results': False, 'skip': False, 'suffix': None, 'search_output_file': True, 'input_dir': ''}, 'linearity': {'pre_hooks': [], 'post_hooks': [], 'output_file': None, 'output_dir': None, 'output_ext': '.fits', 'output_use_model': False, 'output_use_index': True, 'save_results': False, 'skip': False, 'suffix': None, 'search_output_file': True, 'input_dir': ''}, 'dark_current': {'pre_hooks': [], 'post_hooks': [], 'output_file': None, 'output_dir': None, 'output_ext': '.fits', 'output_use_model': False, 'output_use_index': True, 'save_results': False, 'skip': False, 'suffix': None, 'search_output_file': True, 'input_dir': '', 'dark_output': None}, 'reset': {'pre_hooks': [], 'post_hooks': [], 'output_file': None, 'output_dir': None, 'output_ext': '.fits', 'output_use_model': False, 'output_use_index': True, 'save_results': False, 'skip': False, 'suffix': None, 'search_output_file': True, 'input_dir': ''}, 'persistence': {'pre_hooks': [], 'post_hooks': [], 'output_file': None, 'output_dir': None, 'output_ext': '.fits', 'output_use_model': False, 'output_use_index': True, 'save_results': False, 'skip': True, 'suffix': None, 'search_output_file': True, 'input_dir': '', 'input_trapsfilled': '', 'flag_pers_cutoff': 40.0, 'save_persistence': False, 'save_trapsfilled': True}, 'jump': {'pre_hooks': [], 'post_hooks': [], 'output_file': None, 'output_dir': None, 'output_ext': '.fits', 'output_use_model': False, 'output_use_index': True, 'save_results': False, 'skip': False, 'suffix': None, 'search_output_file': True, 'input_dir': '', 'rejection_threshold': 9, 'three_group_rejection_threshold': 6.0, 'four_group_rejection_threshold': 5.0, 'maximum_cores': 'none', 'flag_4_neighbors': True, 'max_jump_to_flag_neighbors': 1000.0, 'min_jump_to_flag_neighbors': 10.0}, 'ramp_fit': {'pre_hooks': [], 'post_hooks': [], 'output_file': None, 'output_dir': None, 'output_ext': '.fits', 'output_use_model': False, 'output_use_index': True, 'save_results': False, 'skip': False, 'suffix': None, 'search_output_file': True, 'input_dir': '', 'int_name': '', 'save_opt': False, 'opt_name': '', 'maximum_cores': 'none'}, 'gain_scale': {'pre_hooks': [], 'post_hooks': [], 'output_file': None, 'output_dir': None, 'output_ext': '.fits', 'output_use_model': False, 'output_use_index': True, 'save_results': False, 'skip': False, 'suffix': None, 'search_output_file': True, 'input_dir': ''}}}\n",
      "[jwst.datamodels.util:DEBUG] Opening modified_jw88888001001_01101_00001_nrca1_uncal.fits as <class 'jwst.datamodels.ramp.RampModel'>\n",
      "[stdatamodels.util:DEBUG] Environmental \"STRICT_VALIDATION\" cannot be found. Using default value of \"False\".\n",
      "[stdatamodels.util:DEBUG] Environmental \"VALIDATE_ON_ASSIGNMENT\" cannot be found. Using default value of \"True\".\n",
      "[stdatamodels.util:DEBUG] Environmental \"SKIP_FITS_UPDATE\" cannot be found. Using default value of \"None\".\n"
     ]
    },
    {
     "name": "stderr",
     "output_type": "stream",
     "text": [
      "2021-09-13 02:27:34,730 - stpipe.Detector1Pipeline - INFO - Prefetching reference files for dataset: 'modified_jw88888001001_01101_00001_nrca1_uncal.fits' reftypes = ['dark', 'gain', 'linearity', 'mask', 'readnoise', 'refpix', 'reset', 'rscd', 'saturation', 'superbias']\n"
     ]
    },
    {
     "name": "stdout",
     "output_type": "stream",
     "text": [
      "[stpipe.Detector1Pipeline:INFO] Prefetching reference files for dataset: 'modified_jw88888001001_01101_00001_nrca1_uncal.fits' reftypes = ['dark', 'gain', 'linearity', 'mask', 'readnoise', 'refpix', 'reset', 'rscd', 'saturation', 'superbias']\n",
      "[stdatamodels.util:DEBUG] Environmental \"STRICT_VALIDATION\" cannot be found. Using default value of \"False\".\n",
      "[stdatamodels.util:DEBUG] Environmental \"VALIDATE_ON_ASSIGNMENT\" cannot be found. Using default value of \"True\".\n"
     ]
    },
    {
     "name": "stderr",
     "output_type": "stream",
     "text": [
      "2021-09-13 02:27:36,231 - stpipe.Detector1Pipeline - INFO - Prefetch for DARK reference file is '/fenrirdata1/kg_data/crds_cache/references/jwst/nircam/jwst_nircam_dark_0213.fits'.\n"
     ]
    },
    {
     "name": "stdout",
     "output_type": "stream",
     "text": [
      "[stpipe.Detector1Pipeline:INFO] Prefetch for DARK reference file is '/fenrirdata1/kg_data/crds_cache/references/jwst/nircam/jwst_nircam_dark_0213.fits'.\n"
     ]
    },
    {
     "name": "stderr",
     "output_type": "stream",
     "text": [
      "2021-09-13 02:27:36,235 - stpipe.Detector1Pipeline - INFO - Prefetch for GAIN reference file is '/fenrirdata1/kg_data/crds_cache/references/jwst/nircam/jwst_nircam_gain_0050.fits'.\n"
     ]
    },
    {
     "name": "stdout",
     "output_type": "stream",
     "text": [
      "[stpipe.Detector1Pipeline:INFO] Prefetch for GAIN reference file is '/fenrirdata1/kg_data/crds_cache/references/jwst/nircam/jwst_nircam_gain_0050.fits'.\n"
     ]
    },
    {
     "name": "stderr",
     "output_type": "stream",
     "text": [
      "2021-09-13 02:27:36,238 - stpipe.Detector1Pipeline - INFO - Prefetch for LINEARITY reference file is '/fenrirdata1/kg_data/crds_cache/references/jwst/nircam/jwst_nircam_linearity_0056.fits'.\n"
     ]
    },
    {
     "name": "stdout",
     "output_type": "stream",
     "text": [
      "[stpipe.Detector1Pipeline:INFO] Prefetch for LINEARITY reference file is '/fenrirdata1/kg_data/crds_cache/references/jwst/nircam/jwst_nircam_linearity_0056.fits'.\n"
     ]
    },
    {
     "name": "stderr",
     "output_type": "stream",
     "text": [
      "2021-09-13 02:27:36,241 - stpipe.Detector1Pipeline - INFO - Prefetch for MASK reference file is '/fenrirdata1/kg_data/crds_cache/references/jwst/nircam/jwst_nircam_mask_0044.fits'.\n"
     ]
    },
    {
     "name": "stdout",
     "output_type": "stream",
     "text": [
      "[stpipe.Detector1Pipeline:INFO] Prefetch for MASK reference file is '/fenrirdata1/kg_data/crds_cache/references/jwst/nircam/jwst_nircam_mask_0044.fits'.\n"
     ]
    },
    {
     "name": "stderr",
     "output_type": "stream",
     "text": [
      "2021-09-13 02:27:36,243 - stpipe.Detector1Pipeline - INFO - Prefetch for READNOISE reference file is '/fenrirdata1/kg_data/crds_cache/references/jwst/nircam/jwst_nircam_readnoise_0025.fits'.\n"
     ]
    },
    {
     "name": "stdout",
     "output_type": "stream",
     "text": [
      "[stpipe.Detector1Pipeline:INFO] Prefetch for READNOISE reference file is '/fenrirdata1/kg_data/crds_cache/references/jwst/nircam/jwst_nircam_readnoise_0025.fits'.\n"
     ]
    },
    {
     "name": "stderr",
     "output_type": "stream",
     "text": [
      "2021-09-13 02:27:36,246 - stpipe.Detector1Pipeline - INFO - Prefetch for REFPIX reference file is 'N/A'.\n"
     ]
    },
    {
     "name": "stdout",
     "output_type": "stream",
     "text": [
      "[stpipe.Detector1Pipeline:INFO] Prefetch for REFPIX reference file is 'N/A'.\n"
     ]
    },
    {
     "name": "stderr",
     "output_type": "stream",
     "text": [
      "2021-09-13 02:27:36,248 - stpipe.Detector1Pipeline - INFO - Prefetch for RESET reference file is 'N/A'.\n"
     ]
    },
    {
     "name": "stdout",
     "output_type": "stream",
     "text": [
      "[stpipe.Detector1Pipeline:INFO] Prefetch for RESET reference file is 'N/A'.\n"
     ]
    },
    {
     "name": "stderr",
     "output_type": "stream",
     "text": [
      "2021-09-13 02:27:36,250 - stpipe.Detector1Pipeline - INFO - Prefetch for RSCD reference file is 'N/A'.\n"
     ]
    },
    {
     "name": "stdout",
     "output_type": "stream",
     "text": [
      "[stpipe.Detector1Pipeline:INFO] Prefetch for RSCD reference file is 'N/A'.\n"
     ]
    },
    {
     "name": "stderr",
     "output_type": "stream",
     "text": [
      "2021-09-13 02:27:36,252 - stpipe.Detector1Pipeline - INFO - Prefetch for SATURATION reference file is '/fenrirdata1/kg_data/crds_cache/references/jwst/nircam/jwst_nircam_saturation_0064.fits'.\n"
     ]
    },
    {
     "name": "stdout",
     "output_type": "stream",
     "text": [
      "[stpipe.Detector1Pipeline:INFO] Prefetch for SATURATION reference file is '/fenrirdata1/kg_data/crds_cache/references/jwst/nircam/jwst_nircam_saturation_0064.fits'.\n"
     ]
    },
    {
     "name": "stderr",
     "output_type": "stream",
     "text": [
      "2021-09-13 02:27:36,258 - stpipe.Detector1Pipeline - INFO - Prefetch for SUPERBIAS reference file is '/fenrirdata1/kg_data/crds_cache/references/jwst/nircam/jwst_nircam_superbias_0026.fits'.\n"
     ]
    },
    {
     "name": "stdout",
     "output_type": "stream",
     "text": [
      "[stpipe.Detector1Pipeline:INFO] Prefetch for SUPERBIAS reference file is '/fenrirdata1/kg_data/crds_cache/references/jwst/nircam/jwst_nircam_superbias_0026.fits'.\n",
      "[      root:INFO] Starting calwebb_detector1 ...\n",
      "[stdatamodels.util:DEBUG] Environmental \"STRICT_VALIDATION\" cannot be found. Using default value of \"False\".\n",
      "[stdatamodels.util:DEBUG] Environmental \"VALIDATE_ON_ASSIGNMENT\" cannot be found. Using default value of \"True\".\n",
      "[stdatamodels.util:DEBUG] Environmental \"SKIP_FITS_UPDATE\" cannot be found. Using default value of \"None\".\n",
      "[      root:DEBUG] Processing a Near-IR exposure\n"
     ]
    },
    {
     "name": "stderr",
     "output_type": "stream",
     "text": [
      "2021-09-13 02:27:36,683 - stpipe.Detector1Pipeline.group_scale - INFO - Step group_scale running with args (<RampModel(2, 2, 256, 2048) from modified_jw88888001001_01101_00001_nrca1_uncal.fits>,).\n"
     ]
    },
    {
     "name": "stdout",
     "output_type": "stream",
     "text": [
      "[stpipe.Detector1Pipeline.group_scale:INFO] Step group_scale running with args (<RampModel(2, 2, 256, 2048) from modified_jw88888001001_01101_00001_nrca1_uncal.fits>,).\n"
     ]
    },
    {
     "name": "stderr",
     "output_type": "stream",
     "text": [
      "2021-09-13 02:27:36,687 - stpipe.Detector1Pipeline.group_scale - INFO - Step group_scale parameters are: {'pre_hooks': [], 'post_hooks': [], 'output_file': None, 'output_dir': None, 'output_ext': '.fits', 'output_use_model': False, 'output_use_index': True, 'save_results': False, 'skip': False, 'suffix': None, 'search_output_file': True, 'input_dir': ''}\n"
     ]
    },
    {
     "name": "stdout",
     "output_type": "stream",
     "text": [
      "[stpipe.Detector1Pipeline.group_scale:INFO] Step group_scale parameters are: {'pre_hooks': [], 'post_hooks': [], 'output_file': None, 'output_dir': None, 'output_ext': '.fits', 'output_use_model': False, 'output_use_index': True, 'save_results': False, 'skip': False, 'suffix': None, 'search_output_file': True, 'input_dir': ''}\n",
      "[stdatamodels.util:DEBUG] Environmental \"STRICT_VALIDATION\" cannot be found. Using default value of \"False\".\n",
      "[stdatamodels.util:DEBUG] Environmental \"VALIDATE_ON_ASSIGNMENT\" cannot be found. Using default value of \"True\".\n",
      "[stdatamodels.util:DEBUG] Environmental \"VALIDATE_ON_ASSIGNMENT\" cannot be found. Using default value of \"True\".\n"
     ]
    },
    {
     "name": "stderr",
     "output_type": "stream",
     "text": [
      "2021-09-13 02:27:36,826 - stpipe.Detector1Pipeline.group_scale - INFO - NFRAMES=1 is a power of 2; correction not needed\n"
     ]
    },
    {
     "name": "stdout",
     "output_type": "stream",
     "text": [
      "[stpipe.Detector1Pipeline.group_scale:INFO] NFRAMES=1 is a power of 2; correction not needed\n"
     ]
    },
    {
     "name": "stderr",
     "output_type": "stream",
     "text": [
      "2021-09-13 02:27:36,828 - stpipe.Detector1Pipeline.group_scale - INFO - Step will be skipped\n"
     ]
    },
    {
     "name": "stdout",
     "output_type": "stream",
     "text": [
      "[stpipe.Detector1Pipeline.group_scale:INFO] Step will be skipped\n"
     ]
    },
    {
     "name": "stderr",
     "output_type": "stream",
     "text": [
      "2021-09-13 02:27:36,833 - stpipe.Detector1Pipeline.group_scale - INFO - Step group_scale done\n"
     ]
    },
    {
     "name": "stdout",
     "output_type": "stream",
     "text": [
      "[stpipe.Detector1Pipeline.group_scale:INFO] Step group_scale done\n"
     ]
    },
    {
     "name": "stderr",
     "output_type": "stream",
     "text": [
      "2021-09-13 02:27:36,951 - stpipe.Detector1Pipeline.dq_init - INFO - Step dq_init running with args (<RampModel(2, 2, 256, 2048) from modified_jw88888001001_01101_00001_nrca1_uncal.fits>,).\n"
     ]
    },
    {
     "name": "stdout",
     "output_type": "stream",
     "text": [
      "[stpipe.Detector1Pipeline.dq_init:INFO] Step dq_init running with args (<RampModel(2, 2, 256, 2048) from modified_jw88888001001_01101_00001_nrca1_uncal.fits>,).\n"
     ]
    },
    {
     "name": "stderr",
     "output_type": "stream",
     "text": [
      "2021-09-13 02:27:36,955 - stpipe.Detector1Pipeline.dq_init - INFO - Step dq_init parameters are: {'pre_hooks': [], 'post_hooks': [], 'output_file': None, 'output_dir': None, 'output_ext': '.fits', 'output_use_model': False, 'output_use_index': True, 'save_results': False, 'skip': False, 'suffix': None, 'search_output_file': True, 'input_dir': ''}\n"
     ]
    },
    {
     "name": "stdout",
     "output_type": "stream",
     "text": [
      "[stpipe.Detector1Pipeline.dq_init:INFO] Step dq_init parameters are: {'pre_hooks': [], 'post_hooks': [], 'output_file': None, 'output_dir': None, 'output_ext': '.fits', 'output_use_model': False, 'output_use_index': True, 'save_results': False, 'skip': False, 'suffix': None, 'search_output_file': True, 'input_dir': ''}\n",
      "[stdatamodels.util:DEBUG] Environmental \"STRICT_VALIDATION\" cannot be found. Using default value of \"False\".\n",
      "[stdatamodels.util:DEBUG] Environmental \"VALIDATE_ON_ASSIGNMENT\" cannot be found. Using default value of \"True\".\n",
      "[stdatamodels.util:DEBUG] Environmental \"STRICT_VALIDATION\" cannot be found. Using default value of \"False\".\n",
      "[stdatamodels.util:DEBUG] Environmental \"VALIDATE_ON_ASSIGNMENT\" cannot be found. Using default value of \"True\".\n"
     ]
    },
    {
     "name": "stderr",
     "output_type": "stream",
     "text": [
      "2021-09-13 02:27:37,008 - stpipe.Detector1Pipeline.dq_init - INFO - Using MASK reference file /fenrirdata1/kg_data/crds_cache/references/jwst/nircam/jwst_nircam_mask_0044.fits\n"
     ]
    },
    {
     "name": "stdout",
     "output_type": "stream",
     "text": [
      "[stpipe.Detector1Pipeline.dq_init:INFO] Using MASK reference file /fenrirdata1/kg_data/crds_cache/references/jwst/nircam/jwst_nircam_mask_0044.fits\n",
      "[stdatamodels.util:DEBUG] Environmental \"STRICT_VALIDATION\" cannot be found. Using default value of \"False\".\n",
      "[stdatamodels.util:DEBUG] Environmental \"VALIDATE_ON_ASSIGNMENT\" cannot be found. Using default value of \"True\".\n",
      "[stdatamodels.util:DEBUG] Environmental \"SKIP_FITS_UPDATE\" cannot be found. Using default value of \"None\".\n",
      "[stdatamodels.fits_support:DEBUG] No ASDF information found. Cannot skip updating from FITS headers.\n",
      "[stdatamodels.util:DEBUG] Environmental \"VALIDATE_ON_ASSIGNMENT\" cannot be found. Using default value of \"True\".\n",
      "[jwst.lib.reffile_utils:DEBUG] ref substrt1=1, subsize1=2048, substrt2=1, subsize2=2048\n",
      "[jwst.lib.reffile_utils:DEBUG] sci substrt1=1, subsize1=2048, substrt2=1, subsize2=256\n",
      "[jwst.dq_init.dq_initialization:INFO] Extracting mask subarray to match science data\n",
      "[jwst.lib.reffile_utils:DEBUG] slice xstart=0, xstop=2048, ystart=0, ystop=256\n",
      "[stdatamodels.util:DEBUG] Environmental \"STRICT_VALIDATION\" cannot be found. Using default value of \"False\".\n",
      "[stdatamodels.util:DEBUG] Environmental \"VALIDATE_ON_ASSIGNMENT\" cannot be found. Using default value of \"True\".\n"
     ]
    },
    {
     "name": "stderr",
     "output_type": "stream",
     "text": [
      "2021-09-13 02:27:38,847 - stpipe.Detector1Pipeline.dq_init - INFO - Step dq_init done\n"
     ]
    },
    {
     "name": "stdout",
     "output_type": "stream",
     "text": [
      "[stpipe.Detector1Pipeline.dq_init:INFO] Step dq_init done\n"
     ]
    },
    {
     "name": "stderr",
     "output_type": "stream",
     "text": [
      "2021-09-13 02:27:38,953 - stpipe.Detector1Pipeline.saturation - INFO - Step saturation running with args (<RampModel(2, 2, 256, 2048) from modified_jw88888001001_01101_00001_nrca1_uncal.fits>,).\n"
     ]
    },
    {
     "name": "stdout",
     "output_type": "stream",
     "text": [
      "[stpipe.Detector1Pipeline.saturation:INFO] Step saturation running with args (<RampModel(2, 2, 256, 2048) from modified_jw88888001001_01101_00001_nrca1_uncal.fits>,).\n"
     ]
    },
    {
     "name": "stderr",
     "output_type": "stream",
     "text": [
      "2021-09-13 02:27:38,957 - stpipe.Detector1Pipeline.saturation - INFO - Step saturation parameters are: {'pre_hooks': [], 'post_hooks': [], 'output_file': None, 'output_dir': None, 'output_ext': '.fits', 'output_use_model': False, 'output_use_index': True, 'save_results': False, 'skip': False, 'suffix': None, 'search_output_file': True, 'input_dir': ''}\n"
     ]
    },
    {
     "name": "stdout",
     "output_type": "stream",
     "text": [
      "[stpipe.Detector1Pipeline.saturation:INFO] Step saturation parameters are: {'pre_hooks': [], 'post_hooks': [], 'output_file': None, 'output_dir': None, 'output_ext': '.fits', 'output_use_model': False, 'output_use_index': True, 'save_results': False, 'skip': False, 'suffix': None, 'search_output_file': True, 'input_dir': ''}\n",
      "[stdatamodels.util:DEBUG] Environmental \"STRICT_VALIDATION\" cannot be found. Using default value of \"False\".\n",
      "[stdatamodels.util:DEBUG] Environmental \"VALIDATE_ON_ASSIGNMENT\" cannot be found. Using default value of \"True\".\n",
      "[stdatamodels.util:DEBUG] Environmental \"STRICT_VALIDATION\" cannot be found. Using default value of \"False\".\n",
      "[stdatamodels.util:DEBUG] Environmental \"VALIDATE_ON_ASSIGNMENT\" cannot be found. Using default value of \"True\".\n"
     ]
    },
    {
     "name": "stderr",
     "output_type": "stream",
     "text": [
      "2021-09-13 02:27:39,007 - stpipe.Detector1Pipeline.saturation - INFO - Using SATURATION reference file /fenrirdata1/kg_data/crds_cache/references/jwst/nircam/jwst_nircam_saturation_0064.fits\n"
     ]
    },
    {
     "name": "stdout",
     "output_type": "stream",
     "text": [
      "[stpipe.Detector1Pipeline.saturation:INFO] Using SATURATION reference file /fenrirdata1/kg_data/crds_cache/references/jwst/nircam/jwst_nircam_saturation_0064.fits\n",
      "[stdatamodels.util:DEBUG] Environmental \"STRICT_VALIDATION\" cannot be found. Using default value of \"False\".\n",
      "[stdatamodels.util:DEBUG] Environmental \"VALIDATE_ON_ASSIGNMENT\" cannot be found. Using default value of \"True\".\n",
      "[stdatamodels.util:DEBUG] Environmental \"SKIP_FITS_UPDATE\" cannot be found. Using default value of \"None\".\n",
      "[stdatamodels.fits_support:DEBUG] No ASDF information found. Cannot skip updating from FITS headers.\n"
     ]
    },
    {
     "name": "stderr",
     "output_type": "stream",
     "text": [
      "[stcal.dynamicdq:WARNING] Keyword NO_SATURATION does not correspond to an existing DQ mnemonic, so will be ignored\n",
      "[stcal.dynamicdq:WARNING] Keyword FEW_SAMPLES does not correspond to an existing DQ mnemonic, so will be ignored\n",
      "[stcal.dynamicdq:WARNING] Keyword AD_SATURATION does not correspond to an existing DQ mnemonic, so will be ignored\n",
      "[stcal.dynamicdq:WARNING] Keyword WEIRD_PIXEL does not correspond to an existing DQ mnemonic, so will be ignored\n",
      "[stcal.dynamicdq:WARNING] Keyword DEAD_PIXEL does not correspond to an existing DQ mnemonic, so will be ignored\n"
     ]
    },
    {
     "name": "stdout",
     "output_type": "stream",
     "text": [
      "[stdatamodels.util:DEBUG] Environmental \"VALIDATE_ON_ASSIGNMENT\" cannot be found. Using default value of \"True\".\n",
      "[jwst.lib.reffile_utils:DEBUG] ref substrt1=1, subsize1=2048, substrt2=1, subsize2=2048\n",
      "[jwst.lib.reffile_utils:DEBUG] sci substrt1=1, subsize1=2048, substrt2=1, subsize2=256\n",
      "[jwst.saturation.saturation:INFO] Extracting reference file subarray to match science data\n",
      "[jwst.lib.reffile_utils:DEBUG] slice xstart=0, xstop=2048, ystart=0, ystop=256\n",
      "[stdatamodels.util:DEBUG] Environmental \"STRICT_VALIDATION\" cannot be found. Using default value of \"False\".\n",
      "[stdatamodels.util:DEBUG] Environmental \"VALIDATE_ON_ASSIGNMENT\" cannot be found. Using default value of \"True\".\n",
      "[jwst.saturation.saturation:INFO] Detected 10269 saturated pixels\n",
      "[jwst.saturation.saturation:INFO] Detected 3 A/D floor pixels\n"
     ]
    },
    {
     "name": "stderr",
     "output_type": "stream",
     "text": [
      "2021-09-13 02:27:39,768 - stpipe.Detector1Pipeline.saturation - INFO - Step saturation done\n"
     ]
    },
    {
     "name": "stdout",
     "output_type": "stream",
     "text": [
      "[stpipe.Detector1Pipeline.saturation:INFO] Step saturation done\n"
     ]
    },
    {
     "name": "stderr",
     "output_type": "stream",
     "text": [
      "2021-09-13 02:27:39,869 - stpipe.Detector1Pipeline.ipc - INFO - Step ipc running with args (<RampModel(2, 2, 256, 2048) from modified_jw88888001001_01101_00001_nrca1_uncal.fits>,).\n"
     ]
    },
    {
     "name": "stdout",
     "output_type": "stream",
     "text": [
      "[stpipe.Detector1Pipeline.ipc:INFO] Step ipc running with args (<RampModel(2, 2, 256, 2048) from modified_jw88888001001_01101_00001_nrca1_uncal.fits>,).\n"
     ]
    },
    {
     "name": "stderr",
     "output_type": "stream",
     "text": [
      "2021-09-13 02:27:39,873 - stpipe.Detector1Pipeline.ipc - INFO - Step ipc parameters are: {'pre_hooks': [], 'post_hooks': [], 'output_file': None, 'output_dir': None, 'output_ext': '.fits', 'output_use_model': False, 'output_use_index': True, 'save_results': False, 'skip': True, 'suffix': None, 'search_output_file': True, 'input_dir': ''}\n"
     ]
    },
    {
     "name": "stdout",
     "output_type": "stream",
     "text": [
      "[stpipe.Detector1Pipeline.ipc:INFO] Step ipc parameters are: {'pre_hooks': [], 'post_hooks': [], 'output_file': None, 'output_dir': None, 'output_ext': '.fits', 'output_use_model': False, 'output_use_index': True, 'save_results': False, 'skip': True, 'suffix': None, 'search_output_file': True, 'input_dir': ''}\n"
     ]
    },
    {
     "name": "stderr",
     "output_type": "stream",
     "text": [
      "2021-09-13 02:27:39,875 - stpipe.Detector1Pipeline.ipc - INFO - Step skipped.\n"
     ]
    },
    {
     "name": "stdout",
     "output_type": "stream",
     "text": [
      "[stpipe.Detector1Pipeline.ipc:INFO] Step skipped.\n"
     ]
    },
    {
     "name": "stderr",
     "output_type": "stream",
     "text": [
      "2021-09-13 02:27:39,880 - stpipe.Detector1Pipeline.ipc - INFO - Step ipc done\n"
     ]
    },
    {
     "name": "stdout",
     "output_type": "stream",
     "text": [
      "[stpipe.Detector1Pipeline.ipc:INFO] Step ipc done\n"
     ]
    },
    {
     "name": "stderr",
     "output_type": "stream",
     "text": [
      "2021-09-13 02:27:39,980 - stpipe.Detector1Pipeline.superbias - INFO - Step superbias running with args (<RampModel(2, 2, 256, 2048) from modified_jw88888001001_01101_00001_nrca1_uncal.fits>,).\n"
     ]
    },
    {
     "name": "stdout",
     "output_type": "stream",
     "text": [
      "[stpipe.Detector1Pipeline.superbias:INFO] Step superbias running with args (<RampModel(2, 2, 256, 2048) from modified_jw88888001001_01101_00001_nrca1_uncal.fits>,).\n"
     ]
    },
    {
     "name": "stderr",
     "output_type": "stream",
     "text": [
      "2021-09-13 02:27:39,984 - stpipe.Detector1Pipeline.superbias - INFO - Step superbias parameters are: {'pre_hooks': [], 'post_hooks': [], 'output_file': None, 'output_dir': None, 'output_ext': '.fits', 'output_use_model': False, 'output_use_index': True, 'save_results': False, 'skip': False, 'suffix': None, 'search_output_file': True, 'input_dir': ''}\n"
     ]
    },
    {
     "name": "stdout",
     "output_type": "stream",
     "text": [
      "[stpipe.Detector1Pipeline.superbias:INFO] Step superbias parameters are: {'pre_hooks': [], 'post_hooks': [], 'output_file': None, 'output_dir': None, 'output_ext': '.fits', 'output_use_model': False, 'output_use_index': True, 'save_results': False, 'skip': False, 'suffix': None, 'search_output_file': True, 'input_dir': ''}\n",
      "[stdatamodels.util:DEBUG] Environmental \"STRICT_VALIDATION\" cannot be found. Using default value of \"False\".\n",
      "[stdatamodels.util:DEBUG] Environmental \"VALIDATE_ON_ASSIGNMENT\" cannot be found. Using default value of \"True\".\n",
      "[stdatamodels.util:DEBUG] Environmental \"STRICT_VALIDATION\" cannot be found. Using default value of \"False\".\n",
      "[stdatamodels.util:DEBUG] Environmental \"VALIDATE_ON_ASSIGNMENT\" cannot be found. Using default value of \"True\".\n"
     ]
    },
    {
     "name": "stderr",
     "output_type": "stream",
     "text": [
      "2021-09-13 02:27:40,037 - stpipe.Detector1Pipeline.superbias - INFO - Using SUPERBIAS reference file /fenrirdata1/kg_data/crds_cache/references/jwst/nircam/jwst_nircam_superbias_0026.fits\n"
     ]
    },
    {
     "name": "stdout",
     "output_type": "stream",
     "text": [
      "[stpipe.Detector1Pipeline.superbias:INFO] Using SUPERBIAS reference file /fenrirdata1/kg_data/crds_cache/references/jwst/nircam/jwst_nircam_superbias_0026.fits\n",
      "[stdatamodels.util:DEBUG] Environmental \"STRICT_VALIDATION\" cannot be found. Using default value of \"False\".\n",
      "[stdatamodels.util:DEBUG] Environmental \"VALIDATE_ON_ASSIGNMENT\" cannot be found. Using default value of \"True\".\n",
      "[stdatamodels.util:DEBUG] Environmental \"SKIP_FITS_UPDATE\" cannot be found. Using default value of \"None\".\n",
      "[stdatamodels.fits_support:DEBUG] No ASDF information found. Cannot skip updating from FITS headers.\n"
     ]
    },
    {
     "name": "stderr",
     "output_type": "stream",
     "text": [
      "[stcal.dynamicdq:WARNING] Keyword NOISY does not correspond to an existing DQ mnemonic, so will be ignored\n"
     ]
    },
    {
     "name": "stdout",
     "output_type": "stream",
     "text": [
      "[jwst.lib.reffile_utils:DEBUG] ref substrt1=1, subsize1=2048, substrt2=1, subsize2=2048\n",
      "[jwst.lib.reffile_utils:DEBUG] sci substrt1=1, subsize1=2048, substrt2=1, subsize2=256\n",
      "[jwst.lib.reffile_utils:DEBUG] slice xstart=0, xstop=2048, ystart=0, ystop=256\n",
      "[stdatamodels.util:DEBUG] Environmental \"STRICT_VALIDATION\" cannot be found. Using default value of \"False\".\n",
      "[stdatamodels.util:DEBUG] Environmental \"VALIDATE_ON_ASSIGNMENT\" cannot be found. Using default value of \"True\".\n",
      "[stdatamodels.util:DEBUG] Environmental \"VALIDATE_ON_ASSIGNMENT\" cannot be found. Using default value of \"True\".\n"
     ]
    },
    {
     "name": "stderr",
     "output_type": "stream",
     "text": [
      "2021-09-13 02:27:40,723 - stpipe.Detector1Pipeline.superbias - INFO - Step superbias done\n"
     ]
    },
    {
     "name": "stdout",
     "output_type": "stream",
     "text": [
      "[stpipe.Detector1Pipeline.superbias:INFO] Step superbias done\n"
     ]
    },
    {
     "name": "stderr",
     "output_type": "stream",
     "text": [
      "2021-09-13 02:27:40,832 - stpipe.Detector1Pipeline.refpix - INFO - Step refpix running with args (<RampModel(2, 2, 256, 2048) from modified_jw88888001001_01101_00001_nrca1_uncal.fits>,).\n"
     ]
    },
    {
     "name": "stdout",
     "output_type": "stream",
     "text": [
      "[stpipe.Detector1Pipeline.refpix:INFO] Step refpix running with args (<RampModel(2, 2, 256, 2048) from modified_jw88888001001_01101_00001_nrca1_uncal.fits>,).\n"
     ]
    },
    {
     "name": "stderr",
     "output_type": "stream",
     "text": [
      "2021-09-13 02:27:40,836 - stpipe.Detector1Pipeline.refpix - INFO - Step refpix parameters are: {'pre_hooks': [], 'post_hooks': [], 'output_file': None, 'output_dir': None, 'output_ext': '.fits', 'output_use_model': False, 'output_use_index': True, 'save_results': False, 'skip': False, 'suffix': None, 'search_output_file': True, 'input_dir': '', 'odd_even_columns': True, 'use_side_ref_pixels': True, 'side_smoothing_length': 11, 'side_gain': 1.0, 'odd_even_rows': True}\n"
     ]
    },
    {
     "name": "stdout",
     "output_type": "stream",
     "text": [
      "[stpipe.Detector1Pipeline.refpix:INFO] Step refpix parameters are: {'pre_hooks': [], 'post_hooks': [], 'output_file': None, 'output_dir': None, 'output_ext': '.fits', 'output_use_model': False, 'output_use_index': True, 'save_results': False, 'skip': False, 'suffix': None, 'search_output_file': True, 'input_dir': '', 'odd_even_columns': True, 'use_side_ref_pixels': True, 'side_smoothing_length': 11, 'side_gain': 1.0, 'odd_even_rows': True}\n",
      "[stdatamodels.util:DEBUG] Environmental \"STRICT_VALIDATION\" cannot be found. Using default value of \"False\".\n",
      "[stdatamodels.util:DEBUG] Environmental \"VALIDATE_ON_ASSIGNMENT\" cannot be found. Using default value of \"True\".\n"
     ]
    },
    {
     "name": "stderr",
     "output_type": "stream",
     "text": [
      "2021-09-13 02:27:40,863 - stpipe.Detector1Pipeline.refpix - INFO - use_side_ref_pixels = True\n"
     ]
    },
    {
     "name": "stdout",
     "output_type": "stream",
     "text": [
      "[stpipe.Detector1Pipeline.refpix:INFO] use_side_ref_pixels = True\n"
     ]
    },
    {
     "name": "stderr",
     "output_type": "stream",
     "text": [
      "2021-09-13 02:27:40,865 - stpipe.Detector1Pipeline.refpix - INFO - odd_even_columns = True\n"
     ]
    },
    {
     "name": "stdout",
     "output_type": "stream",
     "text": [
      "[stpipe.Detector1Pipeline.refpix:INFO] odd_even_columns = True\n"
     ]
    },
    {
     "name": "stderr",
     "output_type": "stream",
     "text": [
      "2021-09-13 02:27:40,869 - stpipe.Detector1Pipeline.refpix - INFO - side_smoothing_length = 11\n"
     ]
    },
    {
     "name": "stdout",
     "output_type": "stream",
     "text": [
      "[stpipe.Detector1Pipeline.refpix:INFO] side_smoothing_length = 11\n"
     ]
    },
    {
     "name": "stderr",
     "output_type": "stream",
     "text": [
      "2021-09-13 02:27:40,871 - stpipe.Detector1Pipeline.refpix - INFO - side_gain = 1.000000\n"
     ]
    },
    {
     "name": "stdout",
     "output_type": "stream",
     "text": [
      "[stpipe.Detector1Pipeline.refpix:INFO] side_gain = 1.000000\n"
     ]
    },
    {
     "name": "stderr",
     "output_type": "stream",
     "text": [
      "2021-09-13 02:27:40,873 - stpipe.Detector1Pipeline.refpix - INFO - odd_even_rows = True\n"
     ]
    },
    {
     "name": "stdout",
     "output_type": "stream",
     "text": [
      "[stpipe.Detector1Pipeline.refpix:INFO] odd_even_rows = True\n",
      "[stdatamodels.util:DEBUG] Environmental \"VALIDATE_ON_ASSIGNMENT\" cannot be found. Using default value of \"True\".\n",
      "[jwst.lib.reffile_utils:DEBUG] Input exposure is a subarray readout\n",
      "[jwst.lib.reffile_utils:DEBUG] Input exposure is a subarray readout\n"
     ]
    },
    {
     "name": "stderr",
     "output_type": "stream",
     "text": [
      "2021-09-13 02:27:44,173 - stpipe.Detector1Pipeline.refpix - INFO - Step refpix done\n"
     ]
    },
    {
     "name": "stdout",
     "output_type": "stream",
     "text": [
      "[stpipe.Detector1Pipeline.refpix:INFO] Step refpix done\n"
     ]
    },
    {
     "name": "stderr",
     "output_type": "stream",
     "text": [
      "2021-09-13 02:27:44,288 - stpipe.Detector1Pipeline.linearity - INFO - Step linearity running with args (<RampModel(2, 2, 256, 2048) from modified_jw88888001001_01101_00001_nrca1_uncal.fits>,).\n"
     ]
    },
    {
     "name": "stdout",
     "output_type": "stream",
     "text": [
      "[stpipe.Detector1Pipeline.linearity:INFO] Step linearity running with args (<RampModel(2, 2, 256, 2048) from modified_jw88888001001_01101_00001_nrca1_uncal.fits>,).\n"
     ]
    },
    {
     "name": "stderr",
     "output_type": "stream",
     "text": [
      "2021-09-13 02:27:44,292 - stpipe.Detector1Pipeline.linearity - INFO - Step linearity parameters are: {'pre_hooks': [], 'post_hooks': [], 'output_file': None, 'output_dir': None, 'output_ext': '.fits', 'output_use_model': False, 'output_use_index': True, 'save_results': False, 'skip': False, 'suffix': None, 'search_output_file': True, 'input_dir': ''}\n"
     ]
    },
    {
     "name": "stdout",
     "output_type": "stream",
     "text": [
      "[stpipe.Detector1Pipeline.linearity:INFO] Step linearity parameters are: {'pre_hooks': [], 'post_hooks': [], 'output_file': None, 'output_dir': None, 'output_ext': '.fits', 'output_use_model': False, 'output_use_index': True, 'save_results': False, 'skip': False, 'suffix': None, 'search_output_file': True, 'input_dir': ''}\n",
      "[stdatamodels.util:DEBUG] Environmental \"STRICT_VALIDATION\" cannot be found. Using default value of \"False\".\n",
      "[stdatamodels.util:DEBUG] Environmental \"VALIDATE_ON_ASSIGNMENT\" cannot be found. Using default value of \"True\".\n",
      "[stdatamodels.util:DEBUG] Environmental \"STRICT_VALIDATION\" cannot be found. Using default value of \"False\".\n",
      "[stdatamodels.util:DEBUG] Environmental \"VALIDATE_ON_ASSIGNMENT\" cannot be found. Using default value of \"True\".\n"
     ]
    },
    {
     "name": "stderr",
     "output_type": "stream",
     "text": [
      "2021-09-13 02:27:44,346 - stpipe.Detector1Pipeline.linearity - INFO - Using Linearity reference file /fenrirdata1/kg_data/crds_cache/references/jwst/nircam/jwst_nircam_linearity_0056.fits\n"
     ]
    },
    {
     "name": "stdout",
     "output_type": "stream",
     "text": [
      "[stpipe.Detector1Pipeline.linearity:INFO] Using Linearity reference file /fenrirdata1/kg_data/crds_cache/references/jwst/nircam/jwst_nircam_linearity_0056.fits\n",
      "[stdatamodels.util:DEBUG] Environmental \"STRICT_VALIDATION\" cannot be found. Using default value of \"False\".\n",
      "[stdatamodels.util:DEBUG] Environmental \"VALIDATE_ON_ASSIGNMENT\" cannot be found. Using default value of \"True\".\n",
      "[stdatamodels.util:DEBUG] Environmental \"SKIP_FITS_UPDATE\" cannot be found. Using default value of \"None\".\n",
      "[stdatamodels.fits_support:DEBUG] No ASDF information found. Cannot skip updating from FITS headers.\n"
     ]
    },
    {
     "name": "stderr",
     "output_type": "stream",
     "text": [
      "[stcal.dynamicdq:WARNING] Keyword UAZ_DO_NOT_USE does not correspond to an existing DQ mnemonic, so will be ignored\n",
      "[stcal.dynamicdq:WARNING] Keyword UAZ_NO_LIN_SAMP does not correspond to an existing DQ mnemonic, so will be ignored\n",
      "[stcal.dynamicdq:WARNING] Keyword UAZ_BAD_LIN_FIT does not correspond to an existing DQ mnemonic, so will be ignored\n",
      "[stcal.dynamicdq:WARNING] Keyword UAZ_NO_WELL_SAMP does not correspond to an existing DQ mnemonic, so will be ignored\n",
      "[stcal.dynamicdq:WARNING] Keyword UAZ_MODEL_FIT_FAIL does not correspond to an existing DQ mnemonic, so will be ignored\n",
      "[stcal.dynamicdq:WARNING] Keyword UAZ_WELL_NOT_DEFINED does not correspond to an existing DQ mnemonic, so will be ignored\n",
      "[stcal.dynamicdq:WARNING] Keyword UAZ_MASTER_MASK does not correspond to an existing DQ mnemonic, so will be ignored\n"
     ]
    },
    {
     "name": "stdout",
     "output_type": "stream",
     "text": [
      "[stdatamodels.util:DEBUG] Environmental \"VALIDATE_ON_ASSIGNMENT\" cannot be found. Using default value of \"True\".\n",
      "[jwst.lib.reffile_utils:DEBUG] ref substrt1=1, subsize1=2048, substrt2=1, subsize2=2048\n",
      "[jwst.lib.reffile_utils:DEBUG] sci substrt1=1, subsize1=2048, substrt2=1, subsize2=256\n",
      "[jwst.linearity.linearity:INFO] Extracting linearity subarray to match science data\n",
      "[jwst.lib.reffile_utils:DEBUG] slice xstart=0, xstop=2048, ystart=0, ystop=256\n",
      "[stdatamodels.util:DEBUG] Environmental \"STRICT_VALIDATION\" cannot be found. Using default value of \"False\".\n",
      "[stdatamodels.util:DEBUG] Environmental \"VALIDATE_ON_ASSIGNMENT\" cannot be found. Using default value of \"True\".\n",
      "[jwst.lib.reffile_utils:DEBUG] ref substrt1=1, subsize1=2048, substrt2=1, subsize2=2048\n",
      "[jwst.lib.reffile_utils:DEBUG] sci substrt1=1, subsize1=2048, substrt2=1, subsize2=256\n",
      "[jwst.lib.reffile_utils:DEBUG] slice xstart=0, xstop=2048, ystart=0, ystop=256\n",
      "[stdatamodels.util:DEBUG] Environmental \"STRICT_VALIDATION\" cannot be found. Using default value of \"False\".\n",
      "[stdatamodels.util:DEBUG] Environmental \"VALIDATE_ON_ASSIGNMENT\" cannot be found. Using default value of \"True\".\n",
      "[jwst.linearity.linearity:DEBUG] Unflagged pixels having coefficients set to NaN were detected in the ref file; for those affected pixels no linearity correction will be applied.\n"
     ]
    },
    {
     "name": "stderr",
     "output_type": "stream",
     "text": [
      "2021-09-13 02:27:46,322 - stpipe.Detector1Pipeline.linearity - INFO - Step linearity done\n"
     ]
    },
    {
     "name": "stdout",
     "output_type": "stream",
     "text": [
      "[stpipe.Detector1Pipeline.linearity:INFO] Step linearity done\n"
     ]
    },
    {
     "name": "stderr",
     "output_type": "stream",
     "text": [
      "2021-09-13 02:27:46,468 - stpipe.Detector1Pipeline.persistence - INFO - Step persistence running with args (<RampModel(2, 2, 256, 2048) from modified_jw88888001001_01101_00001_nrca1_uncal.fits>,).\n"
     ]
    },
    {
     "name": "stdout",
     "output_type": "stream",
     "text": [
      "[stpipe.Detector1Pipeline.persistence:INFO] Step persistence running with args (<RampModel(2, 2, 256, 2048) from modified_jw88888001001_01101_00001_nrca1_uncal.fits>,).\n"
     ]
    },
    {
     "name": "stderr",
     "output_type": "stream",
     "text": [
      "2021-09-13 02:27:46,472 - stpipe.Detector1Pipeline.persistence - INFO - Step persistence parameters are: {'pre_hooks': [], 'post_hooks': [], 'output_file': None, 'output_dir': None, 'output_ext': '.fits', 'output_use_model': False, 'output_use_index': True, 'save_results': False, 'skip': True, 'suffix': None, 'search_output_file': True, 'input_dir': '', 'input_trapsfilled': '', 'flag_pers_cutoff': 40.0, 'save_persistence': False, 'save_trapsfilled': True}\n"
     ]
    },
    {
     "name": "stdout",
     "output_type": "stream",
     "text": [
      "[stpipe.Detector1Pipeline.persistence:INFO] Step persistence parameters are: {'pre_hooks': [], 'post_hooks': [], 'output_file': None, 'output_dir': None, 'output_ext': '.fits', 'output_use_model': False, 'output_use_index': True, 'save_results': False, 'skip': True, 'suffix': None, 'search_output_file': True, 'input_dir': '', 'input_trapsfilled': '', 'flag_pers_cutoff': 40.0, 'save_persistence': False, 'save_trapsfilled': True}\n"
     ]
    },
    {
     "name": "stderr",
     "output_type": "stream",
     "text": [
      "2021-09-13 02:27:46,474 - stpipe.Detector1Pipeline.persistence - INFO - Step skipped.\n"
     ]
    },
    {
     "name": "stdout",
     "output_type": "stream",
     "text": [
      "[stpipe.Detector1Pipeline.persistence:INFO] Step skipped.\n"
     ]
    },
    {
     "name": "stderr",
     "output_type": "stream",
     "text": [
      "2021-09-13 02:27:46,479 - stpipe.Detector1Pipeline.persistence - INFO - Step persistence done\n"
     ]
    },
    {
     "name": "stdout",
     "output_type": "stream",
     "text": [
      "[stpipe.Detector1Pipeline.persistence:INFO] Step persistence done\n"
     ]
    },
    {
     "name": "stderr",
     "output_type": "stream",
     "text": [
      "2021-09-13 02:27:46,620 - stpipe.Detector1Pipeline.dark_current - INFO - Step dark_current running with args (<RampModel(2, 2, 256, 2048) from modified_jw88888001001_01101_00001_nrca1_uncal.fits>,).\n"
     ]
    },
    {
     "name": "stdout",
     "output_type": "stream",
     "text": [
      "[stpipe.Detector1Pipeline.dark_current:INFO] Step dark_current running with args (<RampModel(2, 2, 256, 2048) from modified_jw88888001001_01101_00001_nrca1_uncal.fits>,).\n"
     ]
    },
    {
     "name": "stderr",
     "output_type": "stream",
     "text": [
      "2021-09-13 02:27:46,623 - stpipe.Detector1Pipeline.dark_current - INFO - Step dark_current parameters are: {'pre_hooks': [], 'post_hooks': [], 'output_file': None, 'output_dir': '/fenrirdata1/kg_data/pipeline_output/Short_Exposure_Test_NRCA1/', 'output_ext': '.fits', 'output_use_model': False, 'output_use_index': True, 'save_results': False, 'skip': False, 'suffix': None, 'search_output_file': True, 'input_dir': '', 'dark_output': None}\n"
     ]
    },
    {
     "name": "stdout",
     "output_type": "stream",
     "text": [
      "[stpipe.Detector1Pipeline.dark_current:INFO] Step dark_current parameters are: {'pre_hooks': [], 'post_hooks': [], 'output_file': None, 'output_dir': '/fenrirdata1/kg_data/pipeline_output/Short_Exposure_Test_NRCA1/', 'output_ext': '.fits', 'output_use_model': False, 'output_use_index': True, 'save_results': False, 'skip': False, 'suffix': None, 'search_output_file': True, 'input_dir': '', 'dark_output': None}\n",
      "[stdatamodels.util:DEBUG] Environmental \"STRICT_VALIDATION\" cannot be found. Using default value of \"False\".\n",
      "[stdatamodels.util:DEBUG] Environmental \"VALIDATE_ON_ASSIGNMENT\" cannot be found. Using default value of \"True\".\n",
      "[stdatamodels.util:DEBUG] Environmental \"STRICT_VALIDATION\" cannot be found. Using default value of \"False\".\n",
      "[stdatamodels.util:DEBUG] Environmental \"VALIDATE_ON_ASSIGNMENT\" cannot be found. Using default value of \"True\".\n"
     ]
    },
    {
     "name": "stderr",
     "output_type": "stream",
     "text": [
      "2021-09-13 02:27:46,676 - stpipe.Detector1Pipeline.dark_current - INFO - Using DARK reference file /fenrirdata1/kg_data/crds_cache/references/jwst/nircam/jwst_nircam_dark_0213.fits\n"
     ]
    },
    {
     "name": "stdout",
     "output_type": "stream",
     "text": [
      "[stpipe.Detector1Pipeline.dark_current:INFO] Using DARK reference file /fenrirdata1/kg_data/crds_cache/references/jwst/nircam/jwst_nircam_dark_0213.fits\n",
      "[stdatamodels.util:DEBUG] Environmental \"STRICT_VALIDATION\" cannot be found. Using default value of \"False\".\n",
      "[stdatamodels.util:DEBUG] Environmental \"VALIDATE_ON_ASSIGNMENT\" cannot be found. Using default value of \"True\".\n",
      "[stdatamodels.util:DEBUG] Environmental \"SKIP_FITS_UPDATE\" cannot be found. Using default value of \"None\".\n",
      "[stdatamodels.fits_support:DEBUG] No ASDF information found. Cannot skip updating from FITS headers.\n"
     ]
    },
    {
     "name": "stderr",
     "output_type": "stream",
     "text": [
      "[stcal.dynamicdq:WARNING] Keyword HIGH_NOISE does not correspond to an existing DQ mnemonic, so will be ignored\n",
      "[stcal.dynamicdq:WARNING] Keyword UNSTABLE_NOISE does not correspond to an existing DQ mnemonic, so will be ignored\n"
     ]
    },
    {
     "name": "stdout",
     "output_type": "stream",
     "text": [
      "[jwst.dark_current.dark_sub:INFO] Science data nints=2, ngroups=2, nframes=1, groupgap=0\n",
      "[jwst.dark_current.dark_sub:INFO] Dark data nints=1, ngroups=20, nframes=1, groupgap=0\n",
      "[jwst.dark_current.dark_sub:DEBUG] subtract_dark: nints=2, ngroups=2, size=256,2048\n",
      "[stdatamodels.util:DEBUG] Environmental \"VALIDATE_ON_ASSIGNMENT\" cannot be found. Using default value of \"True\".\n"
     ]
    },
    {
     "name": "stderr",
     "output_type": "stream",
     "text": [
      "2021-09-13 02:27:47,208 - stpipe.Detector1Pipeline.dark_current - INFO - Step dark_current done\n"
     ]
    },
    {
     "name": "stdout",
     "output_type": "stream",
     "text": [
      "[stpipe.Detector1Pipeline.dark_current:INFO] Step dark_current done\n"
     ]
    },
    {
     "name": "stderr",
     "output_type": "stream",
     "text": [
      "2021-09-13 02:27:47,353 - stpipe.Detector1Pipeline.jump - INFO - Step jump running with args (<RampModel(2, 2, 256, 2048) from modified_jw88888001001_01101_00001_nrca1_uncal.fits>,).\n"
     ]
    },
    {
     "name": "stdout",
     "output_type": "stream",
     "text": [
      "[stpipe.Detector1Pipeline.jump:INFO] Step jump running with args (<RampModel(2, 2, 256, 2048) from modified_jw88888001001_01101_00001_nrca1_uncal.fits>,).\n"
     ]
    },
    {
     "name": "stderr",
     "output_type": "stream",
     "text": [
      "2021-09-13 02:27:47,357 - stpipe.Detector1Pipeline.jump - INFO - Step jump parameters are: {'pre_hooks': [], 'post_hooks': [], 'output_file': None, 'output_dir': None, 'output_ext': '.fits', 'output_use_model': False, 'output_use_index': True, 'save_results': False, 'skip': False, 'suffix': None, 'search_output_file': True, 'input_dir': '', 'rejection_threshold': 9, 'three_group_rejection_threshold': 6.0, 'four_group_rejection_threshold': 5.0, 'maximum_cores': 'none', 'flag_4_neighbors': True, 'max_jump_to_flag_neighbors': 1000.0, 'min_jump_to_flag_neighbors': 10.0}\n"
     ]
    },
    {
     "name": "stdout",
     "output_type": "stream",
     "text": [
      "[stpipe.Detector1Pipeline.jump:INFO] Step jump parameters are: {'pre_hooks': [], 'post_hooks': [], 'output_file': None, 'output_dir': None, 'output_ext': '.fits', 'output_use_model': False, 'output_use_index': True, 'save_results': False, 'skip': False, 'suffix': None, 'search_output_file': True, 'input_dir': '', 'rejection_threshold': 9, 'three_group_rejection_threshold': 6.0, 'four_group_rejection_threshold': 5.0, 'maximum_cores': 'none', 'flag_4_neighbors': True, 'max_jump_to_flag_neighbors': 1000.0, 'min_jump_to_flag_neighbors': 10.0}\n",
      "[stdatamodels.util:DEBUG] Environmental \"STRICT_VALIDATION\" cannot be found. Using default value of \"False\".\n",
      "[stdatamodels.util:DEBUG] Environmental \"VALIDATE_ON_ASSIGNMENT\" cannot be found. Using default value of \"True\".\n"
     ]
    },
    {
     "name": "stderr",
     "output_type": "stream",
     "text": [
      "2021-09-13 02:27:47,384 - stpipe.Detector1Pipeline.jump - WARNING - Cannot apply jump detection when NGROUPS<=2;\n",
      "[stpipe.Detector1Pipeline.jump:WARNING] Cannot apply jump detection when NGROUPS<=2;\n",
      "2021-09-13 02:27:47,386 - stpipe.Detector1Pipeline.jump - WARNING - Jump step will be skipped\n",
      "[stpipe.Detector1Pipeline.jump:WARNING] Jump step will be skipped\n"
     ]
    },
    {
     "name": "stdout",
     "output_type": "stream",
     "text": [
      "[stdatamodels.util:DEBUG] Environmental \"VALIDATE_ON_ASSIGNMENT\" cannot be found. Using default value of \"True\".\n"
     ]
    },
    {
     "name": "stderr",
     "output_type": "stream",
     "text": [
      "2021-09-13 02:27:47,523 - stpipe.Detector1Pipeline.jump - INFO - Step jump done\n"
     ]
    },
    {
     "name": "stdout",
     "output_type": "stream",
     "text": [
      "[stpipe.Detector1Pipeline.jump:INFO] Step jump done\n"
     ]
    },
    {
     "name": "stderr",
     "output_type": "stream",
     "text": [
      "2021-09-13 02:27:47,624 - stpipe.Detector1Pipeline.ramp_fit - INFO - Step ramp_fit running with args (<RampModel(2, 2, 256, 2048) from modified_jw88888001001_01101_00001_nrca1_uncal.fits>,).\n"
     ]
    },
    {
     "name": "stdout",
     "output_type": "stream",
     "text": [
      "[stpipe.Detector1Pipeline.ramp_fit:INFO] Step ramp_fit running with args (<RampModel(2, 2, 256, 2048) from modified_jw88888001001_01101_00001_nrca1_uncal.fits>,).\n"
     ]
    },
    {
     "name": "stderr",
     "output_type": "stream",
     "text": [
      "2021-09-13 02:27:47,629 - stpipe.Detector1Pipeline.ramp_fit - INFO - Step ramp_fit parameters are: {'pre_hooks': [], 'post_hooks': [], 'output_file': None, 'output_dir': '/fenrirdata1/kg_data/pipeline_output/Short_Exposure_Test_NRCA1/', 'output_ext': '.fits', 'output_use_model': False, 'output_use_index': True, 'save_results': False, 'skip': False, 'suffix': None, 'search_output_file': True, 'input_dir': '', 'int_name': '', 'save_opt': False, 'opt_name': '', 'maximum_cores': 'none'}\n"
     ]
    },
    {
     "name": "stdout",
     "output_type": "stream",
     "text": [
      "[stpipe.Detector1Pipeline.ramp_fit:INFO] Step ramp_fit parameters are: {'pre_hooks': [], 'post_hooks': [], 'output_file': None, 'output_dir': '/fenrirdata1/kg_data/pipeline_output/Short_Exposure_Test_NRCA1/', 'output_ext': '.fits', 'output_use_model': False, 'output_use_index': True, 'save_results': False, 'skip': False, 'suffix': None, 'search_output_file': True, 'input_dir': '', 'int_name': '', 'save_opt': False, 'opt_name': '', 'maximum_cores': 'none'}\n",
      "[stdatamodels.util:DEBUG] Environmental \"STRICT_VALIDATION\" cannot be found. Using default value of \"False\".\n",
      "[stdatamodels.util:DEBUG] Environmental \"VALIDATE_ON_ASSIGNMENT\" cannot be found. Using default value of \"True\".\n",
      "[stdatamodels.util:DEBUG] Environmental \"STRICT_VALIDATION\" cannot be found. Using default value of \"False\".\n",
      "[stdatamodels.util:DEBUG] Environmental \"VALIDATE_ON_ASSIGNMENT\" cannot be found. Using default value of \"True\".\n",
      "[stdatamodels.util:DEBUG] Environmental \"STRICT_VALIDATION\" cannot be found. Using default value of \"False\".\n",
      "[stdatamodels.util:DEBUG] Environmental \"VALIDATE_ON_ASSIGNMENT\" cannot be found. Using default value of \"True\".\n",
      "[jwst.ramp_fitting.ramp_fit_step:INFO] Using READNOISE reference file: /fenrirdata1/kg_data/crds_cache/references/jwst/nircam/jwst_nircam_readnoise_0025.fits\n",
      "[stdatamodels.util:DEBUG] Environmental \"STRICT_VALIDATION\" cannot be found. Using default value of \"False\".\n",
      "[stdatamodels.util:DEBUG] Environmental \"VALIDATE_ON_ASSIGNMENT\" cannot be found. Using default value of \"True\".\n",
      "[stdatamodels.util:DEBUG] Environmental \"SKIP_FITS_UPDATE\" cannot be found. Using default value of \"None\".\n",
      "[stdatamodels.fits_support:DEBUG] No ASDF information found. Cannot skip updating from FITS headers.\n",
      "[jwst.ramp_fitting.ramp_fit_step:INFO] Using GAIN reference file: /fenrirdata1/kg_data/crds_cache/references/jwst/nircam/jwst_nircam_gain_0050.fits\n",
      "[stdatamodels.util:DEBUG] Environmental \"STRICT_VALIDATION\" cannot be found. Using default value of \"False\".\n",
      "[stdatamodels.util:DEBUG] Environmental \"VALIDATE_ON_ASSIGNMENT\" cannot be found. Using default value of \"True\".\n",
      "[stdatamodels.util:DEBUG] Environmental \"SKIP_FITS_UPDATE\" cannot be found. Using default value of \"None\".\n",
      "[jwst.ramp_fitting.ramp_fit_step:INFO] Using algorithm = ols\n",
      "[jwst.ramp_fitting.ramp_fit_step:INFO] Using weighting = optimal\n",
      "[jwst.lib.reffile_utils:DEBUG] ref substrt1=1, subsize1=2048, substrt2=1, subsize2=2048\n",
      "[jwst.lib.reffile_utils:DEBUG] sci substrt1=1, subsize1=2048, substrt2=1, subsize2=256\n",
      "[jwst.ramp_fitting.utils:INFO] Extracting gain subarray to match science data\n",
      "[jwst.lib.reffile_utils:DEBUG] science xstart=1, xsize=2048, ystart=1, ysize=256\n",
      "[jwst.lib.reffile_utils:DEBUG] reference xstart=1, xsize=2048, ystart=1, ysize=2048\n",
      "[jwst.lib.reffile_utils:DEBUG] slice xstart=0, xstop=2048, ystart=0, ystop=256\n",
      "[jwst.lib.reffile_utils:DEBUG] ref substrt1=1, subsize1=2048, substrt2=1, subsize2=2048\n",
      "[jwst.lib.reffile_utils:DEBUG] sci substrt1=1, subsize1=2048, substrt2=1, subsize2=256\n",
      "[jwst.ramp_fitting.utils:INFO] Extracting readnoise subarray to match science data\n",
      "[jwst.lib.reffile_utils:DEBUG] science xstart=1, xsize=2048, ystart=1, ysize=256\n",
      "[jwst.lib.reffile_utils:DEBUG] reference xstart=1, xsize=2048, ystart=1, ysize=2048\n",
      "[jwst.lib.reffile_utils:DEBUG] slice xstart=0, xstop=2048, ystart=0, ystop=256\n",
      "[jwst.ramp_fitting.ols_fit:DEBUG] Max segments=1\n",
      "[jwst.ramp_fitting.ols_fit:DEBUG] Missing keyword DRPFRMS1, so setting to default value of 0\n",
      "[stdatamodels.util:DEBUG] Environmental \"STRICT_VALIDATION\" cannot be found. Using default value of \"False\".\n",
      "[stdatamodels.util:DEBUG] Environmental \"VALIDATE_ON_ASSIGNMENT\" cannot be found. Using default value of \"True\".\n",
      "[jwst.ramp_fitting.utils:DEBUG] The number of pixels having insufficient data\n",
      "[jwst.ramp_fitting.utils:DEBUG] due to excessive CRs or saturation 10272:\n",
      "[jwst.ramp_fitting.utils:DEBUG] Count rates - min, mean, max, std: -1496.306641, 4.552394, 6126.110352, 33.887093\n",
      "[jwst.ramp_fitting.ols_fit:DEBUG] Instrument: NIRCAM\n",
      "[jwst.ramp_fitting.ols_fit:DEBUG] Number of pixels in 2D array: 524288\n",
      "[jwst.ramp_fitting.ols_fit:DEBUG] Shape of 2D image: (256, 2048)\n",
      "[jwst.ramp_fitting.ols_fit:DEBUG] Shape of data cube: (2, 256, 2048)\n",
      "[jwst.ramp_fitting.ols_fit:DEBUG] Buffer size (bytes): 307200000\n",
      "[jwst.ramp_fitting.ols_fit:DEBUG] Number of rows per buffer: 256\n",
      "[jwst.ramp_fitting.ols_fit:INFO] Number of groups per integration: 2\n",
      "[jwst.ramp_fitting.ols_fit:INFO] Number of integrations: 2\n",
      "[jwst.ramp_fitting.ols_fit:DEBUG] The execution time in seconds: 2.107414\n",
      "[stdatamodels.util:DEBUG] Environmental \"STRICT_VALIDATION\" cannot be found. Using default value of \"False\".\n",
      "[stdatamodels.util:DEBUG] Environmental \"VALIDATE_ON_ASSIGNMENT\" cannot be found. Using default value of \"True\".\n",
      "[stdatamodels.util:DEBUG] Environmental \"STRICT_VALIDATION\" cannot be found. Using default value of \"False\".\n",
      "[stdatamodels.util:DEBUG] Environmental \"VALIDATE_ON_ASSIGNMENT\" cannot be found. Using default value of \"True\".\n",
      "[stdatamodels.util:DEBUG] Environmental \"STRICT_VALIDATION\" cannot be found. Using default value of \"False\".\n",
      "[stdatamodels.util:DEBUG] Environmental \"VALIDATE_ON_ASSIGNMENT\" cannot be found. Using default value of \"True\".\n"
     ]
    },
    {
     "name": "stderr",
     "output_type": "stream",
     "text": [
      "2021-09-13 02:27:50,353 - stpipe.Detector1Pipeline.ramp_fit - INFO - Step ramp_fit done\n"
     ]
    },
    {
     "name": "stdout",
     "output_type": "stream",
     "text": [
      "[stpipe.Detector1Pipeline.ramp_fit:INFO] Step ramp_fit done\n"
     ]
    },
    {
     "name": "stderr",
     "output_type": "stream",
     "text": [
      "2021-09-13 02:27:50,592 - stpipe.Detector1Pipeline.gain_scale - INFO - Step gain_scale running with args (<ImageModel(256, 2048) from modified_jw88888001001_01101_00001_nrca1_uncal.fits>,).\n"
     ]
    },
    {
     "name": "stdout",
     "output_type": "stream",
     "text": [
      "[stpipe.Detector1Pipeline.gain_scale:INFO] Step gain_scale running with args (<ImageModel(256, 2048) from modified_jw88888001001_01101_00001_nrca1_uncal.fits>,).\n"
     ]
    },
    {
     "name": "stderr",
     "output_type": "stream",
     "text": [
      "2021-09-13 02:27:50,596 - stpipe.Detector1Pipeline.gain_scale - INFO - Step gain_scale parameters are: {'pre_hooks': [], 'post_hooks': [], 'output_file': None, 'output_dir': None, 'output_ext': '.fits', 'output_use_model': False, 'output_use_index': True, 'save_results': False, 'skip': False, 'suffix': 'gain_scale', 'search_output_file': True, 'input_dir': ''}\n"
     ]
    },
    {
     "name": "stdout",
     "output_type": "stream",
     "text": [
      "[stpipe.Detector1Pipeline.gain_scale:INFO] Step gain_scale parameters are: {'pre_hooks': [], 'post_hooks': [], 'output_file': None, 'output_dir': None, 'output_ext': '.fits', 'output_use_model': False, 'output_use_index': True, 'save_results': False, 'skip': False, 'suffix': 'gain_scale', 'search_output_file': True, 'input_dir': ''}\n",
      "[stdatamodels.util:DEBUG] Environmental \"STRICT_VALIDATION\" cannot be found. Using default value of \"False\".\n",
      "[stdatamodels.util:DEBUG] Environmental \"VALIDATE_ON_ASSIGNMENT\" cannot be found. Using default value of \"True\".\n",
      "[stdatamodels.util:DEBUG] Environmental \"STRICT_VALIDATION\" cannot be found. Using default value of \"False\".\n",
      "[stdatamodels.util:DEBUG] Environmental \"VALIDATE_ON_ASSIGNMENT\" cannot be found. Using default value of \"True\".\n",
      "[stdatamodels.util:DEBUG] Environmental \"STRICT_VALIDATION\" cannot be found. Using default value of \"False\".\n",
      "[stdatamodels.util:DEBUG] Environmental \"VALIDATE_ON_ASSIGNMENT\" cannot be found. Using default value of \"True\".\n",
      "[stdatamodels.util:DEBUG] Environmental \"SKIP_FITS_UPDATE\" cannot be found. Using default value of \"None\".\n"
     ]
    },
    {
     "name": "stderr",
     "output_type": "stream",
     "text": [
      "2021-09-13 02:27:50,683 - stpipe.Detector1Pipeline.gain_scale - INFO - GAINFACT not found in gain reference file\n"
     ]
    },
    {
     "name": "stdout",
     "output_type": "stream",
     "text": [
      "[stpipe.Detector1Pipeline.gain_scale:INFO] GAINFACT not found in gain reference file\n"
     ]
    },
    {
     "name": "stderr",
     "output_type": "stream",
     "text": [
      "2021-09-13 02:27:50,685 - stpipe.Detector1Pipeline.gain_scale - INFO - Step will be skipped\n"
     ]
    },
    {
     "name": "stdout",
     "output_type": "stream",
     "text": [
      "[stpipe.Detector1Pipeline.gain_scale:INFO] Step will be skipped\n"
     ]
    },
    {
     "name": "stderr",
     "output_type": "stream",
     "text": [
      "2021-09-13 02:27:50,689 - stpipe.Detector1Pipeline.gain_scale - INFO - Step gain_scale done\n"
     ]
    },
    {
     "name": "stdout",
     "output_type": "stream",
     "text": [
      "[stpipe.Detector1Pipeline.gain_scale:INFO] Step gain_scale done\n"
     ]
    },
    {
     "name": "stderr",
     "output_type": "stream",
     "text": [
      "2021-09-13 02:27:50,793 - stpipe.Detector1Pipeline.gain_scale - INFO - Step gain_scale running with args (<CubeModel(2, 256, 2048) from modified_jw88888001001_01101_00001_nrca1_uncal.fits>,).\n"
     ]
    },
    {
     "name": "stdout",
     "output_type": "stream",
     "text": [
      "[stpipe.Detector1Pipeline.gain_scale:INFO] Step gain_scale running with args (<CubeModel(2, 256, 2048) from modified_jw88888001001_01101_00001_nrca1_uncal.fits>,).\n"
     ]
    },
    {
     "name": "stderr",
     "output_type": "stream",
     "text": [
      "2021-09-13 02:27:50,797 - stpipe.Detector1Pipeline.gain_scale - INFO - Step gain_scale parameters are: {'pre_hooks': [], 'post_hooks': [], 'output_file': None, 'output_dir': None, 'output_ext': '.fits', 'output_use_model': False, 'output_use_index': True, 'save_results': False, 'skip': False, 'suffix': 'gain_scaleints', 'search_output_file': True, 'input_dir': ''}\n"
     ]
    },
    {
     "name": "stdout",
     "output_type": "stream",
     "text": [
      "[stpipe.Detector1Pipeline.gain_scale:INFO] Step gain_scale parameters are: {'pre_hooks': [], 'post_hooks': [], 'output_file': None, 'output_dir': None, 'output_ext': '.fits', 'output_use_model': False, 'output_use_index': True, 'save_results': False, 'skip': False, 'suffix': 'gain_scaleints', 'search_output_file': True, 'input_dir': ''}\n",
      "[stdatamodels.util:DEBUG] Environmental \"STRICT_VALIDATION\" cannot be found. Using default value of \"False\".\n",
      "[stdatamodels.util:DEBUG] Environmental \"VALIDATE_ON_ASSIGNMENT\" cannot be found. Using default value of \"True\".\n",
      "[stdatamodels.util:DEBUG] Environmental \"STRICT_VALIDATION\" cannot be found. Using default value of \"False\".\n",
      "[stdatamodels.util:DEBUG] Environmental \"VALIDATE_ON_ASSIGNMENT\" cannot be found. Using default value of \"True\".\n",
      "[stdatamodels.util:DEBUG] Environmental \"STRICT_VALIDATION\" cannot be found. Using default value of \"False\".\n",
      "[stdatamodels.util:DEBUG] Environmental \"VALIDATE_ON_ASSIGNMENT\" cannot be found. Using default value of \"True\".\n",
      "[stdatamodels.util:DEBUG] Environmental \"SKIP_FITS_UPDATE\" cannot be found. Using default value of \"None\".\n"
     ]
    },
    {
     "name": "stderr",
     "output_type": "stream",
     "text": [
      "2021-09-13 02:27:50,886 - stpipe.Detector1Pipeline.gain_scale - INFO - GAINFACT not found in gain reference file\n"
     ]
    },
    {
     "name": "stdout",
     "output_type": "stream",
     "text": [
      "[stpipe.Detector1Pipeline.gain_scale:INFO] GAINFACT not found in gain reference file\n"
     ]
    },
    {
     "name": "stderr",
     "output_type": "stream",
     "text": [
      "2021-09-13 02:27:50,889 - stpipe.Detector1Pipeline.gain_scale - INFO - Step will be skipped\n"
     ]
    },
    {
     "name": "stdout",
     "output_type": "stream",
     "text": [
      "[stpipe.Detector1Pipeline.gain_scale:INFO] Step will be skipped\n"
     ]
    },
    {
     "name": "stderr",
     "output_type": "stream",
     "text": [
      "2021-09-13 02:27:50,893 - stpipe.Detector1Pipeline.gain_scale - INFO - Step gain_scale done\n"
     ]
    },
    {
     "name": "stdout",
     "output_type": "stream",
     "text": [
      "[stpipe.Detector1Pipeline.gain_scale:INFO] Step gain_scale done\n"
     ]
    },
    {
     "name": "stderr",
     "output_type": "stream",
     "text": [
      "2021-09-13 02:27:51,041 - stpipe.Detector1Pipeline - INFO - Saved model in /fenrirdata1/kg_data/pipeline_output/Short_Exposure_Test_NRCA1/modified_jw88888001001_01101_00001_nrca1_rateints.fits\n"
     ]
    },
    {
     "name": "stdout",
     "output_type": "stream",
     "text": [
      "[stpipe.Detector1Pipeline:INFO] Saved model in /fenrirdata1/kg_data/pipeline_output/Short_Exposure_Test_NRCA1/modified_jw88888001001_01101_00001_nrca1_rateints.fits\n",
      "[      root:INFO] ... ending calwebb_detector1\n"
     ]
    },
    {
     "name": "stderr",
     "output_type": "stream",
     "text": [
      "2021-09-13 02:27:51,165 - stpipe.Detector1Pipeline - INFO - Saved model in /fenrirdata1/kg_data/pipeline_output/Short_Exposure_Test_NRCA1/modified_jw88888001001_01101_00001_nrca1_rate.fits\n"
     ]
    },
    {
     "name": "stdout",
     "output_type": "stream",
     "text": [
      "[stpipe.Detector1Pipeline:INFO] Saved model in /fenrirdata1/kg_data/pipeline_output/Short_Exposure_Test_NRCA1/modified_jw88888001001_01101_00001_nrca1_rate.fits\n"
     ]
    },
    {
     "name": "stderr",
     "output_type": "stream",
     "text": [
      "2021-09-13 02:27:51,168 - stpipe.Detector1Pipeline - INFO - Step Detector1Pipeline done\n"
     ]
    },
    {
     "name": "stdout",
     "output_type": "stream",
     "text": [
      "[stpipe.Detector1Pipeline:INFO] Step Detector1Pipeline done\n"
     ]
    }
   ],
   "source": [
    "filename_stage1='modified_jw88888001001_01101_00001_nrca1_uncal.fits' #Use the modified uncalibrated file created above\n",
    "\n",
    "# Instantiate the class. Do not provide a configuration file.\n",
    "pipeline_stage1 = Detector1Pipeline()\n",
    "\n",
    "# Manually set any desired non-default parameter values\n",
    "\n",
    "# Default is to skip the persistence and IPC correction\n",
    "# Make that explicit here\n",
    "pipeline_stage1.persistence.skip = True\n",
    "pipeline_stage1.ipc.skip = True\n",
    "\n",
    "pipeline_stage1.refpix.skip = False #Make sure to skip steps appropriate if using an alternate ref pix correction method\n",
    "pipeline_stage1.superbias.skip = False \n",
    "\n",
    "# The default value for CR flagging is 3 or 4 sigma\n",
    "# which tends to be too aggressive and flags noise.\n",
    "# Set it to something more reasonable\n",
    "pipeline_stage1.jump.rejection_threshold = 9\n",
    "\n",
    "# Specify that you want results saved to a file\n",
    "pipeline_stage1.save_results = True\n",
    "pipeline_stage1.output_dir = '/fenrirdata1/kg_data/pipeline_output/Short_Exposure_Test_NRCA1/'\n",
    "\n",
    "# Execute the pipeline using the run method\n",
    "result_stage1 = pipeline_stage1.run(filename_stage1)"
   ]
  },
  {
   "cell_type": "code",
   "execution_count": 4,
   "id": "hollywood-upper",
   "metadata": {
    "scrolled": true
   },
   "outputs": [
    {
     "name": "stdout",
     "output_type": "stream",
     "text": [
      "Filename: /fenrirdata1/kg_data/pipeline_output/Short_Exposure_Test_NRCA1/modified_jw88888001001_01101_00001_nrca1_rateints.fits\n",
      "No.    Name      Ver    Type      Cards   Dimensions   Format\n",
      "  0  PRIMARY       1 PrimaryHDU     152   ()      \n",
      "  1  SCI           1 ImageHDU        48   (2048, 256, 2)   float32   \n",
      "  2  ERR           1 ImageHDU        11   (2048, 256, 2)   float32   \n",
      "  3  DQ            1 ImageHDU        12   (2048, 256, 2)   int32 (rescales to uint32)   \n",
      "  4  INT_TIMES     1 BinTableHDU     24   2R x 7C   [J, D, D, D, D, D, D]   \n",
      "  5  VAR_POISSON    1 ImageHDU        10   (2048, 256, 2)   float32   \n",
      "  6  VAR_RNOISE    1 ImageHDU        10   (2048, 256, 2)   float32   \n",
      "  7  ASDF          1 BinTableHDU     11   1R x 1C   [4778B]   \n"
     ]
    }
   ],
   "source": [
    "#Check that the results exist needed for next stage\n",
    "HDUList_stage1= fits.open('/fenrirdata1/kg_data/pipeline_output/Short_Exposure_Test_NRCA1/modified_jw88888001001_01101_00001_nrca1_rateints.fits')\n",
    "HDUList_stage1.info()"
   ]
  },
  {
   "cell_type": "markdown",
   "id": "revised-airplane",
   "metadata": {},
   "source": [
    "## Association Files\n",
    "Associations are basically just lists of things, mostly exposures, that are somehow related. The pipeline consists of three stages: Stage 1, Stage 2, and Stage 3 processing. Stage 2 processing is the calibration necessary to remove instrumental effects from the data. The resulting files contain flux and spatially calibrated data, called Stage 2b data. The information is still in individual exposures. To be truly useful, the exposures need to be combined and, in the case of multi-object spectrometry, separated, into data that is source-oriented. This type of calibration is called Stage 3 processing."
   ]
  },
  {
   "cell_type": "code",
   "execution_count": 5,
   "id": "confirmed-semester",
   "metadata": {},
   "outputs": [],
   "source": [
    "asn_dir = '/fenrirdata1/kg_data/pipeline_output/Short_Exposure_Test_NRCA1/'\n",
    "level2_asn = (os.path.join(asn_dir, 'level2_asn.json'))\n",
    "asn_stage2 = asn_from_list(['/fenrirdata1/kg_data/pipeline_output/Short_Exposure_Test_NRCA1/modified_jw88888001001_01101_00001_nrca1_rateints.fits'],rule=DMSLevel2bBase)\n",
    "with open(level2_asn, 'w') as fh:\n",
    "   fh.write(asn_stage2.dump()[1])"
   ]
  },
  {
   "cell_type": "markdown",
   "id": "adjusted-brush",
   "metadata": {},
   "source": [
    "# Stage 2\n",
    "### Processes JWST imaging-mode slope data from Level-2a to Level-2b.\n",
    "Stage 2 processing consists of additional instrument-level and observing-mode corrections and calibrations to produce fully calibrated exposures. The details differ for imaging and spectroscopic exposures, and there are some corrections that are unique to certain instruments or modes. \n",
    "\n",
    "#### Image2Pipeline:\n",
    "Imaging processing applies additional instrumental corrections and calibrations that result in a fully calibrated individual exposure. Imaging TSO data are run through this pipeline. The steps are very similar to those in Spec2Pipeline. WCS information is added, flat fielding and flux calibration are performed, and astrometric distortion is removed from the images."
   ]
  },
  {
   "cell_type": "code",
   "execution_count": 6,
   "id": "metric-twins",
   "metadata": {
    "scrolled": true
   },
   "outputs": [
    {
     "name": "stderr",
     "output_type": "stream",
     "text": [
      "2021-09-13 02:29:35,713 - stpipe.Image2Pipeline - INFO - Image2Pipeline instance created.\n"
     ]
    },
    {
     "name": "stdout",
     "output_type": "stream",
     "text": [
      "[stpipe.Image2Pipeline:INFO] Image2Pipeline instance created.\n"
     ]
    },
    {
     "name": "stderr",
     "output_type": "stream",
     "text": [
      "2021-09-13 02:29:35,720 - stpipe.Image2Pipeline.bkg_subtract - INFO - BackgroundStep instance created.\n"
     ]
    },
    {
     "name": "stdout",
     "output_type": "stream",
     "text": [
      "[stpipe.Image2Pipeline.bkg_subtract:INFO] BackgroundStep instance created.\n"
     ]
    },
    {
     "name": "stderr",
     "output_type": "stream",
     "text": [
      "2021-09-13 02:29:35,728 - stpipe.Image2Pipeline.assign_wcs - INFO - AssignWcsStep instance created.\n"
     ]
    },
    {
     "name": "stdout",
     "output_type": "stream",
     "text": [
      "[stpipe.Image2Pipeline.assign_wcs:INFO] AssignWcsStep instance created.\n"
     ]
    },
    {
     "name": "stderr",
     "output_type": "stream",
     "text": [
      "2021-09-13 02:29:35,735 - stpipe.Image2Pipeline.flat_field - INFO - FlatFieldStep instance created.\n"
     ]
    },
    {
     "name": "stdout",
     "output_type": "stream",
     "text": [
      "[stpipe.Image2Pipeline.flat_field:INFO] FlatFieldStep instance created.\n"
     ]
    },
    {
     "name": "stderr",
     "output_type": "stream",
     "text": [
      "2021-09-13 02:29:35,744 - stpipe.Image2Pipeline.photom - INFO - PhotomStep instance created.\n"
     ]
    },
    {
     "name": "stdout",
     "output_type": "stream",
     "text": [
      "[stpipe.Image2Pipeline.photom:INFO] PhotomStep instance created.\n"
     ]
    },
    {
     "name": "stderr",
     "output_type": "stream",
     "text": [
      "2021-09-13 02:29:35,750 - stpipe.Image2Pipeline.resample - INFO - ResampleStep instance created.\n"
     ]
    },
    {
     "name": "stdout",
     "output_type": "stream",
     "text": [
      "[stpipe.Image2Pipeline.resample:INFO] ResampleStep instance created.\n"
     ]
    },
    {
     "name": "stderr",
     "output_type": "stream",
     "text": [
      "2021-09-13 02:29:35,917 - stpipe.Image2Pipeline - INFO - Step Image2Pipeline running with args ('/fenrirdata1/kg_data/pipeline_output/Short_Exposure_Test_NRCA1/level2_asn.json',).\n"
     ]
    },
    {
     "name": "stdout",
     "output_type": "stream",
     "text": [
      "[stpipe.Image2Pipeline:INFO] Step Image2Pipeline running with args ('/fenrirdata1/kg_data/pipeline_output/Short_Exposure_Test_NRCA1/level2_asn.json',).\n"
     ]
    },
    {
     "name": "stderr",
     "output_type": "stream",
     "text": [
      "2021-09-13 02:29:35,931 - stpipe.Image2Pipeline - INFO - Step Image2Pipeline parameters are: {'pre_hooks': [], 'post_hooks': [], 'output_file': None, 'output_dir': '/fenrirdata1/kg_data/pipeline_output/Short_Exposure_Test_NRCA1/', 'output_ext': '.fits', 'output_use_model': False, 'output_use_index': True, 'save_results': True, 'skip': False, 'suffix': None, 'search_output_file': True, 'input_dir': '', 'save_bsub': False, 'steps': {'bkg_subtract': {'pre_hooks': [], 'post_hooks': [], 'output_file': None, 'output_dir': None, 'output_ext': '.fits', 'output_use_model': False, 'output_use_index': True, 'save_results': False, 'skip': False, 'suffix': None, 'search_output_file': True, 'input_dir': '', 'save_combined_background': False, 'sigma': 3.0, 'maxiters': None}, 'assign_wcs': {'pre_hooks': [], 'post_hooks': [], 'output_file': None, 'output_dir': None, 'output_ext': '.fits', 'output_use_model': False, 'output_use_index': True, 'save_results': False, 'skip': False, 'suffix': None, 'search_output_file': True, 'input_dir': '', 'sip_approx': True, 'sip_max_pix_error': 0.25, 'sip_degree': None, 'sip_max_inv_pix_error': 0.25, 'sip_inv_degree': None, 'sip_npoints': 32, 'slit_y_low': -0.55, 'slit_y_high': 0.55}, 'flat_field': {'pre_hooks': [], 'post_hooks': [], 'output_file': None, 'output_dir': None, 'output_ext': '.fits', 'output_use_model': False, 'output_use_index': True, 'save_results': False, 'skip': False, 'suffix': None, 'search_output_file': True, 'input_dir': '', 'save_interpolated_flat': False, 'user_supplied_flat': None, 'inverse': False}, 'photom': {'pre_hooks': [], 'post_hooks': [], 'output_file': None, 'output_dir': None, 'output_ext': '.fits', 'output_use_model': False, 'output_use_index': True, 'save_results': False, 'skip': False, 'suffix': None, 'search_output_file': True, 'input_dir': '', 'inverse': False, 'source_type': None}, 'resample': {'pre_hooks': [], 'post_hooks': [], 'output_file': None, 'output_dir': None, 'output_ext': '.fits', 'output_use_model': False, 'output_use_index': True, 'save_results': False, 'skip': False, 'suffix': None, 'search_output_file': True, 'input_dir': '', 'pixfrac': 1.0, 'kernel': 'square', 'fillval': 'INDEF', 'weight_type': 'ivm', 'pixel_scale_ratio': 1.0, 'single': False, 'blendheaders': True, 'allowed_memory': None}}}\n"
     ]
    },
    {
     "name": "stdout",
     "output_type": "stream",
     "text": [
      "[stpipe.Image2Pipeline:INFO] Step Image2Pipeline parameters are: {'pre_hooks': [], 'post_hooks': [], 'output_file': None, 'output_dir': '/fenrirdata1/kg_data/pipeline_output/Short_Exposure_Test_NRCA1/', 'output_ext': '.fits', 'output_use_model': False, 'output_use_index': True, 'save_results': True, 'skip': False, 'suffix': None, 'search_output_file': True, 'input_dir': '', 'save_bsub': False, 'steps': {'bkg_subtract': {'pre_hooks': [], 'post_hooks': [], 'output_file': None, 'output_dir': None, 'output_ext': '.fits', 'output_use_model': False, 'output_use_index': True, 'save_results': False, 'skip': False, 'suffix': None, 'search_output_file': True, 'input_dir': '', 'save_combined_background': False, 'sigma': 3.0, 'maxiters': None}, 'assign_wcs': {'pre_hooks': [], 'post_hooks': [], 'output_file': None, 'output_dir': None, 'output_ext': '.fits', 'output_use_model': False, 'output_use_index': True, 'save_results': False, 'skip': False, 'suffix': None, 'search_output_file': True, 'input_dir': '', 'sip_approx': True, 'sip_max_pix_error': 0.25, 'sip_degree': None, 'sip_max_inv_pix_error': 0.25, 'sip_inv_degree': None, 'sip_npoints': 32, 'slit_y_low': -0.55, 'slit_y_high': 0.55}, 'flat_field': {'pre_hooks': [], 'post_hooks': [], 'output_file': None, 'output_dir': None, 'output_ext': '.fits', 'output_use_model': False, 'output_use_index': True, 'save_results': False, 'skip': False, 'suffix': None, 'search_output_file': True, 'input_dir': '', 'save_interpolated_flat': False, 'user_supplied_flat': None, 'inverse': False}, 'photom': {'pre_hooks': [], 'post_hooks': [], 'output_file': None, 'output_dir': None, 'output_ext': '.fits', 'output_use_model': False, 'output_use_index': True, 'save_results': False, 'skip': False, 'suffix': None, 'search_output_file': True, 'input_dir': '', 'inverse': False, 'source_type': None}, 'resample': {'pre_hooks': [], 'post_hooks': [], 'output_file': None, 'output_dir': None, 'output_ext': '.fits', 'output_use_model': False, 'output_use_index': True, 'save_results': False, 'skip': False, 'suffix': None, 'search_output_file': True, 'input_dir': '', 'pixfrac': 1.0, 'kernel': 'square', 'fillval': 'INDEF', 'weight_type': 'ivm', 'pixel_scale_ratio': 1.0, 'single': False, 'blendheaders': True, 'allowed_memory': None}}}\n",
      "[stdatamodels.util:DEBUG] Environmental \"STRICT_VALIDATION\" cannot be found. Using default value of \"False\".\n",
      "[stdatamodels.util:DEBUG] Environmental \"VALIDATE_ON_ASSIGNMENT\" cannot be found. Using default value of \"True\".\n",
      "[jwst.datamodels.container:DEBUG] Filtering datasets based on allowed exptypes ['science']:\n",
      "[jwst.datamodels.container:DEBUG] Files accepted for processing /fenrirdata1/kg_data/pipeline_output/Short_Exposure_Test_NRCA1/modified_jw88888001001_01101_00001_nrca1_rateints.fits:\n",
      "[jwst.datamodels.util:DEBUG] Opening /fenrirdata1/kg_data/pipeline_output/Short_Exposure_Test_NRCA1/modified_jw88888001001_01101_00001_nrca1_rateints.fits as <class 'jwst.datamodels.cube.CubeModel'>\n",
      "[stdatamodels.util:DEBUG] Environmental \"STRICT_VALIDATION\" cannot be found. Using default value of \"False\".\n",
      "[stdatamodels.util:DEBUG] Environmental \"VALIDATE_ON_ASSIGNMENT\" cannot be found. Using default value of \"True\".\n",
      "[stdatamodels.util:DEBUG] Environmental \"SKIP_FITS_UPDATE\" cannot be found. Using default value of \"None\".\n",
      "[stdatamodels.fits_support:DEBUG] FITS hash matches. Skipping FITS updating.\n",
      "[stdatamodels.fits_support:DEBUG] Skipping FITS keyword updating except for BinTableHDU and its associated header keywords.\n"
     ]
    },
    {
     "name": "stderr",
     "output_type": "stream",
     "text": [
      "2021-09-13 02:29:36,082 - stpipe.Image2Pipeline - INFO - Prefetching reference files for dataset: 'modified_jw88888001001_01101_00001_nrca1_rateints.fits' reftypes = ['area', 'camera', 'collimator', 'dflat', 'disperser', 'distortion', 'drizpars', 'fflat', 'filteroffset', 'flat', 'fore', 'fpa', 'ifufore', 'ifupost', 'ifuslicer', 'msa', 'ote', 'photom', 'regions', 'sflat', 'specwcs', 'wavelengthrange', 'wfssbkg']\n"
     ]
    },
    {
     "name": "stdout",
     "output_type": "stream",
     "text": [
      "[stpipe.Image2Pipeline:INFO] Prefetching reference files for dataset: 'modified_jw88888001001_01101_00001_nrca1_rateints.fits' reftypes = ['area', 'camera', 'collimator', 'dflat', 'disperser', 'distortion', 'drizpars', 'fflat', 'filteroffset', 'flat', 'fore', 'fpa', 'ifufore', 'ifupost', 'ifuslicer', 'msa', 'ote', 'photom', 'regions', 'sflat', 'specwcs', 'wavelengthrange', 'wfssbkg']\n"
     ]
    },
    {
     "name": "stderr",
     "output_type": "stream",
     "text": [
      "2021-09-13 02:29:36,112 - CRDS - INFO -  Fetching  /fenrirdata1/kg_data/crds_cache/references/jwst/nircam/jwst_nircam_photom_0089.fits   11.5 K bytes  (1 / 1 files) (0 / 11.5 K bytes)\n",
      "2021-09-13 02:29:36,412 - stpipe.Image2Pipeline - INFO - Prefetch for AREA reference file is '/fenrirdata1/kg_data/crds_cache/references/jwst/nircam/jwst_nircam_area_0005.fits'.\n"
     ]
    },
    {
     "name": "stdout",
     "output_type": "stream",
     "text": [
      "[stpipe.Image2Pipeline:INFO] Prefetch for AREA reference file is '/fenrirdata1/kg_data/crds_cache/references/jwst/nircam/jwst_nircam_area_0005.fits'.\n"
     ]
    },
    {
     "name": "stderr",
     "output_type": "stream",
     "text": [
      "2021-09-13 02:29:36,416 - stpipe.Image2Pipeline - INFO - Prefetch for CAMERA reference file is 'N/A'.\n"
     ]
    },
    {
     "name": "stdout",
     "output_type": "stream",
     "text": [
      "[stpipe.Image2Pipeline:INFO] Prefetch for CAMERA reference file is 'N/A'.\n"
     ]
    },
    {
     "name": "stderr",
     "output_type": "stream",
     "text": [
      "2021-09-13 02:29:36,419 - stpipe.Image2Pipeline - INFO - Prefetch for COLLIMATOR reference file is 'N/A'.\n"
     ]
    },
    {
     "name": "stdout",
     "output_type": "stream",
     "text": [
      "[stpipe.Image2Pipeline:INFO] Prefetch for COLLIMATOR reference file is 'N/A'.\n"
     ]
    },
    {
     "name": "stderr",
     "output_type": "stream",
     "text": [
      "2021-09-13 02:29:36,421 - stpipe.Image2Pipeline - INFO - Prefetch for DFLAT reference file is 'N/A'.\n"
     ]
    },
    {
     "name": "stdout",
     "output_type": "stream",
     "text": [
      "[stpipe.Image2Pipeline:INFO] Prefetch for DFLAT reference file is 'N/A'.\n"
     ]
    },
    {
     "name": "stderr",
     "output_type": "stream",
     "text": [
      "2021-09-13 02:29:36,423 - stpipe.Image2Pipeline - INFO - Prefetch for DISPERSER reference file is 'N/A'.\n"
     ]
    },
    {
     "name": "stdout",
     "output_type": "stream",
     "text": [
      "[stpipe.Image2Pipeline:INFO] Prefetch for DISPERSER reference file is 'N/A'.\n"
     ]
    },
    {
     "name": "stderr",
     "output_type": "stream",
     "text": [
      "2021-09-13 02:29:36,426 - stpipe.Image2Pipeline - INFO - Prefetch for DISTORTION reference file is '/fenrirdata1/kg_data/crds_cache/references/jwst/nircam/jwst_nircam_distortion_0093.asdf'.\n"
     ]
    },
    {
     "name": "stdout",
     "output_type": "stream",
     "text": [
      "[stpipe.Image2Pipeline:INFO] Prefetch for DISTORTION reference file is '/fenrirdata1/kg_data/crds_cache/references/jwst/nircam/jwst_nircam_distortion_0093.asdf'.\n"
     ]
    },
    {
     "name": "stderr",
     "output_type": "stream",
     "text": [
      "2021-09-13 02:29:36,428 - stpipe.Image2Pipeline - INFO - Prefetch for DRIZPARS reference file is '/fenrirdata1/kg_data/crds_cache/references/jwst/nircam/jwst_nircam_drizpars_0001.fits'.\n"
     ]
    },
    {
     "name": "stdout",
     "output_type": "stream",
     "text": [
      "[stpipe.Image2Pipeline:INFO] Prefetch for DRIZPARS reference file is '/fenrirdata1/kg_data/crds_cache/references/jwst/nircam/jwst_nircam_drizpars_0001.fits'.\n"
     ]
    },
    {
     "name": "stderr",
     "output_type": "stream",
     "text": [
      "2021-09-13 02:29:36,435 - stpipe.Image2Pipeline - INFO - Prefetch for FFLAT reference file is 'N/A'.\n"
     ]
    },
    {
     "name": "stdout",
     "output_type": "stream",
     "text": [
      "[stpipe.Image2Pipeline:INFO] Prefetch for FFLAT reference file is 'N/A'.\n"
     ]
    },
    {
     "name": "stderr",
     "output_type": "stream",
     "text": [
      "2021-09-13 02:29:36,437 - stpipe.Image2Pipeline - INFO - Prefetch for FILTEROFFSET reference file is '/fenrirdata1/kg_data/crds_cache/references/jwst/nircam/jwst_nircam_filteroffset_0004.asdf'.\n"
     ]
    },
    {
     "name": "stdout",
     "output_type": "stream",
     "text": [
      "[stpipe.Image2Pipeline:INFO] Prefetch for FILTEROFFSET reference file is '/fenrirdata1/kg_data/crds_cache/references/jwst/nircam/jwst_nircam_filteroffset_0004.asdf'.\n"
     ]
    },
    {
     "name": "stderr",
     "output_type": "stream",
     "text": [
      "2021-09-13 02:29:36,440 - stpipe.Image2Pipeline - INFO - Prefetch for FLAT reference file is '/fenrirdata1/kg_data/crds_cache/references/jwst/nircam/jwst_nircam_flat_0348.fits'.\n"
     ]
    },
    {
     "name": "stdout",
     "output_type": "stream",
     "text": [
      "[stpipe.Image2Pipeline:INFO] Prefetch for FLAT reference file is '/fenrirdata1/kg_data/crds_cache/references/jwst/nircam/jwst_nircam_flat_0348.fits'.\n"
     ]
    },
    {
     "name": "stderr",
     "output_type": "stream",
     "text": [
      "2021-09-13 02:29:36,445 - stpipe.Image2Pipeline - INFO - Prefetch for FORE reference file is 'N/A'.\n"
     ]
    },
    {
     "name": "stdout",
     "output_type": "stream",
     "text": [
      "[stpipe.Image2Pipeline:INFO] Prefetch for FORE reference file is 'N/A'.\n"
     ]
    },
    {
     "name": "stderr",
     "output_type": "stream",
     "text": [
      "2021-09-13 02:29:36,447 - stpipe.Image2Pipeline - INFO - Prefetch for FPA reference file is 'N/A'.\n"
     ]
    },
    {
     "name": "stdout",
     "output_type": "stream",
     "text": [
      "[stpipe.Image2Pipeline:INFO] Prefetch for FPA reference file is 'N/A'.\n"
     ]
    },
    {
     "name": "stderr",
     "output_type": "stream",
     "text": [
      "2021-09-13 02:29:36,449 - stpipe.Image2Pipeline - INFO - Prefetch for IFUFORE reference file is 'N/A'.\n"
     ]
    },
    {
     "name": "stdout",
     "output_type": "stream",
     "text": [
      "[stpipe.Image2Pipeline:INFO] Prefetch for IFUFORE reference file is 'N/A'.\n"
     ]
    },
    {
     "name": "stderr",
     "output_type": "stream",
     "text": [
      "2021-09-13 02:29:36,452 - stpipe.Image2Pipeline - INFO - Prefetch for IFUPOST reference file is 'N/A'.\n"
     ]
    },
    {
     "name": "stdout",
     "output_type": "stream",
     "text": [
      "[stpipe.Image2Pipeline:INFO] Prefetch for IFUPOST reference file is 'N/A'.\n"
     ]
    },
    {
     "name": "stderr",
     "output_type": "stream",
     "text": [
      "2021-09-13 02:29:36,454 - stpipe.Image2Pipeline - INFO - Prefetch for IFUSLICER reference file is 'N/A'.\n"
     ]
    },
    {
     "name": "stdout",
     "output_type": "stream",
     "text": [
      "[stpipe.Image2Pipeline:INFO] Prefetch for IFUSLICER reference file is 'N/A'.\n"
     ]
    },
    {
     "name": "stderr",
     "output_type": "stream",
     "text": [
      "2021-09-13 02:29:36,456 - stpipe.Image2Pipeline - INFO - Prefetch for MSA reference file is 'N/A'.\n"
     ]
    },
    {
     "name": "stdout",
     "output_type": "stream",
     "text": [
      "[stpipe.Image2Pipeline:INFO] Prefetch for MSA reference file is 'N/A'.\n"
     ]
    },
    {
     "name": "stderr",
     "output_type": "stream",
     "text": [
      "2021-09-13 02:29:36,459 - stpipe.Image2Pipeline - INFO - Prefetch for OTE reference file is 'N/A'.\n"
     ]
    },
    {
     "name": "stdout",
     "output_type": "stream",
     "text": [
      "[stpipe.Image2Pipeline:INFO] Prefetch for OTE reference file is 'N/A'.\n"
     ]
    },
    {
     "name": "stderr",
     "output_type": "stream",
     "text": [
      "2021-09-13 02:29:36,461 - stpipe.Image2Pipeline - INFO - Prefetch for PHOTOM reference file is '/fenrirdata1/kg_data/crds_cache/references/jwst/nircam/jwst_nircam_photom_0089.fits'.\n"
     ]
    },
    {
     "name": "stdout",
     "output_type": "stream",
     "text": [
      "[stpipe.Image2Pipeline:INFO] Prefetch for PHOTOM reference file is '/fenrirdata1/kg_data/crds_cache/references/jwst/nircam/jwst_nircam_photom_0089.fits'.\n"
     ]
    },
    {
     "name": "stderr",
     "output_type": "stream",
     "text": [
      "2021-09-13 02:29:36,469 - stpipe.Image2Pipeline - INFO - Prefetch for REGIONS reference file is 'N/A'.\n"
     ]
    },
    {
     "name": "stdout",
     "output_type": "stream",
     "text": [
      "[stpipe.Image2Pipeline:INFO] Prefetch for REGIONS reference file is 'N/A'.\n"
     ]
    },
    {
     "name": "stderr",
     "output_type": "stream",
     "text": [
      "2021-09-13 02:29:36,472 - stpipe.Image2Pipeline - INFO - Prefetch for SFLAT reference file is 'N/A'.\n"
     ]
    },
    {
     "name": "stdout",
     "output_type": "stream",
     "text": [
      "[stpipe.Image2Pipeline:INFO] Prefetch for SFLAT reference file is 'N/A'.\n"
     ]
    },
    {
     "name": "stderr",
     "output_type": "stream",
     "text": [
      "2021-09-13 02:29:36,474 - stpipe.Image2Pipeline - INFO - Prefetch for SPECWCS reference file is 'N/A'.\n"
     ]
    },
    {
     "name": "stdout",
     "output_type": "stream",
     "text": [
      "[stpipe.Image2Pipeline:INFO] Prefetch for SPECWCS reference file is 'N/A'.\n"
     ]
    },
    {
     "name": "stderr",
     "output_type": "stream",
     "text": [
      "2021-09-13 02:29:36,476 - stpipe.Image2Pipeline - INFO - Prefetch for WAVELENGTHRANGE reference file is 'N/A'.\n"
     ]
    },
    {
     "name": "stdout",
     "output_type": "stream",
     "text": [
      "[stpipe.Image2Pipeline:INFO] Prefetch for WAVELENGTHRANGE reference file is 'N/A'.\n"
     ]
    },
    {
     "name": "stderr",
     "output_type": "stream",
     "text": [
      "2021-09-13 02:29:36,479 - stpipe.Image2Pipeline - INFO - Prefetch for WFSSBKG reference file is 'N/A'.\n"
     ]
    },
    {
     "name": "stdout",
     "output_type": "stream",
     "text": [
      "[stpipe.Image2Pipeline:INFO] Prefetch for WFSSBKG reference file is 'N/A'.\n"
     ]
    },
    {
     "name": "stderr",
     "output_type": "stream",
     "text": [
      "2021-09-13 02:29:36,482 - stpipe.Image2Pipeline - INFO - Starting calwebb_image2 ...\n"
     ]
    },
    {
     "name": "stdout",
     "output_type": "stream",
     "text": [
      "[stpipe.Image2Pipeline:INFO] Starting calwebb_image2 ...\n"
     ]
    },
    {
     "name": "stderr",
     "output_type": "stream",
     "text": [
      "2021-09-13 02:29:36,521 - stpipe.Image2Pipeline - INFO - Processing product /fenrirdata1/kg_data/pipeline_output/Short_Exposure_Test_NRCA1/modified_jw88888001001_01101_00001_nrca1\n"
     ]
    },
    {
     "name": "stdout",
     "output_type": "stream",
     "text": [
      "[stpipe.Image2Pipeline:INFO] Processing product /fenrirdata1/kg_data/pipeline_output/Short_Exposure_Test_NRCA1/modified_jw88888001001_01101_00001_nrca1\n"
     ]
    },
    {
     "name": "stderr",
     "output_type": "stream",
     "text": [
      "2021-09-13 02:29:36,524 - stpipe.Image2Pipeline - INFO - Working on input /fenrirdata1/kg_data/pipeline_output/Short_Exposure_Test_NRCA1/modified_jw88888001001_01101_00001_nrca1_rateints.fits ...\n"
     ]
    },
    {
     "name": "stdout",
     "output_type": "stream",
     "text": [
      "[stpipe.Image2Pipeline:INFO] Working on input /fenrirdata1/kg_data/pipeline_output/Short_Exposure_Test_NRCA1/modified_jw88888001001_01101_00001_nrca1_rateints.fits ...\n",
      "[jwst.datamodels.util:DEBUG] Opening /fenrirdata1/kg_data/pipeline_output/Short_Exposure_Test_NRCA1/modified_jw88888001001_01101_00001_nrca1_rateints.fits as <class 'jwst.datamodels.cube.CubeModel'>\n",
      "[stdatamodels.util:DEBUG] Environmental \"STRICT_VALIDATION\" cannot be found. Using default value of \"False\".\n",
      "[stdatamodels.util:DEBUG] Environmental \"VALIDATE_ON_ASSIGNMENT\" cannot be found. Using default value of \"True\".\n",
      "[stdatamodels.util:DEBUG] Environmental \"SKIP_FITS_UPDATE\" cannot be found. Using default value of \"None\".\n",
      "[stdatamodels.fits_support:DEBUG] FITS hash matches. Skipping FITS updating.\n",
      "[stdatamodels.fits_support:DEBUG] Skipping FITS keyword updating except for BinTableHDU and its associated header keywords.\n"
     ]
    },
    {
     "name": "stderr",
     "output_type": "stream",
     "text": [
      "2021-09-13 02:29:36,799 - stpipe.Image2Pipeline.assign_wcs - INFO - Step assign_wcs running with args (<CubeModel(2, 256, 2048) from modified_jw88888001001_01101_00001_nrca1_rateints.fits>,).\n"
     ]
    },
    {
     "name": "stdout",
     "output_type": "stream",
     "text": [
      "[stpipe.Image2Pipeline.assign_wcs:INFO] Step assign_wcs running with args (<CubeModel(2, 256, 2048) from modified_jw88888001001_01101_00001_nrca1_rateints.fits>,).\n"
     ]
    },
    {
     "name": "stderr",
     "output_type": "stream",
     "text": [
      "2021-09-13 02:29:36,803 - stpipe.Image2Pipeline.assign_wcs - INFO - Step assign_wcs parameters are: {'pre_hooks': [], 'post_hooks': [], 'output_file': None, 'output_dir': None, 'output_ext': '.fits', 'output_use_model': False, 'output_use_index': True, 'save_results': False, 'skip': False, 'suffix': None, 'search_output_file': True, 'input_dir': '/fenrirdata1/kg_data/pipeline_output/Short_Exposure_Test_NRCA1', 'sip_approx': True, 'sip_max_pix_error': 0.25, 'sip_degree': None, 'sip_max_inv_pix_error': 0.25, 'sip_inv_degree': None, 'sip_npoints': 32, 'slit_y_low': -0.55, 'slit_y_high': 0.55}\n"
     ]
    },
    {
     "name": "stdout",
     "output_type": "stream",
     "text": [
      "[stpipe.Image2Pipeline.assign_wcs:INFO] Step assign_wcs parameters are: {'pre_hooks': [], 'post_hooks': [], 'output_file': None, 'output_dir': None, 'output_ext': '.fits', 'output_use_model': False, 'output_use_index': True, 'save_results': False, 'skip': False, 'suffix': None, 'search_output_file': True, 'input_dir': '/fenrirdata1/kg_data/pipeline_output/Short_Exposure_Test_NRCA1', 'sip_approx': True, 'sip_max_pix_error': 0.25, 'sip_degree': None, 'sip_max_inv_pix_error': 0.25, 'sip_inv_degree': None, 'sip_npoints': 32, 'slit_y_low': -0.55, 'slit_y_high': 0.55}\n",
      "[stdatamodels.util:DEBUG] Environmental \"STRICT_VALIDATION\" cannot be found. Using default value of \"False\".\n",
      "[stdatamodels.util:DEBUG] Environmental \"VALIDATE_ON_ASSIGNMENT\" cannot be found. Using default value of \"True\".\n",
      "[stdatamodels.util:DEBUG] Environmental \"STRICT_VALIDATION\" cannot be found. Using default value of \"False\".\n",
      "[stdatamodels.util:DEBUG] Environmental \"VALIDATE_ON_ASSIGNMENT\" cannot be found. Using default value of \"True\".\n",
      "[stdatamodels.util:DEBUG] Environmental \"STRICT_VALIDATION\" cannot be found. Using default value of \"False\".\n",
      "[stdatamodels.util:DEBUG] Environmental \"VALIDATE_ON_ASSIGNMENT\" cannot be found. Using default value of \"True\".\n",
      "[stdatamodels.util:DEBUG] Environmental \"STRICT_VALIDATION\" cannot be found. Using default value of \"False\".\n",
      "[stdatamodels.util:DEBUG] Environmental \"VALIDATE_ON_ASSIGNMENT\" cannot be found. Using default value of \"True\".\n",
      "[stdatamodels.util:DEBUG] Environmental \"STRICT_VALIDATION\" cannot be found. Using default value of \"False\".\n",
      "[stdatamodels.util:DEBUG] Environmental \"VALIDATE_ON_ASSIGNMENT\" cannot be found. Using default value of \"True\".\n",
      "[stdatamodels.util:DEBUG] Environmental \"STRICT_VALIDATION\" cannot be found. Using default value of \"False\".\n",
      "[stdatamodels.util:DEBUG] Environmental \"VALIDATE_ON_ASSIGNMENT\" cannot be found. Using default value of \"True\".\n",
      "[stdatamodels.util:DEBUG] Environmental \"STRICT_VALIDATION\" cannot be found. Using default value of \"False\".\n",
      "[stdatamodels.util:DEBUG] Environmental \"VALIDATE_ON_ASSIGNMENT\" cannot be found. Using default value of \"True\".\n",
      "[stdatamodels.util:DEBUG] Environmental \"STRICT_VALIDATION\" cannot be found. Using default value of \"False\".\n",
      "[stdatamodels.util:DEBUG] Environmental \"VALIDATE_ON_ASSIGNMENT\" cannot be found. Using default value of \"True\".\n",
      "[stdatamodels.util:DEBUG] Environmental \"STRICT_VALIDATION\" cannot be found. Using default value of \"False\".\n",
      "[stdatamodels.util:DEBUG] Environmental \"VALIDATE_ON_ASSIGNMENT\" cannot be found. Using default value of \"True\".\n",
      "[stdatamodels.util:DEBUG] Environmental \"STRICT_VALIDATION\" cannot be found. Using default value of \"False\".\n",
      "[stdatamodels.util:DEBUG] Environmental \"VALIDATE_ON_ASSIGNMENT\" cannot be found. Using default value of \"True\".\n",
      "[stdatamodels.util:DEBUG] Environmental \"STRICT_VALIDATION\" cannot be found. Using default value of \"False\".\n",
      "[stdatamodels.util:DEBUG] Environmental \"VALIDATE_ON_ASSIGNMENT\" cannot be found. Using default value of \"True\".\n",
      "[stdatamodels.util:DEBUG] Environmental \"STRICT_VALIDATION\" cannot be found. Using default value of \"False\".\n",
      "[stdatamodels.util:DEBUG] Environmental \"VALIDATE_ON_ASSIGNMENT\" cannot be found. Using default value of \"True\".\n",
      "[stdatamodels.util:DEBUG] Environmental \"STRICT_VALIDATION\" cannot be found. Using default value of \"False\".\n",
      "[stdatamodels.util:DEBUG] Environmental \"VALIDATE_ON_ASSIGNMENT\" cannot be found. Using default value of \"True\".\n",
      "[stdatamodels.util:DEBUG] Environmental \"STRICT_VALIDATION\" cannot be found. Using default value of \"False\".\n",
      "[stdatamodels.util:DEBUG] Environmental \"VALIDATE_ON_ASSIGNMENT\" cannot be found. Using default value of \"True\".\n",
      "[stdatamodels.util:DEBUG] Environmental \"STRICT_VALIDATION\" cannot be found. Using default value of \"False\".\n",
      "[stdatamodels.util:DEBUG] Environmental \"VALIDATE_ON_ASSIGNMENT\" cannot be found. Using default value of \"True\".\n",
      "[stdatamodels.util:DEBUG] Environmental \"STRICT_VALIDATION\" cannot be found. Using default value of \"False\".\n",
      "[stdatamodels.util:DEBUG] Environmental \"VALIDATE_ON_ASSIGNMENT\" cannot be found. Using default value of \"True\".\n",
      "[jwst.assign_wcs.assign_wcs_step:DEBUG] reference files used in assign_wcs: {'distortion': '/fenrirdata1/kg_data/crds_cache/references/jwst/nircam/jwst_nircam_distortion_0093.asdf', 'filteroffset': '/fenrirdata1/kg_data/crds_cache/references/jwst/nircam/jwst_nircam_filteroffset_0004.asdf', 'specwcs': 'N/A', 'regions': 'N/A', 'wavelengthrange': 'N/A', 'camera': 'N/A', 'collimator': 'N/A', 'disperser': 'N/A', 'fore': 'N/A', 'fpa': 'N/A', 'msa': 'N/A', 'ote': 'N/A', 'ifupost': 'N/A', 'ifufore': 'N/A', 'ifuslicer': 'N/A'}\n",
      "[jwst.assign_wcs.nircam:DEBUG] reference files used in NIRCAM WCS pipeline: {'distortion': '/fenrirdata1/kg_data/crds_cache/references/jwst/nircam/jwst_nircam_distortion_0093.asdf', 'filteroffset': '/fenrirdata1/kg_data/crds_cache/references/jwst/nircam/jwst_nircam_filteroffset_0004.asdf', 'specwcs': None, 'regions': None, 'wavelengthrange': None, 'camera': None, 'collimator': None, 'disperser': None, 'fore': None, 'fpa': None, 'msa': None, 'ote': None, 'ifupost': None, 'ifufore': None, 'ifuslicer': None}\n",
      "[stdatamodels.util:DEBUG] Environmental \"STRICT_VALIDATION\" cannot be found. Using default value of \"False\".\n",
      "[stdatamodels.util:DEBUG] Environmental \"VALIDATE_ON_ASSIGNMENT\" cannot be found. Using default value of \"True\".\n"
     ]
    },
    {
     "name": "stderr",
     "output_type": "stream",
     "text": [
      "[jwst.lib.reffile_utils:WARNING] Expected to find one matching row in table, found 0.\n"
     ]
    },
    {
     "name": "stdout",
     "output_type": "stream",
     "text": [
      "[stdatamodels.util:DEBUG] Environmental \"VALIDATE_ON_ASSIGNMENT\" cannot be found. Using default value of \"True\".\n"
     ]
    },
    {
     "name": "stderr",
     "output_type": "stream",
     "text": [
      "[py.warnings:WARNING] /home/kglidic/miniconda3/envs/JWST-1.3.1/lib/python3.9/site-packages/gwcs/utils.py:72: DeprecationWarning: `np.int` is a deprecated alias for the builtin `int`. To silence this warning, use `int` by itself. Doing this will not modify any behavior and is safe. When replacing `np.int`, you may wish to use e.g. `np.int64` or `np.int32` to specify the precision. If you wish to review your current use, check the release note link for additional information.\n",
      "Deprecated in NumPy 1.20; for more details and guidance: https://numpy.org/devdocs/release/1.20.0-notes.html#deprecations\n",
      "  indx = np.asarray(np.floor(np.asarray(value) + 0.5), dtype=np.int)\n",
      "\n"
     ]
    },
    {
     "name": "stdout",
     "output_type": "stream",
     "text": [
      "[jwst.assign_wcs.util:INFO] Update S_REGION to POLYGON ICRS  66.390965454 -30.601704513 66.390913421 -30.599458741 66.370216398 -30.599641025 66.370228836 -30.601892127\n",
      "[jwst.assign_wcs.assign_wcs:INFO] assign_wcs updated S_REGION to POLYGON ICRS  66.390965454 -30.601704513 66.390913421 -30.599458741 66.370216398 -30.599641025 66.370228836 -30.601892127\n",
      "[jwst.assign_wcs.assign_wcs:INFO] COMPLETED assign_wcs\n"
     ]
    },
    {
     "name": "stderr",
     "output_type": "stream",
     "text": [
      "2021-09-13 02:29:38,033 - stpipe.Image2Pipeline.assign_wcs - INFO - Step assign_wcs done\n"
     ]
    },
    {
     "name": "stdout",
     "output_type": "stream",
     "text": [
      "[stpipe.Image2Pipeline.assign_wcs:INFO] Step assign_wcs done\n"
     ]
    },
    {
     "name": "stderr",
     "output_type": "stream",
     "text": [
      "2021-09-13 02:29:38,167 - stpipe.Image2Pipeline.flat_field - INFO - Step flat_field running with args (<CubeModel(2, 256, 2048) from modified_jw88888001001_01101_00001_nrca1_rateints.fits>,).\n"
     ]
    },
    {
     "name": "stdout",
     "output_type": "stream",
     "text": [
      "[stpipe.Image2Pipeline.flat_field:INFO] Step flat_field running with args (<CubeModel(2, 256, 2048) from modified_jw88888001001_01101_00001_nrca1_rateints.fits>,).\n"
     ]
    },
    {
     "name": "stderr",
     "output_type": "stream",
     "text": [
      "2021-09-13 02:29:38,171 - stpipe.Image2Pipeline.flat_field - INFO - Step flat_field parameters are: {'pre_hooks': [], 'post_hooks': [], 'output_file': None, 'output_dir': None, 'output_ext': '.fits', 'output_use_model': False, 'output_use_index': True, 'save_results': False, 'skip': False, 'suffix': None, 'search_output_file': True, 'input_dir': '/fenrirdata1/kg_data/pipeline_output/Short_Exposure_Test_NRCA1', 'save_interpolated_flat': False, 'user_supplied_flat': None, 'inverse': False}\n"
     ]
    },
    {
     "name": "stdout",
     "output_type": "stream",
     "text": [
      "[stpipe.Image2Pipeline.flat_field:INFO] Step flat_field parameters are: {'pre_hooks': [], 'post_hooks': [], 'output_file': None, 'output_dir': None, 'output_ext': '.fits', 'output_use_model': False, 'output_use_index': True, 'save_results': False, 'skip': False, 'suffix': None, 'search_output_file': True, 'input_dir': '/fenrirdata1/kg_data/pipeline_output/Short_Exposure_Test_NRCA1', 'save_interpolated_flat': False, 'user_supplied_flat': None, 'inverse': False}\n",
      "[stdatamodels.util:DEBUG] Environmental \"STRICT_VALIDATION\" cannot be found. Using default value of \"False\".\n",
      "[stdatamodels.util:DEBUG] Environmental \"VALIDATE_ON_ASSIGNMENT\" cannot be found. Using default value of \"True\".\n",
      "[stpipe.Image2Pipeline.flat_field:DEBUG] Input is CubeModel of exposure type NRC_TSIMAGE\n",
      "[stdatamodels.util:DEBUG] Environmental \"STRICT_VALIDATION\" cannot be found. Using default value of \"False\".\n",
      "[stdatamodels.util:DEBUG] Environmental \"VALIDATE_ON_ASSIGNMENT\" cannot be found. Using default value of \"True\".\n",
      "[stdatamodels.util:DEBUG] Environmental \"STRICT_VALIDATION\" cannot be found. Using default value of \"False\".\n",
      "[stdatamodels.util:DEBUG] Environmental \"VALIDATE_ON_ASSIGNMENT\" cannot be found. Using default value of \"True\".\n",
      "[stdatamodels.util:DEBUG] Environmental \"STRICT_VALIDATION\" cannot be found. Using default value of \"False\".\n",
      "[stdatamodels.util:DEBUG] Environmental \"VALIDATE_ON_ASSIGNMENT\" cannot be found. Using default value of \"True\".\n",
      "[stdatamodels.util:DEBUG] Environmental \"STRICT_VALIDATION\" cannot be found. Using default value of \"False\".\n",
      "[stdatamodels.util:DEBUG] Environmental \"VALIDATE_ON_ASSIGNMENT\" cannot be found. Using default value of \"True\".\n",
      "[stdatamodels.util:DEBUG] Environmental \"STRICT_VALIDATION\" cannot be found. Using default value of \"False\".\n",
      "[stdatamodels.util:DEBUG] Environmental \"VALIDATE_ON_ASSIGNMENT\" cannot be found. Using default value of \"True\".\n",
      "[stdatamodels.util:DEBUG] Environmental \"SKIP_FITS_UPDATE\" cannot be found. Using default value of \"None\".\n",
      "[stdatamodels.fits_support:DEBUG] No ASDF information found. Cannot skip updating from FITS headers.\n",
      "[stpipe.Image2Pipeline.flat_field:DEBUG] Using FLAT reference file: /fenrirdata1/kg_data/crds_cache/references/jwst/nircam/jwst_nircam_flat_0348.fits\n",
      "[stpipe.Image2Pipeline.flat_field:DEBUG] No reference found for type FFLAT\n",
      "[stpipe.Image2Pipeline.flat_field:DEBUG] No reference found for type SFLAT\n",
      "[stpipe.Image2Pipeline.flat_field:DEBUG] No reference found for type DFLAT\n",
      "[stdatamodels.util:DEBUG] Environmental \"VALIDATE_ON_ASSIGNMENT\" cannot be found. Using default value of \"True\".\n",
      "[jwst.flatfield.flat_field:DEBUG] Flat field correction for non-NIRSpec modes.\n",
      "[jwst.lib.reffile_utils:DEBUG] ref substrt1=1, subsize1=2048, substrt2=1, subsize2=2048\n",
      "[jwst.lib.reffile_utils:DEBUG] sci substrt1=1, subsize1=2048, substrt2=1, subsize2=256\n",
      "[jwst.flatfield.flat_field:INFO] Extracting matching subarray from flat\n",
      "[jwst.lib.reffile_utils:DEBUG] slice xstart=0, xstop=2048, ystart=0, ystop=256\n",
      "[stdatamodels.util:DEBUG] Environmental \"STRICT_VALIDATION\" cannot be found. Using default value of \"False\".\n",
      "[stdatamodels.util:DEBUG] Environmental \"VALIDATE_ON_ASSIGNMENT\" cannot be found. Using default value of \"True\".\n"
     ]
    },
    {
     "name": "stderr",
     "output_type": "stream",
     "text": [
      "2021-09-13 02:29:38,894 - stpipe.Image2Pipeline.flat_field - INFO - Step flat_field done\n"
     ]
    },
    {
     "name": "stdout",
     "output_type": "stream",
     "text": [
      "[stpipe.Image2Pipeline.flat_field:INFO] Step flat_field done\n"
     ]
    },
    {
     "name": "stderr",
     "output_type": "stream",
     "text": [
      "2021-09-13 02:29:39,011 - stpipe.Image2Pipeline.photom - INFO - Step photom running with args (<CubeModel(2, 256, 2048) from modified_jw88888001001_01101_00001_nrca1_rateints.fits>,).\n"
     ]
    },
    {
     "name": "stdout",
     "output_type": "stream",
     "text": [
      "[stpipe.Image2Pipeline.photom:INFO] Step photom running with args (<CubeModel(2, 256, 2048) from modified_jw88888001001_01101_00001_nrca1_rateints.fits>,).\n"
     ]
    },
    {
     "name": "stderr",
     "output_type": "stream",
     "text": [
      "2021-09-13 02:29:39,014 - stpipe.Image2Pipeline.photom - INFO - Step photom parameters are: {'pre_hooks': [], 'post_hooks': [], 'output_file': None, 'output_dir': None, 'output_ext': '.fits', 'output_use_model': False, 'output_use_index': True, 'save_results': False, 'skip': False, 'suffix': None, 'search_output_file': True, 'input_dir': '/fenrirdata1/kg_data/pipeline_output/Short_Exposure_Test_NRCA1', 'inverse': False, 'source_type': None}\n"
     ]
    },
    {
     "name": "stdout",
     "output_type": "stream",
     "text": [
      "[stpipe.Image2Pipeline.photom:INFO] Step photom parameters are: {'pre_hooks': [], 'post_hooks': [], 'output_file': None, 'output_dir': None, 'output_ext': '.fits', 'output_use_model': False, 'output_use_index': True, 'save_results': False, 'skip': False, 'suffix': None, 'search_output_file': True, 'input_dir': '/fenrirdata1/kg_data/pipeline_output/Short_Exposure_Test_NRCA1', 'inverse': False, 'source_type': None}\n",
      "[stdatamodels.util:DEBUG] Environmental \"STRICT_VALIDATION\" cannot be found. Using default value of \"False\".\n",
      "[stdatamodels.util:DEBUG] Environmental \"VALIDATE_ON_ASSIGNMENT\" cannot be found. Using default value of \"True\".\n",
      "[stpipe.Image2Pipeline.photom:DEBUG] Input is CubeModel\n",
      "[stdatamodels.util:DEBUG] Environmental \"STRICT_VALIDATION\" cannot be found. Using default value of \"False\".\n",
      "[stdatamodels.util:DEBUG] Environmental \"VALIDATE_ON_ASSIGNMENT\" cannot be found. Using default value of \"True\".\n",
      "[stdatamodels.util:DEBUG] Environmental \"STRICT_VALIDATION\" cannot be found. Using default value of \"False\".\n",
      "[stdatamodels.util:DEBUG] Environmental \"VALIDATE_ON_ASSIGNMENT\" cannot be found. Using default value of \"True\".\n"
     ]
    },
    {
     "name": "stderr",
     "output_type": "stream",
     "text": [
      "2021-09-13 02:29:39,094 - stpipe.Image2Pipeline.photom - INFO - Using photom reference file: /fenrirdata1/kg_data/crds_cache/references/jwst/nircam/jwst_nircam_photom_0089.fits\n"
     ]
    },
    {
     "name": "stdout",
     "output_type": "stream",
     "text": [
      "[stpipe.Image2Pipeline.photom:INFO] Using photom reference file: /fenrirdata1/kg_data/crds_cache/references/jwst/nircam/jwst_nircam_photom_0089.fits\n"
     ]
    },
    {
     "name": "stderr",
     "output_type": "stream",
     "text": [
      "2021-09-13 02:29:39,096 - stpipe.Image2Pipeline.photom - INFO - Using area reference file: /fenrirdata1/kg_data/crds_cache/references/jwst/nircam/jwst_nircam_area_0005.fits\n"
     ]
    },
    {
     "name": "stdout",
     "output_type": "stream",
     "text": [
      "[stpipe.Image2Pipeline.photom:INFO] Using area reference file: /fenrirdata1/kg_data/crds_cache/references/jwst/nircam/jwst_nircam_area_0005.fits\n",
      "[stdatamodels.util:DEBUG] Environmental \"VALIDATE_ON_ASSIGNMENT\" cannot be found. Using default value of \"True\".\n",
      "[jwst.photom.photom:INFO] Using instrument: NIRCAM\n",
      "[jwst.photom.photom:INFO]  detector: NRCA1\n",
      "[jwst.photom.photom:INFO]  exp_type: NRC_TSIMAGE\n",
      "[jwst.photom.photom:INFO]  filter: F182M\n",
      "[jwst.photom.photom:INFO]  pupil: WLP8\n",
      "[jwst.datamodels.util:DEBUG] Opening /fenrirdata1/kg_data/crds_cache/references/jwst/nircam/jwst_nircam_photom_0089.fits as <class 'jwst.datamodels.photom.NrcImgPhotomModel'>\n",
      "[stdatamodels.util:DEBUG] Environmental \"STRICT_VALIDATION\" cannot be found. Using default value of \"False\".\n",
      "[stdatamodels.util:DEBUG] Environmental \"VALIDATE_ON_ASSIGNMENT\" cannot be found. Using default value of \"True\".\n",
      "[stdatamodels.util:DEBUG] Environmental \"SKIP_FITS_UPDATE\" cannot be found. Using default value of \"None\".\n",
      "[stdatamodels.fits_support:DEBUG] No ASDF information found. Cannot skip updating from FITS headers.\n",
      "[jwst.datamodels.util:DEBUG] Opening /fenrirdata1/kg_data/crds_cache/references/jwst/nircam/jwst_nircam_area_0005.fits as <class 'jwst.datamodels.pixelarea.PixelAreaModel'>\n",
      "[stdatamodels.util:DEBUG] Environmental \"STRICT_VALIDATION\" cannot be found. Using default value of \"False\".\n",
      "[stdatamodels.util:DEBUG] Environmental \"VALIDATE_ON_ASSIGNMENT\" cannot be found. Using default value of \"True\".\n",
      "[stdatamodels.util:DEBUG] Environmental \"SKIP_FITS_UPDATE\" cannot be found. Using default value of \"None\".\n",
      "[jwst.photom.photom:INFO] Pixel area map copied to output.\n",
      "[jwst.photom.photom:DEBUG] PIXAR_SR = 2.292514304171e-14, PIXAR_A2 = 0.000975354114773201\n",
      "[jwst.photom.photom:DEBUG] Starting cal_nircam\n",
      "[jwst.photom.photom:INFO] PHOTMJSR value: 3.83693\n"
     ]
    },
    {
     "name": "stderr",
     "output_type": "stream",
     "text": [
      "2021-09-13 02:29:39,530 - stpipe.Image2Pipeline.photom - INFO - Step photom done\n"
     ]
    },
    {
     "name": "stdout",
     "output_type": "stream",
     "text": [
      "[stpipe.Image2Pipeline.photom:INFO] Step photom done\n"
     ]
    },
    {
     "name": "stderr",
     "output_type": "stream",
     "text": [
      "2021-09-13 02:29:39,533 - stpipe.Image2Pipeline - INFO - Finished processing product /fenrirdata1/kg_data/pipeline_output/Short_Exposure_Test_NRCA1/modified_jw88888001001_01101_00001_nrca1\n"
     ]
    },
    {
     "name": "stdout",
     "output_type": "stream",
     "text": [
      "[stpipe.Image2Pipeline:INFO] Finished processing product /fenrirdata1/kg_data/pipeline_output/Short_Exposure_Test_NRCA1/modified_jw88888001001_01101_00001_nrca1\n"
     ]
    },
    {
     "name": "stderr",
     "output_type": "stream",
     "text": [
      "2021-09-13 02:29:39,539 - stpipe.Image2Pipeline - INFO - ... ending calwebb_image2\n"
     ]
    },
    {
     "name": "stdout",
     "output_type": "stream",
     "text": [
      "[stpipe.Image2Pipeline:INFO] ... ending calwebb_image2\n"
     ]
    },
    {
     "name": "stderr",
     "output_type": "stream",
     "text": [
      "2021-09-13 02:29:39,847 - stpipe.Image2Pipeline - INFO - Saved model in /fenrirdata1/kg_data/pipeline_output/Short_Exposure_Test_NRCA1/modified_jw88888001001_01101_00001_nrca1_calints.fits\n"
     ]
    },
    {
     "name": "stdout",
     "output_type": "stream",
     "text": [
      "[stpipe.Image2Pipeline:INFO] Saved model in /fenrirdata1/kg_data/pipeline_output/Short_Exposure_Test_NRCA1/modified_jw88888001001_01101_00001_nrca1_calints.fits\n"
     ]
    },
    {
     "name": "stderr",
     "output_type": "stream",
     "text": [
      "2021-09-13 02:29:39,849 - stpipe.Image2Pipeline - INFO - Step Image2Pipeline done\n"
     ]
    },
    {
     "name": "stdout",
     "output_type": "stream",
     "text": [
      "[stpipe.Image2Pipeline:INFO] Step Image2Pipeline done\n"
     ]
    }
   ],
   "source": [
    "filename_stage2 = '/fenrirdata1/kg_data/pipeline_output/Short_Exposure_Test_NRCA1/modified_jw88888001001_01101_00001_nrca1_rateints.fits'\n",
    "\n",
    "# Instantiate the class. Do not provide a configuration file.\n",
    "pipeline_stage2 = Image2Pipeline()\n",
    "\n",
    "# Specify that you want results saved to a file\n",
    "pipeline_stage2.save_results = True\n",
    "pipeline_stage2.output_dir = '/fenrirdata1/kg_data/pipeline_output/Short_Exposure_Test_NRCA1/'\n",
    "\n",
    "# Execute the pipeline using the run method\n",
    "result_stage2 = pipeline_stage2.run(level2_asn)"
   ]
  },
  {
   "cell_type": "code",
   "execution_count": 7,
   "id": "palestinian-slope",
   "metadata": {
    "scrolled": true
   },
   "outputs": [
    {
     "name": "stdout",
     "output_type": "stream",
     "text": [
      "Filename: /fenrirdata1/kg_data/pipeline_output/Short_Exposure_Test_NRCA1/modified_jw88888001001_01101_00001_nrca1_calints.fits\n",
      "No.    Name      Ver    Type      Cards   Dimensions   Format\n",
      "  0  PRIMARY       1 PrimaryHDU     245   ()      \n",
      "  1  SCI           1 ImageHDU        70   (2048, 256, 2)   float32   \n",
      "  2  ERR           1 ImageHDU        11   (2048, 256, 2)   float32   \n",
      "  3  DQ            1 ImageHDU        12   (2048, 256, 2)   int32 (rescales to uint32)   \n",
      "  4  AREA          1 ImageHDU         9   (2048, 2048)   float32   \n",
      "  5  INT_TIMES     1 BinTableHDU     24   2R x 7C   [J, D, D, D, D, D, D]   \n",
      "  6  VAR_POISSON    1 ImageHDU        10   (2048, 256, 2)   float32   \n",
      "  7  VAR_RNOISE    1 ImageHDU        10   (2048, 256, 2)   float32   \n",
      "  8  VAR_FLAT      1 ImageHDU        10   (2048, 256, 2)   float32   \n",
      "  9  ASDF          1 BinTableHDU     11   1R x 1C   [17056B]   \n"
     ]
    }
   ],
   "source": [
    "#print the results from stage 2 (ensure that they exist)\n",
    "HDUList_stage2= fits.open('/fenrirdata1/kg_data/pipeline_output/Short_Exposure_Test_NRCA1/modified_jw88888001001_01101_00001_nrca1_calints.fits')\n",
    "HDUList_stage2.info()"
   ]
  },
  {
   "cell_type": "code",
   "execution_count": 8,
   "id": "tutorial-resistance",
   "metadata": {},
   "outputs": [],
   "source": [
    "#generate an association file required for stage 3\n",
    "asn_dir = '/fenrirdata1/kg_data/pipeline_output/Short_Exposure_Test_NRCA1/'\n",
    "level3_asn = (os.path.join(asn_dir, 'level3_asn.json'))\n",
    "asn_stage3 = asn_from_list(['/fenrirdata1/kg_data/pipeline_output/Short_Exposure_Test_NRCA1/modified_jw88888001001_01101_00001_nrca1_calints.fits'], product_name ='modified_test_level3')\n",
    "with open(level3_asn, 'w') as fh:\n",
    "   fh.write(asn_stage3.dump()[1])"
   ]
  },
  {
   "cell_type": "markdown",
   "id": "intimate-leeds",
   "metadata": {},
   "source": [
    "# Stage 3\n",
    "### Applies level 3 processing to TSO-mode data from\n",
    "Stage 3 processing consists of routines that work with multiple exposures and in most cases produce some kind of combined product. There are unique pipeline modules for stage 3 processing of imaging, spectroscopic, coronagraphic, AMI, and TSO observations. \n",
    "\n",
    "#### Tso3Pipeline:\n",
    "The stage 3 TSO pipeline is to be applied to associations of calibrated TSO exposures (e.g. NIRCam TS imaging, NIRCam TS grism, NIRISS SOSS, NIRSpec BrightObj, MIRI LRS Slitless) and is used to produce calibrated time-series photometry or spectra of the source object. This is a pipeline customized for TSO data. Grism TSO data undergo outlier detection (essentially a check for any cosmic rays/transient effects that were missed in Detector1Pipeline), background subtraction, spectral extraction, and photometry. Imaging TSO data are run through outlier detection, and photometry is performed."
   ]
  },
  {
   "cell_type": "markdown",
   "id": "official-advocacy",
   "metadata": {},
   "source": [
    "## TSO Photometry Reference File: Radii Parameters"
   ]
  },
  {
   "cell_type": "code",
   "execution_count": 9,
   "id": "extended-behalf",
   "metadata": {},
   "outputs": [
    {
     "data": {
      "text/plain": [
       "{'asdf_library': {'author': 'Space Telescope Science Institute',\n",
       "  'homepage': 'http://github.com/spacetelescope/asdf',\n",
       "  'name': 'asdf',\n",
       "  'version': '2.7.2'},\n",
       " 'history': {'entries': [{'description': 'File created based on values of aperture radii for NIRCam that were specified as constants in tso_photometry_step.py.',\n",
       "    'time': datetime.datetime(2018, 7, 13, 17, 20, 5)}],\n",
       "  'extensions': [{'extension_class': 'asdf.extension.BuiltinExtension',\n",
       "    'software': {'name': 'asdf', 'version': '2.7.2'}},\n",
       "   {'extension_class': 'astropy.io.misc.asdf.extension.AstropyAsdfExtension',\n",
       "    'software': {'name': 'astropy', 'version': '4.2.1'}},\n",
       "   {'extension_class': 'gwcs.extension.GWCSExtension',\n",
       "    'software': {'name': 'gwcs', 'version': '0.16.1'}},\n",
       "   {'extension_class': 'astropy.io.misc.asdf.extension.AstropyExtension',\n",
       "    'software': {'name': 'astropy', 'version': '4.2.1'}}]},\n",
       " 'meta': {'author': 'NIRCam IDT; P. Hodge',\n",
       "  'date': '2018-07-13T17:20:00',\n",
       "  'description': 'aperture radii for tso_photometry',\n",
       "  'exposure': {'type': 'NRC_TSIMAGE'},\n",
       "  'filename': 'nircam_tsophot.asdf',\n",
       "  'instrument': {'name': 'NIRCAM'},\n",
       "  'model_type': 'TsoPhotModel',\n",
       "  'pedigree': 'GROUND',\n",
       "  'reftype': 'tsophot',\n",
       "  'telescope': 'JWST',\n",
       "  'useafter': '2015-01-01T00:00:00',\n",
       "  'visit': {'tsovisit': True}},\n",
       " 'radii': [{'pupil': 'WLP8',\n",
       "   'radius': 50.0,\n",
       "   'radius_inner': 50.0,\n",
       "   'radius_outer': 62.0},\n",
       "  {'pupil': 'ANY', 'radius': 3.0, 'radius_inner': 4.0, 'radius_outer': 5.0}]}"
      ]
     },
     "execution_count": 9,
     "metadata": {},
     "output_type": "execute_result"
    }
   ],
   "source": [
    "original_tsophot=asdf.open(\"/fenrirdata1/kg_data/crds_cache/references/jwst/nircam/jwst_nircam_tsophot_0001.asdf\") #the original tsophot reference file\n",
    "original_tsophot.tree #print the original tsophot reference file\n",
    "\n",
    "#adjust the radii parameters\n",
    "original_tsophot.tree['radii'] = [{'pupil': 'WLP8',\n",
    "   'radius': 50.0,\n",
    "   'radius_inner': 50.0,\n",
    "   'radius_outer': 62.0}, #For this particular data set, the outer radius limit is 62 due to edge effects on detector\n",
    "  {'pupil': 'ANY', 'radius': 3.0, 'radius_inner': 4.0, 'radius_outer': 5.0}]\n",
    "original_tsophot.write_to('adjusted_jwst_nircam_tsophot_0001.asdf')\n",
    "adjusted_tsophot=asdf.open('adjusted_jwst_nircam_tsophot_0001.asdf') #the adjusted tsophot reference file\n",
    "adjusted_tsophot.tree #print the adjusted tsophot reference file"
   ]
  },
  {
   "cell_type": "code",
   "execution_count": 10,
   "id": "superior-suffering",
   "metadata": {
    "scrolled": true
   },
   "outputs": [
    {
     "name": "stderr",
     "output_type": "stream",
     "text": [
      "2021-09-13 02:30:45,288 - stpipe.Tso3Pipeline - INFO - Tso3Pipeline instance created.\n"
     ]
    },
    {
     "name": "stdout",
     "output_type": "stream",
     "text": [
      "[stpipe.Tso3Pipeline:INFO] Tso3Pipeline instance created.\n"
     ]
    },
    {
     "name": "stderr",
     "output_type": "stream",
     "text": [
      "2021-09-13 02:30:45,297 - stpipe.Tso3Pipeline.outlier_detection - INFO - OutlierDetectionStep instance created.\n"
     ]
    },
    {
     "name": "stdout",
     "output_type": "stream",
     "text": [
      "[stpipe.Tso3Pipeline.outlier_detection:INFO] OutlierDetectionStep instance created.\n"
     ]
    },
    {
     "name": "stderr",
     "output_type": "stream",
     "text": [
      "2021-09-13 02:30:45,303 - stpipe.Tso3Pipeline.tso_photometry - INFO - TSOPhotometryStep instance created.\n"
     ]
    },
    {
     "name": "stdout",
     "output_type": "stream",
     "text": [
      "[stpipe.Tso3Pipeline.tso_photometry:INFO] TSOPhotometryStep instance created.\n"
     ]
    },
    {
     "name": "stderr",
     "output_type": "stream",
     "text": [
      "2021-09-13 02:30:45,311 - stpipe.Tso3Pipeline.extract_1d - INFO - Extract1dStep instance created.\n"
     ]
    },
    {
     "name": "stdout",
     "output_type": "stream",
     "text": [
      "[stpipe.Tso3Pipeline.extract_1d:INFO] Extract1dStep instance created.\n"
     ]
    },
    {
     "name": "stderr",
     "output_type": "stream",
     "text": [
      "2021-09-13 02:30:45,317 - stpipe.Tso3Pipeline.white_light - INFO - WhiteLightStep instance created.\n"
     ]
    },
    {
     "name": "stdout",
     "output_type": "stream",
     "text": [
      "[stpipe.Tso3Pipeline.white_light:INFO] WhiteLightStep instance created.\n"
     ]
    },
    {
     "name": "stderr",
     "output_type": "stream",
     "text": [
      "2021-09-13 02:30:45,473 - stpipe.Tso3Pipeline - INFO - Step Tso3Pipeline running with args ('/fenrirdata1/kg_data/pipeline_output/Short_Exposure_Test_NRCA1/level3_asn.json',).\n"
     ]
    },
    {
     "name": "stdout",
     "output_type": "stream",
     "text": [
      "[stpipe.Tso3Pipeline:INFO] Step Tso3Pipeline running with args ('/fenrirdata1/kg_data/pipeline_output/Short_Exposure_Test_NRCA1/level3_asn.json',).\n"
     ]
    },
    {
     "name": "stderr",
     "output_type": "stream",
     "text": [
      "2021-09-13 02:30:45,484 - stpipe.Tso3Pipeline - INFO - Step Tso3Pipeline parameters are: {'pre_hooks': [], 'post_hooks': [], 'output_file': None, 'output_dir': '/fenrirdata1/kg_data/pipeline_output/Short_Exposure_Test_NRCA1/', 'output_ext': '.fits', 'output_use_model': False, 'output_use_index': True, 'save_results': True, 'skip': False, 'suffix': None, 'search_output_file': True, 'input_dir': '', 'scale_detection': False, 'steps': {'outlier_detection': {'pre_hooks': [], 'post_hooks': [], 'output_file': None, 'output_dir': None, 'output_ext': '.fits', 'output_use_model': False, 'output_use_index': True, 'save_results': False, 'skip': True, 'suffix': None, 'search_output_file': False, 'input_dir': '', 'weight_type': 'ivm', 'pixfrac': 1.0, 'kernel': 'square', 'fillval': 'INDEF', 'nlow': 0, 'nhigh': 0, 'maskpt': 0.7, 'grow': 1, 'snr': '5.0 4.0', 'scale': '1.2 0.7', 'backg': 0.0, 'save_intermediate_results': False, 'resample_data': True, 'good_bits': '~DO_NOT_USE', 'scale_detection': False, 'allowed_memory': None}, 'tso_photometry': {'pre_hooks': [], 'post_hooks': [], 'output_file': None, 'output_dir': None, 'output_ext': '.fits', 'output_use_model': False, 'output_use_index': True, 'save_results': False, 'skip': False, 'suffix': None, 'search_output_file': True, 'input_dir': '', 'save_catalog': False}, 'extract_1d': {'pre_hooks': [], 'post_hooks': [], 'output_file': None, 'output_dir': None, 'output_ext': '.fits', 'output_use_model': False, 'output_use_index': True, 'save_results': False, 'skip': False, 'suffix': None, 'search_output_file': True, 'input_dir': '', 'smoothing_length': None, 'bkg_fit': 'poly', 'bkg_order': None, 'bkg_sigma_clip': 3.0, 'log_increment': 50, 'subtract_background': None, 'use_source_posn': None, 'apply_apcorr': True}, 'white_light': {'pre_hooks': [], 'post_hooks': [], 'output_file': None, 'output_dir': None, 'output_ext': '.ecsv', 'output_use_model': False, 'output_use_index': True, 'save_results': False, 'skip': False, 'suffix': 'whtlt', 'search_output_file': True, 'input_dir': '', 'min_wavelength': None, 'max_wavelength': None}}}\n"
     ]
    },
    {
     "name": "stdout",
     "output_type": "stream",
     "text": [
      "[stpipe.Tso3Pipeline:INFO] Step Tso3Pipeline parameters are: {'pre_hooks': [], 'post_hooks': [], 'output_file': None, 'output_dir': '/fenrirdata1/kg_data/pipeline_output/Short_Exposure_Test_NRCA1/', 'output_ext': '.fits', 'output_use_model': False, 'output_use_index': True, 'save_results': True, 'skip': False, 'suffix': None, 'search_output_file': True, 'input_dir': '', 'scale_detection': False, 'steps': {'outlier_detection': {'pre_hooks': [], 'post_hooks': [], 'output_file': None, 'output_dir': None, 'output_ext': '.fits', 'output_use_model': False, 'output_use_index': True, 'save_results': False, 'skip': True, 'suffix': None, 'search_output_file': False, 'input_dir': '', 'weight_type': 'ivm', 'pixfrac': 1.0, 'kernel': 'square', 'fillval': 'INDEF', 'nlow': 0, 'nhigh': 0, 'maskpt': 0.7, 'grow': 1, 'snr': '5.0 4.0', 'scale': '1.2 0.7', 'backg': 0.0, 'save_intermediate_results': False, 'resample_data': True, 'good_bits': '~DO_NOT_USE', 'scale_detection': False, 'allowed_memory': None}, 'tso_photometry': {'pre_hooks': [], 'post_hooks': [], 'output_file': None, 'output_dir': None, 'output_ext': '.fits', 'output_use_model': False, 'output_use_index': True, 'save_results': False, 'skip': False, 'suffix': None, 'search_output_file': True, 'input_dir': '', 'save_catalog': False}, 'extract_1d': {'pre_hooks': [], 'post_hooks': [], 'output_file': None, 'output_dir': None, 'output_ext': '.fits', 'output_use_model': False, 'output_use_index': True, 'save_results': False, 'skip': False, 'suffix': None, 'search_output_file': True, 'input_dir': '', 'smoothing_length': None, 'bkg_fit': 'poly', 'bkg_order': None, 'bkg_sigma_clip': 3.0, 'log_increment': 50, 'subtract_background': None, 'use_source_posn': None, 'apply_apcorr': True}, 'white_light': {'pre_hooks': [], 'post_hooks': [], 'output_file': None, 'output_dir': None, 'output_ext': '.ecsv', 'output_use_model': False, 'output_use_index': True, 'save_results': False, 'skip': False, 'suffix': 'whtlt', 'search_output_file': True, 'input_dir': '', 'min_wavelength': None, 'max_wavelength': None}}}\n",
      "[stdatamodels.util:DEBUG] Environmental \"STRICT_VALIDATION\" cannot be found. Using default value of \"False\".\n",
      "[stdatamodels.util:DEBUG] Environmental \"VALIDATE_ON_ASSIGNMENT\" cannot be found. Using default value of \"True\".\n",
      "[jwst.datamodels.container:DEBUG] Filtering datasets based on allowed exptypes ['science']:\n",
      "[jwst.datamodels.container:DEBUG] Files accepted for processing /fenrirdata1/kg_data/pipeline_output/Short_Exposure_Test_NRCA1/modified_jw88888001001_01101_00001_nrca1_calints.fits:\n",
      "[jwst.datamodels.util:DEBUG] Opening /fenrirdata1/kg_data/pipeline_output/Short_Exposure_Test_NRCA1/modified_jw88888001001_01101_00001_nrca1_calints.fits as <class 'jwst.datamodels.cube.CubeModel'>\n",
      "[stdatamodels.util:DEBUG] Environmental \"STRICT_VALIDATION\" cannot be found. Using default value of \"False\".\n",
      "[stdatamodels.util:DEBUG] Environmental \"VALIDATE_ON_ASSIGNMENT\" cannot be found. Using default value of \"True\".\n",
      "[stdatamodels.util:DEBUG] Environmental \"SKIP_FITS_UPDATE\" cannot be found. Using default value of \"None\".\n",
      "[stdatamodels.fits_support:DEBUG] FITS hash matches. Skipping FITS updating.\n",
      "[stdatamodels.fits_support:DEBUG] Skipping FITS keyword updating except for BinTableHDU and its associated header keywords.\n"
     ]
    },
    {
     "name": "stderr",
     "output_type": "stream",
     "text": [
      "2021-09-13 02:30:45,774 - stpipe.Tso3Pipeline - INFO - Prefetching reference files for dataset: 'modified_jw88888001001_01101_00001_nrca1_calints.fits' reftypes = ['gain', 'readnoise']\n"
     ]
    },
    {
     "name": "stdout",
     "output_type": "stream",
     "text": [
      "[stpipe.Tso3Pipeline:INFO] Prefetching reference files for dataset: 'modified_jw88888001001_01101_00001_nrca1_calints.fits' reftypes = ['gain', 'readnoise']\n"
     ]
    },
    {
     "name": "stderr",
     "output_type": "stream",
     "text": [
      "2021-09-13 02:30:45,794 - stpipe.Tso3Pipeline - INFO - Prefetch for GAIN reference file is '/fenrirdata1/kg_data/crds_cache/references/jwst/nircam/jwst_nircam_gain_0050.fits'.\n"
     ]
    },
    {
     "name": "stdout",
     "output_type": "stream",
     "text": [
      "[stpipe.Tso3Pipeline:INFO] Prefetch for GAIN reference file is '/fenrirdata1/kg_data/crds_cache/references/jwst/nircam/jwst_nircam_gain_0050.fits'.\n"
     ]
    },
    {
     "name": "stderr",
     "output_type": "stream",
     "text": [
      "2021-09-13 02:30:45,797 - stpipe.Tso3Pipeline - INFO - Prefetch for READNOISE reference file is '/fenrirdata1/kg_data/crds_cache/references/jwst/nircam/jwst_nircam_readnoise_0025.fits'.\n"
     ]
    },
    {
     "name": "stdout",
     "output_type": "stream",
     "text": [
      "[stpipe.Tso3Pipeline:INFO] Prefetch for READNOISE reference file is '/fenrirdata1/kg_data/crds_cache/references/jwst/nircam/jwst_nircam_readnoise_0025.fits'.\n"
     ]
    },
    {
     "name": "stderr",
     "output_type": "stream",
     "text": [
      "2021-09-13 02:30:45,800 - stpipe.Tso3Pipeline - INFO - Starting calwebb_tso3...\n"
     ]
    },
    {
     "name": "stdout",
     "output_type": "stream",
     "text": [
      "[stpipe.Tso3Pipeline:INFO] Starting calwebb_tso3...\n",
      "[stdatamodels.util:DEBUG] Environmental \"STRICT_VALIDATION\" cannot be found. Using default value of \"False\".\n",
      "[stdatamodels.util:DEBUG] Environmental \"VALIDATE_ON_ASSIGNMENT\" cannot be found. Using default value of \"True\".\n",
      "[jwst.datamodels.container:DEBUG] Filtering datasets based on allowed exptypes ['science']:\n",
      "[jwst.datamodels.container:DEBUG] Files accepted for processing /fenrirdata1/kg_data/pipeline_output/Short_Exposure_Test_NRCA1/modified_jw88888001001_01101_00001_nrca1_calints.fits:\n",
      "[jwst.datamodels.util:DEBUG] Opening /fenrirdata1/kg_data/pipeline_output/Short_Exposure_Test_NRCA1/modified_jw88888001001_01101_00001_nrca1_calints.fits as <class 'jwst.datamodels.cube.CubeModel'>\n",
      "[stdatamodels.util:DEBUG] Environmental \"STRICT_VALIDATION\" cannot be found. Using default value of \"False\".\n",
      "[stdatamodels.util:DEBUG] Environmental \"VALIDATE_ON_ASSIGNMENT\" cannot be found. Using default value of \"True\".\n",
      "[stdatamodels.util:DEBUG] Environmental \"SKIP_FITS_UPDATE\" cannot be found. Using default value of \"None\".\n",
      "[stdatamodels.fits_support:DEBUG] FITS hash matches. Skipping FITS updating.\n",
      "[stdatamodels.fits_support:DEBUG] Skipping FITS keyword updating except for BinTableHDU and its associated header keywords.\n",
      "[stdatamodels.util:DEBUG] Environmental \"STRICT_VALIDATION\" cannot be found. Using default value of \"False\".\n",
      "[stdatamodels.util:DEBUG] Environmental \"VALIDATE_ON_ASSIGNMENT\" cannot be found. Using default value of \"True\".\n",
      "[stdatamodels.util:DEBUG] Environmental \"STRICT_VALIDATION\" cannot be found. Using default value of \"False\".\n",
      "[stdatamodels.util:DEBUG] Environmental \"VALIDATE_ON_ASSIGNMENT\" cannot be found. Using default value of \"True\".\n",
      "[stdatamodels.util:DEBUG] Environmental \"STRICT_VALIDATION\" cannot be found. Using default value of \"False\".\n",
      "[stdatamodels.util:DEBUG] Environmental \"VALIDATE_ON_ASSIGNMENT\" cannot be found. Using default value of \"True\".\n"
     ]
    },
    {
     "name": "stderr",
     "output_type": "stream",
     "text": [
      "2021-09-13 02:30:46,245 - stpipe.Tso3Pipeline - INFO - Performing outlier detection on input images ...\n"
     ]
    },
    {
     "name": "stdout",
     "output_type": "stream",
     "text": [
      "[stpipe.Tso3Pipeline:INFO] Performing outlier detection on input images ...\n"
     ]
    },
    {
     "name": "stderr",
     "output_type": "stream",
     "text": [
      "2021-09-13 02:30:46,376 - stpipe.Tso3Pipeline.outlier_detection - INFO - Step outlier_detection running with args (<ModelContainer>,).\n"
     ]
    },
    {
     "name": "stdout",
     "output_type": "stream",
     "text": [
      "[stpipe.Tso3Pipeline.outlier_detection:INFO] Step outlier_detection running with args (<ModelContainer>,).\n"
     ]
    },
    {
     "name": "stderr",
     "output_type": "stream",
     "text": [
      "2021-09-13 02:30:46,381 - stpipe.Tso3Pipeline.outlier_detection - INFO - Step outlier_detection parameters are: {'pre_hooks': [], 'post_hooks': [], 'output_file': None, 'output_dir': None, 'output_ext': '.fits', 'output_use_model': False, 'output_use_index': True, 'save_results': False, 'skip': True, 'suffix': None, 'search_output_file': False, 'input_dir': '/fenrirdata1/kg_data/pipeline_output/Short_Exposure_Test_NRCA1', 'weight_type': 'ivm', 'pixfrac': 1.0, 'kernel': 'square', 'fillval': 'INDEF', 'nlow': 0, 'nhigh': 0, 'maskpt': 0.7, 'grow': 1, 'snr': '5.0 4.0', 'scale': '1.2 0.7', 'backg': 0.0, 'save_intermediate_results': False, 'resample_data': True, 'good_bits': '~DO_NOT_USE', 'scale_detection': False, 'allowed_memory': None}\n"
     ]
    },
    {
     "name": "stdout",
     "output_type": "stream",
     "text": [
      "[stpipe.Tso3Pipeline.outlier_detection:INFO] Step outlier_detection parameters are: {'pre_hooks': [], 'post_hooks': [], 'output_file': None, 'output_dir': None, 'output_ext': '.fits', 'output_use_model': False, 'output_use_index': True, 'save_results': False, 'skip': True, 'suffix': None, 'search_output_file': False, 'input_dir': '/fenrirdata1/kg_data/pipeline_output/Short_Exposure_Test_NRCA1', 'weight_type': 'ivm', 'pixfrac': 1.0, 'kernel': 'square', 'fillval': 'INDEF', 'nlow': 0, 'nhigh': 0, 'maskpt': 0.7, 'grow': 1, 'snr': '5.0 4.0', 'scale': '1.2 0.7', 'backg': 0.0, 'save_intermediate_results': False, 'resample_data': True, 'good_bits': '~DO_NOT_USE', 'scale_detection': False, 'allowed_memory': None}\n"
     ]
    },
    {
     "name": "stderr",
     "output_type": "stream",
     "text": [
      "2021-09-13 02:30:46,383 - stpipe.Tso3Pipeline.outlier_detection - INFO - Step skipped.\n"
     ]
    },
    {
     "name": "stdout",
     "output_type": "stream",
     "text": [
      "[stpipe.Tso3Pipeline.outlier_detection:INFO] Step skipped.\n"
     ]
    },
    {
     "name": "stderr",
     "output_type": "stream",
     "text": [
      "2021-09-13 02:30:46,386 - stpipe.Tso3Pipeline.outlier_detection - INFO - Step outlier_detection done\n"
     ]
    },
    {
     "name": "stdout",
     "output_type": "stream",
     "text": [
      "[stpipe.Tso3Pipeline.outlier_detection:INFO] Step outlier_detection done\n"
     ]
    },
    {
     "name": "stderr",
     "output_type": "stream",
     "text": [
      "2021-09-13 02:30:46,509 - stpipe.Tso3Pipeline.tso_photometry - INFO - Step tso_photometry running with args (<CubeModel(2, 256, 2048) from modified_jw88888001001_01101_00001_nrca1_calints.fits>,).\n"
     ]
    },
    {
     "name": "stdout",
     "output_type": "stream",
     "text": [
      "[stpipe.Tso3Pipeline.tso_photometry:INFO] Step tso_photometry running with args (<CubeModel(2, 256, 2048) from modified_jw88888001001_01101_00001_nrca1_calints.fits>,).\n"
     ]
    },
    {
     "name": "stderr",
     "output_type": "stream",
     "text": [
      "2021-09-13 02:30:46,513 - stpipe.Tso3Pipeline.tso_photometry - INFO - Step tso_photometry parameters are: {'pre_hooks': [], 'post_hooks': [], 'output_file': None, 'output_dir': None, 'output_ext': '.fits', 'output_use_model': False, 'output_use_index': True, 'save_results': False, 'skip': False, 'suffix': None, 'search_output_file': True, 'input_dir': '/fenrirdata1/kg_data/pipeline_output/Short_Exposure_Test_NRCA1', 'save_catalog': False}\n"
     ]
    },
    {
     "name": "stdout",
     "output_type": "stream",
     "text": [
      "[stpipe.Tso3Pipeline.tso_photometry:INFO] Step tso_photometry parameters are: {'pre_hooks': [], 'post_hooks': [], 'output_file': None, 'output_dir': None, 'output_ext': '.fits', 'output_use_model': False, 'output_use_index': True, 'save_results': False, 'skip': False, 'suffix': None, 'search_output_file': True, 'input_dir': '/fenrirdata1/kg_data/pipeline_output/Short_Exposure_Test_NRCA1', 'save_catalog': False}\n",
      "[stdatamodels.util:DEBUG] Environmental \"STRICT_VALIDATION\" cannot be found. Using default value of \"False\".\n",
      "[stdatamodels.util:DEBUG] Environmental \"VALIDATE_ON_ASSIGNMENT\" cannot be found. Using default value of \"True\".\n",
      "[stpipe.Tso3Pipeline.tso_photometry:DEBUG] Reference file name = /home/kglidic/Software/Data_Challenge_Simulation:Pipeline_test/Short_Exposure_Test_NRCA1/adjusted_jwst_nircam_tsophot_0001.asdf\n",
      "[stdatamodels.util:DEBUG] Environmental \"STRICT_VALIDATION\" cannot be found. Using default value of \"False\".\n",
      "[stdatamodels.util:DEBUG] Environmental \"VALIDATE_ON_ASSIGNMENT\" cannot be found. Using default value of \"True\".\n",
      "[stpipe.Tso3Pipeline.tso_photometry:DEBUG] radius = 50.0\n",
      "[stpipe.Tso3Pipeline.tso_photometry:DEBUG] radius_inner = 50.0\n",
      "[stpipe.Tso3Pipeline.tso_photometry:DEBUG] radius_outer = 62.0\n",
      "[stpipe.Tso3Pipeline.tso_photometry:DEBUG] xcenter = 1980.62\n",
      "[stpipe.Tso3Pipeline.tso_photometry:DEBUG] ycenter = 166.83\n",
      "[jwst.tso_photometry.tso_photometry:DEBUG] Times are from the INT_TIMES table\n"
     ]
    },
    {
     "name": "stderr",
     "output_type": "stream",
     "text": [
      "2021-09-13 02:30:46,608 - stpipe.Tso3Pipeline.tso_photometry - INFO - Step tso_photometry done\n"
     ]
    },
    {
     "name": "stdout",
     "output_type": "stream",
     "text": [
      "[stpipe.Tso3Pipeline.tso_photometry:INFO] Step tso_photometry done\n"
     ]
    },
    {
     "name": "stderr",
     "output_type": "stream",
     "text": [
      "2021-09-13 02:30:46,611 - stpipe.Tso3Pipeline - INFO - Writing Level 3 photometry catalog /fenrirdata1/kg_data/pipeline_output/Short_Exposure_Test_NRCA1/modified_test_level3_phot.ecsv\n"
     ]
    },
    {
     "name": "stdout",
     "output_type": "stream",
     "text": [
      "[stpipe.Tso3Pipeline:INFO] Writing Level 3 photometry catalog /fenrirdata1/kg_data/pipeline_output/Short_Exposure_Test_NRCA1/modified_test_level3_phot.ecsv\n"
     ]
    },
    {
     "name": "stderr",
     "output_type": "stream",
     "text": [
      "2021-09-13 02:30:46,662 - stpipe.Tso3Pipeline - INFO - Step Tso3Pipeline done\n"
     ]
    },
    {
     "name": "stdout",
     "output_type": "stream",
     "text": [
      "[stpipe.Tso3Pipeline:INFO] Step Tso3Pipeline done\n"
     ]
    }
   ],
   "source": [
    "filename_stage3 = '/fenrirdata1/kg_data/pipeline_output/Short_Exposure_Test_NRCA1/modified_jw88888001001_01101_00001_nrca1_calints.fits'\n",
    "\n",
    "# Instantiate the class. Do not provide a configuration file.\n",
    "pipeline_stage3 = Tso3Pipeline()\n",
    "\n",
    "pipeline_stage3.outlier_detection.skip = True\n",
    "pipeline_stage3.tso_photometry.override_tsophot = 'adjusted_jwst_nircam_tsophot_0001.asdf' #use the modified tso_phot ref file\n",
    "\n",
    "# Specify that you want results saved to a file\n",
    "pipeline_stage3.save_results = True\n",
    "pipeline_stage3.output_dir = '/fenrirdata1/kg_data/pipeline_output/Short_Exposure_Test_NRCA1/'\n",
    "\n",
    "# Execute the pipeline using the run method\n",
    "result_stage3 = pipeline_stage3.run(level3_asn)"
   ]
  },
  {
   "cell_type": "markdown",
   "id": "supposed-purple",
   "metadata": {},
   "source": [
    "# Plotting Results"
   ]
  },
  {
   "cell_type": "code",
   "execution_count": 11,
   "id": "indoor-steps",
   "metadata": {
    "scrolled": true
   },
   "outputs": [
    {
     "name": "stdout",
     "output_type": "stream",
     "text": [
      "['# %ECSV 0.9']\n",
      "['# ---']\n",
      "['# datatype:']\n",
      "['# - {name: MJD', ' datatype: float64}']\n",
      "['# - {name: aperture_sum', ' unit: Jy', ' datatype: float64}']\n",
      "['# - {name: aperture_sum_err', ' unit: Jy', ' datatype: float64}']\n",
      "['# - {name: annulus_sum', ' unit: Jy', ' datatype: float64}']\n",
      "['# - {name: annulus_sum_err', ' unit: Jy', ' datatype: float64}']\n",
      "['# - {name: annulus_mean', ' unit: Jy', ' datatype: float64}']\n",
      "['# - {name: annulus_mean_err', ' unit: Jy', ' datatype: float64}']\n",
      "['# - {name: aperture_bkg', ' unit: Jy', ' datatype: float64}']\n",
      "['# - {name: aperture_bkg_err', ' unit: Jy', ' datatype: float64}']\n",
      "['# - {name: net_aperture_sum', ' unit: Jy', ' datatype: float64}']\n",
      "['# - {name: net_aperture_sum_err', ' unit: Jy', ' datatype: float64}']\n",
      "['# meta: !!omap']\n",
      "['# - {instrument: NIRCAM}']\n",
      "['# - {detector: NRCA1}']\n",
      "['# - {channel: SHORT}']\n",
      "['# - {subarray: SUBGRISM256}']\n",
      "['# - {filter: F182M}']\n",
      "['# - {pupil: WLP8}']\n",
      "['# - {target_name: UNKNOWN}']\n",
      "['# - {xcenter: 1980.62}']\n",
      "['# - {ycenter: 166.83}']\n",
      "['# - ra_icrs: !numpy.ndarray']\n",
      "['#     buffer: !!binary |']\n",
      "['#       bVhtTDNieVhVRUE9']\n",
      "['#     dtype: float64']\n",
      "['#     order: C']\n",
      "['#     shape: !!python/tuple []']\n",
      "['# - dec_icrs: !numpy.ndarray']\n",
      "['#     buffer: !!binary |']\n",
      "['#       dDlrUktiV1pQc0E9']\n",
      "['#     dtype: float64']\n",
      "['#     order: C']\n",
      "['#     shape: !!python/tuple []']\n",
      "['# - {apertures: Photometry measured in a circular aperture of r=50.0 pixels.  Background calculated as the mean in a circular annulus']\n",
      "['#     with r_inner=50.0 pixels and r_outer=62.0 pixels.}']\n",
      "['# - {number_of_integrations: 2}']\n",
      "['# - __serialized_columns__:']\n",
      "['#     annulus_mean:']\n",
      "['#       __class__: astropy.units.quantity.Quantity']\n",
      "['#       unit: &id001 !astropy.units.Unit {unit: Jy}']\n",
      "['#       value: !astropy.table.SerializedColumn {name: annulus_mean}']\n",
      "['#     annulus_mean_err:']\n",
      "['#       __class__: astropy.units.quantity.Quantity']\n",
      "['#       unit: *id001']\n",
      "['#       value: !astropy.table.SerializedColumn {name: annulus_mean_err}']\n",
      "['#     annulus_sum:']\n",
      "['#       __class__: astropy.units.quantity.Quantity']\n",
      "['#       unit: *id001']\n",
      "['#       value: !astropy.table.SerializedColumn {name: annulus_sum}']\n",
      "['#     annulus_sum_err:']\n",
      "['#       __class__: astropy.units.quantity.Quantity']\n",
      "['#       unit: *id001']\n",
      "['#       value: !astropy.table.SerializedColumn {name: annulus_sum_err}']\n",
      "['#     aperture_bkg:']\n",
      "['#       __class__: astropy.units.quantity.Quantity']\n",
      "['#       unit: *id001']\n",
      "['#       value: !astropy.table.SerializedColumn {name: aperture_bkg}']\n",
      "['#     aperture_bkg_err:']\n",
      "['#       __class__: astropy.units.quantity.Quantity']\n",
      "['#       unit: *id001']\n",
      "['#       value: !astropy.table.SerializedColumn {name: aperture_bkg_err}']\n",
      "['#     aperture_sum:']\n",
      "['#       __class__: astropy.units.quantity.Quantity']\n",
      "['#       unit: *id001']\n",
      "['#       value: !astropy.table.SerializedColumn {name: aperture_sum}']\n",
      "['#     aperture_sum_err:']\n",
      "['#       __class__: astropy.units.quantity.Quantity']\n",
      "['#       unit: *id001']\n",
      "['#       value: !astropy.table.SerializedColumn {name: aperture_sum_err}']\n",
      "['#     net_aperture_sum:']\n",
      "['#       __class__: astropy.units.quantity.Quantity']\n",
      "['#       unit: *id001']\n",
      "['#       value: !astropy.table.SerializedColumn {name: net_aperture_sum}']\n",
      "['#     net_aperture_sum_err:']\n",
      "['#       __class__: astropy.units.quantity.Quantity']\n",
      "['#       unit: *id001']\n",
      "['#       value: !astropy.table.SerializedColumn {name: net_aperture_sum_err}']\n",
      "['# schema: astropy-2.0']\n",
      "['MJD aperture_sum aperture_sum_err annulus_sum annulus_sum_err annulus_mean annulus_mean_err aperture_bkg aperture_bkg_err net_aperture_sum net_aperture_sum_err']\n",
      "['59884.118125 0.13929924884220812 7.529845420696481e-05 0.04399685601306154 4.654991810425126e-05 1.0420114754436194e-05 1.1024776141093002e-08 0.08183938990524839 8.658838933082452e-05 0.057459858936959735 0.00011474931970545542']\n",
      "['59884.11817176007 0.14134795526346694 7.532551722128644e-05 0.0448565844446744 4.656031603582443e-05 1.0623730869924035e-05 1.102723876342604e-08 0.08343858713667113 8.660773072139961e-05 0.05790936812679581 0.00011478167347344604']\n"
     ]
    }
   ],
   "source": [
    "#Import the stage 3 result file\n",
    "with open('/fenrirdata1/kg_data/pipeline_output/Short_Exposure_Test_NRCA1/modified_test_level3_phot.ecsv', 'r') as file:\n",
    "    reader = csv.reader(file)\n",
    "    for row in reader:\n",
    "        print(row)"
   ]
  },
  {
   "cell_type": "code",
   "execution_count": 14,
   "id": "seven-station",
   "metadata": {},
   "outputs": [
    {
     "data": {
      "text/plain": [
       "Text(0, 0.5, 'Flux')"
      ]
     },
     "execution_count": 14,
     "metadata": {},
     "output_type": "execute_result"
    },
    {
     "data": {
      "image/png": "[encoded data removed]",
      "text/plain": [
       "<Figure size 432x288 with 1 Axes>"
      ]
     },
     "metadata": {
      "needs_background": "light"
     },
     "output_type": "display_data"
    }
   ],
   "source": [
    "dat = ascii.read('/fenrirdata1/kg_data/pipeline_output/Short_Exposure_Test_NRCA1/modified_test_level3_phot.ecsv') #call the data \n",
    "\n",
    "#normalized_net_aperture_sum = dat['net_aperture_sum'].si.value/dat['net_aperture_sum'][0].si.value #normalize the flux values\n",
    "#std_net_aperture_sum = np.std_net_aperture_sum(normalized_net_aperture_sum[0:20]) #manually calculate the std. (This was helpful prior to finding the outer radii limit which return nan errors.)\n",
    "#plt.errorbar(dat['MJD'],normalized_flux, yerr=std,fmt='.')\n",
    "\n",
    "plt.errorbar(dat['MJD'],dat['net_aperture_sum'].value, yerr=dat['net_aperture_sum_err'].value,fmt='.')\n",
    "plt.title(\"Net Aperture Sum\")\n",
    "plt.xlabel(\"Time (MJD)\")\n",
    "plt.ylabel(\"Flux\")"
   ]
  },
  {
   "cell_type": "code",
   "execution_count": 15,
   "id": "breeding-wilson",
   "metadata": {},
   "outputs": [
    {
     "data": {
      "text/plain": [
       "Text(0, 0.5, 'Flux')"
      ]
     },
     "execution_count": 15,
     "metadata": {},
     "output_type": "execute_result"
    },
    {
     "data": {
      "image/png": "[encoded data removed]",
      "text/plain": [
       "<Figure size 432x288 with 1 Axes>"
      ]
     },
     "metadata": {
      "needs_background": "light"
     },
     "output_type": "display_data"
    }
   ],
   "source": [
    "plt.errorbar(dat['MJD'],dat['aperture_sum'].to(u.Jy).value, yerr=dat['aperture_sum_err'].to(u.Jy).value, fmt='.')\n",
    "\n",
    "plt.title(\"Aperture Sum\")\n",
    "plt.xlabel(\"Time (MJD)\")\n",
    "plt.ylabel(\"Flux\")"
   ]
  },
  {
   "cell_type": "code",
   "execution_count": 16,
   "id": "interracial-joyce",
   "metadata": {},
   "outputs": [
    {
     "data": {
      "text/plain": [
       "Text(0, 0.5, 'Flux')"
      ]
     },
     "execution_count": 16,
     "metadata": {},
     "output_type": "execute_result"
    },
    {
     "data": {
      "image/png": "[encoded data removed]",
      "text/plain": [
       "<Figure size 432x288 with 1 Axes>"
      ]
     },
     "metadata": {
      "needs_background": "light"
     },
     "output_type": "display_data"
    }
   ],
   "source": [
    "plt.plot(dat['MJD'],dat['aperture_bkg'].to(u.Jy).value,'.')\n",
    "\n",
    "plt.title(\"Aperture Background\")\n",
    "plt.xlabel(\"Time (MJD)\")\n",
    "plt.ylabel(\"Flux\")"
   ]
  },
  {
   "cell_type": "code",
   "execution_count": 17,
   "id": "generous-techno",
   "metadata": {},
   "outputs": [
    {
     "data": {
      "text/plain": [
       "Text(0, 0.5, 'Flux')"
      ]
     },
     "execution_count": 17,
     "metadata": {},
     "output_type": "execute_result"
    },
    {
     "data": {
      "image/png": "[encoded data removed]",
      "text/plain": [
       "<Figure size 432x288 with 1 Axes>"
      ]
     },
     "metadata": {
      "needs_background": "light"
     },
     "output_type": "display_data"
    }
   ],
   "source": [
    "plt.plot(dat['MJD'],dat['annulus_mean'].to(u.Jy).value,'.')\n",
    "\n",
    "plt.title(\"Annulus Mean\")\n",
    "plt.xlabel(\"Time (MJD)\")\n",
    "plt.ylabel(\"Flux\")"
   ]
  },
  {
   "cell_type": "code",
   "execution_count": 18,
   "id": "amended-repository",
   "metadata": {},
   "outputs": [
    {
     "data": {
      "text/plain": [
       "Text(0, 0.5, 'Flux')"
      ]
     },
     "execution_count": 18,
     "metadata": {},
     "output_type": "execute_result"
    },
    {
     "data": {
      "image/png": "[encoded data removed]",
      "text/plain": [
       "<Figure size 432x288 with 1 Axes>"
      ]
     },
     "metadata": {
      "needs_background": "light"
     },
     "output_type": "display_data"
    }
   ],
   "source": [
    "plt.plot(dat['MJD'],dat['annulus_sum'].to(u.Jy).value,'.')\n",
    "\n",
    "plt.title(\"Annulus Sum\")\n",
    "plt.xlabel(\"Time (MJD)\")\n",
    "plt.ylabel(\"Flux\")"
   ]
  }
 ],
 "metadata": {
  "kernelspec": {
   "display_name": "Python 3 (ipykernel)",
   "language": "python",
   "name": "python3"
  },
  "language_info": {
   "codemirror_mode": {
    "name": "ipython",
    "version": 3
   },
   "file_extension": ".py",
   "mimetype": "text/x-python",
   "name": "python",
   "nbconvert_exporter": "python",
   "pygments_lexer": "ipython3",
   "version": "3.9.1"
  }
 },
 "nbformat": 4,
 "nbformat_minor": 5
}
