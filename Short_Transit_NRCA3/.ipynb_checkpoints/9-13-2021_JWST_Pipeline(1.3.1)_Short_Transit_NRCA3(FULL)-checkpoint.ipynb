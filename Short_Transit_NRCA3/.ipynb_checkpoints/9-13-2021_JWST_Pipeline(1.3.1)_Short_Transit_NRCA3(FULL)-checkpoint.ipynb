{
 "cells": [
  {
   "cell_type": "markdown",
   "id": "acknowledged-signal",
   "metadata": {},
   "source": [
    "# Import Library \n",
    "Each pipeline consists of a certain sequence of calibration steps and is defined as a python class within a python code module. From within python, the pipelines are called by their class names, but configuration files can still be supplied in order to set pipeline or step parameter values"
   ]
  },
  {
   "cell_type": "code",
   "execution_count": 1,
   "id": "aquatic-letter",
   "metadata": {},
   "outputs": [
    {
     "name": "stdout",
     "output_type": "stream",
     "text": [
      "1.3.1\n"
     ]
    }
   ],
   "source": [
    "import os\n",
    "#os.environ['CRDS_PATH'] = '/fenrirdata1/kg_data/crds_cache/' #These are already defined in my ~./bash profile now\n",
    "#os.environ['CRDS_SERVER_URL']= 'https://jwst-crds.stsci.edu'\n",
    "os.environ['CRDS_CONTEXT']='jwst_0756.pmap'\n",
    "\n",
    "import jwst\n",
    "print(jwst.__version__)\n",
    "\n",
    "from jwst.pipeline.calwebb_detector1 import Detector1Pipeline\n",
    "from jwst.pipeline.calwebb_image2 import Image2Pipeline\n",
    "from jwst.pipeline.calwebb_tso3 import Tso3Pipeline\n",
    "from jwst.associations.asn_from_list import asn_from_list\n",
    "from jwst.associations.lib.rules_level2_base import DMSLevel2bBase\n",
    "\n",
    "from astropy.io import fits, ascii\n",
    "import matplotlib.pyplot as plt\n",
    "import csv\n",
    "import numpy as np\n",
    "import ref_pixels\n",
    "from splintegrate import splintegrate\n",
    "import asdf\n",
    "import astropy.units as u"
   ]
  },
  {
   "cell_type": "markdown",
   "id": "defensive-tackle",
   "metadata": {},
   "source": [
    "# Stage 1\n",
    "### Detector-level corrections and ramp fitting for individual exposures.\n",
    "Stage 1 consists of detector-level corrections that are performed on a group-by-group basis, followed by ramp fitting. The output of stage 1 processing is a countrate image per exposure, or per integration for some modes.\n",
    "\n",
    "#### Detector1Pipeline: \n",
    "Apply all calibration steps to raw JWST ramps to produce a 2-D slope product. This stage takes care of basic data reduction steps, such as reference pixel correction, superbias subtraction, removal of non-linearity, and flagging of cosmic rays. In the final step in this stage of the pipeline, line-fitting is performed on each integration. A slope image is created for each integration. The steps in this stage are identical for all data."
   ]
  },
  {
   "cell_type": "code",
   "execution_count": 2,
   "id": "technological-heather",
   "metadata": {},
   "outputs": [
    {
     "data": {
      "text/plain": [
       "SIMPLE  =                    T / conforms to FITS standard                      \n",
       "BITPIX  =                    8 / array data type                                \n",
       "NAXIS   =                    0 / number of array dimensions                     \n",
       "EXTEND  =                    T                                                  \n",
       "DATE    = '2021-09-10T19:13:03.142' / UTC date file created                     \n",
       "ORIGIN  = 'STScI   '           / Organization responsible for creating file     \n",
       "FILENAME= 'jw88888002001_01101_00001_nrca3_uncal.fits' / Name of the file       \n",
       "FILETYPE= 'raw     '           / Type of data in the file                       \n",
       "DATAMODL= 'RampModel'          / Type of data model                             \n",
       "TELESCOP= 'JWST    '           / Telescope used to acquire the data             \n",
       "                                                                                \n",
       "        Program information                                                     \n",
       "                                                                                \n",
       "TITLE   = 'Mirage Time Series Tests' / Proposal title                           \n",
       "PI_NAME = 'D.N. Adams'         / Principal investigator name                    \n",
       "CATEGORY= 'GO      '           / Program category                               \n",
       "SUBCAT  = 'UNKNOWN '           / Program sub-category                           \n",
       "SCICAT  = 'Exoplanets and Exoplanet Formation' / Science category assigned durin\n",
       "CONT_ID =                    0 / Continuation of previous program               \n",
       "                                                                                \n",
       "        Observation identifiers                                                 \n",
       "                                                                                \n",
       "DATE-OBS= '2022-11-01'         / [yyyy-mm-dd] UTC date at start of exposure     \n",
       "TIME-OBS= '02:50:06.000'       / [hh:mm:ss.sss] UTC time at start of exposure   \n",
       "OBS_ID  = 'V88888002001P0000000001101' / Programmatic observation identifier    \n",
       "VISIT_ID= '88888002001'        / Visit identifier                               \n",
       "PROGRAM = '88888   '           / Program number                                 \n",
       "OBSERVTN= '002     '           / Observation number                             \n",
       "VISIT   = '001     '           / Visit number                                   \n",
       "VISITGRP= '01      '           / Visit group identifier                         \n",
       "SEQ_ID  = '1       '           / Parallel sequence identifier                   \n",
       "ACT_ID  = '01      '           / Activity identifier                            \n",
       "EXPOSURE= '00001   '           / Exposure request number                        \n",
       "OBSLABEL= 'GrismTSO-F322W2'    / Proposer label for the observation             \n",
       "                                                                                \n",
       "        Visit information                                                       \n",
       "                                                                                \n",
       "TSOVISIT=                    T / Time Series Observation visit indicator        \n",
       "                                                                                \n",
       "        Target information                                                      \n",
       "                                                                                \n",
       "TARGPROP= 'WASP-79-BRIGHTER'   / Proposer's name for the target                 \n",
       "TARGNAME= 'UNKNOWN '           / Standard astronomical catalog name for target  \n",
       "TARG_RA =    66.37090000000001 / Target RA at mid time of exposure              \n",
       "TARG_DEC=            -30.60045 / Target Dec at mid time of exposure             \n",
       "                                                                                \n",
       "        Instrument configuration information                                    \n",
       "                                                                                \n",
       "INSTRUME= 'NIRCAM  '           / Instrument used to acquire the data            \n",
       "DETECTOR= 'NRCA3   '           / Name of detector used to acquire the data      \n",
       "MODULE  = 'A       '           / NIRCam module: A, B, or MULTIPLE               \n",
       "CHANNEL = 'SHORT   '           / Instrument channel                             \n",
       "FILTER  = 'F210M   '           / Name of the filter element used                \n",
       "PUPIL   = 'WLP8    '           / Name of the pupil element used                 \n",
       "                                                                                \n",
       "        Exposure parameters                                                     \n",
       "                                                                                \n",
       "EXP_TYPE= 'NRC_TSIMAGE'        / Type of data in the exposure                   \n",
       "EXPSTART=         59884.118125 / UTC exposure start time                        \n",
       "EXPMID  =    59884.11976160243 / UTC exposure mid time                          \n",
       "EXPEND  =    59884.12139820486 / UTC exposure end time                          \n",
       "READPATT= 'RAPID   '           / Readout pattern                                \n",
       "NINTS   =                   70 / Number of integrations in exposure             \n",
       "INTSTART=                    1 / Starting integration number in this segment    \n",
       "INTEND  =                   70 / Ending integration number in this segment      \n",
       "NGROUPS =                    3 / Number of groups in integration                \n",
       "NFRAMES =                    1 / Number of frames per group                     \n",
       "GROUPGAP=                    0 / Number of frames dropped between groups        \n",
       "TSAMPLE =                   10 / [us] Time between samples                      \n",
       "TFRAME  =              1.34669 / [s] Time between frames                        \n",
       "TGROUP  =              1.34669 / [s] Time between groups                        \n",
       "EFFINTTM=              4.04007 / [s] Effective integration time                 \n",
       "EFFEXPTM=             282.8049 / [s] Effective exposure time                    \n",
       "DURATION=             377.0732 / [s] Total duration of exposure                 \n",
       "NRSTSTRT=                    1 / Number of resets at start of exposure          \n",
       "NRESETS =                    1 / Number of resets between integrations          \n",
       "                                                                                \n",
       "        Subarray parameters                                                     \n",
       "                                                                                \n",
       "SUBARRAY= 'SUBGRISM256'        / Subarray used                                  \n",
       "SUBSTRT1=                    1 / Starting pixel in axis 1 direction             \n",
       "SUBSTRT2=                    1 / Starting pixel in axis 2 direction             \n",
       "SUBSIZE1=                 2048 / Number of pixels in axis 1 direction           \n",
       "SUBSIZE2=                  256 / Number of pixels in axis 2 direction           \n",
       "FASTAXIS=                   -1 / Fast readout axis direction                    \n",
       "SLOWAXIS=                    2 / Slow readout axis direction                    \n",
       "                                                                                \n",
       "        Dither information                                                      \n",
       "                                                                                \n",
       "PATTTYPE= 'NONE    '           / Primary dither pattern type                    \n",
       "PATT_NUM=                    1 / Position number in primary pattern             \n",
       "NUMDTHPT=                    1 / Total number of points in pattern              \n",
       "PATTSIZE= 'DEFAULT '           / Primary dither pattern size                    \n",
       "SUBPXPTS=                    1 / Number of points in subpixel dither pattern    \n",
       "XOFFSET =                  0.0 / x offset from pattern starting position        \n",
       "YOFFSET =                1.449 / y offset from pattern starting position        \n",
       "                                                                                \n",
       "        Aperture information                                                    \n",
       "                                                                                \n",
       "APERNAME= 'NRCA3_GRISMTS256'   / PRD science aperture used                      \n",
       "MRGEVRSN= '1.3.4.dev630+g03dcb4d' / Mirage version used                         \n",
       "YAMLFILE= '/fenrirdata1/es_tso/sim_data/mirage_run_scripts/mirage_input_002_sh&'\n",
       "CONTINUE  'ort_transit_wasp79/yaml_files/jw88888002001_01101_00001_nrca3.yaml&' \n",
       "CONTINUE  '' / Mirage input yaml file                                           \n",
       "GAIN    =                 2.05 / Gain value used by Mirage                      \n",
       "DISTORTN= '/fenrirdata1/es_tso/crds_cache/references/jwst/nircam/jwst_nircam_d&'\n",
       "CONTINUE  'istortion_0089.asdf&'                                                \n",
       "CONTINUE  '' / Distortion reffile used by Mirage                                \n",
       "IPC     = '/fenrirdata1/es_tso/crds_cache/references/jwst/nircam/Kernel_to_add&'\n",
       "CONTINUE  '_IPC_effects_from_jwst_nircam_ipc_0030.fits&'                        \n",
       "CONTINUE  '' / IPC kernel used by Mirage                                        \n",
       "PIXARMAP= '/fenrirdata1/es_tso/crds_cache/references/jwst/nircam/jwst_nircam_a&'\n",
       "CONTINUE  'rea_0007.fits&'                                                      \n",
       "CONTINUE  '' / Pixel area map used by Mirage                                    \n",
       "CROSSTLK= '/home/schlawin/miniconda3/envs/mirageRunsSpecificCommits/lib/python&'\n",
       "CONTINUE  '3.7/site-packages/mirage/config/xtalk20150303g0.errorcut.txt&'       \n",
       "CONTINUE  '' / Crosstalk file used by Mirage                                    \n",
       "FLUX_CAL= '/home/schlawin/miniconda3/envs/mirageRunsSpecificCommits/lib/python&'\n",
       "CONTINUE  '3.7/site-packages/mirage/config/NIRCam_zeropoints.list&'             \n",
       "CONTINUE  '' / Flux calibration file used by Mirage                             \n",
       "FTHRUPUT= '/home/schlawin/miniconda3/envs/mirageRunsSpecificCommits/lib/python&'\n",
       "CONTINUE  '3.7/site-packages/mirage/config/placeholder.txt&'                    \n",
       "CONTINUE  '' / Filter throughput file used by Mirage                            \n",
       "PTSRCCAT= '/fenrirdata1/es_tso/sim_data/mirage_run_scripts/mirage_output_002_s&'\n",
       "CONTINUE  'hort_transit_wasp79/ptsrcs.cat&'                                     \n",
       "CONTINUE  '' / Point source catalog used by Mirage                              \n",
       "GALAXCAT= 'None    '           / Galaxy source catalog used by Mirage           \n",
       "EXTNDCAT= 'None    '           / Extended source catalog used by Mirage         \n",
       "MTPTSCAT= 'None    '           / Moving point source catalog used by Mirage     \n",
       "MTSERSIC= 'None    '           / Moving Sersic catalog used by Mirage           \n",
       "MTEXTEND= 'None    '           / Moving extended target catalog used by Mirage  \n",
       "NONSDRAL= 'None    '           / Non-Sidereal catalog used by Mirage            \n",
       "BKGDRATE= 'medium  '           / Background rate used by Mirage                 \n",
       "TRACKING= 'sidereal'           / Telescope tracking type for Mirage             \n",
       "POISSON =            189395259 / Random num generator seed for Poisson noise in \n",
       "PSFWFE  = 'predicted'          / WebbPSF Wavefront error used by Mirage         \n",
       "PSFWFGRP=                    0 / WebbPSF wavefront error group used by Mirage   \n",
       "CRLIB   = 'SUNMAX  '           / Cosmic ray library used by Mirage              \n",
       "CRSCALE =                  1.0 / Cosmic ray rate scaling factor used by Mirage  \n",
       "CRSEED  =           1219568975 / Random number generator seed for cosmic rays in\n",
       "NOUTPUTS=                    4 / number of output amplifiers                    "
      ]
     },
     "execution_count": 2,
     "metadata": {},
     "output_type": "execute_result"
    }
   ],
   "source": [
    "#adding a header input for the number of output amplifiers. \n",
    "HDUList = fits.open('/fenrirdata1/es_tso/sim_data/mirage_026_another_short_transit/sim_data/jw88888002001_01101_00001_nrca3_uncal.fits')\n",
    "HDUList[0].header['NOUTPUTS'] = (4, 'number of output amplifiers')\n",
    "\n",
    "HDUList.writeto('modified_jw88888001001_01101_00001_nrca1_uncal.fits', overwrite=True) #already exists for me. Run this line if you do not have this file. \n",
    "HDUList[0].header"
   ]
  },
  {
   "cell_type": "code",
   "execution_count": 3,
   "id": "sorted-marking",
   "metadata": {
    "scrolled": true
   },
   "outputs": [
    {
     "name": "stderr",
     "output_type": "stream",
     "text": [
      "2021-09-13 02:36:50,854 - stpipe.Detector1Pipeline - INFO - Detector1Pipeline instance created.\n"
     ]
    },
    {
     "name": "stdout",
     "output_type": "stream",
     "text": [
      "[stpipe.Detector1Pipeline:INFO] Detector1Pipeline instance created.\n"
     ]
    },
    {
     "name": "stderr",
     "output_type": "stream",
     "text": [
      "2021-09-13 02:36:50,859 - stpipe.Detector1Pipeline.group_scale - INFO - GroupScaleStep instance created.\n"
     ]
    },
    {
     "name": "stdout",
     "output_type": "stream",
     "text": [
      "[stpipe.Detector1Pipeline.group_scale:INFO] GroupScaleStep instance created.\n"
     ]
    },
    {
     "name": "stderr",
     "output_type": "stream",
     "text": [
      "2021-09-13 02:36:50,863 - stpipe.Detector1Pipeline.dq_init - INFO - DQInitStep instance created.\n"
     ]
    },
    {
     "name": "stdout",
     "output_type": "stream",
     "text": [
      "[stpipe.Detector1Pipeline.dq_init:INFO] DQInitStep instance created.\n"
     ]
    },
    {
     "name": "stderr",
     "output_type": "stream",
     "text": [
      "2021-09-13 02:36:50,867 - stpipe.Detector1Pipeline.saturation - INFO - SaturationStep instance created.\n"
     ]
    },
    {
     "name": "stdout",
     "output_type": "stream",
     "text": [
      "[stpipe.Detector1Pipeline.saturation:INFO] SaturationStep instance created.\n"
     ]
    },
    {
     "name": "stderr",
     "output_type": "stream",
     "text": [
      "2021-09-13 02:36:50,871 - stpipe.Detector1Pipeline.ipc - INFO - IPCStep instance created.\n"
     ]
    },
    {
     "name": "stdout",
     "output_type": "stream",
     "text": [
      "[stpipe.Detector1Pipeline.ipc:INFO] IPCStep instance created.\n"
     ]
    },
    {
     "name": "stderr",
     "output_type": "stream",
     "text": [
      "2021-09-13 02:36:50,875 - stpipe.Detector1Pipeline.superbias - INFO - SuperBiasStep instance created.\n"
     ]
    },
    {
     "name": "stdout",
     "output_type": "stream",
     "text": [
      "[stpipe.Detector1Pipeline.superbias:INFO] SuperBiasStep instance created.\n"
     ]
    },
    {
     "name": "stderr",
     "output_type": "stream",
     "text": [
      "2021-09-13 02:36:50,879 - stpipe.Detector1Pipeline.refpix - INFO - RefPixStep instance created.\n"
     ]
    },
    {
     "name": "stdout",
     "output_type": "stream",
     "text": [
      "[stpipe.Detector1Pipeline.refpix:INFO] RefPixStep instance created.\n"
     ]
    },
    {
     "name": "stderr",
     "output_type": "stream",
     "text": [
      "2021-09-13 02:36:50,883 - stpipe.Detector1Pipeline.rscd - INFO - RscdStep instance created.\n"
     ]
    },
    {
     "name": "stdout",
     "output_type": "stream",
     "text": [
      "[stpipe.Detector1Pipeline.rscd:INFO] RscdStep instance created.\n"
     ]
    },
    {
     "name": "stderr",
     "output_type": "stream",
     "text": [
      "2021-09-13 02:36:50,887 - stpipe.Detector1Pipeline.firstframe - INFO - FirstFrameStep instance created.\n"
     ]
    },
    {
     "name": "stdout",
     "output_type": "stream",
     "text": [
      "[stpipe.Detector1Pipeline.firstframe:INFO] FirstFrameStep instance created.\n"
     ]
    },
    {
     "name": "stderr",
     "output_type": "stream",
     "text": [
      "2021-09-13 02:36:50,891 - stpipe.Detector1Pipeline.lastframe - INFO - LastFrameStep instance created.\n"
     ]
    },
    {
     "name": "stdout",
     "output_type": "stream",
     "text": [
      "[stpipe.Detector1Pipeline.lastframe:INFO] LastFrameStep instance created.\n"
     ]
    },
    {
     "name": "stderr",
     "output_type": "stream",
     "text": [
      "2021-09-13 02:36:50,894 - stpipe.Detector1Pipeline.linearity - INFO - LinearityStep instance created.\n"
     ]
    },
    {
     "name": "stdout",
     "output_type": "stream",
     "text": [
      "[stpipe.Detector1Pipeline.linearity:INFO] LinearityStep instance created.\n"
     ]
    },
    {
     "name": "stderr",
     "output_type": "stream",
     "text": [
      "2021-09-13 02:36:50,899 - stpipe.Detector1Pipeline.dark_current - INFO - DarkCurrentStep instance created.\n"
     ]
    },
    {
     "name": "stdout",
     "output_type": "stream",
     "text": [
      "[stpipe.Detector1Pipeline.dark_current:INFO] DarkCurrentStep instance created.\n"
     ]
    },
    {
     "name": "stderr",
     "output_type": "stream",
     "text": [
      "2021-09-13 02:36:50,903 - stpipe.Detector1Pipeline.reset - INFO - ResetStep instance created.\n"
     ]
    },
    {
     "name": "stdout",
     "output_type": "stream",
     "text": [
      "[stpipe.Detector1Pipeline.reset:INFO] ResetStep instance created.\n"
     ]
    },
    {
     "name": "stderr",
     "output_type": "stream",
     "text": [
      "2021-09-13 02:36:50,908 - stpipe.Detector1Pipeline.persistence - INFO - PersistenceStep instance created.\n"
     ]
    },
    {
     "name": "stdout",
     "output_type": "stream",
     "text": [
      "[stpipe.Detector1Pipeline.persistence:INFO] PersistenceStep instance created.\n"
     ]
    },
    {
     "name": "stderr",
     "output_type": "stream",
     "text": [
      "2021-09-13 02:36:50,923 - stpipe.Detector1Pipeline.jump - INFO - JumpStep instance created.\n"
     ]
    },
    {
     "name": "stdout",
     "output_type": "stream",
     "text": [
      "[stpipe.Detector1Pipeline.jump:INFO] JumpStep instance created.\n"
     ]
    },
    {
     "name": "stderr",
     "output_type": "stream",
     "text": [
      "2021-09-13 02:36:50,929 - stpipe.Detector1Pipeline.ramp_fit - INFO - RampFitStep instance created.\n"
     ]
    },
    {
     "name": "stdout",
     "output_type": "stream",
     "text": [
      "[stpipe.Detector1Pipeline.ramp_fit:INFO] RampFitStep instance created.\n"
     ]
    },
    {
     "name": "stderr",
     "output_type": "stream",
     "text": [
      "2021-09-13 02:36:50,934 - stpipe.Detector1Pipeline.gain_scale - INFO - GainScaleStep instance created.\n"
     ]
    },
    {
     "name": "stdout",
     "output_type": "stream",
     "text": [
      "[stpipe.Detector1Pipeline.gain_scale:INFO] GainScaleStep instance created.\n"
     ]
    },
    {
     "name": "stderr",
     "output_type": "stream",
     "text": [
      "2021-09-13 02:36:51,077 - stpipe.Detector1Pipeline - INFO - Step Detector1Pipeline running with args ('modified_jw88888001001_01101_00001_nrca1_uncal.fits',).\n"
     ]
    },
    {
     "name": "stdout",
     "output_type": "stream",
     "text": [
      "[stpipe.Detector1Pipeline:INFO] Step Detector1Pipeline running with args ('modified_jw88888001001_01101_00001_nrca1_uncal.fits',).\n"
     ]
    },
    {
     "name": "stderr",
     "output_type": "stream",
     "text": [
      "2021-09-13 02:36:51,104 - stpipe.Detector1Pipeline - INFO - Step Detector1Pipeline parameters are: {'pre_hooks': [], 'post_hooks': [], 'output_file': None, 'output_dir': '/fenrirdata1/kg_data/pipeline_output/Short_Transit_NRCA3/', 'output_ext': '.fits', 'output_use_model': False, 'output_use_index': True, 'save_results': True, 'skip': False, 'suffix': None, 'search_output_file': True, 'input_dir': '', 'save_calibrated_ramp': False, 'steps': {'group_scale': {'pre_hooks': [], 'post_hooks': [], 'output_file': None, 'output_dir': None, 'output_ext': '.fits', 'output_use_model': False, 'output_use_index': True, 'save_results': False, 'skip': False, 'suffix': None, 'search_output_file': True, 'input_dir': ''}, 'dq_init': {'pre_hooks': [], 'post_hooks': [], 'output_file': None, 'output_dir': None, 'output_ext': '.fits', 'output_use_model': False, 'output_use_index': True, 'save_results': False, 'skip': False, 'suffix': None, 'search_output_file': True, 'input_dir': ''}, 'saturation': {'pre_hooks': [], 'post_hooks': [], 'output_file': None, 'output_dir': None, 'output_ext': '.fits', 'output_use_model': False, 'output_use_index': True, 'save_results': False, 'skip': False, 'suffix': None, 'search_output_file': True, 'input_dir': ''}, 'ipc': {'pre_hooks': [], 'post_hooks': [], 'output_file': None, 'output_dir': None, 'output_ext': '.fits', 'output_use_model': False, 'output_use_index': True, 'save_results': False, 'skip': True, 'suffix': None, 'search_output_file': True, 'input_dir': ''}, 'superbias': {'pre_hooks': [], 'post_hooks': [], 'output_file': None, 'output_dir': None, 'output_ext': '.fits', 'output_use_model': False, 'output_use_index': True, 'save_results': False, 'skip': False, 'suffix': None, 'search_output_file': True, 'input_dir': ''}, 'refpix': {'pre_hooks': [], 'post_hooks': [], 'output_file': None, 'output_dir': None, 'output_ext': '.fits', 'output_use_model': False, 'output_use_index': True, 'save_results': False, 'skip': False, 'suffix': None, 'search_output_file': True, 'input_dir': '', 'odd_even_columns': True, 'use_side_ref_pixels': True, 'side_smoothing_length': 11, 'side_gain': 1.0, 'odd_even_rows': True}, 'rscd': {'pre_hooks': [], 'post_hooks': [], 'output_file': None, 'output_dir': None, 'output_ext': '.fits', 'output_use_model': False, 'output_use_index': True, 'save_results': False, 'skip': False, 'suffix': None, 'search_output_file': True, 'input_dir': '', 'type': 'baseline'}, 'firstframe': {'pre_hooks': [], 'post_hooks': [], 'output_file': None, 'output_dir': None, 'output_ext': '.fits', 'output_use_model': False, 'output_use_index': True, 'save_results': False, 'skip': False, 'suffix': None, 'search_output_file': True, 'input_dir': ''}, 'lastframe': {'pre_hooks': [], 'post_hooks': [], 'output_file': None, 'output_dir': None, 'output_ext': '.fits', 'output_use_model': False, 'output_use_index': True, 'save_results': False, 'skip': False, 'suffix': None, 'search_output_file': True, 'input_dir': ''}, 'linearity': {'pre_hooks': [], 'post_hooks': [], 'output_file': None, 'output_dir': None, 'output_ext': '.fits', 'output_use_model': False, 'output_use_index': True, 'save_results': False, 'skip': False, 'suffix': None, 'search_output_file': True, 'input_dir': ''}, 'dark_current': {'pre_hooks': [], 'post_hooks': [], 'output_file': None, 'output_dir': None, 'output_ext': '.fits', 'output_use_model': False, 'output_use_index': True, 'save_results': False, 'skip': False, 'suffix': None, 'search_output_file': True, 'input_dir': '', 'dark_output': None}, 'reset': {'pre_hooks': [], 'post_hooks': [], 'output_file': None, 'output_dir': None, 'output_ext': '.fits', 'output_use_model': False, 'output_use_index': True, 'save_results': False, 'skip': False, 'suffix': None, 'search_output_file': True, 'input_dir': ''}, 'persistence': {'pre_hooks': [], 'post_hooks': [], 'output_file': None, 'output_dir': None, 'output_ext': '.fits', 'output_use_model': False, 'output_use_index': True, 'save_results': False, 'skip': True, 'suffix': None, 'search_output_file': True, 'input_dir': '', 'input_trapsfilled': '', 'flag_pers_cutoff': 40.0, 'save_persistence': False, 'save_trapsfilled': True}, 'jump': {'pre_hooks': [], 'post_hooks': [], 'output_file': None, 'output_dir': None, 'output_ext': '.fits', 'output_use_model': False, 'output_use_index': True, 'save_results': False, 'skip': False, 'suffix': None, 'search_output_file': True, 'input_dir': '', 'rejection_threshold': 9, 'three_group_rejection_threshold': 6.0, 'four_group_rejection_threshold': 5.0, 'maximum_cores': 'none', 'flag_4_neighbors': True, 'max_jump_to_flag_neighbors': 1000.0, 'min_jump_to_flag_neighbors': 10.0}, 'ramp_fit': {'pre_hooks': [], 'post_hooks': [], 'output_file': None, 'output_dir': None, 'output_ext': '.fits', 'output_use_model': False, 'output_use_index': True, 'save_results': False, 'skip': False, 'suffix': None, 'search_output_file': True, 'input_dir': '', 'int_name': '', 'save_opt': False, 'opt_name': '', 'maximum_cores': 'none'}, 'gain_scale': {'pre_hooks': [], 'post_hooks': [], 'output_file': None, 'output_dir': None, 'output_ext': '.fits', 'output_use_model': False, 'output_use_index': True, 'save_results': False, 'skip': False, 'suffix': None, 'search_output_file': True, 'input_dir': ''}}}\n"
     ]
    },
    {
     "name": "stdout",
     "output_type": "stream",
     "text": [
      "[stpipe.Detector1Pipeline:INFO] Step Detector1Pipeline parameters are: {'pre_hooks': [], 'post_hooks': [], 'output_file': None, 'output_dir': '/fenrirdata1/kg_data/pipeline_output/Short_Transit_NRCA3/', 'output_ext': '.fits', 'output_use_model': False, 'output_use_index': True, 'save_results': True, 'skip': False, 'suffix': None, 'search_output_file': True, 'input_dir': '', 'save_calibrated_ramp': False, 'steps': {'group_scale': {'pre_hooks': [], 'post_hooks': [], 'output_file': None, 'output_dir': None, 'output_ext': '.fits', 'output_use_model': False, 'output_use_index': True, 'save_results': False, 'skip': False, 'suffix': None, 'search_output_file': True, 'input_dir': ''}, 'dq_init': {'pre_hooks': [], 'post_hooks': [], 'output_file': None, 'output_dir': None, 'output_ext': '.fits', 'output_use_model': False, 'output_use_index': True, 'save_results': False, 'skip': False, 'suffix': None, 'search_output_file': True, 'input_dir': ''}, 'saturation': {'pre_hooks': [], 'post_hooks': [], 'output_file': None, 'output_dir': None, 'output_ext': '.fits', 'output_use_model': False, 'output_use_index': True, 'save_results': False, 'skip': False, 'suffix': None, 'search_output_file': True, 'input_dir': ''}, 'ipc': {'pre_hooks': [], 'post_hooks': [], 'output_file': None, 'output_dir': None, 'output_ext': '.fits', 'output_use_model': False, 'output_use_index': True, 'save_results': False, 'skip': True, 'suffix': None, 'search_output_file': True, 'input_dir': ''}, 'superbias': {'pre_hooks': [], 'post_hooks': [], 'output_file': None, 'output_dir': None, 'output_ext': '.fits', 'output_use_model': False, 'output_use_index': True, 'save_results': False, 'skip': False, 'suffix': None, 'search_output_file': True, 'input_dir': ''}, 'refpix': {'pre_hooks': [], 'post_hooks': [], 'output_file': None, 'output_dir': None, 'output_ext': '.fits', 'output_use_model': False, 'output_use_index': True, 'save_results': False, 'skip': False, 'suffix': None, 'search_output_file': True, 'input_dir': '', 'odd_even_columns': True, 'use_side_ref_pixels': True, 'side_smoothing_length': 11, 'side_gain': 1.0, 'odd_even_rows': True}, 'rscd': {'pre_hooks': [], 'post_hooks': [], 'output_file': None, 'output_dir': None, 'output_ext': '.fits', 'output_use_model': False, 'output_use_index': True, 'save_results': False, 'skip': False, 'suffix': None, 'search_output_file': True, 'input_dir': '', 'type': 'baseline'}, 'firstframe': {'pre_hooks': [], 'post_hooks': [], 'output_file': None, 'output_dir': None, 'output_ext': '.fits', 'output_use_model': False, 'output_use_index': True, 'save_results': False, 'skip': False, 'suffix': None, 'search_output_file': True, 'input_dir': ''}, 'lastframe': {'pre_hooks': [], 'post_hooks': [], 'output_file': None, 'output_dir': None, 'output_ext': '.fits', 'output_use_model': False, 'output_use_index': True, 'save_results': False, 'skip': False, 'suffix': None, 'search_output_file': True, 'input_dir': ''}, 'linearity': {'pre_hooks': [], 'post_hooks': [], 'output_file': None, 'output_dir': None, 'output_ext': '.fits', 'output_use_model': False, 'output_use_index': True, 'save_results': False, 'skip': False, 'suffix': None, 'search_output_file': True, 'input_dir': ''}, 'dark_current': {'pre_hooks': [], 'post_hooks': [], 'output_file': None, 'output_dir': None, 'output_ext': '.fits', 'output_use_model': False, 'output_use_index': True, 'save_results': False, 'skip': False, 'suffix': None, 'search_output_file': True, 'input_dir': '', 'dark_output': None}, 'reset': {'pre_hooks': [], 'post_hooks': [], 'output_file': None, 'output_dir': None, 'output_ext': '.fits', 'output_use_model': False, 'output_use_index': True, 'save_results': False, 'skip': False, 'suffix': None, 'search_output_file': True, 'input_dir': ''}, 'persistence': {'pre_hooks': [], 'post_hooks': [], 'output_file': None, 'output_dir': None, 'output_ext': '.fits', 'output_use_model': False, 'output_use_index': True, 'save_results': False, 'skip': True, 'suffix': None, 'search_output_file': True, 'input_dir': '', 'input_trapsfilled': '', 'flag_pers_cutoff': 40.0, 'save_persistence': False, 'save_trapsfilled': True}, 'jump': {'pre_hooks': [], 'post_hooks': [], 'output_file': None, 'output_dir': None, 'output_ext': '.fits', 'output_use_model': False, 'output_use_index': True, 'save_results': False, 'skip': False, 'suffix': None, 'search_output_file': True, 'input_dir': '', 'rejection_threshold': 9, 'three_group_rejection_threshold': 6.0, 'four_group_rejection_threshold': 5.0, 'maximum_cores': 'none', 'flag_4_neighbors': True, 'max_jump_to_flag_neighbors': 1000.0, 'min_jump_to_flag_neighbors': 10.0}, 'ramp_fit': {'pre_hooks': [], 'post_hooks': [], 'output_file': None, 'output_dir': None, 'output_ext': '.fits', 'output_use_model': False, 'output_use_index': True, 'save_results': False, 'skip': False, 'suffix': None, 'search_output_file': True, 'input_dir': '', 'int_name': '', 'save_opt': False, 'opt_name': '', 'maximum_cores': 'none'}, 'gain_scale': {'pre_hooks': [], 'post_hooks': [], 'output_file': None, 'output_dir': None, 'output_ext': '.fits', 'output_use_model': False, 'output_use_index': True, 'save_results': False, 'skip': False, 'suffix': None, 'search_output_file': True, 'input_dir': ''}}}\n",
      "[jwst.datamodels.util:DEBUG] Opening modified_jw88888001001_01101_00001_nrca1_uncal.fits as <class 'jwst.datamodels.ramp.RampModel'>\n",
      "[stdatamodels.util:DEBUG] Environmental \"STRICT_VALIDATION\" cannot be found. Using default value of \"False\".\n",
      "[stdatamodels.util:DEBUG] Environmental \"VALIDATE_ON_ASSIGNMENT\" cannot be found. Using default value of \"True\".\n",
      "[stdatamodels.util:DEBUG] Environmental \"SKIP_FITS_UPDATE\" cannot be found. Using default value of \"None\".\n"
     ]
    },
    {
     "name": "stderr",
     "output_type": "stream",
     "text": [
      "2021-09-13 02:37:04,438 - stpipe.Detector1Pipeline - INFO - Prefetching reference files for dataset: 'modified_jw88888001001_01101_00001_nrca1_uncal.fits' reftypes = ['dark', 'gain', 'linearity', 'mask', 'readnoise', 'refpix', 'reset', 'rscd', 'saturation', 'superbias']\n"
     ]
    },
    {
     "name": "stdout",
     "output_type": "stream",
     "text": [
      "[stpipe.Detector1Pipeline:INFO] Prefetching reference files for dataset: 'modified_jw88888001001_01101_00001_nrca1_uncal.fits' reftypes = ['dark', 'gain', 'linearity', 'mask', 'readnoise', 'refpix', 'reset', 'rscd', 'saturation', 'superbias']\n",
      "[stdatamodels.util:DEBUG] Environmental \"STRICT_VALIDATION\" cannot be found. Using default value of \"False\".\n",
      "[stdatamodels.util:DEBUG] Environmental \"VALIDATE_ON_ASSIGNMENT\" cannot be found. Using default value of \"True\".\n"
     ]
    },
    {
     "name": "stderr",
     "output_type": "stream",
     "text": [
      "2021-09-13 02:37:05,858 - CRDS - INFO -  Fetching  /fenrirdata1/kg_data/crds_cache/references/jwst/nircam/jwst_nircam_dark_0196.fits   85.0 M bytes  (1 / 2 files) (0 / 101.8 M bytes)\n",
      "2021-09-13 02:37:19,372 - CRDS - INFO -  Fetching  /fenrirdata1/kg_data/crds_cache/references/jwst/nircam/jwst_nircam_mask_0041.fits   16.8 M bytes  (2 / 2 files) (85.0 M / 101.8 M bytes)\n",
      "2021-09-13 02:37:22,997 - stpipe.Detector1Pipeline - INFO - Prefetch for DARK reference file is '/fenrirdata1/kg_data/crds_cache/references/jwst/nircam/jwst_nircam_dark_0196.fits'.\n"
     ]
    },
    {
     "name": "stdout",
     "output_type": "stream",
     "text": [
      "[stpipe.Detector1Pipeline:INFO] Prefetch for DARK reference file is '/fenrirdata1/kg_data/crds_cache/references/jwst/nircam/jwst_nircam_dark_0196.fits'.\n"
     ]
    },
    {
     "name": "stderr",
     "output_type": "stream",
     "text": [
      "2021-09-13 02:37:23,001 - stpipe.Detector1Pipeline - INFO - Prefetch for GAIN reference file is '/fenrirdata1/kg_data/crds_cache/references/jwst/nircam/jwst_nircam_gain_0048.fits'.\n"
     ]
    },
    {
     "name": "stdout",
     "output_type": "stream",
     "text": [
      "[stpipe.Detector1Pipeline:INFO] Prefetch for GAIN reference file is '/fenrirdata1/kg_data/crds_cache/references/jwst/nircam/jwst_nircam_gain_0048.fits'.\n"
     ]
    },
    {
     "name": "stderr",
     "output_type": "stream",
     "text": [
      "2021-09-13 02:37:23,004 - stpipe.Detector1Pipeline - INFO - Prefetch for LINEARITY reference file is '/fenrirdata1/kg_data/crds_cache/references/jwst/nircam/jwst_nircam_linearity_0053.fits'.\n"
     ]
    },
    {
     "name": "stdout",
     "output_type": "stream",
     "text": [
      "[stpipe.Detector1Pipeline:INFO] Prefetch for LINEARITY reference file is '/fenrirdata1/kg_data/crds_cache/references/jwst/nircam/jwst_nircam_linearity_0053.fits'.\n"
     ]
    },
    {
     "name": "stderr",
     "output_type": "stream",
     "text": [
      "2021-09-13 02:37:23,007 - stpipe.Detector1Pipeline - INFO - Prefetch for MASK reference file is '/fenrirdata1/kg_data/crds_cache/references/jwst/nircam/jwst_nircam_mask_0041.fits'.\n"
     ]
    },
    {
     "name": "stdout",
     "output_type": "stream",
     "text": [
      "[stpipe.Detector1Pipeline:INFO] Prefetch for MASK reference file is '/fenrirdata1/kg_data/crds_cache/references/jwst/nircam/jwst_nircam_mask_0041.fits'.\n"
     ]
    },
    {
     "name": "stderr",
     "output_type": "stream",
     "text": [
      "2021-09-13 02:37:23,009 - stpipe.Detector1Pipeline - INFO - Prefetch for READNOISE reference file is '/fenrirdata1/kg_data/crds_cache/references/jwst/nircam/jwst_nircam_readnoise_0030.fits'.\n"
     ]
    },
    {
     "name": "stdout",
     "output_type": "stream",
     "text": [
      "[stpipe.Detector1Pipeline:INFO] Prefetch for READNOISE reference file is '/fenrirdata1/kg_data/crds_cache/references/jwst/nircam/jwst_nircam_readnoise_0030.fits'.\n"
     ]
    },
    {
     "name": "stderr",
     "output_type": "stream",
     "text": [
      "2021-09-13 02:37:23,012 - stpipe.Detector1Pipeline - INFO - Prefetch for REFPIX reference file is 'N/A'.\n"
     ]
    },
    {
     "name": "stdout",
     "output_type": "stream",
     "text": [
      "[stpipe.Detector1Pipeline:INFO] Prefetch for REFPIX reference file is 'N/A'.\n"
     ]
    },
    {
     "name": "stderr",
     "output_type": "stream",
     "text": [
      "2021-09-13 02:37:23,014 - stpipe.Detector1Pipeline - INFO - Prefetch for RESET reference file is 'N/A'.\n"
     ]
    },
    {
     "name": "stdout",
     "output_type": "stream",
     "text": [
      "[stpipe.Detector1Pipeline:INFO] Prefetch for RESET reference file is 'N/A'.\n"
     ]
    },
    {
     "name": "stderr",
     "output_type": "stream",
     "text": [
      "2021-09-13 02:37:23,017 - stpipe.Detector1Pipeline - INFO - Prefetch for RSCD reference file is 'N/A'.\n"
     ]
    },
    {
     "name": "stdout",
     "output_type": "stream",
     "text": [
      "[stpipe.Detector1Pipeline:INFO] Prefetch for RSCD reference file is 'N/A'.\n"
     ]
    },
    {
     "name": "stderr",
     "output_type": "stream",
     "text": [
      "2021-09-13 02:37:23,020 - stpipe.Detector1Pipeline - INFO - Prefetch for SATURATION reference file is '/fenrirdata1/kg_data/crds_cache/references/jwst/nircam/jwst_nircam_saturation_0067.fits'.\n"
     ]
    },
    {
     "name": "stdout",
     "output_type": "stream",
     "text": [
      "[stpipe.Detector1Pipeline:INFO] Prefetch for SATURATION reference file is '/fenrirdata1/kg_data/crds_cache/references/jwst/nircam/jwst_nircam_saturation_0067.fits'.\n"
     ]
    },
    {
     "name": "stderr",
     "output_type": "stream",
     "text": [
      "2021-09-13 02:37:23,024 - stpipe.Detector1Pipeline - INFO - Prefetch for SUPERBIAS reference file is '/fenrirdata1/kg_data/crds_cache/references/jwst/nircam/jwst_nircam_superbias_0027.fits'.\n"
     ]
    },
    {
     "name": "stdout",
     "output_type": "stream",
     "text": [
      "[stpipe.Detector1Pipeline:INFO] Prefetch for SUPERBIAS reference file is '/fenrirdata1/kg_data/crds_cache/references/jwst/nircam/jwst_nircam_superbias_0027.fits'.\n",
      "[      root:INFO] Starting calwebb_detector1 ...\n",
      "[stdatamodels.util:DEBUG] Environmental \"STRICT_VALIDATION\" cannot be found. Using default value of \"False\".\n",
      "[stdatamodels.util:DEBUG] Environmental \"VALIDATE_ON_ASSIGNMENT\" cannot be found. Using default value of \"True\".\n",
      "[stdatamodels.util:DEBUG] Environmental \"SKIP_FITS_UPDATE\" cannot be found. Using default value of \"None\".\n",
      "[      root:DEBUG] Processing a Near-IR exposure\n"
     ]
    },
    {
     "name": "stderr",
     "output_type": "stream",
     "text": [
      "2021-09-13 02:37:27,539 - stpipe.Detector1Pipeline.group_scale - INFO - Step group_scale running with args (<RampModel(70, 3, 256, 2048) from modified_jw88888001001_01101_00001_nrca1_uncal.fits>,).\n"
     ]
    },
    {
     "name": "stdout",
     "output_type": "stream",
     "text": [
      "[stpipe.Detector1Pipeline.group_scale:INFO] Step group_scale running with args (<RampModel(70, 3, 256, 2048) from modified_jw88888001001_01101_00001_nrca1_uncal.fits>,).\n"
     ]
    },
    {
     "name": "stderr",
     "output_type": "stream",
     "text": [
      "2021-09-13 02:37:27,543 - stpipe.Detector1Pipeline.group_scale - INFO - Step group_scale parameters are: {'pre_hooks': [], 'post_hooks': [], 'output_file': None, 'output_dir': None, 'output_ext': '.fits', 'output_use_model': False, 'output_use_index': True, 'save_results': False, 'skip': False, 'suffix': None, 'search_output_file': True, 'input_dir': ''}\n"
     ]
    },
    {
     "name": "stdout",
     "output_type": "stream",
     "text": [
      "[stpipe.Detector1Pipeline.group_scale:INFO] Step group_scale parameters are: {'pre_hooks': [], 'post_hooks': [], 'output_file': None, 'output_dir': None, 'output_ext': '.fits', 'output_use_model': False, 'output_use_index': True, 'save_results': False, 'skip': False, 'suffix': None, 'search_output_file': True, 'input_dir': ''}\n",
      "[stdatamodels.util:DEBUG] Environmental \"STRICT_VALIDATION\" cannot be found. Using default value of \"False\".\n",
      "[stdatamodels.util:DEBUG] Environmental \"VALIDATE_ON_ASSIGNMENT\" cannot be found. Using default value of \"True\".\n",
      "[stdatamodels.util:DEBUG] Environmental \"VALIDATE_ON_ASSIGNMENT\" cannot be found. Using default value of \"True\".\n"
     ]
    },
    {
     "name": "stderr",
     "output_type": "stream",
     "text": [
      "2021-09-13 02:37:28,630 - stpipe.Detector1Pipeline.group_scale - INFO - NFRAMES=1 is a power of 2; correction not needed\n"
     ]
    },
    {
     "name": "stdout",
     "output_type": "stream",
     "text": [
      "[stpipe.Detector1Pipeline.group_scale:INFO] NFRAMES=1 is a power of 2; correction not needed\n"
     ]
    },
    {
     "name": "stderr",
     "output_type": "stream",
     "text": [
      "2021-09-13 02:37:28,632 - stpipe.Detector1Pipeline.group_scale - INFO - Step will be skipped\n"
     ]
    },
    {
     "name": "stdout",
     "output_type": "stream",
     "text": [
      "[stpipe.Detector1Pipeline.group_scale:INFO] Step will be skipped\n"
     ]
    },
    {
     "name": "stderr",
     "output_type": "stream",
     "text": [
      "2021-09-13 02:37:28,635 - stpipe.Detector1Pipeline.group_scale - INFO - Step group_scale done\n"
     ]
    },
    {
     "name": "stdout",
     "output_type": "stream",
     "text": [
      "[stpipe.Detector1Pipeline.group_scale:INFO] Step group_scale done\n"
     ]
    },
    {
     "name": "stderr",
     "output_type": "stream",
     "text": [
      "2021-09-13 02:37:28,772 - stpipe.Detector1Pipeline.dq_init - INFO - Step dq_init running with args (<RampModel(70, 3, 256, 2048) from modified_jw88888001001_01101_00001_nrca1_uncal.fits>,).\n"
     ]
    },
    {
     "name": "stdout",
     "output_type": "stream",
     "text": [
      "[stpipe.Detector1Pipeline.dq_init:INFO] Step dq_init running with args (<RampModel(70, 3, 256, 2048) from modified_jw88888001001_01101_00001_nrca1_uncal.fits>,).\n"
     ]
    },
    {
     "name": "stderr",
     "output_type": "stream",
     "text": [
      "2021-09-13 02:37:28,776 - stpipe.Detector1Pipeline.dq_init - INFO - Step dq_init parameters are: {'pre_hooks': [], 'post_hooks': [], 'output_file': None, 'output_dir': None, 'output_ext': '.fits', 'output_use_model': False, 'output_use_index': True, 'save_results': False, 'skip': False, 'suffix': None, 'search_output_file': True, 'input_dir': ''}\n"
     ]
    },
    {
     "name": "stdout",
     "output_type": "stream",
     "text": [
      "[stpipe.Detector1Pipeline.dq_init:INFO] Step dq_init parameters are: {'pre_hooks': [], 'post_hooks': [], 'output_file': None, 'output_dir': None, 'output_ext': '.fits', 'output_use_model': False, 'output_use_index': True, 'save_results': False, 'skip': False, 'suffix': None, 'search_output_file': True, 'input_dir': ''}\n",
      "[stdatamodels.util:DEBUG] Environmental \"STRICT_VALIDATION\" cannot be found. Using default value of \"False\".\n",
      "[stdatamodels.util:DEBUG] Environmental \"VALIDATE_ON_ASSIGNMENT\" cannot be found. Using default value of \"True\".\n",
      "[stdatamodels.util:DEBUG] Environmental \"STRICT_VALIDATION\" cannot be found. Using default value of \"False\".\n",
      "[stdatamodels.util:DEBUG] Environmental \"VALIDATE_ON_ASSIGNMENT\" cannot be found. Using default value of \"True\".\n"
     ]
    },
    {
     "name": "stderr",
     "output_type": "stream",
     "text": [
      "2021-09-13 02:37:28,827 - stpipe.Detector1Pipeline.dq_init - INFO - Using MASK reference file /fenrirdata1/kg_data/crds_cache/references/jwst/nircam/jwst_nircam_mask_0041.fits\n"
     ]
    },
    {
     "name": "stdout",
     "output_type": "stream",
     "text": [
      "[stpipe.Detector1Pipeline.dq_init:INFO] Using MASK reference file /fenrirdata1/kg_data/crds_cache/references/jwst/nircam/jwst_nircam_mask_0041.fits\n",
      "[stdatamodels.util:DEBUG] Environmental \"STRICT_VALIDATION\" cannot be found. Using default value of \"False\".\n",
      "[stdatamodels.util:DEBUG] Environmental \"VALIDATE_ON_ASSIGNMENT\" cannot be found. Using default value of \"True\".\n",
      "[stdatamodels.util:DEBUG] Environmental \"SKIP_FITS_UPDATE\" cannot be found. Using default value of \"None\".\n",
      "[stdatamodels.fits_support:DEBUG] No ASDF information found. Cannot skip updating from FITS headers.\n",
      "[stdatamodels.util:DEBUG] Environmental \"VALIDATE_ON_ASSIGNMENT\" cannot be found. Using default value of \"True\".\n",
      "[jwst.lib.reffile_utils:DEBUG] ref substrt1=1, subsize1=2048, substrt2=1, subsize2=2048\n",
      "[jwst.lib.reffile_utils:DEBUG] sci substrt1=1, subsize1=2048, substrt2=1, subsize2=256\n",
      "[jwst.dq_init.dq_initialization:INFO] Extracting mask subarray to match science data\n",
      "[jwst.lib.reffile_utils:DEBUG] slice xstart=0, xstop=2048, ystart=0, ystop=256\n",
      "[stdatamodels.util:DEBUG] Environmental \"STRICT_VALIDATION\" cannot be found. Using default value of \"False\".\n",
      "[stdatamodels.util:DEBUG] Environmental \"VALIDATE_ON_ASSIGNMENT\" cannot be found. Using default value of \"True\".\n"
     ]
    },
    {
     "name": "stderr",
     "output_type": "stream",
     "text": [
      "2021-09-13 02:37:30,893 - stpipe.Detector1Pipeline.dq_init - INFO - Step dq_init done\n"
     ]
    },
    {
     "name": "stdout",
     "output_type": "stream",
     "text": [
      "[stpipe.Detector1Pipeline.dq_init:INFO] Step dq_init done\n"
     ]
    },
    {
     "name": "stderr",
     "output_type": "stream",
     "text": [
      "2021-09-13 02:37:31,038 - stpipe.Detector1Pipeline.saturation - INFO - Step saturation running with args (<RampModel(70, 3, 256, 2048) from modified_jw88888001001_01101_00001_nrca1_uncal.fits>,).\n"
     ]
    },
    {
     "name": "stdout",
     "output_type": "stream",
     "text": [
      "[stpipe.Detector1Pipeline.saturation:INFO] Step saturation running with args (<RampModel(70, 3, 256, 2048) from modified_jw88888001001_01101_00001_nrca1_uncal.fits>,).\n"
     ]
    },
    {
     "name": "stderr",
     "output_type": "stream",
     "text": [
      "2021-09-13 02:37:31,042 - stpipe.Detector1Pipeline.saturation - INFO - Step saturation parameters are: {'pre_hooks': [], 'post_hooks': [], 'output_file': None, 'output_dir': None, 'output_ext': '.fits', 'output_use_model': False, 'output_use_index': True, 'save_results': False, 'skip': False, 'suffix': None, 'search_output_file': True, 'input_dir': ''}\n"
     ]
    },
    {
     "name": "stdout",
     "output_type": "stream",
     "text": [
      "[stpipe.Detector1Pipeline.saturation:INFO] Step saturation parameters are: {'pre_hooks': [], 'post_hooks': [], 'output_file': None, 'output_dir': None, 'output_ext': '.fits', 'output_use_model': False, 'output_use_index': True, 'save_results': False, 'skip': False, 'suffix': None, 'search_output_file': True, 'input_dir': ''}\n",
      "[stdatamodels.util:DEBUG] Environmental \"STRICT_VALIDATION\" cannot be found. Using default value of \"False\".\n",
      "[stdatamodels.util:DEBUG] Environmental \"VALIDATE_ON_ASSIGNMENT\" cannot be found. Using default value of \"True\".\n",
      "[stdatamodels.util:DEBUG] Environmental \"STRICT_VALIDATION\" cannot be found. Using default value of \"False\".\n",
      "[stdatamodels.util:DEBUG] Environmental \"VALIDATE_ON_ASSIGNMENT\" cannot be found. Using default value of \"True\".\n"
     ]
    },
    {
     "name": "stderr",
     "output_type": "stream",
     "text": [
      "2021-09-13 02:37:31,093 - stpipe.Detector1Pipeline.saturation - INFO - Using SATURATION reference file /fenrirdata1/kg_data/crds_cache/references/jwst/nircam/jwst_nircam_saturation_0067.fits\n"
     ]
    },
    {
     "name": "stdout",
     "output_type": "stream",
     "text": [
      "[stpipe.Detector1Pipeline.saturation:INFO] Using SATURATION reference file /fenrirdata1/kg_data/crds_cache/references/jwst/nircam/jwst_nircam_saturation_0067.fits\n",
      "[stdatamodels.util:DEBUG] Environmental \"STRICT_VALIDATION\" cannot be found. Using default value of \"False\".\n",
      "[stdatamodels.util:DEBUG] Environmental \"VALIDATE_ON_ASSIGNMENT\" cannot be found. Using default value of \"True\".\n",
      "[stdatamodels.util:DEBUG] Environmental \"SKIP_FITS_UPDATE\" cannot be found. Using default value of \"None\".\n",
      "[stdatamodels.fits_support:DEBUG] No ASDF information found. Cannot skip updating from FITS headers.\n"
     ]
    },
    {
     "name": "stderr",
     "output_type": "stream",
     "text": [
      "[stcal.dynamicdq:WARNING] Keyword NO_SATURATION does not correspond to an existing DQ mnemonic, so will be ignored\n",
      "[stcal.dynamicdq:WARNING] Keyword FEW_SAMPLES does not correspond to an existing DQ mnemonic, so will be ignored\n",
      "[stcal.dynamicdq:WARNING] Keyword AD_SATURATION does not correspond to an existing DQ mnemonic, so will be ignored\n",
      "[stcal.dynamicdq:WARNING] Keyword WEIRD_PIXEL does not correspond to an existing DQ mnemonic, so will be ignored\n",
      "[stcal.dynamicdq:WARNING] Keyword DEAD_PIXEL does not correspond to an existing DQ mnemonic, so will be ignored\n"
     ]
    },
    {
     "name": "stdout",
     "output_type": "stream",
     "text": [
      "[stdatamodels.util:DEBUG] Environmental \"VALIDATE_ON_ASSIGNMENT\" cannot be found. Using default value of \"True\".\n",
      "[jwst.lib.reffile_utils:DEBUG] ref substrt1=1, subsize1=2048, substrt2=1, subsize2=2048\n",
      "[jwst.lib.reffile_utils:DEBUG] sci substrt1=1, subsize1=2048, substrt2=1, subsize2=256\n",
      "[jwst.saturation.saturation:INFO] Extracting reference file subarray to match science data\n",
      "[jwst.lib.reffile_utils:DEBUG] slice xstart=0, xstop=2048, ystart=0, ystop=256\n",
      "[stdatamodels.util:DEBUG] Environmental \"STRICT_VALIDATION\" cannot be found. Using default value of \"False\".\n",
      "[stdatamodels.util:DEBUG] Environmental \"VALIDATE_ON_ASSIGNMENT\" cannot be found. Using default value of \"True\".\n",
      "[jwst.saturation.saturation:INFO] Detected 10299 saturated pixels\n",
      "[jwst.saturation.saturation:INFO] Detected 0 A/D floor pixels\n"
     ]
    },
    {
     "name": "stderr",
     "output_type": "stream",
     "text": [
      "2021-09-13 02:37:33,965 - stpipe.Detector1Pipeline.saturation - INFO - Step saturation done\n"
     ]
    },
    {
     "name": "stdout",
     "output_type": "stream",
     "text": [
      "[stpipe.Detector1Pipeline.saturation:INFO] Step saturation done\n"
     ]
    },
    {
     "name": "stderr",
     "output_type": "stream",
     "text": [
      "2021-09-13 02:37:34,151 - stpipe.Detector1Pipeline.ipc - INFO - Step ipc running with args (<RampModel(70, 3, 256, 2048) from modified_jw88888001001_01101_00001_nrca1_uncal.fits>,).\n"
     ]
    },
    {
     "name": "stdout",
     "output_type": "stream",
     "text": [
      "[stpipe.Detector1Pipeline.ipc:INFO] Step ipc running with args (<RampModel(70, 3, 256, 2048) from modified_jw88888001001_01101_00001_nrca1_uncal.fits>,).\n"
     ]
    },
    {
     "name": "stderr",
     "output_type": "stream",
     "text": [
      "2021-09-13 02:37:34,155 - stpipe.Detector1Pipeline.ipc - INFO - Step ipc parameters are: {'pre_hooks': [], 'post_hooks': [], 'output_file': None, 'output_dir': None, 'output_ext': '.fits', 'output_use_model': False, 'output_use_index': True, 'save_results': False, 'skip': True, 'suffix': None, 'search_output_file': True, 'input_dir': ''}\n"
     ]
    },
    {
     "name": "stdout",
     "output_type": "stream",
     "text": [
      "[stpipe.Detector1Pipeline.ipc:INFO] Step ipc parameters are: {'pre_hooks': [], 'post_hooks': [], 'output_file': None, 'output_dir': None, 'output_ext': '.fits', 'output_use_model': False, 'output_use_index': True, 'save_results': False, 'skip': True, 'suffix': None, 'search_output_file': True, 'input_dir': ''}\n"
     ]
    },
    {
     "name": "stderr",
     "output_type": "stream",
     "text": [
      "2021-09-13 02:37:34,158 - stpipe.Detector1Pipeline.ipc - INFO - Step skipped.\n"
     ]
    },
    {
     "name": "stdout",
     "output_type": "stream",
     "text": [
      "[stpipe.Detector1Pipeline.ipc:INFO] Step skipped.\n"
     ]
    },
    {
     "name": "stderr",
     "output_type": "stream",
     "text": [
      "2021-09-13 02:37:34,161 - stpipe.Detector1Pipeline.ipc - INFO - Step ipc done\n"
     ]
    },
    {
     "name": "stdout",
     "output_type": "stream",
     "text": [
      "[stpipe.Detector1Pipeline.ipc:INFO] Step ipc done\n"
     ]
    },
    {
     "name": "stderr",
     "output_type": "stream",
     "text": [
      "2021-09-13 02:37:34,314 - stpipe.Detector1Pipeline.superbias - INFO - Step superbias running with args (<RampModel(70, 3, 256, 2048) from modified_jw88888001001_01101_00001_nrca1_uncal.fits>,).\n"
     ]
    },
    {
     "name": "stdout",
     "output_type": "stream",
     "text": [
      "[stpipe.Detector1Pipeline.superbias:INFO] Step superbias running with args (<RampModel(70, 3, 256, 2048) from modified_jw88888001001_01101_00001_nrca1_uncal.fits>,).\n"
     ]
    },
    {
     "name": "stderr",
     "output_type": "stream",
     "text": [
      "2021-09-13 02:37:34,318 - stpipe.Detector1Pipeline.superbias - INFO - Step superbias parameters are: {'pre_hooks': [], 'post_hooks': [], 'output_file': None, 'output_dir': None, 'output_ext': '.fits', 'output_use_model': False, 'output_use_index': True, 'save_results': False, 'skip': False, 'suffix': None, 'search_output_file': True, 'input_dir': ''}\n"
     ]
    },
    {
     "name": "stdout",
     "output_type": "stream",
     "text": [
      "[stpipe.Detector1Pipeline.superbias:INFO] Step superbias parameters are: {'pre_hooks': [], 'post_hooks': [], 'output_file': None, 'output_dir': None, 'output_ext': '.fits', 'output_use_model': False, 'output_use_index': True, 'save_results': False, 'skip': False, 'suffix': None, 'search_output_file': True, 'input_dir': ''}\n",
      "[stdatamodels.util:DEBUG] Environmental \"STRICT_VALIDATION\" cannot be found. Using default value of \"False\".\n",
      "[stdatamodels.util:DEBUG] Environmental \"VALIDATE_ON_ASSIGNMENT\" cannot be found. Using default value of \"True\".\n",
      "[stdatamodels.util:DEBUG] Environmental \"STRICT_VALIDATION\" cannot be found. Using default value of \"False\".\n",
      "[stdatamodels.util:DEBUG] Environmental \"VALIDATE_ON_ASSIGNMENT\" cannot be found. Using default value of \"True\".\n"
     ]
    },
    {
     "name": "stderr",
     "output_type": "stream",
     "text": [
      "2021-09-13 02:37:34,375 - stpipe.Detector1Pipeline.superbias - INFO - Using SUPERBIAS reference file /fenrirdata1/kg_data/crds_cache/references/jwst/nircam/jwst_nircam_superbias_0027.fits\n"
     ]
    },
    {
     "name": "stdout",
     "output_type": "stream",
     "text": [
      "[stpipe.Detector1Pipeline.superbias:INFO] Using SUPERBIAS reference file /fenrirdata1/kg_data/crds_cache/references/jwst/nircam/jwst_nircam_superbias_0027.fits\n",
      "[stdatamodels.util:DEBUG] Environmental \"STRICT_VALIDATION\" cannot be found. Using default value of \"False\".\n",
      "[stdatamodels.util:DEBUG] Environmental \"VALIDATE_ON_ASSIGNMENT\" cannot be found. Using default value of \"True\".\n",
      "[stdatamodels.util:DEBUG] Environmental \"SKIP_FITS_UPDATE\" cannot be found. Using default value of \"None\".\n",
      "[stdatamodels.fits_support:DEBUG] No ASDF information found. Cannot skip updating from FITS headers.\n"
     ]
    },
    {
     "name": "stderr",
     "output_type": "stream",
     "text": [
      "[stcal.dynamicdq:WARNING] Keyword NOISY does not correspond to an existing DQ mnemonic, so will be ignored\n"
     ]
    },
    {
     "name": "stdout",
     "output_type": "stream",
     "text": [
      "[jwst.lib.reffile_utils:DEBUG] ref substrt1=1, subsize1=2048, substrt2=1, subsize2=2048\n",
      "[jwst.lib.reffile_utils:DEBUG] sci substrt1=1, subsize1=2048, substrt2=1, subsize2=256\n",
      "[jwst.lib.reffile_utils:DEBUG] slice xstart=0, xstop=2048, ystart=0, ystop=256\n",
      "[stdatamodels.util:DEBUG] Environmental \"STRICT_VALIDATION\" cannot be found. Using default value of \"False\".\n",
      "[stdatamodels.util:DEBUG] Environmental \"VALIDATE_ON_ASSIGNMENT\" cannot be found. Using default value of \"True\".\n",
      "[stdatamodels.util:DEBUG] Environmental \"VALIDATE_ON_ASSIGNMENT\" cannot be found. Using default value of \"True\".\n"
     ]
    },
    {
     "name": "stderr",
     "output_type": "stream",
     "text": [
      "2021-09-13 02:37:35,726 - stpipe.Detector1Pipeline.superbias - INFO - Step superbias done\n"
     ]
    },
    {
     "name": "stdout",
     "output_type": "stream",
     "text": [
      "[stpipe.Detector1Pipeline.superbias:INFO] Step superbias done\n"
     ]
    },
    {
     "name": "stderr",
     "output_type": "stream",
     "text": [
      "2021-09-13 02:37:35,903 - stpipe.Detector1Pipeline.refpix - INFO - Step refpix running with args (<RampModel(70, 3, 256, 2048) from modified_jw88888001001_01101_00001_nrca1_uncal.fits>,).\n"
     ]
    },
    {
     "name": "stdout",
     "output_type": "stream",
     "text": [
      "[stpipe.Detector1Pipeline.refpix:INFO] Step refpix running with args (<RampModel(70, 3, 256, 2048) from modified_jw88888001001_01101_00001_nrca1_uncal.fits>,).\n"
     ]
    },
    {
     "name": "stderr",
     "output_type": "stream",
     "text": [
      "2021-09-13 02:37:35,907 - stpipe.Detector1Pipeline.refpix - INFO - Step refpix parameters are: {'pre_hooks': [], 'post_hooks': [], 'output_file': None, 'output_dir': None, 'output_ext': '.fits', 'output_use_model': False, 'output_use_index': True, 'save_results': False, 'skip': False, 'suffix': None, 'search_output_file': True, 'input_dir': '', 'odd_even_columns': True, 'use_side_ref_pixels': True, 'side_smoothing_length': 11, 'side_gain': 1.0, 'odd_even_rows': True}\n"
     ]
    },
    {
     "name": "stdout",
     "output_type": "stream",
     "text": [
      "[stpipe.Detector1Pipeline.refpix:INFO] Step refpix parameters are: {'pre_hooks': [], 'post_hooks': [], 'output_file': None, 'output_dir': None, 'output_ext': '.fits', 'output_use_model': False, 'output_use_index': True, 'save_results': False, 'skip': False, 'suffix': None, 'search_output_file': True, 'input_dir': '', 'odd_even_columns': True, 'use_side_ref_pixels': True, 'side_smoothing_length': 11, 'side_gain': 1.0, 'odd_even_rows': True}\n",
      "[stdatamodels.util:DEBUG] Environmental \"STRICT_VALIDATION\" cannot be found. Using default value of \"False\".\n",
      "[stdatamodels.util:DEBUG] Environmental \"VALIDATE_ON_ASSIGNMENT\" cannot be found. Using default value of \"True\".\n"
     ]
    },
    {
     "name": "stderr",
     "output_type": "stream",
     "text": [
      "2021-09-13 02:37:35,933 - stpipe.Detector1Pipeline.refpix - INFO - use_side_ref_pixels = True\n"
     ]
    },
    {
     "name": "stdout",
     "output_type": "stream",
     "text": [
      "[stpipe.Detector1Pipeline.refpix:INFO] use_side_ref_pixels = True\n"
     ]
    },
    {
     "name": "stderr",
     "output_type": "stream",
     "text": [
      "2021-09-13 02:37:35,936 - stpipe.Detector1Pipeline.refpix - INFO - odd_even_columns = True\n"
     ]
    },
    {
     "name": "stdout",
     "output_type": "stream",
     "text": [
      "[stpipe.Detector1Pipeline.refpix:INFO] odd_even_columns = True\n"
     ]
    },
    {
     "name": "stderr",
     "output_type": "stream",
     "text": [
      "2021-09-13 02:37:35,938 - stpipe.Detector1Pipeline.refpix - INFO - side_smoothing_length = 11\n"
     ]
    },
    {
     "name": "stdout",
     "output_type": "stream",
     "text": [
      "[stpipe.Detector1Pipeline.refpix:INFO] side_smoothing_length = 11\n"
     ]
    },
    {
     "name": "stderr",
     "output_type": "stream",
     "text": [
      "2021-09-13 02:37:35,940 - stpipe.Detector1Pipeline.refpix - INFO - side_gain = 1.000000\n"
     ]
    },
    {
     "name": "stdout",
     "output_type": "stream",
     "text": [
      "[stpipe.Detector1Pipeline.refpix:INFO] side_gain = 1.000000\n"
     ]
    },
    {
     "name": "stderr",
     "output_type": "stream",
     "text": [
      "2021-09-13 02:37:35,945 - stpipe.Detector1Pipeline.refpix - INFO - odd_even_rows = True\n"
     ]
    },
    {
     "name": "stdout",
     "output_type": "stream",
     "text": [
      "[stpipe.Detector1Pipeline.refpix:INFO] odd_even_rows = True\n",
      "[stdatamodels.util:DEBUG] Environmental \"VALIDATE_ON_ASSIGNMENT\" cannot be found. Using default value of \"True\".\n",
      "[jwst.lib.reffile_utils:DEBUG] Input exposure is a subarray readout\n",
      "[jwst.lib.reffile_utils:DEBUG] Input exposure is a subarray readout\n"
     ]
    },
    {
     "name": "stderr",
     "output_type": "stream",
     "text": [
      "2021-09-13 02:38:46,709 - stpipe.Detector1Pipeline.refpix - INFO - Step refpix done\n"
     ]
    },
    {
     "name": "stdout",
     "output_type": "stream",
     "text": [
      "[stpipe.Detector1Pipeline.refpix:INFO] Step refpix done\n"
     ]
    },
    {
     "name": "stderr",
     "output_type": "stream",
     "text": [
      "2021-09-13 02:38:46,980 - stpipe.Detector1Pipeline.linearity - INFO - Step linearity running with args (<RampModel(70, 3, 256, 2048) from modified_jw88888001001_01101_00001_nrca1_uncal.fits>,).\n"
     ]
    },
    {
     "name": "stdout",
     "output_type": "stream",
     "text": [
      "[stpipe.Detector1Pipeline.linearity:INFO] Step linearity running with args (<RampModel(70, 3, 256, 2048) from modified_jw88888001001_01101_00001_nrca1_uncal.fits>,).\n"
     ]
    },
    {
     "name": "stderr",
     "output_type": "stream",
     "text": [
      "2021-09-13 02:38:46,985 - stpipe.Detector1Pipeline.linearity - INFO - Step linearity parameters are: {'pre_hooks': [], 'post_hooks': [], 'output_file': None, 'output_dir': None, 'output_ext': '.fits', 'output_use_model': False, 'output_use_index': True, 'save_results': False, 'skip': False, 'suffix': None, 'search_output_file': True, 'input_dir': ''}\n"
     ]
    },
    {
     "name": "stdout",
     "output_type": "stream",
     "text": [
      "[stpipe.Detector1Pipeline.linearity:INFO] Step linearity parameters are: {'pre_hooks': [], 'post_hooks': [], 'output_file': None, 'output_dir': None, 'output_ext': '.fits', 'output_use_model': False, 'output_use_index': True, 'save_results': False, 'skip': False, 'suffix': None, 'search_output_file': True, 'input_dir': ''}\n",
      "[stdatamodels.util:DEBUG] Environmental \"STRICT_VALIDATION\" cannot be found. Using default value of \"False\".\n",
      "[stdatamodels.util:DEBUG] Environmental \"VALIDATE_ON_ASSIGNMENT\" cannot be found. Using default value of \"True\".\n",
      "[stdatamodels.util:DEBUG] Environmental \"STRICT_VALIDATION\" cannot be found. Using default value of \"False\".\n",
      "[stdatamodels.util:DEBUG] Environmental \"VALIDATE_ON_ASSIGNMENT\" cannot be found. Using default value of \"True\".\n"
     ]
    },
    {
     "name": "stderr",
     "output_type": "stream",
     "text": [
      "2021-09-13 02:38:47,038 - stpipe.Detector1Pipeline.linearity - INFO - Using Linearity reference file /fenrirdata1/kg_data/crds_cache/references/jwst/nircam/jwst_nircam_linearity_0053.fits\n"
     ]
    },
    {
     "name": "stdout",
     "output_type": "stream",
     "text": [
      "[stpipe.Detector1Pipeline.linearity:INFO] Using Linearity reference file /fenrirdata1/kg_data/crds_cache/references/jwst/nircam/jwst_nircam_linearity_0053.fits\n",
      "[stdatamodels.util:DEBUG] Environmental \"STRICT_VALIDATION\" cannot be found. Using default value of \"False\".\n",
      "[stdatamodels.util:DEBUG] Environmental \"VALIDATE_ON_ASSIGNMENT\" cannot be found. Using default value of \"True\".\n",
      "[stdatamodels.util:DEBUG] Environmental \"SKIP_FITS_UPDATE\" cannot be found. Using default value of \"None\".\n",
      "[stdatamodels.fits_support:DEBUG] No ASDF information found. Cannot skip updating from FITS headers.\n"
     ]
    },
    {
     "name": "stderr",
     "output_type": "stream",
     "text": [
      "[stcal.dynamicdq:WARNING] Keyword UAZ_DO_NOT_USE does not correspond to an existing DQ mnemonic, so will be ignored\n",
      "[stcal.dynamicdq:WARNING] Keyword UAZ_NO_LIN_SAMP does not correspond to an existing DQ mnemonic, so will be ignored\n",
      "[stcal.dynamicdq:WARNING] Keyword UAZ_BAD_LIN_FIT does not correspond to an existing DQ mnemonic, so will be ignored\n",
      "[stcal.dynamicdq:WARNING] Keyword UAZ_NO_WELL_SAMP does not correspond to an existing DQ mnemonic, so will be ignored\n",
      "[stcal.dynamicdq:WARNING] Keyword UAZ_MODEL_FIT_FAIL does not correspond to an existing DQ mnemonic, so will be ignored\n",
      "[stcal.dynamicdq:WARNING] Keyword UAZ_WELL_NOT_DEFINED does not correspond to an existing DQ mnemonic, so will be ignored\n",
      "[stcal.dynamicdq:WARNING] Keyword UAZ_MASTER_MASK does not correspond to an existing DQ mnemonic, so will be ignored\n"
     ]
    },
    {
     "name": "stdout",
     "output_type": "stream",
     "text": [
      "[stdatamodels.util:DEBUG] Environmental \"VALIDATE_ON_ASSIGNMENT\" cannot be found. Using default value of \"True\".\n",
      "[jwst.lib.reffile_utils:DEBUG] ref substrt1=1, subsize1=2048, substrt2=1, subsize2=2048\n",
      "[jwst.lib.reffile_utils:DEBUG] sci substrt1=1, subsize1=2048, substrt2=1, subsize2=256\n",
      "[jwst.linearity.linearity:INFO] Extracting linearity subarray to match science data\n",
      "[jwst.lib.reffile_utils:DEBUG] slice xstart=0, xstop=2048, ystart=0, ystop=256\n",
      "[stdatamodels.util:DEBUG] Environmental \"STRICT_VALIDATION\" cannot be found. Using default value of \"False\".\n",
      "[stdatamodels.util:DEBUG] Environmental \"VALIDATE_ON_ASSIGNMENT\" cannot be found. Using default value of \"True\".\n",
      "[jwst.lib.reffile_utils:DEBUG] ref substrt1=1, subsize1=2048, substrt2=1, subsize2=2048\n",
      "[jwst.lib.reffile_utils:DEBUG] sci substrt1=1, subsize1=2048, substrt2=1, subsize2=256\n",
      "[jwst.lib.reffile_utils:DEBUG] slice xstart=0, xstop=2048, ystart=0, ystop=256\n",
      "[stdatamodels.util:DEBUG] Environmental \"STRICT_VALIDATION\" cannot be found. Using default value of \"False\".\n",
      "[stdatamodels.util:DEBUG] Environmental \"VALIDATE_ON_ASSIGNMENT\" cannot be found. Using default value of \"True\".\n",
      "[jwst.linearity.linearity:DEBUG] Pixels were flagged in the DQ of the reference file as NO_LIN_CORR ('Linearity correction not available'); for those affected pixels no linearity correction will be applied.\n",
      "[jwst.linearity.linearity:DEBUG] Unflagged pixels having coefficients set to NaN were detected in the ref file; for those affected pixels no linearity correction will be applied.\n"
     ]
    },
    {
     "name": "stderr",
     "output_type": "stream",
     "text": [
      "2021-09-13 02:38:50,913 - stpipe.Detector1Pipeline.linearity - INFO - Step linearity done\n"
     ]
    },
    {
     "name": "stdout",
     "output_type": "stream",
     "text": [
      "[stpipe.Detector1Pipeline.linearity:INFO] Step linearity done\n"
     ]
    },
    {
     "name": "stderr",
     "output_type": "stream",
     "text": [
      "2021-09-13 02:38:51,077 - stpipe.Detector1Pipeline.persistence - INFO - Step persistence running with args (<RampModel(70, 3, 256, 2048) from modified_jw88888001001_01101_00001_nrca1_uncal.fits>,).\n"
     ]
    },
    {
     "name": "stdout",
     "output_type": "stream",
     "text": [
      "[stpipe.Detector1Pipeline.persistence:INFO] Step persistence running with args (<RampModel(70, 3, 256, 2048) from modified_jw88888001001_01101_00001_nrca1_uncal.fits>,).\n"
     ]
    },
    {
     "name": "stderr",
     "output_type": "stream",
     "text": [
      "2021-09-13 02:38:51,082 - stpipe.Detector1Pipeline.persistence - INFO - Step persistence parameters are: {'pre_hooks': [], 'post_hooks': [], 'output_file': None, 'output_dir': None, 'output_ext': '.fits', 'output_use_model': False, 'output_use_index': True, 'save_results': False, 'skip': True, 'suffix': None, 'search_output_file': True, 'input_dir': '', 'input_trapsfilled': '', 'flag_pers_cutoff': 40.0, 'save_persistence': False, 'save_trapsfilled': True}\n"
     ]
    },
    {
     "name": "stdout",
     "output_type": "stream",
     "text": [
      "[stpipe.Detector1Pipeline.persistence:INFO] Step persistence parameters are: {'pre_hooks': [], 'post_hooks': [], 'output_file': None, 'output_dir': None, 'output_ext': '.fits', 'output_use_model': False, 'output_use_index': True, 'save_results': False, 'skip': True, 'suffix': None, 'search_output_file': True, 'input_dir': '', 'input_trapsfilled': '', 'flag_pers_cutoff': 40.0, 'save_persistence': False, 'save_trapsfilled': True}\n"
     ]
    },
    {
     "name": "stderr",
     "output_type": "stream",
     "text": [
      "2021-09-13 02:38:51,084 - stpipe.Detector1Pipeline.persistence - INFO - Step skipped.\n"
     ]
    },
    {
     "name": "stdout",
     "output_type": "stream",
     "text": [
      "[stpipe.Detector1Pipeline.persistence:INFO] Step skipped.\n"
     ]
    },
    {
     "name": "stderr",
     "output_type": "stream",
     "text": [
      "2021-09-13 02:38:51,087 - stpipe.Detector1Pipeline.persistence - INFO - Step persistence done\n"
     ]
    },
    {
     "name": "stdout",
     "output_type": "stream",
     "text": [
      "[stpipe.Detector1Pipeline.persistence:INFO] Step persistence done\n"
     ]
    },
    {
     "name": "stderr",
     "output_type": "stream",
     "text": [
      "2021-09-13 02:38:51,190 - stpipe.Detector1Pipeline.dark_current - INFO - Step dark_current running with args (<RampModel(70, 3, 256, 2048) from modified_jw88888001001_01101_00001_nrca1_uncal.fits>,).\n"
     ]
    },
    {
     "name": "stdout",
     "output_type": "stream",
     "text": [
      "[stpipe.Detector1Pipeline.dark_current:INFO] Step dark_current running with args (<RampModel(70, 3, 256, 2048) from modified_jw88888001001_01101_00001_nrca1_uncal.fits>,).\n"
     ]
    },
    {
     "name": "stderr",
     "output_type": "stream",
     "text": [
      "2021-09-13 02:38:51,196 - stpipe.Detector1Pipeline.dark_current - INFO - Step dark_current parameters are: {'pre_hooks': [], 'post_hooks': [], 'output_file': None, 'output_dir': '/fenrirdata1/kg_data/pipeline_output/Short_Transit_NRCA3/', 'output_ext': '.fits', 'output_use_model': False, 'output_use_index': True, 'save_results': False, 'skip': False, 'suffix': None, 'search_output_file': True, 'input_dir': '', 'dark_output': None}\n"
     ]
    },
    {
     "name": "stdout",
     "output_type": "stream",
     "text": [
      "[stpipe.Detector1Pipeline.dark_current:INFO] Step dark_current parameters are: {'pre_hooks': [], 'post_hooks': [], 'output_file': None, 'output_dir': '/fenrirdata1/kg_data/pipeline_output/Short_Transit_NRCA3/', 'output_ext': '.fits', 'output_use_model': False, 'output_use_index': True, 'save_results': False, 'skip': False, 'suffix': None, 'search_output_file': True, 'input_dir': '', 'dark_output': None}\n",
      "[stdatamodels.util:DEBUG] Environmental \"STRICT_VALIDATION\" cannot be found. Using default value of \"False\".\n",
      "[stdatamodels.util:DEBUG] Environmental \"VALIDATE_ON_ASSIGNMENT\" cannot be found. Using default value of \"True\".\n",
      "[stdatamodels.util:DEBUG] Environmental \"STRICT_VALIDATION\" cannot be found. Using default value of \"False\".\n",
      "[stdatamodels.util:DEBUG] Environmental \"VALIDATE_ON_ASSIGNMENT\" cannot be found. Using default value of \"True\".\n"
     ]
    },
    {
     "name": "stderr",
     "output_type": "stream",
     "text": [
      "2021-09-13 02:38:51,247 - stpipe.Detector1Pipeline.dark_current - INFO - Using DARK reference file /fenrirdata1/kg_data/crds_cache/references/jwst/nircam/jwst_nircam_dark_0196.fits\n"
     ]
    },
    {
     "name": "stdout",
     "output_type": "stream",
     "text": [
      "[stpipe.Detector1Pipeline.dark_current:INFO] Using DARK reference file /fenrirdata1/kg_data/crds_cache/references/jwst/nircam/jwst_nircam_dark_0196.fits\n",
      "[stdatamodels.util:DEBUG] Environmental \"STRICT_VALIDATION\" cannot be found. Using default value of \"False\".\n",
      "[stdatamodels.util:DEBUG] Environmental \"VALIDATE_ON_ASSIGNMENT\" cannot be found. Using default value of \"True\".\n",
      "[stdatamodels.util:DEBUG] Environmental \"SKIP_FITS_UPDATE\" cannot be found. Using default value of \"None\".\n",
      "[stdatamodels.fits_support:DEBUG] No ASDF information found. Cannot skip updating from FITS headers.\n"
     ]
    },
    {
     "name": "stderr",
     "output_type": "stream",
     "text": [
      "[stcal.dynamicdq:WARNING] Keyword HIGH_NOISE does not correspond to an existing DQ mnemonic, so will be ignored\n",
      "[stcal.dynamicdq:WARNING] Keyword UNSTABLE_NOISE does not correspond to an existing DQ mnemonic, so will be ignored\n"
     ]
    },
    {
     "name": "stdout",
     "output_type": "stream",
     "text": [
      "[jwst.dark_current.dark_sub:INFO] Science data nints=70, ngroups=3, nframes=1, groupgap=0\n",
      "[jwst.dark_current.dark_sub:INFO] Dark data nints=1, ngroups=20, nframes=1, groupgap=0\n",
      "[jwst.dark_current.dark_sub:DEBUG] subtract_dark: nints=70, ngroups=3, size=256,2048\n",
      "[stdatamodels.util:DEBUG] Environmental \"VALIDATE_ON_ASSIGNMENT\" cannot be found. Using default value of \"True\".\n"
     ]
    },
    {
     "name": "stderr",
     "output_type": "stream",
     "text": [
      "2021-09-13 02:38:52,180 - stpipe.Detector1Pipeline.dark_current - INFO - Step dark_current done\n"
     ]
    },
    {
     "name": "stdout",
     "output_type": "stream",
     "text": [
      "[stpipe.Detector1Pipeline.dark_current:INFO] Step dark_current done\n"
     ]
    },
    {
     "name": "stderr",
     "output_type": "stream",
     "text": [
      "2021-09-13 02:38:52,312 - stpipe.Detector1Pipeline.jump - INFO - Step jump running with args (<RampModel(70, 3, 256, 2048) from modified_jw88888001001_01101_00001_nrca1_uncal.fits>,).\n"
     ]
    },
    {
     "name": "stdout",
     "output_type": "stream",
     "text": [
      "[stpipe.Detector1Pipeline.jump:INFO] Step jump running with args (<RampModel(70, 3, 256, 2048) from modified_jw88888001001_01101_00001_nrca1_uncal.fits>,).\n"
     ]
    },
    {
     "name": "stderr",
     "output_type": "stream",
     "text": [
      "2021-09-13 02:38:52,317 - stpipe.Detector1Pipeline.jump - INFO - Step jump parameters are: {'pre_hooks': [], 'post_hooks': [], 'output_file': None, 'output_dir': None, 'output_ext': '.fits', 'output_use_model': False, 'output_use_index': True, 'save_results': False, 'skip': False, 'suffix': None, 'search_output_file': True, 'input_dir': '', 'rejection_threshold': 9, 'three_group_rejection_threshold': 6.0, 'four_group_rejection_threshold': 5.0, 'maximum_cores': 'none', 'flag_4_neighbors': True, 'max_jump_to_flag_neighbors': 1000.0, 'min_jump_to_flag_neighbors': 10.0}\n"
     ]
    },
    {
     "name": "stdout",
     "output_type": "stream",
     "text": [
      "[stpipe.Detector1Pipeline.jump:INFO] Step jump parameters are: {'pre_hooks': [], 'post_hooks': [], 'output_file': None, 'output_dir': None, 'output_ext': '.fits', 'output_use_model': False, 'output_use_index': True, 'save_results': False, 'skip': False, 'suffix': None, 'search_output_file': True, 'input_dir': '', 'rejection_threshold': 9, 'three_group_rejection_threshold': 6.0, 'four_group_rejection_threshold': 5.0, 'maximum_cores': 'none', 'flag_4_neighbors': True, 'max_jump_to_flag_neighbors': 1000.0, 'min_jump_to_flag_neighbors': 10.0}\n",
      "[stdatamodels.util:DEBUG] Environmental \"STRICT_VALIDATION\" cannot be found. Using default value of \"False\".\n",
      "[stdatamodels.util:DEBUG] Environmental \"VALIDATE_ON_ASSIGNMENT\" cannot be found. Using default value of \"True\".\n"
     ]
    },
    {
     "name": "stderr",
     "output_type": "stream",
     "text": [
      "2021-09-13 02:38:52,341 - stpipe.Detector1Pipeline.jump - INFO - CR rejection threshold = 9 sigma\n"
     ]
    },
    {
     "name": "stdout",
     "output_type": "stream",
     "text": [
      "[stpipe.Detector1Pipeline.jump:INFO] CR rejection threshold = 9 sigma\n",
      "[stdatamodels.util:DEBUG] Environmental \"STRICT_VALIDATION\" cannot be found. Using default value of \"False\".\n",
      "[stdatamodels.util:DEBUG] Environmental \"VALIDATE_ON_ASSIGNMENT\" cannot be found. Using default value of \"True\".\n"
     ]
    },
    {
     "name": "stderr",
     "output_type": "stream",
     "text": [
      "2021-09-13 02:38:52,373 - stpipe.Detector1Pipeline.jump - INFO - Using GAIN reference file: /fenrirdata1/kg_data/crds_cache/references/jwst/nircam/jwst_nircam_gain_0048.fits\n"
     ]
    },
    {
     "name": "stdout",
     "output_type": "stream",
     "text": [
      "[stpipe.Detector1Pipeline.jump:INFO] Using GAIN reference file: /fenrirdata1/kg_data/crds_cache/references/jwst/nircam/jwst_nircam_gain_0048.fits\n",
      "[stdatamodels.util:DEBUG] Environmental \"STRICT_VALIDATION\" cannot be found. Using default value of \"False\".\n",
      "[stdatamodels.util:DEBUG] Environmental \"VALIDATE_ON_ASSIGNMENT\" cannot be found. Using default value of \"True\".\n",
      "[stdatamodels.util:DEBUG] Environmental \"SKIP_FITS_UPDATE\" cannot be found. Using default value of \"None\".\n",
      "[stdatamodels.util:DEBUG] Environmental \"STRICT_VALIDATION\" cannot be found. Using default value of \"False\".\n",
      "[stdatamodels.util:DEBUG] Environmental \"VALIDATE_ON_ASSIGNMENT\" cannot be found. Using default value of \"True\".\n"
     ]
    },
    {
     "name": "stderr",
     "output_type": "stream",
     "text": [
      "2021-09-13 02:38:52,454 - stpipe.Detector1Pipeline.jump - INFO - Using READNOISE reference file: /fenrirdata1/kg_data/crds_cache/references/jwst/nircam/jwst_nircam_readnoise_0030.fits\n"
     ]
    },
    {
     "name": "stdout",
     "output_type": "stream",
     "text": [
      "[stpipe.Detector1Pipeline.jump:INFO] Using READNOISE reference file: /fenrirdata1/kg_data/crds_cache/references/jwst/nircam/jwst_nircam_readnoise_0030.fits\n",
      "[stdatamodels.util:DEBUG] Environmental \"STRICT_VALIDATION\" cannot be found. Using default value of \"False\".\n",
      "[stdatamodels.util:DEBUG] Environmental \"VALIDATE_ON_ASSIGNMENT\" cannot be found. Using default value of \"True\".\n",
      "[stdatamodels.util:DEBUG] Environmental \"SKIP_FITS_UPDATE\" cannot be found. Using default value of \"None\".\n",
      "[stdatamodels.fits_support:DEBUG] No ASDF information found. Cannot skip updating from FITS headers.\n",
      "[jwst.jump.jump:INFO] Using 1 core for jump detection \n",
      "[stdatamodels.util:DEBUG] Environmental \"VALIDATE_ON_ASSIGNMENT\" cannot be found. Using default value of \"True\".\n",
      "[jwst.lib.reffile_utils:DEBUG] ref substrt1=1, subsize1=2048, substrt2=1, subsize2=2048\n",
      "[jwst.lib.reffile_utils:DEBUG] sci substrt1=1, subsize1=2048, substrt2=1, subsize2=256\n",
      "[jwst.jump.jump:INFO] Extracting gain subarray to match science data\n",
      "[jwst.lib.reffile_utils:DEBUG] science xstart=1, xsize=2048, ystart=1, ysize=256\n",
      "[jwst.lib.reffile_utils:DEBUG] reference xstart=1, xsize=2048, ystart=1, ysize=2048\n",
      "[jwst.lib.reffile_utils:DEBUG] slice xstart=0, xstop=2048, ystart=0, ystop=256\n",
      "[jwst.lib.reffile_utils:DEBUG] ref substrt1=1, subsize1=2048, substrt2=1, subsize2=2048\n",
      "[jwst.lib.reffile_utils:DEBUG] sci substrt1=1, subsize1=2048, substrt2=1, subsize2=256\n",
      "[jwst.jump.jump:INFO] Extracting readnoise subarray to match science data\n",
      "[jwst.lib.reffile_utils:DEBUG] science xstart=1, xsize=2048, ystart=1, ysize=256\n",
      "[jwst.lib.reffile_utils:DEBUG] reference xstart=1, xsize=2048, ystart=1, ysize=2048\n",
      "[jwst.lib.reffile_utils:DEBUG] slice xstart=0, xstop=2048, ystart=0, ystop=256\n",
      "[jwst.jump.jump:INFO] Executing two-point difference method\n",
      "[jwst.jump.twopoint_difference:INFO] Working on integration 1:\n",
      "[jwst.jump.twopoint_difference:DEBUG] Twopt found 10208 pixels with sigma=0\n",
      "[jwst.jump.twopoint_difference:DEBUG] which will be reset so that no jump will be detected\n",
      "[jwst.jump.twopoint_difference:INFO] From highest outlier Two-point found 0 pixels with at least one CR and at least four groups\n",
      "[jwst.jump.twopoint_difference:INFO] From highest outlier Two-point found 0 pixels with at least one CR and three groups\n",
      "[jwst.jump.twopoint_difference:INFO] From highest outlier Two-point found 273 pixels with at least one CR and two groups\n",
      "[jwst.jump.twopoint_difference:INFO] Working on integration 2:\n",
      "[jwst.jump.twopoint_difference:DEBUG] Twopt found 10208 pixels with sigma=0\n",
      "[jwst.jump.twopoint_difference:DEBUG] which will be reset so that no jump will be detected\n",
      "[jwst.jump.twopoint_difference:INFO] From highest outlier Two-point found 0 pixels with at least one CR and at least four groups\n",
      "[jwst.jump.twopoint_difference:INFO] From highest outlier Two-point found 0 pixels with at least one CR and three groups\n",
      "[jwst.jump.twopoint_difference:INFO] From highest outlier Two-point found 248 pixels with at least one CR and two groups\n",
      "[jwst.jump.twopoint_difference:INFO] Working on integration 3:\n",
      "[jwst.jump.twopoint_difference:DEBUG] Twopt found 10208 pixels with sigma=0\n",
      "[jwst.jump.twopoint_difference:DEBUG] which will be reset so that no jump will be detected\n",
      "[jwst.jump.twopoint_difference:INFO] From highest outlier Two-point found 0 pixels with at least one CR and at least four groups\n",
      "[jwst.jump.twopoint_difference:INFO] From highest outlier Two-point found 0 pixels with at least one CR and three groups\n",
      "[jwst.jump.twopoint_difference:INFO] From highest outlier Two-point found 283 pixels with at least one CR and two groups\n",
      "[jwst.jump.twopoint_difference:INFO] Working on integration 4:\n",
      "[jwst.jump.twopoint_difference:DEBUG] Twopt found 10208 pixels with sigma=0\n",
      "[jwst.jump.twopoint_difference:DEBUG] which will be reset so that no jump will be detected\n",
      "[jwst.jump.twopoint_difference:INFO] From highest outlier Two-point found 0 pixels with at least one CR and at least four groups\n",
      "[jwst.jump.twopoint_difference:INFO] From highest outlier Two-point found 0 pixels with at least one CR and three groups\n",
      "[jwst.jump.twopoint_difference:INFO] From highest outlier Two-point found 285 pixels with at least one CR and two groups\n",
      "[jwst.jump.twopoint_difference:INFO] Working on integration 5:\n",
      "[jwst.jump.twopoint_difference:DEBUG] Twopt found 10208 pixels with sigma=0\n",
      "[jwst.jump.twopoint_difference:DEBUG] which will be reset so that no jump will be detected\n",
      "[jwst.jump.twopoint_difference:INFO] From highest outlier Two-point found 0 pixels with at least one CR and at least four groups\n",
      "[jwst.jump.twopoint_difference:INFO] From highest outlier Two-point found 0 pixels with at least one CR and three groups\n",
      "[jwst.jump.twopoint_difference:INFO] From highest outlier Two-point found 273 pixels with at least one CR and two groups\n",
      "[jwst.jump.twopoint_difference:INFO] Working on integration 6:\n",
      "[jwst.jump.twopoint_difference:DEBUG] Twopt found 10208 pixels with sigma=0\n",
      "[jwst.jump.twopoint_difference:DEBUG] which will be reset so that no jump will be detected\n",
      "[jwst.jump.twopoint_difference:INFO] From highest outlier Two-point found 0 pixels with at least one CR and at least four groups\n",
      "[jwst.jump.twopoint_difference:INFO] From highest outlier Two-point found 0 pixels with at least one CR and three groups\n",
      "[jwst.jump.twopoint_difference:INFO] From highest outlier Two-point found 254 pixels with at least one CR and two groups\n",
      "[jwst.jump.twopoint_difference:INFO] Working on integration 7:\n",
      "[jwst.jump.twopoint_difference:DEBUG] Twopt found 10208 pixels with sigma=0\n",
      "[jwst.jump.twopoint_difference:DEBUG] which will be reset so that no jump will be detected\n",
      "[jwst.jump.twopoint_difference:INFO] From highest outlier Two-point found 0 pixels with at least one CR and at least four groups\n",
      "[jwst.jump.twopoint_difference:INFO] From highest outlier Two-point found 0 pixels with at least one CR and three groups\n",
      "[jwst.jump.twopoint_difference:INFO] From highest outlier Two-point found 284 pixels with at least one CR and two groups\n",
      "[jwst.jump.twopoint_difference:INFO] Working on integration 8:\n",
      "[jwst.jump.twopoint_difference:DEBUG] Twopt found 10208 pixels with sigma=0\n",
      "[jwst.jump.twopoint_difference:DEBUG] which will be reset so that no jump will be detected\n",
      "[jwst.jump.twopoint_difference:INFO] From highest outlier Two-point found 0 pixels with at least one CR and at least four groups\n",
      "[jwst.jump.twopoint_difference:INFO] From highest outlier Two-point found 0 pixels with at least one CR and three groups\n",
      "[jwst.jump.twopoint_difference:INFO] From highest outlier Two-point found 276 pixels with at least one CR and two groups\n",
      "[jwst.jump.twopoint_difference:INFO] Working on integration 9:\n",
      "[jwst.jump.twopoint_difference:DEBUG] Twopt found 10208 pixels with sigma=0\n",
      "[jwst.jump.twopoint_difference:DEBUG] which will be reset so that no jump will be detected\n",
      "[jwst.jump.twopoint_difference:INFO] From highest outlier Two-point found 0 pixels with at least one CR and at least four groups\n",
      "[jwst.jump.twopoint_difference:INFO] From highest outlier Two-point found 0 pixels with at least one CR and three groups\n",
      "[jwst.jump.twopoint_difference:INFO] From highest outlier Two-point found 280 pixels with at least one CR and two groups\n",
      "[jwst.jump.twopoint_difference:INFO] Working on integration 10:\n",
      "[jwst.jump.twopoint_difference:DEBUG] Twopt found 10208 pixels with sigma=0\n",
      "[jwst.jump.twopoint_difference:DEBUG] which will be reset so that no jump will be detected\n",
      "[jwst.jump.twopoint_difference:INFO] From highest outlier Two-point found 0 pixels with at least one CR and at least four groups\n",
      "[jwst.jump.twopoint_difference:INFO] From highest outlier Two-point found 0 pixels with at least one CR and three groups\n",
      "[jwst.jump.twopoint_difference:INFO] From highest outlier Two-point found 303 pixels with at least one CR and two groups\n",
      "[jwst.jump.twopoint_difference:INFO] Working on integration 11:\n",
      "[jwst.jump.twopoint_difference:DEBUG] Twopt found 10208 pixels with sigma=0\n",
      "[jwst.jump.twopoint_difference:DEBUG] which will be reset so that no jump will be detected\n",
      "[jwst.jump.twopoint_difference:INFO] From highest outlier Two-point found 0 pixels with at least one CR and at least four groups\n",
      "[jwst.jump.twopoint_difference:INFO] From highest outlier Two-point found 0 pixels with at least one CR and three groups\n"
     ]
    },
    {
     "name": "stdout",
     "output_type": "stream",
     "text": [
      "[jwst.jump.twopoint_difference:INFO] From highest outlier Two-point found 411 pixels with at least one CR and two groups\n",
      "[jwst.jump.twopoint_difference:INFO] Working on integration 12:\n",
      "[jwst.jump.twopoint_difference:DEBUG] Twopt found 10208 pixels with sigma=0\n",
      "[jwst.jump.twopoint_difference:DEBUG] which will be reset so that no jump will be detected\n",
      "[jwst.jump.twopoint_difference:INFO] From highest outlier Two-point found 0 pixels with at least one CR and at least four groups\n",
      "[jwst.jump.twopoint_difference:INFO] From highest outlier Two-point found 0 pixels with at least one CR and three groups\n",
      "[jwst.jump.twopoint_difference:INFO] From highest outlier Two-point found 251 pixels with at least one CR and two groups\n",
      "[jwst.jump.twopoint_difference:INFO] Working on integration 13:\n",
      "[jwst.jump.twopoint_difference:DEBUG] Twopt found 10208 pixels with sigma=0\n",
      "[jwst.jump.twopoint_difference:DEBUG] which will be reset so that no jump will be detected\n",
      "[jwst.jump.twopoint_difference:INFO] From highest outlier Two-point found 0 pixels with at least one CR and at least four groups\n",
      "[jwst.jump.twopoint_difference:INFO] From highest outlier Two-point found 0 pixels with at least one CR and three groups\n",
      "[jwst.jump.twopoint_difference:INFO] From highest outlier Two-point found 295 pixels with at least one CR and two groups\n",
      "[jwst.jump.twopoint_difference:INFO] Working on integration 14:\n",
      "[jwst.jump.twopoint_difference:DEBUG] Twopt found 10208 pixels with sigma=0\n",
      "[jwst.jump.twopoint_difference:DEBUG] which will be reset so that no jump will be detected\n",
      "[jwst.jump.twopoint_difference:INFO] From highest outlier Two-point found 0 pixels with at least one CR and at least four groups\n",
      "[jwst.jump.twopoint_difference:INFO] From highest outlier Two-point found 0 pixels with at least one CR and three groups\n",
      "[jwst.jump.twopoint_difference:INFO] From highest outlier Two-point found 267 pixels with at least one CR and two groups\n",
      "[jwst.jump.twopoint_difference:INFO] Working on integration 15:\n",
      "[jwst.jump.twopoint_difference:DEBUG] Twopt found 10208 pixels with sigma=0\n",
      "[jwst.jump.twopoint_difference:DEBUG] which will be reset so that no jump will be detected\n",
      "[jwst.jump.twopoint_difference:INFO] From highest outlier Two-point found 0 pixels with at least one CR and at least four groups\n",
      "[jwst.jump.twopoint_difference:INFO] From highest outlier Two-point found 0 pixels with at least one CR and three groups\n",
      "[jwst.jump.twopoint_difference:INFO] From highest outlier Two-point found 256 pixels with at least one CR and two groups\n",
      "[jwst.jump.twopoint_difference:INFO] Working on integration 16:\n",
      "[jwst.jump.twopoint_difference:DEBUG] Twopt found 10208 pixels with sigma=0\n",
      "[jwst.jump.twopoint_difference:DEBUG] which will be reset so that no jump will be detected\n",
      "[jwst.jump.twopoint_difference:INFO] From highest outlier Two-point found 0 pixels with at least one CR and at least four groups\n",
      "[jwst.jump.twopoint_difference:INFO] From highest outlier Two-point found 0 pixels with at least one CR and three groups\n",
      "[jwst.jump.twopoint_difference:INFO] From highest outlier Two-point found 292 pixels with at least one CR and two groups\n",
      "[jwst.jump.twopoint_difference:INFO] Working on integration 17:\n",
      "[jwst.jump.twopoint_difference:DEBUG] Twopt found 10208 pixels with sigma=0\n",
      "[jwst.jump.twopoint_difference:DEBUG] which will be reset so that no jump will be detected\n",
      "[jwst.jump.twopoint_difference:INFO] From highest outlier Two-point found 0 pixels with at least one CR and at least four groups\n",
      "[jwst.jump.twopoint_difference:INFO] From highest outlier Two-point found 0 pixels with at least one CR and three groups\n",
      "[jwst.jump.twopoint_difference:INFO] From highest outlier Two-point found 297 pixels with at least one CR and two groups\n",
      "[jwst.jump.twopoint_difference:INFO] Working on integration 18:\n",
      "[jwst.jump.twopoint_difference:DEBUG] Twopt found 10208 pixels with sigma=0\n",
      "[jwst.jump.twopoint_difference:DEBUG] which will be reset so that no jump will be detected\n",
      "[jwst.jump.twopoint_difference:INFO] From highest outlier Two-point found 0 pixels with at least one CR and at least four groups\n",
      "[jwst.jump.twopoint_difference:INFO] From highest outlier Two-point found 0 pixels with at least one CR and three groups\n",
      "[jwst.jump.twopoint_difference:INFO] From highest outlier Two-point found 393 pixels with at least one CR and two groups\n",
      "[jwst.jump.twopoint_difference:INFO] Working on integration 19:\n",
      "[jwst.jump.twopoint_difference:DEBUG] Twopt found 10208 pixels with sigma=0\n",
      "[jwst.jump.twopoint_difference:DEBUG] which will be reset so that no jump will be detected\n",
      "[jwst.jump.twopoint_difference:INFO] From highest outlier Two-point found 0 pixels with at least one CR and at least four groups\n",
      "[jwst.jump.twopoint_difference:INFO] From highest outlier Two-point found 0 pixels with at least one CR and three groups\n",
      "[jwst.jump.twopoint_difference:INFO] From highest outlier Two-point found 276 pixels with at least one CR and two groups\n",
      "[jwst.jump.twopoint_difference:INFO] Working on integration 20:\n",
      "[jwst.jump.twopoint_difference:DEBUG] Twopt found 10208 pixels with sigma=0\n",
      "[jwst.jump.twopoint_difference:DEBUG] which will be reset so that no jump will be detected\n",
      "[jwst.jump.twopoint_difference:INFO] From highest outlier Two-point found 0 pixels with at least one CR and at least four groups\n",
      "[jwst.jump.twopoint_difference:INFO] From highest outlier Two-point found 0 pixels with at least one CR and three groups\n",
      "[jwst.jump.twopoint_difference:INFO] From highest outlier Two-point found 430 pixels with at least one CR and two groups\n",
      "[jwst.jump.twopoint_difference:INFO] Working on integration 21:\n",
      "[jwst.jump.twopoint_difference:DEBUG] Twopt found 10208 pixels with sigma=0\n",
      "[jwst.jump.twopoint_difference:DEBUG] which will be reset so that no jump will be detected\n",
      "[jwst.jump.twopoint_difference:INFO] From highest outlier Two-point found 0 pixels with at least one CR and at least four groups\n",
      "[jwst.jump.twopoint_difference:INFO] From highest outlier Two-point found 0 pixels with at least one CR and three groups\n",
      "[jwst.jump.twopoint_difference:INFO] From highest outlier Two-point found 417 pixels with at least one CR and two groups\n",
      "[jwst.jump.twopoint_difference:INFO] Working on integration 22:\n",
      "[jwst.jump.twopoint_difference:DEBUG] Twopt found 10208 pixels with sigma=0\n",
      "[jwst.jump.twopoint_difference:DEBUG] which will be reset so that no jump will be detected\n",
      "[jwst.jump.twopoint_difference:INFO] From highest outlier Two-point found 0 pixels with at least one CR and at least four groups\n",
      "[jwst.jump.twopoint_difference:INFO] From highest outlier Two-point found 0 pixels with at least one CR and three groups\n",
      "[jwst.jump.twopoint_difference:INFO] From highest outlier Two-point found 247 pixels with at least one CR and two groups\n",
      "[jwst.jump.twopoint_difference:INFO] Working on integration 23:\n",
      "[jwst.jump.twopoint_difference:DEBUG] Twopt found 10208 pixels with sigma=0\n",
      "[jwst.jump.twopoint_difference:DEBUG] which will be reset so that no jump will be detected\n",
      "[jwst.jump.twopoint_difference:INFO] From highest outlier Two-point found 0 pixels with at least one CR and at least four groups\n",
      "[jwst.jump.twopoint_difference:INFO] From highest outlier Two-point found 0 pixels with at least one CR and three groups\n",
      "[jwst.jump.twopoint_difference:INFO] From highest outlier Two-point found 285 pixels with at least one CR and two groups\n",
      "[jwst.jump.twopoint_difference:INFO] Working on integration 24:\n",
      "[jwst.jump.twopoint_difference:DEBUG] Twopt found 10208 pixels with sigma=0\n",
      "[jwst.jump.twopoint_difference:DEBUG] which will be reset so that no jump will be detected\n",
      "[jwst.jump.twopoint_difference:INFO] From highest outlier Two-point found 0 pixels with at least one CR and at least four groups\n",
      "[jwst.jump.twopoint_difference:INFO] From highest outlier Two-point found 0 pixels with at least one CR and three groups\n",
      "[jwst.jump.twopoint_difference:INFO] From highest outlier Two-point found 289 pixels with at least one CR and two groups\n",
      "[jwst.jump.twopoint_difference:INFO] Working on integration 25:\n",
      "[jwst.jump.twopoint_difference:DEBUG] Twopt found 10208 pixels with sigma=0\n",
      "[jwst.jump.twopoint_difference:DEBUG] which will be reset so that no jump will be detected\n",
      "[jwst.jump.twopoint_difference:INFO] From highest outlier Two-point found 0 pixels with at least one CR and at least four groups\n"
     ]
    },
    {
     "name": "stdout",
     "output_type": "stream",
     "text": [
      "[jwst.jump.twopoint_difference:INFO] From highest outlier Two-point found 0 pixels with at least one CR and three groups\n",
      "[jwst.jump.twopoint_difference:INFO] From highest outlier Two-point found 257 pixels with at least one CR and two groups\n",
      "[jwst.jump.twopoint_difference:INFO] Working on integration 26:\n",
      "[jwst.jump.twopoint_difference:DEBUG] Twopt found 10208 pixels with sigma=0\n",
      "[jwst.jump.twopoint_difference:DEBUG] which will be reset so that no jump will be detected\n",
      "[jwst.jump.twopoint_difference:INFO] From highest outlier Two-point found 0 pixels with at least one CR and at least four groups\n",
      "[jwst.jump.twopoint_difference:INFO] From highest outlier Two-point found 0 pixels with at least one CR and three groups\n",
      "[jwst.jump.twopoint_difference:INFO] From highest outlier Two-point found 252 pixels with at least one CR and two groups\n",
      "[jwst.jump.twopoint_difference:INFO] Working on integration 27:\n",
      "[jwst.jump.twopoint_difference:DEBUG] Twopt found 10208 pixels with sigma=0\n",
      "[jwst.jump.twopoint_difference:DEBUG] which will be reset so that no jump will be detected\n",
      "[jwst.jump.twopoint_difference:INFO] From highest outlier Two-point found 0 pixels with at least one CR and at least four groups\n",
      "[jwst.jump.twopoint_difference:INFO] From highest outlier Two-point found 0 pixels with at least one CR and three groups\n",
      "[jwst.jump.twopoint_difference:INFO] From highest outlier Two-point found 266 pixels with at least one CR and two groups\n",
      "[jwst.jump.twopoint_difference:INFO] Working on integration 28:\n",
      "[jwst.jump.twopoint_difference:DEBUG] Twopt found 10208 pixels with sigma=0\n",
      "[jwst.jump.twopoint_difference:DEBUG] which will be reset so that no jump will be detected\n",
      "[jwst.jump.twopoint_difference:INFO] From highest outlier Two-point found 0 pixels with at least one CR and at least four groups\n",
      "[jwst.jump.twopoint_difference:INFO] From highest outlier Two-point found 0 pixels with at least one CR and three groups\n",
      "[jwst.jump.twopoint_difference:INFO] From highest outlier Two-point found 277 pixels with at least one CR and two groups\n",
      "[jwst.jump.twopoint_difference:INFO] Working on integration 29:\n",
      "[jwst.jump.twopoint_difference:DEBUG] Twopt found 10208 pixels with sigma=0\n",
      "[jwst.jump.twopoint_difference:DEBUG] which will be reset so that no jump will be detected\n",
      "[jwst.jump.twopoint_difference:INFO] From highest outlier Two-point found 0 pixels with at least one CR and at least four groups\n",
      "[jwst.jump.twopoint_difference:INFO] From highest outlier Two-point found 0 pixels with at least one CR and three groups\n",
      "[jwst.jump.twopoint_difference:INFO] From highest outlier Two-point found 303 pixels with at least one CR and two groups\n",
      "[jwst.jump.twopoint_difference:INFO] Working on integration 30:\n",
      "[jwst.jump.twopoint_difference:DEBUG] Twopt found 10208 pixels with sigma=0\n",
      "[jwst.jump.twopoint_difference:DEBUG] which will be reset so that no jump will be detected\n",
      "[jwst.jump.twopoint_difference:INFO] From highest outlier Two-point found 0 pixels with at least one CR and at least four groups\n",
      "[jwst.jump.twopoint_difference:INFO] From highest outlier Two-point found 0 pixels with at least one CR and three groups\n",
      "[jwst.jump.twopoint_difference:INFO] From highest outlier Two-point found 402 pixels with at least one CR and two groups\n",
      "[jwst.jump.twopoint_difference:INFO] Working on integration 31:\n",
      "[jwst.jump.twopoint_difference:DEBUG] Twopt found 10208 pixels with sigma=0\n",
      "[jwst.jump.twopoint_difference:DEBUG] which will be reset so that no jump will be detected\n",
      "[jwst.jump.twopoint_difference:INFO] From highest outlier Two-point found 0 pixels with at least one CR and at least four groups\n",
      "[jwst.jump.twopoint_difference:INFO] From highest outlier Two-point found 0 pixels with at least one CR and three groups\n",
      "[jwst.jump.twopoint_difference:INFO] From highest outlier Two-point found 243 pixels with at least one CR and two groups\n",
      "[jwst.jump.twopoint_difference:INFO] Working on integration 32:\n",
      "[jwst.jump.twopoint_difference:DEBUG] Twopt found 10208 pixels with sigma=0\n",
      "[jwst.jump.twopoint_difference:DEBUG] which will be reset so that no jump will be detected\n",
      "[jwst.jump.twopoint_difference:INFO] From highest outlier Two-point found 0 pixels with at least one CR and at least four groups\n",
      "[jwst.jump.twopoint_difference:INFO] From highest outlier Two-point found 0 pixels with at least one CR and three groups\n",
      "[jwst.jump.twopoint_difference:INFO] From highest outlier Two-point found 233 pixels with at least one CR and two groups\n",
      "[jwst.jump.twopoint_difference:INFO] Working on integration 33:\n",
      "[jwst.jump.twopoint_difference:DEBUG] Twopt found 10208 pixels with sigma=0\n",
      "[jwst.jump.twopoint_difference:DEBUG] which will be reset so that no jump will be detected\n",
      "[jwst.jump.twopoint_difference:INFO] From highest outlier Two-point found 0 pixels with at least one CR and at least four groups\n",
      "[jwst.jump.twopoint_difference:INFO] From highest outlier Two-point found 0 pixels with at least one CR and three groups\n",
      "[jwst.jump.twopoint_difference:INFO] From highest outlier Two-point found 284 pixels with at least one CR and two groups\n",
      "[jwst.jump.twopoint_difference:INFO] Working on integration 34:\n",
      "[jwst.jump.twopoint_difference:DEBUG] Twopt found 10208 pixels with sigma=0\n",
      "[jwst.jump.twopoint_difference:DEBUG] which will be reset so that no jump will be detected\n",
      "[jwst.jump.twopoint_difference:INFO] From highest outlier Two-point found 0 pixels with at least one CR and at least four groups\n",
      "[jwst.jump.twopoint_difference:INFO] From highest outlier Two-point found 0 pixels with at least one CR and three groups\n",
      "[jwst.jump.twopoint_difference:INFO] From highest outlier Two-point found 286 pixels with at least one CR and two groups\n",
      "[jwst.jump.twopoint_difference:INFO] Working on integration 35:\n",
      "[jwst.jump.twopoint_difference:DEBUG] Twopt found 10208 pixels with sigma=0\n",
      "[jwst.jump.twopoint_difference:DEBUG] which will be reset so that no jump will be detected\n",
      "[jwst.jump.twopoint_difference:INFO] From highest outlier Two-point found 0 pixels with at least one CR and at least four groups\n",
      "[jwst.jump.twopoint_difference:INFO] From highest outlier Two-point found 0 pixels with at least one CR and three groups\n",
      "[jwst.jump.twopoint_difference:INFO] From highest outlier Two-point found 275 pixels with at least one CR and two groups\n",
      "[jwst.jump.twopoint_difference:INFO] Working on integration 36:\n",
      "[jwst.jump.twopoint_difference:DEBUG] Twopt found 10208 pixels with sigma=0\n",
      "[jwst.jump.twopoint_difference:DEBUG] which will be reset so that no jump will be detected\n",
      "[jwst.jump.twopoint_difference:INFO] From highest outlier Two-point found 0 pixels with at least one CR and at least four groups\n",
      "[jwst.jump.twopoint_difference:INFO] From highest outlier Two-point found 0 pixels with at least one CR and three groups\n",
      "[jwst.jump.twopoint_difference:INFO] From highest outlier Two-point found 285 pixels with at least one CR and two groups\n",
      "[jwst.jump.twopoint_difference:INFO] Working on integration 37:\n",
      "[jwst.jump.twopoint_difference:DEBUG] Twopt found 10208 pixels with sigma=0\n",
      "[jwst.jump.twopoint_difference:DEBUG] which will be reset so that no jump will be detected\n",
      "[jwst.jump.twopoint_difference:INFO] From highest outlier Two-point found 0 pixels with at least one CR and at least four groups\n",
      "[jwst.jump.twopoint_difference:INFO] From highest outlier Two-point found 0 pixels with at least one CR and three groups\n",
      "[jwst.jump.twopoint_difference:INFO] From highest outlier Two-point found 265 pixels with at least one CR and two groups\n",
      "[jwst.jump.twopoint_difference:INFO] Working on integration 38:\n",
      "[jwst.jump.twopoint_difference:DEBUG] Twopt found 10208 pixels with sigma=0\n",
      "[jwst.jump.twopoint_difference:DEBUG] which will be reset so that no jump will be detected\n",
      "[jwst.jump.twopoint_difference:INFO] From highest outlier Two-point found 0 pixels with at least one CR and at least four groups\n",
      "[jwst.jump.twopoint_difference:INFO] From highest outlier Two-point found 0 pixels with at least one CR and three groups\n",
      "[jwst.jump.twopoint_difference:INFO] From highest outlier Two-point found 405 pixels with at least one CR and two groups\n",
      "[jwst.jump.twopoint_difference:INFO] Working on integration 39:\n",
      "[jwst.jump.twopoint_difference:DEBUG] Twopt found 10208 pixels with sigma=0\n"
     ]
    },
    {
     "name": "stdout",
     "output_type": "stream",
     "text": [
      "[jwst.jump.twopoint_difference:DEBUG] which will be reset so that no jump will be detected\n",
      "[jwst.jump.twopoint_difference:INFO] From highest outlier Two-point found 0 pixels with at least one CR and at least four groups\n",
      "[jwst.jump.twopoint_difference:INFO] From highest outlier Two-point found 0 pixels with at least one CR and three groups\n",
      "[jwst.jump.twopoint_difference:INFO] From highest outlier Two-point found 280 pixels with at least one CR and two groups\n",
      "[jwst.jump.twopoint_difference:INFO] Working on integration 40:\n",
      "[jwst.jump.twopoint_difference:DEBUG] Twopt found 10208 pixels with sigma=0\n",
      "[jwst.jump.twopoint_difference:DEBUG] which will be reset so that no jump will be detected\n",
      "[jwst.jump.twopoint_difference:INFO] From highest outlier Two-point found 0 pixels with at least one CR and at least four groups\n",
      "[jwst.jump.twopoint_difference:INFO] From highest outlier Two-point found 0 pixels with at least one CR and three groups\n",
      "[jwst.jump.twopoint_difference:INFO] From highest outlier Two-point found 291 pixels with at least one CR and two groups\n",
      "[jwst.jump.twopoint_difference:INFO] Working on integration 41:\n",
      "[jwst.jump.twopoint_difference:DEBUG] Twopt found 10208 pixels with sigma=0\n",
      "[jwst.jump.twopoint_difference:DEBUG] which will be reset so that no jump will be detected\n",
      "[jwst.jump.twopoint_difference:INFO] From highest outlier Two-point found 0 pixels with at least one CR and at least four groups\n",
      "[jwst.jump.twopoint_difference:INFO] From highest outlier Two-point found 0 pixels with at least one CR and three groups\n",
      "[jwst.jump.twopoint_difference:INFO] From highest outlier Two-point found 274 pixels with at least one CR and two groups\n",
      "[jwst.jump.twopoint_difference:INFO] Working on integration 42:\n",
      "[jwst.jump.twopoint_difference:DEBUG] Twopt found 10208 pixels with sigma=0\n",
      "[jwst.jump.twopoint_difference:DEBUG] which will be reset so that no jump will be detected\n",
      "[jwst.jump.twopoint_difference:INFO] From highest outlier Two-point found 0 pixels with at least one CR and at least four groups\n",
      "[jwst.jump.twopoint_difference:INFO] From highest outlier Two-point found 0 pixels with at least one CR and three groups\n",
      "[jwst.jump.twopoint_difference:INFO] From highest outlier Two-point found 246 pixels with at least one CR and two groups\n",
      "[jwst.jump.twopoint_difference:INFO] Working on integration 43:\n",
      "[jwst.jump.twopoint_difference:DEBUG] Twopt found 10208 pixels with sigma=0\n",
      "[jwst.jump.twopoint_difference:DEBUG] which will be reset so that no jump will be detected\n",
      "[jwst.jump.twopoint_difference:INFO] From highest outlier Two-point found 0 pixels with at least one CR and at least four groups\n",
      "[jwst.jump.twopoint_difference:INFO] From highest outlier Two-point found 0 pixels with at least one CR and three groups\n",
      "[jwst.jump.twopoint_difference:INFO] From highest outlier Two-point found 260 pixels with at least one CR and two groups\n",
      "[jwst.jump.twopoint_difference:INFO] Working on integration 44:\n",
      "[jwst.jump.twopoint_difference:DEBUG] Twopt found 10208 pixels with sigma=0\n",
      "[jwst.jump.twopoint_difference:DEBUG] which will be reset so that no jump will be detected\n",
      "[jwst.jump.twopoint_difference:INFO] From highest outlier Two-point found 0 pixels with at least one CR and at least four groups\n",
      "[jwst.jump.twopoint_difference:INFO] From highest outlier Two-point found 0 pixels with at least one CR and three groups\n",
      "[jwst.jump.twopoint_difference:INFO] From highest outlier Two-point found 259 pixels with at least one CR and two groups\n",
      "[jwst.jump.twopoint_difference:INFO] Working on integration 45:\n",
      "[jwst.jump.twopoint_difference:DEBUG] Twopt found 10208 pixels with sigma=0\n",
      "[jwst.jump.twopoint_difference:DEBUG] which will be reset so that no jump will be detected\n",
      "[jwst.jump.twopoint_difference:INFO] From highest outlier Two-point found 0 pixels with at least one CR and at least four groups\n",
      "[jwst.jump.twopoint_difference:INFO] From highest outlier Two-point found 0 pixels with at least one CR and three groups\n",
      "[jwst.jump.twopoint_difference:INFO] From highest outlier Two-point found 251 pixels with at least one CR and two groups\n",
      "[jwst.jump.twopoint_difference:INFO] Working on integration 46:\n",
      "[jwst.jump.twopoint_difference:DEBUG] Twopt found 10208 pixels with sigma=0\n",
      "[jwst.jump.twopoint_difference:DEBUG] which will be reset so that no jump will be detected\n",
      "[jwst.jump.twopoint_difference:INFO] From highest outlier Two-point found 0 pixels with at least one CR and at least four groups\n",
      "[jwst.jump.twopoint_difference:INFO] From highest outlier Two-point found 0 pixels with at least one CR and three groups\n",
      "[jwst.jump.twopoint_difference:INFO] From highest outlier Two-point found 411 pixels with at least one CR and two groups\n",
      "[jwst.jump.twopoint_difference:INFO] Working on integration 47:\n",
      "[jwst.jump.twopoint_difference:DEBUG] Twopt found 10208 pixels with sigma=0\n",
      "[jwst.jump.twopoint_difference:DEBUG] which will be reset so that no jump will be detected\n",
      "[jwst.jump.twopoint_difference:INFO] From highest outlier Two-point found 0 pixels with at least one CR and at least four groups\n",
      "[jwst.jump.twopoint_difference:INFO] From highest outlier Two-point found 0 pixels with at least one CR and three groups\n",
      "[jwst.jump.twopoint_difference:INFO] From highest outlier Two-point found 258 pixels with at least one CR and two groups\n",
      "[jwst.jump.twopoint_difference:INFO] Working on integration 48:\n",
      "[jwst.jump.twopoint_difference:DEBUG] Twopt found 10208 pixels with sigma=0\n",
      "[jwst.jump.twopoint_difference:DEBUG] which will be reset so that no jump will be detected\n",
      "[jwst.jump.twopoint_difference:INFO] From highest outlier Two-point found 0 pixels with at least one CR and at least four groups\n",
      "[jwst.jump.twopoint_difference:INFO] From highest outlier Two-point found 0 pixels with at least one CR and three groups\n",
      "[jwst.jump.twopoint_difference:INFO] From highest outlier Two-point found 297 pixels with at least one CR and two groups\n",
      "[jwst.jump.twopoint_difference:INFO] Working on integration 49:\n",
      "[jwst.jump.twopoint_difference:DEBUG] Twopt found 10208 pixels with sigma=0\n",
      "[jwst.jump.twopoint_difference:DEBUG] which will be reset so that no jump will be detected\n",
      "[jwst.jump.twopoint_difference:INFO] From highest outlier Two-point found 0 pixels with at least one CR and at least four groups\n",
      "[jwst.jump.twopoint_difference:INFO] From highest outlier Two-point found 0 pixels with at least one CR and three groups\n",
      "[jwst.jump.twopoint_difference:INFO] From highest outlier Two-point found 433 pixels with at least one CR and two groups\n",
      "[jwst.jump.twopoint_difference:INFO] Working on integration 50:\n",
      "[jwst.jump.twopoint_difference:DEBUG] Twopt found 10208 pixels with sigma=0\n",
      "[jwst.jump.twopoint_difference:DEBUG] which will be reset so that no jump will be detected\n",
      "[jwst.jump.twopoint_difference:INFO] From highest outlier Two-point found 0 pixels with at least one CR and at least four groups\n",
      "[jwst.jump.twopoint_difference:INFO] From highest outlier Two-point found 0 pixels with at least one CR and three groups\n",
      "[jwst.jump.twopoint_difference:INFO] From highest outlier Two-point found 268 pixels with at least one CR and two groups\n",
      "[jwst.jump.twopoint_difference:INFO] Working on integration 51:\n",
      "[jwst.jump.twopoint_difference:DEBUG] Twopt found 10208 pixels with sigma=0\n",
      "[jwst.jump.twopoint_difference:DEBUG] which will be reset so that no jump will be detected\n",
      "[jwst.jump.twopoint_difference:INFO] From highest outlier Two-point found 0 pixels with at least one CR and at least four groups\n",
      "[jwst.jump.twopoint_difference:INFO] From highest outlier Two-point found 0 pixels with at least one CR and three groups\n",
      "[jwst.jump.twopoint_difference:INFO] From highest outlier Two-point found 263 pixels with at least one CR and two groups\n",
      "[jwst.jump.twopoint_difference:INFO] Working on integration 52:\n",
      "[jwst.jump.twopoint_difference:DEBUG] Twopt found 10208 pixels with sigma=0\n",
      "[jwst.jump.twopoint_difference:DEBUG] which will be reset so that no jump will be detected\n",
      "[jwst.jump.twopoint_difference:INFO] From highest outlier Two-point found 0 pixels with at least one CR and at least four groups\n",
      "[jwst.jump.twopoint_difference:INFO] From highest outlier Two-point found 0 pixels with at least one CR and three groups\n",
      "[jwst.jump.twopoint_difference:INFO] From highest outlier Two-point found 298 pixels with at least one CR and two groups\n"
     ]
    },
    {
     "name": "stdout",
     "output_type": "stream",
     "text": [
      "[jwst.jump.twopoint_difference:INFO] Working on integration 53:\n",
      "[jwst.jump.twopoint_difference:DEBUG] Twopt found 10208 pixels with sigma=0\n",
      "[jwst.jump.twopoint_difference:DEBUG] which will be reset so that no jump will be detected\n",
      "[jwst.jump.twopoint_difference:INFO] From highest outlier Two-point found 0 pixels with at least one CR and at least four groups\n",
      "[jwst.jump.twopoint_difference:INFO] From highest outlier Two-point found 0 pixels with at least one CR and three groups\n",
      "[jwst.jump.twopoint_difference:INFO] From highest outlier Two-point found 249 pixels with at least one CR and two groups\n",
      "[jwst.jump.twopoint_difference:INFO] Working on integration 54:\n",
      "[jwst.jump.twopoint_difference:DEBUG] Twopt found 10208 pixels with sigma=0\n",
      "[jwst.jump.twopoint_difference:DEBUG] which will be reset so that no jump will be detected\n",
      "[jwst.jump.twopoint_difference:INFO] From highest outlier Two-point found 0 pixels with at least one CR and at least four groups\n",
      "[jwst.jump.twopoint_difference:INFO] From highest outlier Two-point found 0 pixels with at least one CR and three groups\n",
      "[jwst.jump.twopoint_difference:INFO] From highest outlier Two-point found 288 pixels with at least one CR and two groups\n",
      "[jwst.jump.twopoint_difference:INFO] Working on integration 55:\n",
      "[jwst.jump.twopoint_difference:DEBUG] Twopt found 10208 pixels with sigma=0\n",
      "[jwst.jump.twopoint_difference:DEBUG] which will be reset so that no jump will be detected\n",
      "[jwst.jump.twopoint_difference:INFO] From highest outlier Two-point found 0 pixels with at least one CR and at least four groups\n",
      "[jwst.jump.twopoint_difference:INFO] From highest outlier Two-point found 0 pixels with at least one CR and three groups\n",
      "[jwst.jump.twopoint_difference:INFO] From highest outlier Two-point found 284 pixels with at least one CR and two groups\n",
      "[jwst.jump.twopoint_difference:INFO] Working on integration 56:\n",
      "[jwst.jump.twopoint_difference:DEBUG] Twopt found 10208 pixels with sigma=0\n",
      "[jwst.jump.twopoint_difference:DEBUG] which will be reset so that no jump will be detected\n",
      "[jwst.jump.twopoint_difference:INFO] From highest outlier Two-point found 0 pixels with at least one CR and at least four groups\n",
      "[jwst.jump.twopoint_difference:INFO] From highest outlier Two-point found 0 pixels with at least one CR and three groups\n",
      "[jwst.jump.twopoint_difference:INFO] From highest outlier Two-point found 385 pixels with at least one CR and two groups\n",
      "[jwst.jump.twopoint_difference:INFO] Working on integration 57:\n",
      "[jwst.jump.twopoint_difference:DEBUG] Twopt found 10208 pixels with sigma=0\n",
      "[jwst.jump.twopoint_difference:DEBUG] which will be reset so that no jump will be detected\n",
      "[jwst.jump.twopoint_difference:INFO] From highest outlier Two-point found 0 pixels with at least one CR and at least four groups\n",
      "[jwst.jump.twopoint_difference:INFO] From highest outlier Two-point found 0 pixels with at least one CR and three groups\n",
      "[jwst.jump.twopoint_difference:INFO] From highest outlier Two-point found 276 pixels with at least one CR and two groups\n",
      "[jwst.jump.twopoint_difference:INFO] Working on integration 58:\n",
      "[jwst.jump.twopoint_difference:DEBUG] Twopt found 10208 pixels with sigma=0\n",
      "[jwst.jump.twopoint_difference:DEBUG] which will be reset so that no jump will be detected\n",
      "[jwst.jump.twopoint_difference:INFO] From highest outlier Two-point found 0 pixels with at least one CR and at least four groups\n",
      "[jwst.jump.twopoint_difference:INFO] From highest outlier Two-point found 0 pixels with at least one CR and three groups\n",
      "[jwst.jump.twopoint_difference:INFO] From highest outlier Two-point found 246 pixels with at least one CR and two groups\n",
      "[jwst.jump.twopoint_difference:INFO] Working on integration 59:\n",
      "[jwst.jump.twopoint_difference:DEBUG] Twopt found 10208 pixels with sigma=0\n",
      "[jwst.jump.twopoint_difference:DEBUG] which will be reset so that no jump will be detected\n",
      "[jwst.jump.twopoint_difference:INFO] From highest outlier Two-point found 0 pixels with at least one CR and at least four groups\n",
      "[jwst.jump.twopoint_difference:INFO] From highest outlier Two-point found 0 pixels with at least one CR and three groups\n",
      "[jwst.jump.twopoint_difference:INFO] From highest outlier Two-point found 257 pixels with at least one CR and two groups\n",
      "[jwst.jump.twopoint_difference:INFO] Working on integration 60:\n",
      "[jwst.jump.twopoint_difference:DEBUG] Twopt found 10208 pixels with sigma=0\n",
      "[jwst.jump.twopoint_difference:DEBUG] which will be reset so that no jump will be detected\n",
      "[jwst.jump.twopoint_difference:INFO] From highest outlier Two-point found 0 pixels with at least one CR and at least four groups\n",
      "[jwst.jump.twopoint_difference:INFO] From highest outlier Two-point found 0 pixels with at least one CR and three groups\n",
      "[jwst.jump.twopoint_difference:INFO] From highest outlier Two-point found 425 pixels with at least one CR and two groups\n",
      "[jwst.jump.twopoint_difference:INFO] Working on integration 61:\n",
      "[jwst.jump.twopoint_difference:DEBUG] Twopt found 10208 pixels with sigma=0\n",
      "[jwst.jump.twopoint_difference:DEBUG] which will be reset so that no jump will be detected\n",
      "[jwst.jump.twopoint_difference:INFO] From highest outlier Two-point found 0 pixels with at least one CR and at least four groups\n",
      "[jwst.jump.twopoint_difference:INFO] From highest outlier Two-point found 0 pixels with at least one CR and three groups\n",
      "[jwst.jump.twopoint_difference:INFO] From highest outlier Two-point found 277 pixels with at least one CR and two groups\n",
      "[jwst.jump.twopoint_difference:INFO] Working on integration 62:\n",
      "[jwst.jump.twopoint_difference:DEBUG] Twopt found 10208 pixels with sigma=0\n",
      "[jwst.jump.twopoint_difference:DEBUG] which will be reset so that no jump will be detected\n",
      "[jwst.jump.twopoint_difference:INFO] From highest outlier Two-point found 0 pixels with at least one CR and at least four groups\n",
      "[jwst.jump.twopoint_difference:INFO] From highest outlier Two-point found 0 pixels with at least one CR and three groups\n",
      "[jwst.jump.twopoint_difference:INFO] From highest outlier Two-point found 287 pixels with at least one CR and two groups\n",
      "[jwst.jump.twopoint_difference:INFO] Working on integration 63:\n",
      "[jwst.jump.twopoint_difference:DEBUG] Twopt found 10208 pixels with sigma=0\n",
      "[jwst.jump.twopoint_difference:DEBUG] which will be reset so that no jump will be detected\n",
      "[jwst.jump.twopoint_difference:INFO] From highest outlier Two-point found 0 pixels with at least one CR and at least four groups\n",
      "[jwst.jump.twopoint_difference:INFO] From highest outlier Two-point found 0 pixels with at least one CR and three groups\n",
      "[jwst.jump.twopoint_difference:INFO] From highest outlier Two-point found 251 pixels with at least one CR and two groups\n",
      "[jwst.jump.twopoint_difference:INFO] Working on integration 64:\n",
      "[jwst.jump.twopoint_difference:DEBUG] Twopt found 10208 pixels with sigma=0\n",
      "[jwst.jump.twopoint_difference:DEBUG] which will be reset so that no jump will be detected\n",
      "[jwst.jump.twopoint_difference:INFO] From highest outlier Two-point found 0 pixels with at least one CR and at least four groups\n",
      "[jwst.jump.twopoint_difference:INFO] From highest outlier Two-point found 0 pixels with at least one CR and three groups\n",
      "[jwst.jump.twopoint_difference:INFO] From highest outlier Two-point found 269 pixels with at least one CR and two groups\n",
      "[jwst.jump.twopoint_difference:INFO] Working on integration 65:\n",
      "[jwst.jump.twopoint_difference:DEBUG] Twopt found 10208 pixels with sigma=0\n",
      "[jwst.jump.twopoint_difference:DEBUG] which will be reset so that no jump will be detected\n",
      "[jwst.jump.twopoint_difference:INFO] From highest outlier Two-point found 0 pixels with at least one CR and at least four groups\n",
      "[jwst.jump.twopoint_difference:INFO] From highest outlier Two-point found 0 pixels with at least one CR and three groups\n",
      "[jwst.jump.twopoint_difference:INFO] From highest outlier Two-point found 293 pixels with at least one CR and two groups\n",
      "[jwst.jump.twopoint_difference:INFO] Working on integration 66:\n",
      "[jwst.jump.twopoint_difference:DEBUG] Twopt found 10208 pixels with sigma=0\n",
      "[jwst.jump.twopoint_difference:DEBUG] which will be reset so that no jump will be detected\n",
      "[jwst.jump.twopoint_difference:INFO] From highest outlier Two-point found 0 pixels with at least one CR and at least four groups\n",
      "[jwst.jump.twopoint_difference:INFO] From highest outlier Two-point found 0 pixels with at least one CR and three groups\n"
     ]
    },
    {
     "name": "stdout",
     "output_type": "stream",
     "text": [
      "[jwst.jump.twopoint_difference:INFO] From highest outlier Two-point found 274 pixels with at least one CR and two groups\n",
      "[jwst.jump.twopoint_difference:INFO] Working on integration 67:\n",
      "[jwst.jump.twopoint_difference:DEBUG] Twopt found 10208 pixels with sigma=0\n",
      "[jwst.jump.twopoint_difference:DEBUG] which will be reset so that no jump will be detected\n",
      "[jwst.jump.twopoint_difference:INFO] From highest outlier Two-point found 0 pixels with at least one CR and at least four groups\n",
      "[jwst.jump.twopoint_difference:INFO] From highest outlier Two-point found 0 pixels with at least one CR and three groups\n",
      "[jwst.jump.twopoint_difference:INFO] From highest outlier Two-point found 275 pixels with at least one CR and two groups\n",
      "[jwst.jump.twopoint_difference:INFO] Working on integration 68:\n",
      "[jwst.jump.twopoint_difference:DEBUG] Twopt found 10208 pixels with sigma=0\n",
      "[jwst.jump.twopoint_difference:DEBUG] which will be reset so that no jump will be detected\n",
      "[jwst.jump.twopoint_difference:INFO] From highest outlier Two-point found 0 pixels with at least one CR and at least four groups\n",
      "[jwst.jump.twopoint_difference:INFO] From highest outlier Two-point found 0 pixels with at least one CR and three groups\n",
      "[jwst.jump.twopoint_difference:INFO] From highest outlier Two-point found 252 pixels with at least one CR and two groups\n",
      "[jwst.jump.twopoint_difference:INFO] Working on integration 69:\n",
      "[jwst.jump.twopoint_difference:DEBUG] Twopt found 10208 pixels with sigma=0\n",
      "[jwst.jump.twopoint_difference:DEBUG] which will be reset so that no jump will be detected\n",
      "[jwst.jump.twopoint_difference:INFO] From highest outlier Two-point found 0 pixels with at least one CR and at least four groups\n",
      "[jwst.jump.twopoint_difference:INFO] From highest outlier Two-point found 0 pixels with at least one CR and three groups\n",
      "[jwst.jump.twopoint_difference:INFO] From highest outlier Two-point found 267 pixels with at least one CR and two groups\n",
      "[jwst.jump.twopoint_difference:INFO] Working on integration 70:\n",
      "[jwst.jump.twopoint_difference:DEBUG] Twopt found 10208 pixels with sigma=0\n",
      "[jwst.jump.twopoint_difference:DEBUG] which will be reset so that no jump will be detected\n",
      "[jwst.jump.twopoint_difference:INFO] From highest outlier Two-point found 0 pixels with at least one CR and at least four groups\n",
      "[jwst.jump.twopoint_difference:INFO] From highest outlier Two-point found 0 pixels with at least one CR and three groups\n",
      "[jwst.jump.twopoint_difference:INFO] From highest outlier Two-point found 280 pixels with at least one CR and two groups\n",
      "[jwst.jump.jump:INFO] Total elapsed time = 19.5062 sec\n"
     ]
    },
    {
     "name": "stderr",
     "output_type": "stream",
     "text": [
      "2021-09-13 02:39:13,229 - stpipe.Detector1Pipeline.jump - INFO - The execution time in seconds: 20.888048\n"
     ]
    },
    {
     "name": "stdout",
     "output_type": "stream",
     "text": [
      "[stpipe.Detector1Pipeline.jump:INFO] The execution time in seconds: 20.888048\n"
     ]
    },
    {
     "name": "stderr",
     "output_type": "stream",
     "text": [
      "2021-09-13 02:39:13,234 - stpipe.Detector1Pipeline.jump - INFO - Step jump done\n"
     ]
    },
    {
     "name": "stdout",
     "output_type": "stream",
     "text": [
      "[stpipe.Detector1Pipeline.jump:INFO] Step jump done\n"
     ]
    },
    {
     "name": "stderr",
     "output_type": "stream",
     "text": [
      "2021-09-13 02:39:13,378 - stpipe.Detector1Pipeline.ramp_fit - INFO - Step ramp_fit running with args (<RampModel(70, 3, 256, 2048) from modified_jw88888001001_01101_00001_nrca1_uncal.fits>,).\n"
     ]
    },
    {
     "name": "stdout",
     "output_type": "stream",
     "text": [
      "[stpipe.Detector1Pipeline.ramp_fit:INFO] Step ramp_fit running with args (<RampModel(70, 3, 256, 2048) from modified_jw88888001001_01101_00001_nrca1_uncal.fits>,).\n"
     ]
    },
    {
     "name": "stderr",
     "output_type": "stream",
     "text": [
      "2021-09-13 02:39:13,384 - stpipe.Detector1Pipeline.ramp_fit - INFO - Step ramp_fit parameters are: {'pre_hooks': [], 'post_hooks': [], 'output_file': None, 'output_dir': '/fenrirdata1/kg_data/pipeline_output/Short_Transit_NRCA3/', 'output_ext': '.fits', 'output_use_model': False, 'output_use_index': True, 'save_results': False, 'skip': False, 'suffix': None, 'search_output_file': True, 'input_dir': '', 'int_name': '', 'save_opt': False, 'opt_name': '', 'maximum_cores': 'none'}\n"
     ]
    },
    {
     "name": "stdout",
     "output_type": "stream",
     "text": [
      "[stpipe.Detector1Pipeline.ramp_fit:INFO] Step ramp_fit parameters are: {'pre_hooks': [], 'post_hooks': [], 'output_file': None, 'output_dir': '/fenrirdata1/kg_data/pipeline_output/Short_Transit_NRCA3/', 'output_ext': '.fits', 'output_use_model': False, 'output_use_index': True, 'save_results': False, 'skip': False, 'suffix': None, 'search_output_file': True, 'input_dir': '', 'int_name': '', 'save_opt': False, 'opt_name': '', 'maximum_cores': 'none'}\n",
      "[stdatamodels.util:DEBUG] Environmental \"STRICT_VALIDATION\" cannot be found. Using default value of \"False\".\n",
      "[stdatamodels.util:DEBUG] Environmental \"VALIDATE_ON_ASSIGNMENT\" cannot be found. Using default value of \"True\".\n",
      "[stdatamodels.util:DEBUG] Environmental \"STRICT_VALIDATION\" cannot be found. Using default value of \"False\".\n",
      "[stdatamodels.util:DEBUG] Environmental \"VALIDATE_ON_ASSIGNMENT\" cannot be found. Using default value of \"True\".\n",
      "[stdatamodels.util:DEBUG] Environmental \"STRICT_VALIDATION\" cannot be found. Using default value of \"False\".\n",
      "[stdatamodels.util:DEBUG] Environmental \"VALIDATE_ON_ASSIGNMENT\" cannot be found. Using default value of \"True\".\n",
      "[jwst.ramp_fitting.ramp_fit_step:INFO] Using READNOISE reference file: /fenrirdata1/kg_data/crds_cache/references/jwst/nircam/jwst_nircam_readnoise_0030.fits\n",
      "[stdatamodels.util:DEBUG] Environmental \"STRICT_VALIDATION\" cannot be found. Using default value of \"False\".\n",
      "[stdatamodels.util:DEBUG] Environmental \"VALIDATE_ON_ASSIGNMENT\" cannot be found. Using default value of \"True\".\n",
      "[stdatamodels.util:DEBUG] Environmental \"SKIP_FITS_UPDATE\" cannot be found. Using default value of \"None\".\n",
      "[stdatamodels.fits_support:DEBUG] No ASDF information found. Cannot skip updating from FITS headers.\n",
      "[jwst.ramp_fitting.ramp_fit_step:INFO] Using GAIN reference file: /fenrirdata1/kg_data/crds_cache/references/jwst/nircam/jwst_nircam_gain_0048.fits\n",
      "[stdatamodels.util:DEBUG] Environmental \"STRICT_VALIDATION\" cannot be found. Using default value of \"False\".\n",
      "[stdatamodels.util:DEBUG] Environmental \"VALIDATE_ON_ASSIGNMENT\" cannot be found. Using default value of \"True\".\n",
      "[stdatamodels.util:DEBUG] Environmental \"SKIP_FITS_UPDATE\" cannot be found. Using default value of \"None\".\n",
      "[jwst.ramp_fitting.ramp_fit_step:INFO] Using algorithm = ols\n",
      "[jwst.ramp_fitting.ramp_fit_step:INFO] Using weighting = optimal\n",
      "[jwst.lib.reffile_utils:DEBUG] ref substrt1=1, subsize1=2048, substrt2=1, subsize2=2048\n",
      "[jwst.lib.reffile_utils:DEBUG] sci substrt1=1, subsize1=2048, substrt2=1, subsize2=256\n",
      "[jwst.ramp_fitting.utils:INFO] Extracting gain subarray to match science data\n",
      "[jwst.lib.reffile_utils:DEBUG] science xstart=1, xsize=2048, ystart=1, ysize=256\n",
      "[jwst.lib.reffile_utils:DEBUG] reference xstart=1, xsize=2048, ystart=1, ysize=2048\n",
      "[jwst.lib.reffile_utils:DEBUG] slice xstart=0, xstop=2048, ystart=0, ystop=256\n",
      "[jwst.lib.reffile_utils:DEBUG] ref substrt1=1, subsize1=2048, substrt2=1, subsize2=2048\n",
      "[jwst.lib.reffile_utils:DEBUG] sci substrt1=1, subsize1=2048, substrt2=1, subsize2=256\n",
      "[jwst.ramp_fitting.utils:INFO] Extracting readnoise subarray to match science data\n",
      "[jwst.lib.reffile_utils:DEBUG] science xstart=1, xsize=2048, ystart=1, ysize=256\n",
      "[jwst.lib.reffile_utils:DEBUG] reference xstart=1, xsize=2048, ystart=1, ysize=2048\n",
      "[jwst.lib.reffile_utils:DEBUG] slice xstart=0, xstop=2048, ystart=0, ystop=256\n",
      "[jwst.ramp_fitting.ols_fit:DEBUG] Max segments=2\n",
      "[jwst.ramp_fitting.ols_fit:DEBUG] Missing keyword DRPFRMS1, so setting to default value of 0\n",
      "[stdatamodels.util:DEBUG] Environmental \"STRICT_VALIDATION\" cannot be found. Using default value of \"False\".\n",
      "[stdatamodels.util:DEBUG] Environmental \"VALIDATE_ON_ASSIGNMENT\" cannot be found. Using default value of \"True\".\n",
      "[jwst.ramp_fitting.utils:DEBUG] The number of pixels having insufficient data\n",
      "[jwst.ramp_fitting.utils:DEBUG] due to excessive CRs or saturation 10268:\n",
      "[jwst.ramp_fitting.utils:DEBUG] Count rates - min, mean, max, std: -25.317274, 26.324268, 9210.345703, 179.915726\n",
      "[jwst.ramp_fitting.ols_fit:DEBUG] Instrument: NIRCAM\n",
      "[jwst.ramp_fitting.ols_fit:DEBUG] Number of pixels in 2D array: 524288\n",
      "[jwst.ramp_fitting.ols_fit:DEBUG] Shape of 2D image: (256, 2048)\n",
      "[jwst.ramp_fitting.ols_fit:DEBUG] Shape of data cube: (3, 256, 2048)\n",
      "[jwst.ramp_fitting.ols_fit:DEBUG] Buffer size (bytes): 307200000\n",
      "[jwst.ramp_fitting.ols_fit:DEBUG] Number of rows per buffer: 256\n",
      "[jwst.ramp_fitting.ols_fit:INFO] Number of groups per integration: 3\n",
      "[jwst.ramp_fitting.ols_fit:INFO] Number of integrations: 70\n",
      "[jwst.ramp_fitting.ols_fit:DEBUG] The execution time in seconds: 140.935110\n",
      "[stdatamodels.util:DEBUG] Environmental \"STRICT_VALIDATION\" cannot be found. Using default value of \"False\".\n",
      "[stdatamodels.util:DEBUG] Environmental \"VALIDATE_ON_ASSIGNMENT\" cannot be found. Using default value of \"True\".\n",
      "[stdatamodels.util:DEBUG] Environmental \"STRICT_VALIDATION\" cannot be found. Using default value of \"False\".\n",
      "[stdatamodels.util:DEBUG] Environmental \"VALIDATE_ON_ASSIGNMENT\" cannot be found. Using default value of \"True\".\n",
      "[stdatamodels.util:DEBUG] Environmental \"STRICT_VALIDATION\" cannot be found. Using default value of \"False\".\n",
      "[stdatamodels.util:DEBUG] Environmental \"VALIDATE_ON_ASSIGNMENT\" cannot be found. Using default value of \"True\".\n"
     ]
    },
    {
     "name": "stderr",
     "output_type": "stream",
     "text": [
      "2021-09-13 02:41:35,095 - stpipe.Detector1Pipeline.ramp_fit - INFO - Step ramp_fit done\n"
     ]
    },
    {
     "name": "stdout",
     "output_type": "stream",
     "text": [
      "[stpipe.Detector1Pipeline.ramp_fit:INFO] Step ramp_fit done\n"
     ]
    },
    {
     "name": "stderr",
     "output_type": "stream",
     "text": [
      "2021-09-13 02:41:35,240 - stpipe.Detector1Pipeline.gain_scale - INFO - Step gain_scale running with args (<ImageModel(256, 2048) from modified_jw88888001001_01101_00001_nrca1_uncal.fits>,).\n"
     ]
    },
    {
     "name": "stdout",
     "output_type": "stream",
     "text": [
      "[stpipe.Detector1Pipeline.gain_scale:INFO] Step gain_scale running with args (<ImageModel(256, 2048) from modified_jw88888001001_01101_00001_nrca1_uncal.fits>,).\n"
     ]
    },
    {
     "name": "stderr",
     "output_type": "stream",
     "text": [
      "2021-09-13 02:41:35,244 - stpipe.Detector1Pipeline.gain_scale - INFO - Step gain_scale parameters are: {'pre_hooks': [], 'post_hooks': [], 'output_file': None, 'output_dir': None, 'output_ext': '.fits', 'output_use_model': False, 'output_use_index': True, 'save_results': False, 'skip': False, 'suffix': 'gain_scale', 'search_output_file': True, 'input_dir': ''}\n"
     ]
    },
    {
     "name": "stdout",
     "output_type": "stream",
     "text": [
      "[stpipe.Detector1Pipeline.gain_scale:INFO] Step gain_scale parameters are: {'pre_hooks': [], 'post_hooks': [], 'output_file': None, 'output_dir': None, 'output_ext': '.fits', 'output_use_model': False, 'output_use_index': True, 'save_results': False, 'skip': False, 'suffix': 'gain_scale', 'search_output_file': True, 'input_dir': ''}\n",
      "[stdatamodels.util:DEBUG] Environmental \"STRICT_VALIDATION\" cannot be found. Using default value of \"False\".\n",
      "[stdatamodels.util:DEBUG] Environmental \"VALIDATE_ON_ASSIGNMENT\" cannot be found. Using default value of \"True\".\n",
      "[stdatamodels.util:DEBUG] Environmental \"STRICT_VALIDATION\" cannot be found. Using default value of \"False\".\n",
      "[stdatamodels.util:DEBUG] Environmental \"VALIDATE_ON_ASSIGNMENT\" cannot be found. Using default value of \"True\".\n",
      "[stdatamodels.util:DEBUG] Environmental \"STRICT_VALIDATION\" cannot be found. Using default value of \"False\".\n",
      "[stdatamodels.util:DEBUG] Environmental \"VALIDATE_ON_ASSIGNMENT\" cannot be found. Using default value of \"True\".\n",
      "[stdatamodels.util:DEBUG] Environmental \"SKIP_FITS_UPDATE\" cannot be found. Using default value of \"None\".\n"
     ]
    },
    {
     "name": "stderr",
     "output_type": "stream",
     "text": [
      "2021-09-13 02:41:35,336 - stpipe.Detector1Pipeline.gain_scale - INFO - GAINFACT not found in gain reference file\n"
     ]
    },
    {
     "name": "stdout",
     "output_type": "stream",
     "text": [
      "[stpipe.Detector1Pipeline.gain_scale:INFO] GAINFACT not found in gain reference file\n"
     ]
    },
    {
     "name": "stderr",
     "output_type": "stream",
     "text": [
      "2021-09-13 02:41:35,339 - stpipe.Detector1Pipeline.gain_scale - INFO - Step will be skipped\n"
     ]
    },
    {
     "name": "stdout",
     "output_type": "stream",
     "text": [
      "[stpipe.Detector1Pipeline.gain_scale:INFO] Step will be skipped\n"
     ]
    },
    {
     "name": "stderr",
     "output_type": "stream",
     "text": [
      "2021-09-13 02:41:35,345 - stpipe.Detector1Pipeline.gain_scale - INFO - Step gain_scale done\n"
     ]
    },
    {
     "name": "stdout",
     "output_type": "stream",
     "text": [
      "[stpipe.Detector1Pipeline.gain_scale:INFO] Step gain_scale done\n"
     ]
    },
    {
     "name": "stderr",
     "output_type": "stream",
     "text": [
      "2021-09-13 02:41:35,454 - stpipe.Detector1Pipeline.gain_scale - INFO - Step gain_scale running with args (<CubeModel(70, 256, 2048) from modified_jw88888001001_01101_00001_nrca1_uncal.fits>,).\n"
     ]
    },
    {
     "name": "stdout",
     "output_type": "stream",
     "text": [
      "[stpipe.Detector1Pipeline.gain_scale:INFO] Step gain_scale running with args (<CubeModel(70, 256, 2048) from modified_jw88888001001_01101_00001_nrca1_uncal.fits>,).\n"
     ]
    },
    {
     "name": "stderr",
     "output_type": "stream",
     "text": [
      "2021-09-13 02:41:35,458 - stpipe.Detector1Pipeline.gain_scale - INFO - Step gain_scale parameters are: {'pre_hooks': [], 'post_hooks': [], 'output_file': None, 'output_dir': None, 'output_ext': '.fits', 'output_use_model': False, 'output_use_index': True, 'save_results': False, 'skip': False, 'suffix': 'gain_scaleints', 'search_output_file': True, 'input_dir': ''}\n"
     ]
    },
    {
     "name": "stdout",
     "output_type": "stream",
     "text": [
      "[stpipe.Detector1Pipeline.gain_scale:INFO] Step gain_scale parameters are: {'pre_hooks': [], 'post_hooks': [], 'output_file': None, 'output_dir': None, 'output_ext': '.fits', 'output_use_model': False, 'output_use_index': True, 'save_results': False, 'skip': False, 'suffix': 'gain_scaleints', 'search_output_file': True, 'input_dir': ''}\n",
      "[stdatamodels.util:DEBUG] Environmental \"STRICT_VALIDATION\" cannot be found. Using default value of \"False\".\n",
      "[stdatamodels.util:DEBUG] Environmental \"VALIDATE_ON_ASSIGNMENT\" cannot be found. Using default value of \"True\".\n",
      "[stdatamodels.util:DEBUG] Environmental \"STRICT_VALIDATION\" cannot be found. Using default value of \"False\".\n",
      "[stdatamodels.util:DEBUG] Environmental \"VALIDATE_ON_ASSIGNMENT\" cannot be found. Using default value of \"True\".\n",
      "[stdatamodels.util:DEBUG] Environmental \"STRICT_VALIDATION\" cannot be found. Using default value of \"False\".\n",
      "[stdatamodels.util:DEBUG] Environmental \"VALIDATE_ON_ASSIGNMENT\" cannot be found. Using default value of \"True\".\n",
      "[stdatamodels.util:DEBUG] Environmental \"SKIP_FITS_UPDATE\" cannot be found. Using default value of \"None\".\n"
     ]
    },
    {
     "name": "stderr",
     "output_type": "stream",
     "text": [
      "2021-09-13 02:41:35,548 - stpipe.Detector1Pipeline.gain_scale - INFO - GAINFACT not found in gain reference file\n"
     ]
    },
    {
     "name": "stdout",
     "output_type": "stream",
     "text": [
      "[stpipe.Detector1Pipeline.gain_scale:INFO] GAINFACT not found in gain reference file\n"
     ]
    },
    {
     "name": "stderr",
     "output_type": "stream",
     "text": [
      "2021-09-13 02:41:35,550 - stpipe.Detector1Pipeline.gain_scale - INFO - Step will be skipped\n"
     ]
    },
    {
     "name": "stdout",
     "output_type": "stream",
     "text": [
      "[stpipe.Detector1Pipeline.gain_scale:INFO] Step will be skipped\n"
     ]
    },
    {
     "name": "stderr",
     "output_type": "stream",
     "text": [
      "2021-09-13 02:41:35,556 - stpipe.Detector1Pipeline.gain_scale - INFO - Step gain_scale done\n"
     ]
    },
    {
     "name": "stdout",
     "output_type": "stream",
     "text": [
      "[stpipe.Detector1Pipeline.gain_scale:INFO] Step gain_scale done\n"
     ]
    },
    {
     "name": "stderr",
     "output_type": "stream",
     "text": [
      "2021-09-13 02:41:36,842 - stpipe.Detector1Pipeline - INFO - Saved model in /fenrirdata1/kg_data/pipeline_output/Short_Transit_NRCA3/modified_jw88888001001_01101_00001_nrca1_rateints.fits\n"
     ]
    },
    {
     "name": "stdout",
     "output_type": "stream",
     "text": [
      "[stpipe.Detector1Pipeline:INFO] Saved model in /fenrirdata1/kg_data/pipeline_output/Short_Transit_NRCA3/modified_jw88888001001_01101_00001_nrca1_rateints.fits\n",
      "[      root:INFO] ... ending calwebb_detector1\n"
     ]
    },
    {
     "name": "stderr",
     "output_type": "stream",
     "text": [
      "2021-09-13 02:41:36,957 - stpipe.Detector1Pipeline - INFO - Saved model in /fenrirdata1/kg_data/pipeline_output/Short_Transit_NRCA3/modified_jw88888001001_01101_00001_nrca1_rate.fits\n"
     ]
    },
    {
     "name": "stdout",
     "output_type": "stream",
     "text": [
      "[stpipe.Detector1Pipeline:INFO] Saved model in /fenrirdata1/kg_data/pipeline_output/Short_Transit_NRCA3/modified_jw88888001001_01101_00001_nrca1_rate.fits\n"
     ]
    },
    {
     "name": "stderr",
     "output_type": "stream",
     "text": [
      "2021-09-13 02:41:36,959 - stpipe.Detector1Pipeline - INFO - Step Detector1Pipeline done\n"
     ]
    },
    {
     "name": "stdout",
     "output_type": "stream",
     "text": [
      "[stpipe.Detector1Pipeline:INFO] Step Detector1Pipeline done\n"
     ]
    }
   ],
   "source": [
    "filename_stage1='modified_jw88888001001_01101_00001_nrca1_uncal.fits' #Use the modified uncalibrated file created above\n",
    "\n",
    "# Instantiate the class. Do not provide a configuration file.\n",
    "pipeline_stage1 = Detector1Pipeline()\n",
    "\n",
    "# Manually set any desired non-default parameter values\n",
    "\n",
    "# Default is to skip the persistence and IPC correction\n",
    "# Make that explicit here\n",
    "pipeline_stage1.persistence.skip = True\n",
    "pipeline_stage1.ipc.skip = True\n",
    "\n",
    "pipeline_stage1.refpix.skip = False #Make sure to skip steps appropriate if using an alternate ref pix correction method\n",
    "pipeline_stage1.superbias.skip = False \n",
    "\n",
    "# The default value for CR flagging is 3 or 4 sigma\n",
    "# which tends to be too aggressive and flags noise.\n",
    "# Set it to something more reasonable\n",
    "pipeline_stage1.jump.rejection_threshold = 9\n",
    "\n",
    "# Specify that you want results saved to a file\n",
    "pipeline_stage1.save_results = True\n",
    "pipeline_stage1.output_dir = '/fenrirdata1/kg_data/pipeline_output/Short_Transit_NRCA3/'\n",
    "\n",
    "# Execute the pipeline using the run method\n",
    "result_stage1 = pipeline_stage1.run(filename_stage1)"
   ]
  },
  {
   "cell_type": "code",
   "execution_count": 4,
   "id": "hollywood-upper",
   "metadata": {
    "scrolled": true
   },
   "outputs": [
    {
     "name": "stdout",
     "output_type": "stream",
     "text": [
      "Filename: /fenrirdata1/kg_data/pipeline_output/Short_Transit_NRCA3/modified_jw88888001001_01101_00001_nrca1_rateints.fits\n",
      "No.    Name      Ver    Type      Cards   Dimensions   Format\n",
      "  0  PRIMARY       1 PrimaryHDU     152   ()      \n",
      "  1  SCI           1 ImageHDU        48   (2048, 256, 70)   float32   \n",
      "  2  ERR           1 ImageHDU        11   (2048, 256, 70)   float32   \n",
      "  3  DQ            1 ImageHDU        12   (2048, 256, 70)   int32 (rescales to uint32)   \n",
      "  4  INT_TIMES     1 BinTableHDU     24   70R x 7C   [J, D, D, D, D, D, D]   \n",
      "  5  VAR_POISSON    1 ImageHDU        10   (2048, 256, 70)   float32   \n",
      "  6  VAR_RNOISE    1 ImageHDU        10   (2048, 256, 70)   float32   \n",
      "  7  ASDF          1 BinTableHDU     11   1R x 1C   [4796B]   \n"
     ]
    }
   ],
   "source": [
    "#Check that the results exist needed for next stage\n",
    "HDUList_stage1= fits.open('/fenrirdata1/kg_data/pipeline_output/Short_Transit_NRCA3/modified_jw88888001001_01101_00001_nrca1_rateints.fits')\n",
    "HDUList_stage1.info()"
   ]
  },
  {
   "cell_type": "markdown",
   "id": "revised-airplane",
   "metadata": {},
   "source": [
    "## Association Files\n",
    "Associations are basically just lists of things, mostly exposures, that are somehow related. The pipeline consists of three stages: Stage 1, Stage 2, and Stage 3 processing. Stage 2 processing is the calibration necessary to remove instrumental effects from the data. The resulting files contain flux and spatially calibrated data, called Stage 2b data. The information is still in individual exposures. To be truly useful, the exposures need to be combined and, in the case of multi-object spectrometry, separated, into data that is source-oriented. This type of calibration is called Stage 3 processing."
   ]
  },
  {
   "cell_type": "code",
   "execution_count": 5,
   "id": "confirmed-semester",
   "metadata": {},
   "outputs": [],
   "source": [
    "asn_dir = '/fenrirdata1/kg_data/pipeline_output/Short_Transit_NRCA3/'\n",
    "level2_asn = (os.path.join(asn_dir, 'level2_asn.json'))\n",
    "asn_stage2 = asn_from_list(['/fenrirdata1/kg_data/pipeline_output/Short_Transit_NRCA3/modified_jw88888001001_01101_00001_nrca1_rateints.fits'],rule=DMSLevel2bBase)\n",
    "with open(level2_asn, 'w') as fh:\n",
    "   fh.write(asn_stage2.dump()[1])"
   ]
  },
  {
   "cell_type": "markdown",
   "id": "adjusted-brush",
   "metadata": {},
   "source": [
    "# Stage 2\n",
    "### Processes JWST imaging-mode slope data from Level-2a to Level-2b.\n",
    "Stage 2 processing consists of additional instrument-level and observing-mode corrections and calibrations to produce fully calibrated exposures. The details differ for imaging and spectroscopic exposures, and there are some corrections that are unique to certain instruments or modes. \n",
    "\n",
    "#### Image2Pipeline:\n",
    "Imaging processing applies additional instrumental corrections and calibrations that result in a fully calibrated individual exposure. Imaging TSO data are run through this pipeline. The steps are very similar to those in Spec2Pipeline. WCS information is added, flat fielding and flux calibration are performed, and astrometric distortion is removed from the images."
   ]
  },
  {
   "cell_type": "code",
   "execution_count": 6,
   "id": "metric-twins",
   "metadata": {
    "scrolled": true
   },
   "outputs": [
    {
     "name": "stderr",
     "output_type": "stream",
     "text": [
      "2021-09-13 02:42:51,016 - stpipe.Image2Pipeline - INFO - Image2Pipeline instance created.\n"
     ]
    },
    {
     "name": "stdout",
     "output_type": "stream",
     "text": [
      "[stpipe.Image2Pipeline:INFO] Image2Pipeline instance created.\n"
     ]
    },
    {
     "name": "stderr",
     "output_type": "stream",
     "text": [
      "2021-09-13 02:42:51,022 - stpipe.Image2Pipeline.bkg_subtract - INFO - BackgroundStep instance created.\n"
     ]
    },
    {
     "name": "stdout",
     "output_type": "stream",
     "text": [
      "[stpipe.Image2Pipeline.bkg_subtract:INFO] BackgroundStep instance created.\n"
     ]
    },
    {
     "name": "stderr",
     "output_type": "stream",
     "text": [
      "2021-09-13 02:42:51,030 - stpipe.Image2Pipeline.assign_wcs - INFO - AssignWcsStep instance created.\n"
     ]
    },
    {
     "name": "stdout",
     "output_type": "stream",
     "text": [
      "[stpipe.Image2Pipeline.assign_wcs:INFO] AssignWcsStep instance created.\n"
     ]
    },
    {
     "name": "stderr",
     "output_type": "stream",
     "text": [
      "2021-09-13 02:42:51,036 - stpipe.Image2Pipeline.flat_field - INFO - FlatFieldStep instance created.\n"
     ]
    },
    {
     "name": "stdout",
     "output_type": "stream",
     "text": [
      "[stpipe.Image2Pipeline.flat_field:INFO] FlatFieldStep instance created.\n"
     ]
    },
    {
     "name": "stderr",
     "output_type": "stream",
     "text": [
      "2021-09-13 02:42:51,043 - stpipe.Image2Pipeline.photom - INFO - PhotomStep instance created.\n"
     ]
    },
    {
     "name": "stdout",
     "output_type": "stream",
     "text": [
      "[stpipe.Image2Pipeline.photom:INFO] PhotomStep instance created.\n"
     ]
    },
    {
     "name": "stderr",
     "output_type": "stream",
     "text": [
      "2021-09-13 02:42:51,049 - stpipe.Image2Pipeline.resample - INFO - ResampleStep instance created.\n"
     ]
    },
    {
     "name": "stdout",
     "output_type": "stream",
     "text": [
      "[stpipe.Image2Pipeline.resample:INFO] ResampleStep instance created.\n"
     ]
    },
    {
     "name": "stderr",
     "output_type": "stream",
     "text": [
      "2021-09-13 02:42:51,242 - stpipe.Image2Pipeline - INFO - Step Image2Pipeline running with args ('/fenrirdata1/kg_data/pipeline_output/Short_Transit_NRCA3/level2_asn.json',).\n"
     ]
    },
    {
     "name": "stdout",
     "output_type": "stream",
     "text": [
      "[stpipe.Image2Pipeline:INFO] Step Image2Pipeline running with args ('/fenrirdata1/kg_data/pipeline_output/Short_Transit_NRCA3/level2_asn.json',).\n"
     ]
    },
    {
     "name": "stderr",
     "output_type": "stream",
     "text": [
      "2021-09-13 02:42:51,255 - stpipe.Image2Pipeline - INFO - Step Image2Pipeline parameters are: {'pre_hooks': [], 'post_hooks': [], 'output_file': None, 'output_dir': '/fenrirdata1/kg_data/pipeline_output/Short_Transit_NRCA3/', 'output_ext': '.fits', 'output_use_model': False, 'output_use_index': True, 'save_results': True, 'skip': False, 'suffix': None, 'search_output_file': True, 'input_dir': '', 'save_bsub': False, 'steps': {'bkg_subtract': {'pre_hooks': [], 'post_hooks': [], 'output_file': None, 'output_dir': None, 'output_ext': '.fits', 'output_use_model': False, 'output_use_index': True, 'save_results': False, 'skip': False, 'suffix': None, 'search_output_file': True, 'input_dir': '', 'save_combined_background': False, 'sigma': 3.0, 'maxiters': None}, 'assign_wcs': {'pre_hooks': [], 'post_hooks': [], 'output_file': None, 'output_dir': None, 'output_ext': '.fits', 'output_use_model': False, 'output_use_index': True, 'save_results': False, 'skip': False, 'suffix': None, 'search_output_file': True, 'input_dir': '', 'sip_approx': True, 'sip_max_pix_error': 0.25, 'sip_degree': None, 'sip_max_inv_pix_error': 0.25, 'sip_inv_degree': None, 'sip_npoints': 32, 'slit_y_low': -0.55, 'slit_y_high': 0.55}, 'flat_field': {'pre_hooks': [], 'post_hooks': [], 'output_file': None, 'output_dir': None, 'output_ext': '.fits', 'output_use_model': False, 'output_use_index': True, 'save_results': False, 'skip': False, 'suffix': None, 'search_output_file': True, 'input_dir': '', 'save_interpolated_flat': False, 'user_supplied_flat': None, 'inverse': False}, 'photom': {'pre_hooks': [], 'post_hooks': [], 'output_file': None, 'output_dir': None, 'output_ext': '.fits', 'output_use_model': False, 'output_use_index': True, 'save_results': False, 'skip': False, 'suffix': None, 'search_output_file': True, 'input_dir': '', 'inverse': False, 'source_type': None}, 'resample': {'pre_hooks': [], 'post_hooks': [], 'output_file': None, 'output_dir': None, 'output_ext': '.fits', 'output_use_model': False, 'output_use_index': True, 'save_results': False, 'skip': False, 'suffix': None, 'search_output_file': True, 'input_dir': '', 'pixfrac': 1.0, 'kernel': 'square', 'fillval': 'INDEF', 'weight_type': 'ivm', 'pixel_scale_ratio': 1.0, 'single': False, 'blendheaders': True, 'allowed_memory': None}}}\n"
     ]
    },
    {
     "name": "stdout",
     "output_type": "stream",
     "text": [
      "[stpipe.Image2Pipeline:INFO] Step Image2Pipeline parameters are: {'pre_hooks': [], 'post_hooks': [], 'output_file': None, 'output_dir': '/fenrirdata1/kg_data/pipeline_output/Short_Transit_NRCA3/', 'output_ext': '.fits', 'output_use_model': False, 'output_use_index': True, 'save_results': True, 'skip': False, 'suffix': None, 'search_output_file': True, 'input_dir': '', 'save_bsub': False, 'steps': {'bkg_subtract': {'pre_hooks': [], 'post_hooks': [], 'output_file': None, 'output_dir': None, 'output_ext': '.fits', 'output_use_model': False, 'output_use_index': True, 'save_results': False, 'skip': False, 'suffix': None, 'search_output_file': True, 'input_dir': '', 'save_combined_background': False, 'sigma': 3.0, 'maxiters': None}, 'assign_wcs': {'pre_hooks': [], 'post_hooks': [], 'output_file': None, 'output_dir': None, 'output_ext': '.fits', 'output_use_model': False, 'output_use_index': True, 'save_results': False, 'skip': False, 'suffix': None, 'search_output_file': True, 'input_dir': '', 'sip_approx': True, 'sip_max_pix_error': 0.25, 'sip_degree': None, 'sip_max_inv_pix_error': 0.25, 'sip_inv_degree': None, 'sip_npoints': 32, 'slit_y_low': -0.55, 'slit_y_high': 0.55}, 'flat_field': {'pre_hooks': [], 'post_hooks': [], 'output_file': None, 'output_dir': None, 'output_ext': '.fits', 'output_use_model': False, 'output_use_index': True, 'save_results': False, 'skip': False, 'suffix': None, 'search_output_file': True, 'input_dir': '', 'save_interpolated_flat': False, 'user_supplied_flat': None, 'inverse': False}, 'photom': {'pre_hooks': [], 'post_hooks': [], 'output_file': None, 'output_dir': None, 'output_ext': '.fits', 'output_use_model': False, 'output_use_index': True, 'save_results': False, 'skip': False, 'suffix': None, 'search_output_file': True, 'input_dir': '', 'inverse': False, 'source_type': None}, 'resample': {'pre_hooks': [], 'post_hooks': [], 'output_file': None, 'output_dir': None, 'output_ext': '.fits', 'output_use_model': False, 'output_use_index': True, 'save_results': False, 'skip': False, 'suffix': None, 'search_output_file': True, 'input_dir': '', 'pixfrac': 1.0, 'kernel': 'square', 'fillval': 'INDEF', 'weight_type': 'ivm', 'pixel_scale_ratio': 1.0, 'single': False, 'blendheaders': True, 'allowed_memory': None}}}\n",
      "[stdatamodels.util:DEBUG] Environmental \"STRICT_VALIDATION\" cannot be found. Using default value of \"False\".\n",
      "[stdatamodels.util:DEBUG] Environmental \"VALIDATE_ON_ASSIGNMENT\" cannot be found. Using default value of \"True\".\n",
      "[jwst.datamodels.container:DEBUG] Filtering datasets based on allowed exptypes ['science']:\n",
      "[jwst.datamodels.container:DEBUG] Files accepted for processing /fenrirdata1/kg_data/pipeline_output/Short_Transit_NRCA3/modified_jw88888001001_01101_00001_nrca1_rateints.fits:\n",
      "[jwst.datamodels.util:DEBUG] Opening /fenrirdata1/kg_data/pipeline_output/Short_Transit_NRCA3/modified_jw88888001001_01101_00001_nrca1_rateints.fits as <class 'jwst.datamodels.cube.CubeModel'>\n",
      "[stdatamodels.util:DEBUG] Environmental \"STRICT_VALIDATION\" cannot be found. Using default value of \"False\".\n",
      "[stdatamodels.util:DEBUG] Environmental \"VALIDATE_ON_ASSIGNMENT\" cannot be found. Using default value of \"True\".\n",
      "[stdatamodels.util:DEBUG] Environmental \"SKIP_FITS_UPDATE\" cannot be found. Using default value of \"None\".\n",
      "[stdatamodels.fits_support:DEBUG] FITS hash matches. Skipping FITS updating.\n",
      "[stdatamodels.fits_support:DEBUG] Skipping FITS keyword updating except for BinTableHDU and its associated header keywords.\n"
     ]
    },
    {
     "name": "stderr",
     "output_type": "stream",
     "text": [
      "2021-09-13 02:42:51,844 - stpipe.Image2Pipeline - INFO - Prefetching reference files for dataset: 'modified_jw88888001001_01101_00001_nrca1_rateints.fits' reftypes = ['area', 'camera', 'collimator', 'dflat', 'disperser', 'distortion', 'drizpars', 'fflat', 'filteroffset', 'flat', 'fore', 'fpa', 'ifufore', 'ifupost', 'ifuslicer', 'msa', 'ote', 'photom', 'regions', 'sflat', 'specwcs', 'wavelengthrange', 'wfssbkg']\n"
     ]
    },
    {
     "name": "stdout",
     "output_type": "stream",
     "text": [
      "[stpipe.Image2Pipeline:INFO] Prefetching reference files for dataset: 'modified_jw88888001001_01101_00001_nrca1_rateints.fits' reftypes = ['area', 'camera', 'collimator', 'dflat', 'disperser', 'distortion', 'drizpars', 'fflat', 'filteroffset', 'flat', 'fore', 'fpa', 'ifufore', 'ifupost', 'ifuslicer', 'msa', 'ote', 'photom', 'regions', 'sflat', 'specwcs', 'wavelengthrange', 'wfssbkg']\n"
     ]
    },
    {
     "name": "stderr",
     "output_type": "stream",
     "text": [
      "2021-09-13 02:42:51,855 - CRDS - INFO -  Fetching  /fenrirdata1/kg_data/crds_cache/references/jwst/nircam/jwst_nircam_flat_0349.fits   50.4 M bytes  (1 / 2 files) (0 / 50.4 M bytes)\n",
      "2021-09-13 02:42:56,623 - CRDS - INFO -  Fetching  /fenrirdata1/kg_data/crds_cache/references/jwst/nircam/jwst_nircam_photom_0093.fits   11.5 K bytes  (2 / 2 files) (50.4 M / 50.4 M bytes)\n",
      "2021-09-13 02:42:56,941 - stpipe.Image2Pipeline - INFO - Prefetch for AREA reference file is '/fenrirdata1/kg_data/crds_cache/references/jwst/nircam/jwst_nircam_area_0031.fits'.\n"
     ]
    },
    {
     "name": "stdout",
     "output_type": "stream",
     "text": [
      "[stpipe.Image2Pipeline:INFO] Prefetch for AREA reference file is '/fenrirdata1/kg_data/crds_cache/references/jwst/nircam/jwst_nircam_area_0031.fits'.\n"
     ]
    },
    {
     "name": "stderr",
     "output_type": "stream",
     "text": [
      "2021-09-13 02:42:56,945 - stpipe.Image2Pipeline - INFO - Prefetch for CAMERA reference file is 'N/A'.\n"
     ]
    },
    {
     "name": "stdout",
     "output_type": "stream",
     "text": [
      "[stpipe.Image2Pipeline:INFO] Prefetch for CAMERA reference file is 'N/A'.\n"
     ]
    },
    {
     "name": "stderr",
     "output_type": "stream",
     "text": [
      "2021-09-13 02:42:56,948 - stpipe.Image2Pipeline - INFO - Prefetch for COLLIMATOR reference file is 'N/A'.\n"
     ]
    },
    {
     "name": "stdout",
     "output_type": "stream",
     "text": [
      "[stpipe.Image2Pipeline:INFO] Prefetch for COLLIMATOR reference file is 'N/A'.\n"
     ]
    },
    {
     "name": "stderr",
     "output_type": "stream",
     "text": [
      "2021-09-13 02:42:56,950 - stpipe.Image2Pipeline - INFO - Prefetch for DFLAT reference file is 'N/A'.\n"
     ]
    },
    {
     "name": "stdout",
     "output_type": "stream",
     "text": [
      "[stpipe.Image2Pipeline:INFO] Prefetch for DFLAT reference file is 'N/A'.\n"
     ]
    },
    {
     "name": "stderr",
     "output_type": "stream",
     "text": [
      "2021-09-13 02:42:56,952 - stpipe.Image2Pipeline - INFO - Prefetch for DISPERSER reference file is 'N/A'.\n"
     ]
    },
    {
     "name": "stdout",
     "output_type": "stream",
     "text": [
      "[stpipe.Image2Pipeline:INFO] Prefetch for DISPERSER reference file is 'N/A'.\n"
     ]
    },
    {
     "name": "stderr",
     "output_type": "stream",
     "text": [
      "2021-09-13 02:42:56,956 - stpipe.Image2Pipeline - INFO - Prefetch for DISTORTION reference file is '/fenrirdata1/kg_data/crds_cache/references/jwst/nircam/jwst_nircam_distortion_0089.asdf'.\n"
     ]
    },
    {
     "name": "stdout",
     "output_type": "stream",
     "text": [
      "[stpipe.Image2Pipeline:INFO] Prefetch for DISTORTION reference file is '/fenrirdata1/kg_data/crds_cache/references/jwst/nircam/jwst_nircam_distortion_0089.asdf'.\n"
     ]
    },
    {
     "name": "stderr",
     "output_type": "stream",
     "text": [
      "2021-09-13 02:42:56,962 - stpipe.Image2Pipeline - INFO - Prefetch for DRIZPARS reference file is '/fenrirdata1/kg_data/crds_cache/references/jwst/nircam/jwst_nircam_drizpars_0001.fits'.\n"
     ]
    },
    {
     "name": "stdout",
     "output_type": "stream",
     "text": [
      "[stpipe.Image2Pipeline:INFO] Prefetch for DRIZPARS reference file is '/fenrirdata1/kg_data/crds_cache/references/jwst/nircam/jwst_nircam_drizpars_0001.fits'.\n"
     ]
    },
    {
     "name": "stderr",
     "output_type": "stream",
     "text": [
      "2021-09-13 02:42:56,966 - stpipe.Image2Pipeline - INFO - Prefetch for FFLAT reference file is 'N/A'.\n"
     ]
    },
    {
     "name": "stdout",
     "output_type": "stream",
     "text": [
      "[stpipe.Image2Pipeline:INFO] Prefetch for FFLAT reference file is 'N/A'.\n"
     ]
    },
    {
     "name": "stderr",
     "output_type": "stream",
     "text": [
      "2021-09-13 02:42:56,968 - stpipe.Image2Pipeline - INFO - Prefetch for FILTEROFFSET reference file is '/fenrirdata1/kg_data/crds_cache/references/jwst/nircam/jwst_nircam_filteroffset_0004.asdf'.\n"
     ]
    },
    {
     "name": "stdout",
     "output_type": "stream",
     "text": [
      "[stpipe.Image2Pipeline:INFO] Prefetch for FILTEROFFSET reference file is '/fenrirdata1/kg_data/crds_cache/references/jwst/nircam/jwst_nircam_filteroffset_0004.asdf'.\n"
     ]
    },
    {
     "name": "stderr",
     "output_type": "stream",
     "text": [
      "2021-09-13 02:42:56,972 - stpipe.Image2Pipeline - INFO - Prefetch for FLAT reference file is '/fenrirdata1/kg_data/crds_cache/references/jwst/nircam/jwst_nircam_flat_0349.fits'.\n"
     ]
    },
    {
     "name": "stdout",
     "output_type": "stream",
     "text": [
      "[stpipe.Image2Pipeline:INFO] Prefetch for FLAT reference file is '/fenrirdata1/kg_data/crds_cache/references/jwst/nircam/jwst_nircam_flat_0349.fits'.\n"
     ]
    },
    {
     "name": "stderr",
     "output_type": "stream",
     "text": [
      "2021-09-13 02:42:56,975 - stpipe.Image2Pipeline - INFO - Prefetch for FORE reference file is 'N/A'.\n"
     ]
    },
    {
     "name": "stdout",
     "output_type": "stream",
     "text": [
      "[stpipe.Image2Pipeline:INFO] Prefetch for FORE reference file is 'N/A'.\n"
     ]
    },
    {
     "name": "stderr",
     "output_type": "stream",
     "text": [
      "2021-09-13 02:42:56,977 - stpipe.Image2Pipeline - INFO - Prefetch for FPA reference file is 'N/A'.\n"
     ]
    },
    {
     "name": "stdout",
     "output_type": "stream",
     "text": [
      "[stpipe.Image2Pipeline:INFO] Prefetch for FPA reference file is 'N/A'.\n"
     ]
    },
    {
     "name": "stderr",
     "output_type": "stream",
     "text": [
      "2021-09-13 02:42:56,980 - stpipe.Image2Pipeline - INFO - Prefetch for IFUFORE reference file is 'N/A'.\n"
     ]
    },
    {
     "name": "stdout",
     "output_type": "stream",
     "text": [
      "[stpipe.Image2Pipeline:INFO] Prefetch for IFUFORE reference file is 'N/A'.\n"
     ]
    },
    {
     "name": "stderr",
     "output_type": "stream",
     "text": [
      "2021-09-13 02:42:56,982 - stpipe.Image2Pipeline - INFO - Prefetch for IFUPOST reference file is 'N/A'.\n"
     ]
    },
    {
     "name": "stdout",
     "output_type": "stream",
     "text": [
      "[stpipe.Image2Pipeline:INFO] Prefetch for IFUPOST reference file is 'N/A'.\n"
     ]
    },
    {
     "name": "stderr",
     "output_type": "stream",
     "text": [
      "2021-09-13 02:42:56,984 - stpipe.Image2Pipeline - INFO - Prefetch for IFUSLICER reference file is 'N/A'.\n"
     ]
    },
    {
     "name": "stdout",
     "output_type": "stream",
     "text": [
      "[stpipe.Image2Pipeline:INFO] Prefetch for IFUSLICER reference file is 'N/A'.\n"
     ]
    },
    {
     "name": "stderr",
     "output_type": "stream",
     "text": [
      "2021-09-13 02:42:56,986 - stpipe.Image2Pipeline - INFO - Prefetch for MSA reference file is 'N/A'.\n"
     ]
    },
    {
     "name": "stdout",
     "output_type": "stream",
     "text": [
      "[stpipe.Image2Pipeline:INFO] Prefetch for MSA reference file is 'N/A'.\n"
     ]
    },
    {
     "name": "stderr",
     "output_type": "stream",
     "text": [
      "2021-09-13 02:42:56,989 - stpipe.Image2Pipeline - INFO - Prefetch for OTE reference file is 'N/A'.\n"
     ]
    },
    {
     "name": "stdout",
     "output_type": "stream",
     "text": [
      "[stpipe.Image2Pipeline:INFO] Prefetch for OTE reference file is 'N/A'.\n"
     ]
    },
    {
     "name": "stderr",
     "output_type": "stream",
     "text": [
      "2021-09-13 02:42:56,991 - stpipe.Image2Pipeline - INFO - Prefetch for PHOTOM reference file is '/fenrirdata1/kg_data/crds_cache/references/jwst/nircam/jwst_nircam_photom_0093.fits'.\n"
     ]
    },
    {
     "name": "stdout",
     "output_type": "stream",
     "text": [
      "[stpipe.Image2Pipeline:INFO] Prefetch for PHOTOM reference file is '/fenrirdata1/kg_data/crds_cache/references/jwst/nircam/jwst_nircam_photom_0093.fits'.\n"
     ]
    },
    {
     "name": "stderr",
     "output_type": "stream",
     "text": [
      "2021-09-13 02:42:56,993 - stpipe.Image2Pipeline - INFO - Prefetch for REGIONS reference file is 'N/A'.\n"
     ]
    },
    {
     "name": "stdout",
     "output_type": "stream",
     "text": [
      "[stpipe.Image2Pipeline:INFO] Prefetch for REGIONS reference file is 'N/A'.\n"
     ]
    },
    {
     "name": "stderr",
     "output_type": "stream",
     "text": [
      "2021-09-13 02:42:56,996 - stpipe.Image2Pipeline - INFO - Prefetch for SFLAT reference file is 'N/A'.\n"
     ]
    },
    {
     "name": "stdout",
     "output_type": "stream",
     "text": [
      "[stpipe.Image2Pipeline:INFO] Prefetch for SFLAT reference file is 'N/A'.\n"
     ]
    },
    {
     "name": "stderr",
     "output_type": "stream",
     "text": [
      "2021-09-13 02:42:56,998 - stpipe.Image2Pipeline - INFO - Prefetch for SPECWCS reference file is 'N/A'.\n"
     ]
    },
    {
     "name": "stdout",
     "output_type": "stream",
     "text": [
      "[stpipe.Image2Pipeline:INFO] Prefetch for SPECWCS reference file is 'N/A'.\n"
     ]
    },
    {
     "name": "stderr",
     "output_type": "stream",
     "text": [
      "2021-09-13 02:42:57,000 - stpipe.Image2Pipeline - INFO - Prefetch for WAVELENGTHRANGE reference file is 'N/A'.\n"
     ]
    },
    {
     "name": "stdout",
     "output_type": "stream",
     "text": [
      "[stpipe.Image2Pipeline:INFO] Prefetch for WAVELENGTHRANGE reference file is 'N/A'.\n"
     ]
    },
    {
     "name": "stderr",
     "output_type": "stream",
     "text": [
      "2021-09-13 02:42:57,003 - stpipe.Image2Pipeline - INFO - Prefetch for WFSSBKG reference file is 'N/A'.\n"
     ]
    },
    {
     "name": "stdout",
     "output_type": "stream",
     "text": [
      "[stpipe.Image2Pipeline:INFO] Prefetch for WFSSBKG reference file is 'N/A'.\n"
     ]
    },
    {
     "name": "stderr",
     "output_type": "stream",
     "text": [
      "2021-09-13 02:42:57,006 - stpipe.Image2Pipeline - INFO - Starting calwebb_image2 ...\n"
     ]
    },
    {
     "name": "stdout",
     "output_type": "stream",
     "text": [
      "[stpipe.Image2Pipeline:INFO] Starting calwebb_image2 ...\n"
     ]
    },
    {
     "name": "stderr",
     "output_type": "stream",
     "text": [
      "2021-09-13 02:42:57,054 - stpipe.Image2Pipeline - INFO - Processing product /fenrirdata1/kg_data/pipeline_output/Short_Transit_NRCA3/modified_jw88888001001_01101_00001_nrca1\n"
     ]
    },
    {
     "name": "stdout",
     "output_type": "stream",
     "text": [
      "[stpipe.Image2Pipeline:INFO] Processing product /fenrirdata1/kg_data/pipeline_output/Short_Transit_NRCA3/modified_jw88888001001_01101_00001_nrca1\n"
     ]
    },
    {
     "name": "stderr",
     "output_type": "stream",
     "text": [
      "2021-09-13 02:42:57,057 - stpipe.Image2Pipeline - INFO - Working on input /fenrirdata1/kg_data/pipeline_output/Short_Transit_NRCA3/modified_jw88888001001_01101_00001_nrca1_rateints.fits ...\n"
     ]
    },
    {
     "name": "stdout",
     "output_type": "stream",
     "text": [
      "[stpipe.Image2Pipeline:INFO] Working on input /fenrirdata1/kg_data/pipeline_output/Short_Transit_NRCA3/modified_jw88888001001_01101_00001_nrca1_rateints.fits ...\n",
      "[jwst.datamodels.util:DEBUG] Opening /fenrirdata1/kg_data/pipeline_output/Short_Transit_NRCA3/modified_jw88888001001_01101_00001_nrca1_rateints.fits as <class 'jwst.datamodels.cube.CubeModel'>\n",
      "[stdatamodels.util:DEBUG] Environmental \"STRICT_VALIDATION\" cannot be found. Using default value of \"False\".\n",
      "[stdatamodels.util:DEBUG] Environmental \"VALIDATE_ON_ASSIGNMENT\" cannot be found. Using default value of \"True\".\n",
      "[stdatamodels.util:DEBUG] Environmental \"SKIP_FITS_UPDATE\" cannot be found. Using default value of \"None\".\n",
      "[stdatamodels.fits_support:DEBUG] FITS hash matches. Skipping FITS updating.\n",
      "[stdatamodels.fits_support:DEBUG] Skipping FITS keyword updating except for BinTableHDU and its associated header keywords.\n"
     ]
    },
    {
     "name": "stderr",
     "output_type": "stream",
     "text": [
      "2021-09-13 02:42:57,851 - stpipe.Image2Pipeline.assign_wcs - INFO - Step assign_wcs running with args (<CubeModel(70, 256, 2048) from modified_jw88888001001_01101_00001_nrca1_rateints.fits>,).\n"
     ]
    },
    {
     "name": "stdout",
     "output_type": "stream",
     "text": [
      "[stpipe.Image2Pipeline.assign_wcs:INFO] Step assign_wcs running with args (<CubeModel(70, 256, 2048) from modified_jw88888001001_01101_00001_nrca1_rateints.fits>,).\n"
     ]
    },
    {
     "name": "stderr",
     "output_type": "stream",
     "text": [
      "2021-09-13 02:42:57,855 - stpipe.Image2Pipeline.assign_wcs - INFO - Step assign_wcs parameters are: {'pre_hooks': [], 'post_hooks': [], 'output_file': None, 'output_dir': None, 'output_ext': '.fits', 'output_use_model': False, 'output_use_index': True, 'save_results': False, 'skip': False, 'suffix': None, 'search_output_file': True, 'input_dir': '/fenrirdata1/kg_data/pipeline_output/Short_Transit_NRCA3', 'sip_approx': True, 'sip_max_pix_error': 0.25, 'sip_degree': None, 'sip_max_inv_pix_error': 0.25, 'sip_inv_degree': None, 'sip_npoints': 32, 'slit_y_low': -0.55, 'slit_y_high': 0.55}\n"
     ]
    },
    {
     "name": "stdout",
     "output_type": "stream",
     "text": [
      "[stpipe.Image2Pipeline.assign_wcs:INFO] Step assign_wcs parameters are: {'pre_hooks': [], 'post_hooks': [], 'output_file': None, 'output_dir': None, 'output_ext': '.fits', 'output_use_model': False, 'output_use_index': True, 'save_results': False, 'skip': False, 'suffix': None, 'search_output_file': True, 'input_dir': '/fenrirdata1/kg_data/pipeline_output/Short_Transit_NRCA3', 'sip_approx': True, 'sip_max_pix_error': 0.25, 'sip_degree': None, 'sip_max_inv_pix_error': 0.25, 'sip_inv_degree': None, 'sip_npoints': 32, 'slit_y_low': -0.55, 'slit_y_high': 0.55}\n",
      "[stdatamodels.util:DEBUG] Environmental \"STRICT_VALIDATION\" cannot be found. Using default value of \"False\".\n",
      "[stdatamodels.util:DEBUG] Environmental \"VALIDATE_ON_ASSIGNMENT\" cannot be found. Using default value of \"True\".\n",
      "[stdatamodels.util:DEBUG] Environmental \"STRICT_VALIDATION\" cannot be found. Using default value of \"False\".\n",
      "[stdatamodels.util:DEBUG] Environmental \"VALIDATE_ON_ASSIGNMENT\" cannot be found. Using default value of \"True\".\n",
      "[stdatamodels.util:DEBUG] Environmental \"STRICT_VALIDATION\" cannot be found. Using default value of \"False\".\n",
      "[stdatamodels.util:DEBUG] Environmental \"VALIDATE_ON_ASSIGNMENT\" cannot be found. Using default value of \"True\".\n",
      "[stdatamodels.util:DEBUG] Environmental \"STRICT_VALIDATION\" cannot be found. Using default value of \"False\".\n",
      "[stdatamodels.util:DEBUG] Environmental \"VALIDATE_ON_ASSIGNMENT\" cannot be found. Using default value of \"True\".\n",
      "[stdatamodels.util:DEBUG] Environmental \"STRICT_VALIDATION\" cannot be found. Using default value of \"False\".\n",
      "[stdatamodels.util:DEBUG] Environmental \"VALIDATE_ON_ASSIGNMENT\" cannot be found. Using default value of \"True\".\n",
      "[stdatamodels.util:DEBUG] Environmental \"STRICT_VALIDATION\" cannot be found. Using default value of \"False\".\n",
      "[stdatamodels.util:DEBUG] Environmental \"VALIDATE_ON_ASSIGNMENT\" cannot be found. Using default value of \"True\".\n",
      "[stdatamodels.util:DEBUG] Environmental \"STRICT_VALIDATION\" cannot be found. Using default value of \"False\".\n",
      "[stdatamodels.util:DEBUG] Environmental \"VALIDATE_ON_ASSIGNMENT\" cannot be found. Using default value of \"True\".\n",
      "[stdatamodels.util:DEBUG] Environmental \"STRICT_VALIDATION\" cannot be found. Using default value of \"False\".\n",
      "[stdatamodels.util:DEBUG] Environmental \"VALIDATE_ON_ASSIGNMENT\" cannot be found. Using default value of \"True\".\n",
      "[stdatamodels.util:DEBUG] Environmental \"STRICT_VALIDATION\" cannot be found. Using default value of \"False\".\n",
      "[stdatamodels.util:DEBUG] Environmental \"VALIDATE_ON_ASSIGNMENT\" cannot be found. Using default value of \"True\".\n",
      "[stdatamodels.util:DEBUG] Environmental \"STRICT_VALIDATION\" cannot be found. Using default value of \"False\".\n",
      "[stdatamodels.util:DEBUG] Environmental \"VALIDATE_ON_ASSIGNMENT\" cannot be found. Using default value of \"True\".\n",
      "[stdatamodels.util:DEBUG] Environmental \"STRICT_VALIDATION\" cannot be found. Using default value of \"False\".\n",
      "[stdatamodels.util:DEBUG] Environmental \"VALIDATE_ON_ASSIGNMENT\" cannot be found. Using default value of \"True\".\n",
      "[stdatamodels.util:DEBUG] Environmental \"STRICT_VALIDATION\" cannot be found. Using default value of \"False\".\n",
      "[stdatamodels.util:DEBUG] Environmental \"VALIDATE_ON_ASSIGNMENT\" cannot be found. Using default value of \"True\".\n",
      "[stdatamodels.util:DEBUG] Environmental \"STRICT_VALIDATION\" cannot be found. Using default value of \"False\".\n",
      "[stdatamodels.util:DEBUG] Environmental \"VALIDATE_ON_ASSIGNMENT\" cannot be found. Using default value of \"True\".\n",
      "[stdatamodels.util:DEBUG] Environmental \"STRICT_VALIDATION\" cannot be found. Using default value of \"False\".\n",
      "[stdatamodels.util:DEBUG] Environmental \"VALIDATE_ON_ASSIGNMENT\" cannot be found. Using default value of \"True\".\n",
      "[stdatamodels.util:DEBUG] Environmental \"STRICT_VALIDATION\" cannot be found. Using default value of \"False\".\n",
      "[stdatamodels.util:DEBUG] Environmental \"VALIDATE_ON_ASSIGNMENT\" cannot be found. Using default value of \"True\".\n",
      "[stdatamodels.util:DEBUG] Environmental \"STRICT_VALIDATION\" cannot be found. Using default value of \"False\".\n",
      "[stdatamodels.util:DEBUG] Environmental \"VALIDATE_ON_ASSIGNMENT\" cannot be found. Using default value of \"True\".\n",
      "[jwst.assign_wcs.assign_wcs_step:DEBUG] reference files used in assign_wcs: {'distortion': '/fenrirdata1/kg_data/crds_cache/references/jwst/nircam/jwst_nircam_distortion_0089.asdf', 'filteroffset': '/fenrirdata1/kg_data/crds_cache/references/jwst/nircam/jwst_nircam_filteroffset_0004.asdf', 'specwcs': 'N/A', 'regions': 'N/A', 'wavelengthrange': 'N/A', 'camera': 'N/A', 'collimator': 'N/A', 'disperser': 'N/A', 'fore': 'N/A', 'fpa': 'N/A', 'msa': 'N/A', 'ote': 'N/A', 'ifupost': 'N/A', 'ifufore': 'N/A', 'ifuslicer': 'N/A'}\n",
      "[jwst.assign_wcs.nircam:DEBUG] reference files used in NIRCAM WCS pipeline: {'distortion': '/fenrirdata1/kg_data/crds_cache/references/jwst/nircam/jwst_nircam_distortion_0089.asdf', 'filteroffset': '/fenrirdata1/kg_data/crds_cache/references/jwst/nircam/jwst_nircam_filteroffset_0004.asdf', 'specwcs': None, 'regions': None, 'wavelengthrange': None, 'camera': None, 'collimator': None, 'disperser': None, 'fore': None, 'fpa': None, 'msa': None, 'ote': None, 'ifupost': None, 'ifufore': None, 'ifuslicer': None}\n",
      "[stdatamodels.util:DEBUG] Environmental \"STRICT_VALIDATION\" cannot be found. Using default value of \"False\".\n",
      "[stdatamodels.util:DEBUG] Environmental \"VALIDATE_ON_ASSIGNMENT\" cannot be found. Using default value of \"True\".\n"
     ]
    },
    {
     "name": "stderr",
     "output_type": "stream",
     "text": [
      "[jwst.lib.reffile_utils:WARNING] Expected to find one matching row in table, found 0.\n"
     ]
    },
    {
     "name": "stdout",
     "output_type": "stream",
     "text": [
      "[stdatamodels.util:DEBUG] Environmental \"VALIDATE_ON_ASSIGNMENT\" cannot be found. Using default value of \"True\".\n"
     ]
    },
    {
     "name": "stderr",
     "output_type": "stream",
     "text": [
      "[py.warnings:WARNING] /home/kglidic/miniconda3/envs/JWST-1.3.1/lib/python3.9/site-packages/gwcs/utils.py:72: DeprecationWarning: `np.int` is a deprecated alias for the builtin `int`. To silence this warning, use `int` by itself. Doing this will not modify any behavior and is safe. When replacing `np.int`, you may wish to use e.g. `np.int64` or `np.int32` to specify the precision. If you wish to review your current use, check the release note link for additional information.\n",
      "Deprecated in NumPy 1.20; for more details and guidance: https://numpy.org/devdocs/release/1.20.0-notes.html#deprecations\n",
      "  indx = np.asarray(np.floor(np.asarray(value) + 0.5), dtype=np.int)\n",
      "\n"
     ]
    },
    {
     "name": "stdout",
     "output_type": "stream",
     "text": [
      "[jwst.assign_wcs.util:INFO] Update S_REGION to POLYGON ICRS  66.381602723 -30.601880243 66.381593490 -30.599628369 66.360799164 -30.599657670 66.360768358 -30.601922284\n",
      "[jwst.assign_wcs.assign_wcs:INFO] assign_wcs updated S_REGION to POLYGON ICRS  66.381602723 -30.601880243 66.381593490 -30.599628369 66.360799164 -30.599657670 66.360768358 -30.601922284\n",
      "[jwst.assign_wcs.assign_wcs:INFO] COMPLETED assign_wcs\n"
     ]
    },
    {
     "name": "stderr",
     "output_type": "stream",
     "text": [
      "2021-09-13 02:42:59,025 - stpipe.Image2Pipeline.assign_wcs - INFO - Step assign_wcs done\n"
     ]
    },
    {
     "name": "stdout",
     "output_type": "stream",
     "text": [
      "[stpipe.Image2Pipeline.assign_wcs:INFO] Step assign_wcs done\n"
     ]
    },
    {
     "name": "stderr",
     "output_type": "stream",
     "text": [
      "2021-09-13 02:42:59,184 - stpipe.Image2Pipeline.flat_field - INFO - Step flat_field running with args (<CubeModel(70, 256, 2048) from modified_jw88888001001_01101_00001_nrca1_rateints.fits>,).\n"
     ]
    },
    {
     "name": "stdout",
     "output_type": "stream",
     "text": [
      "[stpipe.Image2Pipeline.flat_field:INFO] Step flat_field running with args (<CubeModel(70, 256, 2048) from modified_jw88888001001_01101_00001_nrca1_rateints.fits>,).\n"
     ]
    },
    {
     "name": "stderr",
     "output_type": "stream",
     "text": [
      "2021-09-13 02:42:59,188 - stpipe.Image2Pipeline.flat_field - INFO - Step flat_field parameters are: {'pre_hooks': [], 'post_hooks': [], 'output_file': None, 'output_dir': None, 'output_ext': '.fits', 'output_use_model': False, 'output_use_index': True, 'save_results': False, 'skip': False, 'suffix': None, 'search_output_file': True, 'input_dir': '/fenrirdata1/kg_data/pipeline_output/Short_Transit_NRCA3', 'save_interpolated_flat': False, 'user_supplied_flat': None, 'inverse': False}\n"
     ]
    },
    {
     "name": "stdout",
     "output_type": "stream",
     "text": [
      "[stpipe.Image2Pipeline.flat_field:INFO] Step flat_field parameters are: {'pre_hooks': [], 'post_hooks': [], 'output_file': None, 'output_dir': None, 'output_ext': '.fits', 'output_use_model': False, 'output_use_index': True, 'save_results': False, 'skip': False, 'suffix': None, 'search_output_file': True, 'input_dir': '/fenrirdata1/kg_data/pipeline_output/Short_Transit_NRCA3', 'save_interpolated_flat': False, 'user_supplied_flat': None, 'inverse': False}\n",
      "[stdatamodels.util:DEBUG] Environmental \"STRICT_VALIDATION\" cannot be found. Using default value of \"False\".\n",
      "[stdatamodels.util:DEBUG] Environmental \"VALIDATE_ON_ASSIGNMENT\" cannot be found. Using default value of \"True\".\n",
      "[stpipe.Image2Pipeline.flat_field:DEBUG] Input is CubeModel of exposure type NRC_TSIMAGE\n",
      "[stdatamodels.util:DEBUG] Environmental \"STRICT_VALIDATION\" cannot be found. Using default value of \"False\".\n",
      "[stdatamodels.util:DEBUG] Environmental \"VALIDATE_ON_ASSIGNMENT\" cannot be found. Using default value of \"True\".\n",
      "[stdatamodels.util:DEBUG] Environmental \"STRICT_VALIDATION\" cannot be found. Using default value of \"False\".\n",
      "[stdatamodels.util:DEBUG] Environmental \"VALIDATE_ON_ASSIGNMENT\" cannot be found. Using default value of \"True\".\n",
      "[stdatamodels.util:DEBUG] Environmental \"STRICT_VALIDATION\" cannot be found. Using default value of \"False\".\n",
      "[stdatamodels.util:DEBUG] Environmental \"VALIDATE_ON_ASSIGNMENT\" cannot be found. Using default value of \"True\".\n",
      "[stdatamodels.util:DEBUG] Environmental \"STRICT_VALIDATION\" cannot be found. Using default value of \"False\".\n",
      "[stdatamodels.util:DEBUG] Environmental \"VALIDATE_ON_ASSIGNMENT\" cannot be found. Using default value of \"True\".\n",
      "[stdatamodels.util:DEBUG] Environmental \"STRICT_VALIDATION\" cannot be found. Using default value of \"False\".\n",
      "[stdatamodels.util:DEBUG] Environmental \"VALIDATE_ON_ASSIGNMENT\" cannot be found. Using default value of \"True\".\n",
      "[stdatamodels.util:DEBUG] Environmental \"SKIP_FITS_UPDATE\" cannot be found. Using default value of \"None\".\n",
      "[stdatamodels.fits_support:DEBUG] No ASDF information found. Cannot skip updating from FITS headers.\n",
      "[stpipe.Image2Pipeline.flat_field:DEBUG] Using FLAT reference file: /fenrirdata1/kg_data/crds_cache/references/jwst/nircam/jwst_nircam_flat_0349.fits\n",
      "[stpipe.Image2Pipeline.flat_field:DEBUG] No reference found for type FFLAT\n",
      "[stpipe.Image2Pipeline.flat_field:DEBUG] No reference found for type SFLAT\n",
      "[stpipe.Image2Pipeline.flat_field:DEBUG] No reference found for type DFLAT\n",
      "[stdatamodels.util:DEBUG] Environmental \"VALIDATE_ON_ASSIGNMENT\" cannot be found. Using default value of \"True\".\n",
      "[jwst.flatfield.flat_field:DEBUG] Flat field correction for non-NIRSpec modes.\n",
      "[jwst.lib.reffile_utils:DEBUG] ref substrt1=1, subsize1=2048, substrt2=1, subsize2=2048\n",
      "[jwst.lib.reffile_utils:DEBUG] sci substrt1=1, subsize1=2048, substrt2=1, subsize2=256\n",
      "[jwst.flatfield.flat_field:INFO] Extracting matching subarray from flat\n",
      "[jwst.lib.reffile_utils:DEBUG] slice xstart=0, xstop=2048, ystart=0, ystop=256\n",
      "[stdatamodels.util:DEBUG] Environmental \"STRICT_VALIDATION\" cannot be found. Using default value of \"False\".\n",
      "[stdatamodels.util:DEBUG] Environmental \"VALIDATE_ON_ASSIGNMENT\" cannot be found. Using default value of \"True\".\n"
     ]
    },
    {
     "name": "stderr",
     "output_type": "stream",
     "text": [
      "2021-09-13 02:43:01,020 - stpipe.Image2Pipeline.flat_field - INFO - Step flat_field done\n"
     ]
    },
    {
     "name": "stdout",
     "output_type": "stream",
     "text": [
      "[stpipe.Image2Pipeline.flat_field:INFO] Step flat_field done\n"
     ]
    },
    {
     "name": "stderr",
     "output_type": "stream",
     "text": [
      "2021-09-13 02:43:01,147 - stpipe.Image2Pipeline.photom - INFO - Step photom running with args (<CubeModel(70, 256, 2048) from modified_jw88888001001_01101_00001_nrca1_rateints.fits>,).\n"
     ]
    },
    {
     "name": "stdout",
     "output_type": "stream",
     "text": [
      "[stpipe.Image2Pipeline.photom:INFO] Step photom running with args (<CubeModel(70, 256, 2048) from modified_jw88888001001_01101_00001_nrca1_rateints.fits>,).\n"
     ]
    },
    {
     "name": "stderr",
     "output_type": "stream",
     "text": [
      "2021-09-13 02:43:01,152 - stpipe.Image2Pipeline.photom - INFO - Step photom parameters are: {'pre_hooks': [], 'post_hooks': [], 'output_file': None, 'output_dir': None, 'output_ext': '.fits', 'output_use_model': False, 'output_use_index': True, 'save_results': False, 'skip': False, 'suffix': None, 'search_output_file': True, 'input_dir': '/fenrirdata1/kg_data/pipeline_output/Short_Transit_NRCA3', 'inverse': False, 'source_type': None}\n"
     ]
    },
    {
     "name": "stdout",
     "output_type": "stream",
     "text": [
      "[stpipe.Image2Pipeline.photom:INFO] Step photom parameters are: {'pre_hooks': [], 'post_hooks': [], 'output_file': None, 'output_dir': None, 'output_ext': '.fits', 'output_use_model': False, 'output_use_index': True, 'save_results': False, 'skip': False, 'suffix': None, 'search_output_file': True, 'input_dir': '/fenrirdata1/kg_data/pipeline_output/Short_Transit_NRCA3', 'inverse': False, 'source_type': None}\n",
      "[stdatamodels.util:DEBUG] Environmental \"STRICT_VALIDATION\" cannot be found. Using default value of \"False\".\n",
      "[stdatamodels.util:DEBUG] Environmental \"VALIDATE_ON_ASSIGNMENT\" cannot be found. Using default value of \"True\".\n",
      "[stpipe.Image2Pipeline.photom:DEBUG] Input is CubeModel\n",
      "[stdatamodels.util:DEBUG] Environmental \"STRICT_VALIDATION\" cannot be found. Using default value of \"False\".\n",
      "[stdatamodels.util:DEBUG] Environmental \"VALIDATE_ON_ASSIGNMENT\" cannot be found. Using default value of \"True\".\n",
      "[stdatamodels.util:DEBUG] Environmental \"STRICT_VALIDATION\" cannot be found. Using default value of \"False\".\n",
      "[stdatamodels.util:DEBUG] Environmental \"VALIDATE_ON_ASSIGNMENT\" cannot be found. Using default value of \"True\".\n"
     ]
    },
    {
     "name": "stderr",
     "output_type": "stream",
     "text": [
      "2021-09-13 02:43:01,229 - stpipe.Image2Pipeline.photom - INFO - Using photom reference file: /fenrirdata1/kg_data/crds_cache/references/jwst/nircam/jwst_nircam_photom_0093.fits\n"
     ]
    },
    {
     "name": "stdout",
     "output_type": "stream",
     "text": [
      "[stpipe.Image2Pipeline.photom:INFO] Using photom reference file: /fenrirdata1/kg_data/crds_cache/references/jwst/nircam/jwst_nircam_photom_0093.fits\n"
     ]
    },
    {
     "name": "stderr",
     "output_type": "stream",
     "text": [
      "2021-09-13 02:43:01,231 - stpipe.Image2Pipeline.photom - INFO - Using area reference file: /fenrirdata1/kg_data/crds_cache/references/jwst/nircam/jwst_nircam_area_0031.fits\n"
     ]
    },
    {
     "name": "stdout",
     "output_type": "stream",
     "text": [
      "[stpipe.Image2Pipeline.photom:INFO] Using area reference file: /fenrirdata1/kg_data/crds_cache/references/jwst/nircam/jwst_nircam_area_0031.fits\n",
      "[stdatamodels.util:DEBUG] Environmental \"VALIDATE_ON_ASSIGNMENT\" cannot be found. Using default value of \"True\".\n",
      "[jwst.photom.photom:INFO] Using instrument: NIRCAM\n",
      "[jwst.photom.photom:INFO]  detector: NRCA3\n",
      "[jwst.photom.photom:INFO]  exp_type: NRC_TSIMAGE\n",
      "[jwst.photom.photom:INFO]  filter: F210M\n",
      "[jwst.photom.photom:INFO]  pupil: WLP8\n",
      "[jwst.datamodels.util:DEBUG] Opening /fenrirdata1/kg_data/crds_cache/references/jwst/nircam/jwst_nircam_photom_0093.fits as <class 'jwst.datamodels.photom.NrcImgPhotomModel'>\n",
      "[stdatamodels.util:DEBUG] Environmental \"STRICT_VALIDATION\" cannot be found. Using default value of \"False\".\n",
      "[stdatamodels.util:DEBUG] Environmental \"VALIDATE_ON_ASSIGNMENT\" cannot be found. Using default value of \"True\".\n",
      "[stdatamodels.util:DEBUG] Environmental \"SKIP_FITS_UPDATE\" cannot be found. Using default value of \"None\".\n",
      "[stdatamodels.fits_support:DEBUG] No ASDF information found. Cannot skip updating from FITS headers.\n",
      "[jwst.datamodels.util:DEBUG] Opening /fenrirdata1/kg_data/crds_cache/references/jwst/nircam/jwst_nircam_area_0031.fits as <class 'jwst.datamodels.pixelarea.PixelAreaModel'>\n",
      "[stdatamodels.util:DEBUG] Environmental \"STRICT_VALIDATION\" cannot be found. Using default value of \"False\".\n",
      "[stdatamodels.util:DEBUG] Environmental \"VALIDATE_ON_ASSIGNMENT\" cannot be found. Using default value of \"True\".\n",
      "[stdatamodels.util:DEBUG] Environmental \"SKIP_FITS_UPDATE\" cannot be found. Using default value of \"None\".\n",
      "[jwst.photom.photom:INFO] Pixel area map copied to output.\n",
      "[jwst.photom.photom:DEBUG] PIXAR_SR = 2.31281811651448e-14, PIXAR_A2 = 0.000983992406311346\n",
      "[jwst.photom.photom:DEBUG] Starting cal_nircam\n",
      "[jwst.photom.photom:INFO] PHOTMJSR value: 4.93778\n"
     ]
    },
    {
     "name": "stderr",
     "output_type": "stream",
     "text": [
      "2021-09-13 02:43:02,251 - stpipe.Image2Pipeline.photom - INFO - Step photom done\n"
     ]
    },
    {
     "name": "stdout",
     "output_type": "stream",
     "text": [
      "[stpipe.Image2Pipeline.photom:INFO] Step photom done\n"
     ]
    },
    {
     "name": "stderr",
     "output_type": "stream",
     "text": [
      "2021-09-13 02:43:02,254 - stpipe.Image2Pipeline - INFO - Finished processing product /fenrirdata1/kg_data/pipeline_output/Short_Transit_NRCA3/modified_jw88888001001_01101_00001_nrca1\n"
     ]
    },
    {
     "name": "stdout",
     "output_type": "stream",
     "text": [
      "[stpipe.Image2Pipeline:INFO] Finished processing product /fenrirdata1/kg_data/pipeline_output/Short_Transit_NRCA3/modified_jw88888001001_01101_00001_nrca1\n"
     ]
    },
    {
     "name": "stderr",
     "output_type": "stream",
     "text": [
      "2021-09-13 02:43:02,260 - stpipe.Image2Pipeline - INFO - ... ending calwebb_image2\n"
     ]
    },
    {
     "name": "stdout",
     "output_type": "stream",
     "text": [
      "[stpipe.Image2Pipeline:INFO] ... ending calwebb_image2\n"
     ]
    },
    {
     "name": "stderr",
     "output_type": "stream",
     "text": [
      "2021-09-13 02:43:03,394 - stpipe.Image2Pipeline - INFO - Saved model in /fenrirdata1/kg_data/pipeline_output/Short_Transit_NRCA3/modified_jw88888001001_01101_00001_nrca1_calints.fits\n"
     ]
    },
    {
     "name": "stdout",
     "output_type": "stream",
     "text": [
      "[stpipe.Image2Pipeline:INFO] Saved model in /fenrirdata1/kg_data/pipeline_output/Short_Transit_NRCA3/modified_jw88888001001_01101_00001_nrca1_calints.fits\n"
     ]
    },
    {
     "name": "stderr",
     "output_type": "stream",
     "text": [
      "2021-09-13 02:43:03,397 - stpipe.Image2Pipeline - INFO - Step Image2Pipeline done\n"
     ]
    },
    {
     "name": "stdout",
     "output_type": "stream",
     "text": [
      "[stpipe.Image2Pipeline:INFO] Step Image2Pipeline done\n"
     ]
    }
   ],
   "source": [
    "filename_stage2 = '/fenrirdata1/kg_data/pipeline_output/Short_Transit_NRCA3/modified_jw88888001001_01101_00001_nrca1_rateints.fits'\n",
    "\n",
    "# Instantiate the class. Do not provide a configuration file.\n",
    "pipeline_stage2 = Image2Pipeline()\n",
    "\n",
    "# Specify that you want results saved to a file\n",
    "pipeline_stage2.save_results = True\n",
    "pipeline_stage2.output_dir = '/fenrirdata1/kg_data/pipeline_output/Short_Transit_NRCA3/'\n",
    "\n",
    "# Execute the pipeline using the run method\n",
    "result_stage2 = pipeline_stage2.run(level2_asn)"
   ]
  },
  {
   "cell_type": "code",
   "execution_count": 7,
   "id": "palestinian-slope",
   "metadata": {
    "scrolled": true
   },
   "outputs": [
    {
     "name": "stdout",
     "output_type": "stream",
     "text": [
      "Filename: /fenrirdata1/kg_data/pipeline_output/Short_Transit_NRCA3/modified_jw88888001001_01101_00001_nrca1_calints.fits\n",
      "No.    Name      Ver    Type      Cards   Dimensions   Format\n",
      "  0  PRIMARY       1 PrimaryHDU     245   ()      \n",
      "  1  SCI           1 ImageHDU        70   (2048, 256, 70)   float32   \n",
      "  2  ERR           1 ImageHDU        11   (2048, 256, 70)   float32   \n",
      "  3  DQ            1 ImageHDU        12   (2048, 256, 70)   int32 (rescales to uint32)   \n",
      "  4  AREA          1 ImageHDU         9   (2048, 2048)   float32   \n",
      "  5  INT_TIMES     1 BinTableHDU     24   70R x 7C   [J, D, D, D, D, D, D]   \n",
      "  6  VAR_POISSON    1 ImageHDU        10   (2048, 256, 70)   float32   \n",
      "  7  VAR_RNOISE    1 ImageHDU        10   (2048, 256, 70)   float32   \n",
      "  8  VAR_FLAT      1 ImageHDU        10   (2048, 256, 70)   float32   \n",
      "  9  ASDF          1 BinTableHDU     11   1R x 1C   [17059B]   \n"
     ]
    }
   ],
   "source": [
    "#print the results from stage 2 (ensure that they exist)\n",
    "HDUList_stage2= fits.open('/fenrirdata1/kg_data/pipeline_output/Short_Transit_NRCA3/modified_jw88888001001_01101_00001_nrca1_calints.fits')\n",
    "HDUList_stage2.info()"
   ]
  },
  {
   "cell_type": "code",
   "execution_count": 8,
   "id": "tutorial-resistance",
   "metadata": {},
   "outputs": [],
   "source": [
    "#generate an association file required for stage 3\n",
    "asn_dir = '/fenrirdata1/kg_data/pipeline_output/Short_Transit_NRCA3/'\n",
    "level3_asn = (os.path.join(asn_dir, 'level3_asn.json'))\n",
    "asn_stage3 = asn_from_list(['/fenrirdata1/kg_data/pipeline_output/Short_Transit_NRCA3/modified_jw88888001001_01101_00001_nrca1_calints.fits'], product_name ='modified_test_level3')\n",
    "with open(level3_asn, 'w') as fh:\n",
    "   fh.write(asn_stage3.dump()[1])"
   ]
  },
  {
   "cell_type": "markdown",
   "id": "intimate-leeds",
   "metadata": {},
   "source": [
    "# Stage 3\n",
    "### Applies level 3 processing to TSO-mode data from\n",
    "Stage 3 processing consists of routines that work with multiple exposures and in most cases produce some kind of combined product. There are unique pipeline modules for stage 3 processing of imaging, spectroscopic, coronagraphic, AMI, and TSO observations. \n",
    "\n",
    "#### Tso3Pipeline:\n",
    "The stage 3 TSO pipeline is to be applied to associations of calibrated TSO exposures (e.g. NIRCam TS imaging, NIRCam TS grism, NIRISS SOSS, NIRSpec BrightObj, MIRI LRS Slitless) and is used to produce calibrated time-series photometry or spectra of the source object. This is a pipeline customized for TSO data. Grism TSO data undergo outlier detection (essentially a check for any cosmic rays/transient effects that were missed in Detector1Pipeline), background subtraction, spectral extraction, and photometry. Imaging TSO data are run through outlier detection, and photometry is performed."
   ]
  },
  {
   "cell_type": "markdown",
   "id": "official-advocacy",
   "metadata": {},
   "source": [
    "## TSO Photometry Reference File: Radii Parameters"
   ]
  },
  {
   "cell_type": "code",
   "execution_count": 9,
   "id": "extended-behalf",
   "metadata": {},
   "outputs": [
    {
     "data": {
      "text/plain": [
       "{'asdf_library': {'author': 'Space Telescope Science Institute',\n",
       "  'homepage': 'http://github.com/spacetelescope/asdf',\n",
       "  'name': 'asdf',\n",
       "  'version': '2.7.2'},\n",
       " 'history': {'entries': [{'description': 'File created based on values of aperture radii for NIRCam that were specified as constants in tso_photometry_step.py.',\n",
       "    'time': datetime.datetime(2018, 7, 13, 17, 20, 5)}],\n",
       "  'extensions': [{'extension_class': 'asdf.extension.BuiltinExtension',\n",
       "    'software': {'name': 'asdf', 'version': '2.7.2'}},\n",
       "   {'extension_class': 'astropy.io.misc.asdf.extension.AstropyAsdfExtension',\n",
       "    'software': {'name': 'astropy', 'version': '4.2.1'}},\n",
       "   {'extension_class': 'gwcs.extension.GWCSExtension',\n",
       "    'software': {'name': 'gwcs', 'version': '0.16.1'}},\n",
       "   {'extension_class': 'astropy.io.misc.asdf.extension.AstropyExtension',\n",
       "    'software': {'name': 'astropy', 'version': '4.2.1'}}]},\n",
       " 'meta': {'author': 'NIRCam IDT; P. Hodge',\n",
       "  'date': '2018-07-13T17:20:00',\n",
       "  'description': 'aperture radii for tso_photometry',\n",
       "  'exposure': {'type': 'NRC_TSIMAGE'},\n",
       "  'filename': 'nircam_tsophot.asdf',\n",
       "  'instrument': {'name': 'NIRCAM'},\n",
       "  'model_type': 'TsoPhotModel',\n",
       "  'pedigree': 'GROUND',\n",
       "  'reftype': 'tsophot',\n",
       "  'telescope': 'JWST',\n",
       "  'useafter': '2015-01-01T00:00:00',\n",
       "  'visit': {'tsovisit': True}},\n",
       " 'radii': [{'pupil': 'WLP8',\n",
       "   'radius': 50.0,\n",
       "   'radius_inner': 50.0,\n",
       "   'radius_outer': 62.0},\n",
       "  {'pupil': 'ANY', 'radius': 3.0, 'radius_inner': 4.0, 'radius_outer': 5.0}]}"
      ]
     },
     "execution_count": 9,
     "metadata": {},
     "output_type": "execute_result"
    }
   ],
   "source": [
    "original_tsophot=asdf.open(\"/fenrirdata1/kg_data/crds_cache/references/jwst/nircam/jwst_nircam_tsophot_0001.asdf\") #the original tsophot reference file\n",
    "original_tsophot.tree #print the original tsophot reference file\n",
    "\n",
    "#adjust the radii parameters\n",
    "original_tsophot.tree['radii'] = [{'pupil': 'WLP8',\n",
    "   'radius': 50.0,\n",
    "   'radius_inner': 50.0,\n",
    "   'radius_outer': 62.0}, #For this particular data set, the outer radius limit is 62 due to edge effects on detector\n",
    "  {'pupil': 'ANY', 'radius': 3.0, 'radius_inner': 4.0, 'radius_outer': 5.0}]\n",
    "original_tsophot.write_to('adjusted_jwst_nircam_tsophot_0001.asdf')\n",
    "adjusted_tsophot=asdf.open('adjusted_jwst_nircam_tsophot_0001.asdf') #the adjusted tsophot reference file\n",
    "adjusted_tsophot.tree #print the adjusted tsophot reference file"
   ]
  },
  {
   "cell_type": "code",
   "execution_count": 18,
   "id": "superior-suffering",
   "metadata": {
    "scrolled": true
   },
   "outputs": [
    {
     "name": "stderr",
     "output_type": "stream",
     "text": [
      "2021-09-14 15:31:08,772 - stpipe.Tso3Pipeline - INFO - Tso3Pipeline instance created.\n"
     ]
    },
    {
     "name": "stdout",
     "output_type": "stream",
     "text": [
      "[stpipe.Tso3Pipeline:INFO] Tso3Pipeline instance created.\n"
     ]
    },
    {
     "name": "stderr",
     "output_type": "stream",
     "text": [
      "2021-09-14 15:31:08,781 - stpipe.Tso3Pipeline.outlier_detection - INFO - OutlierDetectionStep instance created.\n"
     ]
    },
    {
     "name": "stdout",
     "output_type": "stream",
     "text": [
      "[stpipe.Tso3Pipeline.outlier_detection:INFO] OutlierDetectionStep instance created.\n"
     ]
    },
    {
     "name": "stderr",
     "output_type": "stream",
     "text": [
      "2021-09-14 15:31:08,787 - stpipe.Tso3Pipeline.tso_photometry - INFO - TSOPhotometryStep instance created.\n"
     ]
    },
    {
     "name": "stdout",
     "output_type": "stream",
     "text": [
      "[stpipe.Tso3Pipeline.tso_photometry:INFO] TSOPhotometryStep instance created.\n"
     ]
    },
    {
     "name": "stderr",
     "output_type": "stream",
     "text": [
      "2021-09-14 15:31:08,793 - stpipe.Tso3Pipeline.extract_1d - INFO - Extract1dStep instance created.\n"
     ]
    },
    {
     "name": "stdout",
     "output_type": "stream",
     "text": [
      "[stpipe.Tso3Pipeline.extract_1d:INFO] Extract1dStep instance created.\n"
     ]
    },
    {
     "name": "stderr",
     "output_type": "stream",
     "text": [
      "2021-09-14 15:31:08,800 - stpipe.Tso3Pipeline.white_light - INFO - WhiteLightStep instance created.\n"
     ]
    },
    {
     "name": "stdout",
     "output_type": "stream",
     "text": [
      "[stpipe.Tso3Pipeline.white_light:INFO] WhiteLightStep instance created.\n"
     ]
    },
    {
     "name": "stderr",
     "output_type": "stream",
     "text": [
      "2021-09-14 15:31:09,004 - stpipe.Tso3Pipeline - INFO - Step Tso3Pipeline running with args ('/fenrirdata1/kg_data/pipeline_output/Short_Transit_NRCA3/level3_asn.json',).\n"
     ]
    },
    {
     "name": "stdout",
     "output_type": "stream",
     "text": [
      "[stpipe.Tso3Pipeline:INFO] Step Tso3Pipeline running with args ('/fenrirdata1/kg_data/pipeline_output/Short_Transit_NRCA3/level3_asn.json',).\n"
     ]
    },
    {
     "name": "stderr",
     "output_type": "stream",
     "text": [
      "2021-09-14 15:31:09,016 - stpipe.Tso3Pipeline - INFO - Step Tso3Pipeline parameters are: {'pre_hooks': [], 'post_hooks': [], 'output_file': None, 'output_dir': '/fenrirdata1/kg_data/pipeline_output/Short_Transit_NRCA3/', 'output_ext': '.fits', 'output_use_model': False, 'output_use_index': True, 'save_results': True, 'skip': False, 'suffix': None, 'search_output_file': True, 'input_dir': '', 'scale_detection': False, 'steps': {'outlier_detection': {'pre_hooks': [], 'post_hooks': [], 'output_file': None, 'output_dir': None, 'output_ext': '.fits', 'output_use_model': False, 'output_use_index': True, 'save_results': False, 'skip': True, 'suffix': None, 'search_output_file': False, 'input_dir': '', 'weight_type': 'ivm', 'pixfrac': 1.0, 'kernel': 'square', 'fillval': 'INDEF', 'nlow': 0, 'nhigh': 0, 'maskpt': 0.7, 'grow': 1, 'snr': '5.0 4.0', 'scale': '1.2 0.7', 'backg': 0.0, 'save_intermediate_results': False, 'resample_data': True, 'good_bits': '~DO_NOT_USE', 'scale_detection': False, 'allowed_memory': None}, 'tso_photometry': {'pre_hooks': [], 'post_hooks': [], 'output_file': None, 'output_dir': None, 'output_ext': '.fits', 'output_use_model': False, 'output_use_index': True, 'save_results': False, 'skip': False, 'suffix': None, 'search_output_file': True, 'input_dir': '', 'save_catalog': False}, 'extract_1d': {'pre_hooks': [], 'post_hooks': [], 'output_file': None, 'output_dir': None, 'output_ext': '.fits', 'output_use_model': False, 'output_use_index': True, 'save_results': False, 'skip': False, 'suffix': None, 'search_output_file': True, 'input_dir': '', 'smoothing_length': None, 'bkg_fit': 'poly', 'bkg_order': None, 'bkg_sigma_clip': 3.0, 'log_increment': 50, 'subtract_background': None, 'use_source_posn': None, 'apply_apcorr': True}, 'white_light': {'pre_hooks': [], 'post_hooks': [], 'output_file': None, 'output_dir': None, 'output_ext': '.ecsv', 'output_use_model': False, 'output_use_index': True, 'save_results': False, 'skip': False, 'suffix': 'whtlt', 'search_output_file': True, 'input_dir': '', 'min_wavelength': None, 'max_wavelength': None}}}\n"
     ]
    },
    {
     "name": "stdout",
     "output_type": "stream",
     "text": [
      "[stpipe.Tso3Pipeline:INFO] Step Tso3Pipeline parameters are: {'pre_hooks': [], 'post_hooks': [], 'output_file': None, 'output_dir': '/fenrirdata1/kg_data/pipeline_output/Short_Transit_NRCA3/', 'output_ext': '.fits', 'output_use_model': False, 'output_use_index': True, 'save_results': True, 'skip': False, 'suffix': None, 'search_output_file': True, 'input_dir': '', 'scale_detection': False, 'steps': {'outlier_detection': {'pre_hooks': [], 'post_hooks': [], 'output_file': None, 'output_dir': None, 'output_ext': '.fits', 'output_use_model': False, 'output_use_index': True, 'save_results': False, 'skip': True, 'suffix': None, 'search_output_file': False, 'input_dir': '', 'weight_type': 'ivm', 'pixfrac': 1.0, 'kernel': 'square', 'fillval': 'INDEF', 'nlow': 0, 'nhigh': 0, 'maskpt': 0.7, 'grow': 1, 'snr': '5.0 4.0', 'scale': '1.2 0.7', 'backg': 0.0, 'save_intermediate_results': False, 'resample_data': True, 'good_bits': '~DO_NOT_USE', 'scale_detection': False, 'allowed_memory': None}, 'tso_photometry': {'pre_hooks': [], 'post_hooks': [], 'output_file': None, 'output_dir': None, 'output_ext': '.fits', 'output_use_model': False, 'output_use_index': True, 'save_results': False, 'skip': False, 'suffix': None, 'search_output_file': True, 'input_dir': '', 'save_catalog': False}, 'extract_1d': {'pre_hooks': [], 'post_hooks': [], 'output_file': None, 'output_dir': None, 'output_ext': '.fits', 'output_use_model': False, 'output_use_index': True, 'save_results': False, 'skip': False, 'suffix': None, 'search_output_file': True, 'input_dir': '', 'smoothing_length': None, 'bkg_fit': 'poly', 'bkg_order': None, 'bkg_sigma_clip': 3.0, 'log_increment': 50, 'subtract_background': None, 'use_source_posn': None, 'apply_apcorr': True}, 'white_light': {'pre_hooks': [], 'post_hooks': [], 'output_file': None, 'output_dir': None, 'output_ext': '.ecsv', 'output_use_model': False, 'output_use_index': True, 'save_results': False, 'skip': False, 'suffix': 'whtlt', 'search_output_file': True, 'input_dir': '', 'min_wavelength': None, 'max_wavelength': None}}}\n",
      "[stdatamodels.util:DEBUG] Environmental \"STRICT_VALIDATION\" cannot be found. Using default value of \"False\".\n",
      "[stdatamodels.util:DEBUG] Environmental \"VALIDATE_ON_ASSIGNMENT\" cannot be found. Using default value of \"True\".\n",
      "[jwst.datamodels.container:DEBUG] Filtering datasets based on allowed exptypes ['science']:\n",
      "[jwst.datamodels.container:DEBUG] Files accepted for processing /fenrirdata1/kg_data/pipeline_output/Short_Transit_NRCA3/modified_jw88888001001_01101_00001_nrca1_calints.fits:\n",
      "[jwst.datamodels.util:DEBUG] Opening /fenrirdata1/kg_data/pipeline_output/Short_Transit_NRCA3/modified_jw88888001001_01101_00001_nrca1_calints.fits as <class 'jwst.datamodels.cube.CubeModel'>\n",
      "[stdatamodels.util:DEBUG] Environmental \"STRICT_VALIDATION\" cannot be found. Using default value of \"False\".\n",
      "[stdatamodels.util:DEBUG] Environmental \"VALIDATE_ON_ASSIGNMENT\" cannot be found. Using default value of \"True\".\n",
      "[stdatamodels.util:DEBUG] Environmental \"SKIP_FITS_UPDATE\" cannot be found. Using default value of \"None\".\n",
      "[stdatamodels.fits_support:DEBUG] FITS hash matches. Skipping FITS updating.\n",
      "[stdatamodels.fits_support:DEBUG] Skipping FITS keyword updating except for BinTableHDU and its associated header keywords.\n"
     ]
    },
    {
     "name": "stderr",
     "output_type": "stream",
     "text": [
      "2021-09-14 15:31:10,996 - stpipe.Tso3Pipeline - INFO - Prefetching reference files for dataset: 'modified_jw88888001001_01101_00001_nrca1_calints.fits' reftypes = ['gain', 'readnoise']\n"
     ]
    },
    {
     "name": "stdout",
     "output_type": "stream",
     "text": [
      "[stpipe.Tso3Pipeline:INFO] Prefetching reference files for dataset: 'modified_jw88888001001_01101_00001_nrca1_calints.fits' reftypes = ['gain', 'readnoise']\n"
     ]
    },
    {
     "name": "stderr",
     "output_type": "stream",
     "text": [
      "2021-09-14 15:31:11,010 - stpipe.Tso3Pipeline - INFO - Prefetch for GAIN reference file is '/fenrirdata1/kg_data/crds_cache/references/jwst/nircam/jwst_nircam_gain_0048.fits'.\n"
     ]
    },
    {
     "name": "stdout",
     "output_type": "stream",
     "text": [
      "[stpipe.Tso3Pipeline:INFO] Prefetch for GAIN reference file is '/fenrirdata1/kg_data/crds_cache/references/jwst/nircam/jwst_nircam_gain_0048.fits'.\n"
     ]
    },
    {
     "name": "stderr",
     "output_type": "stream",
     "text": [
      "2021-09-14 15:31:11,012 - stpipe.Tso3Pipeline - INFO - Prefetch for READNOISE reference file is '/fenrirdata1/kg_data/crds_cache/references/jwst/nircam/jwst_nircam_readnoise_0030.fits'.\n"
     ]
    },
    {
     "name": "stdout",
     "output_type": "stream",
     "text": [
      "[stpipe.Tso3Pipeline:INFO] Prefetch for READNOISE reference file is '/fenrirdata1/kg_data/crds_cache/references/jwst/nircam/jwst_nircam_readnoise_0030.fits'.\n"
     ]
    },
    {
     "name": "stderr",
     "output_type": "stream",
     "text": [
      "2021-09-14 15:31:11,015 - stpipe.Tso3Pipeline - INFO - Starting calwebb_tso3...\n"
     ]
    },
    {
     "name": "stdout",
     "output_type": "stream",
     "text": [
      "[stpipe.Tso3Pipeline:INFO] Starting calwebb_tso3...\n",
      "[stdatamodels.util:DEBUG] Environmental \"STRICT_VALIDATION\" cannot be found. Using default value of \"False\".\n",
      "[stdatamodels.util:DEBUG] Environmental \"VALIDATE_ON_ASSIGNMENT\" cannot be found. Using default value of \"True\".\n",
      "[jwst.datamodels.container:DEBUG] Filtering datasets based on allowed exptypes ['science']:\n",
      "[jwst.datamodels.container:DEBUG] Files accepted for processing /fenrirdata1/kg_data/pipeline_output/Short_Transit_NRCA3/modified_jw88888001001_01101_00001_nrca1_calints.fits:\n",
      "[jwst.datamodels.util:DEBUG] Opening /fenrirdata1/kg_data/pipeline_output/Short_Transit_NRCA3/modified_jw88888001001_01101_00001_nrca1_calints.fits as <class 'jwst.datamodels.cube.CubeModel'>\n",
      "[stdatamodels.util:DEBUG] Environmental \"STRICT_VALIDATION\" cannot be found. Using default value of \"False\".\n",
      "[stdatamodels.util:DEBUG] Environmental \"VALIDATE_ON_ASSIGNMENT\" cannot be found. Using default value of \"True\".\n",
      "[stdatamodels.util:DEBUG] Environmental \"SKIP_FITS_UPDATE\" cannot be found. Using default value of \"None\".\n",
      "[stdatamodels.fits_support:DEBUG] FITS hash matches. Skipping FITS updating.\n",
      "[stdatamodels.fits_support:DEBUG] Skipping FITS keyword updating except for BinTableHDU and its associated header keywords.\n",
      "[stdatamodels.util:DEBUG] Environmental \"STRICT_VALIDATION\" cannot be found. Using default value of \"False\".\n",
      "[stdatamodels.util:DEBUG] Environmental \"VALIDATE_ON_ASSIGNMENT\" cannot be found. Using default value of \"True\".\n",
      "[stdatamodels.util:DEBUG] Environmental \"STRICT_VALIDATION\" cannot be found. Using default value of \"False\".\n",
      "[stdatamodels.util:DEBUG] Environmental \"VALIDATE_ON_ASSIGNMENT\" cannot be found. Using default value of \"True\".\n",
      "[stdatamodels.util:DEBUG] Environmental \"STRICT_VALIDATION\" cannot be found. Using default value of \"False\".\n",
      "[stdatamodels.util:DEBUG] Environmental \"VALIDATE_ON_ASSIGNMENT\" cannot be found. Using default value of \"True\".\n",
      "[stdatamodels.util:DEBUG] Environmental \"STRICT_VALIDATION\" cannot be found. Using default value of \"False\".\n",
      "[stdatamodels.util:DEBUG] Environmental \"VALIDATE_ON_ASSIGNMENT\" cannot be found. Using default value of \"True\".\n",
      "[stdatamodels.util:DEBUG] Environmental \"STRICT_VALIDATION\" cannot be found. Using default value of \"False\".\n",
      "[stdatamodels.util:DEBUG] Environmental \"VALIDATE_ON_ASSIGNMENT\" cannot be found. Using default value of \"True\".\n",
      "[stdatamodels.util:DEBUG] Environmental \"STRICT_VALIDATION\" cannot be found. Using default value of \"False\".\n",
      "[stdatamodels.util:DEBUG] Environmental \"VALIDATE_ON_ASSIGNMENT\" cannot be found. Using default value of \"True\".\n",
      "[stdatamodels.util:DEBUG] Environmental \"STRICT_VALIDATION\" cannot be found. Using default value of \"False\".\n",
      "[stdatamodels.util:DEBUG] Environmental \"VALIDATE_ON_ASSIGNMENT\" cannot be found. Using default value of \"True\".\n",
      "[stdatamodels.util:DEBUG] Environmental \"STRICT_VALIDATION\" cannot be found. Using default value of \"False\".\n",
      "[stdatamodels.util:DEBUG] Environmental \"VALIDATE_ON_ASSIGNMENT\" cannot be found. Using default value of \"True\".\n",
      "[stdatamodels.util:DEBUG] Environmental \"STRICT_VALIDATION\" cannot be found. Using default value of \"False\".\n",
      "[stdatamodels.util:DEBUG] Environmental \"VALIDATE_ON_ASSIGNMENT\" cannot be found. Using default value of \"True\".\n",
      "[stdatamodels.util:DEBUG] Environmental \"STRICT_VALIDATION\" cannot be found. Using default value of \"False\".\n",
      "[stdatamodels.util:DEBUG] Environmental \"VALIDATE_ON_ASSIGNMENT\" cannot be found. Using default value of \"True\".\n",
      "[stdatamodels.util:DEBUG] Environmental \"STRICT_VALIDATION\" cannot be found. Using default value of \"False\".\n",
      "[stdatamodels.util:DEBUG] Environmental \"VALIDATE_ON_ASSIGNMENT\" cannot be found. Using default value of \"True\".\n",
      "[stdatamodels.util:DEBUG] Environmental \"STRICT_VALIDATION\" cannot be found. Using default value of \"False\".\n",
      "[stdatamodels.util:DEBUG] Environmental \"VALIDATE_ON_ASSIGNMENT\" cannot be found. Using default value of \"True\".\n",
      "[stdatamodels.util:DEBUG] Environmental \"STRICT_VALIDATION\" cannot be found. Using default value of \"False\".\n",
      "[stdatamodels.util:DEBUG] Environmental \"VALIDATE_ON_ASSIGNMENT\" cannot be found. Using default value of \"True\".\n",
      "[stdatamodels.util:DEBUG] Environmental \"STRICT_VALIDATION\" cannot be found. Using default value of \"False\".\n",
      "[stdatamodels.util:DEBUG] Environmental \"VALIDATE_ON_ASSIGNMENT\" cannot be found. Using default value of \"True\".\n",
      "[stdatamodels.util:DEBUG] Environmental \"STRICT_VALIDATION\" cannot be found. Using default value of \"False\".\n",
      "[stdatamodels.util:DEBUG] Environmental \"VALIDATE_ON_ASSIGNMENT\" cannot be found. Using default value of \"True\".\n",
      "[stdatamodels.util:DEBUG] Environmental \"STRICT_VALIDATION\" cannot be found. Using default value of \"False\".\n",
      "[stdatamodels.util:DEBUG] Environmental \"VALIDATE_ON_ASSIGNMENT\" cannot be found. Using default value of \"True\".\n",
      "[stdatamodels.util:DEBUG] Environmental \"STRICT_VALIDATION\" cannot be found. Using default value of \"False\".\n",
      "[stdatamodels.util:DEBUG] Environmental \"VALIDATE_ON_ASSIGNMENT\" cannot be found. Using default value of \"True\".\n",
      "[stdatamodels.util:DEBUG] Environmental \"STRICT_VALIDATION\" cannot be found. Using default value of \"False\".\n",
      "[stdatamodels.util:DEBUG] Environmental \"VALIDATE_ON_ASSIGNMENT\" cannot be found. Using default value of \"True\".\n",
      "[stdatamodels.util:DEBUG] Environmental \"STRICT_VALIDATION\" cannot be found. Using default value of \"False\".\n",
      "[stdatamodels.util:DEBUG] Environmental \"VALIDATE_ON_ASSIGNMENT\" cannot be found. Using default value of \"True\".\n",
      "[stdatamodels.util:DEBUG] Environmental \"STRICT_VALIDATION\" cannot be found. Using default value of \"False\".\n",
      "[stdatamodels.util:DEBUG] Environmental \"VALIDATE_ON_ASSIGNMENT\" cannot be found. Using default value of \"True\".\n",
      "[stdatamodels.util:DEBUG] Environmental \"STRICT_VALIDATION\" cannot be found. Using default value of \"False\".\n",
      "[stdatamodels.util:DEBUG] Environmental \"VALIDATE_ON_ASSIGNMENT\" cannot be found. Using default value of \"True\".\n",
      "[stdatamodels.util:DEBUG] Environmental \"STRICT_VALIDATION\" cannot be found. Using default value of \"False\".\n",
      "[stdatamodels.util:DEBUG] Environmental \"VALIDATE_ON_ASSIGNMENT\" cannot be found. Using default value of \"True\".\n",
      "[stdatamodels.util:DEBUG] Environmental \"STRICT_VALIDATION\" cannot be found. Using default value of \"False\".\n",
      "[stdatamodels.util:DEBUG] Environmental \"VALIDATE_ON_ASSIGNMENT\" cannot be found. Using default value of \"True\".\n",
      "[stdatamodels.util:DEBUG] Environmental \"STRICT_VALIDATION\" cannot be found. Using default value of \"False\".\n",
      "[stdatamodels.util:DEBUG] Environmental \"VALIDATE_ON_ASSIGNMENT\" cannot be found. Using default value of \"True\".\n",
      "[stdatamodels.util:DEBUG] Environmental \"STRICT_VALIDATION\" cannot be found. Using default value of \"False\".\n",
      "[stdatamodels.util:DEBUG] Environmental \"VALIDATE_ON_ASSIGNMENT\" cannot be found. Using default value of \"True\".\n",
      "[stdatamodels.util:DEBUG] Environmental \"STRICT_VALIDATION\" cannot be found. Using default value of \"False\".\n",
      "[stdatamodels.util:DEBUG] Environmental \"VALIDATE_ON_ASSIGNMENT\" cannot be found. Using default value of \"True\".\n",
      "[stdatamodels.util:DEBUG] Environmental \"STRICT_VALIDATION\" cannot be found. Using default value of \"False\".\n",
      "[stdatamodels.util:DEBUG] Environmental \"VALIDATE_ON_ASSIGNMENT\" cannot be found. Using default value of \"True\".\n",
      "[stdatamodels.util:DEBUG] Environmental \"STRICT_VALIDATION\" cannot be found. Using default value of \"False\".\n",
      "[stdatamodels.util:DEBUG] Environmental \"VALIDATE_ON_ASSIGNMENT\" cannot be found. Using default value of \"True\".\n",
      "[stdatamodels.util:DEBUG] Environmental \"STRICT_VALIDATION\" cannot be found. Using default value of \"False\".\n",
      "[stdatamodels.util:DEBUG] Environmental \"VALIDATE_ON_ASSIGNMENT\" cannot be found. Using default value of \"True\".\n",
      "[stdatamodels.util:DEBUG] Environmental \"STRICT_VALIDATION\" cannot be found. Using default value of \"False\".\n",
      "[stdatamodels.util:DEBUG] Environmental \"VALIDATE_ON_ASSIGNMENT\" cannot be found. Using default value of \"True\".\n",
      "[stdatamodels.util:DEBUG] Environmental \"STRICT_VALIDATION\" cannot be found. Using default value of \"False\".\n",
      "[stdatamodels.util:DEBUG] Environmental \"VALIDATE_ON_ASSIGNMENT\" cannot be found. Using default value of \"True\".\n",
      "[stdatamodels.util:DEBUG] Environmental \"STRICT_VALIDATION\" cannot be found. Using default value of \"False\".\n"
     ]
    },
    {
     "name": "stdout",
     "output_type": "stream",
     "text": [
      "[stdatamodels.util:DEBUG] Environmental \"VALIDATE_ON_ASSIGNMENT\" cannot be found. Using default value of \"True\".\n",
      "[stdatamodels.util:DEBUG] Environmental \"STRICT_VALIDATION\" cannot be found. Using default value of \"False\".\n",
      "[stdatamodels.util:DEBUG] Environmental \"VALIDATE_ON_ASSIGNMENT\" cannot be found. Using default value of \"True\".\n",
      "[stdatamodels.util:DEBUG] Environmental \"STRICT_VALIDATION\" cannot be found. Using default value of \"False\".\n",
      "[stdatamodels.util:DEBUG] Environmental \"VALIDATE_ON_ASSIGNMENT\" cannot be found. Using default value of \"True\".\n",
      "[stdatamodels.util:DEBUG] Environmental \"STRICT_VALIDATION\" cannot be found. Using default value of \"False\".\n",
      "[stdatamodels.util:DEBUG] Environmental \"VALIDATE_ON_ASSIGNMENT\" cannot be found. Using default value of \"True\".\n",
      "[stdatamodels.util:DEBUG] Environmental \"STRICT_VALIDATION\" cannot be found. Using default value of \"False\".\n",
      "[stdatamodels.util:DEBUG] Environmental \"VALIDATE_ON_ASSIGNMENT\" cannot be found. Using default value of \"True\".\n",
      "[stdatamodels.util:DEBUG] Environmental \"STRICT_VALIDATION\" cannot be found. Using default value of \"False\".\n",
      "[stdatamodels.util:DEBUG] Environmental \"VALIDATE_ON_ASSIGNMENT\" cannot be found. Using default value of \"True\".\n",
      "[stdatamodels.util:DEBUG] Environmental \"STRICT_VALIDATION\" cannot be found. Using default value of \"False\".\n",
      "[stdatamodels.util:DEBUG] Environmental \"VALIDATE_ON_ASSIGNMENT\" cannot be found. Using default value of \"True\".\n",
      "[stdatamodels.util:DEBUG] Environmental \"STRICT_VALIDATION\" cannot be found. Using default value of \"False\".\n",
      "[stdatamodels.util:DEBUG] Environmental \"VALIDATE_ON_ASSIGNMENT\" cannot be found. Using default value of \"True\".\n",
      "[stdatamodels.util:DEBUG] Environmental \"STRICT_VALIDATION\" cannot be found. Using default value of \"False\".\n",
      "[stdatamodels.util:DEBUG] Environmental \"VALIDATE_ON_ASSIGNMENT\" cannot be found. Using default value of \"True\".\n",
      "[stdatamodels.util:DEBUG] Environmental \"STRICT_VALIDATION\" cannot be found. Using default value of \"False\".\n",
      "[stdatamodels.util:DEBUG] Environmental \"VALIDATE_ON_ASSIGNMENT\" cannot be found. Using default value of \"True\".\n",
      "[stdatamodels.util:DEBUG] Environmental \"STRICT_VALIDATION\" cannot be found. Using default value of \"False\".\n",
      "[stdatamodels.util:DEBUG] Environmental \"VALIDATE_ON_ASSIGNMENT\" cannot be found. Using default value of \"True\".\n",
      "[stdatamodels.util:DEBUG] Environmental \"STRICT_VALIDATION\" cannot be found. Using default value of \"False\".\n",
      "[stdatamodels.util:DEBUG] Environmental \"VALIDATE_ON_ASSIGNMENT\" cannot be found. Using default value of \"True\".\n",
      "[stdatamodels.util:DEBUG] Environmental \"STRICT_VALIDATION\" cannot be found. Using default value of \"False\".\n",
      "[stdatamodels.util:DEBUG] Environmental \"VALIDATE_ON_ASSIGNMENT\" cannot be found. Using default value of \"True\".\n",
      "[stdatamodels.util:DEBUG] Environmental \"STRICT_VALIDATION\" cannot be found. Using default value of \"False\".\n",
      "[stdatamodels.util:DEBUG] Environmental \"VALIDATE_ON_ASSIGNMENT\" cannot be found. Using default value of \"True\".\n",
      "[stdatamodels.util:DEBUG] Environmental \"STRICT_VALIDATION\" cannot be found. Using default value of \"False\".\n",
      "[stdatamodels.util:DEBUG] Environmental \"VALIDATE_ON_ASSIGNMENT\" cannot be found. Using default value of \"True\".\n",
      "[stdatamodels.util:DEBUG] Environmental \"STRICT_VALIDATION\" cannot be found. Using default value of \"False\".\n",
      "[stdatamodels.util:DEBUG] Environmental \"VALIDATE_ON_ASSIGNMENT\" cannot be found. Using default value of \"True\".\n",
      "[stdatamodels.util:DEBUG] Environmental \"STRICT_VALIDATION\" cannot be found. Using default value of \"False\".\n",
      "[stdatamodels.util:DEBUG] Environmental \"VALIDATE_ON_ASSIGNMENT\" cannot be found. Using default value of \"True\".\n",
      "[stdatamodels.util:DEBUG] Environmental \"STRICT_VALIDATION\" cannot be found. Using default value of \"False\".\n",
      "[stdatamodels.util:DEBUG] Environmental \"VALIDATE_ON_ASSIGNMENT\" cannot be found. Using default value of \"True\".\n",
      "[stdatamodels.util:DEBUG] Environmental \"STRICT_VALIDATION\" cannot be found. Using default value of \"False\".\n",
      "[stdatamodels.util:DEBUG] Environmental \"VALIDATE_ON_ASSIGNMENT\" cannot be found. Using default value of \"True\".\n",
      "[stdatamodels.util:DEBUG] Environmental \"STRICT_VALIDATION\" cannot be found. Using default value of \"False\".\n",
      "[stdatamodels.util:DEBUG] Environmental \"VALIDATE_ON_ASSIGNMENT\" cannot be found. Using default value of \"True\".\n",
      "[stdatamodels.util:DEBUG] Environmental \"STRICT_VALIDATION\" cannot be found. Using default value of \"False\".\n",
      "[stdatamodels.util:DEBUG] Environmental \"VALIDATE_ON_ASSIGNMENT\" cannot be found. Using default value of \"True\".\n",
      "[stdatamodels.util:DEBUG] Environmental \"STRICT_VALIDATION\" cannot be found. Using default value of \"False\".\n",
      "[stdatamodels.util:DEBUG] Environmental \"VALIDATE_ON_ASSIGNMENT\" cannot be found. Using default value of \"True\".\n",
      "[stdatamodels.util:DEBUG] Environmental \"STRICT_VALIDATION\" cannot be found. Using default value of \"False\".\n",
      "[stdatamodels.util:DEBUG] Environmental \"VALIDATE_ON_ASSIGNMENT\" cannot be found. Using default value of \"True\".\n",
      "[stdatamodels.util:DEBUG] Environmental \"STRICT_VALIDATION\" cannot be found. Using default value of \"False\".\n",
      "[stdatamodels.util:DEBUG] Environmental \"VALIDATE_ON_ASSIGNMENT\" cannot be found. Using default value of \"True\".\n",
      "[stdatamodels.util:DEBUG] Environmental \"STRICT_VALIDATION\" cannot be found. Using default value of \"False\".\n",
      "[stdatamodels.util:DEBUG] Environmental \"VALIDATE_ON_ASSIGNMENT\" cannot be found. Using default value of \"True\".\n",
      "[stdatamodels.util:DEBUG] Environmental \"STRICT_VALIDATION\" cannot be found. Using default value of \"False\".\n",
      "[stdatamodels.util:DEBUG] Environmental \"VALIDATE_ON_ASSIGNMENT\" cannot be found. Using default value of \"True\".\n",
      "[stdatamodels.util:DEBUG] Environmental \"STRICT_VALIDATION\" cannot be found. Using default value of \"False\".\n",
      "[stdatamodels.util:DEBUG] Environmental \"VALIDATE_ON_ASSIGNMENT\" cannot be found. Using default value of \"True\".\n",
      "[stdatamodels.util:DEBUG] Environmental \"STRICT_VALIDATION\" cannot be found. Using default value of \"False\".\n",
      "[stdatamodels.util:DEBUG] Environmental \"VALIDATE_ON_ASSIGNMENT\" cannot be found. Using default value of \"True\".\n",
      "[stdatamodels.util:DEBUG] Environmental \"STRICT_VALIDATION\" cannot be found. Using default value of \"False\".\n",
      "[stdatamodels.util:DEBUG] Environmental \"VALIDATE_ON_ASSIGNMENT\" cannot be found. Using default value of \"True\".\n",
      "[stdatamodels.util:DEBUG] Environmental \"STRICT_VALIDATION\" cannot be found. Using default value of \"False\".\n",
      "[stdatamodels.util:DEBUG] Environmental \"VALIDATE_ON_ASSIGNMENT\" cannot be found. Using default value of \"True\".\n",
      "[stdatamodels.util:DEBUG] Environmental \"STRICT_VALIDATION\" cannot be found. Using default value of \"False\".\n",
      "[stdatamodels.util:DEBUG] Environmental \"VALIDATE_ON_ASSIGNMENT\" cannot be found. Using default value of \"True\".\n",
      "[stdatamodels.util:DEBUG] Environmental \"STRICT_VALIDATION\" cannot be found. Using default value of \"False\".\n",
      "[stdatamodels.util:DEBUG] Environmental \"VALIDATE_ON_ASSIGNMENT\" cannot be found. Using default value of \"True\".\n",
      "[stdatamodels.util:DEBUG] Environmental \"STRICT_VALIDATION\" cannot be found. Using default value of \"False\".\n",
      "[stdatamodels.util:DEBUG] Environmental \"VALIDATE_ON_ASSIGNMENT\" cannot be found. Using default value of \"True\".\n",
      "[stdatamodels.util:DEBUG] Environmental \"STRICT_VALIDATION\" cannot be found. Using default value of \"False\".\n",
      "[stdatamodels.util:DEBUG] Environmental \"VALIDATE_ON_ASSIGNMENT\" cannot be found. Using default value of \"True\".\n",
      "[stdatamodels.util:DEBUG] Environmental \"STRICT_VALIDATION\" cannot be found. Using default value of \"False\".\n",
      "[stdatamodels.util:DEBUG] Environmental \"VALIDATE_ON_ASSIGNMENT\" cannot be found. Using default value of \"True\".\n",
      "[stdatamodels.util:DEBUG] Environmental \"STRICT_VALIDATION\" cannot be found. Using default value of \"False\".\n",
      "[stdatamodels.util:DEBUG] Environmental \"VALIDATE_ON_ASSIGNMENT\" cannot be found. Using default value of \"True\".\n",
      "[stdatamodels.util:DEBUG] Environmental \"STRICT_VALIDATION\" cannot be found. Using default value of \"False\".\n",
      "[stdatamodels.util:DEBUG] Environmental \"VALIDATE_ON_ASSIGNMENT\" cannot be found. Using default value of \"True\".\n",
      "[stdatamodels.util:DEBUG] Environmental \"STRICT_VALIDATION\" cannot be found. Using default value of \"False\".\n"
     ]
    },
    {
     "name": "stdout",
     "output_type": "stream",
     "text": [
      "[stdatamodels.util:DEBUG] Environmental \"VALIDATE_ON_ASSIGNMENT\" cannot be found. Using default value of \"True\".\n",
      "[stdatamodels.util:DEBUG] Environmental \"STRICT_VALIDATION\" cannot be found. Using default value of \"False\".\n",
      "[stdatamodels.util:DEBUG] Environmental \"VALIDATE_ON_ASSIGNMENT\" cannot be found. Using default value of \"True\".\n",
      "[stdatamodels.util:DEBUG] Environmental \"STRICT_VALIDATION\" cannot be found. Using default value of \"False\".\n",
      "[stdatamodels.util:DEBUG] Environmental \"VALIDATE_ON_ASSIGNMENT\" cannot be found. Using default value of \"True\".\n"
     ]
    },
    {
     "name": "stderr",
     "output_type": "stream",
     "text": [
      "2021-09-14 15:31:20,309 - stpipe.Tso3Pipeline - INFO - Performing outlier detection on input images ...\n"
     ]
    },
    {
     "name": "stdout",
     "output_type": "stream",
     "text": [
      "[stpipe.Tso3Pipeline:INFO] Performing outlier detection on input images ...\n"
     ]
    },
    {
     "name": "stderr",
     "output_type": "stream",
     "text": [
      "2021-09-14 15:31:20,469 - stpipe.Tso3Pipeline.outlier_detection - INFO - Step outlier_detection running with args (<ModelContainer>,).\n"
     ]
    },
    {
     "name": "stdout",
     "output_type": "stream",
     "text": [
      "[stpipe.Tso3Pipeline.outlier_detection:INFO] Step outlier_detection running with args (<ModelContainer>,).\n"
     ]
    },
    {
     "name": "stderr",
     "output_type": "stream",
     "text": [
      "2021-09-14 15:31:20,473 - stpipe.Tso3Pipeline.outlier_detection - INFO - Step outlier_detection parameters are: {'pre_hooks': [], 'post_hooks': [], 'output_file': None, 'output_dir': None, 'output_ext': '.fits', 'output_use_model': False, 'output_use_index': True, 'save_results': False, 'skip': True, 'suffix': None, 'search_output_file': False, 'input_dir': '/fenrirdata1/kg_data/pipeline_output/Short_Transit_NRCA3', 'weight_type': 'ivm', 'pixfrac': 1.0, 'kernel': 'square', 'fillval': 'INDEF', 'nlow': 0, 'nhigh': 0, 'maskpt': 0.7, 'grow': 1, 'snr': '5.0 4.0', 'scale': '1.2 0.7', 'backg': 0.0, 'save_intermediate_results': False, 'resample_data': True, 'good_bits': '~DO_NOT_USE', 'scale_detection': False, 'allowed_memory': None}\n"
     ]
    },
    {
     "name": "stdout",
     "output_type": "stream",
     "text": [
      "[stpipe.Tso3Pipeline.outlier_detection:INFO] Step outlier_detection parameters are: {'pre_hooks': [], 'post_hooks': [], 'output_file': None, 'output_dir': None, 'output_ext': '.fits', 'output_use_model': False, 'output_use_index': True, 'save_results': False, 'skip': True, 'suffix': None, 'search_output_file': False, 'input_dir': '/fenrirdata1/kg_data/pipeline_output/Short_Transit_NRCA3', 'weight_type': 'ivm', 'pixfrac': 1.0, 'kernel': 'square', 'fillval': 'INDEF', 'nlow': 0, 'nhigh': 0, 'maskpt': 0.7, 'grow': 1, 'snr': '5.0 4.0', 'scale': '1.2 0.7', 'backg': 0.0, 'save_intermediate_results': False, 'resample_data': True, 'good_bits': '~DO_NOT_USE', 'scale_detection': False, 'allowed_memory': None}\n"
     ]
    },
    {
     "name": "stderr",
     "output_type": "stream",
     "text": [
      "2021-09-14 15:31:20,475 - stpipe.Tso3Pipeline.outlier_detection - INFO - Step skipped.\n"
     ]
    },
    {
     "name": "stdout",
     "output_type": "stream",
     "text": [
      "[stpipe.Tso3Pipeline.outlier_detection:INFO] Step skipped.\n"
     ]
    },
    {
     "name": "stderr",
     "output_type": "stream",
     "text": [
      "2021-09-14 15:31:20,510 - stpipe.Tso3Pipeline.outlier_detection - INFO - Step outlier_detection done\n"
     ]
    },
    {
     "name": "stdout",
     "output_type": "stream",
     "text": [
      "[stpipe.Tso3Pipeline.outlier_detection:INFO] Step outlier_detection done\n"
     ]
    },
    {
     "name": "stderr",
     "output_type": "stream",
     "text": [
      "2021-09-14 15:31:20,769 - stpipe.Tso3Pipeline.tso_photometry - INFO - Step tso_photometry running with args (<CubeModel(70, 256, 2048) from modified_jw88888001001_01101_00001_nrca1_calints.fits>,).\n"
     ]
    },
    {
     "name": "stdout",
     "output_type": "stream",
     "text": [
      "[stpipe.Tso3Pipeline.tso_photometry:INFO] Step tso_photometry running with args (<CubeModel(70, 256, 2048) from modified_jw88888001001_01101_00001_nrca1_calints.fits>,).\n"
     ]
    },
    {
     "name": "stderr",
     "output_type": "stream",
     "text": [
      "2021-09-14 15:31:20,772 - stpipe.Tso3Pipeline.tso_photometry - INFO - Step tso_photometry parameters are: {'pre_hooks': [], 'post_hooks': [], 'output_file': None, 'output_dir': None, 'output_ext': '.fits', 'output_use_model': False, 'output_use_index': True, 'save_results': False, 'skip': False, 'suffix': None, 'search_output_file': True, 'input_dir': '/fenrirdata1/kg_data/pipeline_output/Short_Transit_NRCA3', 'save_catalog': False}\n"
     ]
    },
    {
     "name": "stdout",
     "output_type": "stream",
     "text": [
      "[stpipe.Tso3Pipeline.tso_photometry:INFO] Step tso_photometry parameters are: {'pre_hooks': [], 'post_hooks': [], 'output_file': None, 'output_dir': None, 'output_ext': '.fits', 'output_use_model': False, 'output_use_index': True, 'save_results': False, 'skip': False, 'suffix': None, 'search_output_file': True, 'input_dir': '/fenrirdata1/kg_data/pipeline_output/Short_Transit_NRCA3', 'save_catalog': False}\n",
      "[stdatamodels.util:DEBUG] Environmental \"STRICT_VALIDATION\" cannot be found. Using default value of \"False\".\n",
      "[stdatamodels.util:DEBUG] Environmental \"VALIDATE_ON_ASSIGNMENT\" cannot be found. Using default value of \"True\".\n",
      "[stdatamodels.util:DEBUG] Environmental \"STRICT_VALIDATION\" cannot be found. Using default value of \"False\".\n",
      "[stdatamodels.util:DEBUG] Environmental \"VALIDATE_ON_ASSIGNMENT\" cannot be found. Using default value of \"True\".\n",
      "[stpipe.Tso3Pipeline.tso_photometry:DEBUG] Reference file name = /fenrirdata1/kg_data/crds_cache/references/jwst/nircam/jwst_nircam_tsophot_0001.asdf\n",
      "[stdatamodels.util:DEBUG] Environmental \"STRICT_VALIDATION\" cannot be found. Using default value of \"False\".\n",
      "[stdatamodels.util:DEBUG] Environmental \"VALIDATE_ON_ASSIGNMENT\" cannot be found. Using default value of \"True\".\n",
      "[stpipe.Tso3Pipeline.tso_photometry:DEBUG] radius = 50.0\n",
      "[stpipe.Tso3Pipeline.tso_photometry:DEBUG] radius_inner = 60.0\n",
      "[stpipe.Tso3Pipeline.tso_photometry:DEBUG] radius_outer = 70.0\n",
      "[stpipe.Tso3Pipeline.tso_photometry:DEBUG] xcenter = 1045.0\n",
      "[stpipe.Tso3Pipeline.tso_photometry:DEBUG] ycenter = 175.0\n",
      "[jwst.tso_photometry.tso_photometry:DEBUG] Times are from the INT_TIMES table\n"
     ]
    },
    {
     "name": "stderr",
     "output_type": "stream",
     "text": [
      "2021-09-14 15:31:21,354 - stpipe.Tso3Pipeline.tso_photometry - INFO - Step tso_photometry done\n"
     ]
    },
    {
     "name": "stdout",
     "output_type": "stream",
     "text": [
      "[stpipe.Tso3Pipeline.tso_photometry:INFO] Step tso_photometry done\n"
     ]
    },
    {
     "name": "stderr",
     "output_type": "stream",
     "text": [
      "2021-09-14 15:31:21,355 - stpipe.Tso3Pipeline - INFO - Writing Level 3 photometry catalog /fenrirdata1/kg_data/pipeline_output/Short_Transit_NRCA3/modified_test_level3_phot.ecsv\n"
     ]
    },
    {
     "name": "stdout",
     "output_type": "stream",
     "text": [
      "[stpipe.Tso3Pipeline:INFO] Writing Level 3 photometry catalog /fenrirdata1/kg_data/pipeline_output/Short_Transit_NRCA3/modified_test_level3_phot.ecsv\n"
     ]
    },
    {
     "name": "stderr",
     "output_type": "stream",
     "text": [
      "2021-09-14 15:31:21,515 - stpipe.Tso3Pipeline - INFO - Step Tso3Pipeline done\n"
     ]
    },
    {
     "name": "stdout",
     "output_type": "stream",
     "text": [
      "[stpipe.Tso3Pipeline:INFO] Step Tso3Pipeline done\n"
     ]
    }
   ],
   "source": [
    "filename_stage3 = '/fenrirdata1/kg_data/pipeline_output/Short_Transit_NRCA3/modified_jw88888001001_01101_00001_nrca1_calints.fits'\n",
    "\n",
    "# Instantiate the class. Do not provide a configuration file.\n",
    "pipeline_stage3 = Tso3Pipeline()\n",
    "\n",
    "pipeline_stage3.outlier_detection.skip = True\n",
    "#pipeline_stage3.tso_photometry.override_tsophot = 'adjusted_jwst_nircam_tsophot_0001.asdf' #use the modified tso_phot ref file\n",
    "\n",
    "# Specify that you want results saved to a file\n",
    "pipeline_stage3.save_results = True\n",
    "pipeline_stage3.output_dir = '/fenrirdata1/kg_data/pipeline_output/Short_Transit_NRCA3/'\n",
    "\n",
    "# Execute the pipeline using the run method\n",
    "result_stage3 = pipeline_stage3.run(level3_asn)"
   ]
  },
  {
   "cell_type": "markdown",
   "id": "supposed-purple",
   "metadata": {},
   "source": [
    "# Plotting Results"
   ]
  },
  {
   "cell_type": "code",
   "execution_count": 19,
   "id": "indoor-steps",
   "metadata": {
    "scrolled": true
   },
   "outputs": [
    {
     "name": "stdout",
     "output_type": "stream",
     "text": [
      "['# %ECSV 0.9']\n",
      "['# ---']\n",
      "['# datatype:']\n",
      "['# - {name: MJD', ' datatype: float64}']\n",
      "['# - {name: aperture_sum', ' unit: Jy', ' datatype: float64}']\n",
      "['# - {name: aperture_sum_err', ' unit: Jy', ' datatype: float64}']\n",
      "['# - {name: annulus_sum', ' unit: Jy', ' datatype: float64}']\n",
      "['# - {name: annulus_sum_err', ' unit: Jy', ' datatype: float64}']\n",
      "['# - {name: annulus_mean', ' unit: Jy', ' datatype: float64}']\n",
      "['# - {name: annulus_mean_err', ' unit: Jy', ' datatype: float64}']\n",
      "['# - {name: aperture_bkg', ' unit: Jy', ' datatype: float64}']\n",
      "['# - {name: aperture_bkg_err', ' unit: Jy', ' datatype: float64}']\n",
      "['# - {name: net_aperture_sum', ' unit: Jy', ' datatype: float64}']\n",
      "['# - {name: net_aperture_sum_err', ' unit: Jy', ' datatype: float64}']\n",
      "['# meta: !!omap']\n",
      "['# - {instrument: NIRCAM}']\n",
      "['# - {detector: NRCA3}']\n",
      "['# - {channel: SHORT}']\n",
      "['# - {subarray: SUBGRISM256}']\n",
      "['# - {filter: F210M}']\n",
      "['# - {pupil: WLP8}']\n",
      "['# - {target_name: UNKNOWN}']\n",
      "['# - {xcenter: 1045.0}']\n",
      "['# - {ycenter: 175.0}']\n",
      "['# - ra_icrs: !numpy.ndarray']\n",
      "['#     buffer: !!binary |']\n",
      "['#       OHlLdmY3NlhVRUE9']\n",
      "['#     dtype: float64']\n",
      "['#     order: C']\n",
      "['#     shape: !!python/tuple []']\n",
      "['# - dec_icrs: !numpy.ndarray']\n",
      "['#     buffer: !!binary |']\n",
      "['#       MUpUUUhyS1pQc0E9']\n",
      "['#     dtype: float64']\n",
      "['#     order: C']\n",
      "['#     shape: !!python/tuple []']\n",
      "['# - {apertures: Photometry measured in a circular aperture of r=50.0 pixels.  Background calculated as the mean in a circular annulus']\n",
      "['#     with r_inner=60.0 pixels and r_outer=70.0 pixels.}']\n",
      "['# - {number_of_integrations: 70}']\n",
      "['# - __serialized_columns__:']\n",
      "['#     annulus_mean:']\n",
      "['#       __class__: astropy.units.quantity.Quantity']\n",
      "['#       unit: &id001 !astropy.units.Unit {unit: Jy}']\n",
      "['#       value: !astropy.table.SerializedColumn {name: annulus_mean}']\n",
      "['#     annulus_mean_err:']\n",
      "['#       __class__: astropy.units.quantity.Quantity']\n",
      "['#       unit: *id001']\n",
      "['#       value: !astropy.table.SerializedColumn {name: annulus_mean_err}']\n",
      "['#     annulus_sum:']\n",
      "['#       __class__: astropy.units.quantity.Quantity']\n",
      "['#       unit: *id001']\n",
      "['#       value: !astropy.table.SerializedColumn {name: annulus_sum}']\n",
      "['#     annulus_sum_err:']\n",
      "['#       __class__: astropy.units.quantity.Quantity']\n",
      "['#       unit: *id001']\n",
      "['#       value: !astropy.table.SerializedColumn {name: annulus_sum_err}']\n",
      "['#     aperture_bkg:']\n",
      "['#       __class__: astropy.units.quantity.Quantity']\n",
      "['#       unit: *id001']\n",
      "['#       value: !astropy.table.SerializedColumn {name: aperture_bkg}']\n",
      "['#     aperture_bkg_err:']\n",
      "['#       __class__: astropy.units.quantity.Quantity']\n",
      "['#       unit: *id001']\n",
      "['#       value: !astropy.table.SerializedColumn {name: aperture_bkg_err}']\n",
      "['#     aperture_sum:']\n",
      "['#       __class__: astropy.units.quantity.Quantity']\n",
      "['#       unit: *id001']\n",
      "['#       value: !astropy.table.SerializedColumn {name: aperture_sum}']\n",
      "['#     aperture_sum_err:']\n",
      "['#       __class__: astropy.units.quantity.Quantity']\n",
      "['#       unit: *id001']\n",
      "['#       value: !astropy.table.SerializedColumn {name: aperture_sum_err}']\n",
      "['#     net_aperture_sum:']\n",
      "['#       __class__: astropy.units.quantity.Quantity']\n",
      "['#       unit: *id001']\n",
      "['#       value: !astropy.table.SerializedColumn {name: net_aperture_sum}']\n",
      "['#     net_aperture_sum_err:']\n",
      "['#       __class__: astropy.units.quantity.Quantity']\n",
      "['#       unit: *id001']\n",
      "['#       value: !astropy.table.SerializedColumn {name: net_aperture_sum_err}']\n",
      "['# schema: astropy-2.0']\n",
      "['MJD aperture_sum aperture_sum_err annulus_sum annulus_sum_err annulus_mean annulus_mean_err aperture_bkg aperture_bkg_err net_aperture_sum net_aperture_sum_err']\n",
      "['59884.118132793345 1.0186334627704654 0.0001714924207296511 0.155250302089782 6.248739707985187e-05 3.8013619990921256e-05 1.5300274040314602e-08 0.2985582732495808 0.00012016807130740744 0.7200751895208846 0.0002094039534714133']\n",
      "['59884.1181951401 1.0185559262879407 0.00017151495207984855 0.15529192592235627 6.248028347217358e-05 3.8023811742774525e-05 1.5298532246737346e-08 0.2986383190814544 0.00012015439129264149 0.7199176072064863 0.0002094145566426984']\n",
      "['59884.118257486865 1.0183816877275809 0.0001715213683197828 0.15532508689957475 6.247219290830783e-05 3.803193133268541e-05 1.52965512417656e-08 0.2987020901914899 0.0001201388325159766 0.719679597536091 0.00020941088526767767']\n",
      "['59884.11831983362 1.0189213063920717 0.00017152283280865162 0.15558548596849175 6.250464928314694e-05 3.8095691023446445e-05 1.5304498307135582e-08 0.29920285763171495 0.00012020124862143642 0.7197184487603567 0.00020944789887906976']\n",
      "['59884.11838218038 1.0193849856204769 0.00017154916724276118 0.1556934187195481 6.25132205573349e-05 3.812211876321894e-05 1.530659701583652e-08 0.29941042061451556 0.00012021773184102867 0.7199745650059612 0.00020947892455014733']\n",
      "['59884.11844452714 1.018714583162338 0.00017153703810234488 0.15528261187060638 6.248585009245443e-05 3.8021531162195744e-05 1.529989525463583e-08 0.29862040744347385 0.00012016509633164315 0.7200941757188642 0.0002094387877574696']\n",
      "['59884.1185068739 1.018624870753328 0.00017149311850091513 0.15525796584943713 6.247645358027859e-05 3.801549649127784e-05 1.5297594483311817e-08 0.29857301124891755 0.00012014702611592038 0.7200518595044105 0.0002093924487121457']\n",
      "['59884.118569220656 1.0193971054380015 0.00017154070818331332 0.15560213344712406 6.25096179980145e-05 3.8099767221160825e-05 1.530571491564633e-08 0.29923487201370014 0.00012021080384233559 0.7201622334243014 0.00020946802124537564']\n",
      "['59884.11863156742 1.0190177937832114 0.00017152596037234462 0.15554542729539061 6.249424688698018e-05 3.808588250677298e-05 1.5301951241335676e-08 0.29912582172190505 0.00012018124401342343 0.7198919720613064 0.00020943898036007805']\n",
      "['59884.11869391418 1.0187191626829446 0.0001714985777316215 0.15524585424694054 6.250144611436433e-05 3.801253091988385e-05 1.530371399921972e-08 0.2985497197056549 0.00012019508868146988 0.7201694429772897 0.00020942450073263975']\n",
      "['59884.118756260934 1.0185906587726263 0.00017157441654702956 0.1553827881279886 6.249745588058965e-05 3.804605969533855e-05 1.5302736975482284e-08 0.2988130540922858 0.00012018741515498009 0.7197776046803406 0.00020948220729954405']\n",
      "['59884.1188186077 1.0194980425906544 0.00017153909699696294 0.155603749374989 6.250179575560399e-05 3.8100162887172186e-05 1.5303799610191416e-08 0.29923797956728654 0.00012019576106846923 0.7202600630233678 0.00020945806925817397']\n",
      "['59884.118880954455 1.018846820046005 0.0001715146368783715 0.15551418596465472 6.249220377224339e-05 3.807823294951854e-05 1.5301450977013115e-08 0.2990657422397206 0.00012017731494662191 0.7197810778062844 0.00020942745209570588']\n",
      "['59884.11894330122 1.0187469987875994 0.00017149463756047588 0.1554057465909517 6.249643044289814e-05 3.805168116128681e-05 1.530248589320931e-08 0.29885720498259943 0.00012018544315941952 0.719889793805 0.00020941573832791328']\n",
      "['59884.119005647975 1.0194800844412795 0.0001715373290050858 0.1555477664864351 6.252692167797665e-05 3.808645526649231e-05 1.5309951786722726e-08 0.2991303201662213 0.00012024408014995511 0.7203497642750581 0.00020948435276484944']\n",
      "['59884.11906799473 1.019248667925012 0.0001715304663080722 0.1555138907434765 6.249421808348125e-05 3.807816066350343e-05 1.53019441886907e-08 0.29906517450668557 0.00012018118862207932 0.7201834934183263 0.00020944263885484373']\n",
      "['59884.119130341496 1.018677793981373 0.00017149751282060282 0.15516418317324066 6.248795166240297e-05 3.79925334505193e-05 1.5300409831936695e-08 0.29839265994853975 0.00012016913781231341 0.7202851340328331 0.00020940873569697994']\n",
      "['59884.11919268825 1.01877542115492 0.00017155509051038203 0.1553681829872483 6.24895654347063e-05 3.804248357173336e-05 1.5300804970150698e-08 0.29878496728316983 0.00012017224122058906 0.7199904538717502 0.0002094576726692169']\n",
      "['59884.11925503501 1.0194313656491731 0.00017153936413109966 0.15563886215473222 6.250281754252122e-05 3.810876038326731e-05 1.530404979855859e-08 0.2993055041437159 0.00012019772604331006 0.7201258615054573 0.00020945941562146262']\n",
      "['59884.119317381774 1.0185711595434337 0.0001715390193600079 0.15547550178859867 6.251060741287344e-05 3.806876098361276e-05 1.530595717759336e-08 0.298991349593459 0.00012021270656321815 0.7195798099499746 0.00020946773016922575']\n",
      "['59884.11937972853 1.018540055834704 0.00017154473454851385 0.1554935985663337 6.255477777431538e-05 3.807319204765979e-05 1.531677245661127e-08 0.29902615108910335 0.00012029764956599113 0.7195139047456006 0.0002095211694374153']\n",
      "['59884.11944207529 1.0187683437511041 0.0001714988183312772 0.15522254893173576 6.246387066113173e-05 3.800682452586053e-05 1.529451350826451e-08 0.29850490179179956 0.00012012282819448412 0.7202634419593046 0.00020938323367086']\n",
      "['59884.11950442205 1.0179971055523303 0.00017146951648566573 0.15513327563428597 6.249276126242133e-05 3.798496562343707e-05 1.5301587480578566e-08 0.29833322237362686 0.00012017838704311795 0.7196638831787034 0.0002093911168032528']\n",
      "['59884.11956676881 1.013643804702553 0.00017117934467249937 0.1544749771476357 6.239564918296962e-05 3.782377876469814e-05 1.5277809222919072e-08 0.2970672637454533 0.00011999163304417236 0.7165765409570999 0.00020904631076178708']\n",
      "['59884.119629115565 1.0097908269772695 0.00017090518893759927 0.15420160628897958 6.23573739377176e-05 3.775684288246369e-05 1.5268437385257665e-08 0.29654155055573 0.00011991802680330308 0.7132492764215395 0.000208779588940572']\n",
      "['59884.11969146233 1.0086174219033182 0.00017084235506942502 0.15385494333243632 6.233982297415359e-05 3.767196115458567e-05 1.5264139965861914e-08 0.295874891023916 0.00011988427495029537 0.7127425308794022 0.00020870876758302586']\n",
      "['59884.119753809086 1.008688707245394 0.00017083056699794078 0.15380112900384973 6.232630323262254e-05 3.765878451396455e-05 1.5260829606332698e-08 0.29577140193048024 0.00011985827544735105 0.7129173053149138 0.00020868418438887745']\n",
      "['59884.11981615584 1.0082894516097025 0.00017081500329693613 0.1537361051257852 6.233053613643445e-05 3.764286317302151e-05 1.5261866048740848e-08 0.2956463560111254 0.00011986641564698933 0.7126430955985772 0.0002086761197439446']\n",
      "['59884.119878502606 1.0078836393629786 0.00017077687249735467 0.15384367578261207 6.235656533746025e-05 3.766920225266096e-05 1.5268239396445444e-08 0.2958532226588694 0.00011991647180280816 0.7120304167041093 0.00020867366961265483']\n",
      "['59884.11994084936 1.00797460175685 0.00017087376573292066 0.15392064220797563 6.238126024709664e-05 3.7688047771197455e-05 1.5274286037888277e-08 0.29600123501533776 0.0001199639620136474 0.7119733667415122 0.00020878025768199658']\n",
      "['59884.12000319612 1.0084212899866896 0.0001708051382287794 0.15405494961317268 6.23427214256081e-05 3.772093344416816e-05 1.5264849662594682e-08 0.29625951848687054 0.00011988984889540021 0.712161771499819 0.00020868150640033803']\n",
      "['59884.120065542884 1.0086195678555945 0.00017082923364223541 0.15406151123906842 6.234062259245745e-05 3.7722540082931274e-05 1.5264335755409064e-08 0.2962721369982085 0.0001198858126778028 0.712347430857386 0.00020869891027077903']\n",
      "['59884.12012788964 1.0081757494119068 0.00017079059418326835 0.15402980367668412 6.233770794856221e-05 3.771477636710535e-05 1.5263622093896324e-08 0.2962111609167003 0.00011988020759338887 0.7119645884952065 0.00020866406311127912']\n",
      "['59884.1201902364 1.0078448197484178 0.0001707896228164201 0.15377708968475562 6.235134428465719e-05 3.7652898396330105e-05 1.5266961002042753e-08 0.2957251724706839 0.00011990643131664845 0.7121196472777338 0.0002086783350826558']\n",
      "['59884.12025258316 1.0081911827036438 0.00017080718719787908 0.15407787121551922 6.233652929728231e-05 3.772654588465591e-05 1.5263333496700358e-08 0.2963035984913831 0.00011987794095631214 0.7118875842122607 0.00020867634251724935']\n",
      "['59884.12031492992 1.0083440696363057 0.00017080099791490555 0.1540015789308397 6.233117502784665e-05 3.770786543199973e-05 1.5262022483704466e-08 0.29615688255930717 0.0001198676442843205 0.7121871870769986 0.00020866536136838804']\n",
      "['59884.120377276675 1.0081764644905677 0.00017078588924660591 0.1540367207552321 6.23344166768711e-05 3.7716470039786366e-05 1.5262816213652173e-08 0.29622446299083094 0.00011987387822475213 0.7119520014997368 0.0002086565758522761']\n",
      "['59884.12043962344 1.0075401389492826 0.00017081947843314939 0.1538060240990074 6.233607597650455e-05 3.7659983096412626e-05 1.526322249940407e-08 0.29578081557501423 0.00011987706918558568 0.7117593233742684 0.0002086859025633952']\n",
      "['59884.120501970196 1.0078810421757867 0.00017078842829199131 0.15378032729046429 6.233165978642762e-05 3.7653691136256746e-05 1.526214117866503e-08 0.29573139863550824 0.00011986857651236081 0.7121496435402784 0.0002086556082964183']\n",
      "['59884.12056431696 1.0075054517389648 0.00017077351834745232 0.15379042897725384 6.234436650075841e-05 3.7656164572235397e-05 1.5265252465428417e-08 0.2957508249562574 0.00011989301250145849 0.7117546267827074 0.00020865744418889663']\n",
      "['59884.12062666372 1.0084071901231788 0.00017080020715634146 0.15405801031534475 6.233838999409214e-05 3.7721682868598954e-05 1.5263789095307865e-08 0.2962654044525861 0.00011988151921940796 0.7121417856705927 0.00020867268487993927']\n",
      "['59884.12068901047 1.0086503340285522 0.00017081663576278306 0.1540826191997463 6.233129484616037e-05 3.77277084464397e-05 1.5262051821668927e-08 0.2963127292302814 0.00011986787470415455 0.7123376047982708 0.0002086782941261649']\n",
      "['59884.12075135724 1.0081292563415887 0.00017079291585920406 0.15374063418903602 6.23378335696887e-05 3.7643972131181427e-05 1.5263652852701303e-08 0.2956550657481462 0.00011988044917247826 0.7124741905934424 0.0002086661021859667']\n",
      "['59884.120813703994 1.0081917520039243 0.00017083426550702413 0.1537550453226663 6.232409180113682e-05 3.764750075141653e-05 1.5260288129021526e-08 0.295682779466666 0.00011985402269449389 0.7125089725372583 0.00020868476951463582']\n",
      "['59884.12087605075 1.0085008195632257 0.0001708108206049322 0.15376760354077101 6.232513815250384e-05 3.765057567832082e-05 1.526054433208656e-08 0.2957069298860981 0.00011985603490866123 0.7127938896771275 0.00020866673318896943']\n",
      "['59884.120938397515 1.0090081551671541 0.00017090599981894018 0.1539622326949097 6.234029675123081e-05 3.7698231358245384e-05 1.5264255971960012e-08 0.2960812167209802 0.00011988518606005925 0.7129269384461739 0.0002087613915712544']\n",
      "['59884.12100074427 1.0112528425379623 0.00017100944762067343 0.15415912927759118 6.236753958083247e-05 3.774644222657102e-05 1.5270926481182958e-08 0.29645986399536767 0.00011993757611698553 0.7147929785425946 0.000208876167478115']\n",
      "['59884.12106309103 1.0157224123184112 0.00017130369037623059 0.15479251065734878 6.248838639296256e-05 3.790152803803377e-05 1.530051627734819e-08 0.29767790511028613 0.00012016997383262032 0.7180445072081251 0.00020925051241860347']\n",
      "['59884.12112543779 1.018834607585254 0.00017156519907627927 0.15536151252050132 6.248675130152269e-05 3.804085028287873e-05 1.530011591906348e-08 0.29877213946250253 0.00012016682942600519 0.7200624681227514 0.00020946284737008127']\n",
      "['59884.12118778455 1.0194745767039786 0.0001715729511755295 0.15557971459577513 6.25043006206275e-05 3.809427788114448e-05 1.5304412935807213e-08 0.2991917588380291 0.00012020057811659135 0.7202828178659495 0.0002094885594839093']\n",
      "['59884.121250131306 1.0190783300022987 0.00017151648569046728 0.15570231471396473 6.250657169338068e-05 3.8124296980888364e-05 1.530496901650689e-08 0.29942752829608604 0.00012020494556419361 0.7196508017062127 0.00020944482280949085']\n",
      "['59884.12131247807 1.0184889291113612 0.00017148054315928893 0.15530973415165256 6.248507048062106e-05 3.802817215465178e-05 1.5299704363748177e-08 0.29867256567625494 0.00012016359707811744 0.7198163634351062 0.0002093916587282237']\n",
      "['59884.12137482483 1.01945813971342 0.00017154315483640343 0.15547125497930586 6.247879818502234e-05 3.806772113639535e-05 1.5298168568595764e-08 0.2989831826525113 0.00012015153497119684 0.7204749570609086 0.00020943601726341392']\n",
      "['59884.12143717158 1.0184420991419119 0.00017148411186655664 0.1552304220507016 6.248162867593393e-05 3.8008752288631244e-05 1.5298861624934154e-08 0.29852004240519536 0.00012015697822294986 0.7199220567367165 0.00020939078307875004']\n",
      "['59884.12149951835 1.01924365702809 0.00017153366493379222 0.15558012761140128 6.249157351218296e-05 3.8094379009572904e-05 1.530129665546842e-08 0.2991925530988486 0.00012017610290804416 0.7200511039292414 0.0002094423403129924']\n",
      "['59884.121561865104 1.0187551100538281 0.00017154786939377727 0.1553921564654067 6.249980673889052e-05 3.804835356796723e-05 1.5303312591973197e-08 0.2988310701257821 0.00012019193603632793 0.719924039928046 0.0002094630587519079']\n",
      "['59884.12162421186 1.019207731806031 0.0001715258346235776 0.1556032435934294 6.250514690839105e-05 3.8100039044656286e-05 1.530462015254698e-08 0.2992370069104412 0.00012020220559305972 0.7199707248955899 0.00020945090635457055']\n",
      "['59884.121686558625 1.0193990344581967 0.00017155131973522816 0.15553723441985245 6.251305665930426e-05 3.8083876450403696e-05 1.530655688478769e-08 0.29911006619202396 0.0001202174166525082 0.7202889682661727 0.00020948050641885805']\n",
      "['59884.12174890538 1.0186703127504562 0.00017149511774665905 0.1551270725238933 6.246125484709793e-05 3.79834467685424e-05 1.529387301636653e-08 0.2983212933151794 0.00012011779778288065 0.7203490194352767 0.000209377316715898']\n",
      "['59884.12181125214 1.0185635096582821 0.00017152894637533574 0.1553351852784593 6.249094070345005e-05 3.8034403958711095e-05 1.5301141709871692e-08 0.29872151015088333 0.00012017488596817319 0.7198419995073988 0.00020943777754286888']\n",
      "['59884.1218735989 1.0184992909947646 0.00017148600907940936 0.15524258864117974 6.249203754642982e-05 3.80117313240392e-05 1.5301410275997885e-08 0.2985434396945765 0.00012017699528159581 0.719955851300188 0.00020940382399778658']\n",
      "['59884.12193594566 1.0190945435251026 0.00017152422089940166 0.15551190300398862 6.249602970914635e-05 3.807767395801871e-05 1.5302387772043983e-08 0.2990613519307474 0.00012018467251758916 0.7200331915943552 0.00020943952316434186']\n",
      "['59884.121998292416 1.0184361435093559 0.00017149981571417286 0.15522749979777106 6.247146974524966e-05 3.800803676401762e-05 1.5296374172572726e-08 0.2985144226880213 0.00012013744181778782 0.7199217208213345 0.00020939243471653317']\n",
      "['59884.12206063918 1.0187546105045056 0.0001715051534791216 0.15527588795249986 6.248433846428138e-05 3.801988478557482e-05 1.5299525126796047e-08 0.2986074768317305 0.00012016218935438728 0.720147133672775 0.00020941100596753908']\n",
      "['59884.12212298594 1.0187552728781255 0.00017149895976063996 0.1552048502907764 6.24838631798382e-05 3.8002490947099475e-05 1.5299408751613727e-08 0.29847086594380084 0.00012016127534584269 0.7202844069343246 0.00020940540893616148']\n",
      "['59884.12218533269 1.0190292142512352 0.00017151552693729617 0.15561155084016937 6.250076788614028e-05 3.810207310524421e-05 1.5303547932489873e-08 0.29925298238494114 0.00012019378439642363 0.719776231866294 0.00020943763221568452']\n",
      "['59884.12224767946 1.0193020159426727 0.00017154726968283396 0.15565663144391909 6.250912982662736e-05 3.811311126051242e-05 1.530559538504735e-08 0.2993396758536906 0.00012020986505120649 0.7199623400889821 0.00020947285597724646']\n",
      "['59884.122310026214 1.0188591582369089 0.00017152011204553811 0.15528155401990815 6.248675422405798e-05 3.802127214347624e-05 1.530011663465723e-08 0.298618373115208 0.00012016683504626534 0.7202407851217009 0.00020942592265798973']\n",
      "['59884.12237237298 1.0187818954904975 0.00017152432650368937 0.1551931442534321 6.247563449584198e-05 3.7999624679857375e-05 1.5297393927408897e-08 0.2984483543335233 0.00012014545095354226 0.7203335411569742 0.00020941710524065188']\n",
      "['59884.122434719735 1.0191849184729118 0.00017152191261628807 0.15562044167039657 6.250331061005906e-05 3.810425005844244e-05 1.5304170527998475e-08 0.29927008013537804 0.00012019867425011359 0.7199148383375338 0.0002094456678927365']\n"
     ]
    }
   ],
   "source": [
    "#Import the stage 3 result file\n",
    "with open('/fenrirdata1/kg_data/pipeline_output/Short_Transit_NRCA3/modified_test_level3_phot.ecsv', 'r') as file:\n",
    "    reader = csv.reader(file)\n",
    "    for row in reader:\n",
    "        print(row)"
   ]
  },
  {
   "cell_type": "code",
   "execution_count": 20,
   "id": "seven-station",
   "metadata": {},
   "outputs": [
    {
     "data": {
      "text/plain": [
       "Text(0, 0.5, 'Flux')"
      ]
     },
     "execution_count": 20,
     "metadata": {},
     "output_type": "execute_result"
    },
    {
     "data": {
      "image/png": "[encoded data removed]",
      "text/plain": [
       "<Figure size 432x288 with 1 Axes>"
      ]
     },
     "metadata": {
      "needs_background": "light"
     },
     "output_type": "display_data"
    }
   ],
   "source": [
    "dat = ascii.read('/fenrirdata1/kg_data/pipeline_output/Short_Transit_NRCA3/modified_test_level3_phot.ecsv') #call the data \n",
    "\n",
    "#normalized_net_aperture_sum = dat['net_aperture_sum'].si.value/dat['net_aperture_sum'][0].si.value #normalize the flux values\n",
    "#std_net_aperture_sum = np.std_net_aperture_sum(normalized_net_aperture_sum[0:20]) #manually calculate the std. (This was helpful prior to finding the outer radii limit which return nan errors.)\n",
    "#plt.errorbar(dat['MJD'],normalized_flux, yerr=std,fmt='.')\n",
    "\n",
    "plt.errorbar(dat['MJD'],dat['net_aperture_sum'].value, yerr=dat['net_aperture_sum_err'].value,fmt='.')\n",
    "plt.title(\"Net Aperture Sum\")\n",
    "plt.xlabel(\"Time (MJD)\")\n",
    "plt.ylabel(\"Flux\")"
   ]
  },
  {
   "cell_type": "code",
   "execution_count": 21,
   "id": "breeding-wilson",
   "metadata": {},
   "outputs": [
    {
     "data": {
      "text/plain": [
       "Text(0, 0.5, 'Flux')"
      ]
     },
     "execution_count": 21,
     "metadata": {},
     "output_type": "execute_result"
    },
    {
     "data": {
      "image/png": "[encoded data removed]",
      "text/plain": [
       "<Figure size 432x288 with 1 Axes>"
      ]
     },
     "metadata": {
      "needs_background": "light"
     },
     "output_type": "display_data"
    }
   ],
   "source": [
    "plt.errorbar(dat['MJD'],dat['aperture_sum'].to(u.Jy).value, yerr=dat['aperture_sum_err'].to(u.Jy).value, fmt='.')\n",
    "\n",
    "plt.title(\"Aperture Sum\")\n",
    "plt.xlabel(\"Time (MJD)\")\n",
    "plt.ylabel(\"Flux\")"
   ]
  },
  {
   "cell_type": "code",
   "execution_count": 15,
   "id": "interracial-joyce",
   "metadata": {},
   "outputs": [
    {
     "data": {
      "text/plain": [
       "Text(0, 0.5, 'Flux')"
      ]
     },
     "execution_count": 15,
     "metadata": {},
     "output_type": "execute_result"
    },
    {
     "data": {
      "image/png": "[encoded data removed]",
      "text/plain": [
       "<Figure size 432x288 with 1 Axes>"
      ]
     },
     "metadata": {
      "needs_background": "light"
     },
     "output_type": "display_data"
    }
   ],
   "source": [
    "plt.plot(dat['MJD'],dat['aperture_bkg'].to(u.Jy).value,'.')\n",
    "\n",
    "plt.title(\"Aperture Background\")\n",
    "plt.xlabel(\"Time (MJD)\")\n",
    "plt.ylabel(\"Flux\")"
   ]
  },
  {
   "cell_type": "code",
   "execution_count": 16,
   "id": "generous-techno",
   "metadata": {},
   "outputs": [
    {
     "data": {
      "text/plain": [
       "Text(0, 0.5, 'Flux')"
      ]
     },
     "execution_count": 16,
     "metadata": {},
     "output_type": "execute_result"
    },
    {
     "data": {
      "image/png": "[encoded data removed]",
      "text/plain": [
       "<Figure size 432x288 with 1 Axes>"
      ]
     },
     "metadata": {
      "needs_background": "light"
     },
     "output_type": "display_data"
    }
   ],
   "source": [
    "plt.plot(dat['MJD'],dat['annulus_mean'].to(u.Jy).value,'.')\n",
    "\n",
    "plt.title(\"Annulus Mean\")\n",
    "plt.xlabel(\"Time (MJD)\")\n",
    "plt.ylabel(\"Flux\")"
   ]
  },
  {
   "cell_type": "code",
   "execution_count": 17,
   "id": "amended-repository",
   "metadata": {},
   "outputs": [
    {
     "data": {
      "text/plain": [
       "Text(0, 0.5, 'Flux')"
      ]
     },
     "execution_count": 17,
     "metadata": {},
     "output_type": "execute_result"
    },
    {
     "data": {
      "image/png": "[encoded data removed]",
      "text/plain": [
       "<Figure size 432x288 with 1 Axes>"
      ]
     },
     "metadata": {
      "needs_background": "light"
     },
     "output_type": "display_data"
    }
   ],
   "source": [
    "plt.plot(dat['MJD'],dat['annulus_sum'].to(u.Jy).value,'.')\n",
    "\n",
    "plt.title(\"Annulus Sum\")\n",
    "plt.xlabel(\"Time (MJD)\")\n",
    "plt.ylabel(\"Flux\")"
   ]
  },
  {
   "cell_type": "code",
   "execution_count": null,
   "id": "4ed58682",
   "metadata": {},
   "outputs": [],
   "source": []
  }
 ],
 "metadata": {
  "kernelspec": {
   "display_name": "Python 3 (ipykernel)",
   "language": "python",
   "name": "python3"
  },
  "language_info": {
   "codemirror_mode": {
    "name": "ipython",
    "version": 3
   },
   "file_extension": ".py",
   "mimetype": "text/x-python",
   "name": "python",
   "nbconvert_exporter": "python",
   "pygments_lexer": "ipython3",
   "version": "3.9.1"
  }
 },
 "nbformat": 4,
 "nbformat_minor": 5
}
