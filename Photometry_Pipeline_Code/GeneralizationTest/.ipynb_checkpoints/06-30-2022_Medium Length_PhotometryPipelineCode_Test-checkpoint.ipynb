{
 "cells": [
  {
   "cell_type": "markdown",
   "id": "4c9febe9",
   "metadata": {},
   "source": [
    "# GJ3470b Photometry Pipeline Code Test"
   ]
  },
  {
   "cell_type": "markdown",
   "id": "d8211002",
   "metadata": {},
   "source": [
    "Package Requirments:\n",
    "- JWST Pipeline version 1.3.1 or higher \n",
    "- tshirt Pipeline\n",
    "-pandas \n",
    "- splintegrate "
   ]
  },
  {
   "cell_type": "markdown",
   "id": "5ae6a679",
   "metadata": {},
   "source": [
    "# Import Library"
   ]
  },
  {
   "cell_type": "code",
   "execution_count": 1,
   "id": "620088d4",
   "metadata": {},
   "outputs": [
    {
     "name": "stdout",
     "output_type": "stream",
     "text": [
      "The Version of the JWST Pipeline is 1.5.2\n",
      "Could not import ccdproc, so some CCD-like processing may not work.\n"
     ]
    }
   ],
   "source": [
    "import sys\n",
    "\n",
    "#Enter unique directory where the PhotometryPipelineCode.py file is \n",
    "sys.path.insert(0, '/home/kglidic/Software/Data_Challenge_Simulation_Pipeline_test/Photometry_Pipeline_Code/') \n",
    "\n",
    "from PhotometryPipelineCode import PhotometryPipeline, log_output\n",
    "\n",
    "#Display plots in the notebook\n",
    "%matplotlib inline \n",
    "\n",
    "#%load_ext autoreload\n",
    "#%autoreload 2"
   ]
  },
  {
   "cell_type": "markdown",
   "id": "01275b74",
   "metadata": {},
   "source": [
    "### Parameter Defenitions\n",
    "----------\n",
    "- TargetName: str\n",
    "    A unique name for the target\n",
    "- rawFilesDirectory: dir\n",
    "    A directory containing raw uncalibrated files only\n",
    "- output_dir: dir \n",
    "    An output directory for “_rate” (0_rampfitstep) and “_rateints” (1_rampfitstep) files\n",
    "- STAGE3: str\n",
    "    Support either 'JWST' or 'tshirt'. Directs code what pipeline to use for stage 3. \n",
    "- radii_values: array (*optional)\n",
    "    Array of radii sizes for circular apetures in the form [radius_src, radius_inner, radius_outer]\n",
    "- recalculate: bool\n",
    "    Recalculate photometry (all stages)? \n",
    "- simulation: bool\n",
    "    Is this simulation data?\n",
    "- sweep: bool\n",
    "    Preform an aperture sweep?\n",
    "- showPlot: bool\n",
    "    Show plots? \n",
    "- add_noutputs_keyword: bool\n",
    "    Modify the uncal file NOUTPUTS. This is DANGEROUS. Only use for older mirage simulations that lacked NOUTPUTS keyword.\n",
    "- useMultiprocessing: bool\n",
    "    Use Multiprocessing?\n",
    "    \n",
    "\n",
    "To get help on the Function: \n",
    "help(PhotometryPipeline)"
   ]
  },
  {
   "cell_type": "markdown",
   "id": "3f6f780b",
   "metadata": {},
   "source": [
    "## Testing the JWST Pipeline"
   ]
  },
  {
   "cell_type": "code",
   "execution_count": 2,
   "id": "df09a9bd",
   "metadata": {},
   "outputs": [],
   "source": [
    "TargetName = 'GJ3470b'\n",
    "rawFilesDirectory = '/fenrirdata1/kg_data/pipeline_output/GJ3470b_WLP8/Raw_Data/'\n",
    "output_dir = '/fenrirdata1/kg_data/pipeline_output/GJ3470b_WLP8/ROEBA/GeneralizationTest/' #If the output_dir does not exist, PhotometryPipeline will create it\n",
    "radii_values=[50, 60, 90] #Radii Aperture Values: radius_src, radius_inner, radius_outer"
   ]
  },
  {
   "cell_type": "markdown",
   "id": "886fb643",
   "metadata": {},
   "source": [
    "### Create an External File for Logging Output\n",
    "The first time you run this code in a Jupyter Notebook, the JWST pipeline will want to log information. \n",
    "In order to surpress the log information, and have it log to a seperate file, run the below code cell until you see: \n",
    "- \"Configuration file and output file for the JWST Pipeline Log has been created in the working directory: HATP14b_stpipe-log.cfg & HATP14b_pipeline.log\n",
    "\" \n",
    "\n",
    "Then, restart kernel and run notebook again. Log information will go to a file called HATP14b_pipeline.log in this working directory."
   ]
  },
  {
   "cell_type": "code",
   "execution_count": 3,
   "id": "a3663ba8",
   "metadata": {},
   "outputs": [
    {
     "name": "stdout",
     "output_type": "stream",
     "text": [
      "Configuration file and output file for the JWST Pipeline Log has been created in the working directory: GJ3470b_stpipe-log.cfg & GJ3470b_pipeline.log\n"
     ]
    }
   ],
   "source": [
    "log_output(TargetName, output_dir)"
   ]
  },
  {
   "cell_type": "code",
   "execution_count": null,
   "id": "ad834909",
   "metadata": {},
   "outputs": [
    {
     "name": "stdout",
     "output_type": "stream",
     "text": [
      "\u001b[1mSTAGE 1 IN PROGRESS\u001b[0m\n",
      "The target is located on detector A3\n",
      "Working with Simulation data\n",
      "Working with SUBGRISM256\n",
      "The Aperture ReCentered Position: 1056.5,166.5\n",
      "jw01185016001_01101_00001-seg001_nrca3_1_rampfitstep.fits does't exist or recalculation is TRUE ... processing slopes-to-ramps\n",
      "Note: File Search comes up empty\n"
     ]
    },
    {
     "name": "stderr",
     "output_type": "stream",
     "text": [
      "100%|█████████████████████████████████████████| 320/320 [01:55<00:00,  2.77it/s]\n"
     ]
    },
    {
     "name": "stdout",
     "output_type": "stream",
     "text": [
      "jw01185016001_01101_00001-seg001_nrca3_1_rampfitstep.fits\u001b[1m EXISTS\u001b[0m\n",
      "jw01185016001_01101_00001-seg002_nrca3_1_rampfitstep.fits does't exist or recalculation is TRUE ... processing slopes-to-ramps\n",
      "Note: File Search comes up empty\n"
     ]
    },
    {
     "name": "stderr",
     "output_type": "stream",
     "text": [
      "100%|█████████████████████████████████████████| 320/320 [02:05<00:00,  2.55it/s]\n"
     ]
    }
   ],
   "source": [
    "#STAGE 3 can be JWST\n",
    "PhotometryPipeline(TargetName,rawFilesDirectory,output_dir, STAGE3='JWST', radii_values=[50, 60, 90], showPlot=True, simulation = True, recalculate=False, add_noutputs_keyword=True, useMultiprocessing=True)"
   ]
  },
  {
   "cell_type": "markdown",
   "id": "0b3fafe6",
   "metadata": {},
   "source": [
    "## Testing the tshirt Pipeline\n"
   ]
  },
  {
   "cell_type": "code",
   "execution_count": null,
   "id": "8266e718",
   "metadata": {},
   "outputs": [],
   "source": [
    "PhotometryPipeline(TargetName,rawFilesDirectory,output_dir, STAGE3='tshirt', radii_values=[50, 60, 90], sweep =True, showPlot=True, recalculate=False, simulation = True, add_noutputs_keyword=True, useMultiprocessing=True)"
   ]
  },
  {
   "cell_type": "code",
   "execution_count": null,
   "id": "1d70d7f6",
   "metadata": {},
   "outputs": [],
   "source": []
  }
 ],
 "metadata": {
  "kernelspec": {
   "display_name": "Python 3 (ipykernel)",
   "language": "python",
   "name": "python3"
  },
  "language_info": {
   "codemirror_mode": {
    "name": "ipython",
    "version": 3
   },
   "file_extension": ".py",
   "mimetype": "text/x-python",
   "name": "python",
   "nbconvert_exporter": "python",
   "pygments_lexer": "ipython3",
   "version": "3.8.13"
  }
 },
 "nbformat": 4,
 "nbformat_minor": 5
}
